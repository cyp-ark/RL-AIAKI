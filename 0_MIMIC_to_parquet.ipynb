{
 "cells": [
  {
   "cell_type": "code",
   "execution_count": null,
   "metadata": {},
   "outputs": [],
   "source": [
    "import pandas as pd\n",
    "import sys, os, utils\n",
    "from tqdm import tqdm\n",
    "\n",
    "if os.getcwd()[-4:] == \"code\":\n",
    "    os.chdir('../')\n",
    "\n",
    "icu  = \"./data/mimic/mimic-iv-2.2/icu/\"\n",
    "hosp = \"./data/mimic/mimic-iv-2.2/hosp/\"\n",
    "ed   = \"./data/mimic/mimic-iv-ed-2.2/ed/\"\n",
    "\n",
    "icu_parquet  = \"./data/mimic-iv-2.2-parquet/icu/\"\n",
    "hosp_parquet = \"./data/mimic-iv-2.2-parquet/hosp/\"\n",
    "ed_parquet   = \"./data/mimic-iv-2.2-parquet/ed/\""
   ]
  },
  {
   "cell_type": "code",
   "execution_count": null,
   "metadata": {},
   "outputs": [],
   "source": [
    "for i in tqdm(os.listdir(icu)):\n",
    "    if not os.path.isfile(icu_parquet + i[:-7] + \".parquet\"):\n",
    "        print(\"Processing %s\"%i)\n",
    "        globals()[\"{}\".format(i[:-7])] = pd.read_csv(icu + i,compression=\"gzip\",low_memory=False)\n",
    "        globals()[\"{}\".format(i[:-7])] = utils.columns_to_datetime(globals()[\"{}\".format(i[:-7])])\n",
    "        globals()[\"{}\".format(i[:-7])].to_parquet(icu_parquet + i[:-7] + \".parquet\")\n",
    "        print(\"Finish %s to parquet\"%i)"
   ]
  },
  {
   "cell_type": "code",
   "execution_count": 4,
   "metadata": {},
   "outputs": [],
   "source": [
    "for i in tqdm(os.listdir(hosp)):\n",
    "    if not os.path.isfile(hosp_parquet + i[:-7] + \".parquet\"):\n",
    "        print(\"Processing %s\"%i)\n",
    "        globals()[\"{}\".format(i[:-7])] = pd.read_csv(hosp + i,compression=\"gzip\",low_memory=False)\n",
    "        globals()[\"{}\".format(i[:-7])] = utils.columns_to_datetime(globals()[\"{}\".format(i[:-7])])\n",
    "        globals()[\"{}\".format(i[:-7])].to_parquet(hosp_parquet + i[:-7] + \".parquet\")\n",
    "        print(\"Finish %s to parquet\"%i)"
   ]
  },
  {
   "cell_type": "code",
   "execution_count": null,
   "metadata": {},
   "outputs": [],
   "source": [
    "for i in tqdm(os.listdir(ed)):\n",
    "    if not os.path.isfile(ed_parquet + i[:-7] + \".parquet\"):\n",
    "        print(\"Processing %s\"%i)\n",
    "        globals()[\"{}\".format(i[:-7])] = pd.read_csv(ed + i,compression=\"gzip\",low_memory=False)\n",
    "        globals()[\"{}\".format(i[:-7])] = utils.columns_to_datetime(globals()[\"{}\".format(i[:-7])])\n",
    "        globals()[\"{}\".format(i[:-7])].to_parquet(ed_parquet + i[:-7] + \".parquet\")\n",
    "        print(\"Finish %s to parquet\"%i)"
   ]
  },
  {
   "cell_type": "code",
   "execution_count": null,
   "metadata": {},
   "outputs": [],
   "source": []
  }
 ],
 "metadata": {
  "kernelspec": {
   "display_name": "vujade",
   "language": "python",
   "name": "python3"
  },
  "language_info": {
   "codemirror_mode": {
    "name": "ipython",
    "version": 3
   },
   "file_extension": ".py",
   "mimetype": "text/x-python",
   "name": "python",
   "nbconvert_exporter": "python",
   "pygments_lexer": "ipython3",
   "version": "3.8.13"
  }
 },
 "nbformat": 4,
 "nbformat_minor": 2
}
