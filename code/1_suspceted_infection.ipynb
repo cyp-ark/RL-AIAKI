{
 "cells": [
  {
   "cell_type": "code",
   "execution_count": 1,
   "metadata": {},
   "outputs": [],
   "source": [
    "import pandas as pd\n",
    "import numpy as np\n",
    "import sys, os\n",
    "from tqdm.notebook import tqdm\n",
    "from datetime import timedelta\n",
    "import matplotlib.pyplot as plt\n",
    "import pickle\n",
    "\n",
    "if os.getcwd()[-4:] == \"code\":\n",
    "    os.chdir('../')\n",
    "\n",
    "icu = './data/mimic-iv-2.2-parquet/icu/'\n",
    "hosp = './data/mimic-iv-2.2-parquet/hosp/'"
   ]
  },
  {
   "cell_type": "code",
   "execution_count": 2,
   "metadata": {},
   "outputs": [],
   "source": [
    "labevents     = pd.read_parquet(hosp+'labevents.parquet')\n",
    "d_labitems    = pd.read_parquet(hosp+'d_labitems.parquet')\n",
    "\n",
    "patients      = pd.read_parquet(hosp+'patients.parquet')\n",
    "admissions    = pd.read_parquet(hosp+'admissions.parquet')\n",
    "\n",
    "diagnoses_icd = pd.read_parquet(hosp+'diagnoses_icd.parquet')\n",
    "microbiology  = pd.read_parquet(hosp+'microbiologyevents.parquet')\n",
    "prescriptions = pd.read_parquet(hosp+'prescriptions.parquet')"
   ]
  },
  {
   "cell_type": "code",
   "execution_count": 3,
   "metadata": {},
   "outputs": [],
   "source": [
    "chartevents     = pd.read_parquet(icu+'chartevents.parquet')\n",
    "d_items         = pd.read_parquet(icu+'d_items.parquet')\n",
    "inputevents     = pd.read_parquet(icu+'inputevents.parquet')\n",
    "procedureevents = pd.read_parquet(icu+'procedureevents.parquet')\n",
    "icustays        = pd.read_parquet(icu+'icustays.parquet')"
   ]
  },
  {
   "cell_type": "code",
   "execution_count": 4,
   "metadata": {},
   "outputs": [],
   "source": [
    "icd9_suspected_infection = ['001', '002', '003', '004', '005', '006', '007', '008', '009', '010', \n",
    "                           '011', '012', '013', '014', '015', '016', '017', '018', '019', '020', \n",
    "                           '021', '022', '023', '024', '025', '026', '027', '028', '029', '030', \n",
    "                           '031', '032', '033', '034', '035', '036', '037', '038', '039', '040', \n",
    "                           '041', '042', '043', '044', '045', '046', '047', '048', '049', '050', \n",
    "                           '051', '052', '053', '054', '055', '056', '057', '058', '059', '060', \n",
    "                           '061', '062', '063', '064', '065', '066', '067', '068', '069', '070', \n",
    "                           '071', '072', '073', '074', '075', '076', '077', '078', '079', '080', \n",
    "                           '081', '082', '083', '084', '085', '086', '087', '088', '089', '090', \n",
    "                           '091', '092', '093', '094', '095', '096', '097', '098', '099', '100', \n",
    "                           '101', '102', '103', '104', '105', '106', '107', '108', '109', '110', \n",
    "                           '111', '112', '113', '114', '115', '116', '117', '118', '119', '120', \n",
    "                           '121', '122', '123', '124', '125', '126', '127', '128', '129', '130', \n",
    "                           '131', '132', '133', '134', '135', '136', '137', '138', '139', '320', \n",
    "                           '321', '322', '323', '324', '325', '326', '42090', '420', '421', '422', \n",
    "                           '4476', '460', '461', '462', '463', '464', '465', '482', '483', '484', \n",
    "                           '485', '486', '487', '488', '466', '523', '52800', '5283', '6820', '53110', \n",
    "                           '53120', '53160', '53210', '53220', '53250', '53410', '53420', '53450', \n",
    "                           '542', '541', '562', '566', '5695', '56983', '567', '99859', '572', \n",
    "                           '5740', '5741', '5742', '5743', '5744', '5745', '5746', '5747', '5748', \n",
    "                           '5750', '5751', '5754', '5759', '5761', '5763', '681', '682', '683', \n",
    "                           '684', '685', '686', '711', '590', '595', '597', '5990', '601', '604', \n",
    "                           '608', '611', '614', '615', '616', '646', '670', '647', '675', '672', \n",
    "                           '7806', '7806', '78559', '7855', '99592', '78552', '7919', '7920', '7929', \n",
    "                           '7924', '7922', '7929', '7907']"
   ]
  },
  {
   "cell_type": "code",
   "execution_count": 5,
   "metadata": {},
   "outputs": [],
   "source": [
    "icd10_suspected_infection = ['A', 'B', 'G00', 'G01', 'G02', 'G03', 'G04', 'G05', 'G06', 'G07', 'G08',\n",
    "                              'G09', 'I30', 'I32', 'I33', 'I40', 'I776', 'J00', 'J01', 'J02', 'J03', \n",
    "                              'J04', 'J05', 'J06', 'J09', 'J10', 'J11', 'J12', 'J13', 'J14', 'J15', \n",
    "                              'J16', 'J17', 'J18', 'J20', 'J21', 'J22', 'K05', 'K122', 'K251', 'K252', \n",
    "                              'K256', 'K261', 'K262', 'K265', 'K281', 'K282', 'K285', 'K35', 'K36', 'K37', \n",
    "                              'K57', 'K61', 'K630', 'K631', 'K65', 'K681', 'K750', 'K800', 'K801', 'K803', \n",
    "                              'K804', 'K806', 'K81', 'K822', 'K82A', 'K830', 'K832', 'L00', 'L01', 'L02', \n",
    "                              'L03', 'L04', 'L05', 'L06', 'L07', 'L08', 'M00', 'M01', 'M02', 'N10', 'N30', \n",
    "                              'N34', 'N390', 'N41', 'N45', 'N49', 'N61', 'N70', 'N71', 'N72', 'N73', 'N74', \n",
    "                              'N75', 'N76', 'N77', 'O23', 'O85', 'O86', 'O91', 'O98', 'R508', 'R509', 'R578', \n",
    "                              'R579', 'R652', 'R827', 'R835', 'R845', 'R855', 'R865', 'R875', 'R7881']"
   ]
  },
  {
   "cell_type": "code",
   "execution_count": 6,
   "metadata": {},
   "outputs": [],
   "source": [
    "prescription_antibiotics = ['amikacin', 'gentamicin', 'kanamycin', 'netilmicin', 'tobramycin', 'paromomycin', 'spectinomycin', 'geldanamycin', \n",
    "                            'ertapenem', 'doripenem', 'imipenem', 'meropenem', 'cefadroxil', 'cefalexin', 'cefaclor', 'cefoxitin', 'cefprozil', \n",
    "                            'cefamandole', 'cefuroxime', 'cefixime', 'cefotaxime', 'cefpodoxime', 'ceftazidime', 'ceftriaxone', 'cefepime', 'vancomycin', \n",
    "                            'vanc', 'clindamycin', 'daptomycin', 'azithromycin', 'clarithromycin', 'erythromycin', 'telithromycin', 'aztreonam', \n",
    "                            'nitrofurantoin', 'linezolid', 'amoxicillin', 'ampicillin', 'dicloxacillin', 'flucloxacillin', 'methicillin', 'nafcillin', \n",
    "                            'oxacillin', 'penicillin', 'piperacillin', 'cefotetan', 'ticarcillin', 'timentin', 'colistin', 'bactrim', 'polymyxin', \n",
    "                            'ciprofloxacin', 'gatifloxacin', 'levofloxacin', 'moxifloxacin', 'nalidixic acid', 'norfloxacin', 'ofloxacin', 'trovafloxacin', \n",
    "                            'sulfadiazine', 'sulfamethoxazole', 'trimethoprim', 'TMP', 'doxycycline', 'minocycline', 'tetracycline', 'dapsone', 'ethambutol', \n",
    "                            'isoniazid', 'pyrazinamide', 'rifampicin', 'rifampin', 'rifabutin', 'streptomycin', 'chloramphenicol', 'synercid', 'fosfomycin', \n",
    "                            'metronidazole', 'mupirocin', 'quinupristin', 'tigecycline', 'unasyn']"
   ]
  },
  {
   "cell_type": "code",
   "execution_count": 7,
   "metadata": {},
   "outputs": [],
   "source": [
    "d_antibiotics = d_items[(d_items['linksto']=='inputevents')&(d_items['category']=='Antibiotics')].itemid.unique()"
   ]
  },
  {
   "cell_type": "code",
   "execution_count": 8,
   "metadata": {},
   "outputs": [],
   "source": [
    "diagnoses_icd9  = diagnoses_icd[diagnoses_icd['icd_version']==9]\n",
    "diagnoses_icd10 = diagnoses_icd[diagnoses_icd['icd_version']==10]"
   ]
  },
  {
   "cell_type": "code",
   "execution_count": 9,
   "metadata": {},
   "outputs": [],
   "source": [
    "# Suspected infection with ICD9 code\n",
    "SI_icd9 = diagnoses_icd9[diagnoses_icd9['icd_code'].str.startswith(tuple(icd9_suspected_infection))].hadm_id.unique()\n",
    "\n",
    "# Suspected infection with ICD10 code\n",
    "SI_icd10 = diagnoses_icd10[diagnoses_icd10['icd_code'].str.startswith(tuple(icd10_suspected_infection))].hadm_id.unique()\n",
    "\n",
    "#Blood culture - icu\n",
    "SI_BC_icu = procedureevents[procedureevents['itemid'].isin([225401,225437])].hadm_id.unique()\n",
    "\n",
    "#Blood culture - hosp\n",
    "SI_BC_hosp = microbiology[microbiology['spec_itemid'].isin([70011,70012])].hadm_id.unique()\n",
    "\n",
    "#Prescription - icu\n",
    "prescriptions['drug'] = prescriptions['drug'].str.lower()\n",
    "SI_AB_hosp = prescriptions[prescriptions['drug'].isin(prescription_antibiotics)].hadm_id.unique()\n",
    "\n",
    "SI_AB_icu = inputevents[inputevents['itemid'].isin(d_antibiotics)].hadm_id.unique()"
   ]
  },
  {
   "cell_type": "code",
   "execution_count": 10,
   "metadata": {},
   "outputs": [],
   "source": [
    "hadm_id = np.concatenate([SI_icd9,SI_icd10,SI_AB_hosp,SI_AB_icu,SI_BC_hosp,SI_BC_hosp])"
   ]
  },
  {
   "cell_type": "code",
   "execution_count": 11,
   "metadata": {},
   "outputs": [
    {
     "data": {
      "text/plain": [
       "459530"
      ]
     },
     "execution_count": 11,
     "metadata": {},
     "output_type": "execute_result"
    }
   ],
   "source": [
    "len(hadm_id)"
   ]
  },
  {
   "cell_type": "code",
   "execution_count": 12,
   "metadata": {},
   "outputs": [
    {
     "data": {
      "text/plain": [
       "201518"
      ]
     },
     "execution_count": 12,
     "metadata": {},
     "output_type": "execute_result"
    }
   ],
   "source": [
    "hadm_id = np.unique(hadm_id)\n",
    "len(hadm_id)"
   ]
  },
  {
   "cell_type": "code",
   "execution_count": 13,
   "metadata": {},
   "outputs": [
    {
     "name": "stdout",
     "output_type": "stream",
     "text": [
      "hadm_id :  52240\n",
      "\n",
      "stay_id :  58820\n"
     ]
    }
   ],
   "source": [
    "icustays_SI = icustays[icustays['hadm_id'].isin(hadm_id)]\n",
    "\n",
    "print(\"hadm_id : \",len(icustays_SI.hadm_id.unique()))\n",
    "print(\"\\nstay_id : \",len(icustays_SI.stay_id.unique()))"
   ]
  },
  {
   "cell_type": "code",
   "execution_count": 16,
   "metadata": {},
   "outputs": [],
   "source": [
    "with open('./data/data_pickle/SI_hadm_id.pickle', 'wb') as f:\n",
    "    pickle.dump(icustays_SI.hadm_id.unique(), f)\n",
    "\n",
    "with open('./data/data_pickle/SI_stay_id.pickle', 'wb') as f:\n",
    "    pickle.dump(icustays_SI.stay_id.unique(), f)"
   ]
  },
  {
   "cell_type": "code",
   "execution_count": 17,
   "metadata": {},
   "outputs": [
    {
     "data": {
      "text/plain": [
       "66239"
      ]
     },
     "execution_count": 17,
     "metadata": {},
     "output_type": "execute_result"
    }
   ],
   "source": [
    "len(icustays.hadm_id.unique())"
   ]
  },
  {
   "cell_type": "code",
   "execution_count": 18,
   "metadata": {},
   "outputs": [
    {
     "data": {
      "text/plain": [
       "73181"
      ]
     },
     "execution_count": 18,
     "metadata": {},
     "output_type": "execute_result"
    }
   ],
   "source": [
    "len(icustays.stay_id.unique())"
   ]
  },
  {
   "cell_type": "code",
   "execution_count": null,
   "metadata": {},
   "outputs": [],
   "source": []
  }
 ],
 "metadata": {
  "kernelspec": {
   "display_name": "vujade",
   "language": "python",
   "name": "python3"
  },
  "language_info": {
   "codemirror_mode": {
    "name": "ipython",
    "version": 3
   },
   "file_extension": ".py",
   "mimetype": "text/x-python",
   "name": "python",
   "nbconvert_exporter": "python",
   "pygments_lexer": "ipython3",
   "version": "3.9.0"
  }
 },
 "nbformat": 4,
 "nbformat_minor": 2
}
