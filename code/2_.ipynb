{
 "cells": [
  {
   "cell_type": "code",
   "execution_count": 2,
   "metadata": {},
   "outputs": [],
   "source": [
    "import pandas as pd\n",
    "import numpy as np\n",
    "import sys, os\n",
    "from tqdm.notebook import tqdm\n",
    "from datetime import timedelta\n",
    "import matplotlib.pyplot as plt\n",
    "import pickle\n",
    "\n",
    "if os.getcwd()[-4:] == \"code\":\n",
    "    os.chdir('../')\n",
    "\n",
    "icu = './data/mimic-iv-2.2-parquet/icu/'\n",
    "hosp = './data/mimic-iv-2.2-parquet/hosp/'"
   ]
  },
  {
   "cell_type": "code",
   "execution_count": 3,
   "metadata": {},
   "outputs": [],
   "source": [
    "chartevents     = pd.read_parquet(icu+'chartevents.parquet')\n",
    "d_items         = pd.read_parquet(icu+'d_items.parquet')\n",
    "#inputevents     = pd.read_parquet(icu+'inputevents.parquet')\n",
    "#procedureevents = pd.read_parquet(icu+'procedureevents.parquet')\n",
    "#icustays        = pd.read_parquet(icu+'icustays.parquet')"
   ]
  },
  {
   "cell_type": "code",
   "execution_count": 5,
   "metadata": {},
   "outputs": [],
   "source": [
    "tmp = chartevents[chartevents['itemid'].isin([220739,223900,223901])]"
   ]
  },
  {
   "cell_type": "code",
   "execution_count": 6,
   "metadata": {},
   "outputs": [],
   "source": [
    "tmp = tmp[['subject_id','hadm_id','stay_id','charttime','itemid','valuenum']]"
   ]
  },
  {
   "cell_type": "code",
   "execution_count": 7,
   "metadata": {},
   "outputs": [],
   "source": [
    "pivot = tmp.pivot(index=['subject_id','hadm_id','stay_id','charttime'],columns='itemid',values='valuenum')"
   ]
  },
  {
   "cell_type": "code",
   "execution_count": 9,
   "metadata": {},
   "outputs": [],
   "source": [
    "pivot.reset_index(inplace=True)"
   ]
  },
  {
   "cell_type": "code",
   "execution_count": 12,
   "metadata": {},
   "outputs": [],
   "source": [
    "pivot['GCS'] = pivot[220739] + pivot[223900] + pivot[223901]"
   ]
  },
  {
   "cell_type": "code",
   "execution_count": 18,
   "metadata": {},
   "outputs": [],
   "source": [
    "pivot['charttime'] = pd.to_datetime(pivot['charttime'])"
   ]
  },
  {
   "cell_type": "code",
   "execution_count": 19,
   "metadata": {},
   "outputs": [],
   "source": [
    "pivot.sort_values(by=['subject_id','charttime'],inplace=True)"
   ]
  },
  {
   "cell_type": "code",
   "execution_count": 21,
   "metadata": {},
   "outputs": [
    {
     "data": {
      "text/plain": [
       "count    1.615359e+06\n",
       "mean     1.181600e+01\n",
       "std      3.714427e+00\n",
       "min      3.000000e+00\n",
       "25%      1.000000e+01\n",
       "50%      1.400000e+01\n",
       "75%      1.500000e+01\n",
       "max      1.500000e+01\n",
       "Name: GCS, dtype: float64"
      ]
     },
     "execution_count": 21,
     "metadata": {},
     "output_type": "execute_result"
    }
   ],
   "source": [
    "pivot.GCS.describe()"
   ]
  },
  {
   "cell_type": "code",
   "execution_count": 20,
   "metadata": {},
   "outputs": [
    {
     "data": {
      "text/html": [
       "<div>\n",
       "<style scoped>\n",
       "    .dataframe tbody tr th:only-of-type {\n",
       "        vertical-align: middle;\n",
       "    }\n",
       "\n",
       "    .dataframe tbody tr th {\n",
       "        vertical-align: top;\n",
       "    }\n",
       "\n",
       "    .dataframe thead th {\n",
       "        text-align: right;\n",
       "    }\n",
       "</style>\n",
       "<table border=\"1\" class=\"dataframe\">\n",
       "  <thead>\n",
       "    <tr style=\"text-align: right;\">\n",
       "      <th>itemid</th>\n",
       "      <th>subject_id</th>\n",
       "      <th>hadm_id</th>\n",
       "      <th>stay_id</th>\n",
       "      <th>charttime</th>\n",
       "      <th>220739</th>\n",
       "      <th>223900</th>\n",
       "      <th>223901</th>\n",
       "      <th>GCS</th>\n",
       "    </tr>\n",
       "  </thead>\n",
       "  <tbody>\n",
       "    <tr>\n",
       "      <th>423</th>\n",
       "      <td>10002495</td>\n",
       "      <td>24982426</td>\n",
       "      <td>36753294</td>\n",
       "      <td>2141-05-25 00:00:00</td>\n",
       "      <td>NaN</td>\n",
       "      <td>5.0</td>\n",
       "      <td>6.0</td>\n",
       "      <td>NaN</td>\n",
       "    </tr>\n",
       "    <tr>\n",
       "      <th>424</th>\n",
       "      <td>10002495</td>\n",
       "      <td>24982426</td>\n",
       "      <td>36753294</td>\n",
       "      <td>2141-05-25 04:00:00</td>\n",
       "      <td>NaN</td>\n",
       "      <td>4.0</td>\n",
       "      <td>6.0</td>\n",
       "      <td>NaN</td>\n",
       "    </tr>\n",
       "    <tr>\n",
       "      <th>658</th>\n",
       "      <td>10004235</td>\n",
       "      <td>24181354</td>\n",
       "      <td>34100191</td>\n",
       "      <td>2196-02-26 09:00:00</td>\n",
       "      <td>NaN</td>\n",
       "      <td>NaN</td>\n",
       "      <td>5.0</td>\n",
       "      <td>NaN</td>\n",
       "    </tr>\n",
       "    <tr>\n",
       "      <th>680</th>\n",
       "      <td>10004401</td>\n",
       "      <td>22869003</td>\n",
       "      <td>38292466</td>\n",
       "      <td>2144-04-06 04:00:00</td>\n",
       "      <td>NaN</td>\n",
       "      <td>NaN</td>\n",
       "      <td>6.0</td>\n",
       "      <td>NaN</td>\n",
       "    </tr>\n",
       "    <tr>\n",
       "      <th>1791</th>\n",
       "      <td>10011365</td>\n",
       "      <td>26712576</td>\n",
       "      <td>37153661</td>\n",
       "      <td>2166-02-15 09:00:00</td>\n",
       "      <td>NaN</td>\n",
       "      <td>1.0</td>\n",
       "      <td>4.0</td>\n",
       "      <td>NaN</td>\n",
       "    </tr>\n",
       "    <tr>\n",
       "      <th>...</th>\n",
       "      <td>...</td>\n",
       "      <td>...</td>\n",
       "      <td>...</td>\n",
       "      <td>...</td>\n",
       "      <td>...</td>\n",
       "      <td>...</td>\n",
       "      <td>...</td>\n",
       "      <td>...</td>\n",
       "    </tr>\n",
       "    <tr>\n",
       "      <th>1637201</th>\n",
       "      <td>19997473</td>\n",
       "      <td>27787494</td>\n",
       "      <td>32134105</td>\n",
       "      <td>2173-09-21 00:00:00</td>\n",
       "      <td>NaN</td>\n",
       "      <td>5.0</td>\n",
       "      <td>NaN</td>\n",
       "      <td>NaN</td>\n",
       "    </tr>\n",
       "    <tr>\n",
       "      <th>1637202</th>\n",
       "      <td>19997473</td>\n",
       "      <td>27787494</td>\n",
       "      <td>32134105</td>\n",
       "      <td>2173-09-21 05:00:00</td>\n",
       "      <td>NaN</td>\n",
       "      <td>5.0</td>\n",
       "      <td>NaN</td>\n",
       "      <td>NaN</td>\n",
       "    </tr>\n",
       "    <tr>\n",
       "      <th>1637249</th>\n",
       "      <td>19997752</td>\n",
       "      <td>29452285</td>\n",
       "      <td>34531437</td>\n",
       "      <td>2128-03-07 04:00:00</td>\n",
       "      <td>NaN</td>\n",
       "      <td>5.0</td>\n",
       "      <td>NaN</td>\n",
       "      <td>NaN</td>\n",
       "    </tr>\n",
       "    <tr>\n",
       "      <th>1637539</th>\n",
       "      <td>19999068</td>\n",
       "      <td>21606769</td>\n",
       "      <td>30143796</td>\n",
       "      <td>2161-08-30 09:00:00</td>\n",
       "      <td>NaN</td>\n",
       "      <td>4.0</td>\n",
       "      <td>NaN</td>\n",
       "      <td>NaN</td>\n",
       "    </tr>\n",
       "    <tr>\n",
       "      <th>1637540</th>\n",
       "      <td>19999068</td>\n",
       "      <td>21606769</td>\n",
       "      <td>30143796</td>\n",
       "      <td>2161-08-30 10:00:00</td>\n",
       "      <td>NaN</td>\n",
       "      <td>4.0</td>\n",
       "      <td>NaN</td>\n",
       "      <td>NaN</td>\n",
       "    </tr>\n",
       "  </tbody>\n",
       "</table>\n",
       "<p>6938 rows × 8 columns</p>\n",
       "</div>"
      ],
      "text/plain": [
       "itemid   subject_id   hadm_id   stay_id           charttime  220739  223900  \\\n",
       "423        10002495  24982426  36753294 2141-05-25 00:00:00     NaN     5.0   \n",
       "424        10002495  24982426  36753294 2141-05-25 04:00:00     NaN     4.0   \n",
       "658        10004235  24181354  34100191 2196-02-26 09:00:00     NaN     NaN   \n",
       "680        10004401  22869003  38292466 2144-04-06 04:00:00     NaN     NaN   \n",
       "1791       10011365  26712576  37153661 2166-02-15 09:00:00     NaN     1.0   \n",
       "...             ...       ...       ...                 ...     ...     ...   \n",
       "1637201    19997473  27787494  32134105 2173-09-21 00:00:00     NaN     5.0   \n",
       "1637202    19997473  27787494  32134105 2173-09-21 05:00:00     NaN     5.0   \n",
       "1637249    19997752  29452285  34531437 2128-03-07 04:00:00     NaN     5.0   \n",
       "1637539    19999068  21606769  30143796 2161-08-30 09:00:00     NaN     4.0   \n",
       "1637540    19999068  21606769  30143796 2161-08-30 10:00:00     NaN     4.0   \n",
       "\n",
       "itemid   223901  GCS  \n",
       "423         6.0  NaN  \n",
       "424         6.0  NaN  \n",
       "658         5.0  NaN  \n",
       "680         6.0  NaN  \n",
       "1791        4.0  NaN  \n",
       "...         ...  ...  \n",
       "1637201     NaN  NaN  \n",
       "1637202     NaN  NaN  \n",
       "1637249     NaN  NaN  \n",
       "1637539     NaN  NaN  \n",
       "1637540     NaN  NaN  \n",
       "\n",
       "[6938 rows x 8 columns]"
      ]
     },
     "execution_count": 20,
     "metadata": {},
     "output_type": "execute_result"
    }
   ],
   "source": [
    "pivot[pivot[220739].isna()]"
   ]
  },
  {
   "cell_type": "code",
   "execution_count": null,
   "metadata": {},
   "outputs": [],
   "source": []
  },
  {
   "cell_type": "code",
   "execution_count": 4,
   "metadata": {},
   "outputs": [],
   "source": [
    "labs = d_items[d_items['category']=='Labs'].itemid.unique()"
   ]
  },
  {
   "cell_type": "code",
   "execution_count": 7,
   "metadata": {},
   "outputs": [],
   "source": [
    "chartevents_labs = chartevents[chartevents['itemid'].isin(labs)]"
   ]
  },
  {
   "cell_type": "code",
   "execution_count": 9,
   "metadata": {},
   "outputs": [],
   "source": [
    "chartevents_labs = chartevents_labs[['subject_id','hadm_id','stay_id','charttime','itemid','valuenum']]"
   ]
  },
  {
   "cell_type": "code",
   "execution_count": 14,
   "metadata": {},
   "outputs": [
    {
     "name": "stderr",
     "output_type": "stream",
     "text": [
      "/var/folders/wb/hsgyhgm57kbgysv0zmm8fjgc0000gn/T/ipykernel_3895/2675119574.py:1: SettingWithCopyWarning: \n",
      "A value is trying to be set on a copy of a slice from a DataFrame\n",
      "\n",
      "See the caveats in the documentation: https://pandas.pydata.org/pandas-docs/stable/user_guide/indexing.html#returning-a-view-versus-a-copy\n",
      "  chartevents_labs.drop_duplicates(inplace=True)\n"
     ]
    }
   ],
   "source": [
    "chartevents_labs.drop_duplicates(inplace=True)"
   ]
  },
  {
   "cell_type": "code",
   "execution_count": 19,
   "metadata": {},
   "outputs": [
    {
     "name": "stderr",
     "output_type": "stream",
     "text": [
      "/var/folders/wb/hsgyhgm57kbgysv0zmm8fjgc0000gn/T/ipykernel_3895/143980799.py:1: SettingWithCopyWarning: \n",
      "A value is trying to be set on a copy of a slice from a DataFrame.\n",
      "Try using .loc[row_indexer,col_indexer] = value instead\n",
      "\n",
      "See the caveats in the documentation: https://pandas.pydata.org/pandas-docs/stable/user_guide/indexing.html#returning-a-view-versus-a-copy\n",
      "  chartevents_labs['count'] = 1\n"
     ]
    }
   ],
   "source": [
    "chartevents_labs['count'] = 1"
   ]
  },
  {
   "cell_type": "code",
   "execution_count": 20,
   "metadata": {},
   "outputs": [],
   "source": [
    "chartevents_labs_pivot = chartevents_labs.pivot(index = ['subject_id','hadm_id','stay_id','charttime'],columns = 'itemid',values = 'count')"
   ]
  },
  {
   "cell_type": "code",
   "execution_count": 21,
   "metadata": {},
   "outputs": [],
   "source": [
    "chartevents_labs_pivot.reset_index(inplace=True)"
   ]
  },
  {
   "cell_type": "code",
   "execution_count": 27,
   "metadata": {},
   "outputs": [],
   "source": [
    "chartevents_labs_pivot.fillna(0, inplace=True)"
   ]
  },
  {
   "cell_type": "code",
   "execution_count": 36,
   "metadata": {},
   "outputs": [],
   "source": [
    "chartevents_labs_pivot['sum_lab'] = chartevents_labs_pivot[chartevents_labs_pivot.columns[4:]].sum(axis=1)"
   ]
  },
  {
   "cell_type": "code",
   "execution_count": 38,
   "metadata": {},
   "outputs": [
    {
     "data": {
      "text/plain": [
       "count    1.922695e+06\n",
       "mean     6.274500e+00\n",
       "std      7.399284e+00\n",
       "min      1.000000e+00\n",
       "25%      1.000000e+00\n",
       "50%      2.000000e+00\n",
       "75%      9.000000e+00\n",
       "max      4.900000e+01\n",
       "Name: sum_lab, dtype: float64"
      ]
     },
     "execution_count": 38,
     "metadata": {},
     "output_type": "execute_result"
    }
   ],
   "source": [
    "chartevents_labs_pivot.sum_lab.describe()"
   ]
  },
  {
   "cell_type": "code",
   "execution_count": null,
   "metadata": {},
   "outputs": [],
   "source": []
  }
 ],
 "metadata": {
  "kernelspec": {
   "display_name": "vujade",
   "language": "python",
   "name": "python3"
  },
  "language_info": {
   "codemirror_mode": {
    "name": "ipython",
    "version": 3
   },
   "file_extension": ".py",
   "mimetype": "text/x-python",
   "name": "python",
   "nbconvert_exporter": "python",
   "pygments_lexer": "ipython3",
   "version": "3.8.13"
  }
 },
 "nbformat": 4,
 "nbformat_minor": 2
}
