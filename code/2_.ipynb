{
 "cells": [
  {
   "cell_type": "code",
   "execution_count": 1,
   "metadata": {},
   "outputs": [],
   "source": [
    "import pandas as pd\n",
    "import numpy as np\n",
    "import matplotlib.pyplot as plt\n",
    "import sys, os, pickle\n",
    "\n",
    "from tqdm.notebook import tqdm\n",
    "from datetime import timedelta\n",
    "#from utils import baseline_SCr\n",
    "\n",
    "if os.getcwd()[-4:] == \"code\":\n",
    "    os.chdir('../')\n",
    "\n",
    "icu  = './data/mimic-iv-2.2-parquet/icu/'\n",
    "hosp = './data/mimic-iv-2.2-parquet/hosp/'\n",
    "ed   = './data/mimic-iv-2.2-parquet/ed/'"
   ]
  },
  {
   "cell_type": "code",
   "execution_count": 2,
   "metadata": {},
   "outputs": [],
   "source": [
    "labevents     = pd.read_parquet(hosp+'labevents.parquet')\n",
    "d_labitems    = pd.read_parquet(hosp+'d_labitems.parquet')\n",
    "\n",
    "patients      = pd.read_parquet(hosp+'patients.parquet')\n",
    "admissions    = pd.read_parquet(hosp+'admissions.parquet')\n",
    "\n",
    "diagnoses_icd = pd.read_parquet(hosp+'diagnoses_icd.parquet')\n",
    "microbiology  = pd.read_parquet(hosp+'microbiologyevents.parquet')\n",
    "prescriptions = pd.read_parquet(hosp+'prescriptions.parquet')"
   ]
  },
  {
   "cell_type": "code",
   "execution_count": 3,
   "metadata": {},
   "outputs": [],
   "source": [
    "chartevents     = pd.read_parquet(icu+'chartevents.parquet')\n",
    "d_items         = pd.read_parquet(icu+'d_items.parquet')\n",
    "inputevents     = pd.read_parquet(icu+'inputevents.parquet')\n",
    "outputevents    = pd.read_parquet(icu+'outputevents.parquet')\n",
    "procedureevents = pd.read_parquet(icu+'procedureevents.parquet')\n",
    "icustays        = pd.read_parquet(icu+'icustays.parquet')\n",
    "outputevents    = pd.read_parquet(icu+'outputevents.parquet')"
   ]
  },
  {
   "cell_type": "code",
   "execution_count": 4,
   "metadata": {},
   "outputs": [],
   "source": [
    "omr = pd.read_parquet(hosp+'omr.parquet')"
   ]
  },
  {
   "cell_type": "code",
   "execution_count": 5,
   "metadata": {},
   "outputs": [],
   "source": [
    "vitalsign = pd.read_parquet(ed+'vitalsign.parquet')"
   ]
  },
  {
   "cell_type": "code",
   "execution_count": 6,
   "metadata": {},
   "outputs": [],
   "source": [
    "# to_datetime\n",
    "chartevents['charttime'] = pd.to_datetime(chartevents['charttime'])"
   ]
  },
  {
   "cell_type": "code",
   "execution_count": 7,
   "metadata": {},
   "outputs": [],
   "source": [
    "labvalues = pd.read_csv('./data/labvalues/labvalues.csv')\n",
    "vitals = pd.read_csv('./data/vitals/vitals.csv')"
   ]
  },
  {
   "cell_type": "markdown",
   "metadata": {},
   "source": [
    "# Demographic"
   ]
  },
  {
   "cell_type": "markdown",
   "metadata": {},
   "source": [
    "### Gender"
   ]
  },
  {
   "cell_type": "code",
   "execution_count": 77,
   "metadata": {},
   "outputs": [],
   "source": [
    "patients_gender = patients[['subject_id','gender']]\n",
    "patients_gender.loc[patients_gender.gender == 'F' , 'gender'] = 1\n",
    "patients_gender.loc[patients_gender.gender == 'M' , 'gender'] = 0"
   ]
  },
  {
   "cell_type": "code",
   "execution_count": 78,
   "metadata": {},
   "outputs": [
    {
     "data": {
      "text/html": [
       "<div>\n",
       "<style scoped>\n",
       "    .dataframe tbody tr th:only-of-type {\n",
       "        vertical-align: middle;\n",
       "    }\n",
       "\n",
       "    .dataframe tbody tr th {\n",
       "        vertical-align: top;\n",
       "    }\n",
       "\n",
       "    .dataframe thead th {\n",
       "        text-align: right;\n",
       "    }\n",
       "</style>\n",
       "<table border=\"1\" class=\"dataframe\">\n",
       "  <thead>\n",
       "    <tr style=\"text-align: right;\">\n",
       "      <th></th>\n",
       "      <th>subject_id</th>\n",
       "      <th>gender</th>\n",
       "    </tr>\n",
       "  </thead>\n",
       "  <tbody>\n",
       "    <tr>\n",
       "      <th>0</th>\n",
       "      <td>10000032</td>\n",
       "      <td>1</td>\n",
       "    </tr>\n",
       "    <tr>\n",
       "      <th>1</th>\n",
       "      <td>10000048</td>\n",
       "      <td>1</td>\n",
       "    </tr>\n",
       "    <tr>\n",
       "      <th>2</th>\n",
       "      <td>10000068</td>\n",
       "      <td>1</td>\n",
       "    </tr>\n",
       "    <tr>\n",
       "      <th>3</th>\n",
       "      <td>10000084</td>\n",
       "      <td>0</td>\n",
       "    </tr>\n",
       "    <tr>\n",
       "      <th>4</th>\n",
       "      <td>10000102</td>\n",
       "      <td>1</td>\n",
       "    </tr>\n",
       "    <tr>\n",
       "      <th>...</th>\n",
       "      <td>...</td>\n",
       "      <td>...</td>\n",
       "    </tr>\n",
       "    <tr>\n",
       "      <th>299707</th>\n",
       "      <td>19999828</td>\n",
       "      <td>1</td>\n",
       "    </tr>\n",
       "    <tr>\n",
       "      <th>299708</th>\n",
       "      <td>19999829</td>\n",
       "      <td>1</td>\n",
       "    </tr>\n",
       "    <tr>\n",
       "      <th>299709</th>\n",
       "      <td>19999840</td>\n",
       "      <td>0</td>\n",
       "    </tr>\n",
       "    <tr>\n",
       "      <th>299710</th>\n",
       "      <td>19999914</td>\n",
       "      <td>1</td>\n",
       "    </tr>\n",
       "    <tr>\n",
       "      <th>299711</th>\n",
       "      <td>19999987</td>\n",
       "      <td>1</td>\n",
       "    </tr>\n",
       "  </tbody>\n",
       "</table>\n",
       "<p>299712 rows × 2 columns</p>\n",
       "</div>"
      ],
      "text/plain": [
       "        subject_id gender\n",
       "0         10000032      1\n",
       "1         10000048      1\n",
       "2         10000068      1\n",
       "3         10000084      0\n",
       "4         10000102      1\n",
       "...            ...    ...\n",
       "299707    19999828      1\n",
       "299708    19999829      1\n",
       "299709    19999840      0\n",
       "299710    19999914      1\n",
       "299711    19999987      1\n",
       "\n",
       "[299712 rows x 2 columns]"
      ]
     },
     "execution_count": 78,
     "metadata": {},
     "output_type": "execute_result"
    }
   ],
   "source": [
    "patients_gender"
   ]
  },
  {
   "cell_type": "markdown",
   "metadata": {},
   "source": [
    "### Age"
   ]
  },
  {
   "cell_type": "code",
   "execution_count": 71,
   "metadata": {},
   "outputs": [],
   "source": [
    "icustays['intime'] = pd.to_datetime(icustays['intime'])\n",
    "icustays['outtime'] = pd.to_datetime(icustays['outtime'])"
   ]
  },
  {
   "cell_type": "code",
   "execution_count": 72,
   "metadata": {},
   "outputs": [],
   "source": [
    "icustays_intime = icustays[['subject_id','hadm_id','stay_id','intime']]\n",
    "patients_age = patients[['subject_id','anchor_age','anchor_year']]\n",
    "\n",
    "icustays_age = pd.merge(icustays_intime, patients_age, on = 'subject_id', how = 'left')"
   ]
  },
  {
   "cell_type": "code",
   "execution_count": 73,
   "metadata": {},
   "outputs": [],
   "source": [
    "icustays_age['anchor_age_delta'] = pd.to_timedelta(icustays_age['anchor_age']*365.25, unit='D')\n",
    "icustays_age['anchor_year'] = pd.to_datetime(icustays_age['anchor_year'],format=\"%Y\")\n",
    "\n",
    "icustays_age['delta'] = icustays_age['intime'] - icustays_age['anchor_year']\n",
    "icustays_age['age'] = ((icustays_age['anchor_age_delta'] + icustays_age['delta'])/365.25).dt.days\n",
    "\n",
    "icustays_age = icustays_age[['subject_id','hadm_id','stay_id','age']]"
   ]
  },
  {
   "cell_type": "code",
   "execution_count": 74,
   "metadata": {},
   "outputs": [
    {
     "data": {
      "text/html": [
       "<div>\n",
       "<style scoped>\n",
       "    .dataframe tbody tr th:only-of-type {\n",
       "        vertical-align: middle;\n",
       "    }\n",
       "\n",
       "    .dataframe tbody tr th {\n",
       "        vertical-align: top;\n",
       "    }\n",
       "\n",
       "    .dataframe thead th {\n",
       "        text-align: right;\n",
       "    }\n",
       "</style>\n",
       "<table border=\"1\" class=\"dataframe\">\n",
       "  <thead>\n",
       "    <tr style=\"text-align: right;\">\n",
       "      <th></th>\n",
       "      <th>subject_id</th>\n",
       "      <th>hadm_id</th>\n",
       "      <th>stay_id</th>\n",
       "      <th>age</th>\n",
       "    </tr>\n",
       "  </thead>\n",
       "  <tbody>\n",
       "    <tr>\n",
       "      <th>0</th>\n",
       "      <td>10000032</td>\n",
       "      <td>29079034</td>\n",
       "      <td>39553978</td>\n",
       "      <td>52</td>\n",
       "    </tr>\n",
       "    <tr>\n",
       "      <th>1</th>\n",
       "      <td>10000980</td>\n",
       "      <td>26913865</td>\n",
       "      <td>39765666</td>\n",
       "      <td>76</td>\n",
       "    </tr>\n",
       "    <tr>\n",
       "      <th>2</th>\n",
       "      <td>10001217</td>\n",
       "      <td>24597018</td>\n",
       "      <td>37067082</td>\n",
       "      <td>55</td>\n",
       "    </tr>\n",
       "    <tr>\n",
       "      <th>3</th>\n",
       "      <td>10001217</td>\n",
       "      <td>27703517</td>\n",
       "      <td>34592300</td>\n",
       "      <td>55</td>\n",
       "    </tr>\n",
       "    <tr>\n",
       "      <th>4</th>\n",
       "      <td>10001725</td>\n",
       "      <td>25563031</td>\n",
       "      <td>31205490</td>\n",
       "      <td>46</td>\n",
       "    </tr>\n",
       "    <tr>\n",
       "      <th>...</th>\n",
       "      <td>...</td>\n",
       "      <td>...</td>\n",
       "      <td>...</td>\n",
       "      <td>...</td>\n",
       "    </tr>\n",
       "    <tr>\n",
       "      <th>73176</th>\n",
       "      <td>19999442</td>\n",
       "      <td>26785317</td>\n",
       "      <td>32336619</td>\n",
       "      <td>43</td>\n",
       "    </tr>\n",
       "    <tr>\n",
       "      <th>73177</th>\n",
       "      <td>19999625</td>\n",
       "      <td>25304202</td>\n",
       "      <td>31070865</td>\n",
       "      <td>82</td>\n",
       "    </tr>\n",
       "    <tr>\n",
       "      <th>73178</th>\n",
       "      <td>19999828</td>\n",
       "      <td>25744818</td>\n",
       "      <td>36075953</td>\n",
       "      <td>48</td>\n",
       "    </tr>\n",
       "    <tr>\n",
       "      <th>73179</th>\n",
       "      <td>19999840</td>\n",
       "      <td>21033226</td>\n",
       "      <td>38978960</td>\n",
       "      <td>58</td>\n",
       "    </tr>\n",
       "    <tr>\n",
       "      <th>73180</th>\n",
       "      <td>19999987</td>\n",
       "      <td>23865745</td>\n",
       "      <td>36195440</td>\n",
       "      <td>57</td>\n",
       "    </tr>\n",
       "  </tbody>\n",
       "</table>\n",
       "<p>73181 rows × 4 columns</p>\n",
       "</div>"
      ],
      "text/plain": [
       "       subject_id   hadm_id   stay_id  age\n",
       "0        10000032  29079034  39553978   52\n",
       "1        10000980  26913865  39765666   76\n",
       "2        10001217  24597018  37067082   55\n",
       "3        10001217  27703517  34592300   55\n",
       "4        10001725  25563031  31205490   46\n",
       "...           ...       ...       ...  ...\n",
       "73176    19999442  26785317  32336619   43\n",
       "73177    19999625  25304202  31070865   82\n",
       "73178    19999828  25744818  36075953   48\n",
       "73179    19999840  21033226  38978960   58\n",
       "73180    19999987  23865745  36195440   57\n",
       "\n",
       "[73181 rows x 4 columns]"
      ]
     },
     "execution_count": 74,
     "metadata": {},
     "output_type": "execute_result"
    }
   ],
   "source": [
    "icustays_age"
   ]
  },
  {
   "cell_type": "markdown",
   "metadata": {},
   "source": [
    "### Race"
   ]
  },
  {
   "cell_type": "code",
   "execution_count": 81,
   "metadata": {},
   "outputs": [],
   "source": [
    "admissions_race = admissions[['subject_id','race']].copy()"
   ]
  },
  {
   "cell_type": "code",
   "execution_count": 82,
   "metadata": {},
   "outputs": [],
   "source": [
    "admissions_race['race'].replace(['ASIAN - ASIAN INDIAN', 'ASIAN - CHINESE','ASIAN - KOREAN', 'ASIAN - SOUTH EAST ASIAN'],'ASIAN',inplace=True)\n",
    "admissions_race['race'].replace(['BLACK/AFRICAN AMERICAN','BLACK/AFRICAN','BLACK/CAPE VERDEAN','BLACK/CARIBBEAN ISLAND'],'BLACK',inplace=True)\n",
    "admissions_race['race'].replace(['HISPANIC/LATINO - CENTRAL AMERICAN','HISPANIC/LATINO - COLUMBIAN','HISPANIC/LATINO - CUBAN','HISPANIC/LATINO - DOMINICAN','HISPANIC/LATINO - GUATEMALAN','HISPANIC/LATINO - HONDURAN','HISPANIC/LATINO - MEXICAN',\n",
    "                             'HISPANIC/LATINO - PUERTO RICAN','HISPANIC/LATINO - SALVADORAN','PORTUGUESE','SOUTH AMERICAN'],'HISPANIC OR LATINO',inplace=True)\n",
    "admissions_race['race'].replace(['NATIVE HAWAIIAN OR OTHER PACIFIC ISLANDER','AMERICAN INDIAN/ALASKA NATIVE'],'OTHER',inplace=True)\n",
    "admissions_race['race'].replace(['UNABLE TO OBTAIN','PATIENT DECLINED TO ANSWER'],'UNKNOWN',inplace=True)\n",
    "admissions_race['race'].replace(['WHITE - BRAZILIAN','WHITE - EASTERN EUROPEAN','WHITE - OTHER EUROPEAN','WHITE - RUSSIAN'],'WHITE',inplace=True)\n",
    "\n",
    "admissions_race = admissions_race.drop_duplicates()"
   ]
  },
  {
   "cell_type": "code",
   "execution_count": 83,
   "metadata": {},
   "outputs": [],
   "source": [
    "multiple = admissions_race.subject_id.value_counts().loc[lambda x : x > 1].to_frame()\n",
    "multiple.reset_index(inplace = True)\n",
    "multiple = multiple.subject_id.unique()\n",
    "\n",
    "hosp_race_multiple = admissions_race[admissions_race['subject_id'].isin(multiple)]\n",
    "\n",
    "sol = []\n",
    "multi = []\n",
    "for i in hosp_race_multiple.subject_id.unique() :\n",
    "    tmp = hosp_race_multiple[hosp_race_multiple['subject_id'] == i]\n",
    "    if (tmp['race'] == 'UNKNOWN').any() :\n",
    "        tmp = tmp[tmp['race'] != 'UNKNOWN']\n",
    "    if len(tmp) <2 :\n",
    "        sol.append(tmp)\n",
    "    else : \n",
    "        multi.append(tmp)\n",
    "sol = pd.concat(sol)\n",
    "multi = pd.concat(multi)\n",
    "\n",
    "multi['race'] = 'MULTIPLE RACE/ETHNICITY'\n",
    "multi.drop_duplicates(inplace=True)\n",
    "\n",
    "admissions_race = admissions_race[~admissions_race['subject_id'].isin(sol.subject_id.unique())]\n",
    "admissions_race = admissions_race[~admissions_race['subject_id'].isin(multi.subject_id.unique())]\n",
    "\n",
    "admissions_race = pd.concat([admissions_race,sol,multi])"
   ]
  },
  {
   "cell_type": "code",
   "execution_count": 84,
   "metadata": {},
   "outputs": [
    {
     "data": {
      "text/plain": [
       "race\n",
       "WHITE                      120002\n",
       "BLACK                       23061\n",
       "HISPANIC OR LATINO          10270\n",
       "UNKNOWN                      9142\n",
       "ASIAN                        7470\n",
       "OTHER                        6998\n",
       "MULTIPLE RACE/ETHNICITY      3790\n",
       "Name: count, dtype: int64"
      ]
     },
     "execution_count": 84,
     "metadata": {},
     "output_type": "execute_result"
    }
   ],
   "source": [
    "admissions_race.race.value_counts()"
   ]
  },
  {
   "cell_type": "markdown",
   "metadata": {},
   "source": [
    "## Height"
   ]
  },
  {
   "cell_type": "code",
   "execution_count": 18,
   "metadata": {},
   "outputs": [],
   "source": [
    "# Height(inch)\n",
    "chartevents_height_inch = chartevents[chartevents['itemid'].isin([226707])]\n",
    "chartevents_height_inch = chartevents_height_inch[['subject_id','hadm_id','stay_id','charttime','itemid','valuenum']]\n",
    "chartevents_height_inch['valuenum'] = (chartevents_height_inch['valuenum']*2.54).round(1)"
   ]
  },
  {
   "cell_type": "code",
   "execution_count": 19,
   "metadata": {},
   "outputs": [],
   "source": [
    "# Height(cm)\n",
    "chartevents_height_cm = chartevents[chartevents['itemid'].isin([226730])]\n",
    "chartevents_height_cm = chartevents_height_cm[['subject_id','hadm_id','stay_id','charttime','itemid','valuenum']]"
   ]
  },
  {
   "cell_type": "code",
   "execution_count": 20,
   "metadata": {},
   "outputs": [],
   "source": [
    "chartevents_height = pd.concat([chartevents_height_cm,chartevents_height_inch])\n",
    "chartevents_height['charttime'] = pd.to_datetime(chartevents_height['charttime'])\n",
    "chartevents_height.sort_values(by=['subject_id','hadm_id','stay_id','charttime'],inplace=True)\n",
    "chartevents_height = chartevents_height[(chartevents_height['valuenum']>0)&(chartevents_height['valuenum']<240)]"
   ]
  },
  {
   "cell_type": "code",
   "execution_count": 21,
   "metadata": {},
   "outputs": [
    {
     "name": "stderr",
     "output_type": "stream",
     "text": [
      "C:\\Users\\DAHS\\AppData\\Local\\Temp\\ipykernel_132268\\1647886970.py:2: SettingWithCopyWarning: \n",
      "A value is trying to be set on a copy of a slice from a DataFrame.\n",
      "Try using .loc[row_indexer,col_indexer] = value instead\n",
      "\n",
      "See the caveats in the documentation: https://pandas.pydata.org/pandas-docs/stable/user_guide/indexing.html#returning-a-view-versus-a-copy\n",
      "  omr_height['result_value'] = omr_height['result_value'].astype('float64')\n",
      "C:\\Users\\DAHS\\AppData\\Local\\Temp\\ipykernel_132268\\1647886970.py:3: SettingWithCopyWarning: \n",
      "A value is trying to be set on a copy of a slice from a DataFrame.\n",
      "Try using .loc[row_indexer,col_indexer] = value instead\n",
      "\n",
      "See the caveats in the documentation: https://pandas.pydata.org/pandas-docs/stable/user_guide/indexing.html#returning-a-view-versus-a-copy\n",
      "  omr_height['result_value'] = (omr_height['result_value']*2.54).round(1)\n"
     ]
    }
   ],
   "source": [
    "omr_height = omr[omr['result_name'].isin(['Height (Inches)', 'Height'])]\n",
    "omr_height['result_value'] = omr_height['result_value'].astype('float64')\n",
    "omr_height['result_value'] = (omr_height['result_value']*2.54).round(1)\n",
    "omr_height = omr_height[['subject_id','chartdate','result_value']]\n",
    "omr_height['chartdate'] = pd.to_datetime(omr_height['chartdate'])"
   ]
  },
  {
   "cell_type": "code",
   "execution_count": 22,
   "metadata": {},
   "outputs": [
    {
     "data": {
      "application/vnd.jupyter.widget-view+json": {
       "model_id": "15494dd6dc6a44a9bcbd2ec643bf3004",
       "version_major": 2,
       "version_minor": 0
      },
      "text/plain": [
       "  0%|          | 0/50920 [00:00<?, ?it/s]"
      ]
     },
     "metadata": {},
     "output_type": "display_data"
    }
   ],
   "source": [
    "def patients_height(icustays,chartevents_height,omr_height):\n",
    "    icustays['intime'] = pd.to_datetime(icustays['intime'])\n",
    "    chartevents_height['charttime'] = pd.to_datetime(chartevents_height['charttime'])\n",
    "    rt = []\n",
    "    for subject_id in tqdm(icustays.subject_id.unique()):\n",
    "        tmp_omr_weight = omr_height[omr_height['subject_id']==subject_id]\n",
    "        for stay_id in icustays[icustays['subject_id']==subject_id].stay_id.unique():\n",
    "            icustays_intime = icustays[icustays['stay_id'] == stay_id]['intime'].iloc[0]\n",
    "\n",
    "            admission_weight = 0\n",
    "\n",
    "            chartevents_weight_list = chartevents_height[chartevents_height['stay_id']==stay_id]\n",
    "            chartevents_weight_list = chartevents_weight_list[chartevents_weight_list['charttime'] >= icustays_intime]       \n",
    "            omr_weight_list = tmp_omr_weight[tmp_omr_weight['chartdate'] <= icustays_intime]\n",
    "            \n",
    "            if not chartevents_weight_list.empty:\n",
    "                admission_weight = chartevents_weight_list['valuenum'].iloc[0]\n",
    "            elif not omr_weight_list.empty:\n",
    "                admission_weight = omr_weight_list['result_value'].iloc[-1]\n",
    "            else : \n",
    "                admission_weight = np.nan\n",
    "\n",
    "            rt.append([subject_id,stay_id,admission_weight])\n",
    "    rt = pd.DataFrame(rt, columns = ['subject_id','stay_id','valuenum'])\n",
    "    return rt\n",
    "\n",
    "admission_height = patients_height(icustays,chartevents_height,omr_height)"
   ]
  },
  {
   "cell_type": "code",
   "execution_count": 23,
   "metadata": {},
   "outputs": [
    {
     "data": {
      "text/plain": [
       "41055"
      ]
     },
     "execution_count": 23,
     "metadata": {},
     "output_type": "execute_result"
    }
   ],
   "source": [
    "admission_height.valuenum.isna().sum()"
   ]
  },
  {
   "cell_type": "markdown",
   "metadata": {},
   "source": [
    "## Weight"
   ]
  },
  {
   "cell_type": "code",
   "execution_count": 24,
   "metadata": {},
   "outputs": [],
   "source": [
    "#Admission Weight(Kg)\n",
    "chartevents_weight_kg = chartevents[chartevents['itemid'].isin([226512])]\n",
    "chartevents_weight_kg = chartevents_weight_kg[['subject_id','hadm_id','stay_id','charttime','valuenum']]\n",
    "\n",
    "#Admission Weight(lbs.)\n",
    "chartevents_weight_lbs = chartevents[chartevents['itemid'].isin([226531])]\n",
    "chartevents_weight_lbs = chartevents_weight_lbs[['subject_id','hadm_id','stay_id','charttime','valuenum']]\n",
    "\n",
    "chartevents_weight_lbs['valuenum'] = (chartevents_weight_lbs['valuenum'] * 0.453592).round(1)\n",
    "chartevents_weight = pd.concat([chartevents_weight_kg,chartevents_weight_lbs])\n",
    "chartevents_weight.sort_values(by=['subject_id','hadm_id','stay_id','charttime'],inplace=True)\n",
    "chartevents_weight = chartevents_weight[(chartevents_weight['valuenum']>0)&(chartevents_weight['valuenum']<250)]"
   ]
  },
  {
   "cell_type": "code",
   "execution_count": 25,
   "metadata": {},
   "outputs": [
    {
     "name": "stderr",
     "output_type": "stream",
     "text": [
      "C:\\Users\\DAHS\\AppData\\Local\\Temp\\ipykernel_132268\\886211872.py:2: SettingWithCopyWarning: \n",
      "A value is trying to be set on a copy of a slice from a DataFrame.\n",
      "Try using .loc[row_indexer,col_indexer] = value instead\n",
      "\n",
      "See the caveats in the documentation: https://pandas.pydata.org/pandas-docs/stable/user_guide/indexing.html#returning-a-view-versus-a-copy\n",
      "  omr_weight['result_value'] = omr_weight['result_value'].astype('float64')\n",
      "C:\\Users\\DAHS\\AppData\\Local\\Temp\\ipykernel_132268\\886211872.py:3: SettingWithCopyWarning: \n",
      "A value is trying to be set on a copy of a slice from a DataFrame.\n",
      "Try using .loc[row_indexer,col_indexer] = value instead\n",
      "\n",
      "See the caveats in the documentation: https://pandas.pydata.org/pandas-docs/stable/user_guide/indexing.html#returning-a-view-versus-a-copy\n",
      "  omr_weight['result_value'] = (omr_weight['result_value']*0.453592).round(1)\n"
     ]
    }
   ],
   "source": [
    "omr_weight = omr[omr['result_name'].isin(['Weight','Weight (Lbs)'])]\n",
    "omr_weight['result_value'] = omr_weight['result_value'].astype('float64')\n",
    "omr_weight['result_value'] = (omr_weight['result_value']*0.453592).round(1)\n",
    "omr_weight = omr_weight[(omr_weight['result_value']>0)&(omr_weight['result_value']<250)]\n",
    "omr_weight['chartdate'] = pd.to_datetime(omr_weight['chartdate'])"
   ]
  },
  {
   "cell_type": "code",
   "execution_count": 26,
   "metadata": {},
   "outputs": [],
   "source": [
    "omr_weight = omr_weight[['subject_id','chartdate','result_value']]\n",
    "omr_weight.sort_values(by=['subject_id','chartdate'],inplace=True)"
   ]
  },
  {
   "cell_type": "code",
   "execution_count": 27,
   "metadata": {},
   "outputs": [
    {
     "data": {
      "application/vnd.jupyter.widget-view+json": {
       "model_id": "e91614e327114f2d8c24da07fd6ed99b",
       "version_major": 2,
       "version_minor": 0
      },
      "text/plain": [
       "  0%|          | 0/50920 [00:00<?, ?it/s]"
      ]
     },
     "metadata": {},
     "output_type": "display_data"
    }
   ],
   "source": [
    "def patients_weight(icustays,chartevents_weight,omr_weight,inputevents):\n",
    "    icustays['intime'] = pd.to_datetime(icustays['intime'])\n",
    "    chartevents_weight['charttime'] = pd.to_datetime(chartevents_weight['charttime'])\n",
    "    inputevents['starttime'] = pd.to_datetime(inputevents['starttime'])\n",
    "    rt = []\n",
    "    for subject_id in tqdm(icustays.subject_id.unique()):\n",
    "        tmp_omr_weight = omr_weight[omr_weight['subject_id']==subject_id]\n",
    "        for stay_id in icustays[icustays['subject_id']==subject_id].stay_id.unique():\n",
    "            icustays_intime = icustays[icustays['stay_id'] == stay_id]['intime'].iloc[0]\n",
    "\n",
    "            admission_weight = 0\n",
    "\n",
    "            chartevents_weight_list = chartevents_weight[chartevents_weight['stay_id']==stay_id]\n",
    "            chartevents_weight_list = chartevents_weight_list[chartevents_weight_list['charttime'] >= icustays_intime]       \n",
    "            omr_weight_list = tmp_omr_weight[tmp_omr_weight['chartdate'] <= icustays_intime]\n",
    "            inputevents_list = inputevents[inputevents['stay_id']==stay_id]\n",
    "            inputevents_list = inputevents_list[inputevents_list['starttime']>=icustays_intime].sort_values(by=['subject_id','hadm_id','stay_id','starttime'])\n",
    "\n",
    "            if not chartevents_weight_list.empty:\n",
    "                admission_weight = chartevents_weight_list['valuenum'].iloc[0]\n",
    "            elif not omr_weight_list.empty:\n",
    "                admission_weight = omr_weight_list['result_value'].iloc[-1]\n",
    "            elif not inputevents_list.empty:\n",
    "                admission_weight = inputevents_list['patientweight'].iloc[0]\n",
    "            else : \n",
    "                admission_weight = np.nan\n",
    "\n",
    "            rt.append([subject_id,stay_id,admission_weight])\n",
    "    rt = pd.DataFrame(rt, columns = ['subject_id','stay_id','valuenum'])\n",
    "    return rt\n",
    "\n",
    "admission_weight = patients_weight(icustays,chartevents_weight,omr_weight,inputevents)"
   ]
  },
  {
   "cell_type": "code",
   "execution_count": 36,
   "metadata": {},
   "outputs": [
    {
     "data": {
      "text/plain": [
       "73181"
      ]
     },
     "execution_count": 36,
     "metadata": {},
     "output_type": "execute_result"
    }
   ],
   "source": [
    "len(admission_weight)"
   ]
  },
  {
   "cell_type": "code",
   "execution_count": 62,
   "metadata": {},
   "outputs": [
    {
     "data": {
      "text/plain": [
       "193"
      ]
     },
     "execution_count": 62,
     "metadata": {},
     "output_type": "execute_result"
    }
   ],
   "source": [
    "admission_weight.valuenum.isna().sum()"
   ]
  },
  {
   "cell_type": "code",
   "execution_count": 63,
   "metadata": {},
   "outputs": [],
   "source": [
    "#admission_weight.to_parquet('./data/admission_weight.parquet')"
   ]
  },
  {
   "cell_type": "markdown",
   "metadata": {},
   "source": [
    "## Comorbidites"
   ]
  },
  {
   "cell_type": "code",
   "execution_count": 131,
   "metadata": {},
   "outputs": [],
   "source": [
    "comorbidities = pd.read_csv('./data/comorbidities.csv')"
   ]
  },
  {
   "cell_type": "code",
   "execution_count": 133,
   "metadata": {},
   "outputs": [
    {
     "data": {
      "application/vnd.jupyter.widget-view+json": {
       "model_id": "bd4d6f4a12e5417696e3b77f8e2d0ca2",
       "version_major": 2,
       "version_minor": 0
      },
      "text/plain": [
       "  0%|          | 0/9 [00:00<?, ?it/s]"
      ]
     },
     "metadata": {},
     "output_type": "display_data"
    }
   ],
   "source": [
    "def cal_comorbidities(icustays,comorbidities,diagnoses_icd):\n",
    "    for i,idx in enumerate(tqdm(comorbidities.abbreviation)):\n",
    "        icd9 = comorbidities.iloc[i].ICD9\n",
    "        icd9 = icd9.replace(\" \",\"\")\n",
    "        icd9 = icd9.split(\",\")\n",
    "        icd10 = comorbidities.iloc[i].ICD10\n",
    "        icd10 = icd10.replace(\" \",\"\")\n",
    "        icd10 = icd10.split(\",\")\n",
    "\n",
    "        tmp_icd9 = diagnoses_icd[(diagnoses_icd['icd_code'].str.startswith(tuple(icd9)))&(diagnoses_icd['icd_version']==9)]\n",
    "        tmp_icd10 = diagnoses_icd[(diagnoses_icd['icd_code'].str.startswith(tuple(icd10)))&(diagnoses_icd['icd_version']==10)]\n",
    "\n",
    "        tmp = pd.concat([tmp_icd9,tmp_icd10])\n",
    "        tmp[idx] = 1\n",
    "        tmp = tmp[['subject_id','hadm_id',idx]]\n",
    "        \n",
    "        if i == 0 :\n",
    "            rt = pd.merge(icustays,tmp, on=['subject_id','hadm_id'],how='left')\n",
    "        else : \n",
    "            rt = pd.merge(rt,tmp, on=['subject_id','hadm_id'],how='left')\n",
    "    rt = rt.fillna(0)\n",
    "    rt = rt[['subject_id','hadm_id','stay_id']+list(comorbidities.abbreviation)]\n",
    "    rt.drop_duplicates(inplace=True)\n",
    "    return rt\n",
    "\n",
    "como = cal_comorbidities(icustays,comorbidities,diagnoses_icd)"
   ]
  },
  {
   "cell_type": "code",
   "execution_count": 135,
   "metadata": {},
   "outputs": [
    {
     "data": {
      "text/html": [
       "<div>\n",
       "<style scoped>\n",
       "    .dataframe tbody tr th:only-of-type {\n",
       "        vertical-align: middle;\n",
       "    }\n",
       "\n",
       "    .dataframe tbody tr th {\n",
       "        vertical-align: top;\n",
       "    }\n",
       "\n",
       "    .dataframe thead th {\n",
       "        text-align: right;\n",
       "    }\n",
       "</style>\n",
       "<table border=\"1\" class=\"dataframe\">\n",
       "  <thead>\n",
       "    <tr style=\"text-align: right;\">\n",
       "      <th></th>\n",
       "      <th>subject_id</th>\n",
       "      <th>hadm_id</th>\n",
       "      <th>stay_id</th>\n",
       "      <th>LD</th>\n",
       "      <th>DH</th>\n",
       "      <th>HYP</th>\n",
       "      <th>CKD</th>\n",
       "      <th>MI</th>\n",
       "      <th>DM</th>\n",
       "      <th>VD</th>\n",
       "      <th>CHF</th>\n",
       "      <th>COPD</th>\n",
       "    </tr>\n",
       "  </thead>\n",
       "  <tbody>\n",
       "    <tr>\n",
       "      <th>4</th>\n",
       "      <td>10000980</td>\n",
       "      <td>26913865</td>\n",
       "      <td>39765666</td>\n",
       "      <td>0.0</td>\n",
       "      <td>0.0</td>\n",
       "      <td>1.0</td>\n",
       "      <td>1.0</td>\n",
       "      <td>1.0</td>\n",
       "      <td>1.0</td>\n",
       "      <td>0.0</td>\n",
       "      <td>1.0</td>\n",
       "      <td>0.0</td>\n",
       "    </tr>\n",
       "    <tr>\n",
       "      <th>15</th>\n",
       "      <td>10002155</td>\n",
       "      <td>20345487</td>\n",
       "      <td>32358465</td>\n",
       "      <td>0.0</td>\n",
       "      <td>1.0</td>\n",
       "      <td>1.0</td>\n",
       "      <td>1.0</td>\n",
       "      <td>1.0</td>\n",
       "      <td>0.0</td>\n",
       "      <td>0.0</td>\n",
       "      <td>0.0</td>\n",
       "      <td>1.0</td>\n",
       "    </tr>\n",
       "    <tr>\n",
       "      <th>16</th>\n",
       "      <td>10002155</td>\n",
       "      <td>23822395</td>\n",
       "      <td>33685454</td>\n",
       "      <td>0.0</td>\n",
       "      <td>1.0</td>\n",
       "      <td>1.0</td>\n",
       "      <td>1.0</td>\n",
       "      <td>1.0</td>\n",
       "      <td>0.0</td>\n",
       "      <td>0.0</td>\n",
       "      <td>1.0</td>\n",
       "      <td>0.0</td>\n",
       "    </tr>\n",
       "    <tr>\n",
       "      <th>20</th>\n",
       "      <td>10002155</td>\n",
       "      <td>28994087</td>\n",
       "      <td>31090461</td>\n",
       "      <td>0.0</td>\n",
       "      <td>0.0</td>\n",
       "      <td>1.0</td>\n",
       "      <td>1.0</td>\n",
       "      <td>1.0</td>\n",
       "      <td>0.0</td>\n",
       "      <td>0.0</td>\n",
       "      <td>1.0</td>\n",
       "      <td>0.0</td>\n",
       "    </tr>\n",
       "    <tr>\n",
       "      <th>31</th>\n",
       "      <td>10002430</td>\n",
       "      <td>26295318</td>\n",
       "      <td>38392119</td>\n",
       "      <td>0.0</td>\n",
       "      <td>0.0</td>\n",
       "      <td>0.0</td>\n",
       "      <td>1.0</td>\n",
       "      <td>0.0</td>\n",
       "      <td>0.0</td>\n",
       "      <td>0.0</td>\n",
       "      <td>1.0</td>\n",
       "      <td>0.0</td>\n",
       "    </tr>\n",
       "    <tr>\n",
       "      <th>...</th>\n",
       "      <td>...</td>\n",
       "      <td>...</td>\n",
       "      <td>...</td>\n",
       "      <td>...</td>\n",
       "      <td>...</td>\n",
       "      <td>...</td>\n",
       "      <td>...</td>\n",
       "      <td>...</td>\n",
       "      <td>...</td>\n",
       "      <td>...</td>\n",
       "      <td>...</td>\n",
       "      <td>...</td>\n",
       "    </tr>\n",
       "    <tr>\n",
       "      <th>188737</th>\n",
       "      <td>19998330</td>\n",
       "      <td>23151993</td>\n",
       "      <td>31085771</td>\n",
       "      <td>0.0</td>\n",
       "      <td>0.0</td>\n",
       "      <td>1.0</td>\n",
       "      <td>1.0</td>\n",
       "      <td>0.0</td>\n",
       "      <td>1.0</td>\n",
       "      <td>0.0</td>\n",
       "      <td>1.0</td>\n",
       "      <td>1.0</td>\n",
       "    </tr>\n",
       "    <tr>\n",
       "      <th>188739</th>\n",
       "      <td>19998330</td>\n",
       "      <td>24096838</td>\n",
       "      <td>31199714</td>\n",
       "      <td>0.0</td>\n",
       "      <td>1.0</td>\n",
       "      <td>1.0</td>\n",
       "      <td>1.0</td>\n",
       "      <td>0.0</td>\n",
       "      <td>1.0</td>\n",
       "      <td>0.0</td>\n",
       "      <td>1.0</td>\n",
       "      <td>1.0</td>\n",
       "    </tr>\n",
       "    <tr>\n",
       "      <th>188741</th>\n",
       "      <td>19998330</td>\n",
       "      <td>24096838</td>\n",
       "      <td>33428243</td>\n",
       "      <td>0.0</td>\n",
       "      <td>1.0</td>\n",
       "      <td>1.0</td>\n",
       "      <td>1.0</td>\n",
       "      <td>0.0</td>\n",
       "      <td>1.0</td>\n",
       "      <td>0.0</td>\n",
       "      <td>1.0</td>\n",
       "      <td>1.0</td>\n",
       "    </tr>\n",
       "    <tr>\n",
       "      <th>188743</th>\n",
       "      <td>19998330</td>\n",
       "      <td>24492004</td>\n",
       "      <td>32641669</td>\n",
       "      <td>0.0</td>\n",
       "      <td>0.0</td>\n",
       "      <td>1.0</td>\n",
       "      <td>1.0</td>\n",
       "      <td>0.0</td>\n",
       "      <td>1.0</td>\n",
       "      <td>0.0</td>\n",
       "      <td>1.0</td>\n",
       "      <td>1.0</td>\n",
       "    </tr>\n",
       "    <tr>\n",
       "      <th>188770</th>\n",
       "      <td>19999625</td>\n",
       "      <td>25304202</td>\n",
       "      <td>31070865</td>\n",
       "      <td>0.0</td>\n",
       "      <td>1.0</td>\n",
       "      <td>1.0</td>\n",
       "      <td>1.0</td>\n",
       "      <td>0.0</td>\n",
       "      <td>0.0</td>\n",
       "      <td>0.0</td>\n",
       "      <td>0.0</td>\n",
       "      <td>0.0</td>\n",
       "    </tr>\n",
       "  </tbody>\n",
       "</table>\n",
       "<p>15869 rows × 12 columns</p>\n",
       "</div>"
      ],
      "text/plain": [
       "        subject_id   hadm_id   stay_id   LD   DH  HYP  CKD   MI   DM   VD  \\\n",
       "4         10000980  26913865  39765666  0.0  0.0  1.0  1.0  1.0  1.0  0.0   \n",
       "15        10002155  20345487  32358465  0.0  1.0  1.0  1.0  1.0  0.0  0.0   \n",
       "16        10002155  23822395  33685454  0.0  1.0  1.0  1.0  1.0  0.0  0.0   \n",
       "20        10002155  28994087  31090461  0.0  0.0  1.0  1.0  1.0  0.0  0.0   \n",
       "31        10002430  26295318  38392119  0.0  0.0  0.0  1.0  0.0  0.0  0.0   \n",
       "...            ...       ...       ...  ...  ...  ...  ...  ...  ...  ...   \n",
       "188737    19998330  23151993  31085771  0.0  0.0  1.0  1.0  0.0  1.0  0.0   \n",
       "188739    19998330  24096838  31199714  0.0  1.0  1.0  1.0  0.0  1.0  0.0   \n",
       "188741    19998330  24096838  33428243  0.0  1.0  1.0  1.0  0.0  1.0  0.0   \n",
       "188743    19998330  24492004  32641669  0.0  0.0  1.0  1.0  0.0  1.0  0.0   \n",
       "188770    19999625  25304202  31070865  0.0  1.0  1.0  1.0  0.0  0.0  0.0   \n",
       "\n",
       "        CHF  COPD  \n",
       "4       1.0   0.0  \n",
       "15      0.0   1.0  \n",
       "16      1.0   0.0  \n",
       "20      1.0   0.0  \n",
       "31      1.0   0.0  \n",
       "...     ...   ...  \n",
       "188737  1.0   1.0  \n",
       "188739  1.0   1.0  \n",
       "188741  1.0   1.0  \n",
       "188743  1.0   1.0  \n",
       "188770  0.0   0.0  \n",
       "\n",
       "[15869 rows x 12 columns]"
      ]
     },
     "execution_count": 135,
     "metadata": {},
     "output_type": "execute_result"
    }
   ],
   "source": [
    "como[como['CKD']==1]"
   ]
  },
  {
   "cell_type": "code",
   "execution_count": 34,
   "metadata": {},
   "outputs": [
    {
     "data": {
      "text/html": [
       "<div>\n",
       "<style scoped>\n",
       "    .dataframe tbody tr th:only-of-type {\n",
       "        vertical-align: middle;\n",
       "    }\n",
       "\n",
       "    .dataframe tbody tr th {\n",
       "        vertical-align: top;\n",
       "    }\n",
       "\n",
       "    .dataframe thead th {\n",
       "        text-align: right;\n",
       "    }\n",
       "</style>\n",
       "<table border=\"1\" class=\"dataframe\">\n",
       "  <thead>\n",
       "    <tr style=\"text-align: right;\">\n",
       "      <th></th>\n",
       "      <th>subject_id</th>\n",
       "      <th>hadm_id</th>\n",
       "      <th>stay_id</th>\n",
       "      <th>first_careunit</th>\n",
       "      <th>last_careunit</th>\n",
       "      <th>intime</th>\n",
       "      <th>outtime</th>\n",
       "      <th>los</th>\n",
       "    </tr>\n",
       "  </thead>\n",
       "  <tbody>\n",
       "    <tr>\n",
       "      <th>0</th>\n",
       "      <td>10000032</td>\n",
       "      <td>29079034</td>\n",
       "      <td>39553978</td>\n",
       "      <td>Medical Intensive Care Unit (MICU)</td>\n",
       "      <td>Medical Intensive Care Unit (MICU)</td>\n",
       "      <td>2180-07-23 14:00:00</td>\n",
       "      <td>2180-07-23 23:50:47</td>\n",
       "      <td>0.410266</td>\n",
       "    </tr>\n",
       "    <tr>\n",
       "      <th>1</th>\n",
       "      <td>10000980</td>\n",
       "      <td>26913865</td>\n",
       "      <td>39765666</td>\n",
       "      <td>Medical Intensive Care Unit (MICU)</td>\n",
       "      <td>Medical Intensive Care Unit (MICU)</td>\n",
       "      <td>2189-06-27 08:42:00</td>\n",
       "      <td>2189-06-27 20:38:27</td>\n",
       "      <td>0.497535</td>\n",
       "    </tr>\n",
       "    <tr>\n",
       "      <th>2</th>\n",
       "      <td>10001217</td>\n",
       "      <td>24597018</td>\n",
       "      <td>37067082</td>\n",
       "      <td>Surgical Intensive Care Unit (SICU)</td>\n",
       "      <td>Surgical Intensive Care Unit (SICU)</td>\n",
       "      <td>2157-11-20 19:18:02</td>\n",
       "      <td>2157-11-21 22:08:00</td>\n",
       "      <td>1.118032</td>\n",
       "    </tr>\n",
       "    <tr>\n",
       "      <th>3</th>\n",
       "      <td>10001217</td>\n",
       "      <td>27703517</td>\n",
       "      <td>34592300</td>\n",
       "      <td>Surgical Intensive Care Unit (SICU)</td>\n",
       "      <td>Surgical Intensive Care Unit (SICU)</td>\n",
       "      <td>2157-12-19 15:42:24</td>\n",
       "      <td>2157-12-20 14:27:41</td>\n",
       "      <td>0.948113</td>\n",
       "    </tr>\n",
       "    <tr>\n",
       "      <th>4</th>\n",
       "      <td>10001725</td>\n",
       "      <td>25563031</td>\n",
       "      <td>31205490</td>\n",
       "      <td>Medical/Surgical Intensive Care Unit (MICU/SICU)</td>\n",
       "      <td>Medical/Surgical Intensive Care Unit (MICU/SICU)</td>\n",
       "      <td>2110-04-11 15:52:22</td>\n",
       "      <td>2110-04-12 23:59:56</td>\n",
       "      <td>1.338588</td>\n",
       "    </tr>\n",
       "    <tr>\n",
       "      <th>...</th>\n",
       "      <td>...</td>\n",
       "      <td>...</td>\n",
       "      <td>...</td>\n",
       "      <td>...</td>\n",
       "      <td>...</td>\n",
       "      <td>...</td>\n",
       "      <td>...</td>\n",
       "      <td>...</td>\n",
       "    </tr>\n",
       "    <tr>\n",
       "      <th>73176</th>\n",
       "      <td>19999442</td>\n",
       "      <td>26785317</td>\n",
       "      <td>32336619</td>\n",
       "      <td>Surgical Intensive Care Unit (SICU)</td>\n",
       "      <td>Surgical Intensive Care Unit (SICU)</td>\n",
       "      <td>2148-11-19 14:23:43</td>\n",
       "      <td>2148-11-26 13:12:15</td>\n",
       "      <td>6.950370</td>\n",
       "    </tr>\n",
       "    <tr>\n",
       "      <th>73177</th>\n",
       "      <td>19999625</td>\n",
       "      <td>25304202</td>\n",
       "      <td>31070865</td>\n",
       "      <td>Medical/Surgical Intensive Care Unit (MICU/SICU)</td>\n",
       "      <td>Medical/Surgical Intensive Care Unit (MICU/SICU)</td>\n",
       "      <td>2139-10-10 19:18:00</td>\n",
       "      <td>2139-10-11 18:21:28</td>\n",
       "      <td>0.960741</td>\n",
       "    </tr>\n",
       "    <tr>\n",
       "      <th>73178</th>\n",
       "      <td>19999828</td>\n",
       "      <td>25744818</td>\n",
       "      <td>36075953</td>\n",
       "      <td>Medical Intensive Care Unit (MICU)</td>\n",
       "      <td>Medical Intensive Care Unit (MICU)</td>\n",
       "      <td>2149-01-08 18:12:00</td>\n",
       "      <td>2149-01-10 13:11:02</td>\n",
       "      <td>1.790995</td>\n",
       "    </tr>\n",
       "    <tr>\n",
       "      <th>73179</th>\n",
       "      <td>19999840</td>\n",
       "      <td>21033226</td>\n",
       "      <td>38978960</td>\n",
       "      <td>Trauma SICU (TSICU)</td>\n",
       "      <td>Surgical Intensive Care Unit (SICU)</td>\n",
       "      <td>2164-09-12 09:26:28</td>\n",
       "      <td>2164-09-17 16:35:15</td>\n",
       "      <td>5.297766</td>\n",
       "    </tr>\n",
       "    <tr>\n",
       "      <th>73180</th>\n",
       "      <td>19999987</td>\n",
       "      <td>23865745</td>\n",
       "      <td>36195440</td>\n",
       "      <td>Trauma SICU (TSICU)</td>\n",
       "      <td>Trauma SICU (TSICU)</td>\n",
       "      <td>2145-11-02 22:59:00</td>\n",
       "      <td>2145-11-04 21:29:30</td>\n",
       "      <td>1.937847</td>\n",
       "    </tr>\n",
       "  </tbody>\n",
       "</table>\n",
       "<p>73181 rows × 8 columns</p>\n",
       "</div>"
      ],
      "text/plain": [
       "       subject_id   hadm_id   stay_id  \\\n",
       "0        10000032  29079034  39553978   \n",
       "1        10000980  26913865  39765666   \n",
       "2        10001217  24597018  37067082   \n",
       "3        10001217  27703517  34592300   \n",
       "4        10001725  25563031  31205490   \n",
       "...           ...       ...       ...   \n",
       "73176    19999442  26785317  32336619   \n",
       "73177    19999625  25304202  31070865   \n",
       "73178    19999828  25744818  36075953   \n",
       "73179    19999840  21033226  38978960   \n",
       "73180    19999987  23865745  36195440   \n",
       "\n",
       "                                         first_careunit  \\\n",
       "0                    Medical Intensive Care Unit (MICU)   \n",
       "1                    Medical Intensive Care Unit (MICU)   \n",
       "2                   Surgical Intensive Care Unit (SICU)   \n",
       "3                   Surgical Intensive Care Unit (SICU)   \n",
       "4      Medical/Surgical Intensive Care Unit (MICU/SICU)   \n",
       "...                                                 ...   \n",
       "73176               Surgical Intensive Care Unit (SICU)   \n",
       "73177  Medical/Surgical Intensive Care Unit (MICU/SICU)   \n",
       "73178                Medical Intensive Care Unit (MICU)   \n",
       "73179                               Trauma SICU (TSICU)   \n",
       "73180                               Trauma SICU (TSICU)   \n",
       "\n",
       "                                          last_careunit              intime  \\\n",
       "0                    Medical Intensive Care Unit (MICU) 2180-07-23 14:00:00   \n",
       "1                    Medical Intensive Care Unit (MICU) 2189-06-27 08:42:00   \n",
       "2                   Surgical Intensive Care Unit (SICU) 2157-11-20 19:18:02   \n",
       "3                   Surgical Intensive Care Unit (SICU) 2157-12-19 15:42:24   \n",
       "4      Medical/Surgical Intensive Care Unit (MICU/SICU) 2110-04-11 15:52:22   \n",
       "...                                                 ...                 ...   \n",
       "73176               Surgical Intensive Care Unit (SICU) 2148-11-19 14:23:43   \n",
       "73177  Medical/Surgical Intensive Care Unit (MICU/SICU) 2139-10-10 19:18:00   \n",
       "73178                Medical Intensive Care Unit (MICU) 2149-01-08 18:12:00   \n",
       "73179               Surgical Intensive Care Unit (SICU) 2164-09-12 09:26:28   \n",
       "73180                               Trauma SICU (TSICU) 2145-11-02 22:59:00   \n",
       "\n",
       "                  outtime       los  \n",
       "0     2180-07-23 23:50:47  0.410266  \n",
       "1     2189-06-27 20:38:27  0.497535  \n",
       "2     2157-11-21 22:08:00  1.118032  \n",
       "3     2157-12-20 14:27:41  0.948113  \n",
       "4     2110-04-12 23:59:56  1.338588  \n",
       "...                   ...       ...  \n",
       "73176 2148-11-26 13:12:15  6.950370  \n",
       "73177 2139-10-11 18:21:28  0.960741  \n",
       "73178 2149-01-10 13:11:02  1.790995  \n",
       "73179 2164-09-17 16:35:15  5.297766  \n",
       "73180 2145-11-04 21:29:30  1.937847  \n",
       "\n",
       "[73181 rows x 8 columns]"
      ]
     },
     "execution_count": 34,
     "metadata": {},
     "output_type": "execute_result"
    }
   ],
   "source": [
    "icustays"
   ]
  },
  {
   "cell_type": "markdown",
   "metadata": {},
   "source": [
    "## Baseline SCr"
   ]
  },
  {
   "cell_type": "code",
   "execution_count": 91,
   "metadata": {},
   "outputs": [],
   "source": [
    "chartevents_SCr = pd.read_parquet('./data/labvalues/chartevents_SCr.parquet')"
   ]
  },
  {
   "cell_type": "code",
   "execution_count": 125,
   "metadata": {},
   "outputs": [
    {
     "data": {
      "application/vnd.jupyter.widget-view+json": {
       "model_id": "8001e5322bac4b19ad362595102550fe",
       "version_major": 2,
       "version_minor": 0
      },
      "text/plain": [
       "  0%|          | 0/50920 [00:00<?, ?it/s]"
      ]
     },
     "metadata": {},
     "output_type": "display_data"
    }
   ],
   "source": [
    "def baseline_SCr(labevents,icustays,patients_gender,icustays_age,admissions_black) :\n",
    "    icustays['intime'] = pd.to_datetime(icustays['intime'])\n",
    "\n",
    "    labevents_SCr = labevents[labevents['itemid'].isin([\n",
    "    50912, # Creatinine, Blood, Chemistry\n",
    "    52024, # Creatinine, Whole Blood, Blood, Chemistry\n",
    "    52546  # Creatinine, Blood, Chemistry\n",
    "    ])]\n",
    "\n",
    "    labevents_SCr = labevents_SCr[['subject_id','hadm_id','charttime','valuenum']]\n",
    "    labevents_SCr['charttime'] = pd.to_datetime(labevents_SCr['charttime'])\n",
    "\n",
    "    icustays['intime'] = pd.to_datetime(icustays['intime'])\n",
    "\n",
    "    rt = []\n",
    "\n",
    "    for subject_id in tqdm(icustays.subject_id.unique()) : \n",
    "        tmp_labevents = labevents_SCr[labevents_SCr['subject_id'] == subject_id]\n",
    "        for stay_id in icustays[icustays['subject_id']==subject_id].stay_id.unique() : \n",
    "            hadm_id = icustays[icustays['stay_id'] == stay_id].intime.values[0]\n",
    "            icustays_intime = icustays[icustays['stay_id'] == stay_id].intime.values[0]\n",
    "            icustays_intime_7days = icustays_intime - np.timedelta64(7,'D')\n",
    "            icustays_intime_1yr = icustays_intime - np.timedelta64(365,'D')\n",
    "\n",
    "            gender = patients_gender[patients_gender['subject_id']==subject_id].gender.values[0]\n",
    "            age = icustays_age[icustays_age['stay_id']==stay_id].age.values[0]\n",
    "            black =  admissions_black[admissions_black['subject_id']==subject_id].black.values[0]\n",
    "\n",
    "            baseline_SCr = 0\n",
    "            MDRD = 0\n",
    "\n",
    "            labevents_SCr_list_7days = tmp_labevents[(tmp_labevents['charttime'] < icustays_intime)&(tmp_labevents['charttime'] > icustays_intime_7days)]\n",
    "            labevents_SCr_list_1yr   = tmp_labevents[(tmp_labevents['charttime'] <= icustays_intime_7days)&(tmp_labevents['charttime'] > icustays_intime_1yr)]\n",
    "\n",
    "            if not labevents_SCr_list_7days.empty:\n",
    "                baseline_SCr = labevents_SCr_list_7days['valuenum'].min()\n",
    "                MDRD = 1\n",
    "            elif not labevents_SCr_list_1yr.empty:\n",
    "                baseline_SCr = labevents_SCr_list_1yr['valuenum'].median()\n",
    "                MDRD = 2\n",
    "            else: \n",
    "                baseline_SCr = (np.exp(5.228/1.154-0.203/1.154*np.log(age)-0.299/1.154*gender+0.192/1.154*black-np.log(75)/1.154)).round(1)\n",
    "                MDRD = 3\n",
    "\n",
    "\n",
    "            rt.append([subject_id, hadm_id, stay_id, baseline_SCr, MDRD])\n",
    "\n",
    "    rt = pd.DataFrame(rt, columns=['subject_id','hadm_id','stay_id','baseline_SCr', 'MDRD'])\n",
    "    return rt\n",
    "\n",
    "baseline_SCr = baseline_SCr(labevents,icustays,patients_gender,icustays_age,admissions_black)"
   ]
  },
  {
   "cell_type": "code",
   "execution_count": 150,
   "metadata": {},
   "outputs": [
    {
     "data": {
      "application/vnd.jupyter.widget-view+json": {
       "model_id": "bf789880f55a4175ac841c69893202cb",
       "version_major": 2,
       "version_minor": 0
      },
      "text/plain": [
       "  0%|          | 0/50920 [00:00<?, ?it/s]"
      ]
     },
     "metadata": {},
     "output_type": "display_data"
    }
   ],
   "source": [
    "def baseline_SCr2(labevents,icustays,patients_gender,icustays_age,admissions_black) :\n",
    "    icustays['intime'] = pd.to_datetime(icustays['intime'])\n",
    "\n",
    "    labevents_SCr = labevents[labevents['itemid'].isin([\n",
    "    50912, # Creatinine, Blood, Chemistry\n",
    "    52024, # Creatinine, Whole Blood, Blood, Chemistry\n",
    "    52546  # Creatinine, Blood, Chemistry\n",
    "    ])]\n",
    "\n",
    "    labevents_SCr = labevents_SCr[['subject_id','hadm_id','charttime','valuenum']]\n",
    "    labevents_SCr['charttime'] = pd.to_datetime(labevents_SCr['charttime'])\n",
    "\n",
    "    icustays['intime'] = pd.to_datetime(icustays['intime'])\n",
    "\n",
    "    rt = []\n",
    "\n",
    "    for subject_id in tqdm(icustays.subject_id.unique()) : \n",
    "        tmp_labevents = labevents_SCr[labevents_SCr['subject_id'] == subject_id]\n",
    "        for stay_id in icustays[icustays['subject_id']==subject_id].stay_id.unique() : \n",
    "            hadm_id = icustays[icustays['stay_id'] == stay_id].intime.values[0]\n",
    "            icustays_intime = icustays[icustays['stay_id'] == stay_id].intime.values[0]\n",
    "            icustays_intime_7days = icustays_intime - np.timedelta64(7,'D')\n",
    "            icustays_intime_1yr = icustays_intime - np.timedelta64(365,'D')\n",
    "\n",
    "            gender = patients_gender[patients_gender['subject_id']==subject_id].gender.values[0]\n",
    "            age = icustays_age[icustays_age['stay_id']==stay_id].age.values[0]\n",
    "            black =  admissions_black[admissions_black['subject_id']==subject_id].black.values[0]\n",
    "\n",
    "            baseline_SCr = 0\n",
    "            MDRD = 0\n",
    "\n",
    "            labevents_SCr_list_7days = tmp_labevents[(tmp_labevents['charttime'] < icustays_intime)&(tmp_labevents['charttime'] > icustays_intime_7days)]\n",
    "            labevents_SCr_list_1yr   = tmp_labevents[(tmp_labevents['charttime'] <= icustays_intime_7days)&(tmp_labevents['charttime'] > icustays_intime_1yr)]\n",
    "\n",
    "            if not labevents_SCr_list_1yr.empty:\n",
    "                baseline_SCr = labevents_SCr_list_1yr['valuenum'].median()\n",
    "                MDRD = 1\n",
    "            elif not labevents_SCr_list_7days.empty:\n",
    "                baseline_SCr = labevents_SCr_list_7days['valuenum'].min()\n",
    "                MDRD = 2\n",
    "            else: \n",
    "                baseline_SCr = (np.exp(5.228/1.154-0.203/1.154*np.log(age)-0.299/1.154*gender+0.192/1.154*black-np.log(75)/1.154)).round(1)\n",
    "                MDRD = 3\n",
    "\n",
    "\n",
    "            rt.append([subject_id, hadm_id, stay_id, baseline_SCr, MDRD])\n",
    "\n",
    "    rt = pd.DataFrame(rt, columns=['subject_id','hadm_id','stay_id','baseline_SCr', 'MDRD'])\n",
    "    return rt\n",
    "\n",
    "baseline_SCr = baseline_SCr2(labevents,icustays,patients_gender,icustays_age,admissions_black)"
   ]
  },
  {
   "cell_type": "code",
   "execution_count": 138,
   "metadata": {},
   "outputs": [
    {
     "data": {
      "text/plain": [
       "<Axes: >"
      ]
     },
     "execution_count": 138,
     "metadata": {},
     "output_type": "execute_result"
    },
    {
     "data": {
      "image/png": "[encoded data removed]",
      "text/plain": [
       "<Figure size 640x480 with 1 Axes>"
      ]
     },
     "metadata": {},
     "output_type": "display_data"
    }
   ],
   "source": [
    "baseline_SCr[baseline_SCr['baseline_SCr']<2].baseline_SCr.hist()"
   ]
  },
  {
   "cell_type": "code",
   "execution_count": 156,
   "metadata": {},
   "outputs": [
    {
     "data": {
      "text/plain": [
       "MDRD\n",
       "1    4958\n",
       "2    2425\n",
       "Name: count, dtype: int64"
      ]
     },
     "execution_count": 156,
     "metadata": {},
     "output_type": "execute_result"
    }
   ],
   "source": [
    "baseline_SCr[baseline_SCr['baseline_SCr']>2].MDRD.value_counts()"
   ]
  },
  {
   "cell_type": "code",
   "execution_count": 104,
   "metadata": {},
   "outputs": [
    {
     "data": {
      "text/plain": [
       "numpy.datetime64('2180-07-23T14:00:00.000000000')"
      ]
     },
     "execution_count": 104,
     "metadata": {},
     "output_type": "execute_result"
    }
   ],
   "source": [
    "icustays[icustays['stay_id']==39553978].intime.values[0]"
   ]
  },
  {
   "cell_type": "code",
   "execution_count": 79,
   "metadata": {},
   "outputs": [
    {
     "data": {
      "text/html": [
       "<div>\n",
       "<style scoped>\n",
       "    .dataframe tbody tr th:only-of-type {\n",
       "        vertical-align: middle;\n",
       "    }\n",
       "\n",
       "    .dataframe tbody tr th {\n",
       "        vertical-align: top;\n",
       "    }\n",
       "\n",
       "    .dataframe thead th {\n",
       "        text-align: right;\n",
       "    }\n",
       "</style>\n",
       "<table border=\"1\" class=\"dataframe\">\n",
       "  <thead>\n",
       "    <tr style=\"text-align: right;\">\n",
       "      <th></th>\n",
       "      <th>subject_id</th>\n",
       "      <th>gender</th>\n",
       "    </tr>\n",
       "  </thead>\n",
       "  <tbody>\n",
       "    <tr>\n",
       "      <th>0</th>\n",
       "      <td>10000032</td>\n",
       "      <td>1</td>\n",
       "    </tr>\n",
       "    <tr>\n",
       "      <th>1</th>\n",
       "      <td>10000048</td>\n",
       "      <td>1</td>\n",
       "    </tr>\n",
       "    <tr>\n",
       "      <th>2</th>\n",
       "      <td>10000068</td>\n",
       "      <td>1</td>\n",
       "    </tr>\n",
       "    <tr>\n",
       "      <th>3</th>\n",
       "      <td>10000084</td>\n",
       "      <td>0</td>\n",
       "    </tr>\n",
       "    <tr>\n",
       "      <th>4</th>\n",
       "      <td>10000102</td>\n",
       "      <td>1</td>\n",
       "    </tr>\n",
       "    <tr>\n",
       "      <th>...</th>\n",
       "      <td>...</td>\n",
       "      <td>...</td>\n",
       "    </tr>\n",
       "    <tr>\n",
       "      <th>299707</th>\n",
       "      <td>19999828</td>\n",
       "      <td>1</td>\n",
       "    </tr>\n",
       "    <tr>\n",
       "      <th>299708</th>\n",
       "      <td>19999829</td>\n",
       "      <td>1</td>\n",
       "    </tr>\n",
       "    <tr>\n",
       "      <th>299709</th>\n",
       "      <td>19999840</td>\n",
       "      <td>0</td>\n",
       "    </tr>\n",
       "    <tr>\n",
       "      <th>299710</th>\n",
       "      <td>19999914</td>\n",
       "      <td>1</td>\n",
       "    </tr>\n",
       "    <tr>\n",
       "      <th>299711</th>\n",
       "      <td>19999987</td>\n",
       "      <td>1</td>\n",
       "    </tr>\n",
       "  </tbody>\n",
       "</table>\n",
       "<p>299712 rows × 2 columns</p>\n",
       "</div>"
      ],
      "text/plain": [
       "        subject_id gender\n",
       "0         10000032      1\n",
       "1         10000048      1\n",
       "2         10000068      1\n",
       "3         10000084      0\n",
       "4         10000102      1\n",
       "...            ...    ...\n",
       "299707    19999828      1\n",
       "299708    19999829      1\n",
       "299709    19999840      0\n",
       "299710    19999914      1\n",
       "299711    19999987      1\n",
       "\n",
       "[299712 rows x 2 columns]"
      ]
     },
     "execution_count": 79,
     "metadata": {},
     "output_type": "execute_result"
    }
   ],
   "source": [
    "patients_gender"
   ]
  },
  {
   "cell_type": "code",
   "execution_count": 75,
   "metadata": {},
   "outputs": [
    {
     "data": {
      "text/html": [
       "<div>\n",
       "<style scoped>\n",
       "    .dataframe tbody tr th:only-of-type {\n",
       "        vertical-align: middle;\n",
       "    }\n",
       "\n",
       "    .dataframe tbody tr th {\n",
       "        vertical-align: top;\n",
       "    }\n",
       "\n",
       "    .dataframe thead th {\n",
       "        text-align: right;\n",
       "    }\n",
       "</style>\n",
       "<table border=\"1\" class=\"dataframe\">\n",
       "  <thead>\n",
       "    <tr style=\"text-align: right;\">\n",
       "      <th></th>\n",
       "      <th>subject_id</th>\n",
       "      <th>hadm_id</th>\n",
       "      <th>stay_id</th>\n",
       "      <th>age</th>\n",
       "    </tr>\n",
       "  </thead>\n",
       "  <tbody>\n",
       "    <tr>\n",
       "      <th>0</th>\n",
       "      <td>10000032</td>\n",
       "      <td>29079034</td>\n",
       "      <td>39553978</td>\n",
       "      <td>52</td>\n",
       "    </tr>\n",
       "    <tr>\n",
       "      <th>1</th>\n",
       "      <td>10000980</td>\n",
       "      <td>26913865</td>\n",
       "      <td>39765666</td>\n",
       "      <td>76</td>\n",
       "    </tr>\n",
       "    <tr>\n",
       "      <th>2</th>\n",
       "      <td>10001217</td>\n",
       "      <td>24597018</td>\n",
       "      <td>37067082</td>\n",
       "      <td>55</td>\n",
       "    </tr>\n",
       "    <tr>\n",
       "      <th>3</th>\n",
       "      <td>10001217</td>\n",
       "      <td>27703517</td>\n",
       "      <td>34592300</td>\n",
       "      <td>55</td>\n",
       "    </tr>\n",
       "    <tr>\n",
       "      <th>4</th>\n",
       "      <td>10001725</td>\n",
       "      <td>25563031</td>\n",
       "      <td>31205490</td>\n",
       "      <td>46</td>\n",
       "    </tr>\n",
       "    <tr>\n",
       "      <th>...</th>\n",
       "      <td>...</td>\n",
       "      <td>...</td>\n",
       "      <td>...</td>\n",
       "      <td>...</td>\n",
       "    </tr>\n",
       "    <tr>\n",
       "      <th>73176</th>\n",
       "      <td>19999442</td>\n",
       "      <td>26785317</td>\n",
       "      <td>32336619</td>\n",
       "      <td>43</td>\n",
       "    </tr>\n",
       "    <tr>\n",
       "      <th>73177</th>\n",
       "      <td>19999625</td>\n",
       "      <td>25304202</td>\n",
       "      <td>31070865</td>\n",
       "      <td>82</td>\n",
       "    </tr>\n",
       "    <tr>\n",
       "      <th>73178</th>\n",
       "      <td>19999828</td>\n",
       "      <td>25744818</td>\n",
       "      <td>36075953</td>\n",
       "      <td>48</td>\n",
       "    </tr>\n",
       "    <tr>\n",
       "      <th>73179</th>\n",
       "      <td>19999840</td>\n",
       "      <td>21033226</td>\n",
       "      <td>38978960</td>\n",
       "      <td>58</td>\n",
       "    </tr>\n",
       "    <tr>\n",
       "      <th>73180</th>\n",
       "      <td>19999987</td>\n",
       "      <td>23865745</td>\n",
       "      <td>36195440</td>\n",
       "      <td>57</td>\n",
       "    </tr>\n",
       "  </tbody>\n",
       "</table>\n",
       "<p>73181 rows × 4 columns</p>\n",
       "</div>"
      ],
      "text/plain": [
       "       subject_id   hadm_id   stay_id  age\n",
       "0        10000032  29079034  39553978   52\n",
       "1        10000980  26913865  39765666   76\n",
       "2        10001217  24597018  37067082   55\n",
       "3        10001217  27703517  34592300   55\n",
       "4        10001725  25563031  31205490   46\n",
       "...           ...       ...       ...  ...\n",
       "73176    19999442  26785317  32336619   43\n",
       "73177    19999625  25304202  31070865   82\n",
       "73178    19999828  25744818  36075953   48\n",
       "73179    19999840  21033226  38978960   58\n",
       "73180    19999987  23865745  36195440   57\n",
       "\n",
       "[73181 rows x 4 columns]"
      ]
     },
     "execution_count": 75,
     "metadata": {},
     "output_type": "execute_result"
    }
   ],
   "source": [
    "icustays_age"
   ]
  },
  {
   "cell_type": "code",
   "execution_count": 85,
   "metadata": {},
   "outputs": [
    {
     "data": {
      "text/html": [
       "<div>\n",
       "<style scoped>\n",
       "    .dataframe tbody tr th:only-of-type {\n",
       "        vertical-align: middle;\n",
       "    }\n",
       "\n",
       "    .dataframe tbody tr th {\n",
       "        vertical-align: top;\n",
       "    }\n",
       "\n",
       "    .dataframe thead th {\n",
       "        text-align: right;\n",
       "    }\n",
       "</style>\n",
       "<table border=\"1\" class=\"dataframe\">\n",
       "  <thead>\n",
       "    <tr style=\"text-align: right;\">\n",
       "      <th></th>\n",
       "      <th>subject_id</th>\n",
       "      <th>race</th>\n",
       "    </tr>\n",
       "  </thead>\n",
       "  <tbody>\n",
       "    <tr>\n",
       "      <th>0</th>\n",
       "      <td>10000032</td>\n",
       "      <td>WHITE</td>\n",
       "    </tr>\n",
       "    <tr>\n",
       "      <th>4</th>\n",
       "      <td>10000068</td>\n",
       "      <td>WHITE</td>\n",
       "    </tr>\n",
       "    <tr>\n",
       "      <th>5</th>\n",
       "      <td>10000084</td>\n",
       "      <td>WHITE</td>\n",
       "    </tr>\n",
       "    <tr>\n",
       "      <th>7</th>\n",
       "      <td>10000108</td>\n",
       "      <td>WHITE</td>\n",
       "    </tr>\n",
       "    <tr>\n",
       "      <th>8</th>\n",
       "      <td>10000117</td>\n",
       "      <td>WHITE</td>\n",
       "    </tr>\n",
       "    <tr>\n",
       "      <th>...</th>\n",
       "      <td>...</td>\n",
       "      <td>...</td>\n",
       "    </tr>\n",
       "    <tr>\n",
       "      <th>430463</th>\n",
       "      <td>19982872</td>\n",
       "      <td>MULTIPLE RACE/ETHNICITY</td>\n",
       "    </tr>\n",
       "    <tr>\n",
       "      <th>430476</th>\n",
       "      <td>19982989</td>\n",
       "      <td>MULTIPLE RACE/ETHNICITY</td>\n",
       "    </tr>\n",
       "    <tr>\n",
       "      <th>430887</th>\n",
       "      <td>19992507</td>\n",
       "      <td>MULTIPLE RACE/ETHNICITY</td>\n",
       "    </tr>\n",
       "    <tr>\n",
       "      <th>431001</th>\n",
       "      <td>19994592</td>\n",
       "      <td>MULTIPLE RACE/ETHNICITY</td>\n",
       "    </tr>\n",
       "    <tr>\n",
       "      <th>431190</th>\n",
       "      <td>19999287</td>\n",
       "      <td>MULTIPLE RACE/ETHNICITY</td>\n",
       "    </tr>\n",
       "  </tbody>\n",
       "</table>\n",
       "<p>180733 rows × 2 columns</p>\n",
       "</div>"
      ],
      "text/plain": [
       "        subject_id                     race\n",
       "0         10000032                    WHITE\n",
       "4         10000068                    WHITE\n",
       "5         10000084                    WHITE\n",
       "7         10000108                    WHITE\n",
       "8         10000117                    WHITE\n",
       "...            ...                      ...\n",
       "430463    19982872  MULTIPLE RACE/ETHNICITY\n",
       "430476    19982989  MULTIPLE RACE/ETHNICITY\n",
       "430887    19992507  MULTIPLE RACE/ETHNICITY\n",
       "431001    19994592  MULTIPLE RACE/ETHNICITY\n",
       "431190    19999287  MULTIPLE RACE/ETHNICITY\n",
       "\n",
       "[180733 rows x 2 columns]"
      ]
     },
     "execution_count": 85,
     "metadata": {},
     "output_type": "execute_result"
    }
   ],
   "source": [
    "admissions_race"
   ]
  },
  {
   "cell_type": "code",
   "execution_count": 87,
   "metadata": {},
   "outputs": [],
   "source": [
    "admissions_black = admissions_race.copy()\n",
    "admissions_black['black'] = 0\n",
    "admissions_black.loc[admissions_black['race']=='BLACK','black'] = 1\n",
    "admissions_black.drop('race',axis=1,inplace=True)"
   ]
  },
  {
   "cell_type": "markdown",
   "metadata": {},
   "source": [
    "## icustays_with_demo"
   ]
  },
  {
   "cell_type": "code",
   "execution_count": 58,
   "metadata": {},
   "outputs": [],
   "source": [
    "icustays_with_demo = pd.merge(icustays,patients_gender,on='subject_id',how='left')\n",
    "icustays_with_demo = pd.merge(icustays_with_demo, icustays_age,on=['subject_id','hadm_id','stay_id'],how='left')\n",
    "icustays_with_demo = pd.merge(icustays_with_demo, admissions_race,on='subject_id',how='left')\n",
    "icustays_with_demo = pd.merge(icustays_with_demo, admission_weight,on=['subject_id','stay_id'],how='left')\n",
    "icustays_with_demo = pd.merge(icustays_with_demo, como,on=['subject_id','hadm_id','stay_id'],how='left')"
   ]
  },
  {
   "cell_type": "code",
   "execution_count": 59,
   "metadata": {},
   "outputs": [
    {
     "data": {
      "text/plain": [
       "73181"
      ]
     },
     "execution_count": 59,
     "metadata": {},
     "output_type": "execute_result"
    }
   ],
   "source": [
    "len(icustays_with_demo)"
   ]
  },
  {
   "cell_type": "code",
   "execution_count": 60,
   "metadata": {},
   "outputs": [],
   "source": [
    "#icustays_with_demo.to_parquet('./data/icustays_with_demo.parquet')"
   ]
  },
  {
   "cell_type": "code",
   "execution_count": null,
   "metadata": {},
   "outputs": [],
   "source": []
  },
  {
   "cell_type": "code",
   "execution_count": null,
   "metadata": {},
   "outputs": [],
   "source": []
  },
  {
   "cell_type": "code",
   "execution_count": null,
   "metadata": {},
   "outputs": [],
   "source": []
  },
  {
   "cell_type": "markdown",
   "metadata": {},
   "source": [
    "# Lab values"
   ]
  },
  {
   "cell_type": "code",
   "execution_count": 38,
   "metadata": {},
   "outputs": [
    {
     "data": {
      "application/vnd.jupyter.widget-view+json": {
       "model_id": "e4f675f7f04543a7ade4e61fb4698352",
       "version_major": 2,
       "version_minor": 0
      },
      "text/plain": [
       "0it [00:00, ?it/s]"
      ]
     },
     "metadata": {},
     "output_type": "display_data"
    }
   ],
   "source": [
    "for i,idx in tqdm(enumerate(labvalues.abbreviation)):\n",
    "    if not os.path.isfile('./data/labvalues/chartevents_%s.parquet'%idx):\n",
    "        print(\"[%i/%i] Processing %s...\"%(i+1,len(labvalues),labvalues.iloc[i].labvalue))\n",
    "        globals()['chartevents_{}'.format(idx)] = chartevents[chartevents['itemid'].isin([labvalues.iloc[i].itemid_icu])][['subject_id','hadm_id','stay_id','charttime','itemid','valuenum']]\n",
    "\n",
    "        if labvalues.iloc[i].lb_cond == 'ge' : \n",
    "            globals()['chartevents_{}'.format(idx)] = globals()['chartevents_{}'.format(idx)][globals()['chartevents_{}'.format(idx)]['valuenum'] >= labvalues.iloc[i].lb]\n",
    "        elif labvalues.iloc[i].lb_cond == 'gt' : \n",
    "            globals()['chartevents_{}'.format(idx)] = globals()['chartevents_{}'.format(idx)][globals()['chartevents_{}'.format(idx)]['valuenum'] > labvalues.iloc[i].lb]\n",
    "\n",
    "        if labvalues.iloc[i].ub_cond == 'le' : \n",
    "            globals()['chartevents_{}'.format(idx)] = globals()['chartevents_{}'.format(idx)][globals()['chartevents_{}'.format(idx)]['valuenum'] <= labvalues.iloc[i].ub]\n",
    "        elif labvalues.iloc[i].ub_cond == 'lt' : \n",
    "            globals()['chartevents_{}'.format(idx)] = globals()['chartevents_{}'.format(idx)][globals()['chartevents_{}'.format(idx)]['valuenum'] < labvalues.iloc[i].ub]\n",
    "\n",
    "        globals()['chartevents_{}'.format(idx)].sort_values(by=['subject_id','charttime'],ascending=True,inplace=True)\n",
    "        globals()['chartevents_{}'.format(idx)].reset_index(inplace=True, drop=True)\n",
    "        globals()['chartevents_{}'.format(idx)].to_parquet('./data/labvalues/chartevents_%s.parquet'%idx)\n",
    "    else : globals()['chartevents_{}'.format(idx)] = pd.read_parquet('./data/labvalues/chartevents_%s.parquet'%idx)"
   ]
  },
  {
   "cell_type": "code",
   "execution_count": 28,
   "metadata": {},
   "outputs": [
    {
     "data": {
      "application/vnd.jupyter.widget-view+json": {
       "model_id": "906f9d7f67f844169dd12b1c30448bb1",
       "version_major": 2,
       "version_minor": 0
      },
      "text/plain": [
       "0it [00:00, ?it/s]"
      ]
     },
     "metadata": {},
     "output_type": "display_data"
    },
    {
     "name": "stdout",
     "output_type": "stream",
     "text": [
      "[1/30] Processing Albumin...\n",
      "[2/30] Processing Alkaline Phosphate...\n",
      "[3/30] Processing Anion Gap...\n",
      "[4/30] Processing Blood urea nitrogen...\n",
      "[5/30] Processing Calcium non-ionized...\n",
      "[6/30] Processing Creatine Kinase...\n",
      "[7/30] Processing Direct Bilirubin...\n",
      "[8/30] Processing Glucose...\n",
      "[9/30] Processing Hematocrit...\n",
      "[10/30] Processing International Normalized Ratio...\n",
      "[11/30] Processing PH...\n",
      "[12/30] Processing Phosphorous...\n",
      "[13/30] Processing Platelet Count...\n",
      "[14/30] Processing Serum chloride...\n",
      "[15/30] Processing Serum creatinine...\n",
      "[16/30] Processing Serum Sodium...\n",
      "[17/30] Processing Serum Potassium...\n",
      "[18/30] Processing Total Bilirubin...\n",
      "[19/30] Processing White blood cell count...\n",
      "[20/30] Processing Serum glucose...\n",
      "[21/30] Processing Magnesium...\n",
      "[22/30] Processing Ionized calcium...\n",
      "[23/30] Processing Serum HCO3...\n",
      "[24/30] Processing AST...\n",
      "[25/30] Processing ALT...\n",
      "[26/30] Processing PTT...\n",
      "[27/30] Processing Arterial Base Excess...\n",
      "[28/30] Processing Lactic Acid...\n",
      "[29/30] Processing Arterial O2 pressure...\n",
      "[30/30] Processing Arterial CO2 Pressure...\n"
     ]
    }
   ],
   "source": [
    "for i,idx in tqdm(enumerate(labvalues.abbreviation)):\n",
    "    try :\n",
    "        print(\"[%i/%i] Processing %s...\"%(i+1,len(labvalues),labvalues.iloc[i].labvalue))\n",
    "        itemid = labvalues.iloc[i].itemid_hosp\n",
    "        if isinstance(itemid, str):\n",
    "            itemid = itemid.replace(\" \",\"\")\n",
    "            itemid = itemid.split(\",\")\n",
    "        if isinstance(itemid, list):\n",
    "            itemid = [int(x) for x in itemid]\n",
    "        else : itemid = [int(itemid)]\n",
    "        globals()['labevents_{}'.format(idx)] = labevents[labevents['itemid'].isin(itemid)][['subject_id','hadm_id','charttime','itemid','valuenum']]\n",
    "\n",
    "        if labvalues.iloc[i].lb_cond == 'ge' : \n",
    "            globals()['labevents_{}'.format(idx)] = globals()['labevents_{}'.format(idx)][globals()['labevents_{}'.format(idx)]['valuenum'] >= labvalues.iloc[i].lb]\n",
    "        elif labvalues.iloc[i].lb_cond == 'gt' : \n",
    "            globals()['labevents_{}'.format(idx)] = globals()['labevents_{}'.format(idx)][globals()['labevents_{}'.format(idx)]['valuenum'] > labvalues.iloc[i].lb]\n",
    "\n",
    "        if labvalues.iloc[i].ub_cond == 'le' : \n",
    "            globals()['labevents_{}'.format(idx)] = globals()['labevents_{}'.format(idx)][globals()['labevents_{}'.format(idx)]['valuenum'] <= labvalues.iloc[i].ub]\n",
    "        elif labvalues.iloc[i].ub_cond == 'lt' : \n",
    "            globals()['labevents_{}'.format(idx)] = globals()['labevents_{}'.format(idx)][globals()['labevents_{}'.format(idx)]['valuenum'] < labvalues.iloc[i].ub]\n",
    "\n",
    "        globals()['labevents_{}'.format(idx)].sort_values(by=['subject_id','charttime'],ascending=True,inplace=True)\n",
    "        globals()['labevents_{}'.format(idx)].reset_index(inplace=True, drop=True)\n",
    "\n",
    "        if not os.path.isfile('./data/labvalues/labevents_%s.parquet'%idx):\n",
    "            globals()['labevents_{}'.format(idx)].to_parquet('./data/labvalues/labevents_%s.parquet'%idx)\n",
    "    except: ValueError"
   ]
  },
  {
   "cell_type": "markdown",
   "metadata": {},
   "source": [
    "# Vitals"
   ]
  },
  {
   "cell_type": "code",
   "execution_count": 43,
   "metadata": {},
   "outputs": [
    {
     "data": {
      "application/vnd.jupyter.widget-view+json": {
       "model_id": "4ee97a5d82b64414934437294cfc0e39",
       "version_major": 2,
       "version_minor": 0
      },
      "text/plain": [
       "0it [00:00, ?it/s]"
      ]
     },
     "metadata": {},
     "output_type": "display_data"
    },
    {
     "name": "stdout",
     "output_type": "stream",
     "text": [
      "[8/11] Processing Temperature Celsius...\n",
      "[9/11] Processing Temperature Fahrenheit...\n"
     ]
    }
   ],
   "source": [
    "for i,idx in tqdm(enumerate(vitals.abbreviation)):\n",
    "    if not os.path.isfile('./data/vitals/chartevents_%s.parquet'%idx):\n",
    "        print(\"[%i/%i] Processing %s...\"%(i+1,len(vitals),vitals.iloc[i].labvalue))\n",
    "        itemid = vitals.iloc[i].itemid_icu\n",
    "        if isinstance(itemid, str):\n",
    "            itemid = itemid.replace(\" \",\"\")\n",
    "            itemid = itemid.split(\",\")\n",
    "        if isinstance(itemid, list):\n",
    "            itemid = [int(x) for x in itemid]\n",
    "        else : itemid = [int(itemid)]\n",
    "        globals()['chartevents_{}'.format(idx)] = chartevents[chartevents['itemid'].isin(itemid)][['subject_id','hadm_id','stay_id','charttime','itemid','valuenum']]\n",
    "\n",
    "        if vitals.iloc[i].lb_cond == 'ge' : \n",
    "            globals()['chartevents_{}'.format(idx)] = globals()['chartevents_{}'.format(idx)][globals()['chartevents_{}'.format(idx)]['valuenum'] >= vitals.iloc[i].lb]\n",
    "        elif vitals.iloc[i].lb_cond == 'gt' : \n",
    "            globals()['chartevents_{}'.format(idx)] = globals()['chartevents_{}'.format(idx)][globals()['chartevents_{}'.format(idx)]['valuenum'] > vitals.iloc[i].lb]\n",
    "\n",
    "        if vitals.iloc[i].ub_cond == 'le' : \n",
    "            globals()['chartevents_{}'.format(idx)] = globals()['chartevents_{}'.format(idx)][globals()['chartevents_{}'.format(idx)]['valuenum'] <= vitals.iloc[i].ub]\n",
    "        elif vitals.iloc[i].ub_cond == 'lt' : \n",
    "            globals()['chartevents_{}'.format(idx)] = globals()['chartevents_{}'.format(idx)][globals()['chartevents_{}'.format(idx)]['valuenum'] < vitals.iloc[i].ub]\n",
    "\n",
    "        globals()['chartevents_{}'.format(idx)].sort_values(by=['subject_id','charttime'],ascending=True,inplace=True)\n",
    "        globals()['chartevents_{}'.format(idx)].reset_index(inplace=True, drop=True)\n",
    "        globals()['chartevents_{}'.format(idx)].to_parquet('./data/vitals/chartevents_%s.parquet'%idx)\n",
    "    else : globals()['chartevents_{}'.format(idx)] = pd.read_parquet('./data/vitals/chartevents_%s.parquet'%idx)"
   ]
  },
  {
   "cell_type": "markdown",
   "metadata": {},
   "source": [
    "## Temp"
   ]
  },
  {
   "cell_type": "code",
   "execution_count": 133,
   "metadata": {},
   "outputs": [],
   "source": [
    "chartevents_tempF['valuenum2'] = (chartevents_tempF['valuenum']-32)*5/9\n",
    "chartevents_tempF.drop('valuenum',axis=1,inplace=True)\n",
    "chartevents_tempF.rename(columns={'valuenum2':'valuenum'},inplace=True)\n",
    "chartevents_tempF['valuenum'] = chartevents_tempF['valuenum'].round(1)\n",
    "\n",
    "chartevents_temp = pd.concat([chartevents_tempC,chartevents_tempF])\n",
    "chartevents_temp.sort_values(by=['subject_id','hadm_id','stay_id','charttime'],inplace=True)\n",
    "chartevents_temp.to_parquet('./data/vitals/chartevents_temp.parquet')"
   ]
  },
  {
   "cell_type": "code",
   "execution_count": null,
   "metadata": {},
   "outputs": [],
   "source": []
  },
  {
   "cell_type": "code",
   "execution_count": null,
   "metadata": {},
   "outputs": [],
   "source": []
  },
  {
   "cell_type": "markdown",
   "metadata": {},
   "source": [
    "# Urine Output"
   ]
  },
  {
   "cell_type": "code",
   "execution_count": 58,
   "metadata": {},
   "outputs": [],
   "source": [
    "outputevents_uo = outputevents[outputevents['itemid'].isin([\n",
    "    226557, 226558, #Ureteral Stent, 요관스텐트\n",
    "    226559, #Foley, 도뇨관(소변줄)\n",
    "    226560, 226561, 226563, 226564, 226565, 226566, 226567, 226584, 226627, 226631, 226632\n",
    "])]\n",
    "\n",
    "guirrigant_input = outputevents[outputevents['itemid'].isin([227488])]\n",
    "guirrigant_output = outputevents[outputevents['itemid'].isin([227489])]\n",
    "\n",
    "guirrigant = pd.merge(guirrigant_input,guirrigant_output[['subject_id','hadm_id','stay_id','charttime','value']],on=['subject_id','hadm_id','stay_id','charttime'])\n",
    "guirrigant['value'] =  guirrigant['value_y'] - guirrigant['value_x']\n",
    "guirrigant = guirrigant[guirrigant['value'] >= 0]\n",
    "guirrigant = guirrigant[['subject_id','hadm_id','stay_id','charttime','itemid','value']]\n",
    "\n",
    "outputevents_uo = outputevents_uo[['subject_id','hadm_id','stay_id','charttime','itemid','value']]\n",
    "outputevents_uo = pd.concat([outputevents_uo,guirrigant])\n",
    "\n",
    "outputevents_uo.sort_values(['subject_id','hadm_id','stay_id','charttime'],inplace=True)\n",
    "outputevents_uo.reset_index(inplace=True,drop=True)\n",
    "\n",
    "outputevents_uo.to_parquet('./data/others/outputevents_uo.parquet')"
   ]
  },
  {
   "cell_type": "code",
   "execution_count": null,
   "metadata": {},
   "outputs": [],
   "source": []
  },
  {
   "cell_type": "markdown",
   "metadata": {},
   "source": [
    "# Glasgow Coma Scale"
   ]
  },
  {
   "cell_type": "code",
   "execution_count": 74,
   "metadata": {},
   "outputs": [],
   "source": [
    "chartevents_GCS_eye = chartevents[chartevents['itemid'].isin([220739])]\n",
    "chartevents_GCS_verval = chartevents[chartevents['itemid'].isin([223900])]\n",
    "chartevents_GCS_motor = chartevents[chartevents['itemid'].isin([223901])]"
   ]
  },
  {
   "cell_type": "code",
   "execution_count": 128,
   "metadata": {},
   "outputs": [],
   "source": [
    "chartevents_GCS_eye.to_parquet('./data/others/chartevents_GCS_eye.parquet')\n",
    "chartevents_GCS_verval.to_parquet('./data/others/chartevents_GCS_verval.parquet')\n",
    "chartevents_GCS_motor.to_parquet('./data/others/chartevents_GCS_motor.parquet')"
   ]
  },
  {
   "cell_type": "code",
   "execution_count": null,
   "metadata": {},
   "outputs": [],
   "source": []
  },
  {
   "cell_type": "code",
   "execution_count": null,
   "metadata": {},
   "outputs": [],
   "source": []
  },
  {
   "cell_type": "markdown",
   "metadata": {},
   "source": [
    "# Fluid/Vasopressor intake"
   ]
  },
  {
   "cell_type": "markdown",
   "metadata": {},
   "source": [
    "## Fluid"
   ]
  },
  {
   "cell_type": "code",
   "execution_count": 31,
   "metadata": {},
   "outputs": [],
   "source": [
    "fluid = [220949, 220950, 220952, 225158, 225159, 225161, 225828, 225797, 225799, 225823, 225825, 225827, 225830, 226089, 225941, 225943, 225944, 226361, 226363, 226364, 226375, 226377, 226452, 226453, 227533, 228140, 228141, 228142, 228341, 220955, 220967, 220968, 220953]\n",
    "inputevents_fluid = inputevents[inputevents['itemid'].isin(fluid)]"
   ]
  },
  {
   "cell_type": "code",
   "execution_count": 32,
   "metadata": {},
   "outputs": [
    {
     "data": {
      "text/plain": [
       "amountuom\n",
       "ml      4278391\n",
       "L            51\n",
       "cm3           2\n",
       "nL            1\n",
       "mm^3          1\n",
       "pL            1\n",
       "Name: count, dtype: int64"
      ]
     },
     "execution_count": 32,
     "metadata": {},
     "output_type": "execute_result"
    }
   ],
   "source": [
    "inputevents_fluid.amountuom.value_counts()"
   ]
  },
  {
   "cell_type": "code",
   "execution_count": 153,
   "metadata": {},
   "outputs": [],
   "source": [
    "inputevents_fluid.loc[inputevents_fluid['amountuom']=='L', 'amount'] = inputevents_fluid['amount']*1000\n",
    "inputevents_fluid.loc[inputevents_fluid['amountuom']=='nL', 'amount'] = 0\n",
    "inputevents_fluid.loc[inputevents_fluid['amountuom']=='mm^3', 'amount'] = inputevents_fluid['amount']*1e-3\n",
    "    _fluid.loc[inputevents_fluid['amountuom']=='pL', 'amount'] = inputevents_fluid['amount']*1e-9"
   ]
  },
  {
   "cell_type": "code",
   "execution_count": 176,
   "metadata": {},
   "outputs": [
    {
     "name": "stderr",
     "output_type": "stream",
     "text": [
      "C:\\Users\\DAHS\\AppData\\Local\\Temp\\ipykernel_124660\\4199976814.py:6: SettingWithCopyWarning: \n",
      "A value is trying to be set on a copy of a slice from a DataFrame.\n",
      "Try using .loc[row_indexer,col_indexer] = value instead\n",
      "\n",
      "See the caveats in the documentation: https://pandas.pydata.org/pandas-docs/stable/user_guide/indexing.html#returning-a-view-versus-a-copy\n",
      "  inputevents_['starttime'] = pd.to_datetime(inputevents_['starttime'])\n",
      "C:\\Users\\DAHS\\AppData\\Local\\Temp\\ipykernel_124660\\4199976814.py:7: SettingWithCopyWarning: \n",
      "A value is trying to be set on a copy of a slice from a DataFrame.\n",
      "Try using .loc[row_indexer,col_indexer] = value instead\n",
      "\n",
      "See the caveats in the documentation: https://pandas.pydata.org/pandas-docs/stable/user_guide/indexing.html#returning-a-view-versus-a-copy\n",
      "  inputevents_['endtime'] = pd.to_datetime(inputevents_['endtime'])\n"
     ]
    },
    {
     "data": {
      "application/vnd.jupyter.widget-view+json": {
       "model_id": "258a0ca56c804103be55f1086eee55af",
       "version_major": 2,
       "version_minor": 0
      },
      "text/plain": [
       "  0%|          | 0/73181 [00:00<?, ?it/s]"
      ]
     },
     "metadata": {},
     "output_type": "display_data"
    }
   ],
   "source": [
    "from pandas import Timedelta\n",
    "\n",
    "def calculate_drug_amounts_proportionally(inputevents_,icustays):\n",
    "    rt = []\n",
    "    # Select the ICU stay record\n",
    "    inputevents_['starttime'] = pd.to_datetime(inputevents_['starttime'])\n",
    "    inputevents_['endtime'] = pd.to_datetime(inputevents_['endtime'])\n",
    "    icustays['intime'] = pd.to_datetime(icustays['intime'])\n",
    "    icustays['outtime'] = pd.to_datetime(icustays['outtime'])\n",
    "    \n",
    "    for stay_id in tqdm(icustays.stay_id.unique()):\n",
    "        icu_stay = icustays[icustays['stay_id'] == stay_id]\n",
    "        tmp_id = icustays[icustays['stay_id']==stay_id][['subject_id','hadm_id','stay_id']].iloc[0].to_list()\n",
    "        # Create a date range from intime to outtime with 1-hour frequency\n",
    "        time_range = pd.date_range(start=icu_stay['intime'].iloc[0], end=icu_stay['outtime'].iloc[0], freq='H')\n",
    "\n",
    "        # Select the drug administration records for this ICU stay\n",
    "        drug_records = inputevents_[inputevents_['stay_id'] == stay_id]\n",
    "\n",
    "        # Initialize a DataFrame to store the total drug amount for each hour\n",
    "        drug_amounts = pd.DataFrame(index=time_range, columns=['valuenum'])\n",
    "        drug_amounts['valuenum'] = 0\n",
    "\n",
    "        # Calculate the total drug amount for each hour\n",
    "        for start, end, amount in zip(drug_records['starttime'], drug_records['endtime'], drug_records['amount']):\n",
    "            # For each drug record, find the overlapping time with the hourly intervals\n",
    "            overlap = time_range[(time_range >= start) & (time_range < end)]\n",
    "            if len(overlap) > 0:\n",
    "                # Calculate the total duration of drug administration in seconds\n",
    "                total_duration = (end - start).total_seconds()\n",
    "                # Calculate the duration of each overlapping hour in seconds\n",
    "                for hour in overlap:\n",
    "                    hour_end = hour + Timedelta(hours=1)\n",
    "                    # Intersection of the drug administration period and the hour\n",
    "                    intersection_start = max(start, hour)\n",
    "                    intersection_end = min(end, hour_end)\n",
    "                    intersection_duration = (intersection_end - intersection_start).total_seconds()\n",
    "                    # Distribute the drug amount proportionally to the intersection duration\n",
    "                    proportional_amount = (intersection_duration / total_duration) * amount\n",
    "                    drug_amounts.loc[hour, 'valuenum'] += proportional_amount\n",
    "            \n",
    "        drug_amounts.reset_index(drop=False,inplace=True)\n",
    "        drug_amounts.rename(columns={'index':'charttime'},inplace=True)\n",
    "        drug_amounts[['subject_id','hadm_id','stay_id']] = tmp_id\n",
    "        drug_amounts = drug_amounts[['subject_id','hadm_id','stay_id','charttime','valuenum']]\n",
    "        rt.append(drug_amounts)\n",
    "    return pd.concat(rt)\n",
    "\n",
    "# Test the function with the same sample stay_id\n",
    "drug_amounts_sample_proportional = calculate_drug_amounts_proportionally(inputevents_fluid,icustays)"
   ]
  },
  {
   "cell_type": "code",
   "execution_count": 179,
   "metadata": {},
   "outputs": [],
   "source": [
    "inputevents_fluid = drug_amounts_sample_proportional.copy()\n",
    "inputevents_fluid.to_parquet('./data/others/inptevents_fluid.parquet')"
   ]
  },
  {
   "cell_type": "code",
   "execution_count": 33,
   "metadata": {},
   "outputs": [],
   "source": [
    "inputevents_fluid = pd.read_parquet('./data/others/inptevents_fluid.parquet')"
   ]
  },
  {
   "cell_type": "code",
   "execution_count": 35,
   "metadata": {},
   "outputs": [
    {
     "data": {
      "text/plain": [
       "count    6.099434e+06\n",
       "mean     3.761108e+01\n",
       "std      6.571823e+01\n",
       "min      0.000000e+00\n",
       "25%      3.000918e+00\n",
       "50%      1.274385e+01\n",
       "75%      5.492145e+01\n",
       "max      2.522840e+04\n",
       "Name: valuenum, dtype: float64"
      ]
     },
     "execution_count": 35,
     "metadata": {},
     "output_type": "execute_result"
    }
   ],
   "source": [
    "inputevents_fluid.valuenum.describe()"
   ]
  },
  {
   "cell_type": "markdown",
   "metadata": {},
   "source": [
    "## Vasopressor"
   ]
  },
  {
   "cell_type": "code",
   "execution_count": 8,
   "metadata": {},
   "outputs": [],
   "source": [
    "inputevents['starttime'] = pd.to_datetime(inputevents['starttime'])\n",
    "inputevents['endtime'] = pd.to_datetime(inputevents['endtime'])"
   ]
  },
  {
   "cell_type": "code",
   "execution_count": 9,
   "metadata": {},
   "outputs": [],
   "source": [
    "inputevents_epinephrine = inputevents[inputevents['itemid'].isin([221289])]\n",
    "inputevents_dopamine = inputevents[inputevents['itemid'].isin([221662])]\n",
    "inputevents_dobutamine = inputevents[inputevents['itemid'].isin([221653])]\n",
    "inputevents_norephinephrine = inputevents[inputevents['itemid'].isin([221906])]\n",
    "inputevents_phenylephrine = inputevents[inputevents['itemid'].isin([221749, 229630, 229632])]\n",
    "inputevents_vasopressin = inputevents[inputevents['itemid'].isin([222315])]"
   ]
  },
  {
   "cell_type": "code",
   "execution_count": 10,
   "metadata": {},
   "outputs": [],
   "source": [
    "# Norephinephrine\n",
    "inputevents_norephinephrine.loc[inputevents_norephinephrine['rateuom']=='mg/kg/min','rate']= inputevents_norephinephrine['rate']*1e3\n",
    "inputevents_norephinephrine = inputevents_norephinephrine[['subject_id','hadm_id','stay_id','starttime','endtime','rate']]\n",
    "\n",
    "# Epinephrine\n",
    "inputevents_epinephrine = inputevents_epinephrine[['subject_id','hadm_id','stay_id','starttime','endtime','rate']]\n",
    "\n",
    "# Phenylephrine\n",
    "inputevents_phenylephrine.loc[inputevents_phenylephrine['rateuom']=='mcg/min','rate'] = inputevents_phenylephrine['rate']/inputevents_phenylephrine['patientweight']\n",
    "inputevents_phenylephrine = inputevents_phenylephrine[['subject_id','hadm_id','stay_id','starttime','endtime','rate']]\n",
    "\n",
    "# Vasopressin\n",
    "inputevents_vasopressin.loc[inputevents_vasopressin['rateuom']=='units/hour', 'rate'] = inputevents_vasopressin['rate']/60\n",
    "inputevents_vasopressin = inputevents_vasopressin[['subject_id','hadm_id','stay_id','starttime','endtime','rate']]\n",
    "\n",
    "### Dopamine\n",
    "inputevents_dopamine = inputevents_dopamine[['subject_id','hadm_id','stay_id','starttime','endtime','rate']]\n",
    "\n",
    "# Dobupamine\n",
    "inputevents_dobutamine = inputevents_dobutamine[['subject_id','hadm_id','stay_id','starttime','endtime','rate']]"
   ]
  },
  {
   "cell_type": "code",
   "execution_count": 64,
   "metadata": {},
   "outputs": [],
   "source": [
    "def resample_icu_stays_optimized(icustays, inputevents, name):\n",
    "    resampled_data = []\n",
    "    # inputevents에 있는 모든 stay_id를 미리 확인\n",
    "    inputevents_stay_ids = set(inputevents['stay_id'].unique())\n",
    "\n",
    "    for stay_id in tqdm(icustays.stay_id.unique()):\n",
    "        intime = icustays[icustays['stay_id']==stay_id].intime.values[0]\n",
    "        outtime = icustays[icustays['stay_id']==stay_id].outtime.values[0]\n",
    "        subject_id = icustays[icustays['stay_id']==stay_id].subject_id.values[0]\n",
    "        hadm_id = icustays[icustays['stay_id']==stay_id].hadm_id.values[0]\n",
    "\n",
    "        # 1시간 단위로 시간대 생성\n",
    "        time_range = pd.date_range(start=intime, end=outtime, freq='H')\n",
    "\n",
    "        # inputevents에 stay_id가 있는지 확인\n",
    "        if stay_id in inputevents_stay_ids:\n",
    "            # 해당 stay_id의 inputevents 데이터 필터링\n",
    "            stay_inputevents = inputevents[inputevents['stay_id'] == stay_id]\n",
    "\n",
    "            for timestamp in time_range:\n",
    "                end_time = timestamp + pd.Timedelta(hours=1)\n",
    "\n",
    "                # 해당 시간대에 해당하는 inputevents의 rate 합계 계산\n",
    "                rates = stay_inputevents[(stay_inputevents['starttime'] < end_time) & \n",
    "                                         (stay_inputevents['endtime'] >= timestamp)]['rate']\n",
    "                total_rate = rates.sum() if not rates.empty else 0\n",
    "\n",
    "                resampled_data.append({'subject_id':subject_id,'hadm_id':hadm_id,'stay_id': stay_id, 'charttime': timestamp, name: total_rate})\n",
    "        else:\n",
    "            # inputevents에 stay_id가 없는 경우, 모든 rate를 0으로 설정\n",
    "            for timestamp in time_range:\n",
    "                resampled_data.append({'subject_id':subject_id,'hadm_id':hadm_id,'stay_id': stay_id, 'charttime': timestamp, name: 0})\n",
    "\n",
    "    return pd.DataFrame(resampled_data)\n",
    "\n",
    "# 이 함수는 icustays와 inputevents DataFrame을 입력으로 받습니다.\n",
    "# 예시:\n",
    "# resampled_icu_data = resample_icu_stays_optimized(icustays_df, inputevents_df)\n"
   ]
  },
  {
   "cell_type": "code",
   "execution_count": 65,
   "metadata": {},
   "outputs": [
    {
     "data": {
      "application/vnd.jupyter.widget-view+json": {
       "model_id": "7b3a392a40854316a21627ccf5f7bec7",
       "version_major": 2,
       "version_minor": 0
      },
      "text/plain": [
       "  0%|          | 0/6 [00:00<?, ?it/s]"
      ]
     },
     "metadata": {},
     "output_type": "display_data"
    },
    {
     "data": {
      "application/vnd.jupyter.widget-view+json": {
       "model_id": "931904565ca14675a6876fafc9398045",
       "version_major": 2,
       "version_minor": 0
      },
      "text/plain": [
       "  0%|          | 0/73181 [00:00<?, ?it/s]"
      ]
     },
     "metadata": {},
     "output_type": "display_data"
    },
    {
     "data": {
      "application/vnd.jupyter.widget-view+json": {
       "model_id": "ba5506b203a6410bb831f11b2ed209f4",
       "version_major": 2,
       "version_minor": 0
      },
      "text/plain": [
       "  0%|          | 0/73181 [00:00<?, ?it/s]"
      ]
     },
     "metadata": {},
     "output_type": "display_data"
    },
    {
     "data": {
      "application/vnd.jupyter.widget-view+json": {
       "model_id": "d227eeb6d8dc4396a35ca8c98da2f94a",
       "version_major": 2,
       "version_minor": 0
      },
      "text/plain": [
       "  0%|          | 0/73181 [00:00<?, ?it/s]"
      ]
     },
     "metadata": {},
     "output_type": "display_data"
    },
    {
     "data": {
      "application/vnd.jupyter.widget-view+json": {
       "model_id": "f80d109b4c414825af6b9a1765b75be0",
       "version_major": 2,
       "version_minor": 0
      },
      "text/plain": [
       "  0%|          | 0/73181 [00:00<?, ?it/s]"
      ]
     },
     "metadata": {},
     "output_type": "display_data"
    },
    {
     "data": {
      "application/vnd.jupyter.widget-view+json": {
       "model_id": "e380255b935340dcad54d665e02c31a4",
       "version_major": 2,
       "version_minor": 0
      },
      "text/plain": [
       "  0%|          | 0/73181 [00:00<?, ?it/s]"
      ]
     },
     "metadata": {},
     "output_type": "display_data"
    },
    {
     "data": {
      "application/vnd.jupyter.widget-view+json": {
       "model_id": "b1264d2fd29946afbb62635af89058c9",
       "version_major": 2,
       "version_minor": 0
      },
      "text/plain": [
       "  0%|          | 0/73181 [00:00<?, ?it/s]"
      ]
     },
     "metadata": {},
     "output_type": "display_data"
    }
   ],
   "source": [
    "Vaso = ['epinephrine','dopamine','dobutamine','norephinephrine','phenylephrine','vasopressin']\n",
    "for i,idx in enumerate(tqdm(Vaso)):\n",
    "    globals()['resample_{}'.format(idx)] = resample_icu_stays_optimized(icustays, globals()['inputevents_{}'.format(idx)],idx)\n",
    "    globals()['resample_{}'.format(idx)].to_parquet('./data/resample/resample_%s.parquet'%idx)"
   ]
  },
  {
   "cell_type": "code",
   "execution_count": 58,
   "metadata": {},
   "outputs": [
    {
     "data": {
      "text/plain": [
       "count    6.099434e+06\n",
       "mean     1.344034e-03\n",
       "std      5.619700e-02\n",
       "min      0.000000e+00\n",
       "25%      0.000000e+00\n",
       "50%      0.000000e+00\n",
       "75%      0.000000e+00\n",
       "max      5.258903e+01\n",
       "Name: rate, dtype: float64"
      ]
     },
     "execution_count": 58,
     "metadata": {},
     "output_type": "execute_result"
    }
   ],
   "source": [
    "resample_epinephrine.rate.describe()"
   ]
  },
  {
   "cell_type": "markdown",
   "metadata": {},
   "source": [
    "# Ventilator"
   ]
  },
  {
   "cell_type": "code",
   "execution_count": 141,
   "metadata": {},
   "outputs": [],
   "source": [
    "chartevents_CPAP = chartevents[chartevents['itemid'].isin([227583])]\n",
    "procedureevents_ventilation = procedureevents[procedureevents['itemid'].isin([225792,225794])]"
   ]
  },
  {
   "cell_type": "code",
   "execution_count": 157,
   "metadata": {},
   "outputs": [
    {
     "name": "stderr",
     "output_type": "stream",
     "text": [
      "C:\\Users\\DAHS\\AppData\\Local\\Temp\\ipykernel_184608\\2484696807.py:1: SettingWithCopyWarning: \n",
      "A value is trying to be set on a copy of a slice from a DataFrame.\n",
      "Try using .loc[row_indexer,col_indexer] = value instead\n",
      "\n",
      "See the caveats in the documentation: https://pandas.pydata.org/pandas-docs/stable/user_guide/indexing.html#returning-a-view-versus-a-copy\n",
      "  procedureevents_ventilation['rate'] = 1\n"
     ]
    }
   ],
   "source": [
    "procedureevents_ventilation['rate'] = 1"
   ]
  },
  {
   "cell_type": "code",
   "execution_count": 162,
   "metadata": {},
   "outputs": [
    {
     "name": "stderr",
     "output_type": "stream",
     "text": [
      "C:\\Users\\DAHS\\AppData\\Local\\Temp\\ipykernel_184608\\1406317010.py:1: SettingWithCopyWarning: \n",
      "A value is trying to be set on a copy of a slice from a DataFrame.\n",
      "Try using .loc[row_indexer,col_indexer] = value instead\n",
      "\n",
      "See the caveats in the documentation: https://pandas.pydata.org/pandas-docs/stable/user_guide/indexing.html#returning-a-view-versus-a-copy\n",
      "  procedureevents_ventilation['starttime'] = pd.to_datetime(procedureevents_ventilation['starttime'])\n",
      "C:\\Users\\DAHS\\AppData\\Local\\Temp\\ipykernel_184608\\1406317010.py:2: SettingWithCopyWarning: \n",
      "A value is trying to be set on a copy of a slice from a DataFrame.\n",
      "Try using .loc[row_indexer,col_indexer] = value instead\n",
      "\n",
      "See the caveats in the documentation: https://pandas.pydata.org/pandas-docs/stable/user_guide/indexing.html#returning-a-view-versus-a-copy\n",
      "  procedureevents_ventilation['endtime'] = pd.to_datetime(procedureevents_ventilation['endtime'])\n"
     ]
    }
   ],
   "source": [
    "procedureevents_ventilation['starttime'] = pd.to_datetime(procedureevents_ventilation['starttime'])\n",
    "procedureevents_ventilation['endtime'] = pd.to_datetime(procedureevents_ventilation['endtime'])"
   ]
  },
  {
   "cell_type": "code",
   "execution_count": 163,
   "metadata": {},
   "outputs": [
    {
     "data": {
      "application/vnd.jupyter.widget-view+json": {
       "model_id": "6ce467d58f414f879e762ba81803ae21",
       "version_major": 2,
       "version_minor": 0
      },
      "text/plain": [
       "  0%|          | 0/73181 [00:00<?, ?it/s]"
      ]
     },
     "metadata": {},
     "output_type": "display_data"
    }
   ],
   "source": [
    "resample_ventilation = resample_icu_stays_optimized(icustays,procedureevents_ventilation,'ventilation')"
   ]
  },
  {
   "cell_type": "code",
   "execution_count": null,
   "metadata": {},
   "outputs": [],
   "source": []
  }
 ],
 "metadata": {
  "kernelspec": {
   "display_name": "torch",
   "language": "python",
   "name": "python3"
  },
  "language_info": {
   "codemirror_mode": {
    "name": "ipython",
    "version": 3
   },
   "file_extension": ".py",
   "mimetype": "text/x-python",
   "name": "python",
   "nbconvert_exporter": "python",
   "pygments_lexer": "ipython3",
   "version": "3.9.0"
  }
 },
 "nbformat": 4,
 "nbformat_minor": 2
}
