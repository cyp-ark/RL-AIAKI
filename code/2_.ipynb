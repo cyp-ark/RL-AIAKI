{
 "cells": [
  {
   "cell_type": "code",
   "execution_count": 1,
   "metadata": {},
   "outputs": [],
   "source": [
    "import pandas as pd\n",
    "import numpy as np\n",
    "import matplotlib.pyplot as plt\n",
    "import sys, os, pickle, utils\n",
    "\n",
    "from tqdm.notebook import tqdm\n",
    "from datetime import timedelta\n",
    "#from utils import baseline_SCr\n",
    "\n",
    "if os.getcwd()[-4:] == \"code\":\n",
    "    os.chdir('../')\n",
    "\n",
    "icu  = './data/mimic-iv-2.2-parquet/icu/'\n",
    "hosp = './data/mimic-iv-2.2-parquet/hosp/'\n",
    "ed   = './data/mimic-iv-2.2-parquet/ed/'\n",
    "\n",
    "pd.set_option('mode.chained_assignment',  None)"
   ]
  },
  {
   "cell_type": "code",
   "execution_count": 12,
   "metadata": {},
   "outputs": [],
   "source": [
    "hosp_list = ['labevents', 'd_labitems', 'patients', 'admissions', \n",
    "             'diagnoses_icd', 'microbiologyevents', 'prescriptions', 'omr']\n",
    "for i in hosp_list:\n",
    "    globals()['{}'.format(i)] = pd.read_parquet(hosp+i+'.parquet')"
   ]
  },
  {
   "cell_type": "code",
   "execution_count": 13,
   "metadata": {},
   "outputs": [],
   "source": [
    "icu_list = ['chartevents', 'd_items', 'icustays', 'inputevents', 'outputevents', 'procedureevents']\n",
    "for i in icu_list:\n",
    "    globals()['{}'.format(i)] = pd.read_parquet(icu+i+'.parquet')"
   ]
  },
  {
   "cell_type": "code",
   "execution_count": 14,
   "metadata": {},
   "outputs": [],
   "source": [
    "vitalsign = pd.read_parquet(ed+'vitalsign.parquet')"
   ]
  },
  {
   "cell_type": "code",
   "execution_count": 15,
   "metadata": {},
   "outputs": [],
   "source": [
    "labvalues = pd.read_csv('./data/origin/labvalues/labvalues.csv')\n",
    "vitals = pd.read_csv('./data/origin/vitals/vitals.csv')\n",
    "comorbidities = pd.read_csv('./data/origin/demographic/comorbidities.csv')"
   ]
  },
  {
   "cell_type": "markdown",
   "metadata": {},
   "source": [
    "# Demographic"
   ]
  },
  {
   "cell_type": "markdown",
   "metadata": {},
   "source": [
    "## Gender"
   ]
  },
  {
   "cell_type": "code",
   "execution_count": 16,
   "metadata": {},
   "outputs": [],
   "source": [
    "if not os.path.isfile('./data/origin/demographic/patients_gender.parquet'):\n",
    "    patients_gender = utils.cal_gender(patients)\n",
    "    patients_gender.to_parquet('./data/origin/demographic/patients_gender.parquet')\n",
    "else : patients_gender = pd.read_parquet('./data/origin/demographic/patients_gender.parquet')"
   ]
  },
  {
   "cell_type": "markdown",
   "metadata": {},
   "source": [
    "## Age"
   ]
  },
  {
   "cell_type": "code",
   "execution_count": 17,
   "metadata": {},
   "outputs": [],
   "source": [
    "if not os.path.isfile('./data/origin/demographic/icustays_age.parquet'):\n",
    "    icustays_age = utils.cal_age(icustays,patients)\n",
    "    icustays_age.to_parquet('./data/origin/demographic/icustays_age.parquet')\n",
    "else : icustays_age = pd.read_parquet('./data/origin/demographic/icustays_age.parquet')"
   ]
  },
  {
   "cell_type": "markdown",
   "metadata": {},
   "source": [
    "## Race"
   ]
  },
  {
   "cell_type": "code",
   "execution_count": 18,
   "metadata": {},
   "outputs": [],
   "source": [
    "if not os.path.isfile('./data/origin/demographic/admissions_race.parquet'):\n",
    "    admissions_race = utils.cal_race(admissions)\n",
    "    admissions_race.to_parquet('./data/origin/demographic/admissions_race.parquet')\n",
    "else : admissions_race = pd.read_parquet('./data/origin/demographic/admissions_race.parquet')"
   ]
  },
  {
   "cell_type": "markdown",
   "metadata": {},
   "source": [
    "## Height"
   ]
  },
  {
   "cell_type": "code",
   "execution_count": null,
   "metadata": {},
   "outputs": [],
   "source": [
    "#admission_height = cal_height(icustays,chartevents,omr)"
   ]
  },
  {
   "cell_type": "markdown",
   "metadata": {},
   "source": [
    "## Weight"
   ]
  },
  {
   "cell_type": "code",
   "execution_count": 19,
   "metadata": {},
   "outputs": [],
   "source": [
    "if not os.path.isfile('./data/origin/demographic/admission_weight.parquet'):\n",
    "    admission_weight = utils.cal_weight(icustays,chartevents,inputevents,omr)\n",
    "    admission_weight.to_parquet('./data/origin/demographic/admission_weight.parquet')\n",
    "else : admission_weight = pd.read_parquet('./data/origin/demographic/admission_weight.parquet')"
   ]
  },
  {
   "cell_type": "markdown",
   "metadata": {},
   "source": [
    "## Comorbidites"
   ]
  },
  {
   "cell_type": "code",
   "execution_count": 20,
   "metadata": {},
   "outputs": [],
   "source": [
    "if not os.path.isfile('./data/origin/demographic/comorbidities.parquet'):\n",
    "    comorbidities = utils.cal_comorbidities(icustays, comorbidities,diagnoses_icd)\n",
    "    comorbidities.to_parquet('./data/origin/demographic/comorbidities.parquet')\n",
    "else : comorbidities = pd.read_parquet('./data/origin/demographic/comorbidities.parquet')"
   ]
  },
  {
   "cell_type": "markdown",
   "metadata": {},
   "source": [
    "## Baseline SCr"
   ]
  },
  {
   "cell_type": "code",
   "execution_count": 21,
   "metadata": {},
   "outputs": [],
   "source": [
    "if not os.path.isfile('./data/origin/demographic/baseline_SCr.parquet'):\n",
    "    baseline_SCr = utils.cal_baseline_SCr(labevents,icustays,patients_gender,icustays_age,admissions_race)\n",
    "    baseline_SCr.to_parquet('./data/origin/baseline_SCr.parquet')\n",
    "else : baseline_SCr = pd.read_parquet('./data/origin/demographic/baseline_SCr.parquet')"
   ]
  },
  {
   "cell_type": "markdown",
   "metadata": {},
   "source": [
    "# Lab values"
   ]
  },
  {
   "cell_type": "code",
   "execution_count": null,
   "metadata": {},
   "outputs": [
    {
     "data": {
      "application/vnd.jupyter.widget-view+json": {
       "model_id": "b1a4b2503b3649d6ad427836ef8c827e",
       "version_major": 2,
       "version_minor": 0
      },
      "text/plain": [
       "  0%|          | 0/30 [00:00<?, ?it/s]"
      ]
     },
     "metadata": {},
     "output_type": "display_data"
    }
   ],
   "source": [
    "for i,idx in enumerate(tqdm(labvalues.abbreviation)):\n",
    "    if not os.path.isfile('./data/origin/labvalues/chartevents_%s.parquet'%idx):\n",
    "        tmp = labvalues.iloc[i]\n",
    "        globals()['chartevents_{}'.format(idx)] = utils.extract_labvalues(chartevents,labevents,tmp,is_in_icu=True)\n",
    "        globals()['chartevents_{}'.format(idx)].to_parquet('./data/origin/labvalues/chartevents_%s.parquet'%idx)\n",
    "    else : globals()['chartevents_{}'.format(idx)] = pd.read_parquet('./data/origin/labvalues/chartevents_%s.parquet'%idx)"
   ]
  },
  {
   "cell_type": "code",
   "execution_count": null,
   "metadata": {},
   "outputs": [
    {
     "data": {
      "application/vnd.jupyter.widget-view+json": {
       "model_id": "f6c287e4fa5e4c90b096d1bffbf071fe",
       "version_major": 2,
       "version_minor": 0
      },
      "text/plain": [
       "  0%|          | 0/30 [00:00<?, ?it/s]"
      ]
     },
     "metadata": {},
     "output_type": "display_data"
    }
   ],
   "source": [
    "for i,idx in enumerate(tqdm(labvalues.abbreviation)):\n",
    "    if not os.path.isfile('./data/origin/labvalues/labevents_%s.parquet'%idx):\n",
    "        tmp = labvalues.iloc[i]\n",
    "        globals()['labevents_{}'.format(idx)] = utils.extract_labvalues(chartevents,labevents,tmp,is_in_icu=False)\n",
    "        globals()['labevents_{}'.format(idx)].to_parquet('./data/origin/labvalues/labevents_%s.parquet'%idx)\n",
    "    else : globals()['labevents_{}'.format(idx)] = pd.read_parquet('./data/origin/labvalues/labevents_%s.parquet'%idx)"
   ]
  },
  {
   "cell_type": "code",
   "execution_count": 22,
   "metadata": {},
   "outputs": [
    {
     "data": {
      "application/vnd.jupyter.widget-view+json": {
       "model_id": "36c906c3e5814312a6b168318c7e3b4d",
       "version_major": 2,
       "version_minor": 0
      },
      "text/plain": [
       "  0%|          | 0/30 [00:00<?, ?it/s]"
      ]
     },
     "metadata": {},
     "output_type": "display_data"
    }
   ],
   "source": [
    "for i,idx in enumerate(tqdm(labvalues.abbreviation)):\n",
    "    if not os.path.isfile('./data/resample/labvalues/resample_%s.parquet'%idx):\n",
    "        globals()['resample_{}'.format(idx)] = utils.resample_labvalues(globals()['chartevents_{}'.format(idx)],globals()['labevents_{}'.format(idx)],icustays,idx)\n",
    "        globals()['resample_{}'.format(idx)].to_parquet('./data/resample/labvalues/resample_%s.parquet'%idx)\n",
    "    else : globals()['resample_{}'.format(idx)] = pd.read_parquet('./data/resample/labvalues/resample_%s.parquet'%idx)"
   ]
  },
  {
   "cell_type": "markdown",
   "metadata": {},
   "source": [
    "# Vitals"
   ]
  },
  {
   "cell_type": "code",
   "execution_count": null,
   "metadata": {},
   "outputs": [
    {
     "data": {
      "application/vnd.jupyter.widget-view+json": {
       "model_id": "7c95e781e3554bb5a2806559d2922d10",
       "version_major": 2,
       "version_minor": 0
      },
      "text/plain": [
       "  0%|          | 0/11 [00:00<?, ?it/s]"
      ]
     },
     "metadata": {},
     "output_type": "display_data"
    }
   ],
   "source": [
    "for i,idx in enumerate(tqdm(vitals.abbreviation)):\n",
    "    if not os.path.isfile('./data/origin/vitals/chartevents_%s.parquet'%idx):\n",
    "        tmp = vitals.iloc[i]\n",
    "        globals()['chartevents_{}'.format(idx)] = utils.extract_labvalues(chartevents,labevents,tmp,is_in_icu=True)\n",
    "        globals()['chartevents_{}'.format(idx)].to_parquet('./data/origin/vitals/chartevents_%s.parquet'%idx)\n",
    "    else : globals()['chartevents_{}'.format(idx)] = pd.read_parquet('./data/origin/vitals/chartevents_%s.parquet'%idx)\n",
    "\n",
    "# Temperature\n",
    "chartevents_tempF['valuenum'] = (chartevents_tempF['valuenum']-32)*5/9\n",
    "chartevents_tempF.rename(columns={'valuenum2':'valuenum'},inplace=True)\n",
    "chartevents_tempF['valuenum'] = chartevents_tempF['valuenum'].round(1)\n",
    "\n",
    "chartevents_temp = pd.concat([chartevents_tempC,chartevents_tempF])\n",
    "chartevents_temp.sort_values(by=['subject_id','hadm_id','stay_id','charttime'],inplace=True)\n",
    "chartevents_temp.to_parquet('./data/origin/vitals/chartevents_temp.parquet')\n",
    "\n",
    "os.remove('./data/origin/vitals/chartevents_tempC.parquet')\n",
    "os.remove('./data/origin/vitals/chartevents_tempF.parquet')"
   ]
  },
  {
   "cell_type": "code",
   "execution_count": 23,
   "metadata": {},
   "outputs": [
    {
     "data": {
      "application/vnd.jupyter.widget-view+json": {
       "model_id": "e59319ae4a4947708268293b9162f3b7",
       "version_major": 2,
       "version_minor": 0
      },
      "text/plain": [
       "  0%|          | 0/10 [00:00<?, ?it/s]"
      ]
     },
     "metadata": {},
     "output_type": "display_data"
    },
    {
     "name": "stdout",
     "output_type": "stream",
     "text": [
      "Processing ABPd\n",
      "Processing ABPs\n",
      "Processing CVP\n",
      "Processing FiO2\n",
      "Processing HR\n",
      "Processing NBPd\n",
      "Processing NBPs\n",
      "Processing RR\n",
      "Processing SaO2\n",
      "Processing temp\n"
     ]
    }
   ],
   "source": [
    "for idx in tqdm([x[12:-8] for x in os.listdir('./data/origin/vitals') if x[-8:] == '.parquet']):\n",
    "    print('Processing %s'%idx)\n",
    "    if not os.path.isfile('./data/resample/vitals/resample_%s.parquet'%idx):\n",
    "        globals()['resample_{}'.format(idx)] = utils.resample_vitals(globals()['chartevents_{}'.format(idx)],icustays,idx)\n",
    "        globals()['resample_{}'.format(idx)].to_parquet('./data/resample/vitals/resample_%s.parquet'%idx)\n",
    "    else : globals()['resample_{}'.format(idx)] = pd.read_parquet('./data/resample/vitals/resample_%s.parquet'%idx)"
   ]
  },
  {
   "cell_type": "code",
   "execution_count": 24,
   "metadata": {},
   "outputs": [],
   "source": [
    "resample_SBP = utils.cal_BP(resample_ABPs, resample_NBPs, isSBP=True)\n",
    "resample_DBP = utils.cal_BP(resample_ABPd, resample_NBPd, isSBP=False)\n",
    "resample_MAP = utils.cal_MAP(resample_DBP, resample_SBP)\n",
    "\n",
    "resample_SBP.to_parquet('./data/resample/vitals/resample_SBP.parquet')\n",
    "resample_DBP.to_parquet('./data/resample/vitals/resample_DBP.parquet')\n",
    "resample_MAP.to_parquet('./data/resample/vitals/resample_MAP.parquet')"
   ]
  },
  {
   "cell_type": "markdown",
   "metadata": {},
   "source": [
    "# Urine Output"
   ]
  },
  {
   "cell_type": "code",
   "execution_count": 25,
   "metadata": {},
   "outputs": [],
   "source": [
    "if not os.path.isfile('./data/resample/measures/resample_uo.parquet'):\n",
    "    outputevents_uo = utils.cal_uo(outputevents)\n",
    "    resample_uo = utils.resample_urine(outputevents_uo, icustays, 'uo')\n",
    "    resample_uo.to_parquet('./data/resample/measures/resample_uo.parquet')\n",
    "else : resample_uo = pd.read_parquet('./data/resample/measures/resample_uo.parquet')"
   ]
  },
  {
   "cell_type": "markdown",
   "metadata": {},
   "source": [
    "# Fluid/Vasopressor intake"
   ]
  },
  {
   "cell_type": "markdown",
   "metadata": {},
   "source": [
    "## Fluid"
   ]
  },
  {
   "cell_type": "code",
   "execution_count": 26,
   "metadata": {},
   "outputs": [],
   "source": [
    "if not os.path.isfile('./data/resample/inputs/resample_fluid.parquet'):\n",
    "    fluid = [220949, 220950, 220952, 225158, 225159, 225161, 225828, 225797, 225799, 225823, 225825, 225827, 225830, 226089, 225941, 225943, 225944, 226361, 226363, 226364, 226375, 226377, 226452, 226453, 227533, 228140, 228141, 228142, 228341, 220955, 220967, 220968, 220953]\n",
    "    inputevents_fluid = inputevents[inputevents['itemid'].isin(fluid)]\n",
    "\n",
    "    inputevents_fluid.loc[inputevents_fluid['rateuom']=='mL/min', 'rate'] = inputevents_fluid['rate']/60\n",
    "    inputevents_fluid.loc[inputevents_fluid['rateuom']=='mL/kg/hour', 'rate'] = inputevents_fluid['rate'] * inputevents_fluid['patientweight']\n",
    "\n",
    "    resample_fluids = utils.resample_inputrates(icustays,inputevents_fluid,'fluid')\n",
    "    resample_fluids.to_parquet('./data/resample/inputs/resample_fluid.parquet')\n",
    "else : resample_fluids = pd.read_parquet('./data/resample/inputs/resample_fluid.parquet')"
   ]
  },
  {
   "cell_type": "markdown",
   "metadata": {},
   "source": [
    "## Vasopressor"
   ]
  },
  {
   "cell_type": "code",
   "execution_count": 27,
   "metadata": {},
   "outputs": [],
   "source": [
    "inputevents_angiotensin_ii = inputevents[inputevents['itemid'].isin([229709,229764])]"
   ]
  },
  {
   "cell_type": "code",
   "execution_count": 28,
   "metadata": {},
   "outputs": [],
   "source": [
    "inputevents_epinephrine = inputevents[inputevents['itemid'].isin([221289])]\n",
    "inputevents_dopamine = inputevents[inputevents['itemid'].isin([221662])]\n",
    "inputevents_dobutamine = inputevents[inputevents['itemid'].isin([221653])]\n",
    "inputevents_norephinephrine = inputevents[inputevents['itemid'].isin([221906])]\n",
    "inputevents_phenylephrine = inputevents[inputevents['itemid'].isin([221749, 229630, 229632])]\n",
    "inputevents_vasopressin = inputevents[inputevents['itemid'].isin([222315])]"
   ]
  },
  {
   "cell_type": "code",
   "execution_count": 29,
   "metadata": {},
   "outputs": [],
   "source": [
    "# Norephinephrine\n",
    "inputevents_norephinephrine.loc[inputevents_norephinephrine['rateuom']=='mg/kg/min','rate']= inputevents_norephinephrine['rate']*1e3\n",
    "inputevents_norephinephrine = inputevents_norephinephrine[['subject_id','hadm_id','stay_id','starttime','endtime','rate']]\n",
    "\n",
    "# Epinephrine\n",
    "inputevents_epinephrine = inputevents_epinephrine[['subject_id','hadm_id','stay_id','starttime','endtime','rate']]\n",
    "\n",
    "# Phenylephrine\n",
    "inputevents_phenylephrine.loc[inputevents_phenylephrine['rateuom']=='mcg/min','rate'] = inputevents_phenylephrine['rate']/inputevents_phenylephrine['patientweight']\n",
    "inputevents_phenylephrine = inputevents_phenylephrine[['subject_id','hadm_id','stay_id','starttime','endtime','rate']]\n",
    "\n",
    "# Vasopressin\n",
    "inputevents_vasopressin.loc[inputevents_vasopressin['rateuom']=='units/hour', 'rate'] = inputevents_vasopressin['rate']/60\n",
    "inputevents_vasopressin = inputevents_vasopressin[['subject_id','hadm_id','stay_id','starttime','endtime','rate']]\n",
    "\n",
    "# Dopamine\n",
    "inputevents_dopamine = inputevents_dopamine[['subject_id','hadm_id','stay_id','starttime','endtime','rate']]\n",
    "\n",
    "# Dobupamine\n",
    "inputevents_dobutamine = inputevents_dobutamine[['subject_id','hadm_id','stay_id','starttime','endtime','rate']]\n",
    "\n",
    "# angiotensin_ii\n",
    "inputevents_angiotensin_ii.loc[inputevents_angiotensin_ii['rateuom']=='mcg/kg/min', 'rate'] = inputevents_angiotensin_ii['rate']*1e3\n",
    "inputevents_angiotensin_ii = inputevents_angiotensin_ii[['subject_id','hadm_id','stay_id','starttime','endtime','rate']]"
   ]
  },
  {
   "cell_type": "code",
   "execution_count": 30,
   "metadata": {},
   "outputs": [
    {
     "data": {
      "application/vnd.jupyter.widget-view+json": {
       "model_id": "abc52ecc03884134a4ae44f950f92538",
       "version_major": 2,
       "version_minor": 0
      },
      "text/plain": [
       "  0%|          | 0/7 [00:00<?, ?it/s]"
      ]
     },
     "metadata": {},
     "output_type": "display_data"
    }
   ],
   "source": [
    "Vaso = ['epinephrine','dopamine','dobutamine','norephinephrine','phenylephrine','vasopressin','angiotensin_ii']\n",
    "for i,idx in enumerate(tqdm(Vaso)):\n",
    "    if not os.path.isfile('./data/resample/inputs/resample_%s.parquet'%idx):\n",
    "        globals()['resample_{}'.format(idx)] = utils.resample_inputrates(icustays, globals()['inputevents_{}'.format(idx)],idx)\n",
    "        globals()['resample_{}'.format(idx)].to_parquet('./data/resample/inputs/resample_%s.parquet'%idx)\n",
    "    else : globals()['resample_{}'.format(idx)] = pd.read_parquet('./data/resample/inputs/resample_%s.parquet'%idx)"
   ]
  },
  {
   "cell_type": "code",
   "execution_count": 31,
   "metadata": {},
   "outputs": [
    {
     "data": {
      "application/vnd.jupyter.widget-view+json": {
       "model_id": "34355b99f03e42faaa3166484dd2280f",
       "version_major": 2,
       "version_minor": 0
      },
      "text/plain": [
       "  0%|          | 0/7 [00:00<?, ?it/s]"
      ]
     },
     "metadata": {},
     "output_type": "display_data"
    }
   ],
   "source": [
    "for i,idx in enumerate(tqdm(Vaso)):\n",
    "    if i == 0 : resample_vasopressor = globals()['resample_{}'.format(idx)].copy()\n",
    "    else : resample_vasopressor = pd.merge(resample_vasopressor,globals()['resample_{}'.format(idx)].copy(),on=['subject_id','hadm_id','stay_id','charttime'],how='left')"
   ]
  },
  {
   "cell_type": "code",
   "execution_count": 32,
   "metadata": {},
   "outputs": [],
   "source": [
    "resample_vasopressor['vaso_equ'] = resample_vasopressor['norephinephrine'] + resample_vasopressor['epinephrine'] + 1/100*resample_vasopressor['dopamine'] + 0.06*resample_vasopressor['phenylephrine'] + 2.5*resample_vasopressor['vasopressin'] + 0.0025*resample_vasopressor['angiotensin_ii']\n",
    "resample_vasopressor = resample_vasopressor[['subject_id','hadm_id','stay_id','charttime','vaso_equ']]"
   ]
  },
  {
   "cell_type": "markdown",
   "metadata": {},
   "source": [
    "# Ventilator"
   ]
  },
  {
   "cell_type": "code",
   "execution_count": 33,
   "metadata": {},
   "outputs": [],
   "source": [
    "if not os.path.isfile('./data/resample/procedures/resample_ventilation.parquet'):\n",
    "    procedureevents_ventilation = procedureevents[procedureevents['itemid'].isin([225792,225794])]\n",
    "    resample_ventilation = utils.resample_inputrates(icustays,procedureevents_ventilation,'ventilation')\n",
    "    resample_ventilation.to_parquet('./data/resample_ventilation.parquet')\n",
    "else : resample_ventilation = pd.read_parquet('./data/resample/procedures/resample_ventilation.parquet')"
   ]
  },
  {
   "cell_type": "markdown",
   "metadata": {},
   "source": [
    "# RRT"
   ]
  },
  {
   "cell_type": "code",
   "execution_count": 34,
   "metadata": {},
   "outputs": [],
   "source": [
    "if not os.path.isfile('./data/resample/procedures/resample_rrt.parquet'):\n",
    "    procedureevents_rrt = procedureevents[procedureevents['itemid'].isin([\n",
    "    225441, #Hemodialysis\n",
    "    225802, #Dialysis - CRRT\n",
    "    225803, #Dialysis - CVVHD\n",
    "    225805, #Peritoneal Dialysis\n",
    "    225809, #Dialysis - CVVHDF\n",
    "    225955, #Dialysis - SCUF\n",
    "    ])]\n",
    "    resample_rrt = utils.resample_inputrates(icustays,procedureevents_rrt,'RRT')\n",
    "    resample_rrt.to_parquet('./data/resample/procedures/resample_rrt.parquet')\n",
    "else : resample_rrt = pd.read_parquet('./data/resample/procedures/resample_rrt.parquet')"
   ]
  },
  {
   "cell_type": "markdown",
   "metadata": {},
   "source": [
    "# SOFA"
   ]
  },
  {
   "cell_type": "code",
   "execution_count": 35,
   "metadata": {},
   "outputs": [
    {
     "data": {
      "application/vnd.jupyter.widget-view+json": {
       "model_id": "e214a3a769914c5f9ddd1ad605af4111",
       "version_major": 2,
       "version_minor": 0
      },
      "text/plain": [
       "  0%|          | 0/3 [00:00<?, ?it/s]"
      ]
     },
     "metadata": {},
     "output_type": "display_data"
    }
   ],
   "source": [
    "# GCS\n",
    "chartevents_GCS_eye = chartevents[chartevents['itemid'].isin([220739])]\n",
    "chartevents_GCS_verval = chartevents[chartevents['itemid'].isin([223900])]\n",
    "chartevents_GCS_motor = chartevents[chartevents['itemid'].isin([223901])]\n",
    "\n",
    "GCS = ['GCS_eye','GCS_verval','GCS_motor']\n",
    "for i,idx in enumerate(tqdm(GCS)):\n",
    "    if not os.path.isfile('./data/resample/measures/resample_%s.parquet'%idx):\n",
    "        print(\"[%i/%i] Resampling %s...\"%(i+1,len(vitals.abbreviation.unique()),idx))\n",
    "        globals()['resample_{}'.format(idx)] = resample_vitals(globals()['chartevents_{}'.format(idx)],icustays,idx)\n",
    "        globals()['resample_{}'.format(idx)].to_parquet('./data/resample/resample_%s.parquet'%idx)\n",
    "    else : globals()['resample_{}'.format(idx)] = pd.read_parquet('./data/resample/measures/resample_%s.parquet'%idx)"
   ]
  },
  {
   "cell_type": "code",
   "execution_count": 36,
   "metadata": {},
   "outputs": [],
   "source": [
    "resample_GCS_eye = utils.resample_fill(resample_GCS_eye)\n",
    "resample_GCS_verval = utils.resample_fill(resample_GCS_verval)\n",
    "resample_GCS_motor = utils.resample_fill(resample_GCS_motor)\n",
    "\n",
    "resample_GCS_eye.rename(columns={'valuenum':'GCS_eye'},inplace=True)\n",
    "resample_GCS_verval.rename(columns={'valuenum':'GCS_verval'},inplace=True)\n",
    "resample_GCS_motor.rename(columns={'valuenum':'GCS_motor'},inplace=True)\n",
    "\n",
    "resample_GCS_eye.drop('itemid',axis=1,inplace=True)\n",
    "resample_GCS_verval.drop('itemid',axis=1,inplace=True)\n",
    "resample_GCS_motor.drop('itemid',axis=1,inplace=True)\n",
    "\n",
    "resample_GCS = pd.merge(resample_GCS_eye,resample_GCS_verval,on=['subject_id','hadm_id','stay_id','charttime'],how='left')\n",
    "resample_GCS = pd.merge(resample_GCS,resample_GCS_motor,on=['subject_id','hadm_id','stay_id','charttime'],how='left')\n",
    "\n",
    "resample_GCS = resample_GCS[['subject_id','hadm_id','stay_id','charttime','GCS_eye','GCS_verval','GCS_motor']]\n",
    "resample_GCS['GCS'] = resample_GCS['GCS_eye'] + resample_GCS['GCS_verval'] + resample_GCS['GCS_motor']"
   ]
  },
  {
   "cell_type": "code",
   "execution_count": 37,
   "metadata": {},
   "outputs": [],
   "source": [
    "def resample_PF(resample_PaO2,resample_FiO2):\n",
    "    resample_PaO2.rename(columns={'valuenum':'PaO2'},inplace=True)\n",
    "    resample_FiO2.rename(columns={'valuenum':'FiO2'},inplace=True)\n",
    "\n",
    "    df = pd.merge(resample_PaO2,resample_FiO2,on=['subject_id','hadm_id','stay_id','charttime'],how='left')\n",
    "    df['PF'] = df['PaO2']/(df['FiO2']/100)\n",
    "    df = df[['subject_id','hadm_id','stay_id','charttime','PF']]\n",
    "    return df\n",
    "\n",
    "resample_PF = resample_PF(resample_PaO2,resample_FiO2)"
   ]
  },
  {
   "cell_type": "code",
   "execution_count": 38,
   "metadata": {},
   "outputs": [],
   "source": [
    "resample_uo_24hrs = resample_uo.copy()\n",
    "rolling_avg=resample_uo_24hrs.groupby('stay_id').rolling(window='24H', on='charttime',min_periods=24)['uo'].sum().reset_index(drop=True)\n",
    "resample_uo_24hrs['uo_day'] = rolling_avg"
   ]
  },
  {
   "cell_type": "code",
   "execution_count": 39,
   "metadata": {},
   "outputs": [],
   "source": [
    "resample_SOFA = resample_GCS.copy()\n",
    "for i in ['MAP','dopamine','dobutamine','epinephrine','norephinephrine','PF','Platelet','T_Bil','SCr','ventilation','uo_24hrs']:\n",
    "    resample_SOFA = pd.merge(resample_SOFA,globals()['resample_{}'.format(i)],on=['subject_id','hadm_id','stay_id','charttime'],how='left')"
   ]
  },
  {
   "cell_type": "code",
   "execution_count": 40,
   "metadata": {},
   "outputs": [],
   "source": [
    "def cal_SOFA(df):\n",
    "    # Central nervous system\n",
    "    #df.loc[df['GCS'].isna(),'SOFA_CNS'] = 0\n",
    "    df.loc[df['GCS']==15,'SOFA_CNS'] = 0\n",
    "    df.loc[(df['GCS']>=13)&(df['GCS']<=14),'SOFA_CNS'] = 1\n",
    "    df.loc[(df['GCS']>=10)&(df['GCS']<=12),'SOFA_CNS'] = 2\n",
    "    df.loc[(df['GCS']>=6)&(df['GCS']<=9),'SOFA_CNS'] = 3\n",
    "    df.loc[(df['GCS']<6),'SOFA_CNS'] = 4\n",
    "\n",
    "    # Cardiovascular system\n",
    "    #df.loc[df['MAP'].isna(),'SOFA_CVS'] = 0\n",
    "    df.loc[df['MAP']>=70,'SOFA_CVS'] = 0\n",
    "    df.loc[df['MAP']<70,'SOFA_CVS'] = 1\n",
    "    df.loc[((df['dopamine']<=5)&(df['dopamine']>0))|(df['dobutamine']>0),'SOFA_CVS'] = 2\n",
    "    df.loc[(df['dopamine']>5)|((df['epinephrine']<=0.1)&(df['epinephrine']>0))|((df['norephinephrine']<=0.1)&(df['norephinephrine']>0)),'SOFA_CVS'] = 3\n",
    "    df.loc[(df['dopamine']>15)|(df['epinephrine']>0.1)|(df['norephinephrine']>0.1),'SOFA_CVS'] = 4\n",
    "\n",
    "    # Respiratory system\n",
    "    #df.loc[df['PF'].isna(), 'SOFA_RS'] = 0\n",
    "    df.loc[df['PF']>=400, 'SOFA_RS'] = 0\n",
    "    df.loc[df['PF']<400, 'SOFA_RS'] = 1\n",
    "    df.loc[df['PF']<300, 'SOFA_RS'] = 2\n",
    "    df.loc[(df['PF']<200)&(df['ventilation']>0), 'SOFA_RS'] = 3\n",
    "    df.loc[(df['PF']<100)&(df['ventilation']>0), 'SOFA_RS'] = 4\n",
    "\n",
    "    # Coagulation\n",
    "    #df.loc[df['Platelet'].isna(), 'SOFA_C'] = 0\n",
    "    df.loc[df['Platelet']>=150, 'SOFA_C'] = 0\n",
    "    df.loc[df['Platelet']<150, 'SOFA_C'] = 1\n",
    "    df.loc[df['Platelet']<100, 'SOFA_C'] = 2\n",
    "    df.loc[df['Platelet']<50, 'SOFA_C'] = 3\n",
    "    df.loc[df['Platelet']<20, 'SOFA_C'] = 4\n",
    "\n",
    "    # Liver\n",
    "    #df.loc[df['T_Bil'].isna(), 'SOFA_L'] = 0\n",
    "    df.loc[df['T_Bil']<1.2, 'SOFA_L'] = 0\n",
    "    df.loc[(df['T_Bil']>=1.2)&(df['T_Bil']<2.0), 'SOFA_L'] = 1\n",
    "    df.loc[(df['T_Bil']>=2.0)&(df['T_Bil']<6.0), 'SOFA_L'] = 2\n",
    "    df.loc[(df['T_Bil']>=6.0)&(df['T_Bil']<12.0), 'SOFA_L'] = 3\n",
    "    df.loc[(df['T_Bil']>=12.0), 'SOFA_L'] = 4\n",
    "\n",
    "    # Renal function\n",
    "    #df.loc[df['SCr'].isna(), 'SOFA_R'] = 0\n",
    "    df.loc[df['SCr']<1.2, 'SOFA_R'] = 0\n",
    "    df.loc[(df['SCr']>=1.2)&(df['SCr']<2.0), 'SOFA_R'] = 1\n",
    "    df.loc[(df['SCr']>=2.0)&(df['SCr']<3.5), 'SOFA_R'] = 2\n",
    "    df.loc[((df['SCr']>=3.5)&(df['SCr']<5.0))|(df['uo_day']<500), 'SOFA_R'] = 3\n",
    "    df.loc[(df['SCr']>=5.0)|(df['uo_day']<200), 'SOFA_R'] = 4\n",
    "\n",
    "    df['SOFA'] = df['SOFA_CNS'] + df['SOFA_CVS'] + df['SOFA_RS'] + df['SOFA_C'] + df['SOFA_L'] + df['SOFA_R']\n",
    "    df = df[['subject_id','hadm_id','stay_id','charttime','SOFA']]\n",
    "    return df\n",
    "\n",
    "resample_SOFA = cal_SOFA(resample_SOFA)"
   ]
  },
  {
   "cell_type": "code",
   "execution_count": null,
   "metadata": {},
   "outputs": [
    {
     "data": {
      "text/html": [
       "<div>\n",
       "<style scoped>\n",
       "    .dataframe tbody tr th:only-of-type {\n",
       "        vertical-align: middle;\n",
       "    }\n",
       "\n",
       "    .dataframe tbody tr th {\n",
       "        vertical-align: top;\n",
       "    }\n",
       "\n",
       "    .dataframe thead th {\n",
       "        text-align: right;\n",
       "    }\n",
       "</style>\n",
       "<table border=\"1\" class=\"dataframe\">\n",
       "  <thead>\n",
       "    <tr style=\"text-align: right;\">\n",
       "      <th></th>\n",
       "      <th>subject_id</th>\n",
       "      <th>hadm_id</th>\n",
       "      <th>stay_id</th>\n",
       "      <th>charttime</th>\n",
       "      <th>SOFA</th>\n",
       "    </tr>\n",
       "  </thead>\n",
       "  <tbody>\n",
       "    <tr>\n",
       "      <th>0</th>\n",
       "      <td>10000032</td>\n",
       "      <td>29079034</td>\n",
       "      <td>39553978</td>\n",
       "      <td>2180-07-23 14:00:00</td>\n",
       "      <td>NaN</td>\n",
       "    </tr>\n",
       "    <tr>\n",
       "      <th>1</th>\n",
       "      <td>10000032</td>\n",
       "      <td>29079034</td>\n",
       "      <td>39553978</td>\n",
       "      <td>2180-07-23 15:00:00</td>\n",
       "      <td>NaN</td>\n",
       "    </tr>\n",
       "    <tr>\n",
       "      <th>2</th>\n",
       "      <td>10000032</td>\n",
       "      <td>29079034</td>\n",
       "      <td>39553978</td>\n",
       "      <td>2180-07-23 16:00:00</td>\n",
       "      <td>NaN</td>\n",
       "    </tr>\n",
       "    <tr>\n",
       "      <th>3</th>\n",
       "      <td>10000032</td>\n",
       "      <td>29079034</td>\n",
       "      <td>39553978</td>\n",
       "      <td>2180-07-23 17:00:00</td>\n",
       "      <td>NaN</td>\n",
       "    </tr>\n",
       "    <tr>\n",
       "      <th>4</th>\n",
       "      <td>10000032</td>\n",
       "      <td>29079034</td>\n",
       "      <td>39553978</td>\n",
       "      <td>2180-07-23 18:00:00</td>\n",
       "      <td>NaN</td>\n",
       "    </tr>\n",
       "    <tr>\n",
       "      <th>...</th>\n",
       "      <td>...</td>\n",
       "      <td>...</td>\n",
       "      <td>...</td>\n",
       "      <td>...</td>\n",
       "      <td>...</td>\n",
       "    </tr>\n",
       "    <tr>\n",
       "      <th>6099429</th>\n",
       "      <td>19999987</td>\n",
       "      <td>23865745</td>\n",
       "      <td>36195440</td>\n",
       "      <td>2145-11-04 16:59:00</td>\n",
       "      <td>6.0</td>\n",
       "    </tr>\n",
       "    <tr>\n",
       "      <th>6099430</th>\n",
       "      <td>19999987</td>\n",
       "      <td>23865745</td>\n",
       "      <td>36195440</td>\n",
       "      <td>2145-11-04 17:59:00</td>\n",
       "      <td>6.0</td>\n",
       "    </tr>\n",
       "    <tr>\n",
       "      <th>6099431</th>\n",
       "      <td>19999987</td>\n",
       "      <td>23865745</td>\n",
       "      <td>36195440</td>\n",
       "      <td>2145-11-04 18:59:00</td>\n",
       "      <td>6.0</td>\n",
       "    </tr>\n",
       "    <tr>\n",
       "      <th>6099432</th>\n",
       "      <td>19999987</td>\n",
       "      <td>23865745</td>\n",
       "      <td>36195440</td>\n",
       "      <td>2145-11-04 19:59:00</td>\n",
       "      <td>6.0</td>\n",
       "    </tr>\n",
       "    <tr>\n",
       "      <th>6099433</th>\n",
       "      <td>19999987</td>\n",
       "      <td>23865745</td>\n",
       "      <td>36195440</td>\n",
       "      <td>2145-11-04 20:59:00</td>\n",
       "      <td>6.0</td>\n",
       "    </tr>\n",
       "  </tbody>\n",
       "</table>\n",
       "<p>6099434 rows × 5 columns</p>\n",
       "</div>"
      ],
      "text/plain": [
       "         subject_id   hadm_id   stay_id           charttime  SOFA\n",
       "0          10000032  29079034  39553978 2180-07-23 14:00:00   NaN\n",
       "1          10000032  29079034  39553978 2180-07-23 15:00:00   NaN\n",
       "2          10000032  29079034  39553978 2180-07-23 16:00:00   NaN\n",
       "3          10000032  29079034  39553978 2180-07-23 17:00:00   NaN\n",
       "4          10000032  29079034  39553978 2180-07-23 18:00:00   NaN\n",
       "...             ...       ...       ...                 ...   ...\n",
       "6099429    19999987  23865745  36195440 2145-11-04 16:59:00   6.0\n",
       "6099430    19999987  23865745  36195440 2145-11-04 17:59:00   6.0\n",
       "6099431    19999987  23865745  36195440 2145-11-04 18:59:00   6.0\n",
       "6099432    19999987  23865745  36195440 2145-11-04 19:59:00   6.0\n",
       "6099433    19999987  23865745  36195440 2145-11-04 20:59:00   6.0\n",
       "\n",
       "[6099434 rows x 5 columns]"
      ]
     },
     "execution_count": 69,
     "metadata": {},
     "output_type": "execute_result"
    }
   ],
   "source": [
    "resample_SOFA"
   ]
  },
  {
   "cell_type": "markdown",
   "metadata": {},
   "source": [
    "# AKI annotation"
   ]
  },
  {
   "cell_type": "code",
   "execution_count": 9,
   "metadata": {},
   "outputs": [
    {
     "data": {
      "application/vnd.jupyter.widget-view+json": {
       "model_id": "a0e6b8fffe5c419896818aa013aede50",
       "version_major": 2,
       "version_minor": 0
      },
      "text/plain": [
       "  0%|          | 0/43 [00:00<?, ?it/s]"
      ]
     },
     "metadata": {},
     "output_type": "display_data"
    }
   ],
   "source": [
    "resample_AKI_UO = utils.AKI_UO_annotation(resample_uo,admission_weight)"
   ]
  },
  {
   "cell_type": "code",
   "execution_count": 10,
   "metadata": {},
   "outputs": [
    {
     "data": {
      "text/plain": [
       "AKI_UO\n",
       "0    3695199\n",
       "2     972590\n",
       "3     967805\n",
       "1     463840\n",
       "Name: count, dtype: int64"
      ]
     },
     "execution_count": 10,
     "metadata": {},
     "output_type": "execute_result"
    }
   ],
   "source": [
    "resample_AKI_UO.AKI_UO.value_counts()"
   ]
  },
  {
   "cell_type": "code",
   "execution_count": null,
   "metadata": {},
   "outputs": [
    {
     "data": {
      "text/plain": [
       "AKI_UO\n",
       "0    4441434\n",
       "2    1017403\n",
       "1     523221\n",
       "3     117376\n",
       "Name: count, dtype: int64"
      ]
     },
     "execution_count": 15,
     "metadata": {},
     "output_type": "execute_result"
    }
   ],
   "source": [
    "resample_AKI_UO.AKI_UO.value_counts()"
   ]
  },
  {
   "cell_type": "code",
   "execution_count": 41,
   "metadata": {},
   "outputs": [],
   "source": [
    "resample_AKI_SCr = utils.AKI_SCr_annotation(resample_SCr,baseline_SCr,resample_rrt)"
   ]
  },
  {
   "cell_type": "code",
   "execution_count": 42,
   "metadata": {},
   "outputs": [
    {
     "data": {
      "text/plain": [
       "AKI_SCr\n",
       "0    4619467\n",
       "1     635697\n",
       "3     588903\n",
       "2     255367\n",
       "Name: count, dtype: int64"
      ]
     },
     "execution_count": 42,
     "metadata": {},
     "output_type": "execute_result"
    }
   ],
   "source": [
    "resample_AKI_SCr.AKI_SCr.value_counts()"
   ]
  },
  {
   "cell_type": "code",
   "execution_count": 25,
   "metadata": {},
   "outputs": [
    {
     "data": {
      "text/plain": [
       "AKI_SCr\n",
       "0    3396458\n",
       "1    1759748\n",
       "3     693881\n",
       "2     249347\n",
       "Name: count, dtype: int64"
      ]
     },
     "execution_count": 25,
     "metadata": {},
     "output_type": "execute_result"
    }
   ],
   "source": [
    "resample_AKI_SCr.AKI_SCr.value_counts()"
   ]
  },
  {
   "cell_type": "code",
   "execution_count": null,
   "metadata": {},
   "outputs": [],
   "source": []
  },
  {
   "cell_type": "markdown",
   "metadata": {},
   "source": [
    "# Merge"
   ]
  },
  {
   "cell_type": "code",
   "execution_count": 43,
   "metadata": {},
   "outputs": [],
   "source": [
    "resample_antibiotics = pd.read_parquet('./data/resample/inputs/resample_antibiotics.parquet')"
   ]
  },
  {
   "cell_type": "code",
   "execution_count": 44,
   "metadata": {},
   "outputs": [
    {
     "data": {
      "application/vnd.jupyter.widget-view+json": {
       "model_id": "296a9cbf52c4439691e2e4dd63873da8",
       "version_major": 2,
       "version_minor": 0
      },
      "text/plain": [
       "  0%|          | 0/9 [00:00<?, ?it/s]"
      ]
     },
     "metadata": {},
     "output_type": "display_data"
    },
    {
     "data": {
      "application/vnd.jupyter.widget-view+json": {
       "model_id": "1a7c3e2c69cc4c7192a00c65e27fbafa",
       "version_major": 2,
       "version_minor": 0
      },
      "text/plain": [
       "  0%|          | 0/30 [00:00<?, ?it/s]"
      ]
     },
     "metadata": {},
     "output_type": "display_data"
    }
   ],
   "source": [
    "# merge vital\n",
    "vitallist = ['HR','SBP','DBP','MAP','temp','RR','CVP','SaO2','FiO2']\n",
    "for i,idx in enumerate(tqdm(vitallist)):\n",
    "    if i == 0 : resample_merge = globals()['resample_{}'.format(idx)].copy()\n",
    "    else : resample_merge = pd.merge(resample_merge,globals()['resample_{}'.format(idx)],on=['subject_id','hadm_id','stay_id','charttime'],how='left')\n",
    "\n",
    "#merge labvalues\n",
    "for i,idx in enumerate(tqdm(labvalues.abbreviation)):\n",
    "    resample_merge = pd.merge(resample_merge,globals()['resample_{}'.format(idx)],on=['subject_id','hadm_id','stay_id','charttime'],how='left')\n",
    "\n",
    "# merge demographic\n",
    "resample_merge = pd.merge(resample_merge,patients_gender,on=['subject_id'],how='left')\n",
    "resample_merge = pd.merge(resample_merge,admissions_race,on=['subject_id'],how='left')\n",
    "resample_merge = pd.merge(resample_merge,admission_weight,on=['subject_id','stay_id'],how='left')\n",
    "resample_merge = pd.merge(resample_merge,icustays_age,on=['subject_id','hadm_id','stay_id'],how='left')\n",
    "resample_merge = pd.merge(resample_merge,comorbidities,on=['subject_id','hadm_id','stay_id'],how='left')\n",
    "resample_merge = pd.merge(resample_merge,baseline_SCr,on=['subject_id','hadm_id','stay_id'],how='left')\n",
    "\n",
    "# merge measures\n",
    "resample_merge = pd.merge(resample_merge,resample_uo,on=['subject_id','hadm_id','stay_id','charttime'],how='left')\n",
    "resample_merge = pd.merge(resample_merge,resample_SOFA,on=['subject_id','hadm_id','stay_id','charttime'],how='left')\n",
    "resample_merge = pd.merge(resample_merge,resample_AKI_UO,on=['subject_id','hadm_id','stay_id','charttime'],how='left')\n",
    "resample_merge = pd.merge(resample_merge,resample_AKI_SCr,on=['subject_id','hadm_id','stay_id','charttime'],how='left')\n",
    "resample_merge['AKI'] = resample_merge[['AKI_UO','AKI_SCr']].max(axis=1)\n",
    "\n",
    "# merge procedures & inputs\n",
    "resample_merge = pd.merge(resample_merge,resample_ventilation,on=['subject_id','hadm_id','stay_id','charttime'],how='left')\n",
    "resample_merge = pd.merge(resample_merge,resample_fluids,on=['subject_id','hadm_id','stay_id','charttime'],how='left')\n",
    "resample_merge = pd.merge(resample_merge,resample_vasopressor,on=['subject_id','hadm_id','stay_id','charttime'],how='left')\n",
    "\n",
    "resample_merge = pd.merge(resample_merge,resample_antibiotics,on=['stay_id','charttime'],how='left')"
   ]
  },
  {
   "cell_type": "code",
   "execution_count": 45,
   "metadata": {},
   "outputs": [],
   "source": [
    "resample_merge[['Cephalosporins', 'Vancomycin', 'Betalactam_comb', 'Metronidazole',\n",
    "       'Carbapenems', 'Penicillins', 'Fluoroquinolones', 'Others',\n",
    "       'count_category']] = resample_merge[['Cephalosporins', 'Vancomycin', 'Betalactam_comb', 'Metronidazole',\n",
    "       'Carbapenems', 'Penicillins', 'Fluoroquinolones', 'Others',\n",
    "       'count_category']].fillna(0)"
   ]
  },
  {
   "cell_type": "code",
   "execution_count": null,
   "metadata": {},
   "outputs": [],
   "source": [
    "# Derived variables\n"
   ]
  },
  {
   "cell_type": "code",
   "execution_count": 48,
   "metadata": {},
   "outputs": [
    {
     "data": {
      "text/plain": [
       "Index(['subject_id', 'hadm_id', 'stay_id', 'charttime', 'HR', 'SBP', 'DBP',\n",
       "       'MAP', 'temp', 'RR', 'CVP', 'SaO2', 'FiO2', 'Alb', 'Alk_Phos', 'AG',\n",
       "       'BUN', 'Ca', 'CK', 'D_Bil', 'Glu', 'HCT', 'INR', 'PH', 'PHOS',\n",
       "       'Platelet', 'Cl', 'SCr', 'Na', 'Potassium', 'T_Bil', 'WBC', 'Gl', 'Mg',\n",
       "       'Ca_ion', 'HCO3', 'AST', 'ALT', 'PTT', 'baseexcess', 'lactate', 'PaO2',\n",
       "       'PaCO2', 'gender', 'WHITE', 'BLACK', 'HISPANIC OR LATINO', 'ASIAN',\n",
       "       'MULTIPLE RACE', 'OTHER', 'UNKNOWN', 'valuenum', 'age', 'LD', 'DH',\n",
       "       'HYP', 'CKD', 'MI', 'DM', 'VD', 'CHF', 'COPD', 'baseline_SCr', 'MDRD',\n",
       "       'uo', 'SOFA', 'AKI_UO', 'AKI_SCr', 'AKI', 'ventilation', 'fluid',\n",
       "       'vaso_equ', 'Cephalosporins', 'Vancomycin', 'Betalactam_comb',\n",
       "       'Metronidazole', 'Carbapenems', 'Penicillins', 'Fluoroquinolones',\n",
       "       'Others', 'count_category'],\n",
       "      dtype='object')"
      ]
     },
     "execution_count": 48,
     "metadata": {},
     "output_type": "execute_result"
    }
   ],
   "source": [
    "resample_merge.columns"
   ]
  },
  {
   "cell_type": "code",
   "execution_count": 176,
   "metadata": {},
   "outputs": [
    {
     "data": {
      "text/plain": [
       "count_category\n",
       "0.0    5626185\n",
       "1.0     441531\n",
       "2.0      30485\n",
       "3.0       1215\n",
       "4.0         18\n",
       "Name: count, dtype: int64"
      ]
     },
     "execution_count": 176,
     "metadata": {},
     "output_type": "execute_result"
    }
   ],
   "source": [
    "resample_merge.count_category.value_counts()"
   ]
  },
  {
   "cell_type": "code",
   "execution_count": 47,
   "metadata": {},
   "outputs": [],
   "source": [
    "resample_merge.to_parquet('./data/resample/resample_merge.parquet')"
   ]
  },
  {
   "cell_type": "code",
   "execution_count": null,
   "metadata": {},
   "outputs": [],
   "source": []
  }
 ],
 "metadata": {
  "kernelspec": {
   "display_name": "torch",
   "language": "python",
   "name": "python3"
  },
  "language_info": {
   "codemirror_mode": {
    "name": "ipython",
    "version": 3
   },
   "file_extension": ".py",
   "mimetype": "text/x-python",
   "name": "python",
   "nbconvert_exporter": "python",
   "pygments_lexer": "ipython3",
   "version": "3.9.0"
  }
 },
 "nbformat": 4,
 "nbformat_minor": 2
}
