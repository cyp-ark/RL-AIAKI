{
 "cells": [
  {
   "cell_type": "code",
   "execution_count": 1,
   "metadata": {},
   "outputs": [],
   "source": [
    "import pandas as pd\n",
    "import numpy as np\n",
    "import matplotlib.pyplot as plt\n",
    "import sys, os, pickle\n",
    "\n",
    "from tqdm.notebook import tqdm\n",
    "from datetime import timedelta\n",
    "#from utils import baseline_SCr\n",
    "\n",
    "if os.getcwd()[-4:] == \"code\":\n",
    "    os.chdir('../')\n",
    "\n",
    "icu = './data/mimic-iv-2.2-parquet/icu/'\n",
    "hosp = './data/mimic-iv-2.2-parquet/hosp/'"
   ]
  },
  {
   "cell_type": "code",
   "execution_count": 2,
   "metadata": {},
   "outputs": [],
   "source": [
    "labevents     = pd.read_parquet(hosp+'labevents.parquet')\n",
    "d_labitems    = pd.read_parquet(hosp+'d_labitems.parquet')\n",
    "\n",
    "patients      = pd.read_parquet(hosp+'patients.parquet')\n",
    "admissions    = pd.read_parquet(hosp+'admissions.parquet')\n",
    "\n",
    "diagnoses_icd = pd.read_parquet(hosp+'diagnoses_icd.parquet')\n",
    "microbiology  = pd.read_parquet(hosp+'microbiologyevents.parquet')\n",
    "prescriptions = pd.read_parquet(hosp+'prescriptions.parquet')"
   ]
  },
  {
   "cell_type": "code",
   "execution_count": 3,
   "metadata": {},
   "outputs": [],
   "source": [
    "chartevents     = pd.read_parquet(icu+'chartevents.parquet')\n",
    "d_items         = pd.read_parquet(icu+'d_items.parquet')\n",
    "inputevents     = pd.read_parquet(icu+'inputevents.parquet')\n",
    "procedureevents = pd.read_parquet(icu+'procedureevents.parquet')\n",
    "icustays        = pd.read_parquet(icu+'icustays.parquet')"
   ]
  },
  {
   "cell_type": "code",
   "execution_count": 4,
   "metadata": {},
   "outputs": [],
   "source": [
    "# to_datetime\n",
    "chartevents['charttime'] = pd.to_datetime(chartevents['charttime'])"
   ]
  },
  {
   "cell_type": "code",
   "execution_count": 5,
   "metadata": {},
   "outputs": [],
   "source": [
    "labvalues = pd.read_csv('./data/labvalues/labvalues.csv')\n",
    "vitals = pd.read_csv('./data/vitals/vitals.csv')"
   ]
  },
  {
   "cell_type": "markdown",
   "metadata": {},
   "source": [
    "# Demographic"
   ]
  },
  {
   "cell_type": "markdown",
   "metadata": {},
   "source": [
    "### Gender"
   ]
  },
  {
   "cell_type": "code",
   "execution_count": 106,
   "metadata": {},
   "outputs": [],
   "source": [
    "patients_gender = patients[['subject_id','gender']]\n",
    "patients_gender.loc[patients_gender.gender == 'F' , 'gender'] = 1\n",
    "patients_gender.loc[patients_gender.gender == 'M' , 'gender'] = 0"
   ]
  },
  {
   "cell_type": "code",
   "execution_count": 107,
   "metadata": {},
   "outputs": [
    {
     "data": {
      "text/html": [
       "<div>\n",
       "<style scoped>\n",
       "    .dataframe tbody tr th:only-of-type {\n",
       "        vertical-align: middle;\n",
       "    }\n",
       "\n",
       "    .dataframe tbody tr th {\n",
       "        vertical-align: top;\n",
       "    }\n",
       "\n",
       "    .dataframe thead th {\n",
       "        text-align: right;\n",
       "    }\n",
       "</style>\n",
       "<table border=\"1\" class=\"dataframe\">\n",
       "  <thead>\n",
       "    <tr style=\"text-align: right;\">\n",
       "      <th></th>\n",
       "      <th>subject_id</th>\n",
       "      <th>gender</th>\n",
       "    </tr>\n",
       "  </thead>\n",
       "  <tbody>\n",
       "    <tr>\n",
       "      <th>0</th>\n",
       "      <td>10000032</td>\n",
       "      <td>1</td>\n",
       "    </tr>\n",
       "    <tr>\n",
       "      <th>1</th>\n",
       "      <td>10000048</td>\n",
       "      <td>1</td>\n",
       "    </tr>\n",
       "    <tr>\n",
       "      <th>2</th>\n",
       "      <td>10000068</td>\n",
       "      <td>1</td>\n",
       "    </tr>\n",
       "    <tr>\n",
       "      <th>3</th>\n",
       "      <td>10000084</td>\n",
       "      <td>0</td>\n",
       "    </tr>\n",
       "    <tr>\n",
       "      <th>4</th>\n",
       "      <td>10000102</td>\n",
       "      <td>1</td>\n",
       "    </tr>\n",
       "    <tr>\n",
       "      <th>...</th>\n",
       "      <td>...</td>\n",
       "      <td>...</td>\n",
       "    </tr>\n",
       "    <tr>\n",
       "      <th>299707</th>\n",
       "      <td>19999828</td>\n",
       "      <td>1</td>\n",
       "    </tr>\n",
       "    <tr>\n",
       "      <th>299708</th>\n",
       "      <td>19999829</td>\n",
       "      <td>1</td>\n",
       "    </tr>\n",
       "    <tr>\n",
       "      <th>299709</th>\n",
       "      <td>19999840</td>\n",
       "      <td>0</td>\n",
       "    </tr>\n",
       "    <tr>\n",
       "      <th>299710</th>\n",
       "      <td>19999914</td>\n",
       "      <td>1</td>\n",
       "    </tr>\n",
       "    <tr>\n",
       "      <th>299711</th>\n",
       "      <td>19999987</td>\n",
       "      <td>1</td>\n",
       "    </tr>\n",
       "  </tbody>\n",
       "</table>\n",
       "<p>299712 rows × 2 columns</p>\n",
       "</div>"
      ],
      "text/plain": [
       "        subject_id gender\n",
       "0         10000032      1\n",
       "1         10000048      1\n",
       "2         10000068      1\n",
       "3         10000084      0\n",
       "4         10000102      1\n",
       "...            ...    ...\n",
       "299707    19999828      1\n",
       "299708    19999829      1\n",
       "299709    19999840      0\n",
       "299710    19999914      1\n",
       "299711    19999987      1\n",
       "\n",
       "[299712 rows x 2 columns]"
      ]
     },
     "execution_count": 107,
     "metadata": {},
     "output_type": "execute_result"
    }
   ],
   "source": [
    "patients_gender"
   ]
  },
  {
   "cell_type": "markdown",
   "metadata": {},
   "source": [
    "### Age"
   ]
  },
  {
   "cell_type": "code",
   "execution_count": 108,
   "metadata": {},
   "outputs": [],
   "source": [
    "icustays['intime'] = pd.to_datetime(icustays['intime'])\n",
    "icustays['outtime'] = pd.to_datetime(icustays['outtime'])"
   ]
  },
  {
   "cell_type": "code",
   "execution_count": 109,
   "metadata": {},
   "outputs": [],
   "source": [
    "icustays_intime = icustays[['subject_id','hadm_id','stay_id','intime']]\n",
    "patients_age = patients[['subject_id','anchor_age','anchor_year']]\n",
    "\n",
    "icustays_age = pd.merge(icustays_intime, patients_age, on = 'subject_id', how = 'left')"
   ]
  },
  {
   "cell_type": "code",
   "execution_count": 110,
   "metadata": {},
   "outputs": [],
   "source": [
    "icustays_age['anchor_age_delta'] = pd.to_timedelta(icustays_age['anchor_age']*365.25, unit='D')\n",
    "icustays_age['anchor_year'] = pd.to_datetime(icustays_age['anchor_year'],format=\"%Y\")\n",
    "\n",
    "icustays_age['delta'] = icustays_age['intime'] - icustays_age['anchor_year']\n",
    "icustays_age['age'] = ((icustays_age['anchor_age_delta'] + icustays_age['delta'])/365.25).dt.days\n",
    "\n",
    "icustays_age = icustays_age[['subject_id','hadm_id','stay_id','age']]"
   ]
  },
  {
   "cell_type": "code",
   "execution_count": 111,
   "metadata": {},
   "outputs": [
    {
     "data": {
      "text/html": [
       "<div>\n",
       "<style scoped>\n",
       "    .dataframe tbody tr th:only-of-type {\n",
       "        vertical-align: middle;\n",
       "    }\n",
       "\n",
       "    .dataframe tbody tr th {\n",
       "        vertical-align: top;\n",
       "    }\n",
       "\n",
       "    .dataframe thead th {\n",
       "        text-align: right;\n",
       "    }\n",
       "</style>\n",
       "<table border=\"1\" class=\"dataframe\">\n",
       "  <thead>\n",
       "    <tr style=\"text-align: right;\">\n",
       "      <th></th>\n",
       "      <th>subject_id</th>\n",
       "      <th>hadm_id</th>\n",
       "      <th>stay_id</th>\n",
       "      <th>age</th>\n",
       "    </tr>\n",
       "  </thead>\n",
       "  <tbody>\n",
       "    <tr>\n",
       "      <th>0</th>\n",
       "      <td>10000032</td>\n",
       "      <td>29079034</td>\n",
       "      <td>39553978</td>\n",
       "      <td>52</td>\n",
       "    </tr>\n",
       "    <tr>\n",
       "      <th>1</th>\n",
       "      <td>10000980</td>\n",
       "      <td>26913865</td>\n",
       "      <td>39765666</td>\n",
       "      <td>76</td>\n",
       "    </tr>\n",
       "    <tr>\n",
       "      <th>2</th>\n",
       "      <td>10001217</td>\n",
       "      <td>24597018</td>\n",
       "      <td>37067082</td>\n",
       "      <td>55</td>\n",
       "    </tr>\n",
       "    <tr>\n",
       "      <th>3</th>\n",
       "      <td>10001217</td>\n",
       "      <td>27703517</td>\n",
       "      <td>34592300</td>\n",
       "      <td>55</td>\n",
       "    </tr>\n",
       "    <tr>\n",
       "      <th>4</th>\n",
       "      <td>10001725</td>\n",
       "      <td>25563031</td>\n",
       "      <td>31205490</td>\n",
       "      <td>46</td>\n",
       "    </tr>\n",
       "    <tr>\n",
       "      <th>...</th>\n",
       "      <td>...</td>\n",
       "      <td>...</td>\n",
       "      <td>...</td>\n",
       "      <td>...</td>\n",
       "    </tr>\n",
       "    <tr>\n",
       "      <th>73176</th>\n",
       "      <td>19999442</td>\n",
       "      <td>26785317</td>\n",
       "      <td>32336619</td>\n",
       "      <td>43</td>\n",
       "    </tr>\n",
       "    <tr>\n",
       "      <th>73177</th>\n",
       "      <td>19999625</td>\n",
       "      <td>25304202</td>\n",
       "      <td>31070865</td>\n",
       "      <td>82</td>\n",
       "    </tr>\n",
       "    <tr>\n",
       "      <th>73178</th>\n",
       "      <td>19999828</td>\n",
       "      <td>25744818</td>\n",
       "      <td>36075953</td>\n",
       "      <td>48</td>\n",
       "    </tr>\n",
       "    <tr>\n",
       "      <th>73179</th>\n",
       "      <td>19999840</td>\n",
       "      <td>21033226</td>\n",
       "      <td>38978960</td>\n",
       "      <td>58</td>\n",
       "    </tr>\n",
       "    <tr>\n",
       "      <th>73180</th>\n",
       "      <td>19999987</td>\n",
       "      <td>23865745</td>\n",
       "      <td>36195440</td>\n",
       "      <td>57</td>\n",
       "    </tr>\n",
       "  </tbody>\n",
       "</table>\n",
       "<p>73181 rows × 4 columns</p>\n",
       "</div>"
      ],
      "text/plain": [
       "       subject_id   hadm_id   stay_id  age\n",
       "0        10000032  29079034  39553978   52\n",
       "1        10000980  26913865  39765666   76\n",
       "2        10001217  24597018  37067082   55\n",
       "3        10001217  27703517  34592300   55\n",
       "4        10001725  25563031  31205490   46\n",
       "...           ...       ...       ...  ...\n",
       "73176    19999442  26785317  32336619   43\n",
       "73177    19999625  25304202  31070865   82\n",
       "73178    19999828  25744818  36075953   48\n",
       "73179    19999840  21033226  38978960   58\n",
       "73180    19999987  23865745  36195440   57\n",
       "\n",
       "[73181 rows x 4 columns]"
      ]
     },
     "execution_count": 111,
     "metadata": {},
     "output_type": "execute_result"
    }
   ],
   "source": [
    "icustays_age"
   ]
  },
  {
   "cell_type": "markdown",
   "metadata": {},
   "source": [
    "### Race"
   ]
  },
  {
   "cell_type": "code",
   "execution_count": 57,
   "metadata": {},
   "outputs": [],
   "source": [
    "admissions_race = admissions[['subject_id','race']].copy()"
   ]
  },
  {
   "cell_type": "code",
   "execution_count": 58,
   "metadata": {},
   "outputs": [],
   "source": [
    "admissions_race['race'].replace(['ASIAN - ASIAN INDIAN', 'ASIAN - CHINESE','ASIAN - KOREAN', 'ASIAN - SOUTH EAST ASIAN'],'ASIAN',inplace=True)\n",
    "admissions_race['race'].replace(['BLACK/AFRICAN AMERICAN','BLACK/AFRICAN','BLACK/CAPE VERDEAN','BLACK/CARIBBEAN ISLAND'],'BLACK',inplace=True)\n",
    "admissions_race['race'].replace(['HISPANIC/LATINO - CENTRAL AMERICAN','HISPANIC/LATINO - COLUMBIAN','HISPANIC/LATINO - CUBAN','HISPANIC/LATINO - DOMINICAN','HISPANIC/LATINO - GUATEMALAN','HISPANIC/LATINO - HONDURAN','HISPANIC/LATINO - MEXICAN',\n",
    "                             'HISPANIC/LATINO - PUERTO RICAN','HISPANIC/LATINO - SALVADORAN','PORTUGUESE','SOUTH AMERICAN'],'HISPANIC OR LATINO',inplace=True)\n",
    "admissions_race['race'].replace(['NATIVE HAWAIIAN OR OTHER PACIFIC ISLANDER'],'PACIFIC ISLANDER',inplace=True)\n",
    "admissions_race['race'].replace(['UNABLE TO OBTAIN','PATIENT DECLINED TO ANSWER'],'UNKNOWN',inplace=True)\n",
    "admissions_race['race'].replace(['WHITE - BRAZILIAN','WHITE - EASTERN EUROPEAN','WHITE - OTHER EUROPEAN','WHITE - RUSSIAN'],'WHITE',inplace=True)\n",
    "\n",
    "admissions_race = admissions_race.drop_duplicates()"
   ]
  },
  {
   "cell_type": "code",
   "execution_count": 61,
   "metadata": {},
   "outputs": [],
   "source": [
    "multiple = admissions_race.subject_id.value_counts().loc[lambda x : x > 1].to_frame()\n",
    "multiple.reset_index(inplace = True)\n",
    "multiple = multiple.subject_id.unique()\n",
    "\n",
    "hosp_race_multiple = admissions_race[admissions_race['subject_id'].isin(multiple)]\n",
    "\n",
    "sol = []\n",
    "multi = []\n",
    "for i in hosp_race_multiple.subject_id.unique() :\n",
    "    tmp = hosp_race_multiple[hosp_race_multiple['subject_id'] == i]\n",
    "    if (tmp['race'] == 'UNKNOWN').any() :\n",
    "        tmp = tmp[tmp['race'] != 'UNKNOWN']\n",
    "    if len(tmp) <2 :\n",
    "        sol.append(tmp)\n",
    "    else : \n",
    "        multi.append(tmp)\n",
    "sol = pd.concat(sol)\n",
    "multi = pd.concat(multi)\n",
    "\n",
    "multi['race'] = 'MULTIPLE RACE/ETHNICITY'\n",
    "multi.drop_duplicates(inplace=True)\n",
    "\n",
    "admissions_race = admissions_race[~admissions_race['subject_id'].isin(sol.subject_id.unique())]\n",
    "admissions_race = admissions_race[~admissions_race['subject_id'].isin(multi.subject_id.unique())]\n",
    "\n",
    "admissions_race = pd.concat([admissions_race,sol,multi])"
   ]
  },
  {
   "cell_type": "code",
   "execution_count": 62,
   "metadata": {},
   "outputs": [
    {
     "data": {
      "text/plain": [
       "array(['WHITE', 'OTHER', 'BLACK', 'UNKNOWN', 'HISPANIC OR LATINO',\n",
       "       'ASIAN', 'PACIFIC ISLANDER', 'AMERICAN INDIAN/ALASKA NATIVE',\n",
       "       'MULTIPLE RACE/ETHNICITY'], dtype=object)"
      ]
     },
     "execution_count": 62,
     "metadata": {},
     "output_type": "execute_result"
    }
   ],
   "source": [
    "admissions_race.race.unique()"
   ]
  },
  {
   "cell_type": "markdown",
   "metadata": {},
   "source": [
    "# Lab values"
   ]
  },
  {
   "cell_type": "code",
   "execution_count": 8,
   "metadata": {},
   "outputs": [
    {
     "data": {
      "application/vnd.jupyter.widget-view+json": {
       "model_id": "6a7028d5748f4c128c1203c69c5aa3ba",
       "version_major": 2,
       "version_minor": 0
      },
      "text/plain": [
       "0it [00:00, ?it/s]"
      ]
     },
     "metadata": {},
     "output_type": "display_data"
    },
    {
     "name": "stdout",
     "output_type": "stream",
     "text": [
      "[1/28] Processing Albumin...\n",
      "[2/28] Processing Alkaline Phosphate...\n",
      "[3/28] Processing Anion Gap...\n",
      "[4/28] Processing Blood urea nitrogen...\n",
      "[5/28] Processing Calcium non-ionized...\n",
      "[6/28] Processing Creatine Kinase...\n",
      "[7/28] Processing Direct Bilirubin...\n",
      "[8/28] Processing Glucose...\n",
      "[9/28] Processing Hematocrit...\n",
      "[10/28] Processing International Normalized Ratio...\n",
      "[11/28] Processing PH...\n",
      "[12/28] Processing Phosphorous...\n",
      "[13/28] Processing Platelet Count...\n",
      "[14/28] Processing Serum chloride...\n",
      "[15/28] Processing Serum creatinine...\n",
      "[16/28] Processing Serum Sodium...\n",
      "[17/28] Processing Serum Potassium...\n",
      "[18/28] Processing Total Bilirubin...\n",
      "[19/28] Processing White blood cell count...\n",
      "[20/28] Processing Serum glucose...\n",
      "[21/28] Processing Magnesium...\n",
      "[22/28] Processing Ionized calcium...\n",
      "[23/28] Processing Serum HCO3...\n",
      "[24/28] Processing AST...\n",
      "[25/28] Processing ALT...\n",
      "[26/28] Processing PTT...\n",
      "[27/28] Processing Arterial Base Excess...\n",
      "[28/28] Processing Lactic Acid...\n"
     ]
    }
   ],
   "source": [
    "for i,idx in tqdm(enumerate(labvalues.abbreviation)):\n",
    "    print(\"[%i/%i] Processing %s...\"%(i+1,len(labvalues),labvalues.iloc[i].labvalue))\n",
    "    globals()['chartevents_{}'.format(idx)] = chartevents[chartevents['itemid'].isin([labvalues.iloc[i].itemid_icu])][['subject_id','hadm_id','stay_id','charttime','itemid','valuenum']]\n",
    "\n",
    "    if labvalues.iloc[i].lb_cond == 'ge' : \n",
    "        globals()['chartevents_{}'.format(idx)] = globals()['chartevents_{}'.format(idx)][globals()['chartevents_{}'.format(idx)]['valuenum'] >= labvalues.iloc[i].lb]\n",
    "    elif labvalues.iloc[i].lb_cond == 'gt' : \n",
    "        globals()['chartevents_{}'.format(idx)] = globals()['chartevents_{}'.format(idx)][globals()['chartevents_{}'.format(idx)]['valuenum'] > labvalues.iloc[i].lb]\n",
    "\n",
    "    if labvalues.iloc[i].ub_cond == 'le' : \n",
    "        globals()['chartevents_{}'.format(idx)] = globals()['chartevents_{}'.format(idx)][globals()['chartevents_{}'.format(idx)]['valuenum'] <= labvalues.iloc[i].ub]\n",
    "    elif labvalues.iloc[i].ub_cond == 'lt' : \n",
    "        globals()['chartevents_{}'.format(idx)] = globals()['chartevents_{}'.format(idx)][globals()['chartevents_{}'.format(idx)]['valuenum'] < labvalues.iloc[i].ub]\n",
    "\n",
    "    globals()['chartevents_{}'.format(idx)].sort_values(by=['subject_id','charttime'],ascending=True,inplace=True)\n",
    "    globals()['chartevents_{}'.format(idx)].reset_index(inplace=True, drop=True)\n",
    "\n",
    "    if not os.path.isfile('./data/labvalues/chartevents_%s.parquet'%idx):\n",
    "        globals()['chartevents_{}'.format(idx)].to_parquet('./data/labvalues/chartevents_%s.parquet'%idx)"
   ]
  },
  {
   "cell_type": "code",
   "execution_count": 6,
   "metadata": {},
   "outputs": [
    {
     "data": {
      "application/vnd.jupyter.widget-view+json": {
       "model_id": "27db6ac4398949d3b29b26ecb5247c84",
       "version_major": 2,
       "version_minor": 0
      },
      "text/plain": [
       "0it [00:00, ?it/s]"
      ]
     },
     "metadata": {},
     "output_type": "display_data"
    },
    {
     "name": "stdout",
     "output_type": "stream",
     "text": [
      "[1/28] Processing Albumin...\n",
      "[2/28] Processing Alkaline Phosphate...\n",
      "[3/28] Processing Anion Gap...\n",
      "[4/28] Processing Blood urea nitrogen...\n",
      "[5/28] Processing Calcium non-ionized...\n",
      "[6/28] Processing Creatine Kinase...\n",
      "[7/28] Processing Direct Bilirubin...\n",
      "[8/28] Processing Glucose...\n",
      "[9/28] Processing Hematocrit...\n",
      "[10/28] Processing International Normalized Ratio...\n",
      "[11/28] Processing PH...\n",
      "[12/28] Processing Phosphorous...\n",
      "[13/28] Processing Platelet Count...\n",
      "[14/28] Processing Serum chloride...\n",
      "[15/28] Processing Serum creatinine...\n",
      "[16/28] Processing Serum Sodium...\n",
      "[17/28] Processing Serum Potassium...\n",
      "[18/28] Processing Total Bilirubin...\n",
      "[19/28] Processing White blood cell count...\n",
      "[20/28] Processing Serum glucose...\n",
      "[21/28] Processing Magnesium...\n",
      "[22/28] Processing Ionized calcium...\n",
      "[23/28] Processing Serum HCO3...\n",
      "[24/28] Processing AST...\n",
      "[25/28] Processing ALT...\n",
      "[26/28] Processing PTT...\n",
      "[27/28] Processing Arterial Base Excess...\n",
      "[28/28] Processing Lactic Acid...\n"
     ]
    }
   ],
   "source": [
    "for i,idx in tqdm(enumerate(labvalues.abbreviation)):\n",
    "    try :\n",
    "        print(\"[%i/%i] Processing %s...\"%(i+1,len(labvalues),labvalues.iloc[i].labvalue))\n",
    "        itemid = labvalues.iloc[i].itemid_hosp\n",
    "        if isinstance(itemid, str):\n",
    "            itemid = itemid.replace(\" \",\"\")\n",
    "            itemid = itemid.split(\",\")\n",
    "        if isinstance(itemid, list):\n",
    "            itemid = [int(x) for x in itemid]\n",
    "        else : itemid = [int(itemid)]\n",
    "        globals()['labevents_{}'.format(idx)] = labevents[labevents['itemid'].isin(itemid)][['subject_id','hadm_id','charttime','itemid','valuenum']]\n",
    "\n",
    "        if labvalues.iloc[i].lb_cond == 'ge' : \n",
    "            globals()['labevents_{}'.format(idx)] = globals()['labevents_{}'.format(idx)][globals()['labevents_{}'.format(idx)]['valuenum'] >= labvalues.iloc[i].lb]\n",
    "        elif labvalues.iloc[i].lb_cond == 'gt' : \n",
    "            globals()['labevents_{}'.format(idx)] = globals()['labevents_{}'.format(idx)][globals()['labevents_{}'.format(idx)]['valuenum'] > labvalues.iloc[i].lb]\n",
    "\n",
    "        if labvalues.iloc[i].ub_cond == 'le' : \n",
    "            globals()['labevents_{}'.format(idx)] = globals()['labevents_{}'.format(idx)][globals()['labevents_{}'.format(idx)]['valuenum'] <= labvalues.iloc[i].ub]\n",
    "        elif labvalues.iloc[i].ub_cond == 'lt' : \n",
    "            globals()['labevents_{}'.format(idx)] = globals()['labevents_{}'.format(idx)][globals()['labevents_{}'.format(idx)]['valuenum'] < labvalues.iloc[i].ub]\n",
    "\n",
    "        globals()['labevents_{}'.format(idx)].sort_values(by=['subject_id','charttime'],ascending=True,inplace=True)\n",
    "        globals()['labevents_{}'.format(idx)].reset_index(inplace=True, drop=True)\n",
    "\n",
    "        if not os.path.isfile('./data/labvalues/labevents_%s.parquet'%idx):\n",
    "            globals()['labevents_{}'.format(idx)].to_parquet('./data/labvalues/labevents_%s.parquet'%idx)\n",
    "    except: ValueError"
   ]
  },
  {
   "cell_type": "markdown",
   "metadata": {},
   "source": [
    "# Vitals"
   ]
  },
  {
   "cell_type": "code",
   "execution_count": 7,
   "metadata": {},
   "outputs": [
    {
     "data": {
      "application/vnd.jupyter.widget-view+json": {
       "model_id": "46281146bbbd4e2d8c36e527872fff7e",
       "version_major": 2,
       "version_minor": 0
      },
      "text/plain": [
       "0it [00:00, ?it/s]"
      ]
     },
     "metadata": {},
     "output_type": "display_data"
    },
    {
     "name": "stdout",
     "output_type": "stream",
     "text": [
      "[1/15] Processing Arterial O2 pressure...\n",
      "[2/15] Processing Arterial CO2 Pressure...\n",
      "[3/15] Processing Inspired O2 Fraction...\n",
      "[4/15] Processing Arterial O2 Saturation...\n",
      "[5/15] Processing Respiratory Rate...\n",
      "[6/15] Processing Arterial Blood Pressure systolic...\n",
      "[7/15] Processing Arterial Blood Pressure diastolic...\n",
      "[8/15] Processing Non Invasive Blood Pressure systolic...\n",
      "[9/15] Processing Non Invasive Blood Pressure diastolic...\n",
      "[10/15] Processing Temperature Celsius...\n",
      "[11/15] Processing Temperature Fahrenheit...\n",
      "[12/15] Processing Heart Rate...\n",
      "[13/15] Processing ART BP Systolic...\n",
      "[14/15] Processing ART BP Diastolic...\n",
      "[15/15] Processing Central Venous Pressure...\n"
     ]
    }
   ],
   "source": [
    "for i,idx in tqdm(enumerate(vitals.abbreviation)):\n",
    "    print(\"[%i/%i] Processing %s...\"%(i+1,len(vitals),vitals.iloc[i].labvalue))\n",
    "    globals()['chartevents_{}'.format(idx)] = chartevents[chartevents['itemid'].isin([vitals.iloc[i].itemid_icu])][['subject_id','hadm_id','stay_id','charttime','itemid','valuenum']]\n",
    "\n",
    "    if vitals.iloc[i].lb_cond == 'ge' : \n",
    "        globals()['chartevents_{}'.format(idx)] = globals()['chartevents_{}'.format(idx)][globals()['chartevents_{}'.format(idx)]['valuenum'] >= vitals.iloc[i].lb]\n",
    "    elif vitals.iloc[i].lb_cond == 'gt' : \n",
    "        globals()['chartevents_{}'.format(idx)] = globals()['chartevents_{}'.format(idx)][globals()['chartevents_{}'.format(idx)]['valuenum'] > vitals.iloc[i].lb]\n",
    "\n",
    "    if vitals.iloc[i].ub_cond == 'le' : \n",
    "        globals()['chartevents_{}'.format(idx)] = globals()['chartevents_{}'.format(idx)][globals()['chartevents_{}'.format(idx)]['valuenum'] <= vitals.iloc[i].ub]\n",
    "    elif vitals.iloc[i].ub_cond == 'lt' : \n",
    "        globals()['chartevents_{}'.format(idx)] = globals()['chartevents_{}'.format(idx)][globals()['chartevents_{}'.format(idx)]['valuenum'] < vitals.iloc[i].ub]\n",
    "\n",
    "    globals()['chartevents_{}'.format(idx)].sort_values(by=['subject_id','charttime'],ascending=True,inplace=True)\n",
    "    globals()['chartevents_{}'.format(idx)].reset_index(inplace=True, drop=True)\n",
    "\n",
    "    if not os.path.isfile('./data/vitals/chartevents_%s.parquet'%idx):\n",
    "        globals()['chartevents_{}'.format(idx)].to_parquet('./data/vitals/chartevents_%s.parquet'%idx)"
   ]
  },
  {
   "cell_type": "code",
   "execution_count": 8,
   "metadata": {},
   "outputs": [],
   "source": [
    "fluid = [220949, 220950, 220952, 225158, 225159, 225161, 225828, 225797, 225799, 225823, 225825, 225827, 225830, 226089, 225941, 225943, 225944, 226361, 226363, 226364, 226375, 226377, 226452, 226453, 227533, 228140, 228141, 228142, 228341, 220955, 220967, 220968, 220953]"
   ]
  },
  {
   "cell_type": "code",
   "execution_count": 10,
   "metadata": {},
   "outputs": [],
   "source": [
    "inputevents_fluid = inputevents[inputevents['itemid'].isin(fluid)]"
   ]
  },
  {
   "cell_type": "code",
   "execution_count": 12,
   "metadata": {},
   "outputs": [
    {
     "data": {
      "text/plain": [
       "itemid\n",
       "225158    1258660\n",
       "220949    1034251\n",
       "225943     561934\n",
       "226452     428008\n",
       "225799     304801\n",
       "226453     224140\n",
       "225828     108282\n",
       "226089      94194\n",
       "225944      71293\n",
       "225797      70662\n",
       "225823      27616\n",
       "226364      20332\n",
       "226361      15355\n",
       "220952      13411\n",
       "225159      10227\n",
       "225161       8504\n",
       "225825       5844\n",
       "227533       5373\n",
       "220950       4630\n",
       "225827       3125\n",
       "226363       2458\n",
       "226375       2252\n",
       "225830       1594\n",
       "228140        576\n",
       "225941        416\n",
       "228341        312\n",
       "226377        132\n",
       "228142         51\n",
       "228141         14\n",
       "Name: count, dtype: int64"
      ]
     },
     "execution_count": 12,
     "metadata": {},
     "output_type": "execute_result"
    }
   ],
   "source": [
    "inputevents_fluid['itemid'].value_counts()"
   ]
  }
 ],
 "metadata": {
  "kernelspec": {
   "display_name": "torch",
   "language": "python",
   "name": "python3"
  },
  "language_info": {
   "codemirror_mode": {
    "name": "ipython",
    "version": 3
   },
   "file_extension": ".py",
   "mimetype": "text/x-python",
   "name": "python",
   "nbconvert_exporter": "python",
   "pygments_lexer": "ipython3",
   "version": "3.9.0"
  }
 },
 "nbformat": 4,
 "nbformat_minor": 2
}
