{
 "cells": [
  {
   "cell_type": "code",
   "execution_count": 1,
   "metadata": {},
   "outputs": [],
   "source": [
    "import pandas as pd\n",
    "import numpy as np\n",
    "import matplotlib.pyplot as plt\n",
    "import sys, os, pickle, utils, math, tqdm\n",
    "\n",
    "from datetime import timedelta\n",
    "#from utils import baseline_SCr\n",
    "\n",
    "if os.getcwd()[-4:] == \"code\":\n",
    "    os.chdir('../')\n",
    "\n",
    "icu = './data/mimic-iv-2.2-parquet/icu/'\n",
    "hosp = './data/mimic-iv-2.2-parquet/hosp/'\n",
    "\n",
    "pd.set_option('mode.chained_assignment',  None) # 경고 off"
   ]
  },
  {
   "cell_type": "code",
   "execution_count": 2,
   "metadata": {},
   "outputs": [
    {
     "data": {
      "text/plain": [
       "73181"
      ]
     },
     "execution_count": 2,
     "metadata": {},
     "output_type": "execute_result"
    }
   ],
   "source": [
    "df = pd.read_parquet('./data/resample/resample_label.parquet')\n",
    "len(df.stay_id.unique())"
   ]
  },
  {
   "cell_type": "code",
   "execution_count": 4,
   "metadata": {},
   "outputs": [
    {
     "data": {
      "text/plain": [
       "Index(['subject_id', 'hadm_id', 'stay_id', 'charttime', 'HR', 'SBP', 'DBP',\n",
       "       'MAP', 'temp', 'RR', 'CVP', 'SaO2', 'FiO2', 'Alb', 'Alk_Phos', 'AG',\n",
       "       'BUN', 'Ca', 'CK', 'D_Bil', 'Glu', 'HCT', 'INR', 'PH', 'PHOS',\n",
       "       'Platelet', 'Cl', 'SCr', 'Na', 'Potassium', 'T_Bil', 'WBC', 'Gl', 'Mg',\n",
       "       'Ca_ion', 'HCO3', 'AST', 'ALT', 'PTT', 'baseexcess', 'lactate', 'PaO2',\n",
       "       'PaCO2', 'gender', 'WHITE', 'BLACK', 'HISPANIC OR LATINO', 'ASIAN',\n",
       "       'MULTIPLE RACE', 'OTHER', 'UNKNOWN', 'weight', 'age', 'LD', 'DH', 'HYP',\n",
       "       'CKD', 'MI', 'DM', 'VD', 'CHF', 'COPD', 'baseline_SCr', 'MDRD', 'uo',\n",
       "       'SOFA', 'AKI_UO', 'AKI_SCr', 'AKI', 'ventilation', 'fluid', 'vaso_equ',\n",
       "       'Cephalosporins', 'Vancomycin', 'Betalactam_comb', 'Metronidazole',\n",
       "       'Carbapenems', 'Penicillins', 'Fluoroquinolones', 'Others',\n",
       "       'count_category', 'SCr/baseline_SCr', 'delta_SCr', 'BUN/SCr', 'dead',\n",
       "       'AKI_stage3'],\n",
       "      dtype='object')"
      ]
     },
     "execution_count": 4,
     "metadata": {},
     "output_type": "execute_result"
    }
   ],
   "source": [
    "df.columns"
   ]
  },
  {
   "cell_type": "code",
   "execution_count": 3,
   "metadata": {},
   "outputs": [],
   "source": [
    "df.sort_values(by=['subject_id','hadm_id','stay_id','charttime'],inplace=True)\n",
    "df['step'] = df.groupby('stay_id').cumcount()"
   ]
  },
  {
   "cell_type": "code",
   "execution_count": 4,
   "metadata": {},
   "outputs": [
    {
     "data": {
      "text/plain": [
       "57734"
      ]
     },
     "execution_count": 4,
     "metadata": {},
     "output_type": "execute_result"
    }
   ],
   "source": [
    "# 24시간 이내 퇴원\n",
    "df = df.groupby('stay_id').filter(lambda x:len(x) > 24)\n",
    "len(df.stay_id.unique())"
   ]
  },
  {
   "cell_type": "code",
   "execution_count": 5,
   "metadata": {},
   "outputs": [
    {
     "data": {
      "text/plain": [
       "15721"
      ]
     },
     "execution_count": 5,
     "metadata": {},
     "output_type": "execute_result"
    }
   ],
   "source": [
    "# 24시간 이내 AKI 발생\n",
    "\n",
    "# 각 stay_id에 대해 처음 24개 행을 선택\n",
    "first_24 = df.groupby('stay_id').head(24)[['step','subject_id','hadm_id','stay_id','charttime','uo','AKI_UO','SCr','baseline_SCr','AKI_SCr','AKI','dead']]\n",
    "\n",
    "# 'AKI' 지표가 1 이상인 행을 포함하는 stay_id를 제외\n",
    "filtered_df = first_24.groupby('stay_id').filter(lambda x: not (x['AKI'] >= 1).any())\n",
    "filtered_df = filtered_df.groupby('stay_id').filter(lambda x: not (x['dead'] >= 1).any())\n",
    "\n",
    "# 원래 DataFrame에서 필터링된 stay_id만 선택\n",
    "df = df[df['stay_id'].isin(filtered_df['stay_id'].unique())]\n",
    "\n",
    "len(df.stay_id.unique())"
   ]
  },
  {
   "cell_type": "code",
   "execution_count": 6,
   "metadata": {},
   "outputs": [
    {
     "data": {
      "text/plain": [
       "15502"
      ]
     },
     "execution_count": 6,
     "metadata": {},
     "output_type": "execute_result"
    }
   ],
   "source": [
    "# 각 stay_id별로 count_category가 3 이상인 경우의 개수 계산\n",
    "count_3_or_more = df.groupby('stay_id')['count_category'].transform(lambda x: (x >= 3).sum())\n",
    "\n",
    "# count_category가 3 이상인 경우가 없는 stay_id만 필터링\n",
    "df = df[count_3_or_more < 1]\n",
    "len(df.stay_id.unique())"
   ]
  },
  {
   "cell_type": "code",
   "execution_count": 7,
   "metadata": {},
   "outputs": [
    {
     "data": {
      "text/plain": [
       "15425"
      ]
     },
     "execution_count": 7,
     "metadata": {},
     "output_type": "execute_result"
    }
   ],
   "source": [
    "df.dropna(subset=['HR','SBP','DBP','MAP','temp','RR','weight'],inplace=True)\n",
    "len(df.stay_id.unique())"
   ]
  },
  {
   "cell_type": "code",
   "execution_count": 8,
   "metadata": {},
   "outputs": [],
   "source": [
    "# Action\n",
    "df.loc[df['count_category']==0, 'action'] = 0\n",
    "df.loc[(df['count_category']==1)&(df['Cephalosporins']==1), 'action'] = 1\n",
    "df.loc[(df['count_category']==1)&(df['Vancomycin']==1), 'action'] = 2\n",
    "df.loc[(df['count_category']==1)&(df['Betalactam_comb']==1), 'action'] = 3\n",
    "df.loc[(df['count_category']==1)&(df['Metronidazole']==1), 'action'] = 4\n",
    "df.loc[(df['count_category']==1)&(df['Carbapenems']==1), 'action'] = 5\n",
    "df.loc[(df['count_category']==1)&(df['Penicillins']==1), 'action'] = 6\n",
    "df.loc[(df['count_category']==1)&(df['Fluoroquinolones']==1), 'action'] = 7\n",
    "df.loc[(df['count_category']==1)&(df['Others']==1), 'action'] = 8\n",
    "\n",
    "df.loc[(df['count_category']==2), 'action'] = 11\n",
    "df.loc[(df['count_category']==2)&(df['Cephalosporins']==1)&(df['Vancomycin']==1), 'action'] = 9\n",
    "df.loc[(df['count_category']==2)&(df['Betalactam_comb']==1)&(df['Vancomycin']==1), 'action'] = 10"
   ]
  },
  {
   "cell_type": "code",
   "execution_count": 9,
   "metadata": {},
   "outputs": [
    {
     "data": {
      "text/plain": [
       "action\n",
       "0.0     1263816\n",
       "1.0       30444\n",
       "2.0       26653\n",
       "3.0       13462\n",
       "4.0        8091\n",
       "6.0        7367\n",
       "5.0        7308\n",
       "8.0        6220\n",
       "7.0        4711\n",
       "11.0       3776\n",
       "9.0        2066\n",
       "10.0        905\n",
       "Name: count, dtype: int64"
      ]
     },
     "execution_count": 9,
     "metadata": {},
     "output_type": "execute_result"
    }
   ],
   "source": [
    "df.action.value_counts()"
   ]
  },
  {
   "cell_type": "code",
   "execution_count": 10,
   "metadata": {},
   "outputs": [
    {
     "data": {
      "text/plain": [
       "1374819"
      ]
     },
     "execution_count": 10,
     "metadata": {},
     "output_type": "execute_result"
    }
   ],
   "source": [
    "len(df)"
   ]
  },
  {
   "cell_type": "code",
   "execution_count": 11,
   "metadata": {},
   "outputs": [
    {
     "name": "stderr",
     "output_type": "stream",
     "text": [
      "C:\\Users\\DAHS\\AppData\\Local\\Temp\\ipykernel_67632\\4198296411.py:12: DeprecationWarning: DataFrameGroupBy.apply operated on the grouping columns. This behavior is deprecated, and in a future version of pandas the grouping columns will be excluded from the operation. Either pass `include_groups=False` to exclude the groupings or explicitly select the grouping columns after groupby to silence this warning.\n",
      "  df = df.groupby('stay_id').apply(process_group).reset_index(drop=True)\n"
     ]
    }
   ],
   "source": [
    "df['discharge'] = 0\n",
    "\n",
    "def process_group(group):\n",
    "    if group['dead'].sum() == 0:  # dead 열의 합이 0이면 모든 값이 0임\n",
    "        group.iloc[-1, group.columns.get_loc('discharge')] = 1  # 마지막 행의 discharge 값을 1로 설정\n",
    "    else:\n",
    "        first_dead_index = group['dead'].idxmax()  # dead 열에서 1이 처음으로 나타나는 인덱스\n",
    "        group = group.loc[:first_dead_index]  # 첫 번째 dead 이후의 행들을 제거\n",
    "    return group\n",
    "\n",
    "# stay_id별로 그룹화하고 각 그룹에 대해 process_group 함수 적용\n",
    "df = df.groupby('stay_id').apply(process_group).reset_index(drop=True)"
   ]
  },
  {
   "cell_type": "code",
   "execution_count": 14,
   "metadata": {},
   "outputs": [],
   "source": [
    "'''dead = df.pop('dead')\n",
    "discharge = df.pop('discharge')\n",
    "AKI_stage3 = df.pop('AKI_stage3')'''"
   ]
  },
  {
   "cell_type": "code",
   "execution_count": 12,
   "metadata": {},
   "outputs": [],
   "source": [
    "df['traj'] = pd.factorize(df['stay_id'])[0]"
   ]
  },
  {
   "cell_type": "code",
   "execution_count": 13,
   "metadata": {},
   "outputs": [],
   "source": [
    "df = df[['traj','step', 'age', 'gender','weight',\n",
    "       'WHITE', 'BLACK', 'HISPANIC OR LATINO', 'ASIAN','MULTIPLE RACE', 'OTHER', 'UNKNOWN',\n",
    "       'LD', 'DH', 'HYP', 'CKD', 'MI', 'DM', 'VD', 'CHF', 'COPD', 'baseline_SCr',\n",
    "       'HR', 'SBP', 'DBP', 'MAP', 'temp', 'RR', 'CVP', 'SaO2', 'FiO2', 'PaO2','PaCO2',\n",
    "       'Alb', 'Alk_Phos', 'AG',\n",
    "       'BUN', 'Ca', 'CK', 'D_Bil', 'Glu', 'HCT', 'INR', 'PH', 'PHOS',\n",
    "       'Platelet', 'Cl', 'SCr', 'Na', 'Potassium', 'T_Bil', 'WBC', 'Gl', 'Mg',\n",
    "       'Ca_ion', 'HCO3', 'AST', 'ALT', 'PTT', 'baseexcess', 'lactate', \n",
    "       'uo', 'SOFA', 'AKI_UO', 'AKI_SCr', 'AKI', 'ventilation', 'fluid', 'vaso_equ',\n",
    "       'SCr/baseline_SCr', 'delta_SCr', 'BUN/SCr',\n",
    "       'action','dead','discharge','AKI_stage3']]"
   ]
  },
  {
   "cell_type": "code",
   "execution_count": 36,
   "metadata": {},
   "outputs": [
    {
     "name": "stdout",
     "output_type": "stream",
     "text": [
      "dead_aki: 175 dead_nonaki: 338 surv_aki: 1183 surv_nonaki: 13729\n",
      "==============================\n",
      "len(train_df): 1031688 len(val_df): 68539 len(test_df): 270899\n",
      "len(train_df.traj.unique()): 11569 len(val_df.traj.unique()): 771 len(test_df.traj.unique()): 3085\n"
     ]
    }
   ],
   "source": [
    "def make_train_val_test_split(df, train_frac=0.75, val_frac=0.05):\n",
    "    all_traj = df['traj'].unique()\n",
    "    all_AKI = []\n",
    "    all_dead = []\n",
    "    for traj in all_traj:\n",
    "        aki = df[df['traj'] == traj]['AKI_stage3'].sum()\n",
    "        dead = df[df['traj'] == traj]['dead'].sum()\n",
    "        all_AKI.append(aki)\n",
    "        all_dead.append(dead)\n",
    "    dead_aki    = [x for x in range(len(all_traj)) if (all_AKI[x] > 0)&(all_dead[x] > 0)]\n",
    "    dead_nonaki = [x for x in range(len(all_traj)) if (all_AKI[x] == 0)&(all_dead[x] > 0)]\n",
    "    surv_aki    = [x for x in range(len(all_traj)) if (all_AKI[x] > 0)&(all_dead[x] == 0)]\n",
    "    surv_nonaki = [x for x in range(len(all_traj)) if (all_AKI[x] == 0)&(all_dead[x] == 0)]\n",
    "\n",
    "    print(\"dead_aki:\",len(dead_aki),\"dead_nonaki:\",len(dead_nonaki),\"surv_aki:\",len(surv_aki),\"surv_nonaki:\",len(surv_nonaki))\n",
    "\n",
    "    np.random.shuffle(dead_aki)\n",
    "    np.random.shuffle(dead_nonaki)\n",
    "    np.random.shuffle(surv_aki)\n",
    "    np.random.shuffle(surv_nonaki)\n",
    "\n",
    "    train_dead_aki_index    = int(np.round(train_frac*len(dead_aki),0))\n",
    "    train_dead_nonaki_index = int(np.round(train_frac*len(dead_nonaki),0))\n",
    "    train_surv_aki_index    = int(np.round(train_frac*len(surv_aki),0))\n",
    "    train_surv_nonaki_index = int(np.round(train_frac*len(surv_nonaki),0))\n",
    "\n",
    "    val_dead_aki_index      = int(np.round(val_frac*len(dead_aki),0)) + train_dead_aki_index\n",
    "    val_dead_nonaki_index   = int(np.round(val_frac*len(dead_nonaki),0)) + train_dead_nonaki_index\n",
    "    val_surv_aki_index      = int(np.round(val_frac*len(surv_aki),0)) + train_surv_aki_index\n",
    "    val_surv_nonaki_index   = int(np.round(val_frac*len(surv_nonaki),0)) + train_surv_nonaki_index\n",
    "\n",
    "    train_traj = dead_aki[:train_dead_aki_index]\n",
    "    train_traj.extend(dead_nonaki[:train_dead_nonaki_index])\n",
    "    train_traj.extend(surv_aki[:train_surv_aki_index])\n",
    "    train_traj.extend(surv_nonaki[:train_surv_nonaki_index])\n",
    "\n",
    "    val_traj = dead_aki[train_dead_aki_index:val_dead_aki_index]\n",
    "    val_traj.extend(dead_nonaki[train_dead_nonaki_index:val_dead_nonaki_index])\n",
    "    val_traj.extend(surv_aki[train_surv_aki_index:val_surv_aki_index])\n",
    "    val_traj.extend(surv_nonaki[train_surv_nonaki_index:val_surv_nonaki_index])\n",
    "\n",
    "    test_traj = dead_aki[val_dead_aki_index:]\n",
    "    test_traj.extend(dead_nonaki[val_dead_nonaki_index:])\n",
    "    test_traj.extend(surv_aki[val_surv_aki_index:])\n",
    "    test_traj.extend(surv_nonaki[val_surv_nonaki_index:])\n",
    "\n",
    "    train_df = df[df['traj'].isin(train_traj)]\n",
    "    val_df   = df[df['traj'].isin(val_traj)]\n",
    "    test_df  = df[df['traj'].isin(test_traj)]\n",
    "\n",
    "    print('==============================')\n",
    "    print(\"train_df:\",len(train_df), \"val_df:\",len(val_df), \"test_df:\",len(test_df))\n",
    "    print(\"train_df.traj.unique():\",len(train_df.traj.unique()), \"val_df.traj.unique():\",len(val_df.traj.unique()), \"test_df.traj.unique():\",len(test_df.traj.unique()))\n",
    "\n",
    "    \n",
    "    train_df.to_parquet('./data/train.parquet')\n",
    "    val_df.to_parquet('./data/val.parquet')\n",
    "    test_df.to_parquet('./data/test.parquet')\n",
    "\n",
    "    return train_df, val_df, test_df\n",
    "\n",
    "train_df, val_df, test_df = make_train_val_test_split(df)"
   ]
  },
  {
   "cell_type": "code",
   "execution_count": 49,
   "metadata": {},
   "outputs": [],
   "source": [
    "def change_columns(df):\n",
    "    for i,idx in enumerate(df.columns):\n",
    "        if i < 2 : pass\n",
    "        elif i >= 2 and i < len(df.columns) - 4 : df.rename(columns={idx:'s:'+idx},inplace=True)\n",
    "        elif idx == 'action': df.rename(columns={idx:'a:'+idx},inplace=True)\n",
    "        else : df.rename(columns={idx:'r:'+idx},inplace=True)\n",
    "    return df\n",
    "\n",
    "train_df = change_columns(train_df)\n",
    "val_df = change_columns(val_df)\n",
    "test_df = change_columns(test_df)\n",
    "\n",
    "train_df.to_parquet('./data/train.parquet')\n",
    "val_df.to_parquet('./data/val.parquet')\n",
    "test_df.to_parquet('./data/test.parquet')"
   ]
  },
  {
   "cell_type": "code",
   "execution_count": 52,
   "metadata": {},
   "outputs": [
    {
     "data": {
      "text/plain": [
       "Index(['traj', 'step', 's:age', 's:gender', 's:weight', 's:WHITE', 's:BLACK',\n",
       "       's:HISPANIC OR LATINO', 's:ASIAN', 's:MULTIPLE RACE', 's:OTHER',\n",
       "       's:UNKNOWN', 's:LD', 's:DH', 's:HYP', 's:CKD', 's:MI', 's:DM', 's:VD',\n",
       "       's:CHF', 's:COPD', 's:baseline_SCr', 's:HR', 's:SBP', 's:DBP', 's:MAP',\n",
       "       's:temp', 's:RR', 's:CVP', 's:SaO2', 's:FiO2', 's:PaO2', 's:PaCO2',\n",
       "       's:Alb', 's:Alk_Phos', 's:AG', 's:BUN', 's:Ca', 's:CK', 's:D_Bil',\n",
       "       's:Glu', 's:HCT', 's:INR', 's:PH', 's:PHOS', 's:Platelet', 's:Cl',\n",
       "       's:SCr', 's:Na', 's:Potassium', 's:T_Bil', 's:WBC', 's:Gl', 's:Mg',\n",
       "       's:Ca_ion', 's:HCO3', 's:AST', 's:ALT', 's:PTT', 's:baseexcess',\n",
       "       's:lactate', 's:uo', 's:SOFA', 's:AKI_UO', 's:AKI_SCr', 's:AKI',\n",
       "       's:ventilation', 's:fluid', 's:vaso_equ', 's:SCr/baseline_SCr',\n",
       "       's:delta_SCr', 's:BUN/SCr', 'a:action', 'r:dead', 'r:discharge',\n",
       "       'r:AKI_stage3'],\n",
       "      dtype='object')"
      ]
     },
     "execution_count": 52,
     "metadata": {},
     "output_type": "execute_result"
    }
   ],
   "source": [
    "test_df.columns"
   ]
  },
  {
   "cell_type": "code",
   "execution_count": 46,
   "metadata": {},
   "outputs": [
    {
     "data": {
      "text/plain": [
       "action\n",
       "0.0     947028\n",
       "1.0      23098\n",
       "2.0      20284\n",
       "3.0      10371\n",
       "4.0       6084\n",
       "6.0       5618\n",
       "5.0       5605\n",
       "8.0       4867\n",
       "7.0       3571\n",
       "11.0      2913\n",
       "9.0       1563\n",
       "10.0       686\n",
       "Name: count, dtype: int64"
      ]
     },
     "execution_count": 46,
     "metadata": {},
     "output_type": "execute_result"
    }
   ],
   "source": [
    "train_df.action.value_counts()/len(train_df)"
   ]
  },
  {
   "cell_type": "code",
   "execution_count": 47,
   "metadata": {},
   "outputs": [
    {
     "data": {
      "text/plain": [
       "action\n",
       "0.0     63264\n",
       "1.0      1434\n",
       "2.0      1305\n",
       "3.0       631\n",
       "4.0       384\n",
       "8.0       339\n",
       "5.0       315\n",
       "6.0       308\n",
       "7.0       281\n",
       "11.0      140\n",
       "9.0        84\n",
       "10.0       54\n",
       "Name: count, dtype: int64"
      ]
     },
     "execution_count": 47,
     "metadata": {},
     "output_type": "execute_result"
    }
   ],
   "source": [
    "val_df.action.value_counts()/len(val_df)*100"
   ]
  },
  {
   "cell_type": "code",
   "execution_count": 48,
   "metadata": {},
   "outputs": [
    {
     "data": {
      "text/plain": [
       "action\n",
       "0.0     250001\n",
       "1.0       5873\n",
       "2.0       5013\n",
       "3.0       2428\n",
       "4.0       1619\n",
       "6.0       1430\n",
       "5.0       1381\n",
       "8.0       1004\n",
       "7.0        856\n",
       "11.0       719\n",
       "9.0        414\n",
       "10.0       161\n",
       "Name: count, dtype: int64"
      ]
     },
     "execution_count": 48,
     "metadata": {},
     "output_type": "execute_result"
    }
   ],
   "source": [
    "test_df.action.value_counts()"
   ]
  }
 ],
 "metadata": {
  "kernelspec": {
   "display_name": "torch",
   "language": "python",
   "name": "python3"
  },
  "language_info": {
   "codemirror_mode": {
    "name": "ipython",
    "version": 3
   },
   "file_extension": ".py",
   "mimetype": "text/x-python",
   "name": "python",
   "nbconvert_exporter": "python",
   "pygments_lexer": "ipython3",
   "version": "3.10.0"
  }
 },
 "nbformat": 4,
 "nbformat_minor": 2
}
