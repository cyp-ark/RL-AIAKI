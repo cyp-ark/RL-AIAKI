{
 "cells": [
  {
   "cell_type": "code",
   "execution_count": 1,
   "metadata": {},
   "outputs": [],
   "source": [
    "import pandas as pd\n",
    "import numpy as np\n",
    "import matplotlib.pyplot as plt\n",
    "import sys, os, pickle, utils, math\n",
    "\n",
    "from tqdm.notebook import tqdm\n",
    "from datetime import timedelta\n",
    "#from utils import baseline_SCr\n",
    "\n",
    "if os.getcwd()[-4:] == \"code\":\n",
    "    os.chdir('../')\n",
    "\n",
    "icu = './data/mimic-iv-2.2-parquet/icu/'\n",
    "hosp = './data/mimic-iv-2.2-parquet/hosp/'\n",
    "\n",
    "pd.set_option('mode.chained_assignment',  None) # 경고 off"
   ]
  },
  {
   "cell_type": "code",
   "execution_count": 2,
   "metadata": {},
   "outputs": [
    {
     "data": {
      "text/plain": [
       "73181"
      ]
     },
     "execution_count": 2,
     "metadata": {},
     "output_type": "execute_result"
    }
   ],
   "source": [
    "df = pd.read_parquet('./data/resample/resample_merge.parquet')\n",
    "len(df.stay_id.unique())"
   ]
  },
  {
   "cell_type": "code",
   "execution_count": 3,
   "metadata": {},
   "outputs": [],
   "source": [
    "df.sort_values(by=['subject_id','hadm_id','stay_id','charttime'],inplace=True)\n",
    "df['step'] = df.groupby('stay_id').cumcount()"
   ]
  },
  {
   "cell_type": "code",
   "execution_count": 4,
   "metadata": {},
   "outputs": [
    {
     "data": {
      "text/plain": [
       "57734"
      ]
     },
     "execution_count": 4,
     "metadata": {},
     "output_type": "execute_result"
    }
   ],
   "source": [
    "# 24시간 이내 퇴원\n",
    "df = df.groupby('stay_id').filter(lambda x:len(x) > 24)\n",
    "len(df.stay_id.unique())"
   ]
  },
  {
   "cell_type": "code",
   "execution_count": 5,
   "metadata": {},
   "outputs": [
    {
     "data": {
      "text/plain": [
       "15759"
      ]
     },
     "execution_count": 5,
     "metadata": {},
     "output_type": "execute_result"
    }
   ],
   "source": [
    "# 24시간 이내 AKI 발생\n",
    "\n",
    "# 각 stay_id에 대해 처음 24개 행을 선택\n",
    "first_24 = df.groupby('stay_id').head(24)[['step','subject_id','hadm_id','stay_id','charttime','uo','AKI_UO','SCr','baseline_SCr','AKI_SCr','AKI']]\n",
    "\n",
    "# 'AKI' 지표가 1 이상인 행을 포함하는 stay_id를 제외\n",
    "filtered_df = first_24.groupby('stay_id').filter(lambda x: not (x['AKI'] >= 1).any())\n",
    "\n",
    "# 원래 DataFrame에서 필터링된 stay_id만 선택\n",
    "df = df[df['stay_id'].isin(filtered_df['stay_id'].unique())]\n",
    "\n",
    "len(df.stay_id.unique())"
   ]
  },
  {
   "cell_type": "code",
   "execution_count": 6,
   "metadata": {},
   "outputs": [
    {
     "data": {
      "text/plain": [
       "15540"
      ]
     },
     "execution_count": 6,
     "metadata": {},
     "output_type": "execute_result"
    }
   ],
   "source": [
    "# 각 stay_id별로 count_category가 3 이상인 경우의 개수 계산\n",
    "count_3_or_more = df.groupby('stay_id')['count_category'].transform(lambda x: (x >= 3).sum())\n",
    "\n",
    "# count_category가 3 이상인 경우가 없는 stay_id만 필터링\n",
    "df = df[count_3_or_more < 1]\n",
    "len(df.stay_id.unique())"
   ]
  },
  {
   "cell_type": "code",
   "execution_count": 8,
   "metadata": {},
   "outputs": [
    {
     "data": {
      "text/plain": [
       "15461"
      ]
     },
     "execution_count": 8,
     "metadata": {},
     "output_type": "execute_result"
    }
   ],
   "source": [
    "df.dropna(subset=['HR','SBP','DBP','MAP','temp','RR','weight'],inplace=True)\n",
    "len(df.stay_id.unique())"
   ]
  },
  {
   "cell_type": "code",
   "execution_count": 9,
   "metadata": {},
   "outputs": [],
   "source": [
    "tmp = df.isna().sum()"
   ]
  },
  {
   "cell_type": "code",
   "execution_count": 11,
   "metadata": {},
   "outputs": [],
   "source": [
    "# Action\n",
    "df.loc[df['count_category']==0, 'action'] = 0\n",
    "df.loc[(df['count_category']==1)&(df['Cephalosporins']==1), 'action'] = 1\n",
    "df.loc[(df['count_category']==1)&(df['Vancomycin']==1), 'action'] = 2\n",
    "df.loc[(df['count_category']==1)&(df['Betalactam_comb']==1), 'action'] = 3\n",
    "df.loc[(df['count_category']==1)&(df['Metronidazole']==1), 'action'] = 4\n",
    "df.loc[(df['count_category']==1)&(df['Carbapenems']==1), 'action'] = 5\n",
    "df.loc[(df['count_category']==1)&(df['Penicillins']==1), 'action'] = 6\n",
    "df.loc[(df['count_category']==1)&(df['Fluoroquinolones']==1), 'action'] = 7\n",
    "df.loc[(df['count_category']==1)&(df['Others']==1), 'action'] = 8\n",
    "\n",
    "df.loc[(df['count_category']==2), 'action'] = 11\n",
    "df.loc[(df['count_category']==2)&(df['Cephalosporins']==1)&(df['Vancomycin']==1), 'action'] = 9\n",
    "df.loc[(df['count_category']==2)&(df['Betalactam_comb']==1)&(df['Vancomycin']==1), 'action'] = 10"
   ]
  },
  {
   "cell_type": "code",
   "execution_count": 13,
   "metadata": {},
   "outputs": [
    {
     "data": {
      "text/plain": [
       "action\n",
       "0.0     1265435\n",
       "1.0       30494\n",
       "2.0       26675\n",
       "3.0       13468\n",
       "4.0        8095\n",
       "6.0        7367\n",
       "5.0        7308\n",
       "8.0        6226\n",
       "7.0        4714\n",
       "11.0       3779\n",
       "9.0        2068\n",
       "10.0        905\n",
       "Name: count, dtype: int64"
      ]
     },
     "execution_count": 13,
     "metadata": {},
     "output_type": "execute_result"
    }
   ],
   "source": [
    "df.action.value_counts()"
   ]
  },
  {
   "cell_type": "code",
   "execution_count": 14,
   "metadata": {},
   "outputs": [
    {
     "data": {
      "text/plain": [
       "AKI\n",
       "0    1358\n",
       "2      68\n",
       "1      66\n",
       "3      28\n",
       "Name: count, dtype: int64"
      ]
     },
     "execution_count": 14,
     "metadata": {},
     "output_type": "execute_result"
    }
   ],
   "source": [
    "df[df['SCr'].isna()].AKI.value_counts()"
   ]
  },
  {
   "cell_type": "code",
   "execution_count": 16,
   "metadata": {},
   "outputs": [
    {
     "data": {
      "text/plain": [
       "41"
      ]
     },
     "execution_count": 16,
     "metadata": {},
     "output_type": "execute_result"
    }
   ],
   "source": [
    "len(df[df['SCr'].isna()].stay_id.unique())"
   ]
  },
  {
   "cell_type": "code",
   "execution_count": null,
   "metadata": {},
   "outputs": [],
   "source": []
  }
 ],
 "metadata": {
  "kernelspec": {
   "display_name": "torch",
   "language": "python",
   "name": "python3"
  },
  "language_info": {
   "codemirror_mode": {
    "name": "ipython",
    "version": 3
   },
   "file_extension": ".py",
   "mimetype": "text/x-python",
   "name": "python",
   "nbconvert_exporter": "python",
   "pygments_lexer": "ipython3",
   "version": "3.9.0"
  }
 },
 "nbformat": 4,
 "nbformat_minor": 2
}
