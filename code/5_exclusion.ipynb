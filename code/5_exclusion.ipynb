{
 "cells": [
  {
   "cell_type": "code",
   "execution_count": 1,
   "metadata": {},
   "outputs": [],
   "source": [
    "import pandas as pd\n",
    "import numpy as np\n",
    "import matplotlib.pyplot as plt\n",
    "import sys, os, pickle, utils\n",
    "\n",
    "from tqdm.notebook import tqdm\n",
    "from datetime import timedelta\n",
    "#from utils import baseline_SCr\n",
    "\n",
    "if os.getcwd()[-4:] == \"code\":\n",
    "    os.chdir('../')\n",
    "\n",
    "icu = './data/mimic-iv-2.2-parquet/icu/'\n",
    "hosp = './data/mimic-iv-2.2-parquet/hosp/'\n",
    "\n",
    "pd.set_option('mode.chained_assignment',  None) # 경고 off"
   ]
  },
  {
   "cell_type": "code",
   "execution_count": 2,
   "metadata": {},
   "outputs": [],
   "source": [
    "d_items     = pd.read_parquet(icu+'d_items.parquet')\n",
    "inputevents = pd.read_parquet(icu+'inputevents.parquet')\n",
    "icustays    = pd.read_parquet(icu+'icustays.parquet')"
   ]
  },
  {
   "cell_type": "code",
   "execution_count": 3,
   "metadata": {},
   "outputs": [],
   "source": [
    "d_antibiotics = d_items[(d_items['linksto']=='inputevents')&(d_items['category']=='Antibiotics')]\n",
    "d_antibiotics = d_antibiotics[['itemid','label']]\n",
    "d_antibiotics.reset_index(inplace=True)\n",
    "\n",
    "# non-Antibiotics 제거\n",
    "d_antibiotics = d_antibiotics[~d_antibiotics['itemid'].isin([\n",
    "    225898,225877,225895,225868,225869,225885,225905,225838,\n",
    "    225848,225844,225896,225837,225873,228003,225871,225903])]\n",
    "d_antibiotics.dropna(subset='itemid',inplace=True)\n",
    "d_antibiotics.reset_index(drop=True,inplace=True)"
   ]
  },
  {
   "cell_type": "markdown",
   "metadata": {},
   "source": [
    "# I. Inject antibiotics at least one time."
   ]
  },
  {
   "cell_type": "code",
   "execution_count": 4,
   "metadata": {},
   "outputs": [
    {
     "data": {
      "text/plain": [
       "44426"
      ]
     },
     "execution_count": 4,
     "metadata": {},
     "output_type": "execute_result"
    }
   ],
   "source": [
    "cohort = inputevents[inputevents['itemid'].isin(d_antibiotics.itemid.unique())].stay_id.unique()\n",
    "len(cohort)"
   ]
  },
  {
   "cell_type": "code",
   "execution_count": 5,
   "metadata": {},
   "outputs": [],
   "source": [
    "cohort_24hrs = icustays[icustays['los']>=1].stay_id.unique()"
   ]
  },
  {
   "cell_type": "code",
   "execution_count": 6,
   "metadata": {},
   "outputs": [],
   "source": [
    "labvalues = pd.read_csv('./data/labvalues/labvalues.csv')\n",
    "for i in labvalues.abbreviation.unique():\n",
    "    globals()['resample_{}'.format(i)] = pd.read_parquet('./data/resample/resample_%s.parquet'%i)\n",
    "    #globals()['resample_{}'.format(i)] = globals()['resample_{}'.format(i)][globals()['resample_{}'.format(i)]['stay_id'].isin(cohort)]"
   ]
  },
  {
   "cell_type": "code",
   "execution_count": 7,
   "metadata": {},
   "outputs": [
    {
     "name": "stdout",
     "output_type": "stream",
     "text": [
      "Alb: 6045091\n",
      "Alk_Phos: 5993222\n",
      "AG: 5681930\n",
      "BUN: 5680686\n",
      "Ca: 5717578\n",
      "CK: 6053479\n",
      "D_Bil: 6089827\n",
      "Glu: 5684438\n",
      "HCT: 5669912\n",
      "INR: 5837318\n",
      "PH: 5794335\n",
      "PHOS: 5714993\n",
      "Platelet: 5716713\n",
      "Cl: 5657825\n",
      "SCr: 5679572\n",
      "nan: 5651078\n",
      "Potassium: 5649265\n",
      "T_Bil: 5990514\n",
      "WBC: 5724317\n",
      "Gl: 5684446\n",
      "Mg: 5691936\n",
      "Ca_ion: 5888568\n",
      "HCO3: 5679451\n",
      "AST: 5991103\n",
      "ALT: 5991131\n",
      "PTT: 5813728\n",
      "baseexcess: 5805460\n",
      "lactate: 5876867\n"
     ]
    }
   ],
   "source": [
    "for i in labvalues.abbreviation.unique():\n",
    "    print(\"%s:\"%i,globals()['resample_{}'.format(i)].valuenum.isna().sum())"
   ]
  },
  {
   "cell_type": "code",
   "execution_count": 8,
   "metadata": {},
   "outputs": [
    {
     "name": "stdout",
     "output_type": "stream",
     "text": [
      "Alb: 73180\n",
      "Alk_Phos: 73176\n",
      "AG: 73173\n",
      "BUN: 73173\n",
      "Ca: 73174\n",
      "CK: 73181\n",
      "D_Bil: 73180\n",
      "Glu: 73174\n",
      "HCT: 73174\n",
      "INR: 73173\n",
      "PH: 73173\n",
      "PHOS: 73174\n",
      "Platelet: 73174\n",
      "Cl: 73173\n",
      "SCr: 73173\n",
      "nan: 73173\n",
      "Potassium: 73173\n",
      "T_Bil: 73176\n",
      "WBC: 73174\n",
      "Gl: 73174\n",
      "Mg: 73173\n",
      "Ca_ion: 73178\n",
      "HCO3: 73173\n",
      "AST: 73176\n",
      "ALT: 73176\n",
      "PTT: 73174\n",
      "baseexcess: 73173\n",
      "lactate: 73175\n"
     ]
    }
   ],
   "source": [
    "for i in labvalues.abbreviation.unique():\n",
    "    print(\"%s:\"%i,len(globals()['resample_{}'.format(i)][globals()['resample_{}'.format(i)]['valuenum'].isna()].stay_id.unique()))"
   ]
  },
  {
   "cell_type": "markdown",
   "metadata": {},
   "source": [
    "## ffill"
   ]
  },
  {
   "cell_type": "code",
   "execution_count": 9,
   "metadata": {},
   "outputs": [],
   "source": [
    "for i in labvalues.abbreviation.unique():\n",
    "    globals()['resample_{}'.format(i)] = utils.resample_ffill(globals()['resample_{}'.format(i)])\n",
    "    #globals()['resample_{}'.format(i)] = utils.resample_bfill(globals()['resample_{}'.format(i)])"
   ]
  },
  {
   "cell_type": "code",
   "execution_count": 10,
   "metadata": {},
   "outputs": [
    {
     "name": "stdout",
     "output_type": "stream",
     "text": [
      "Alb: 3298969\n",
      "Alk_Phos: 2571768\n",
      "AG: 368858\n",
      "BUN: 353370\n",
      "Ca: 563671\n",
      "CK: 3904267\n",
      "D_Bil: 5428931\n",
      "Glu: 444757\n",
      "HCT: 359251\n",
      "INR: 803184\n",
      "PH: 2231745\n",
      "PHOS: 559214\n",
      "Platelet: 375744\n",
      "Cl: 348921\n",
      "SCr: 352466\n",
      "nan: 388564\n",
      "Potassium: 374056\n",
      "T_Bil: 2542695\n",
      "WBC: 379760\n",
      "Gl: 444757\n",
      "Mg: 481986\n",
      "Ca_ion: 2533880\n",
      "HCO3: 354410\n",
      "AST: 2530008\n",
      "ALT: 2529419\n",
      "PTT: 818542\n",
      "baseexcess: 2245528\n",
      "lactate: 1777729\n"
     ]
    }
   ],
   "source": [
    "for i in labvalues.abbreviation.unique():\n",
    "    print(\"%s:\"%i,globals()['resample_{}'.format(i)].valuenum.isna().sum())"
   ]
  },
  {
   "cell_type": "code",
   "execution_count": 11,
   "metadata": {},
   "outputs": [
    {
     "name": "stdout",
     "output_type": "stream",
     "text": [
      "Alb: 69162\n",
      "Alk_Phos: 66831\n",
      "AG: 59602\n",
      "BUN: 59463\n",
      "Ca: 60264\n",
      "CK: 69691\n",
      "D_Bil: 72689\n",
      "Glu: 59766\n",
      "HCT: 58267\n",
      "INR: 60546\n",
      "PH: 63073\n",
      "PHOS: 60248\n",
      "Platelet: 58573\n",
      "Cl: 59384\n",
      "SCr: 59452\n",
      "nan: 59511\n",
      "Potassium: 59520\n",
      "T_Bil: 66798\n",
      "WBC: 58702\n",
      "Gl: 59766\n",
      "Mg: 60137\n",
      "Ca_ion: 65698\n",
      "HCO3: 59499\n",
      "AST: 66710\n",
      "ALT: 66713\n",
      "PTT: 60649\n",
      "baseexcess: 63120\n",
      "lactate: 62396\n"
     ]
    }
   ],
   "source": [
    "for i in labvalues.abbreviation.unique():\n",
    "    print(\"%s:\"%i,len(globals()['resample_{}'.format(i)][globals()['resample_{}'.format(i)]['valuenum'].isna()].stay_id.unique()))"
   ]
  },
  {
   "cell_type": "markdown",
   "metadata": {},
   "source": [
    "## ffill & bfill"
   ]
  },
  {
   "cell_type": "code",
   "execution_count": 12,
   "metadata": {},
   "outputs": [],
   "source": [
    "for i in labvalues.abbreviation.unique():\n",
    "    #globals()['resample_{}'.format(i)] = utils.resample_ffill(globals()['resample_{}'.format(i)])\n",
    "    globals()['resample_{}'.format(i)] = utils.resample_bfill(globals()['resample_{}'.format(i)])"
   ]
  },
  {
   "cell_type": "code",
   "execution_count": 13,
   "metadata": {},
   "outputs": [
    {
     "name": "stdout",
     "output_type": "stream",
     "text": [
      "Alb: 2681194\n",
      "Alk_Phos: 2059464\n",
      "AG: 38437\n",
      "BUN: 37731\n",
      "Ca: 122531\n",
      "CK: 3532618\n",
      "D_Bil: 5179828\n",
      "Glu: 40214\n",
      "HCT: 38839\n",
      "INR: 379299\n",
      "PH: 1951135\n",
      "PHOS: 121323\n",
      "Platelet: 42132\n",
      "Cl: 36724\n",
      "SCr: 37571\n",
      "nan: 36661\n",
      "Potassium: 36850\n",
      "T_Bil: 2027918\n",
      "WBC: 42541\n",
      "Gl: 40214\n",
      "Mg: 70955\n",
      "Ca_ion: 2148185\n",
      "HCO3: 37450\n",
      "AST: 2014392\n",
      "ALT: 2013785\n",
      "PTT: 395631\n",
      "baseexcess: 1967454\n",
      "lactate: 1473678\n"
     ]
    }
   ],
   "source": [
    "for i in labvalues.abbreviation.unique():\n",
    "    print(\"%s:\"%i,globals()['resample_{}'.format(i)].valuenum.isna().sum())"
   ]
  },
  {
   "cell_type": "code",
   "execution_count": 14,
   "metadata": {},
   "outputs": [
    {
     "name": "stdout",
     "output_type": "stream",
     "text": [
      "Alb: 48047\n",
      "Alk_Phos: 38830\n",
      "AG: 2853\n",
      "BUN: 2818\n",
      "Ca: 5637\n",
      "CK: 52386\n",
      "D_Bil: 68485\n",
      "Glu: 2911\n",
      "HCT: 2850\n",
      "INR: 11606\n",
      "PH: 40569\n",
      "PHOS: 5588\n",
      "Platelet: 3041\n",
      "Cl: 2777\n",
      "SCr: 2810\n",
      "nan: 2773\n",
      "Potassium: 2771\n",
      "T_Bil: 38460\n",
      "WBC: 3061\n",
      "Gl: 2911\n",
      "Mg: 4048\n",
      "Ca_ion: 42379\n",
      "HCO3: 2818\n",
      "AST: 38356\n",
      "ALT: 38341\n",
      "PTT: 11993\n",
      "baseexcess: 40815\n",
      "lactate: 31475\n"
     ]
    }
   ],
   "source": [
    "for i in labvalues.abbreviation.unique():\n",
    "    print(\"%s:\"%i,len(globals()['resample_{}'.format(i)][globals()['resample_{}'.format(i)]['valuenum'].isna()].stay_id.unique()))"
   ]
  },
  {
   "cell_type": "markdown",
   "metadata": {},
   "source": [
    "## with cohort"
   ]
  },
  {
   "cell_type": "code",
   "execution_count": 15,
   "metadata": {},
   "outputs": [],
   "source": [
    "for i in labvalues.abbreviation.unique():\n",
    "    #globals()['resample_{}'.format(i)] = pd.read_parquet('./data/resample/resample_%s.parquet'%i)\n",
    "    globals()['resample_{}'.format(i)] = globals()['resample_{}'.format(i)][globals()['resample_{}'.format(i)]['stay_id'].isin(cohort)]"
   ]
  },
  {
   "cell_type": "code",
   "execution_count": 16,
   "metadata": {},
   "outputs": [
    {
     "name": "stdout",
     "output_type": "stream",
     "text": [
      "Alb: 1798804\n",
      "Alk_Phos: 1329297\n",
      "AG: 10080\n",
      "BUN: 9330\n",
      "Ca: 79784\n",
      "CK: 2635463\n",
      "D_Bil: 3931379\n",
      "Glu: 11616\n",
      "HCT: 9549\n",
      "INR: 181246\n",
      "PH: 1020639\n",
      "PHOS: 78583\n",
      "Platelet: 10500\n",
      "Cl: 8911\n",
      "SCr: 9292\n",
      "nan: 8910\n",
      "Potassium: 9316\n",
      "T_Bil: 1304215\n",
      "WBC: 10619\n",
      "Gl: 11616\n",
      "Mg: 32389\n",
      "Ca_ion: 1199155\n",
      "HCO3: 9104\n",
      "AST: 1297942\n",
      "ALT: 1297842\n",
      "PTT: 190399\n",
      "baseexcess: 1029613\n",
      "lactate: 676211\n"
     ]
    }
   ],
   "source": [
    "for i in labvalues.abbreviation.unique():\n",
    "    print(\"%s:\"%i,globals()['resample_{}'.format(i)].valuenum.isna().sum())"
   ]
  },
  {
   "cell_type": "code",
   "execution_count": 17,
   "metadata": {},
   "outputs": [
    {
     "name": "stdout",
     "output_type": "stream",
     "text": [
      "Alb: 26256\n",
      "Alk_Phos: 20479\n",
      "AG: 592\n",
      "BUN: 562\n",
      "Ca: 2822\n",
      "CK: 31050\n",
      "D_Bil: 40385\n",
      "Glu: 639\n",
      "HCT: 574\n",
      "INR: 4252\n",
      "PH: 17506\n",
      "PHOS: 2777\n",
      "Platelet: 620\n",
      "Cl: 548\n",
      "SCr: 560\n",
      "nan: 547\n",
      "Potassium: 560\n",
      "T_Bil: 20194\n",
      "WBC: 623\n",
      "Gl: 639\n",
      "Mg: 1392\n",
      "Ca_ion: 18968\n",
      "HCO3: 559\n",
      "AST: 20218\n",
      "ALT: 20204\n",
      "PTT: 4443\n",
      "baseexcess: 17636\n",
      "lactate: 11646\n"
     ]
    }
   ],
   "source": [
    "for i in labvalues.abbreviation.unique():\n",
    "    print(\"%s:\"%i,len(globals()['resample_{}'.format(i)][globals()['resample_{}'.format(i)]['valuenum'].isna()].stay_id.unique()))"
   ]
  },
  {
   "cell_type": "markdown",
   "metadata": {},
   "source": [
    "## 24hrs"
   ]
  },
  {
   "cell_type": "code",
   "execution_count": 18,
   "metadata": {},
   "outputs": [],
   "source": [
    "for i in labvalues.abbreviation.unique():\n",
    "    #globals()['resample_{}'.format(i)] = pd.read_parquet('./data/resample/resample_%s.parquet'%i)\n",
    "    globals()['resample_{}'.format(i)] = globals()['resample_{}'.format(i)][globals()['resample_{}'.format(i)]['stay_id'].isin(cohort_24hrs)]"
   ]
  },
  {
   "cell_type": "code",
   "execution_count": 19,
   "metadata": {},
   "outputs": [
    {
     "name": "stdout",
     "output_type": "stream",
     "text": [
      "Alb: 1726141\n",
      "Alk_Phos: 1271222\n",
      "AG: 3952\n",
      "BUN: 3301\n",
      "Ca: 67837\n",
      "CK: 2559178\n",
      "D_Bil: 3839310\n",
      "Glu: 5552\n",
      "HCT: 3339\n",
      "INR: 155316\n",
      "PH: 949407\n",
      "PHOS: 66580\n",
      "Platelet: 3766\n",
      "Cl: 2990\n",
      "SCr: 3308\n",
      "nan: 3021\n",
      "Potassium: 3441\n",
      "T_Bil: 1246258\n",
      "WBC: 3896\n",
      "Gl: 5552\n",
      "Mg: 22589\n",
      "Ca_ion: 1126725\n",
      "HCO3: 3115\n",
      "AST: 1240307\n",
      "ALT: 1240198\n",
      "PTT: 163462\n",
      "baseexcess: 958116\n",
      "lactate: 625178\n"
     ]
    }
   ],
   "source": [
    "for i in labvalues.abbreviation.unique():\n",
    "    print(\"%s:\"%i,globals()['resample_{}'.format(i)].valuenum.isna().sum())"
   ]
  },
  {
   "cell_type": "code",
   "execution_count": 20,
   "metadata": {},
   "outputs": [
    {
     "name": "stdout",
     "output_type": "stream",
     "text": [
      "Alb: 22305\n",
      "Alk_Phos: 17321\n",
      "AG: 101\n",
      "BUN: 78\n",
      "Ca: 2047\n",
      "CK: 26914\n",
      "D_Bil: 35411\n",
      "Glu: 152\n",
      "HCT: 87\n",
      "INR: 2716\n",
      "PH: 13605\n",
      "PHOS: 2000\n",
      "Platelet: 97\n",
      "Cl: 71\n",
      "SCr: 78\n",
      "nan: 72\n",
      "Potassium: 85\n",
      "T_Bil: 17043\n",
      "WBC: 100\n",
      "Gl: 152\n",
      "Mg: 721\n",
      "Ca_ion: 14999\n",
      "HCO3: 75\n",
      "AST: 17082\n",
      "ALT: 17068\n",
      "PTT: 2852\n",
      "baseexcess: 13721\n",
      "lactate: 8835\n"
     ]
    }
   ],
   "source": [
    "for i in labvalues.abbreviation.unique():\n",
    "    print(\"%s:\"%i,len(globals()['resample_{}'.format(i)][globals()['resample_{}'.format(i)]['valuenum'].isna()].stay_id.unique()))"
   ]
  },
  {
   "cell_type": "code",
   "execution_count": 22,
   "metadata": {},
   "outputs": [
    {
     "data": {
      "text/plain": [
       "39295"
      ]
     },
     "execution_count": 22,
     "metadata": {},
     "output_type": "execute_result"
    }
   ],
   "source": [
    "len(resample_SCr.stay_id.unique())"
   ]
  },
  {
   "cell_type": "code",
   "execution_count": 23,
   "metadata": {},
   "outputs": [
    {
     "data": {
      "text/html": [
       "<div>\n",
       "<style scoped>\n",
       "    .dataframe tbody tr th:only-of-type {\n",
       "        vertical-align: middle;\n",
       "    }\n",
       "\n",
       "    .dataframe tbody tr th {\n",
       "        vertical-align: top;\n",
       "    }\n",
       "\n",
       "    .dataframe thead th {\n",
       "        text-align: right;\n",
       "    }\n",
       "</style>\n",
       "<table border=\"1\" class=\"dataframe\">\n",
       "  <thead>\n",
       "    <tr style=\"text-align: right;\">\n",
       "      <th></th>\n",
       "      <th>charttime</th>\n",
       "      <th>valuenum</th>\n",
       "      <th>subject_id</th>\n",
       "      <th>hadm_id</th>\n",
       "      <th>stay_id</th>\n",
       "      <th>itemid</th>\n",
       "    </tr>\n",
       "  </thead>\n",
       "  <tbody>\n",
       "    <tr>\n",
       "      <th>0</th>\n",
       "      <td>2157-11-20 19:18:02</td>\n",
       "      <td>138.0</td>\n",
       "      <td>10001217</td>\n",
       "      <td>24597018</td>\n",
       "      <td>37067082</td>\n",
       "      <td>220645</td>\n",
       "    </tr>\n",
       "    <tr>\n",
       "      <th>1</th>\n",
       "      <td>2157-11-20 20:18:02</td>\n",
       "      <td>138.0</td>\n",
       "      <td>10001217</td>\n",
       "      <td>24597018</td>\n",
       "      <td>37067082</td>\n",
       "      <td>220645</td>\n",
       "    </tr>\n",
       "    <tr>\n",
       "      <th>2</th>\n",
       "      <td>2157-11-20 21:18:02</td>\n",
       "      <td>138.0</td>\n",
       "      <td>10001217</td>\n",
       "      <td>24597018</td>\n",
       "      <td>37067082</td>\n",
       "      <td>220645</td>\n",
       "    </tr>\n",
       "    <tr>\n",
       "      <th>3</th>\n",
       "      <td>2157-11-20 22:18:02</td>\n",
       "      <td>138.0</td>\n",
       "      <td>10001217</td>\n",
       "      <td>24597018</td>\n",
       "      <td>37067082</td>\n",
       "      <td>220645</td>\n",
       "    </tr>\n",
       "    <tr>\n",
       "      <th>4</th>\n",
       "      <td>2157-11-20 23:18:02</td>\n",
       "      <td>138.0</td>\n",
       "      <td>10001217</td>\n",
       "      <td>24597018</td>\n",
       "      <td>37067082</td>\n",
       "      <td>220645</td>\n",
       "    </tr>\n",
       "    <tr>\n",
       "      <th>...</th>\n",
       "      <td>...</td>\n",
       "      <td>...</td>\n",
       "      <td>...</td>\n",
       "      <td>...</td>\n",
       "      <td>...</td>\n",
       "      <td>...</td>\n",
       "    </tr>\n",
       "    <tr>\n",
       "      <th>123</th>\n",
       "      <td>2164-09-17 12:26:28</td>\n",
       "      <td>139.0</td>\n",
       "      <td>19999840</td>\n",
       "      <td>21033226</td>\n",
       "      <td>38978960</td>\n",
       "      <td>220645</td>\n",
       "    </tr>\n",
       "    <tr>\n",
       "      <th>124</th>\n",
       "      <td>2164-09-17 13:26:28</td>\n",
       "      <td>139.0</td>\n",
       "      <td>19999840</td>\n",
       "      <td>21033226</td>\n",
       "      <td>38978960</td>\n",
       "      <td>220645</td>\n",
       "    </tr>\n",
       "    <tr>\n",
       "      <th>125</th>\n",
       "      <td>2164-09-17 14:26:28</td>\n",
       "      <td>139.0</td>\n",
       "      <td>19999840</td>\n",
       "      <td>21033226</td>\n",
       "      <td>38978960</td>\n",
       "      <td>220645</td>\n",
       "    </tr>\n",
       "    <tr>\n",
       "      <th>126</th>\n",
       "      <td>2164-09-17 15:26:28</td>\n",
       "      <td>139.0</td>\n",
       "      <td>19999840</td>\n",
       "      <td>21033226</td>\n",
       "      <td>38978960</td>\n",
       "      <td>220645</td>\n",
       "    </tr>\n",
       "    <tr>\n",
       "      <th>127</th>\n",
       "      <td>2164-09-17 16:26:28</td>\n",
       "      <td>139.0</td>\n",
       "      <td>19999840</td>\n",
       "      <td>21033226</td>\n",
       "      <td>38978960</td>\n",
       "      <td>220645</td>\n",
       "    </tr>\n",
       "  </tbody>\n",
       "</table>\n",
       "<p>4709851 rows × 6 columns</p>\n",
       "</div>"
      ],
      "text/plain": [
       "              charttime  valuenum  subject_id   hadm_id   stay_id  itemid\n",
       "0   2157-11-20 19:18:02     138.0    10001217  24597018  37067082  220645\n",
       "1   2157-11-20 20:18:02     138.0    10001217  24597018  37067082  220645\n",
       "2   2157-11-20 21:18:02     138.0    10001217  24597018  37067082  220645\n",
       "3   2157-11-20 22:18:02     138.0    10001217  24597018  37067082  220645\n",
       "4   2157-11-20 23:18:02     138.0    10001217  24597018  37067082  220645\n",
       "..                  ...       ...         ...       ...       ...     ...\n",
       "123 2164-09-17 12:26:28     139.0    19999840  21033226  38978960  220645\n",
       "124 2164-09-17 13:26:28     139.0    19999840  21033226  38978960  220645\n",
       "125 2164-09-17 14:26:28     139.0    19999840  21033226  38978960  220645\n",
       "126 2164-09-17 15:26:28     139.0    19999840  21033226  38978960  220645\n",
       "127 2164-09-17 16:26:28     139.0    19999840  21033226  38978960  220645\n",
       "\n",
       "[4709851 rows x 6 columns]"
      ]
     },
     "execution_count": 23,
     "metadata": {},
     "output_type": "execute_result"
    }
   ],
   "source": [
    "resample_nan"
   ]
  }
 ],
 "metadata": {
  "kernelspec": {
   "display_name": "torch",
   "language": "python",
   "name": "python3"
  },
  "language_info": {
   "codemirror_mode": {
    "name": "ipython",
    "version": 3
   },
   "file_extension": ".py",
   "mimetype": "text/x-python",
   "name": "python",
   "nbconvert_exporter": "python",
   "pygments_lexer": "ipython3",
   "version": "3.9.0"
  }
 },
 "nbformat": 4,
 "nbformat_minor": 2
}
