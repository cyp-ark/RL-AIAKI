{
 "cells": [
  {
   "cell_type": "code",
   "execution_count": 10,
   "metadata": {},
   "outputs": [],
   "source": [
    "import pandas as pd\n",
    "import numpy as np\n",
    "import matplotlib.pyplot as plt\n",
    "import sys, os, pickle, utils\n",
    "\n",
    "from tqdm.notebook import tqdm\n",
    "from datetime import timedelta\n",
    "#from utils import baseline_SCr\n",
    "\n",
    "if os.getcwd()[-4:] == \"code\":\n",
    "    os.chdir('../')\n",
    "\n",
    "icu = './data/mimic-iv-2.2-parquet/icu/'\n",
    "hosp = './data/mimic-iv-2.2-parquet/hosp/'\n",
    "\n",
    "pd.set_option('mode.chained_assignment',  None) # 경고 off"
   ]
  },
  {
   "cell_type": "code",
   "execution_count": 3,
   "metadata": {},
   "outputs": [],
   "source": [
    "d_items     = pd.read_parquet(icu+'d_items.parquet')\n",
    "inputevents = pd.read_parquet(icu+'inputevents.parquet')\n",
    "icustays    = pd.read_parquet(icu+'icustays.parquet')"
   ]
  },
  {
   "cell_type": "code",
   "execution_count": 4,
   "metadata": {},
   "outputs": [],
   "source": [
    "d_antibiotics = d_items[(d_items['linksto']=='inputevents')&(d_items['category']=='Antibiotics')]\n",
    "d_antibiotics = d_antibiotics[['itemid','label']]\n",
    "d_antibiotics.reset_index(inplace=True)\n",
    "\n",
    "# non-Antibiotics 제거\n",
    "d_antibiotics = d_antibiotics[~d_antibiotics['itemid'].isin([\n",
    "    225898,225877,225895,225868,225869,225885,225905,225838,\n",
    "    225848,225844,225896,225837,225873,228003,225871,225903])]\n",
    "d_antibiotics.dropna(subset='itemid',inplace=True)\n",
    "d_antibiotics.reset_index(drop=True,inplace=True)"
   ]
  },
  {
   "cell_type": "markdown",
   "metadata": {},
   "source": [
    "# I. Inject antibiotics at least one time."
   ]
  },
  {
   "cell_type": "code",
   "execution_count": 7,
   "metadata": {},
   "outputs": [
    {
     "data": {
      "text/plain": [
       "44426"
      ]
     },
     "execution_count": 7,
     "metadata": {},
     "output_type": "execute_result"
    }
   ],
   "source": [
    "cohort = inputevents[inputevents['itemid'].isin(d_antibiotics.itemid.unique())].stay_id.unique()\n",
    "len(cohort)"
   ]
  },
  {
   "cell_type": "code",
   "execution_count": 8,
   "metadata": {},
   "outputs": [],
   "source": [
    "labvalues = pd.read_csv('./data/labvalues/labvalues.csv')\n",
    "for i in labvalues.abbreviation.unique():\n",
    "    globals()['resample_{}'.format(i)] = pd.read_parquet('./data/resample/resample_%s.parquet'%i)\n",
    "    globals()['resample_{}'.format(i)] = globals()['resample_{}'.format(i)][globals()['resample_{}'.format(i)]['stay_id'].isin(cohort)]"
   ]
  },
  {
   "cell_type": "code",
   "execution_count": 14,
   "metadata": {},
   "outputs": [
    {
     "name": "stdout",
     "output_type": "stream",
     "text": [
      "Alb: 1798804\n",
      "Alk_Phos: 1329297\n",
      "AG: 10080\n",
      "BUN: 9330\n",
      "Ca: 79784\n",
      "CK: 2635463\n",
      "D_Bil: 3931379\n",
      "Glu: 11616\n",
      "HCT: 9549\n",
      "INR: 181246\n",
      "PH: 1020639\n",
      "PHOS: 78583\n",
      "Platelet: 10500\n",
      "Cl: 8911\n",
      "SCr: 9292\n",
      "nan: 8910\n",
      "Potassium: 9316\n",
      "T_Bil: 1304215\n",
      "WBC: 10619\n",
      "Gl: 11616\n",
      "Mg: 32389\n",
      "Ca_ion: 1199155\n",
      "HCO3: 9104\n",
      "AST: 1297942\n",
      "ALT: 1297842\n",
      "PTT: 190399\n",
      "baseexcess: 1029613\n",
      "lactate: 676211\n"
     ]
    }
   ],
   "source": [
    "for i in labvalues.abbreviation.unique():\n",
    "    print(\"%s:\"%i,globals()['resample_{}'.format(i)].valuenum.isna().sum())"
   ]
  },
  {
   "cell_type": "code",
   "execution_count": 13,
   "metadata": {},
   "outputs": [],
   "source": [
    "for i in labvalues.abbreviation.unique():\n",
    "    globals()['resample_{}'.format(i)] = utils.resample_ffill(globals()['resample_{}'.format(i)])\n",
    "    globals()['resample_{}'.format(i)] = utils.resample_bfill(globals()['resample_{}'.format(i)])"
   ]
  },
  {
   "cell_type": "code",
   "execution_count": 15,
   "metadata": {},
   "outputs": [
    {
     "data": {
      "text/html": [
       "<div>\n",
       "<style scoped>\n",
       "    .dataframe tbody tr th:only-of-type {\n",
       "        vertical-align: middle;\n",
       "    }\n",
       "\n",
       "    .dataframe tbody tr th {\n",
       "        vertical-align: top;\n",
       "    }\n",
       "\n",
       "    .dataframe thead th {\n",
       "        text-align: right;\n",
       "    }\n",
       "</style>\n",
       "<table border=\"1\" class=\"dataframe\">\n",
       "  <thead>\n",
       "    <tr style=\"text-align: right;\">\n",
       "      <th></th>\n",
       "      <th>charttime</th>\n",
       "      <th>valuenum</th>\n",
       "      <th>subject_id</th>\n",
       "      <th>hadm_id</th>\n",
       "      <th>stay_id</th>\n",
       "      <th>itemid</th>\n",
       "    </tr>\n",
       "  </thead>\n",
       "  <tbody>\n",
       "    <tr>\n",
       "      <th>0</th>\n",
       "      <td>2189-06-27 08:42:00</td>\n",
       "      <td>NaN</td>\n",
       "      <td>10000980</td>\n",
       "      <td>26913865</td>\n",
       "      <td>39765666</td>\n",
       "      <td>220587</td>\n",
       "    </tr>\n",
       "    <tr>\n",
       "      <th>1</th>\n",
       "      <td>2189-06-27 09:42:00</td>\n",
       "      <td>NaN</td>\n",
       "      <td>10000980</td>\n",
       "      <td>26913865</td>\n",
       "      <td>39765666</td>\n",
       "      <td>220587</td>\n",
       "    </tr>\n",
       "    <tr>\n",
       "      <th>2</th>\n",
       "      <td>2189-06-27 10:42:00</td>\n",
       "      <td>NaN</td>\n",
       "      <td>10000980</td>\n",
       "      <td>26913865</td>\n",
       "      <td>39765666</td>\n",
       "      <td>220587</td>\n",
       "    </tr>\n",
       "    <tr>\n",
       "      <th>3</th>\n",
       "      <td>2189-06-27 11:42:00</td>\n",
       "      <td>NaN</td>\n",
       "      <td>10000980</td>\n",
       "      <td>26913865</td>\n",
       "      <td>39765666</td>\n",
       "      <td>220587</td>\n",
       "    </tr>\n",
       "    <tr>\n",
       "      <th>4</th>\n",
       "      <td>2189-06-27 12:42:00</td>\n",
       "      <td>NaN</td>\n",
       "      <td>10000980</td>\n",
       "      <td>26913865</td>\n",
       "      <td>39765666</td>\n",
       "      <td>220587</td>\n",
       "    </tr>\n",
       "    <tr>\n",
       "      <th>...</th>\n",
       "      <td>...</td>\n",
       "      <td>...</td>\n",
       "      <td>...</td>\n",
       "      <td>...</td>\n",
       "      <td>...</td>\n",
       "      <td>...</td>\n",
       "    </tr>\n",
       "    <tr>\n",
       "      <th>19</th>\n",
       "      <td>2139-10-11 14:18:00</td>\n",
       "      <td>NaN</td>\n",
       "      <td>19999625</td>\n",
       "      <td>25304202</td>\n",
       "      <td>31070865</td>\n",
       "      <td>220587</td>\n",
       "    </tr>\n",
       "    <tr>\n",
       "      <th>20</th>\n",
       "      <td>2139-10-11 15:18:00</td>\n",
       "      <td>NaN</td>\n",
       "      <td>19999625</td>\n",
       "      <td>25304202</td>\n",
       "      <td>31070865</td>\n",
       "      <td>220587</td>\n",
       "    </tr>\n",
       "    <tr>\n",
       "      <th>21</th>\n",
       "      <td>2139-10-11 16:18:00</td>\n",
       "      <td>NaN</td>\n",
       "      <td>19999625</td>\n",
       "      <td>25304202</td>\n",
       "      <td>31070865</td>\n",
       "      <td>220587</td>\n",
       "    </tr>\n",
       "    <tr>\n",
       "      <th>22</th>\n",
       "      <td>2139-10-11 17:18:00</td>\n",
       "      <td>NaN</td>\n",
       "      <td>19999625</td>\n",
       "      <td>25304202</td>\n",
       "      <td>31070865</td>\n",
       "      <td>220587</td>\n",
       "    </tr>\n",
       "    <tr>\n",
       "      <th>23</th>\n",
       "      <td>2139-10-11 18:18:00</td>\n",
       "      <td>NaN</td>\n",
       "      <td>19999625</td>\n",
       "      <td>25304202</td>\n",
       "      <td>31070865</td>\n",
       "      <td>220587</td>\n",
       "    </tr>\n",
       "  </tbody>\n",
       "</table>\n",
       "<p>1297942 rows × 6 columns</p>\n",
       "</div>"
      ],
      "text/plain": [
       "             charttime  valuenum  subject_id   hadm_id   stay_id  itemid\n",
       "0  2189-06-27 08:42:00       NaN    10000980  26913865  39765666  220587\n",
       "1  2189-06-27 09:42:00       NaN    10000980  26913865  39765666  220587\n",
       "2  2189-06-27 10:42:00       NaN    10000980  26913865  39765666  220587\n",
       "3  2189-06-27 11:42:00       NaN    10000980  26913865  39765666  220587\n",
       "4  2189-06-27 12:42:00       NaN    10000980  26913865  39765666  220587\n",
       "..                 ...       ...         ...       ...       ...     ...\n",
       "19 2139-10-11 14:18:00       NaN    19999625  25304202  31070865  220587\n",
       "20 2139-10-11 15:18:00       NaN    19999625  25304202  31070865  220587\n",
       "21 2139-10-11 16:18:00       NaN    19999625  25304202  31070865  220587\n",
       "22 2139-10-11 17:18:00       NaN    19999625  25304202  31070865  220587\n",
       "23 2139-10-11 18:18:00       NaN    19999625  25304202  31070865  220587\n",
       "\n",
       "[1297942 rows x 6 columns]"
      ]
     },
     "execution_count": 15,
     "metadata": {},
     "output_type": "execute_result"
    }
   ],
   "source": [
    "resample_AST[resample_AST['valuenum'].isna()]"
   ]
  }
 ],
 "metadata": {
  "kernelspec": {
   "display_name": "torch",
   "language": "python",
   "name": "python3"
  },
  "language_info": {
   "codemirror_mode": {
    "name": "ipython",
    "version": 3
   },
   "file_extension": ".py",
   "mimetype": "text/x-python",
   "name": "python",
   "nbconvert_exporter": "python",
   "pygments_lexer": "ipython3",
   "version": "3.9.0"
  }
 },
 "nbformat": 4,
 "nbformat_minor": 2
}
