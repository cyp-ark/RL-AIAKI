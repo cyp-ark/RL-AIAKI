{
 "cells": [
  {
   "cell_type": "code",
   "execution_count": 1,
   "metadata": {},
   "outputs": [],
   "source": [
    "import pandas as pd\n",
    "import numpy as np\n",
    "import matplotlib.pyplot as plt\n",
    "import sys, os, pickle, utils\n",
    "\n",
    "from tqdm.notebook import tqdm\n",
    "from datetime import timedelta\n",
    "#from utils import baseline_SCr\n",
    "\n",
    "if os.getcwd()[-4:] == \"code\":\n",
    "    os.chdir('../')\n",
    "\n",
    "icu = './data/mimic-iv-2.2-parquet/icu/'\n",
    "hosp = './data/mimic-iv-2.2-parquet/hosp/'\n",
    "\n",
    "pd.set_option('mode.chained_assignment',  None) # 경고 off"
   ]
  },
  {
   "cell_type": "code",
   "execution_count": 2,
   "metadata": {},
   "outputs": [],
   "source": [
    "d_items     = pd.read_parquet(icu+'d_items.parquet')\n",
    "inputevents = pd.read_parquet(icu+'inputevents.parquet')\n",
    "icustays    = pd.read_parquet(icu+'icustays.parquet')"
   ]
  },
  {
   "cell_type": "code",
   "execution_count": 3,
   "metadata": {},
   "outputs": [],
   "source": [
    "d_antibiotics = d_items[(d_items['linksto']=='inputevents')&(d_items['category']=='Antibiotics')]\n",
    "d_antibiotics = d_antibiotics[['itemid','label']]\n",
    "d_antibiotics.reset_index(inplace=True)\n",
    "\n",
    "# non-Antibiotics 제거\n",
    "d_antibiotics = d_antibiotics[~d_antibiotics['itemid'].isin([\n",
    "    225898,225877,225895,225868,225869,225885,225905,225838,\n",
    "    225848,225844,225896,225837,225873,228003,225871,225903])]\n",
    "d_antibiotics.dropna(subset='itemid',inplace=True)\n",
    "d_antibiotics.reset_index(drop=True,inplace=True)"
   ]
  },
  {
   "cell_type": "markdown",
   "metadata": {},
   "source": [
    "# I. Inject antibiotics at least one time."
   ]
  },
  {
   "cell_type": "code",
   "execution_count": 36,
   "metadata": {},
   "outputs": [
    {
     "data": {
      "text/plain": [
       "44426"
      ]
     },
     "execution_count": 36,
     "metadata": {},
     "output_type": "execute_result"
    }
   ],
   "source": [
    "cohort = inputevents[inputevents['itemid'].isin(d_antibiotics.itemid.unique())].stay_id.unique()\n",
    "len(cohort)"
   ]
  },
  {
   "cell_type": "code",
   "execution_count": 5,
   "metadata": {},
   "outputs": [],
   "source": [
    "cohort_24hrs = icustays[icustays['los']>=3].stay_id.unique()"
   ]
  },
  {
   "cell_type": "code",
   "execution_count": 6,
   "metadata": {},
   "outputs": [],
   "source": [
    "labvalues = pd.read_csv('./data/labvalues/labvalues.csv')\n",
    "for i in labvalues.abbreviation.unique():\n",
    "    globals()['resample_{}'.format(i)] = pd.read_parquet('./data/resample/resample_%s.parquet'%i)\n",
    "    #globals()['resample_{}'.format(i)] = globals()['resample_{}'.format(i)][globals()['resample_{}'.format(i)]['stay_id'].isin(cohort)]"
   ]
  },
  {
   "cell_type": "code",
   "execution_count": 7,
   "metadata": {},
   "outputs": [
    {
     "name": "stdout",
     "output_type": "stream",
     "text": [
      "Alb: 6045091\n",
      "Alk_Phos: 5993222\n",
      "AG: 5681930\n",
      "BUN: 5680686\n",
      "Ca: 5717578\n",
      "CK: 6053479\n",
      "D_Bil: 6089827\n",
      "Glu: 5684438\n",
      "HCT: 5669912\n",
      "INR: 5837318\n",
      "PH: 5794335\n",
      "PHOS: 5714993\n",
      "Platelet: 5716713\n",
      "Cl: 5657825\n",
      "SCr: 5679572\n",
      "Na: 5651078\n",
      "Potassium: 5649265\n",
      "T_Bil: 5990514\n",
      "WBC: 5724317\n",
      "Gl: 5684446\n",
      "Mg: 5691936\n",
      "Ca_ion: 5888568\n",
      "HCO3: 5679451\n",
      "AST: 5991103\n",
      "ALT: 5991131\n",
      "PTT: 5813728\n",
      "baseexcess: 5805460\n",
      "lactate: 5876867\n",
      "PaO2: 5806033\n",
      "PaCO2: 5805477\n"
     ]
    }
   ],
   "source": [
    "for i in labvalues.abbreviation.unique():\n",
    "    print(\"%s:\"%i,globals()['resample_{}'.format(i)].valuenum.isna().sum())"
   ]
  },
  {
   "cell_type": "code",
   "execution_count": 8,
   "metadata": {},
   "outputs": [
    {
     "name": "stdout",
     "output_type": "stream",
     "text": [
      "Alb: 73180\n",
      "Alk_Phos: 73176\n",
      "AG: 73173\n",
      "BUN: 73173\n",
      "Ca: 73174\n",
      "CK: 73181\n",
      "D_Bil: 73180\n",
      "Glu: 73174\n",
      "HCT: 73174\n",
      "INR: 73173\n",
      "PH: 73173\n",
      "PHOS: 73174\n",
      "Platelet: 73174\n",
      "Cl: 73173\n",
      "SCr: 73173\n",
      "Na: 73173\n",
      "Potassium: 73173\n",
      "T_Bil: 73176\n",
      "WBC: 73174\n",
      "Gl: 73174\n",
      "Mg: 73173\n",
      "Ca_ion: 73178\n",
      "HCO3: 73173\n",
      "AST: 73176\n",
      "ALT: 73176\n",
      "PTT: 73174\n",
      "baseexcess: 73173\n",
      "lactate: 73175\n",
      "PaO2: 73173\n",
      "PaCO2: 73173\n"
     ]
    }
   ],
   "source": [
    "for i in labvalues.abbreviation.unique():\n",
    "    print(\"%s:\"%i,len(globals()['resample_{}'.format(i)][globals()['resample_{}'.format(i)]['valuenum'].isna()].stay_id.unique()))"
   ]
  },
  {
   "cell_type": "markdown",
   "metadata": {},
   "source": [
    "## ffill"
   ]
  },
  {
   "cell_type": "code",
   "execution_count": 9,
   "metadata": {},
   "outputs": [],
   "source": [
    "for i in labvalues.abbreviation.unique():\n",
    "    globals()['resample_{}'.format(i)] = utils.resample_ffill(globals()['resample_{}'.format(i)])\n",
    "    #globals()['resample_{}'.format(i)] = utils.resample_bfill(globals()['resample_{}'.format(i)])"
   ]
  },
  {
   "cell_type": "code",
   "execution_count": 10,
   "metadata": {},
   "outputs": [
    {
     "name": "stdout",
     "output_type": "stream",
     "text": [
      "Alb: 3298969\n",
      "Alk_Phos: 2571768\n",
      "AG: 368858\n",
      "BUN: 353370\n",
      "Ca: 563671\n",
      "CK: 3904267\n",
      "D_Bil: 5428931\n",
      "Glu: 444757\n",
      "HCT: 359251\n",
      "INR: 803184\n",
      "PH: 2231745\n",
      "PHOS: 559214\n",
      "Platelet: 375744\n",
      "Cl: 348921\n",
      "SCr: 352466\n",
      "Na: 388564\n",
      "Potassium: 374056\n",
      "T_Bil: 2542695\n",
      "WBC: 379760\n",
      "Gl: 444757\n",
      "Mg: 481986\n",
      "Ca_ion: 2533880\n",
      "HCO3: 354410\n",
      "AST: 2530008\n",
      "ALT: 2529419\n",
      "PTT: 818542\n",
      "baseexcess: 2245528\n",
      "lactate: 1777729\n",
      "PaO2: 2248815\n",
      "PaCO2: 2245724\n"
     ]
    }
   ],
   "source": [
    "for i in labvalues.abbreviation.unique():\n",
    "    print(\"%s:\"%i,globals()['resample_{}'.format(i)].valuenum.isna().sum())"
   ]
  },
  {
   "cell_type": "code",
   "execution_count": 11,
   "metadata": {},
   "outputs": [
    {
     "name": "stdout",
     "output_type": "stream",
     "text": [
      "Alb: 69162\n",
      "Alk_Phos: 66831\n",
      "AG: 59602\n",
      "BUN: 59463\n",
      "Ca: 60264\n",
      "CK: 69691\n",
      "D_Bil: 72689\n",
      "Glu: 59766\n",
      "HCT: 58267\n",
      "INR: 60546\n",
      "PH: 63073\n",
      "PHOS: 60248\n",
      "Platelet: 58573\n",
      "Cl: 59384\n",
      "SCr: 59452\n",
      "Na: 59511\n",
      "Potassium: 59520\n",
      "T_Bil: 66798\n",
      "WBC: 58702\n",
      "Gl: 59766\n",
      "Mg: 60137\n",
      "Ca_ion: 65698\n",
      "HCO3: 59499\n",
      "AST: 66710\n",
      "ALT: 66713\n",
      "PTT: 60649\n",
      "baseexcess: 63120\n",
      "lactate: 62396\n",
      "PaO2: 63258\n",
      "PaCO2: 63122\n"
     ]
    }
   ],
   "source": [
    "for i in labvalues.abbreviation.unique():\n",
    "    print(\"%s:\"%i,len(globals()['resample_{}'.format(i)][globals()['resample_{}'.format(i)]['valuenum'].isna()].stay_id.unique()))"
   ]
  },
  {
   "cell_type": "markdown",
   "metadata": {},
   "source": [
    "## ffill & bfill"
   ]
  },
  {
   "cell_type": "code",
   "execution_count": 12,
   "metadata": {},
   "outputs": [],
   "source": [
    "for i in labvalues.abbreviation.unique():\n",
    "    #globals()['resample_{}'.format(i)] = utils.resample_ffill(globals()['resample_{}'.format(i)])\n",
    "    globals()['resample_{}'.format(i)] = utils.resample_bfill(globals()['resample_{}'.format(i)])"
   ]
  },
  {
   "cell_type": "code",
   "execution_count": 13,
   "metadata": {},
   "outputs": [
    {
     "name": "stdout",
     "output_type": "stream",
     "text": [
      "Alb: 2681194\n",
      "Alk_Phos: 2059464\n",
      "AG: 38437\n",
      "BUN: 37731\n",
      "Ca: 122531\n",
      "CK: 3532618\n",
      "D_Bil: 5179828\n",
      "Glu: 40214\n",
      "HCT: 38839\n",
      "INR: 379299\n",
      "PH: 1951135\n",
      "PHOS: 121323\n",
      "Platelet: 42132\n",
      "Cl: 36724\n",
      "SCr: 37571\n",
      "Na: 36661\n",
      "Potassium: 36850\n",
      "T_Bil: 2027918\n",
      "WBC: 42541\n",
      "Gl: 40214\n",
      "Mg: 70955\n",
      "Ca_ion: 2148185\n",
      "HCO3: 37450\n",
      "AST: 2014392\n",
      "ALT: 2013785\n",
      "PTT: 395631\n",
      "baseexcess: 1967454\n",
      "lactate: 1473678\n",
      "PaO2: 1969899\n",
      "PaCO2: 1967574\n"
     ]
    }
   ],
   "source": [
    "for i in labvalues.abbreviation.unique():\n",
    "    print(\"%s:\"%i,globals()['resample_{}'.format(i)].valuenum.isna().sum())"
   ]
  },
  {
   "cell_type": "code",
   "execution_count": 14,
   "metadata": {},
   "outputs": [
    {
     "name": "stdout",
     "output_type": "stream",
     "text": [
      "Alb: 48047\n",
      "Alk_Phos: 38830\n",
      "AG: 2853\n",
      "BUN: 2818\n",
      "Ca: 5637\n",
      "CK: 52386\n",
      "D_Bil: 68485\n",
      "Glu: 2911\n",
      "HCT: 2850\n",
      "INR: 11606\n",
      "PH: 40569\n",
      "PHOS: 5588\n",
      "Platelet: 3041\n",
      "Cl: 2777\n",
      "SCr: 2810\n",
      "Na: 2773\n",
      "Potassium: 2771\n",
      "T_Bil: 38460\n",
      "WBC: 3061\n",
      "Gl: 2911\n",
      "Mg: 4048\n",
      "Ca_ion: 42379\n",
      "HCO3: 2818\n",
      "AST: 38356\n",
      "ALT: 38341\n",
      "PTT: 11993\n",
      "baseexcess: 40815\n",
      "lactate: 31475\n",
      "PaO2: 40851\n",
      "PaCO2: 40819\n"
     ]
    }
   ],
   "source": [
    "for i in labvalues.abbreviation.unique():\n",
    "    print(\"%s:\"%i,len(globals()['resample_{}'.format(i)][globals()['resample_{}'.format(i)]['valuenum'].isna()].stay_id.unique()))"
   ]
  },
  {
   "cell_type": "markdown",
   "metadata": {},
   "source": [
    "## with cohort"
   ]
  },
  {
   "cell_type": "code",
   "execution_count": 15,
   "metadata": {},
   "outputs": [],
   "source": [
    "for i in labvalues.abbreviation.unique():\n",
    "    #globals()['resample_{}'.format(i)] = pd.read_parquet('./data/resample/resample_%s.parquet'%i)\n",
    "    globals()['resample_{}'.format(i)] = globals()['resample_{}'.format(i)][globals()['resample_{}'.format(i)]['stay_id'].isin(cohort)]"
   ]
  },
  {
   "cell_type": "code",
   "execution_count": 16,
   "metadata": {},
   "outputs": [
    {
     "name": "stdout",
     "output_type": "stream",
     "text": [
      "Alb: 1798804\n",
      "Alk_Phos: 1329297\n",
      "AG: 10080\n",
      "BUN: 9330\n",
      "Ca: 79784\n",
      "CK: 2635463\n",
      "D_Bil: 3931379\n",
      "Glu: 11616\n",
      "HCT: 9549\n",
      "INR: 181246\n",
      "PH: 1020639\n",
      "PHOS: 78583\n",
      "Platelet: 10500\n",
      "Cl: 8911\n",
      "SCr: 9292\n",
      "Na: 8910\n",
      "Potassium: 9316\n",
      "T_Bil: 1304215\n",
      "WBC: 10619\n",
      "Gl: 11616\n",
      "Mg: 32389\n",
      "Ca_ion: 1199155\n",
      "HCO3: 9104\n",
      "AST: 1297942\n",
      "ALT: 1297842\n",
      "PTT: 190399\n",
      "baseexcess: 1029613\n",
      "lactate: 676211\n",
      "PaO2: 1031144\n",
      "PaCO2: 1029655\n"
     ]
    }
   ],
   "source": [
    "for i in labvalues.abbreviation.unique():\n",
    "    print(\"%s:\"%i,globals()['resample_{}'.format(i)].valuenum.isna().sum())"
   ]
  },
  {
   "cell_type": "code",
   "execution_count": 17,
   "metadata": {},
   "outputs": [
    {
     "name": "stdout",
     "output_type": "stream",
     "text": [
      "Alb: 26256\n",
      "Alk_Phos: 20479\n",
      "AG: 592\n",
      "BUN: 562\n",
      "Ca: 2822\n",
      "CK: 31050\n",
      "D_Bil: 40385\n",
      "Glu: 639\n",
      "HCT: 574\n",
      "INR: 4252\n",
      "PH: 17506\n",
      "PHOS: 2777\n",
      "Platelet: 620\n",
      "Cl: 548\n",
      "SCr: 560\n",
      "Na: 547\n",
      "Potassium: 560\n",
      "T_Bil: 20194\n",
      "WBC: 623\n",
      "Gl: 639\n",
      "Mg: 1392\n",
      "Ca_ion: 18968\n",
      "HCO3: 559\n",
      "AST: 20218\n",
      "ALT: 20204\n",
      "PTT: 4443\n",
      "baseexcess: 17636\n",
      "lactate: 11646\n",
      "PaO2: 17651\n",
      "PaCO2: 17638\n"
     ]
    }
   ],
   "source": [
    "for i in labvalues.abbreviation.unique():\n",
    "    print(\"%s:\"%i,len(globals()['resample_{}'.format(i)][globals()['resample_{}'.format(i)]['valuenum'].isna()].stay_id.unique()))"
   ]
  },
  {
   "cell_type": "markdown",
   "metadata": {},
   "source": [
    "## 24hrs"
   ]
  },
  {
   "cell_type": "code",
   "execution_count": 18,
   "metadata": {},
   "outputs": [],
   "source": [
    "for i in labvalues.abbreviation.unique():\n",
    "    #globals()['resample_{}'.format(i)] = pd.read_parquet('./data/resample/resample_%s.parquet'%i)\n",
    "    globals()['resample_{}'.format(i)] = globals()['resample_{}'.format(i)][globals()['resample_{}'.format(i)]['stay_id'].isin(cohort_24hrs)]"
   ]
  },
  {
   "cell_type": "code",
   "execution_count": 19,
   "metadata": {},
   "outputs": [
    {
     "name": "stdout",
     "output_type": "stream",
     "text": [
      "Alb: 1108282\n",
      "Alk_Phos: 781198\n",
      "AG: 496\n",
      "BUN: 585\n",
      "Ca: 2514\n",
      "CK: 1869855\n",
      "D_Bil: 2994672\n",
      "Glu: 570\n",
      "HCT: 271\n",
      "INR: 65478\n",
      "PH: 527924\n",
      "PHOS: 2920\n",
      "Platelet: 271\n",
      "Cl: 496\n",
      "SCr: 496\n",
      "Na: 496\n",
      "Potassium: 496\n",
      "T_Bil: 761941\n",
      "WBC: 347\n",
      "Gl: 570\n",
      "Mg: 496\n",
      "Ca_ion: 681293\n",
      "HCO3: 496\n",
      "AST: 754442\n",
      "ALT: 754874\n",
      "PTT: 69221\n",
      "baseexcess: 533468\n",
      "lactate: 359090\n",
      "PaO2: 534750\n",
      "PaCO2: 533468\n"
     ]
    }
   ],
   "source": [
    "for i in labvalues.abbreviation.unique():\n",
    "    print(\"%s:\"%i,globals()['resample_{}'.format(i)].valuenum.isna().sum())"
   ]
  },
  {
   "cell_type": "code",
   "execution_count": 33,
   "metadata": {},
   "outputs": [
    {
     "name": "stdout",
     "output_type": "stream",
     "text": [
      "Alb: 7731\n",
      "Alk_Phos: 5538\n",
      "AG: 5\n",
      "BUN: 6\n",
      "Ca: 28\n",
      "CK: 10885\n",
      "D_Bil: 16083\n",
      "Glu: 6\n",
      "HCT: 3\n",
      "INR: 550\n",
      "PH: 4101\n",
      "PHOS: 33\n",
      "Platelet: 3\n",
      "Cl: 5\n",
      "SCr: 5\n",
      "Na: 5\n",
      "Potassium: 5\n",
      "T_Bil: 5387\n",
      "WBC: 4\n",
      "Gl: 6\n",
      "Mg: 5\n",
      "Ca_ion: 5010\n",
      "HCO3: 5\n",
      "AST: 5391\n",
      "ALT: 5391\n",
      "PTT: 584\n",
      "baseexcess: 4148\n",
      "lactate: 2690\n",
      "PaO2: 4157\n",
      "PaCO2: 4148\n"
     ]
    }
   ],
   "source": [
    "for i in labvalues.abbreviation.unique():\n",
    "    print(\"%s:\"%i,len(globals()['resample_{}'.format(i)][globals()['resample_{}'.format(i)]['valuenum'].isna()].stay_id.unique()))"
   ]
  },
  {
   "cell_type": "code",
   "execution_count": 21,
   "metadata": {},
   "outputs": [
    {
     "data": {
      "text/plain": [
       "18910"
      ]
     },
     "execution_count": 21,
     "metadata": {},
     "output_type": "execute_result"
    }
   ],
   "source": [
    "len(resample_SCr.stay_id.unique())"
   ]
  },
  {
   "cell_type": "code",
   "execution_count": 22,
   "metadata": {},
   "outputs": [
    {
     "data": {
      "text/plain": [
       "array([10002155, 10002428, 10004401, ..., 19997367, 19999287, 19999840],\n",
       "      dtype=int64)"
      ]
     },
     "execution_count": 22,
     "metadata": {},
     "output_type": "execute_result"
    }
   ],
   "source": [
    "resample_Alb[resample_Alb['valuenum'].isna()].subject_id.unique()"
   ]
  },
  {
   "cell_type": "code",
   "execution_count": null,
   "metadata": {},
   "outputs": [],
   "source": []
  },
  {
   "cell_type": "markdown",
   "metadata": {},
   "source": [
    "# Vitals"
   ]
  },
  {
   "cell_type": "code",
   "execution_count": 23,
   "metadata": {},
   "outputs": [],
   "source": [
    "vitals = pd.read_csv('./data/vitals/vitals_new2.csv')\n",
    "for i in vitals.abbreviation.unique():\n",
    "    globals()['resample_{}'.format(i)] = pd.read_parquet('./data/resample/resample_%s.parquet'%i)\n",
    "    #globals()['resample_{}'.format(i)] = globals()['resample_{}'.format(i)][globals()['resample_{}'.format(i)]['stay_id'].isin(cohort)]"
   ]
  },
  {
   "cell_type": "code",
   "execution_count": 24,
   "metadata": {},
   "outputs": [
    {
     "name": "stdout",
     "output_type": "stream",
     "text": [
      "FiO2: 5329813\n",
      "SaO2: 6014983\n",
      "RR: 432107\n",
      "SBP: 612241\n",
      "DBP: 613584\n",
      "temp: 4401740\n",
      "HR: 362318\n",
      "CVP: 5430652\n"
     ]
    }
   ],
   "source": [
    "for i in vitals.abbreviation.unique():\n",
    "    print(\"%s:\"%i,globals()['resample_{}'.format(i)].valuenum.isna().sum())"
   ]
  },
  {
   "cell_type": "code",
   "execution_count": 25,
   "metadata": {},
   "outputs": [],
   "source": [
    "for i in vitals.abbreviation.unique():\n",
    "    globals()['resample_{}'.format(i)] = utils.resample_ffill(globals()['resample_{}'.format(i)])\n",
    "    #globals()['resample_{}'.format(i)] = utils.resample_bfill(globals()['resample_{}'.format(i)])"
   ]
  },
  {
   "cell_type": "code",
   "execution_count": 26,
   "metadata": {},
   "outputs": [
    {
     "name": "stdout",
     "output_type": "stream",
     "text": [
      "FiO2: 2044060\n",
      "SaO2: 3964744\n",
      "RR: 59036\n",
      "SBP: 56127\n",
      "DBP: 56243\n",
      "temp: 194047\n",
      "HR: 52620\n",
      "CVP: 4223267\n"
     ]
    }
   ],
   "source": [
    "for i in vitals.abbreviation.unique():\n",
    "    print(\"%s:\"%i,globals()['resample_{}'.format(i)].valuenum.isna().sum())"
   ]
  },
  {
   "cell_type": "code",
   "execution_count": 27,
   "metadata": {},
   "outputs": [],
   "source": [
    "for i in vitals.abbreviation.unique():\n",
    "    #globals()['resample_{}'.format(i)] = utils.resample_ffill(globals()['resample_{}'.format(i)])\n",
    "    globals()['resample_{}'.format(i)] = utils.resample_bfill(globals()['resample_{}'.format(i)])"
   ]
  },
  {
   "cell_type": "code",
   "execution_count": 32,
   "metadata": {},
   "outputs": [
    {
     "name": "stdout",
     "output_type": "stream",
     "text": [
      "FiO2: 1788213\n",
      "SaO2: 3572820\n",
      "RR: 2580\n",
      "SBP: 2305\n",
      "DBP: 2408\n",
      "temp: 17800\n",
      "HR: 146\n",
      "CVP: 3996557\n"
     ]
    }
   ],
   "source": [
    "for i in vitals.abbreviation.unique():\n",
    "    print(\"%s:\"%i,globals()['resample_{}'.format(i)].valuenum.isna().sum())"
   ]
  },
  {
   "cell_type": "code",
   "execution_count": 31,
   "metadata": {},
   "outputs": [
    {
     "name": "stdout",
     "output_type": "stream",
     "text": [
      "FiO2: 38261\n",
      "SaO2: 56289\n",
      "RR: 100\n",
      "SBP: 114\n",
      "DBP: 117\n",
      "temp: 811\n",
      "HR: 18\n",
      "CVP: 56750\n"
     ]
    }
   ],
   "source": [
    "for i in vitals.abbreviation.unique():  \n",
    "    print(\"%s:\"%i,len(globals()['resample_{}'.format(i)][globals()['resample_{}'.format(i)]['valuenum'].isna()].stay_id.unique()))"
   ]
  },
  {
   "cell_type": "code",
   "execution_count": 42,
   "metadata": {},
   "outputs": [
    {
     "name": "stdout",
     "output_type": "stream",
     "text": [
      "FiO2: 15989\n",
      "SaO2: 29225\n",
      "RR: 24\n",
      "SBP: 11\n",
      "DBP: 12\n",
      "temp: 242\n",
      "HR: 1\n",
      "CVP: 29206\n"
     ]
    }
   ],
   "source": [
    "for i in vitals.abbreviation.unique():  \n",
    "    print(\"%s:\"%i,len(globals()['resample_{}'.format(i)][(globals()['resample_{}'.format(i)]['stay_id'].isin(cohort))&(globals()['resample_{}'.format(i)]['valuenum'].isna())].stay_id.unique()))"
   ]
  },
  {
   "cell_type": "code",
   "execution_count": 43,
   "metadata": {},
   "outputs": [
    {
     "name": "stdout",
     "output_type": "stream",
     "text": [
      "FiO2: 6057\n",
      "SaO2: 13896\n",
      "RR: 8\n",
      "SBP: 12\n",
      "DBP: 13\n",
      "temp: 53\n",
      "HR: 1\n",
      "CVP: 15219\n"
     ]
    }
   ],
   "source": [
    "for i in vitals.abbreviation.unique():  \n",
    "    print(\"%s:\"%i,len(globals()['resample_{}'.format(i)][(globals()['resample_{}'.format(i)]['stay_id'].isin(cohort_24hrs))&(globals()['resample_{}'.format(i)]['valuenum'].isna())].stay_id.unique()))"
   ]
  },
  {
   "cell_type": "code",
   "execution_count": null,
   "metadata": {},
   "outputs": [],
   "source": []
  }
 ],
 "metadata": {
  "kernelspec": {
   "display_name": "torch",
   "language": "python",
   "name": "python3"
  },
  "language_info": {
   "codemirror_mode": {
    "name": "ipython",
    "version": 3
   },
   "file_extension": ".py",
   "mimetype": "text/x-python",
   "name": "python",
   "nbconvert_exporter": "python",
   "pygments_lexer": "ipython3",
   "version": "3.9.0"
  }
 },
 "nbformat": 4,
 "nbformat_minor": 2
}
