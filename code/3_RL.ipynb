{
 "cells": [
  {
   "cell_type": "code",
   "execution_count": 5,
   "metadata": {},
   "outputs": [],
   "source": [
    "from rl import RL, train\n",
    "from data import DataLoader, make_data_loaders\n",
    "import os, yaml\n",
    "\n",
    "if os.getcwd()[-4:] == \"code\":\n",
    "    os.chdir('../')"
   ]
  },
  {
   "cell_type": "code",
   "execution_count": 6,
   "metadata": {},
   "outputs": [],
   "source": [
    "with open(os.path.join(\"./code/params.yaml\")) as f:\n",
    "        params = yaml.safe_load(f)"
   ]
  },
  {
   "cell_type": "code",
   "execution_count": 7,
   "metadata": {},
   "outputs": [],
   "source": [
    "def run():\n",
    "    np.random.seed(params['random_seed'])\n",
    "    torch.manual_seed(params['random_seed'])\n",
    "    rng = np.random.RandomState(params['random_seed'])\n",
    "\n",
    "    loader_train, loader_validation = make_data_loaders(params['train'], params['val'], rng, params['device'],params['minibatch_size'],params['rolling_size'],type='discharge')\n",
    "    #train(params, rng, loader_train, loader_validation)"
   ]
  },
  {
   "cell_type": "code",
   "execution_count": 8,
   "metadata": {},
   "outputs": [
    {
     "name": "stderr",
     "output_type": "stream",
     "text": [
      "100%|██████████| 11569/11569 [01:30<00:00, 128.33it/s]\n",
      "100%|██████████| 771/771 [00:04<00:00, 167.75it/s]\n"
     ]
    }
   ],
   "source": [
    "if __name__=='__main__':\n",
    "    run()"
   ]
  }
 ],
 "metadata": {
  "kernelspec": {
   "display_name": "torch",
   "language": "python",
   "name": "python3"
  },
  "language_info": {
   "codemirror_mode": {
    "name": "ipython",
    "version": 3
   },
   "file_extension": ".py",
   "mimetype": "text/x-python",
   "name": "python",
   "nbconvert_exporter": "python",
   "pygments_lexer": "ipython3",
   "version": "3.9.0"
  }
 },
 "nbformat": 4,
 "nbformat_minor": 2
}
