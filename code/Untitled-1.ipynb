{
 "cells": [
  {
   "cell_type": "code",
   "execution_count": 1,
   "metadata": {},
   "outputs": [],
   "source": [
    "import pandas as pd\n",
    "import sys, os\n",
    "from tqdm.notebook import tqdm\n",
    "\n",
    "if os.getcwd()[-4:] == \"code\":\n",
    "    os.chdir('../')"
   ]
  },
  {
   "cell_type": "code",
   "execution_count": null,
   "metadata": {},
   "outputs": [],
   "source": [
    "try:\n",
    "    for i in tqdm(os.listdir(\"./mimic-iv-2.2/icu\")[6:]):\n",
    "        globals()[\"{}\".format(i[:-7])] = pd.read_csv(\"mimic-iv-2.2/icu/\" + i,compression=\"gzip\")\n",
    "        globals()[\"{}\".format(i[:-7])].to_parquet(\"mimic-iv-2.2-parquet/icu/\" + i[:-7] + \".parquet\")\n",
    "except :\n",
    "    print(i)"
   ]
  },
  {
   "cell_type": "code",
   "execution_count": 4,
   "metadata": {},
   "outputs": [
    {
     "data": {
      "text/plain": [
       "22"
      ]
     },
     "execution_count": 4,
     "metadata": {},
     "output_type": "execute_result"
    }
   ],
   "source": [
    "len(os.listdir(\"./mimic-iv-2.2/hosp\"))"
   ]
  },
  {
   "cell_type": "code",
   "execution_count": 11,
   "metadata": {},
   "outputs": [
    {
     "data": {
      "application/vnd.jupyter.widget-view+json": {
       "model_id": "27c2f26a0c384370919ec09b700f688e",
       "version_major": 2,
       "version_minor": 0
      },
      "text/plain": [
       "  0%|          | 0/22 [00:00<?, ?it/s]"
      ]
     },
     "metadata": {},
     "output_type": "display_data"
    },
    {
     "name": "stdout",
     "output_type": "stream",
     "text": [
      "Processing emar_detail.csv.gz.csv.gz\n",
      "Processing labevents.csv.gz.csv.gz\n"
     ]
    }
   ],
   "source": [
    "for i in tqdm(os.listdir(\"./mimic-iv-2.2/hosp\")):\n",
    "    if not os.path.isfile(\"mimic-iv-2.2-parquet/hosp/\" + i[:-7] + \".parquet\"):\n",
    "        print(\"Processing %s.csv.gz\"%i)\n",
    "        globals()[\"{}\".format(i[:-7])] = pd.read_csv(\"mimic-iv-2.2/hosp/\" + i,compression=\"gzip\",low_memory=False)\n",
    "        globals()[\"{}\".format(i[:-7])].to_parquet(\"mimic-iv-2.2-parquet/hosp/\" + i[:-7] + \".parquet\")ㅌ"
   ]
  }
 ],
 "metadata": {
  "kernelspec": {
   "display_name": "vujade",
   "language": "python",
   "name": "python3"
  },
  "language_info": {
   "codemirror_mode": {
    "name": "ipython",
    "version": 3
   },
   "file_extension": ".py",
   "mimetype": "text/x-python",
   "name": "python",
   "nbconvert_exporter": "python",
   "pygments_lexer": "ipython3",
   "version": "3.8.13"
  }
 },
 "nbformat": 4,
 "nbformat_minor": 2
}
