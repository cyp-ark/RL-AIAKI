{
 "cells": [
  {
   "cell_type": "code",
   "execution_count": 2,
   "metadata": {},
   "outputs": [],
   "source": [
    "import pandas as pd\n",
    "import sys, os\n",
    "from tqdm.notebook import tqdm\n",
    "\n",
    "if os.getcwd()[-4:] == \"code\":\n",
    "    os.chdir('../')\n",
    "\n",
    "icu  = \".\\\\data\\\\mimic-iv-2.2\\\\icu\\\\\"\n",
    "hosp = \".\\\\data\\\\mimic-iv-2.2\\\\hosp\\\\\"\n",
    "\n",
    "icu_parquet  = \".\\\\data\\\\mimic-iv-2.2-parquet\\\\icu\\\\\"\n",
    "hosp_parquet = \".\\\\data\\\\mimic-iv-2.2-parquet\\\\hosp\\\\\""
   ]
  },
  {
   "cell_type": "code",
   "execution_count": 16,
   "metadata": {},
   "outputs": [
    {
     "data": {
      "application/vnd.jupyter.widget-view+json": {
       "model_id": "b56469dce254470a9f4dca2e4306b202",
       "version_major": 2,
       "version_minor": 0
      },
      "text/plain": [
       "  0%|          | 0/9 [00:00<?, ?it/s]"
      ]
     },
     "metadata": {},
     "output_type": "display_data"
    }
   ],
   "source": [
    "for i in tqdm(os.listdir(icu)):\n",
    "    if not os.path.isfile(icu_parquet + i[:-7] + \".parquet\"):\n",
    "        print(\"Processing %s\"%i)\n",
    "        globals()[\"{}\".format(i[:-7])] = pd.read_csv(icu + i,compression=\"gzip\",low_memory=False)\n",
    "        globals()[\"{}\".format(i[:-7])].to_parquet(icu_parquet + i[:-7] + \".parquet\")\n",
    "        print(\"Finish modify %s\"%i)"
   ]
  },
  {
   "cell_type": "code",
   "execution_count": 17,
   "metadata": {},
   "outputs": [
    {
     "data": {
      "application/vnd.jupyter.widget-view+json": {
       "model_id": "5a0a4ccfee0241a59b8a9fe6ba1057f6",
       "version_major": 2,
       "version_minor": 0
      },
      "text/plain": [
       "  0%|          | 0/22 [00:00<?, ?it/s]"
      ]
     },
     "metadata": {},
     "output_type": "display_data"
    }
   ],
   "source": [
    "for i in tqdm(os.listdir(hosp)):\n",
    "    if not os.path.isfile(hosp_parquet + i[:-7] + \".parquet\"):\n",
    "        print(\"Processing %s\"%i)\n",
    "        globals()[\"{}\".format(i[:-7])] = pd.read_csv(hosp + i,compression=\"gzip\",low_memory=False)\n",
    "        globals()[\"{}\".format(i[:-7])].to_parquet(hosp_parquet + i[:-7] + \".parquet\")\n",
    "        print(\"Finish modify %s\"%i)"
   ]
  },
  {
   "cell_type": "code",
   "execution_count": null,
   "metadata": {},
   "outputs": [],
   "source": []
  }
 ],
 "metadata": {
  "kernelspec": {
   "display_name": "vujade",
   "language": "python",
   "name": "python3"
  },
  "language_info": {
   "codemirror_mode": {
    "name": "ipython",
    "version": 3
   },
   "file_extension": ".py",
   "mimetype": "text/x-python",
   "name": "python",
   "nbconvert_exporter": "python",
   "pygments_lexer": "ipython3",
   "version": "3.9.0"
  }
 },
 "nbformat": 4,
 "nbformat_minor": 2
}
