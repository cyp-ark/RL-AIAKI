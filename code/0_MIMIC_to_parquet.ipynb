{
 "cells": [
  {
   "cell_type": "code",
   "execution_count": 5,
   "metadata": {},
   "outputs": [],
   "source": [
    "import pandas as pd\n",
    "import sys, os\n",
    "from tqdm.notebook import tqdm\n",
    "\n",
    "if os.getcwd()[-4:] == \"code\":\n",
    "    os.chdir('../')\n",
    "\n",
    "icu  = \"./data/mimic/mimic-iv-2.2/icu/\"\n",
    "hosp = \"./data/mimic/mimic-iv-2.2/hosp/\"\n",
    "ed   = \"./data/mimic/mimic-iv-ed-2.2/ed/\"\n",
    "\n",
    "icu_parquet  = \"./data/mimic-iv-2.2-parquet/icu/\"\n",
    "hosp_parquet = \"./data/mimic-iv-2.2-parquet/hosp/\"\n",
    "ed_parquet   = \"./data/mimic-iv-2.2-parquet/ed/\""
   ]
  },
  {
   "cell_type": "code",
   "execution_count": 2,
   "metadata": {},
   "outputs": [
    {
     "data": {
      "application/vnd.jupyter.widget-view+json": {
       "model_id": "eede3350079c4177a894b826cc0865e3",
       "version_major": 2,
       "version_minor": 0
      },
      "text/plain": [
       "  0%|          | 0/9 [00:00<?, ?it/s]"
      ]
     },
     "metadata": {},
     "output_type": "display_data"
    },
    {
     "name": "stdout",
     "output_type": "stream",
     "text": [
      "Processing chartevents.csv.gz\n",
      "Finish chartevents.csv.gz to parquet\n",
      "Processing datetimeevents.csv.gz\n",
      "Finish datetimeevents.csv.gz to parquet\n",
      "Processing d_items.csv.gz\n",
      "Finish d_items.csv.gz to parquet\n",
      "Processing icustays.csv.gz\n",
      "Finish icustays.csv.gz to parquet\n",
      "Processing ingredientevents.csv.gz\n",
      "Finish ingredientevents.csv.gz to parquet\n",
      "Processing inputevents.csv.gz\n",
      "Finish inputevents.csv.gz to parquet\n",
      "Processing outputevents.csv.gz\n",
      "Finish outputevents.csv.gz to parquet\n",
      "Processing procedureevents.csv.gz\n",
      "Finish procedureevents.csv.gz to parquet\n"
     ]
    }
   ],
   "source": [
    "for i in tqdm(os.listdir(icu)):\n",
    "    if not os.path.isfile(icu_parquet + i[:-7] + \".parquet\"):\n",
    "        print(\"Processing %s\"%i)\n",
    "        globals()[\"{}\".format(i[:-7])] = pd.read_csv(icu + i,compression=\"gzip\",low_memory=False)\n",
    "        globals()[\"{}\".format(i[:-7])].to_parquet(icu_parquet + i[:-7] + \".parquet\")\n",
    "        print(\"Finish %s to parquet\"%i)"
   ]
  },
  {
   "cell_type": "code",
   "execution_count": 3,
   "metadata": {},
   "outputs": [
    {
     "data": {
      "application/vnd.jupyter.widget-view+json": {
       "model_id": "916311a15b63419c9129f672c0fdbf96",
       "version_major": 2,
       "version_minor": 0
      },
      "text/plain": [
       "  0%|          | 0/22 [00:00<?, ?it/s]"
      ]
     },
     "metadata": {},
     "output_type": "display_data"
    },
    {
     "name": "stdout",
     "output_type": "stream",
     "text": [
      "Processing admissions.csv.gz\n",
      "Finish admissions.csv.gz to parquet\n",
      "Processing diagnoses_icd.csv.gz\n",
      "Finish diagnoses_icd.csv.gz to parquet\n",
      "Processing drgcodes.csv.gz\n",
      "Finish drgcodes.csv.gz to parquet\n",
      "Processing d_hcpcs.csv.gz\n",
      "Finish d_hcpcs.csv.gz to parquet\n",
      "Processing d_icd_diagnoses.csv.gz\n",
      "Finish d_icd_diagnoses.csv.gz to parquet\n",
      "Processing d_icd_procedures.csv.gz\n",
      "Finish d_icd_procedures.csv.gz to parquet\n",
      "Processing d_labitems.csv.gz\n",
      "Finish d_labitems.csv.gz to parquet\n",
      "Processing emar.csv.gz\n",
      "Finish emar.csv.gz to parquet\n",
      "Processing emar_detail.csv.gz\n",
      "Finish emar_detail.csv.gz to parquet\n",
      "Processing hcpcsevents.csv.gz\n",
      "Finish hcpcsevents.csv.gz to parquet\n",
      "Processing labevents.csv.gz\n",
      "Finish labevents.csv.gz to parquet\n",
      "Processing microbiologyevents.csv.gz\n",
      "Finish microbiologyevents.csv.gz to parquet\n",
      "Processing omr.csv.gz\n",
      "Finish omr.csv.gz to parquet\n",
      "Processing patients.csv.gz\n",
      "Finish patients.csv.gz to parquet\n",
      "Processing pharmacy.csv.gz\n",
      "Finish pharmacy.csv.gz to parquet\n",
      "Processing poe.csv.gz\n",
      "Finish poe.csv.gz to parquet\n",
      "Processing poe_detail.csv.gz\n",
      "Finish poe_detail.csv.gz to parquet\n",
      "Processing prescriptions.csv.gz\n",
      "Finish prescriptions.csv.gz to parquet\n",
      "Processing procedures_icd.csv.gz\n",
      "Finish procedures_icd.csv.gz to parquet\n",
      "Processing provider.csv.gz\n",
      "Finish provider.csv.gz to parquet\n",
      "Processing services.csv.gz\n",
      "Finish services.csv.gz to parquet\n",
      "Processing transfers.csv.gz\n",
      "Finish transfers.csv.gz to parquet\n"
     ]
    }
   ],
   "source": [
    "for i in tqdm(os.listdir(hosp)):\n",
    "    if not os.path.isfile(hosp_parquet + i[:-7] + \".parquet\"):\n",
    "        print(\"Processing %s\"%i)\n",
    "        globals()[\"{}\".format(i[:-7])] = pd.read_csv(hosp + i,compression=\"gzip\",low_memory=False)\n",
    "        globals()[\"{}\".format(i[:-7])].to_parquet(hosp_parquet + i[:-7] + \".parquet\")\n",
    "        print(\"Finish %s to parquet\"%i)"
   ]
  },
  {
   "cell_type": "code",
   "execution_count": 7,
   "metadata": {},
   "outputs": [
    {
     "data": {
      "application/vnd.jupyter.widget-view+json": {
       "model_id": "75787a29860345468a45dfa896885a3c",
       "version_major": 2,
       "version_minor": 0
      },
      "text/plain": [
       "  0%|          | 0/6 [00:00<?, ?it/s]"
      ]
     },
     "metadata": {},
     "output_type": "display_data"
    },
    {
     "name": "stdout",
     "output_type": "stream",
     "text": [
      "Processing diagnosis.csv.gz\n",
      "Finish diagnosis.csv.gz to parquet\n",
      "Processing edstays.csv.gz\n",
      "Finish edstays.csv.gz to parquet\n",
      "Processing medrecon.csv.gz\n",
      "Finish medrecon.csv.gz to parquet\n",
      "Processing pyxis.csv.gz\n",
      "Finish pyxis.csv.gz to parquet\n",
      "Processing triage.csv.gz\n",
      "Finish triage.csv.gz to parquet\n",
      "Processing vitalsign.csv.gz\n",
      "Finish vitalsign.csv.gz to parquet\n"
     ]
    }
   ],
   "source": [
    "for i in tqdm(os.listdir(ed)):\n",
    "    if not os.path.isfile(ed_parquet + i[:-7] + \".parquet\"):\n",
    "        print(\"Processing %s\"%i)\n",
    "        globals()[\"{}\".format(i[:-7])] = pd.read_csv(ed + i,compression=\"gzip\",low_memory=False)\n",
    "        globals()[\"{}\".format(i[:-7])].to_parquet(ed_parquet + i[:-7] + \".parquet\")\n",
    "        print(\"Finish %s to parquet\"%i)"
   ]
  },
  {
   "cell_type": "code",
   "execution_count": null,
   "metadata": {},
   "outputs": [],
   "source": []
  }
 ],
 "metadata": {
  "kernelspec": {
   "display_name": "vujade",
   "language": "python",
   "name": "python3"
  },
  "language_info": {
   "codemirror_mode": {
    "name": "ipython",
    "version": 3
   },
   "file_extension": ".py",
   "mimetype": "text/x-python",
   "name": "python",
   "nbconvert_exporter": "python",
   "pygments_lexer": "ipython3",
   "version": "3.9.0"
  }
 },
 "nbformat": 4,
 "nbformat_minor": 2
}
