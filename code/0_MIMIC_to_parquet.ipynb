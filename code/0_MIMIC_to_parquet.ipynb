{
 "cells": [
  {
   "cell_type": "code",
   "execution_count": 1,
   "metadata": {},
   "outputs": [],
   "source": [
    "import pandas as pd\n",
    "import sys, os\n",
    "from tqdm.notebook import tqdm\n",
    "\n",
    "if os.getcwd()[-4:] == \"code\":\n",
    "    os.chdir('../')\n",
    "\n",
    "icu  = \"./data/mimic-iv-2.2/icu/\"\n",
    "hosp = \"./data/mimic-iv-2.2/hosp/\"\n",
    "\n",
    "icu_parquet  = \"./data/mimic-iv-2.2-parquet/icu/\"\n",
    "hosp_parquet = \"./data/mimic-iv-2.2-parquet/hosp/\""
   ]
  },
  {
   "cell_type": "code",
   "execution_count": 2,
   "metadata": {},
   "outputs": [
    {
     "data": {
      "application/vnd.jupyter.widget-view+json": {
       "model_id": "eede3350079c4177a894b826cc0865e3",
       "version_major": 2,
       "version_minor": 0
      },
      "text/plain": [
       "  0%|          | 0/9 [00:00<?, ?it/s]"
      ]
     },
     "metadata": {},
     "output_type": "display_data"
    },
    {
     "name": "stdout",
     "output_type": "stream",
     "text": [
      "Processing chartevents.csv.gz\n"
     ]
    }
   ],
   "source": [
    "for i in tqdm(os.listdir(icu)):\n",
    "    if not os.path.isfile(icu_parquet + i[:-7] + \".parquet\"):\n",
    "        print(\"Processing %s\"%i)\n",
    "        globals()[\"{}\".format(i[:-7])] = pd.read_csv(icu + i,compression=\"gzip\",low_memory=False)\n",
    "        globals()[\"{}\".format(i[:-7])].to_parquet(icu_parquet + i[:-7] + \".parquet\")\n",
    "        print(\"Finish %s to parquet\"%i)"
   ]
  },
  {
   "cell_type": "code",
   "execution_count": null,
   "metadata": {},
   "outputs": [],
   "source": [
    "for i in tqdm(os.listdir(hosp)):\n",
    "    if not os.path.isfile(hosp_parquet + i[:-7] + \".parquet\"):\n",
    "        print(\"Processing %s\"%i)\n",
    "        globals()[\"{}\".format(i[:-7])] = pd.read_csv(hosp + i,compression=\"gzip\",low_memory=False)\n",
    "        globals()[\"{}\".format(i[:-7])].to_parquet(hosp_parquet + i[:-7] + \".parquet\")\n",
    "        print(\"Finish %s to parquet\"%i)"
   ]
  }
 ],
 "metadata": {
  "kernelspec": {
   "display_name": "vujade",
   "language": "python",
   "name": "python3"
  },
  "language_info": {
   "codemirror_mode": {
    "name": "ipython",
    "version": 3
   },
   "file_extension": ".py",
   "mimetype": "text/x-python",
   "name": "python",
   "nbconvert_exporter": "python",
   "pygments_lexer": "ipython3",
   "version": "3.9.0"
  }
 },
 "nbformat": 4,
 "nbformat_minor": 2
}
