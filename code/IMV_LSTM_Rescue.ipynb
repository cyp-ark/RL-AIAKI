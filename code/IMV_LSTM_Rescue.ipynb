{
 "cells": [
  {
   "cell_type": "code",
   "execution_count": 1,
   "metadata": {},
   "outputs": [
    {
     "name": "stderr",
     "output_type": "stream",
     "text": [
      "c:\\Users\\CYP\\anaconda3\\envs\\torch\\lib\\site-packages\\tqdm\\auto.py:21: TqdmWarning: IProgress not found. Please update jupyter and ipywidgets. See https://ipywidgets.readthedocs.io/en/stable/user_install.html\n",
      "  from .autonotebook import tqdm as notebook_tqdm\n"
     ]
    }
   ],
   "source": [
    "import pandas as pd\n",
    "import numpy as np\n",
    "import os, yaml, wandb, pickle, optuna, gc\n",
    "\n",
    "import torch\n",
    "import torch.nn as nn\n",
    "import torch.optim as optim\n",
    "import torch.nn.functional as F\n",
    "from torch.optim.lr_scheduler import ExponentialLR\n",
    "from torch.utils.data import TensorDataset, DataLoader, Sampler\n",
    "\n",
    "from rl import make_transition, make_transition_for_AKI, imvt, CustomSampler, CustomSampler2, imvt2,cql_loss\n",
    "from make_plot import show_AUROC, plot_alpha, plot_beta, make_transition_test, make_betas\n",
    "\n",
    "from tqdm import tqdm\n",
    "from sklearn.metrics import roc_curve, roc_auc_score\n",
    "\n",
    "if os.getcwd()[-4:] == \"code\":\n",
    "    os.chdir('../')\n",
    "    \n",
    "with open(os.path.join(\"./code/params.yaml\")) as f:\n",
    "        params = yaml.safe_load(f)\n",
    "    \n",
    "np.random.seed(params['random_seed'])\n",
    "torch.manual_seed(params['random_seed'])\n",
    "if torch.cuda.is_available():\n",
    "    torch.cuda.manual_seed(params['random_seed'])\n",
    "    torch.cuda.manual_seed_all(params['random_seed'])"
   ]
  },
  {
   "cell_type": "code",
   "execution_count": 2,
   "metadata": {},
   "outputs": [
    {
     "name": "stderr",
     "output_type": "stream",
     "text": [
      "100%|██████████| 30730/30730 [00:43<00:00, 705.48it/s]\n",
      "100%|██████████| 4390/4390 [00:04<00:00, 1035.75it/s]\n"
     ]
    }
   ],
   "source": [
    "train = './code/train_4hrs_mean.parquet'\n",
    "val = './code/val_4hrs_mean.parquet'\n",
    "\n",
    "train_data = make_transition(train,rolling_size=6)\n",
    "val_data = make_transition(val,rolling_size=6)"
   ]
  },
  {
   "cell_type": "code",
   "execution_count": 3,
   "metadata": {},
   "outputs": [
    {
     "name": "stderr",
     "output_type": "stream",
     "text": [
      "100%|██████████| 4390/4390 [00:04<00:00, 945.15it/s] \n"
     ]
    }
   ],
   "source": [
    "val_transition = make_transition_test(val,rolling_size=6)"
   ]
  },
  {
   "cell_type": "code",
   "execution_count": 4,
   "metadata": {},
   "outputs": [],
   "source": [
    "def objective(trial):\n",
    "    batch_size = trial.suggest_categorical(\"batch_size\",[32,64,128,256])\n",
    "    n_units = trial.suggest_int(\"n_units\",1,64)\n",
    "    \n",
    "    lr = trial.suggest_categorical(\"learning_rate\",[1e-6,5e-6,1e-5,5e-5,1e-4,5e-4, 1e-3, 5e-3, 1e-2])\n",
    "    lr_decay = trial.suggest_float(\"lr_decay\",0.5,0.999)\n",
    "    lr_step = trial.suggest_int(\"lr_step\",1,20)\n",
    "\n",
    "    ns = trial.suggest_int(\"negative_sampling\",2,16)\n",
    "    \n",
    "    loss = trial.suggest_categorical(\"loss\",['smooth_l1','mse'])\n",
    "    CQL = trial.suggest_categorical(\"CQL\",[0])\n",
    "\n",
    "    update_freq = trial.suggest_int(\"update_freq\",2,128)\n",
    "    \n",
    "    PPO = trial.suggest_categorical(\"PPO\",[0])\n",
    "    \n",
    "    epochs = 50\n",
    "\n",
    "    wandb.init(\n",
    "        project='IMV_LSTM_Rescue_new', name=f'E-{trial.number+1}', reinit=True,\n",
    "        config={\n",
    "        \"batch_size\":batch_size,\n",
    "        \"n_units\":n_units,\n",
    "        \"learning_rate\":lr,\n",
    "        \"lr_decay\":lr_decay,\n",
    "        \"lr_step\":lr_step,\n",
    "        \"ns\":ns,\n",
    "        \"loss\":loss,\n",
    "        \"update_freq\":update_freq,\n",
    "        \"PPO\":PPO,\n",
    "        \"CQL\":CQL\n",
    "    })\n",
    "\n",
    "    auroc = train(batch_size,n_units,lr,lr_decay,lr_step,ns,loss,epochs,update_freq,PPO,CQL)\n",
    "\n",
    "    return auroc"
   ]
  },
  {
   "cell_type": "code",
   "execution_count": 5,
   "metadata": {},
   "outputs": [],
   "source": [
    "def train(batch_size,n_units,lr,lr_decay,lr_step,ns,loss_type,epochs,update_freq,PPO,CQL):\n",
    "    network = imvt(input_dim=params['state_dim'], output_dim=params['num_actions'], n_units=n_units, device=device).to(device)\n",
    "    target_network = imvt(input_dim=params['state_dim'], output_dim=params['num_actions'], n_units=n_units, device=device).to(device)\n",
    "    gamma = 1.0\n",
    "\n",
    "    optimizer = optim.Adam(network.parameters(), lr=lr)\n",
    "    scheduler = ExponentialLR(optimizer, gamma=lr_decay)\n",
    "\n",
    "    num_workers = 4\n",
    "\n",
    "    patience = 5\n",
    "    best_loss = 1e6\n",
    "    counters = 0\n",
    "\n",
    "    sampler = CustomSampler2(train_data,batch_size,ns=ns)\n",
    "    train_loader = DataLoader(train_data,batch_sampler=sampler,num_workers=num_workers)\n",
    "    val_loader = DataLoader(val_data,batch_size=256,shuffle=False)\n",
    "\n",
    "    for epoch in range(epochs):\n",
    "        train_loss = 0\n",
    "        update_counter = 0\n",
    "        for s,a,r1,r2,r3,s2,t in tqdm(train_loader):\n",
    "            s = s.to(device)\n",
    "            a = a.to(device)\n",
    "            r = r2.to(device)\n",
    "            s2 = s2.to(device)\n",
    "            t = t.to(device)\n",
    "\n",
    "            q,_,_ = network(s)\n",
    "            q_pred = q.gather(1, a).squeeze()\n",
    "            \n",
    "            with torch.no_grad():\n",
    "                q2,_,_ = target_network(s2)\n",
    "                q2_net,_, _ = network(s2)\n",
    "\n",
    "            q2_max = q2.gather(1, torch.max(q2_net,dim=1)[1].unsqueeze(1)).squeeze(1).detach()\n",
    "\n",
    "            bellman_target = r + gamma * q2_max.detach()*(1-t)\n",
    "            if loss_type == \"l1\":loss = F.l1_loss(q_pred, bellman_target)\n",
    "            elif loss_type == \"smooth_l1\":loss = F.smooth_l1_loss(q_pred, bellman_target)\n",
    "            elif loss_type == \"mse\":loss = F.mse_loss(q_pred, bellman_target)\n",
    "            \n",
    "            if CQL:\n",
    "                loss += cql_loss(q,a)\n",
    "\n",
    "            optimizer.zero_grad()\n",
    "            loss.backward()\n",
    "            if PPO:\n",
    "                for param in network.parameters():\n",
    "                    param.grad.data.clamp_(-1, 1)\n",
    "            train_loss += loss.item()\n",
    "            optimizer.step()\n",
    "\n",
    "            update_counter += 1\n",
    "            if update_counter == update_freq:\n",
    "                target_network.load_state_dict(network.state_dict())\n",
    "                update_counter = 0\n",
    "\n",
    "        with torch.no_grad():\n",
    "            val_loss = 0\n",
    "            for s,a,r1,r2,r3,s2,t in val_loader:\n",
    "                s = s.to(device)\n",
    "                a = a.to(device)\n",
    "                r = r2.to(device)\n",
    "                s2 = s2.to(device)\n",
    "                t = t.to(device)\n",
    "\n",
    "                q,_,_ = network(s)\n",
    "                q2,_,_ = target_network(s2)\n",
    "                q2 = q2.detach()\n",
    "                q_pred = q.gather(1, a).squeeze()\n",
    "\n",
    "                q2_net,_,_ = network(s2)\n",
    "                q2_net = q2_net.detach()\n",
    "                q2_max = q2.gather(1, torch.max(q2_net,dim=1)[1].unsqueeze(1)).squeeze()\n",
    "\n",
    "                bellman_target = r + gamma * q2_max.detach()*(1-t)\n",
    "                if loss_type == \"l1\":loss = F.l1_loss(q_pred, bellman_target)\n",
    "                elif loss_type == \"smooth_l1\":loss = F.smooth_l1_loss(q_pred, bellman_target)\n",
    "                elif loss_type == \"mse\":loss = F.mse_loss(q_pred, bellman_target)\n",
    "                if CQL:\n",
    "                    loss += cql_loss(q,a)\n",
    "                val_loss += loss.item()\n",
    "\n",
    "            q_value = []\n",
    "            reward = []\n",
    "            rescue = []\n",
    "            rescue_24 = []\n",
    "            for s,a,r1,r2,r3,r1p,r2p,r24 in val_transition:\n",
    "                s = s.to(device)\n",
    "                q,_,_ = network(s.to(device))\n",
    "                q_value.append(q.detach().cpu().numpy())\n",
    "                reward.append(r2.detach().cpu().numpy())\n",
    "                rescue.append(r2p.detach().cpu().numpy())\n",
    "                rescue_24.append(r24.detach().cpu().numpy())\n",
    "            q_value = np.concatenate(q_value,axis=0)\n",
    "            reward = np.concatenate(reward,axis=0)\n",
    "            rescue = np.concatenate(rescue,axis=0)\n",
    "            rescue_24 = np.concatenate(rescue_24,axis=0)\n",
    "            q_max = q_value.max(axis=1)\n",
    "            q_median = np.median(q_value, axis=1)\n",
    "            auroc = roc_auc_score(reward,q_max)\n",
    "            auroc_med = roc_auc_score(reward,q_median)\n",
    "            auroc_p = roc_auc_score(rescue,q_max)\n",
    "            auroc_p_med = roc_auc_score(rescue,q_median)\n",
    "            auroc24 = roc_auc_score(rescue_24,q_max)\n",
    "            auroc24_med = roc_auc_score(rescue_24,q_median)\n",
    "            \n",
    "        \n",
    "        \n",
    "        if (epoch%lr_step ==0):\n",
    "            scheduler.step()\n",
    "                \n",
    "        if val_loss < best_loss:\n",
    "            best_loss = val_loss\n",
    "            counters = 0\n",
    "        else :\n",
    "            counters += 1\n",
    "            \n",
    "        wandb.log({\"Iter:\": epoch, \"train:\":train_loss, \"val:\":val_loss, \"AUROC\":auroc, \"AUROC_median\":auroc_med,\"auroc_p\":auroc_p,\"auroc_p_med\":auroc_p_med,\"auroc_24\":auroc24,\"auroc_24_med\":auroc24_med})\n",
    "\n",
    "\n",
    "        \n",
    "        if (counters > patience)&(epoch>=20):\n",
    "            break\n",
    "\n",
    "    gc.collect()\n",
    "    torch.cuda.empty_cache()\n",
    "    return auroc"
   ]
  },
  {
   "cell_type": "code",
   "execution_count": 6,
   "metadata": {},
   "outputs": [
    {
     "name": "stderr",
     "output_type": "stream",
     "text": [
      "[I 2024-03-19 01:00:59,168] A new study created in memory with name: no-name-a33870f8-a442-458e-b7aa-4299acbb58bc\n",
      "Failed to detect the name of this notebook, you can set it manually with the WANDB_NOTEBOOK_NAME environment variable to enable code saving.\n",
      "\u001b[34m\u001b[1mwandb\u001b[0m: Currently logged in as: \u001b[33mchanreverse\u001b[0m (\u001b[33mdahs\u001b[0m). Use \u001b[1m`wandb login --relogin`\u001b[0m to force relogin\n"
     ]
    },
    {
     "data": {
      "text/html": [
       "wandb version 0.16.4 is available!  To upgrade, please run:\n",
       " $ pip install wandb --upgrade"
      ],
      "text/plain": [
       "<IPython.core.display.HTML object>"
      ]
     },
     "metadata": {},
     "output_type": "display_data"
    },
    {
     "data": {
      "text/html": [
       "Tracking run with wandb version 0.16.3"
      ],
      "text/plain": [
       "<IPython.core.display.HTML object>"
      ]
     },
     "metadata": {},
     "output_type": "display_data"
    },
    {
     "data": {
      "text/html": [
       "Run data is saved locally in <code>c:\\Users\\CYP\\Documents\\GitHub\\AIAKI\\wandb\\run-20240319_010100-03r12b75</code>"
      ],
      "text/plain": [
       "<IPython.core.display.HTML object>"
      ]
     },
     "metadata": {},
     "output_type": "display_data"
    },
    {
     "data": {
      "text/html": [
       "Syncing run <strong><a href='https://wandb.ai/dahs/IMV_LSTM_Rescue_new/runs/03r12b75' target=\"_blank\">E-1</a></strong> to <a href='https://wandb.ai/dahs/IMV_LSTM_Rescue_new' target=\"_blank\">Weights & Biases</a> (<a href='https://wandb.me/run' target=\"_blank\">docs</a>)<br/>"
      ],
      "text/plain": [
       "<IPython.core.display.HTML object>"
      ]
     },
     "metadata": {},
     "output_type": "display_data"
    },
    {
     "data": {
      "text/html": [
       " View project at <a href='https://wandb.ai/dahs/IMV_LSTM_Rescue_new' target=\"_blank\">https://wandb.ai/dahs/IMV_LSTM_Rescue_new</a>"
      ],
      "text/plain": [
       "<IPython.core.display.HTML object>"
      ]
     },
     "metadata": {},
     "output_type": "display_data"
    },
    {
     "data": {
      "text/html": [
       " View run at <a href='https://wandb.ai/dahs/IMV_LSTM_Rescue_new/runs/03r12b75' target=\"_blank\">https://wandb.ai/dahs/IMV_LSTM_Rescue_new/runs/03r12b75</a>"
      ],
      "text/plain": [
       "<IPython.core.display.HTML object>"
      ]
     },
     "metadata": {},
     "output_type": "display_data"
    },
    {
     "name": "stderr",
     "output_type": "stream",
     "text": [
      " 99%|█████████▉| 5112/5145 [01:12<00:00, 70.85it/s]\n",
      " 99%|█████████▉| 5112/5145 [01:00<00:00, 84.32it/s] \n",
      " 99%|█████████▉| 5112/5145 [01:02<00:00, 82.07it/s]\n",
      " 99%|█████████▉| 5112/5145 [00:58<00:00, 87.88it/s]\n",
      " 99%|█████████▉| 5112/5145 [01:01<00:00, 82.76it/s]\n",
      " 99%|█████████▉| 5112/5145 [01:01<00:00, 82.59it/s]\n",
      " 99%|█████████▉| 5112/5145 [01:03<00:00, 80.21it/s]\n",
      " 99%|█████████▉| 5112/5145 [01:03<00:00, 81.05it/s]\n",
      " 99%|█████████▉| 5112/5145 [01:00<00:00, 83.84it/s]\n",
      " 99%|█████████▉| 5112/5145 [01:02<00:00, 81.72it/s] \n",
      " 99%|█████████▉| 5112/5145 [00:57<00:00, 88.88it/s] \n",
      " 99%|█████████▉| 5112/5145 [01:02<00:00, 82.00it/s] \n",
      " 99%|█████████▉| 5112/5145 [00:56<00:00, 89.71it/s] \n",
      " 99%|█████████▉| 5112/5145 [01:01<00:00, 83.05it/s] \n",
      " 99%|█████████▉| 5112/5145 [00:55<00:00, 91.67it/s] \n",
      " 99%|█████████▉| 5112/5145 [00:59<00:00, 86.08it/s] \n",
      " 99%|█████████▉| 5112/5145 [00:59<00:00, 85.62it/s] \n",
      " 99%|█████████▉| 5112/5145 [00:59<00:00, 86.62it/s] \n",
      " 99%|█████████▉| 5112/5145 [01:00<00:00, 84.00it/s] \n",
      " 99%|█████████▉| 5112/5145 [00:56<00:00, 89.95it/s] \n",
      " 99%|█████████▉| 5112/5145 [01:00<00:00, 84.73it/s] \n",
      "[I 2024-03-19 01:25:04,552] Trial 0 finished with value: 0.3194561164518299 and parameters: {'batch_size': 128, 'n_units': 3, 'learning_rate': 0.0005, 'lr_decay': 0.5177803359555104, 'lr_step': 13, 'negative_sampling': 5, 'loss': 'mse', 'CQL': 0, 'update_freq': 118, 'PPO': 0}. Best is trial 0 with value: 0.3194561164518299.\n"
     ]
    },
    {
     "data": {
      "text/html": [
       "Finishing last run (ID:03r12b75) before initializing another..."
      ],
      "text/plain": [
       "<IPython.core.display.HTML object>"
      ]
     },
     "metadata": {},
     "output_type": "display_data"
    },
    {
     "data": {
      "text/html": [
       "<style>\n",
       "    table.wandb td:nth-child(1) { padding: 0 10px; text-align: left ; width: auto;} td:nth-child(2) {text-align: left ; width: 100%}\n",
       "    .wandb-row { display: flex; flex-direction: row; flex-wrap: wrap; justify-content: flex-start; width: 100% }\n",
       "    .wandb-col { display: flex; flex-direction: column; flex-basis: 100%; flex: 1; padding: 10px; }\n",
       "    </style>\n",
       "<div class=\"wandb-row\"><div class=\"wandb-col\"><h3>Run history:</h3><br/><table class=\"wandb\"><tr><td>AUROC</td><td>█▅▄▄▃▃▂▂▁▁▁▁▁▁▁▁▁▁▁▁▁</td></tr><tr><td>AUROC_median</td><td>█▅▄▄▄▃▂▂▁▁▁▁▁▁▁▁▁▁▁▁▁</td></tr><tr><td>Iter:</td><td>▁▁▂▂▂▃▃▃▄▄▅▅▅▆▆▆▇▇▇██</td></tr><tr><td>auroc_24</td><td>█▆▅▄▄▃▃▂▁▁▁▁▁▁▁▁▁▁▁▁▁</td></tr><tr><td>auroc_24_med</td><td>█▆▅▄▄▃▃▂▁▁▁▁▁▁▁▁▁▁▁▁▁</td></tr><tr><td>auroc_p</td><td>▇██▇▇▆▆▅▄▃▃▃▃▂▂▂▂▂▂▁▁</td></tr><tr><td>auroc_p_med</td><td>▇██▇▇▇▆▅▄▃▃▃▂▂▂▂▂▁▂▁▁</td></tr><tr><td>train:</td><td>█▁▁▁▁▁▁▁▁▁▁▁▁▁▂▂▂▂▂▂▂</td></tr><tr><td>val:</td><td>▁▁▁▁▁▂▂▂▂▂▃▃▄▄▅▅▆▆▇██</td></tr></table><br/></div><div class=\"wandb-col\"><h3>Run summary:</h3><br/><table class=\"wandb\"><tr><td>AUROC</td><td>0.31946</td></tr><tr><td>AUROC_median</td><td>0.32596</td></tr><tr><td>Iter:</td><td>20</td></tr><tr><td>auroc_24</td><td>0.28951</td></tr><tr><td>auroc_24_med</td><td>0.29344</td></tr><tr><td>auroc_p</td><td>0.34401</td></tr><tr><td>auroc_p_med</td><td>0.34684</td></tr><tr><td>train:</td><td>16.12148</td></tr><tr><td>val:</td><td>1.22184</td></tr></table><br/></div></div>"
      ],
      "text/plain": [
       "<IPython.core.display.HTML object>"
      ]
     },
     "metadata": {},
     "output_type": "display_data"
    },
    {
     "data": {
      "text/html": [
       " View run <strong style=\"color:#cdcd00\">E-1</strong> at: <a href='https://wandb.ai/dahs/IMV_LSTM_Rescue_new/runs/03r12b75' target=\"_blank\">https://wandb.ai/dahs/IMV_LSTM_Rescue_new/runs/03r12b75</a><br/>Synced 5 W&B file(s), 0 media file(s), 0 artifact file(s) and 0 other file(s)"
      ],
      "text/plain": [
       "<IPython.core.display.HTML object>"
      ]
     },
     "metadata": {},
     "output_type": "display_data"
    },
    {
     "data": {
      "text/html": [
       "Find logs at: <code>.\\wandb\\run-20240319_010100-03r12b75\\logs</code>"
      ],
      "text/plain": [
       "<IPython.core.display.HTML object>"
      ]
     },
     "metadata": {},
     "output_type": "display_data"
    },
    {
     "data": {
      "text/html": [
       "Successfully finished last run (ID:03r12b75). Initializing new run:<br/>"
      ],
      "text/plain": [
       "<IPython.core.display.HTML object>"
      ]
     },
     "metadata": {},
     "output_type": "display_data"
    },
    {
     "data": {
      "text/html": [
       "wandb version 0.16.4 is available!  To upgrade, please run:\n",
       " $ pip install wandb --upgrade"
      ],
      "text/plain": [
       "<IPython.core.display.HTML object>"
      ]
     },
     "metadata": {},
     "output_type": "display_data"
    },
    {
     "data": {
      "text/html": [
       "Tracking run with wandb version 0.16.3"
      ],
      "text/plain": [
       "<IPython.core.display.HTML object>"
      ]
     },
     "metadata": {},
     "output_type": "display_data"
    },
    {
     "data": {
      "text/html": [
       "Run data is saved locally in <code>c:\\Users\\CYP\\Documents\\GitHub\\AIAKI\\wandb\\run-20240319_012504-ghlou1uw</code>"
      ],
      "text/plain": [
       "<IPython.core.display.HTML object>"
      ]
     },
     "metadata": {},
     "output_type": "display_data"
    },
    {
     "data": {
      "text/html": [
       "Syncing run <strong><a href='https://wandb.ai/dahs/IMV_LSTM_Rescue_new/runs/ghlou1uw' target=\"_blank\">E-2</a></strong> to <a href='https://wandb.ai/dahs/IMV_LSTM_Rescue_new' target=\"_blank\">Weights & Biases</a> (<a href='https://wandb.me/run' target=\"_blank\">docs</a>)<br/>"
      ],
      "text/plain": [
       "<IPython.core.display.HTML object>"
      ]
     },
     "metadata": {},
     "output_type": "display_data"
    },
    {
     "data": {
      "text/html": [
       " View project at <a href='https://wandb.ai/dahs/IMV_LSTM_Rescue_new' target=\"_blank\">https://wandb.ai/dahs/IMV_LSTM_Rescue_new</a>"
      ],
      "text/plain": [
       "<IPython.core.display.HTML object>"
      ]
     },
     "metadata": {},
     "output_type": "display_data"
    },
    {
     "data": {
      "text/html": [
       " View run at <a href='https://wandb.ai/dahs/IMV_LSTM_Rescue_new/runs/ghlou1uw' target=\"_blank\">https://wandb.ai/dahs/IMV_LSTM_Rescue_new/runs/ghlou1uw</a>"
      ],
      "text/plain": [
       "<IPython.core.display.HTML object>"
      ]
     },
     "metadata": {},
     "output_type": "display_data"
    },
    {
     "name": "stderr",
     "output_type": "stream",
     "text": [
      "2598it [00:39, 65.40it/s]                          \n",
      "2598it [00:35, 73.06it/s]                          \n",
      "2598it [00:34, 75.50it/s]                          \n",
      "2598it [00:34, 76.03it/s]                          \n",
      "2598it [00:35, 74.20it/s]                          \n",
      "2598it [00:33, 77.91it/s]                          \n",
      "2598it [00:34, 75.38it/s]                          \n",
      "2598it [00:34, 75.96it/s]                          \n",
      "2598it [00:34, 74.34it/s]                          \n",
      "2598it [00:34, 74.65it/s]                          \n",
      "2598it [00:35, 72.83it/s]                          \n",
      "2598it [00:34, 74.77it/s]                          \n",
      "2598it [00:34, 75.59it/s]                          \n",
      "2598it [00:34, 75.45it/s]                          \n",
      "2598it [00:33, 77.90it/s]                          \n",
      "2598it [00:33, 77.92it/s]                          \n",
      "2598it [00:34, 74.84it/s]                          \n",
      "2598it [00:34, 75.15it/s]                          \n",
      "2598it [00:35, 72.53it/s]                          \n",
      "2598it [00:34, 75.72it/s]                          \n",
      "2598it [00:30, 83.91it/s]                          \n",
      "[I 2024-03-19 01:39:54,041] Trial 1 finished with value: 0.3154907698745065 and parameters: {'batch_size': 256, 'n_units': 8, 'learning_rate': 5e-05, 'lr_decay': 0.6883764504714398, 'lr_step': 10, 'negative_sampling': 14, 'loss': 'mse', 'CQL': 0, 'update_freq': 29, 'PPO': 0}. Best is trial 0 with value: 0.3194561164518299.\n"
     ]
    },
    {
     "data": {
      "text/html": [
       "Finishing last run (ID:ghlou1uw) before initializing another..."
      ],
      "text/plain": [
       "<IPython.core.display.HTML object>"
      ]
     },
     "metadata": {},
     "output_type": "display_data"
    },
    {
     "data": {
      "text/html": [
       "<style>\n",
       "    table.wandb td:nth-child(1) { padding: 0 10px; text-align: left ; width: auto;} td:nth-child(2) {text-align: left ; width: 100%}\n",
       "    .wandb-row { display: flex; flex-direction: row; flex-wrap: wrap; justify-content: flex-start; width: 100% }\n",
       "    .wandb-col { display: flex; flex-direction: column; flex-basis: 100%; flex: 1; padding: 10px; }\n",
       "    </style>\n",
       "<div class=\"wandb-row\"><div class=\"wandb-col\"><h3>Run history:</h3><br/><table class=\"wandb\"><tr><td>AUROC</td><td>██▇▅▁▁▂▂▂▂▂▂▂▂▂▂▂▂▂▂▂</td></tr><tr><td>AUROC_median</td><td>██▇▄▁▁▂▂▂▂▂▂▂▂▂▂▂▂▂▂▂</td></tr><tr><td>Iter:</td><td>▁▁▂▂▂▃▃▃▄▄▅▅▅▆▆▆▇▇▇██</td></tr><tr><td>auroc_24</td><td>██▇▅▁▁▁▁▁▁▁▁▁▁▁▁▁▁▁▁▁</td></tr><tr><td>auroc_24_med</td><td>██▇▄▁▁▁▁▁▁▁▁▁▁▁▁▁▁▁▁▁</td></tr><tr><td>auroc_p</td><td>▄▄▃▁█▆▄▄▄▅▅▅▅▆▅▆▆▆▆▆▆</td></tr><tr><td>auroc_p_med</td><td>▅▄▃▁█▆▄▄▄▅▅▅▅▆▅▆▆▆▇▇▇</td></tr><tr><td>train:</td><td>█▆▅▃▁▁▁▁▁▁▁▁▁▁▁▁▁▁▁▁▁</td></tr><tr><td>val:</td><td>▅█▅▂▁▁▁▁▁▁▁▁▁▁▁▁▁▁▁▁▁</td></tr></table><br/></div><div class=\"wandb-col\"><h3>Run summary:</h3><br/><table class=\"wandb\"><tr><td>AUROC</td><td>0.31549</td></tr><tr><td>AUROC_median</td><td>0.31223</td></tr><tr><td>Iter:</td><td>20</td></tr><tr><td>auroc_24</td><td>0.28931</td></tr><tr><td>auroc_24_med</td><td>0.28811</td></tr><tr><td>auroc_p</td><td>0.31571</td></tr><tr><td>auroc_p_med</td><td>0.32033</td></tr><tr><td>train:</td><td>4.79889</td></tr><tr><td>val:</td><td>0.64728</td></tr></table><br/></div></div>"
      ],
      "text/plain": [
       "<IPython.core.display.HTML object>"
      ]
     },
     "metadata": {},
     "output_type": "display_data"
    },
    {
     "data": {
      "text/html": [
       " View run <strong style=\"color:#cdcd00\">E-2</strong> at: <a href='https://wandb.ai/dahs/IMV_LSTM_Rescue_new/runs/ghlou1uw' target=\"_blank\">https://wandb.ai/dahs/IMV_LSTM_Rescue_new/runs/ghlou1uw</a><br/>Synced 5 W&B file(s), 0 media file(s), 0 artifact file(s) and 0 other file(s)"
      ],
      "text/plain": [
       "<IPython.core.display.HTML object>"
      ]
     },
     "metadata": {},
     "output_type": "display_data"
    },
    {
     "data": {
      "text/html": [
       "Find logs at: <code>.\\wandb\\run-20240319_012504-ghlou1uw\\logs</code>"
      ],
      "text/plain": [
       "<IPython.core.display.HTML object>"
      ]
     },
     "metadata": {},
     "output_type": "display_data"
    },
    {
     "data": {
      "text/html": [
       "Successfully finished last run (ID:ghlou1uw). Initializing new run:<br/>"
      ],
      "text/plain": [
       "<IPython.core.display.HTML object>"
      ]
     },
     "metadata": {},
     "output_type": "display_data"
    },
    {
     "data": {
      "text/html": [
       "wandb version 0.16.4 is available!  To upgrade, please run:\n",
       " $ pip install wandb --upgrade"
      ],
      "text/plain": [
       "<IPython.core.display.HTML object>"
      ]
     },
     "metadata": {},
     "output_type": "display_data"
    },
    {
     "data": {
      "text/html": [
       "Tracking run with wandb version 0.16.3"
      ],
      "text/plain": [
       "<IPython.core.display.HTML object>"
      ]
     },
     "metadata": {},
     "output_type": "display_data"
    },
    {
     "data": {
      "text/html": [
       "Run data is saved locally in <code>c:\\Users\\CYP\\Documents\\GitHub\\AIAKI\\wandb\\run-20240319_013954-llbficey</code>"
      ],
      "text/plain": [
       "<IPython.core.display.HTML object>"
      ]
     },
     "metadata": {},
     "output_type": "display_data"
    },
    {
     "data": {
      "text/html": [
       "Syncing run <strong><a href='https://wandb.ai/dahs/IMV_LSTM_Rescue_new/runs/llbficey' target=\"_blank\">E-3</a></strong> to <a href='https://wandb.ai/dahs/IMV_LSTM_Rescue_new' target=\"_blank\">Weights & Biases</a> (<a href='https://wandb.me/run' target=\"_blank\">docs</a>)<br/>"
      ],
      "text/plain": [
       "<IPython.core.display.HTML object>"
      ]
     },
     "metadata": {},
     "output_type": "display_data"
    },
    {
     "data": {
      "text/html": [
       " View project at <a href='https://wandb.ai/dahs/IMV_LSTM_Rescue_new' target=\"_blank\">https://wandb.ai/dahs/IMV_LSTM_Rescue_new</a>"
      ],
      "text/plain": [
       "<IPython.core.display.HTML object>"
      ]
     },
     "metadata": {},
     "output_type": "display_data"
    },
    {
     "data": {
      "text/html": [
       " View run at <a href='https://wandb.ai/dahs/IMV_LSTM_Rescue_new/runs/llbficey' target=\"_blank\">https://wandb.ai/dahs/IMV_LSTM_Rescue_new/runs/llbficey</a>"
      ],
      "text/plain": [
       "<IPython.core.display.HTML object>"
      ]
     },
     "metadata": {},
     "output_type": "display_data"
    },
    {
     "name": "stderr",
     "output_type": "stream",
     "text": [
      " 97%|█████████▋| 2495/2572 [00:36<00:01, 68.96it/s]\n",
      " 97%|█████████▋| 2495/2572 [00:30<00:00, 81.71it/s]\n",
      " 97%|█████████▋| 2495/2572 [00:31<00:00, 79.56it/s]\n",
      " 97%|█████████▋| 2495/2572 [00:31<00:00, 79.18it/s]\n",
      " 97%|█████████▋| 2495/2572 [00:31<00:00, 80.01it/s]\n",
      " 97%|█████████▋| 2495/2572 [00:32<00:00, 77.63it/s]\n",
      " 97%|█████████▋| 2495/2572 [00:33<00:01, 73.62it/s]\n",
      " 97%|█████████▋| 2495/2572 [00:32<00:00, 77.51it/s]\n",
      " 97%|█████████▋| 2495/2572 [00:31<00:00, 79.25it/s]\n",
      " 97%|█████████▋| 2495/2572 [00:33<00:01, 73.54it/s]\n",
      " 97%|█████████▋| 2495/2572 [00:30<00:00, 80.83it/s]\n",
      " 97%|█████████▋| 2495/2572 [00:30<00:00, 80.61it/s]\n",
      " 97%|█████████▋| 2495/2572 [00:31<00:00, 78.24it/s]\n",
      " 97%|█████████▋| 2495/2572 [00:31<00:00, 78.21it/s]\n",
      " 97%|█████████▋| 2495/2572 [00:31<00:00, 80.18it/s]\n",
      " 97%|█████████▋| 2495/2572 [00:31<00:00, 78.64it/s]\n",
      " 97%|█████████▋| 2495/2572 [00:33<00:01, 74.02it/s]\n",
      " 97%|█████████▋| 2495/2572 [00:30<00:00, 80.67it/s]\n",
      " 97%|█████████▋| 2495/2572 [00:32<00:00, 77.33it/s]\n",
      " 97%|█████████▋| 2495/2572 [00:33<00:01, 75.14it/s]\n",
      " 97%|█████████▋| 2495/2572 [00:30<00:00, 82.34it/s]\n",
      "[I 2024-03-19 01:53:59,527] Trial 2 finished with value: 0.6329046698836351 and parameters: {'batch_size': 256, 'n_units': 12, 'learning_rate': 0.0005, 'lr_decay': 0.8797234767628795, 'lr_step': 3, 'negative_sampling': 4, 'loss': 'mse', 'CQL': 0, 'update_freq': 42, 'PPO': 0}. Best is trial 2 with value: 0.6329046698836351.\n"
     ]
    },
    {
     "data": {
      "text/html": [
       "Finishing last run (ID:llbficey) before initializing another..."
      ],
      "text/plain": [
       "<IPython.core.display.HTML object>"
      ]
     },
     "metadata": {},
     "output_type": "display_data"
    },
    {
     "data": {
      "text/html": [
       "<style>\n",
       "    table.wandb td:nth-child(1) { padding: 0 10px; text-align: left ; width: auto;} td:nth-child(2) {text-align: left ; width: 100%}\n",
       "    .wandb-row { display: flex; flex-direction: row; flex-wrap: wrap; justify-content: flex-start; width: 100% }\n",
       "    .wandb-col { display: flex; flex-direction: column; flex-basis: 100%; flex: 1; padding: 10px; }\n",
       "    </style>\n",
       "<div class=\"wandb-row\"><div class=\"wandb-col\"><h3>Run history:</h3><br/><table class=\"wandb\"><tr><td>AUROC</td><td>█▆▁▁▁▅▄▄▄▄▄▃▃▃▃▃▃▃▃▃▃</td></tr><tr><td>AUROC_median</td><td>█▆▁▁▁▅▄▄▄▄▃▃▃▃▃▃▃▃▃▃▃</td></tr><tr><td>Iter:</td><td>▁▁▂▂▂▃▃▃▄▄▅▅▅▆▆▆▇▇▇██</td></tr><tr><td>auroc_24</td><td>█▆▂▁▁▅▄▄▄▄▄▃▃▃▃▃▃▃▃▂▃</td></tr><tr><td>auroc_24_med</td><td>█▆▂▁▁▅▄▄▄▄▃▃▃▃▃▃▃▃▃▂▃</td></tr><tr><td>auroc_p</td><td>▁▆▄▄▅█▇▇██▇▆▇▆▆▇▇▇▇▇▇</td></tr><tr><td>auroc_p_med</td><td>▁▆▄▄▅█▇███▇▇▇▇▇▇▇▇▇▇▇</td></tr><tr><td>train:</td><td>█▁▁▁▁▁▁▁▁▁▁▁▁▁▁▁▁▁▁▁▁</td></tr><tr><td>val:</td><td>█▂▁▁▁▂▁▁▂▁▁▁▁▁▁▁▁▁▁▁▁</td></tr></table><br/></div><div class=\"wandb-col\"><h3>Run summary:</h3><br/><table class=\"wandb\"><tr><td>AUROC</td><td>0.6329</td></tr><tr><td>AUROC_median</td><td>0.63449</td></tr><tr><td>Iter:</td><td>20</td></tr><tr><td>auroc_24</td><td>0.62772</td></tr><tr><td>auroc_24_med</td><td>0.62915</td></tr><tr><td>auroc_p</td><td>0.80533</td></tr><tr><td>auroc_p_med</td><td>0.80739</td></tr><tr><td>train:</td><td>3.58226</td></tr><tr><td>val:</td><td>0.50185</td></tr></table><br/></div></div>"
      ],
      "text/plain": [
       "<IPython.core.display.HTML object>"
      ]
     },
     "metadata": {},
     "output_type": "display_data"
    },
    {
     "data": {
      "text/html": [
       " View run <strong style=\"color:#cdcd00\">E-3</strong> at: <a href='https://wandb.ai/dahs/IMV_LSTM_Rescue_new/runs/llbficey' target=\"_blank\">https://wandb.ai/dahs/IMV_LSTM_Rescue_new/runs/llbficey</a><br/>Synced 5 W&B file(s), 0 media file(s), 0 artifact file(s) and 0 other file(s)"
      ],
      "text/plain": [
       "<IPython.core.display.HTML object>"
      ]
     },
     "metadata": {},
     "output_type": "display_data"
    },
    {
     "data": {
      "text/html": [
       "Find logs at: <code>.\\wandb\\run-20240319_013954-llbficey\\logs</code>"
      ],
      "text/plain": [
       "<IPython.core.display.HTML object>"
      ]
     },
     "metadata": {},
     "output_type": "display_data"
    },
    {
     "data": {
      "text/html": [
       "Successfully finished last run (ID:llbficey). Initializing new run:<br/>"
      ],
      "text/plain": [
       "<IPython.core.display.HTML object>"
      ]
     },
     "metadata": {},
     "output_type": "display_data"
    },
    {
     "data": {
      "text/html": [
       "wandb version 0.16.4 is available!  To upgrade, please run:\n",
       " $ pip install wandb --upgrade"
      ],
      "text/plain": [
       "<IPython.core.display.HTML object>"
      ]
     },
     "metadata": {},
     "output_type": "display_data"
    },
    {
     "data": {
      "text/html": [
       "Tracking run with wandb version 0.16.3"
      ],
      "text/plain": [
       "<IPython.core.display.HTML object>"
      ]
     },
     "metadata": {},
     "output_type": "display_data"
    },
    {
     "data": {
      "text/html": [
       "Run data is saved locally in <code>c:\\Users\\CYP\\Documents\\GitHub\\AIAKI\\wandb\\run-20240319_015359-r7pdnzcp</code>"
      ],
      "text/plain": [
       "<IPython.core.display.HTML object>"
      ]
     },
     "metadata": {},
     "output_type": "display_data"
    },
    {
     "data": {
      "text/html": [
       "Syncing run <strong><a href='https://wandb.ai/dahs/IMV_LSTM_Rescue_new/runs/r7pdnzcp' target=\"_blank\">E-4</a></strong> to <a href='https://wandb.ai/dahs/IMV_LSTM_Rescue_new' target=\"_blank\">Weights & Biases</a> (<a href='https://wandb.me/run' target=\"_blank\">docs</a>)<br/>"
      ],
      "text/plain": [
       "<IPython.core.display.HTML object>"
      ]
     },
     "metadata": {},
     "output_type": "display_data"
    },
    {
     "data": {
      "text/html": [
       " View project at <a href='https://wandb.ai/dahs/IMV_LSTM_Rescue_new' target=\"_blank\">https://wandb.ai/dahs/IMV_LSTM_Rescue_new</a>"
      ],
      "text/plain": [
       "<IPython.core.display.HTML object>"
      ]
     },
     "metadata": {},
     "output_type": "display_data"
    },
    {
     "data": {
      "text/html": [
       " View run at <a href='https://wandb.ai/dahs/IMV_LSTM_Rescue_new/runs/r7pdnzcp' target=\"_blank\">https://wandb.ai/dahs/IMV_LSTM_Rescue_new/runs/r7pdnzcp</a>"
      ],
      "text/plain": [
       "<IPython.core.display.HTML object>"
      ]
     },
     "metadata": {},
     "output_type": "display_data"
    },
    {
     "name": "stderr",
     "output_type": "stream",
     "text": [
      "2577it [00:51, 49.70it/s]                          \n",
      "2577it [00:47, 54.22it/s]                          \n",
      "2577it [00:47, 54.37it/s]                          \n",
      "2577it [00:47, 54.26it/s]                          \n",
      "2577it [00:47, 54.29it/s]                          \n",
      "2577it [00:47, 54.34it/s]                          \n",
      "2577it [00:47, 54.22it/s]                          \n",
      "2577it [00:47, 53.94it/s]                          \n",
      "2577it [00:47, 53.78it/s]                          \n",
      "2577it [00:47, 53.95it/s]                          \n",
      "2577it [00:47, 54.35it/s]                          \n",
      "2577it [00:47, 54.09it/s]                          \n",
      "2577it [00:47, 54.29it/s]                          \n",
      "2577it [00:47, 54.02it/s]                          \n",
      "2577it [00:47, 54.00it/s]                          \n",
      "2577it [00:47, 54.16it/s]                          \n",
      "2577it [00:47, 54.50it/s]                          \n",
      "2577it [00:47, 54.27it/s]                          \n",
      "2577it [00:47, 54.57it/s]                          \n",
      "2577it [00:47, 54.30it/s]                          \n",
      "2577it [00:47, 54.13it/s]                          \n",
      "[I 2024-03-19 02:14:16,228] Trial 3 finished with value: 0.5001698595402058 and parameters: {'batch_size': 256, 'n_units': 41, 'learning_rate': 0.0005, 'lr_decay': 0.8456445345736732, 'lr_step': 4, 'negative_sampling': 12, 'loss': 'mse', 'CQL': 0, 'update_freq': 51, 'PPO': 0}. Best is trial 2 with value: 0.6329046698836351.\n"
     ]
    },
    {
     "data": {
      "text/html": [
       "Finishing last run (ID:r7pdnzcp) before initializing another..."
      ],
      "text/plain": [
       "<IPython.core.display.HTML object>"
      ]
     },
     "metadata": {},
     "output_type": "display_data"
    },
    {
     "data": {
      "text/html": [
       "<style>\n",
       "    table.wandb td:nth-child(1) { padding: 0 10px; text-align: left ; width: auto;} td:nth-child(2) {text-align: left ; width: 100%}\n",
       "    .wandb-row { display: flex; flex-direction: row; flex-wrap: wrap; justify-content: flex-start; width: 100% }\n",
       "    .wandb-col { display: flex; flex-direction: column; flex-basis: 100%; flex: 1; padding: 10px; }\n",
       "    </style>\n",
       "<div class=\"wandb-row\"><div class=\"wandb-col\"><h3>Run history:</h3><br/><table class=\"wandb\"><tr><td>AUROC</td><td>▇▆█▇▆▇▆▇▆▇▅▆▄▃▆▂▃▁▂▁▁</td></tr><tr><td>AUROC_median</td><td>▇▇█▇▆▇▆█▇▇▅▆▄▃▆▂▂▁▂▁▁</td></tr><tr><td>Iter:</td><td>▁▁▂▂▂▃▃▃▄▄▅▅▅▆▆▆▇▇▇██</td></tr><tr><td>auroc_24</td><td>█▇█▇▆▇▆▇▆▇▅▆▄▃▅▂▂▁▂▁▁</td></tr><tr><td>auroc_24_med</td><td>█▇█▇▆▇▆▇▇▇▅▆▄▃▆▂▂▁▂▁▁</td></tr><tr><td>auroc_p</td><td>▇█████▇▇▇▇▆▆▅▅▅▃▃▂▁▁▁</td></tr><tr><td>auroc_p_med</td><td>▇█████▇▇▇▇▇▇▅▅▅▃▃▂▁▁▁</td></tr><tr><td>train:</td><td>█▁▁▁▁▁▁▁▁▁▁▁▁▁▁▁▁▁▁▁▁</td></tr><tr><td>val:</td><td>▁▂▁▄▃▄▃▂▅█▄▃▄▅▂▆▃▆▃▆▆</td></tr></table><br/></div><div class=\"wandb-col\"><h3>Run summary:</h3><br/><table class=\"wandb\"><tr><td>AUROC</td><td>0.50017</td></tr><tr><td>AUROC_median</td><td>0.5021</td></tr><tr><td>Iter:</td><td>20</td></tr><tr><td>auroc_24</td><td>0.47351</td></tr><tr><td>auroc_24_med</td><td>0.47564</td></tr><tr><td>auroc_p</td><td>0.58906</td></tr><tr><td>auroc_p_med</td><td>0.59582</td></tr><tr><td>train:</td><td>3.72535</td></tr><tr><td>val:</td><td>0.54449</td></tr></table><br/></div></div>"
      ],
      "text/plain": [
       "<IPython.core.display.HTML object>"
      ]
     },
     "metadata": {},
     "output_type": "display_data"
    },
    {
     "data": {
      "text/html": [
       " View run <strong style=\"color:#cdcd00\">E-4</strong> at: <a href='https://wandb.ai/dahs/IMV_LSTM_Rescue_new/runs/r7pdnzcp' target=\"_blank\">https://wandb.ai/dahs/IMV_LSTM_Rescue_new/runs/r7pdnzcp</a><br/>Synced 5 W&B file(s), 0 media file(s), 0 artifact file(s) and 0 other file(s)"
      ],
      "text/plain": [
       "<IPython.core.display.HTML object>"
      ]
     },
     "metadata": {},
     "output_type": "display_data"
    },
    {
     "data": {
      "text/html": [
       "Find logs at: <code>.\\wandb\\run-20240319_015359-r7pdnzcp\\logs</code>"
      ],
      "text/plain": [
       "<IPython.core.display.HTML object>"
      ]
     },
     "metadata": {},
     "output_type": "display_data"
    },
    {
     "data": {
      "text/html": [
       "Successfully finished last run (ID:r7pdnzcp). Initializing new run:<br/>"
      ],
      "text/plain": [
       "<IPython.core.display.HTML object>"
      ]
     },
     "metadata": {},
     "output_type": "display_data"
    },
    {
     "data": {
      "text/html": [
       "wandb version 0.16.4 is available!  To upgrade, please run:\n",
       " $ pip install wandb --upgrade"
      ],
      "text/plain": [
       "<IPython.core.display.HTML object>"
      ]
     },
     "metadata": {},
     "output_type": "display_data"
    },
    {
     "data": {
      "text/html": [
       "Tracking run with wandb version 0.16.3"
      ],
      "text/plain": [
       "<IPython.core.display.HTML object>"
      ]
     },
     "metadata": {},
     "output_type": "display_data"
    },
    {
     "data": {
      "text/html": [
       "Run data is saved locally in <code>c:\\Users\\CYP\\Documents\\GitHub\\AIAKI\\wandb\\run-20240319_021416-j768z22a</code>"
      ],
      "text/plain": [
       "<IPython.core.display.HTML object>"
      ]
     },
     "metadata": {},
     "output_type": "display_data"
    },
    {
     "data": {
      "text/html": [
       "Syncing run <strong><a href='https://wandb.ai/dahs/IMV_LSTM_Rescue_new/runs/j768z22a' target=\"_blank\">E-5</a></strong> to <a href='https://wandb.ai/dahs/IMV_LSTM_Rescue_new' target=\"_blank\">Weights & Biases</a> (<a href='https://wandb.me/run' target=\"_blank\">docs</a>)<br/>"
      ],
      "text/plain": [
       "<IPython.core.display.HTML object>"
      ]
     },
     "metadata": {},
     "output_type": "display_data"
    },
    {
     "data": {
      "text/html": [
       " View project at <a href='https://wandb.ai/dahs/IMV_LSTM_Rescue_new' target=\"_blank\">https://wandb.ai/dahs/IMV_LSTM_Rescue_new</a>"
      ],
      "text/plain": [
       "<IPython.core.display.HTML object>"
      ]
     },
     "metadata": {},
     "output_type": "display_data"
    },
    {
     "data": {
      "text/html": [
       " View run at <a href='https://wandb.ai/dahs/IMV_LSTM_Rescue_new/runs/j768z22a' target=\"_blank\">https://wandb.ai/dahs/IMV_LSTM_Rescue_new/runs/j768z22a</a>"
      ],
      "text/plain": [
       "<IPython.core.display.HTML object>"
      ]
     },
     "metadata": {},
     "output_type": "display_data"
    },
    {
     "name": "stderr",
     "output_type": "stream",
     "text": [
      "20962it [04:01, 86.71it/s]                            \n",
      "20962it [04:06, 85.15it/s]                            \n",
      "20962it [04:05, 85.41it/s]                            \n",
      "20962it [03:59, 87.37it/s]                            \n",
      "20962it [04:04, 85.62it/s]                            \n",
      "20962it [04:06, 85.02it/s]                            \n",
      "20962it [03:58, 87.91it/s]                            \n",
      "20962it [04:01, 86.72it/s]                            \n",
      "20962it [04:06, 84.99it/s]                            \n",
      "20962it [04:07, 84.82it/s]                            \n",
      "20962it [04:01, 86.76it/s]                            \n",
      "20962it [04:11, 83.27it/s]                            \n",
      "20962it [04:09, 84.02it/s]                            \n",
      "20962it [04:04, 85.90it/s]                            \n",
      "20962it [04:01, 86.78it/s]                            \n",
      "20962it [04:02, 86.49it/s]                            \n",
      "20962it [04:01, 86.94it/s]                            \n",
      "20962it [04:09, 84.14it/s]                            \n",
      "20962it [04:04, 85.90it/s]                            \n",
      "20962it [04:04, 85.75it/s]                            \n",
      "20962it [03:59, 87.52it/s]                            \n",
      "[I 2024-03-19 03:42:35,173] Trial 4 finished with value: 0.33898921060859116 and parameters: {'batch_size': 32, 'n_units': 3, 'learning_rate': 5e-05, 'lr_decay': 0.7465643118146577, 'lr_step': 4, 'negative_sampling': 2, 'loss': 'mse', 'CQL': 0, 'update_freq': 76, 'PPO': 0}. Best is trial 2 with value: 0.6329046698836351.\n"
     ]
    },
    {
     "data": {
      "text/html": [
       "Finishing last run (ID:j768z22a) before initializing another..."
      ],
      "text/plain": [
       "<IPython.core.display.HTML object>"
      ]
     },
     "metadata": {},
     "output_type": "display_data"
    },
    {
     "data": {
      "text/html": [
       "<style>\n",
       "    table.wandb td:nth-child(1) { padding: 0 10px; text-align: left ; width: auto;} td:nth-child(2) {text-align: left ; width: 100%}\n",
       "    .wandb-row { display: flex; flex-direction: row; flex-wrap: wrap; justify-content: flex-start; width: 100% }\n",
       "    .wandb-col { display: flex; flex-direction: column; flex-basis: 100%; flex: 1; padding: 10px; }\n",
       "    </style>\n",
       "<div class=\"wandb-row\"><div class=\"wandb-col\"><h3>Run history:</h3><br/><table class=\"wandb\"><tr><td>AUROC</td><td>█▁▁▁▁▂▃▃▃▃▅▄▄▄▄▄▅▅▅▄▄</td></tr><tr><td>AUROC_median</td><td>█▁▁▁▁▂▂▃▃▄▄▄▄▄▅▄▄▄▅▅▅</td></tr><tr><td>Iter:</td><td>▁▁▂▂▂▃▃▃▄▄▅▅▅▆▆▆▇▇▇██</td></tr><tr><td>auroc_24</td><td>█▂▁▁▁▂▂▃▃▃▅▃▄▄▃▄▅▄▄▄▄</td></tr><tr><td>auroc_24_med</td><td>█▂▁▁▁▂▂▃▃▄▃▃▃▃▄▄▄▄▄▄▄</td></tr><tr><td>auroc_p</td><td>▁▄▃▄▄▅▆▆▇▇█▇▇█▇▇████▇</td></tr><tr><td>auroc_p_med</td><td>▁▄▃▄▄▅▆▆▇▇▇▇▇▇███████</td></tr><tr><td>train:</td><td>█▁▁▁▁▁▁▁▁▁▁▁▁▁▁▁▁▁▁▁▁</td></tr><tr><td>val:</td><td>█▂▁▁▁▁▁▁▁▁▁▁▁▁▁▁▁▁▁▁▁</td></tr></table><br/></div><div class=\"wandb-col\"><h3>Run summary:</h3><br/><table class=\"wandb\"><tr><td>AUROC</td><td>0.33899</td></tr><tr><td>AUROC_median</td><td>0.34968</td></tr><tr><td>Iter:</td><td>20</td></tr><tr><td>auroc_24</td><td>0.32855</td></tr><tr><td>auroc_24_med</td><td>0.3365</td></tr><tr><td>auroc_p</td><td>0.60941</td></tr><tr><td>auroc_p_med</td><td>0.62551</td></tr><tr><td>train:</td><td>31.02079</td></tr><tr><td>val:</td><td>0.55455</td></tr></table><br/></div></div>"
      ],
      "text/plain": [
       "<IPython.core.display.HTML object>"
      ]
     },
     "metadata": {},
     "output_type": "display_data"
    },
    {
     "data": {
      "text/html": [
       " View run <strong style=\"color:#cdcd00\">E-5</strong> at: <a href='https://wandb.ai/dahs/IMV_LSTM_Rescue_new/runs/j768z22a' target=\"_blank\">https://wandb.ai/dahs/IMV_LSTM_Rescue_new/runs/j768z22a</a><br/>Synced 5 W&B file(s), 0 media file(s), 0 artifact file(s) and 0 other file(s)"
      ],
      "text/plain": [
       "<IPython.core.display.HTML object>"
      ]
     },
     "metadata": {},
     "output_type": "display_data"
    },
    {
     "data": {
      "text/html": [
       "Find logs at: <code>.\\wandb\\run-20240319_021416-j768z22a\\logs</code>"
      ],
      "text/plain": [
       "<IPython.core.display.HTML object>"
      ]
     },
     "metadata": {},
     "output_type": "display_data"
    },
    {
     "data": {
      "text/html": [
       "Successfully finished last run (ID:j768z22a). Initializing new run:<br/>"
      ],
      "text/plain": [
       "<IPython.core.display.HTML object>"
      ]
     },
     "metadata": {},
     "output_type": "display_data"
    },
    {
     "data": {
      "text/html": [
       "wandb version 0.16.4 is available!  To upgrade, please run:\n",
       " $ pip install wandb --upgrade"
      ],
      "text/plain": [
       "<IPython.core.display.HTML object>"
      ]
     },
     "metadata": {},
     "output_type": "display_data"
    },
    {
     "data": {
      "text/html": [
       "Tracking run with wandb version 0.16.3"
      ],
      "text/plain": [
       "<IPython.core.display.HTML object>"
      ]
     },
     "metadata": {},
     "output_type": "display_data"
    },
    {
     "data": {
      "text/html": [
       "Run data is saved locally in <code>c:\\Users\\CYP\\Documents\\GitHub\\AIAKI\\wandb\\run-20240319_034235-0eowxi4d</code>"
      ],
      "text/plain": [
       "<IPython.core.display.HTML object>"
      ]
     },
     "metadata": {},
     "output_type": "display_data"
    },
    {
     "data": {
      "text/html": [
       "Syncing run <strong><a href='https://wandb.ai/dahs/IMV_LSTM_Rescue_new/runs/0eowxi4d' target=\"_blank\">E-6</a></strong> to <a href='https://wandb.ai/dahs/IMV_LSTM_Rescue_new' target=\"_blank\">Weights & Biases</a> (<a href='https://wandb.me/run' target=\"_blank\">docs</a>)<br/>"
      ],
      "text/plain": [
       "<IPython.core.display.HTML object>"
      ]
     },
     "metadata": {},
     "output_type": "display_data"
    },
    {
     "data": {
      "text/html": [
       " View project at <a href='https://wandb.ai/dahs/IMV_LSTM_Rescue_new' target=\"_blank\">https://wandb.ai/dahs/IMV_LSTM_Rescue_new</a>"
      ],
      "text/plain": [
       "<IPython.core.display.HTML object>"
      ]
     },
     "metadata": {},
     "output_type": "display_data"
    },
    {
     "data": {
      "text/html": [
       " View run at <a href='https://wandb.ai/dahs/IMV_LSTM_Rescue_new/runs/0eowxi4d' target=\"_blank\">https://wandb.ai/dahs/IMV_LSTM_Rescue_new/runs/0eowxi4d</a>"
      ],
      "text/plain": [
       "<IPython.core.display.HTML object>"
      ]
     },
     "metadata": {},
     "output_type": "display_data"
    },
    {
     "name": "stderr",
     "output_type": "stream",
     "text": [
      "5614it [01:08, 82.34it/s]                          \n",
      "5614it [01:06, 84.91it/s]                           \n",
      "5614it [01:06, 84.87it/s]                           \n",
      "5614it [01:03, 88.89it/s]                          \n",
      "5614it [01:04, 87.09it/s]                           \n",
      "5614it [01:04, 86.63it/s]                          \n",
      "5614it [01:06, 84.46it/s]                          \n",
      "5614it [01:05, 85.40it/s]                          \n",
      "5614it [01:03, 88.57it/s]                          \n",
      "5614it [01:04, 87.61it/s]                          \n",
      "5614it [01:04, 87.13it/s]                          \n",
      "5614it [01:06, 84.39it/s]                          \n",
      "5614it [01:06, 84.62it/s]                           \n",
      "5614it [01:03, 88.74it/s]                          \n",
      "5614it [01:19, 70.61it/s]                          \n",
      "5614it [01:32, 60.75it/s]                          \n",
      "5614it [01:05, 85.91it/s]                          \n",
      "5614it [01:05, 85.87it/s]                           \n",
      "5614it [01:02, 89.22it/s]                          \n",
      "5614it [01:04, 87.46it/s]                          \n",
      "5614it [01:08, 82.47it/s]                           \n",
      "5614it [01:04, 87.38it/s]                          \n",
      "5614it [01:06, 84.80it/s]                           \n",
      "5614it [01:03, 88.75it/s]                          \n",
      "5614it [01:04, 86.64it/s]                          \n",
      "5614it [01:07, 83.52it/s]                          \n",
      "5614it [01:02, 89.29it/s]                          \n",
      "5614it [01:06, 84.83it/s]                          \n",
      "5614it [01:03, 89.08it/s]                          \n",
      "5614it [01:04, 87.47it/s]                          \n",
      "5614it [01:08, 82.25it/s]                          \n",
      "5614it [01:03, 88.26it/s]                          \n",
      "5614it [01:05, 85.78it/s]                          \n",
      "5614it [01:03, 87.93it/s]                          \n",
      "5614it [01:05, 85.89it/s]                          \n",
      "5614it [01:09, 81.00it/s]                           \n",
      "5614it [01:03, 87.75it/s]                          \n",
      "5614it [01:05, 85.06it/s]                          \n",
      "5614it [01:03, 89.01it/s]                          \n",
      "5614it [01:05, 85.99it/s]                          \n",
      "5614it [01:06, 83.90it/s]                          \n",
      "5614it [01:03, 88.26it/s]                          \n",
      "5614it [01:06, 85.00it/s]                          \n",
      "5614it [01:03, 88.81it/s]                          \n",
      "5614it [01:04, 87.53it/s]                          \n",
      "5614it [01:09, 80.99it/s]                          \n",
      "5614it [01:05, 86.36it/s]                          \n",
      "5614it [01:05, 85.99it/s]                          \n",
      "5614it [01:03, 87.95it/s]                          \n",
      "5614it [01:04, 86.69it/s]                          \n",
      "[I 2024-03-19 04:44:05,481] Trial 5 finished with value: 0.2966383994318295 and parameters: {'batch_size': 128, 'n_units': 17, 'learning_rate': 5e-06, 'lr_decay': 0.8125914169715954, 'lr_step': 7, 'negative_sampling': 16, 'loss': 'smooth_l1', 'CQL': 0, 'update_freq': 54, 'PPO': 0}. Best is trial 2 with value: 0.6329046698836351.\n"
     ]
    },
    {
     "data": {
      "text/html": [
       "Finishing last run (ID:0eowxi4d) before initializing another..."
      ],
      "text/plain": [
       "<IPython.core.display.HTML object>"
      ]
     },
     "metadata": {},
     "output_type": "display_data"
    },
    {
     "data": {
      "text/html": [
       "<style>\n",
       "    table.wandb td:nth-child(1) { padding: 0 10px; text-align: left ; width: auto;} td:nth-child(2) {text-align: left ; width: 100%}\n",
       "    .wandb-row { display: flex; flex-direction: row; flex-wrap: wrap; justify-content: flex-start; width: 100% }\n",
       "    .wandb-col { display: flex; flex-direction: column; flex-basis: 100%; flex: 1; padding: 10px; }\n",
       "    </style>\n",
       "<div class=\"wandb-row\"><div class=\"wandb-col\"><h3>Run history:</h3><br/><table class=\"wandb\"><tr><td>AUROC</td><td>█████▇▇▇▆▆▅▄▃▂▂▁▁▁▁▁▁▁▁▁▁▁▁▁▂▂▂▂▂▂▂▂▂▂▂▂</td></tr><tr><td>AUROC_median</td><td>█████▇▇▇▆▆▅▄▃▂▂▁▁▁▁▁▁▁▁▁▁▁▁▁▁▂▂▂▂▂▂▂▂▂▂▂</td></tr><tr><td>Iter:</td><td>▁▁▁▁▂▂▂▂▂▃▃▃▃▃▃▄▄▄▄▄▅▅▅▅▅▅▆▆▆▆▆▆▇▇▇▇▇███</td></tr><tr><td>auroc_24</td><td>█████▇▇▇▆▆▅▄▂▂▂▁▁▁▁▁▁▁▁▁▂▂▂▂▂▂▂▂▂▂▂▂▂▂▂▂</td></tr><tr><td>auroc_24_med</td><td>█████▇▇▇▆▆▅▄▂▂▂▁▁▁▁▁▁▁▁▁▂▂▂▂▂▂▂▂▂▂▂▂▂▂▂▂</td></tr><tr><td>auroc_p</td><td>▂▂▃▃▂▂▂▂▁▁▁▁▁▂▂▂▃▄▄▅▅▆▆▇▇▇▇▇████████████</td></tr><tr><td>auroc_p_med</td><td>▃▃▃▃▂▂▂▂▁▁▁▁▁▂▂▂▃▄▄▅▅▆▆▆▇▇▇▇████████████</td></tr><tr><td>train:</td><td>█▆▅▄▄▃▂▁▁▁▁▁▁▁▁▁▁▁▁▁▁▁▁▁▁▁▁▁▁▁▁▁▁▁▁▁▁▁▁▁</td></tr><tr><td>val:</td><td>▅▅█▅▃▂▁▁▁▁▁▁▁▁▁▁▁▁▁▁▁▁▁▁▁▁▁▁▁▁▁▁▁▁▁▁▁▁▁▁</td></tr></table><br/></div><div class=\"wandb-col\"><h3>Run summary:</h3><br/><table class=\"wandb\"><tr><td>AUROC</td><td>0.29664</td></tr><tr><td>AUROC_median</td><td>0.29766</td></tr><tr><td>Iter:</td><td>49</td></tr><tr><td>auroc_24</td><td>0.31835</td></tr><tr><td>auroc_24_med</td><td>0.31847</td></tr><tr><td>auroc_p</td><td>0.42986</td></tr><tr><td>auroc_p_med</td><td>0.42741</td></tr><tr><td>train:</td><td>3.71197</td></tr><tr><td>val:</td><td>0.26257</td></tr></table><br/></div></div>"
      ],
      "text/plain": [
       "<IPython.core.display.HTML object>"
      ]
     },
     "metadata": {},
     "output_type": "display_data"
    },
    {
     "data": {
      "text/html": [
       " View run <strong style=\"color:#cdcd00\">E-6</strong> at: <a href='https://wandb.ai/dahs/IMV_LSTM_Rescue_new/runs/0eowxi4d' target=\"_blank\">https://wandb.ai/dahs/IMV_LSTM_Rescue_new/runs/0eowxi4d</a><br/>Synced 5 W&B file(s), 0 media file(s), 0 artifact file(s) and 0 other file(s)"
      ],
      "text/plain": [
       "<IPython.core.display.HTML object>"
      ]
     },
     "metadata": {},
     "output_type": "display_data"
    },
    {
     "data": {
      "text/html": [
       "Find logs at: <code>.\\wandb\\run-20240319_034235-0eowxi4d\\logs</code>"
      ],
      "text/plain": [
       "<IPython.core.display.HTML object>"
      ]
     },
     "metadata": {},
     "output_type": "display_data"
    },
    {
     "data": {
      "text/html": [
       "Successfully finished last run (ID:0eowxi4d). Initializing new run:<br/>"
      ],
      "text/plain": [
       "<IPython.core.display.HTML object>"
      ]
     },
     "metadata": {},
     "output_type": "display_data"
    },
    {
     "data": {
      "text/html": [
       "wandb version 0.16.4 is available!  To upgrade, please run:\n",
       " $ pip install wandb --upgrade"
      ],
      "text/plain": [
       "<IPython.core.display.HTML object>"
      ]
     },
     "metadata": {},
     "output_type": "display_data"
    },
    {
     "data": {
      "text/html": [
       "Tracking run with wandb version 0.16.3"
      ],
      "text/plain": [
       "<IPython.core.display.HTML object>"
      ]
     },
     "metadata": {},
     "output_type": "display_data"
    },
    {
     "data": {
      "text/html": [
       "Run data is saved locally in <code>c:\\Users\\CYP\\Documents\\GitHub\\AIAKI\\wandb\\run-20240319_044405-6m0l443c</code>"
      ],
      "text/plain": [
       "<IPython.core.display.HTML object>"
      ]
     },
     "metadata": {},
     "output_type": "display_data"
    },
    {
     "data": {
      "text/html": [
       "Syncing run <strong><a href='https://wandb.ai/dahs/IMV_LSTM_Rescue_new/runs/6m0l443c' target=\"_blank\">E-7</a></strong> to <a href='https://wandb.ai/dahs/IMV_LSTM_Rescue_new' target=\"_blank\">Weights & Biases</a> (<a href='https://wandb.me/run' target=\"_blank\">docs</a>)<br/>"
      ],
      "text/plain": [
       "<IPython.core.display.HTML object>"
      ]
     },
     "metadata": {},
     "output_type": "display_data"
    },
    {
     "data": {
      "text/html": [
       " View project at <a href='https://wandb.ai/dahs/IMV_LSTM_Rescue_new' target=\"_blank\">https://wandb.ai/dahs/IMV_LSTM_Rescue_new</a>"
      ],
      "text/plain": [
       "<IPython.core.display.HTML object>"
      ]
     },
     "metadata": {},
     "output_type": "display_data"
    },
    {
     "data": {
      "text/html": [
       " View run at <a href='https://wandb.ai/dahs/IMV_LSTM_Rescue_new/runs/6m0l443c' target=\"_blank\">https://wandb.ai/dahs/IMV_LSTM_Rescue_new/runs/6m0l443c</a>"
      ],
      "text/plain": [
       "<IPython.core.display.HTML object>"
      ]
     },
     "metadata": {},
     "output_type": "display_data"
    },
    {
     "name": "stderr",
     "output_type": "stream",
     "text": [
      "2598it [00:55, 47.13it/s]                          \n",
      "2598it [00:50, 50.96it/s]                          \n",
      "2598it [00:50, 50.94it/s]                          \n",
      "2598it [00:51, 50.92it/s]                          \n",
      "2598it [00:50, 51.15it/s]                          \n",
      "2598it [00:51, 50.85it/s]                          \n",
      "2598it [00:51, 50.82it/s]                          \n",
      "2598it [00:50, 50.95it/s]                          \n",
      "2598it [00:51, 50.92it/s]                          \n",
      "2598it [00:50, 51.01it/s]                          \n",
      "2598it [00:50, 51.00it/s]                          \n",
      "2598it [00:50, 50.95it/s]                          \n",
      "2598it [00:51, 50.87it/s]                          \n",
      "2598it [00:50, 51.03it/s]                          \n",
      "2598it [00:51, 50.76it/s]                          \n",
      "2598it [00:51, 50.88it/s]                          \n",
      "2598it [00:51, 50.90it/s]                          \n",
      "2598it [00:51, 50.71it/s]                          \n",
      "2598it [00:51, 50.42it/s]                          \n",
      "2598it [00:51, 50.69it/s]                          \n",
      "2598it [00:51, 50.74it/s]                          \n",
      "[I 2024-03-19 05:05:43,385] Trial 6 finished with value: 0.3549113044158779 and parameters: {'batch_size': 256, 'n_units': 48, 'learning_rate': 5e-06, 'lr_decay': 0.9445044734483248, 'lr_step': 9, 'negative_sampling': 14, 'loss': 'mse', 'CQL': 0, 'update_freq': 92, 'PPO': 0}. Best is trial 2 with value: 0.6329046698836351.\n"
     ]
    },
    {
     "data": {
      "text/html": [
       "Finishing last run (ID:6m0l443c) before initializing another..."
      ],
      "text/plain": [
       "<IPython.core.display.HTML object>"
      ]
     },
     "metadata": {},
     "output_type": "display_data"
    },
    {
     "data": {
      "text/html": [
       "<style>\n",
       "    table.wandb td:nth-child(1) { padding: 0 10px; text-align: left ; width: auto;} td:nth-child(2) {text-align: left ; width: 100%}\n",
       "    .wandb-row { display: flex; flex-direction: row; flex-wrap: wrap; justify-content: flex-start; width: 100% }\n",
       "    .wandb-col { display: flex; flex-direction: column; flex-basis: 100%; flex: 1; padding: 10px; }\n",
       "    </style>\n",
       "<div class=\"wandb-row\"><div class=\"wandb-col\"><h3>Run history:</h3><br/><table class=\"wandb\"><tr><td>AUROC</td><td>██████▇▇▆▅▄▃▁▁▁▂▂▂▂▂▂</td></tr><tr><td>AUROC_median</td><td>██████▇▇▆▅▄▃▁▁▁▂▂▂▂▂▂</td></tr><tr><td>Iter:</td><td>▁▁▂▂▂▃▃▃▄▄▅▅▅▆▆▆▇▇▇██</td></tr><tr><td>auroc_24</td><td>██████▇▇▆▅▄▃▁▁▁▁▂▂▂▂▂</td></tr><tr><td>auroc_24_med</td><td>██████▇▇▆▅▄▃▁▁▁▁▂▂▂▂▂</td></tr><tr><td>auroc_p</td><td>▇▇█▇▇▆▅▄▃▂▁▁▂▃▃▂▂▂▂▂▂</td></tr><tr><td>auroc_p_med</td><td>▆▇█▇▇▆▅▄▃▂▁▁▂▃▃▂▂▂▂▂▂</td></tr><tr><td>train:</td><td>▆▅▄▆█▇▅▄▂▂▁▁▁▁▁▁▁▁▁▁▁</td></tr><tr><td>val:</td><td>▅▄▅▇█▆▄▃▂▂▁▁▁▁▁▁▁▁▁▁▁</td></tr></table><br/></div><div class=\"wandb-col\"><h3>Run summary:</h3><br/><table class=\"wandb\"><tr><td>AUROC</td><td>0.35491</td></tr><tr><td>AUROC_median</td><td>0.35468</td></tr><tr><td>Iter:</td><td>20</td></tr><tr><td>auroc_24</td><td>0.34458</td></tr><tr><td>auroc_24_med</td><td>0.34443</td></tr><tr><td>auroc_p</td><td>0.26916</td></tr><tr><td>auroc_p_med</td><td>0.26917</td></tr><tr><td>train:</td><td>6.03653</td></tr><tr><td>val:</td><td>0.83736</td></tr></table><br/></div></div>"
      ],
      "text/plain": [
       "<IPython.core.display.HTML object>"
      ]
     },
     "metadata": {},
     "output_type": "display_data"
    },
    {
     "data": {
      "text/html": [
       " View run <strong style=\"color:#cdcd00\">E-7</strong> at: <a href='https://wandb.ai/dahs/IMV_LSTM_Rescue_new/runs/6m0l443c' target=\"_blank\">https://wandb.ai/dahs/IMV_LSTM_Rescue_new/runs/6m0l443c</a><br/>Synced 5 W&B file(s), 0 media file(s), 0 artifact file(s) and 0 other file(s)"
      ],
      "text/plain": [
       "<IPython.core.display.HTML object>"
      ]
     },
     "metadata": {},
     "output_type": "display_data"
    },
    {
     "data": {
      "text/html": [
       "Find logs at: <code>.\\wandb\\run-20240319_044405-6m0l443c\\logs</code>"
      ],
      "text/plain": [
       "<IPython.core.display.HTML object>"
      ]
     },
     "metadata": {},
     "output_type": "display_data"
    },
    {
     "data": {
      "text/html": [
       "Successfully finished last run (ID:6m0l443c). Initializing new run:<br/>"
      ],
      "text/plain": [
       "<IPython.core.display.HTML object>"
      ]
     },
     "metadata": {},
     "output_type": "display_data"
    },
    {
     "data": {
      "text/html": [
       "wandb version 0.16.4 is available!  To upgrade, please run:\n",
       " $ pip install wandb --upgrade"
      ],
      "text/plain": [
       "<IPython.core.display.HTML object>"
      ]
     },
     "metadata": {},
     "output_type": "display_data"
    },
    {
     "data": {
      "text/html": [
       "Tracking run with wandb version 0.16.3"
      ],
      "text/plain": [
       "<IPython.core.display.HTML object>"
      ]
     },
     "metadata": {},
     "output_type": "display_data"
    },
    {
     "data": {
      "text/html": [
       "Run data is saved locally in <code>c:\\Users\\CYP\\Documents\\GitHub\\AIAKI\\wandb\\run-20240319_050543-flj8yggo</code>"
      ],
      "text/plain": [
       "<IPython.core.display.HTML object>"
      ]
     },
     "metadata": {},
     "output_type": "display_data"
    },
    {
     "data": {
      "text/html": [
       "Syncing run <strong><a href='https://wandb.ai/dahs/IMV_LSTM_Rescue_new/runs/flj8yggo' target=\"_blank\">E-8</a></strong> to <a href='https://wandb.ai/dahs/IMV_LSTM_Rescue_new' target=\"_blank\">Weights & Biases</a> (<a href='https://wandb.me/run' target=\"_blank\">docs</a>)<br/>"
      ],
      "text/plain": [
       "<IPython.core.display.HTML object>"
      ]
     },
     "metadata": {},
     "output_type": "display_data"
    },
    {
     "data": {
      "text/html": [
       " View project at <a href='https://wandb.ai/dahs/IMV_LSTM_Rescue_new' target=\"_blank\">https://wandb.ai/dahs/IMV_LSTM_Rescue_new</a>"
      ],
      "text/plain": [
       "<IPython.core.display.HTML object>"
      ]
     },
     "metadata": {},
     "output_type": "display_data"
    },
    {
     "data": {
      "text/html": [
       " View run at <a href='https://wandb.ai/dahs/IMV_LSTM_Rescue_new/runs/flj8yggo' target=\"_blank\">https://wandb.ai/dahs/IMV_LSTM_Rescue_new/runs/flj8yggo</a>"
      ],
      "text/plain": [
       "<IPython.core.display.HTML object>"
      ]
     },
     "metadata": {},
     "output_type": "display_data"
    },
    {
     "name": "stderr",
     "output_type": "stream",
     "text": [
      "11645it [02:18, 84.11it/s]                           \n",
      "11645it [02:15, 86.17it/s]                           \n",
      "11645it [02:11, 88.47it/s]                           \n",
      "11645it [02:13, 87.05it/s]                           \n",
      "11645it [02:14, 86.77it/s]                           \n",
      "11645it [02:12, 87.70it/s]                           \n",
      "11645it [02:14, 86.74it/s]                           \n",
      "11645it [02:11, 88.85it/s]                           \n",
      "11645it [02:13, 87.33it/s]                           \n",
      "11645it [02:12, 87.65it/s]                            \n",
      "11645it [02:16, 85.13it/s]                           \n",
      "11645it [02:13, 87.39it/s]                           \n",
      "11645it [02:09, 89.94it/s]                           \n",
      "11645it [02:12, 88.12it/s]                           \n",
      "11645it [02:16, 85.49it/s]                           \n",
      "11645it [02:18, 84.37it/s]                           \n",
      "11645it [02:13, 87.26it/s]                            \n",
      "11645it [02:09, 89.69it/s]                           \n",
      "11645it [02:13, 87.02it/s]                           \n",
      "11645it [02:12, 87.97it/s]                           \n",
      "11645it [02:17, 84.94it/s]                           \n",
      "[I 2024-03-19 05:56:25,868] Trial 7 finished with value: 0.50002633670114 and parameters: {'batch_size': 64, 'n_units': 57, 'learning_rate': 0.0001, 'lr_decay': 0.6430934036559, 'lr_step': 20, 'negative_sampling': 10, 'loss': 'mse', 'CQL': 0, 'update_freq': 126, 'PPO': 0}. Best is trial 2 with value: 0.6329046698836351.\n"
     ]
    },
    {
     "data": {
      "text/html": [
       "Finishing last run (ID:flj8yggo) before initializing another..."
      ],
      "text/plain": [
       "<IPython.core.display.HTML object>"
      ]
     },
     "metadata": {},
     "output_type": "display_data"
    },
    {
     "data": {
      "text/html": [
       "<style>\n",
       "    table.wandb td:nth-child(1) { padding: 0 10px; text-align: left ; width: auto;} td:nth-child(2) {text-align: left ; width: 100%}\n",
       "    .wandb-row { display: flex; flex-direction: row; flex-wrap: wrap; justify-content: flex-start; width: 100% }\n",
       "    .wandb-col { display: flex; flex-direction: column; flex-basis: 100%; flex: 1; padding: 10px; }\n",
       "    </style>\n",
       "<div class=\"wandb-row\"><div class=\"wandb-col\"><h3>Run history:</h3><br/><table class=\"wandb\"><tr><td>AUROC</td><td>█▅▇▄▇██▇█▄▅▄▆▆▄▄▃▃▂▅▁</td></tr><tr><td>AUROC_median</td><td>█▆▇▄▇██▇▇▄▄▃▆▆▄▄▃▃▂▅▁</td></tr><tr><td>Iter:</td><td>▁▁▂▂▂▃▃▃▄▄▅▅▅▆▆▆▇▇▇██</td></tr><tr><td>auroc_24</td><td>█▆▇▄▆▇▇▇▇▃▅▃▅▆▃▄▃▃▂▅▁</td></tr><tr><td>auroc_24_med</td><td>█▆▇▄▆▇▇▇▇▃▄▃▅▅▃▄▃▂▂▅▁</td></tr><tr><td>auroc_p</td><td>███▇█▇▅▇▇▃▅▄▆▅▃▂▂▁▁▅▂</td></tr><tr><td>auroc_p_med</td><td>███▇▇▆▆▇▆▂▅▄▅▅▃▂▂▁▁▅▂</td></tr><tr><td>train:</td><td>█▁▁▁▁▁▁▁▁▁▁▁▁▁▁▁▁▁▁▁▁</td></tr><tr><td>val:</td><td>▁▁▂▂▁▁▁▂▁▂█▂▁▂▂▂▂▂▁▁▂</td></tr></table><br/></div><div class=\"wandb-col\"><h3>Run summary:</h3><br/><table class=\"wandb\"><tr><td>AUROC</td><td>0.50003</td></tr><tr><td>AUROC_median</td><td>0.49564</td></tr><tr><td>Iter:</td><td>20</td></tr><tr><td>auroc_24</td><td>0.47483</td></tr><tr><td>auroc_24_med</td><td>0.47237</td></tr><tr><td>auroc_p</td><td>0.68601</td></tr><tr><td>auroc_p_med</td><td>0.68944</td></tr><tr><td>train:</td><td>14.35747</td></tr><tr><td>val:</td><td>0.50585</td></tr></table><br/></div></div>"
      ],
      "text/plain": [
       "<IPython.core.display.HTML object>"
      ]
     },
     "metadata": {},
     "output_type": "display_data"
    },
    {
     "data": {
      "text/html": [
       " View run <strong style=\"color:#cdcd00\">E-8</strong> at: <a href='https://wandb.ai/dahs/IMV_LSTM_Rescue_new/runs/flj8yggo' target=\"_blank\">https://wandb.ai/dahs/IMV_LSTM_Rescue_new/runs/flj8yggo</a><br/>Synced 5 W&B file(s), 0 media file(s), 0 artifact file(s) and 0 other file(s)"
      ],
      "text/plain": [
       "<IPython.core.display.HTML object>"
      ]
     },
     "metadata": {},
     "output_type": "display_data"
    },
    {
     "data": {
      "text/html": [
       "Find logs at: <code>.\\wandb\\run-20240319_050543-flj8yggo\\logs</code>"
      ],
      "text/plain": [
       "<IPython.core.display.HTML object>"
      ]
     },
     "metadata": {},
     "output_type": "display_data"
    },
    {
     "data": {
      "text/html": [
       "Successfully finished last run (ID:flj8yggo). Initializing new run:<br/>"
      ],
      "text/plain": [
       "<IPython.core.display.HTML object>"
      ]
     },
     "metadata": {},
     "output_type": "display_data"
    },
    {
     "data": {
      "text/html": [
       "wandb version 0.16.4 is available!  To upgrade, please run:\n",
       " $ pip install wandb --upgrade"
      ],
      "text/plain": [
       "<IPython.core.display.HTML object>"
      ]
     },
     "metadata": {},
     "output_type": "display_data"
    },
    {
     "data": {
      "text/html": [
       "Tracking run with wandb version 0.16.3"
      ],
      "text/plain": [
       "<IPython.core.display.HTML object>"
      ]
     },
     "metadata": {},
     "output_type": "display_data"
    },
    {
     "data": {
      "text/html": [
       "Run data is saved locally in <code>c:\\Users\\CYP\\Documents\\GitHub\\AIAKI\\wandb\\run-20240319_055625-6n4015we</code>"
      ],
      "text/plain": [
       "<IPython.core.display.HTML object>"
      ]
     },
     "metadata": {},
     "output_type": "display_data"
    },
    {
     "data": {
      "text/html": [
       "Syncing run <strong><a href='https://wandb.ai/dahs/IMV_LSTM_Rescue_new/runs/6n4015we' target=\"_blank\">E-9</a></strong> to <a href='https://wandb.ai/dahs/IMV_LSTM_Rescue_new' target=\"_blank\">Weights & Biases</a> (<a href='https://wandb.me/run' target=\"_blank\">docs</a>)<br/>"
      ],
      "text/plain": [
       "<IPython.core.display.HTML object>"
      ]
     },
     "metadata": {},
     "output_type": "display_data"
    },
    {
     "data": {
      "text/html": [
       " View project at <a href='https://wandb.ai/dahs/IMV_LSTM_Rescue_new' target=\"_blank\">https://wandb.ai/dahs/IMV_LSTM_Rescue_new</a>"
      ],
      "text/plain": [
       "<IPython.core.display.HTML object>"
      ]
     },
     "metadata": {},
     "output_type": "display_data"
    },
    {
     "data": {
      "text/html": [
       " View run at <a href='https://wandb.ai/dahs/IMV_LSTM_Rescue_new/runs/6n4015we' target=\"_blank\">https://wandb.ai/dahs/IMV_LSTM_Rescue_new/runs/6n4015we</a>"
      ],
      "text/plain": [
       "<IPython.core.display.HTML object>"
      ]
     },
     "metadata": {},
     "output_type": "display_data"
    },
    {
     "name": "stderr",
     "output_type": "stream",
     "text": [
      " 99%|█████████▉| 5112/5145 [01:01<00:00, 82.59it/s]\n",
      " 99%|█████████▉| 5112/5145 [01:01<00:00, 83.72it/s]\n",
      " 99%|█████████▉| 5112/5145 [00:56<00:00, 91.25it/s] \n",
      " 99%|█████████▉| 5112/5145 [01:00<00:00, 85.07it/s]\n",
      " 99%|█████████▉| 5112/5145 [01:00<00:00, 84.80it/s]\n",
      " 99%|█████████▉| 5112/5145 [00:58<00:00, 86.76it/s] \n",
      " 99%|█████████▉| 5112/5145 [01:01<00:00, 83.62it/s]\n",
      " 99%|█████████▉| 5112/5145 [00:58<00:00, 87.34it/s] \n",
      " 99%|█████████▉| 5112/5145 [00:57<00:00, 88.32it/s]\n",
      " 99%|█████████▉| 5112/5145 [00:58<00:00, 87.65it/s]\n",
      " 99%|█████████▉| 5112/5145 [01:01<00:00, 83.64it/s]\n",
      " 99%|█████████▉| 5112/5145 [00:57<00:00, 88.72it/s]\n",
      " 99%|█████████▉| 5112/5145 [01:01<00:00, 82.90it/s]\n",
      " 99%|█████████▉| 5112/5145 [00:55<00:00, 91.49it/s]\n",
      " 99%|█████████▉| 5112/5145 [00:58<00:00, 87.40it/s]\n",
      " 99%|█████████▉| 5112/5145 [00:58<00:00, 87.75it/s]\n",
      " 99%|█████████▉| 5112/5145 [01:00<00:00, 85.01it/s]\n",
      " 99%|█████████▉| 5112/5145 [01:00<00:00, 84.06it/s]\n",
      " 99%|█████████▉| 5112/5145 [00:56<00:00, 89.88it/s]\n",
      " 99%|█████████▉| 5112/5145 [00:58<00:00, 87.24it/s]\n",
      " 99%|█████████▉| 5112/5145 [00:57<00:00, 89.11it/s]\n",
      "[I 2024-03-19 06:20:07,241] Trial 8 finished with value: 0.41054520730072797 and parameters: {'batch_size': 128, 'n_units': 18, 'learning_rate': 5e-05, 'lr_decay': 0.7949519347945544, 'lr_step': 14, 'negative_sampling': 5, 'loss': 'smooth_l1', 'CQL': 0, 'update_freq': 128, 'PPO': 0}. Best is trial 2 with value: 0.6329046698836351.\n"
     ]
    },
    {
     "data": {
      "text/html": [
       "Finishing last run (ID:6n4015we) before initializing another..."
      ],
      "text/plain": [
       "<IPython.core.display.HTML object>"
      ]
     },
     "metadata": {},
     "output_type": "display_data"
    },
    {
     "data": {
      "text/html": [
       "<style>\n",
       "    table.wandb td:nth-child(1) { padding: 0 10px; text-align: left ; width: auto;} td:nth-child(2) {text-align: left ; width: 100%}\n",
       "    .wandb-row { display: flex; flex-direction: row; flex-wrap: wrap; justify-content: flex-start; width: 100% }\n",
       "    .wandb-col { display: flex; flex-direction: column; flex-basis: 100%; flex: 1; padding: 10px; }\n",
       "    </style>\n",
       "<div class=\"wandb-row\"><div class=\"wandb-col\"><h3>Run history:</h3><br/><table class=\"wandb\"><tr><td>AUROC</td><td>█▅▂▁▁▂▃▃▃▂▂▂▂▂▂▂▂▂▂▂▂</td></tr><tr><td>AUROC_median</td><td>█▅▂▁▁▂▃▃▃▂▂▂▂▂▂▁▂▂▂▂▂</td></tr><tr><td>Iter:</td><td>▁▁▂▂▂▃▃▃▄▄▅▅▅▆▆▆▇▇▇██</td></tr><tr><td>auroc_24</td><td>█▆▃▂▂▂▃▃▃▂▂▂▂▁▁▁▁▁▁▁▁</td></tr><tr><td>auroc_24_med</td><td>█▆▃▂▂▂▃▃▃▂▂▂▂▁▁▁▁▁▁▁▁</td></tr><tr><td>auroc_p</td><td>▁▅▇▆▆▅▆▇██▇▇▆▆▆▅▅▅▅▄▅</td></tr><tr><td>auroc_p_med</td><td>▁▅▆▇▆▅▆▇█▇▇▇▆▆▆▅▅▅▅▄▅</td></tr><tr><td>train:</td><td>█▂▁▁▁▁▁▁▁▁▁▁▁▁▁▁▁▁▁▁▁</td></tr><tr><td>val:</td><td>█▇▃▂▁▁▁▁▂▂▂▂▂▂▂▂▃▂▃▂▃</td></tr></table><br/></div><div class=\"wandb-col\"><h3>Run summary:</h3><br/><table class=\"wandb\"><tr><td>AUROC</td><td>0.41055</td></tr><tr><td>AUROC_median</td><td>0.40884</td></tr><tr><td>Iter:</td><td>20</td></tr><tr><td>auroc_24</td><td>0.37285</td></tr><tr><td>auroc_24_med</td><td>0.37209</td></tr><tr><td>auroc_p</td><td>0.48225</td></tr><tr><td>auroc_p_med</td><td>0.48969</td></tr><tr><td>train:</td><td>4.01059</td></tr><tr><td>val:</td><td>0.27771</td></tr></table><br/></div></div>"
      ],
      "text/plain": [
       "<IPython.core.display.HTML object>"
      ]
     },
     "metadata": {},
     "output_type": "display_data"
    },
    {
     "data": {
      "text/html": [
       " View run <strong style=\"color:#cdcd00\">E-9</strong> at: <a href='https://wandb.ai/dahs/IMV_LSTM_Rescue_new/runs/6n4015we' target=\"_blank\">https://wandb.ai/dahs/IMV_LSTM_Rescue_new/runs/6n4015we</a><br/>Synced 5 W&B file(s), 0 media file(s), 0 artifact file(s) and 0 other file(s)"
      ],
      "text/plain": [
       "<IPython.core.display.HTML object>"
      ]
     },
     "metadata": {},
     "output_type": "display_data"
    },
    {
     "data": {
      "text/html": [
       "Find logs at: <code>.\\wandb\\run-20240319_055625-6n4015we\\logs</code>"
      ],
      "text/plain": [
       "<IPython.core.display.HTML object>"
      ]
     },
     "metadata": {},
     "output_type": "display_data"
    },
    {
     "data": {
      "text/html": [
       "Successfully finished last run (ID:6n4015we). Initializing new run:<br/>"
      ],
      "text/plain": [
       "<IPython.core.display.HTML object>"
      ]
     },
     "metadata": {},
     "output_type": "display_data"
    },
    {
     "data": {
      "text/html": [
       "wandb version 0.16.4 is available!  To upgrade, please run:\n",
       " $ pip install wandb --upgrade"
      ],
      "text/plain": [
       "<IPython.core.display.HTML object>"
      ]
     },
     "metadata": {},
     "output_type": "display_data"
    },
    {
     "data": {
      "text/html": [
       "Tracking run with wandb version 0.16.3"
      ],
      "text/plain": [
       "<IPython.core.display.HTML object>"
      ]
     },
     "metadata": {},
     "output_type": "display_data"
    },
    {
     "data": {
      "text/html": [
       "Run data is saved locally in <code>c:\\Users\\CYP\\Documents\\GitHub\\AIAKI\\wandb\\run-20240319_062007-dx5n58gz</code>"
      ],
      "text/plain": [
       "<IPython.core.display.HTML object>"
      ]
     },
     "metadata": {},
     "output_type": "display_data"
    },
    {
     "data": {
      "text/html": [
       "Syncing run <strong><a href='https://wandb.ai/dahs/IMV_LSTM_Rescue_new/runs/dx5n58gz' target=\"_blank\">E-10</a></strong> to <a href='https://wandb.ai/dahs/IMV_LSTM_Rescue_new' target=\"_blank\">Weights & Biases</a> (<a href='https://wandb.me/run' target=\"_blank\">docs</a>)<br/>"
      ],
      "text/plain": [
       "<IPython.core.display.HTML object>"
      ]
     },
     "metadata": {},
     "output_type": "display_data"
    },
    {
     "data": {
      "text/html": [
       " View project at <a href='https://wandb.ai/dahs/IMV_LSTM_Rescue_new' target=\"_blank\">https://wandb.ai/dahs/IMV_LSTM_Rescue_new</a>"
      ],
      "text/plain": [
       "<IPython.core.display.HTML object>"
      ]
     },
     "metadata": {},
     "output_type": "display_data"
    },
    {
     "data": {
      "text/html": [
       " View run at <a href='https://wandb.ai/dahs/IMV_LSTM_Rescue_new/runs/dx5n58gz' target=\"_blank\">https://wandb.ai/dahs/IMV_LSTM_Rescue_new/runs/dx5n58gz</a>"
      ],
      "text/plain": [
       "<IPython.core.display.HTML object>"
      ]
     },
     "metadata": {},
     "output_type": "display_data"
    },
    {
     "name": "stderr",
     "output_type": "stream",
     "text": [
      " 99%|█████████▊| 2535/2572 [01:04<00:00, 39.43it/s]\n",
      " 99%|█████████▊| 2535/2572 [01:00<00:00, 42.10it/s]\n",
      " 99%|█████████▊| 2535/2572 [01:00<00:00, 42.24it/s]\n",
      " 99%|█████████▊| 2535/2572 [01:00<00:00, 42.19it/s]\n",
      " 99%|█████████▊| 2535/2572 [01:00<00:00, 42.23it/s]\n",
      " 99%|█████████▊| 2535/2572 [01:00<00:00, 42.16it/s]\n",
      " 99%|█████████▊| 2535/2572 [01:00<00:00, 42.23it/s]\n",
      " 99%|█████████▊| 2535/2572 [00:59<00:00, 42.31it/s]\n",
      " 99%|█████████▊| 2535/2572 [01:00<00:00, 42.22it/s]\n",
      " 99%|█████████▊| 2535/2572 [00:59<00:00, 42.27it/s]\n",
      " 99%|█████████▊| 2535/2572 [01:00<00:00, 42.21it/s]\n",
      " 99%|█████████▊| 2535/2572 [00:59<00:00, 42.37it/s]\n",
      " 99%|█████████▊| 2535/2572 [00:59<00:00, 42.42it/s]\n",
      " 99%|█████████▊| 2535/2572 [00:59<00:00, 42.33it/s]\n",
      " 99%|█████████▊| 2535/2572 [00:59<00:00, 42.36it/s]\n",
      " 99%|█████████▊| 2535/2572 [01:00<00:00, 42.20it/s]\n",
      " 99%|█████████▊| 2535/2572 [00:59<00:00, 42.36it/s]\n",
      " 99%|█████████▊| 2535/2572 [00:59<00:00, 42.37it/s]\n",
      " 99%|█████████▊| 2535/2572 [00:59<00:00, 42.25it/s]\n",
      " 99%|█████████▊| 2535/2572 [01:00<00:00, 42.21it/s]\n",
      " 99%|█████████▊| 2535/2572 [01:00<00:00, 42.20it/s]\n",
      "[I 2024-03-19 06:45:19,095] Trial 9 finished with value: 0.3546925399809513 and parameters: {'batch_size': 256, 'n_units': 61, 'learning_rate': 0.005, 'lr_decay': 0.5485692696274571, 'lr_step': 10, 'negative_sampling': 8, 'loss': 'smooth_l1', 'CQL': 0, 'update_freq': 118, 'PPO': 0}. Best is trial 2 with value: 0.6329046698836351.\n"
     ]
    },
    {
     "data": {
      "text/html": [
       "Finishing last run (ID:dx5n58gz) before initializing another..."
      ],
      "text/plain": [
       "<IPython.core.display.HTML object>"
      ]
     },
     "metadata": {},
     "output_type": "display_data"
    },
    {
     "data": {
      "text/html": [
       "<style>\n",
       "    table.wandb td:nth-child(1) { padding: 0 10px; text-align: left ; width: auto;} td:nth-child(2) {text-align: left ; width: 100%}\n",
       "    .wandb-row { display: flex; flex-direction: row; flex-wrap: wrap; justify-content: flex-start; width: 100% }\n",
       "    .wandb-col { display: flex; flex-direction: column; flex-basis: 100%; flex: 1; padding: 10px; }\n",
       "    </style>\n",
       "<div class=\"wandb-row\"><div class=\"wandb-col\"><h3>Run history:</h3><br/><table class=\"wandb\"><tr><td>AUROC</td><td>█▇▇▇▇▇▆▆▅▅▄▃▃▃▂▁▁▁▁▁▁</td></tr><tr><td>AUROC_median</td><td>█▇▇▇▇▇▆▆▅▅▄▃▃▃▂▁▁▁▁▁▁</td></tr><tr><td>Iter:</td><td>▁▁▂▂▂▃▃▃▄▄▅▅▅▆▆▆▇▇▇██</td></tr><tr><td>auroc_24</td><td>█▇▇▇▇▇▆▆▅▅▄▃▃▃▂▁▁▁▁▁▁</td></tr><tr><td>auroc_24_med</td><td>█▇▇▇▇▇▆▆▅▅▄▃▃▃▂▁▁▁▁▁▁</td></tr><tr><td>auroc_p</td><td>████████▇▇▆▅▄▄▃▂▂▁▁▁▁</td></tr><tr><td>auroc_p_med</td><td>████████▇▇▆▅▄▄▃▂▂▁▁▁▁</td></tr><tr><td>train:</td><td>█▂▂▁▁▁▁▁▁▁▁▁▁▁▁▁▁▁▁▁▁</td></tr><tr><td>val:</td><td>█▄▂▂▁▁▁▁▁▁▁▁▁▁▁▁▂▂▂▂▂</td></tr></table><br/></div><div class=\"wandb-col\"><h3>Run summary:</h3><br/><table class=\"wandb\"><tr><td>AUROC</td><td>0.35469</td></tr><tr><td>AUROC_median</td><td>0.35163</td></tr><tr><td>Iter:</td><td>20</td></tr><tr><td>auroc_24</td><td>0.34287</td></tr><tr><td>auroc_24_med</td><td>0.33922</td></tr><tr><td>auroc_p</td><td>0.28425</td></tr><tr><td>auroc_p_med</td><td>0.29109</td></tr><tr><td>train:</td><td>2.51847</td></tr><tr><td>val:</td><td>0.50486</td></tr></table><br/></div></div>"
      ],
      "text/plain": [
       "<IPython.core.display.HTML object>"
      ]
     },
     "metadata": {},
     "output_type": "display_data"
    },
    {
     "data": {
      "text/html": [
       " View run <strong style=\"color:#cdcd00\">E-10</strong> at: <a href='https://wandb.ai/dahs/IMV_LSTM_Rescue_new/runs/dx5n58gz' target=\"_blank\">https://wandb.ai/dahs/IMV_LSTM_Rescue_new/runs/dx5n58gz</a><br/>Synced 5 W&B file(s), 0 media file(s), 0 artifact file(s) and 0 other file(s)"
      ],
      "text/plain": [
       "<IPython.core.display.HTML object>"
      ]
     },
     "metadata": {},
     "output_type": "display_data"
    },
    {
     "data": {
      "text/html": [
       "Find logs at: <code>.\\wandb\\run-20240319_062007-dx5n58gz\\logs</code>"
      ],
      "text/plain": [
       "<IPython.core.display.HTML object>"
      ]
     },
     "metadata": {},
     "output_type": "display_data"
    },
    {
     "data": {
      "text/html": [
       "Successfully finished last run (ID:dx5n58gz). Initializing new run:<br/>"
      ],
      "text/plain": [
       "<IPython.core.display.HTML object>"
      ]
     },
     "metadata": {},
     "output_type": "display_data"
    },
    {
     "data": {
      "text/html": [
       "wandb version 0.16.4 is available!  To upgrade, please run:\n",
       " $ pip install wandb --upgrade"
      ],
      "text/plain": [
       "<IPython.core.display.HTML object>"
      ]
     },
     "metadata": {},
     "output_type": "display_data"
    },
    {
     "data": {
      "text/html": [
       "Tracking run with wandb version 0.16.3"
      ],
      "text/plain": [
       "<IPython.core.display.HTML object>"
      ]
     },
     "metadata": {},
     "output_type": "display_data"
    },
    {
     "data": {
      "text/html": [
       "Run data is saved locally in <code>c:\\Users\\CYP\\Documents\\GitHub\\AIAKI\\wandb\\run-20240319_064519-wygk3k82</code>"
      ],
      "text/plain": [
       "<IPython.core.display.HTML object>"
      ]
     },
     "metadata": {},
     "output_type": "display_data"
    },
    {
     "data": {
      "text/html": [
       "Syncing run <strong><a href='https://wandb.ai/dahs/IMV_LSTM_Rescue_new/runs/wygk3k82' target=\"_blank\">E-11</a></strong> to <a href='https://wandb.ai/dahs/IMV_LSTM_Rescue_new' target=\"_blank\">Weights & Biases</a> (<a href='https://wandb.me/run' target=\"_blank\">docs</a>)<br/>"
      ],
      "text/plain": [
       "<IPython.core.display.HTML object>"
      ]
     },
     "metadata": {},
     "output_type": "display_data"
    },
    {
     "data": {
      "text/html": [
       " View project at <a href='https://wandb.ai/dahs/IMV_LSTM_Rescue_new' target=\"_blank\">https://wandb.ai/dahs/IMV_LSTM_Rescue_new</a>"
      ],
      "text/plain": [
       "<IPython.core.display.HTML object>"
      ]
     },
     "metadata": {},
     "output_type": "display_data"
    },
    {
     "data": {
      "text/html": [
       " View run at <a href='https://wandb.ai/dahs/IMV_LSTM_Rescue_new/runs/wygk3k82' target=\"_blank\">https://wandb.ai/dahs/IMV_LSTM_Rescue_new/runs/wygk3k82</a>"
      ],
      "text/plain": [
       "<IPython.core.display.HTML object>"
      ]
     },
     "metadata": {},
     "output_type": "display_data"
    },
    {
     "name": "stderr",
     "output_type": "stream",
     "text": [
      "20962it [03:49, 91.17it/s]                            \n",
      "20962it [03:52, 90.09it/s]                            \n",
      "20962it [03:51, 90.60it/s]                            \n",
      "20962it [03:50, 90.98it/s]                            \n",
      "20962it [03:52, 90.17it/s]                            \n",
      "20962it [03:52, 90.11it/s]                            \n",
      "20962it [03:48, 91.87it/s]                            \n",
      "20962it [03:48, 91.61it/s]                            \n",
      "20962it [03:45, 92.79it/s]                            \n",
      "20962it [03:45, 92.97it/s]                            \n",
      "20962it [03:49, 91.30it/s]                            \n",
      "20962it [03:46, 92.44it/s]                            \n",
      "20962it [03:46, 92.69it/s]                            \n",
      "20962it [03:53, 89.82it/s]                            \n",
      "20962it [03:47, 92.01it/s]                            \n",
      "20962it [03:45, 92.99it/s]                            \n",
      "20962it [03:57, 88.42it/s]                            \n",
      "20962it [03:52, 90.29it/s]                            \n",
      "20962it [03:46, 92.49it/s]                            \n",
      "20962it [03:57, 88.15it/s]                            \n",
      "20962it [03:51, 90.65it/s]                            \n",
      "[I 2024-03-19 08:08:51,928] Trial 10 finished with value: 0.37223889237906393 and parameters: {'batch_size': 32, 'n_units': 24, 'learning_rate': 0.001, 'lr_decay': 0.9542684862960304, 'lr_step': 1, 'negative_sampling': 2, 'loss': 'smooth_l1', 'CQL': 0, 'update_freq': 8, 'PPO': 0}. Best is trial 2 with value: 0.6329046698836351.\n"
     ]
    },
    {
     "data": {
      "text/html": [
       "Finishing last run (ID:wygk3k82) before initializing another..."
      ],
      "text/plain": [
       "<IPython.core.display.HTML object>"
      ]
     },
     "metadata": {},
     "output_type": "display_data"
    },
    {
     "data": {
      "text/html": [
       "<style>\n",
       "    table.wandb td:nth-child(1) { padding: 0 10px; text-align: left ; width: auto;} td:nth-child(2) {text-align: left ; width: 100%}\n",
       "    .wandb-row { display: flex; flex-direction: row; flex-wrap: wrap; justify-content: flex-start; width: 100% }\n",
       "    .wandb-col { display: flex; flex-direction: column; flex-basis: 100%; flex: 1; padding: 10px; }\n",
       "    </style>\n",
       "<div class=\"wandb-row\"><div class=\"wandb-col\"><h3>Run history:</h3><br/><table class=\"wandb\"><tr><td>AUROC</td><td>▁▄▇▂▇█▅▅▂▄▄▃▆▇▃▆▅█▅█▆</td></tr><tr><td>AUROC_median</td><td>▁▄▇▂▇█▆▄▂▄▄▃▆▇▃▆▅█▅█▆</td></tr><tr><td>Iter:</td><td>▁▁▂▂▂▃▃▃▄▄▅▅▅▆▆▆▇▇▇██</td></tr><tr><td>auroc_24</td><td>▄▄▇▆▇█▆▅▁▄▅▄▅▆▃▅▅▇▇█▇</td></tr><tr><td>auroc_24_med</td><td>▄▄▇▆▇█▆▅▁▄▅▄▅▆▃▅▅▇▇█▇</td></tr><tr><td>auroc_p</td><td>▁▁▁▂▃▂▃▃▄▃▆▃▇█▆▇▇▃▄▇▅</td></tr><tr><td>auroc_p_med</td><td>▂▁▁▂▃▂▄▃▄▃▆▃▇█▆▇▇▄▄▇▅</td></tr><tr><td>train:</td><td>▁▂▂▃▃▄▄▅▅▅▆▆▆▇▇▇▇▇███</td></tr><tr><td>val:</td><td>▁▂▂▃▃▄▄▅▅▅▆▆▆▇▇▇▇▇███</td></tr></table><br/></div><div class=\"wandb-col\"><h3>Run summary:</h3><br/><table class=\"wandb\"><tr><td>AUROC</td><td>0.37224</td></tr><tr><td>AUROC_median</td><td>0.37224</td></tr><tr><td>Iter:</td><td>20</td></tr><tr><td>auroc_24</td><td>0.35628</td></tr><tr><td>auroc_24_med</td><td>0.35627</td></tr><tr><td>auroc_p</td><td>0.29269</td></tr><tr><td>auroc_p_med</td><td>0.29277</td></tr><tr><td>train:</td><td>1363234.74997</td></tr><tr><td>val:</td><td>17705.61337</td></tr></table><br/></div></div>"
      ],
      "text/plain": [
       "<IPython.core.display.HTML object>"
      ]
     },
     "metadata": {},
     "output_type": "display_data"
    },
    {
     "data": {
      "text/html": [
       " View run <strong style=\"color:#cdcd00\">E-11</strong> at: <a href='https://wandb.ai/dahs/IMV_LSTM_Rescue_new/runs/wygk3k82' target=\"_blank\">https://wandb.ai/dahs/IMV_LSTM_Rescue_new/runs/wygk3k82</a><br/>Synced 5 W&B file(s), 0 media file(s), 0 artifact file(s) and 0 other file(s)"
      ],
      "text/plain": [
       "<IPython.core.display.HTML object>"
      ]
     },
     "metadata": {},
     "output_type": "display_data"
    },
    {
     "data": {
      "text/html": [
       "Find logs at: <code>.\\wandb\\run-20240319_064519-wygk3k82\\logs</code>"
      ],
      "text/plain": [
       "<IPython.core.display.HTML object>"
      ]
     },
     "metadata": {},
     "output_type": "display_data"
    },
    {
     "data": {
      "text/html": [
       "Successfully finished last run (ID:wygk3k82). Initializing new run:<br/>"
      ],
      "text/plain": [
       "<IPython.core.display.HTML object>"
      ]
     },
     "metadata": {},
     "output_type": "display_data"
    },
    {
     "data": {
      "text/html": [
       "wandb version 0.16.4 is available!  To upgrade, please run:\n",
       " $ pip install wandb --upgrade"
      ],
      "text/plain": [
       "<IPython.core.display.HTML object>"
      ]
     },
     "metadata": {},
     "output_type": "display_data"
    },
    {
     "data": {
      "text/html": [
       "Tracking run with wandb version 0.16.3"
      ],
      "text/plain": [
       "<IPython.core.display.HTML object>"
      ]
     },
     "metadata": {},
     "output_type": "display_data"
    },
    {
     "data": {
      "text/html": [
       "Run data is saved locally in <code>c:\\Users\\CYP\\Documents\\GitHub\\AIAKI\\wandb\\run-20240319_080851-30yj0v6x</code>"
      ],
      "text/plain": [
       "<IPython.core.display.HTML object>"
      ]
     },
     "metadata": {},
     "output_type": "display_data"
    },
    {
     "data": {
      "text/html": [
       "Syncing run <strong><a href='https://wandb.ai/dahs/IMV_LSTM_Rescue_new/runs/30yj0v6x' target=\"_blank\">E-12</a></strong> to <a href='https://wandb.ai/dahs/IMV_LSTM_Rescue_new' target=\"_blank\">Weights & Biases</a> (<a href='https://wandb.me/run' target=\"_blank\">docs</a>)<br/>"
      ],
      "text/plain": [
       "<IPython.core.display.HTML object>"
      ]
     },
     "metadata": {},
     "output_type": "display_data"
    },
    {
     "data": {
      "text/html": [
       " View project at <a href='https://wandb.ai/dahs/IMV_LSTM_Rescue_new' target=\"_blank\">https://wandb.ai/dahs/IMV_LSTM_Rescue_new</a>"
      ],
      "text/plain": [
       "<IPython.core.display.HTML object>"
      ]
     },
     "metadata": {},
     "output_type": "display_data"
    },
    {
     "data": {
      "text/html": [
       " View run at <a href='https://wandb.ai/dahs/IMV_LSTM_Rescue_new/runs/30yj0v6x' target=\"_blank\">https://wandb.ai/dahs/IMV_LSTM_Rescue_new/runs/30yj0v6x</a>"
      ],
      "text/plain": [
       "<IPython.core.display.HTML object>"
      ]
     },
     "metadata": {},
     "output_type": "display_data"
    },
    {
     "name": "stderr",
     "output_type": "stream",
     "text": [
      " 99%|█████████▉| 2556/2572 [00:48<00:00, 52.41it/s]\n",
      " 99%|█████████▉| 2556/2572 [00:44<00:00, 57.48it/s]\n",
      " 99%|█████████▉| 2556/2572 [00:44<00:00, 57.99it/s]\n",
      " 99%|█████████▉| 2556/2572 [00:44<00:00, 57.71it/s]\n",
      " 99%|█████████▉| 2556/2572 [00:44<00:00, 57.65it/s]\n",
      " 99%|█████████▉| 2556/2572 [00:44<00:00, 56.98it/s]\n",
      " 99%|█████████▉| 2556/2572 [00:44<00:00, 57.99it/s]\n",
      " 99%|█████████▉| 2556/2572 [00:43<00:00, 58.14it/s]\n",
      " 99%|█████████▉| 2556/2572 [00:44<00:00, 57.73it/s]\n",
      " 99%|█████████▉| 2556/2572 [00:43<00:00, 58.28it/s]\n",
      " 99%|█████████▉| 2556/2572 [00:44<00:00, 57.74it/s]\n",
      " 99%|█████████▉| 2556/2572 [00:43<00:00, 58.17it/s]\n",
      " 99%|█████████▉| 2556/2572 [00:44<00:00, 57.84it/s]\n",
      " 99%|█████████▉| 2556/2572 [00:43<00:00, 58.18it/s]\n",
      " 99%|█████████▉| 2556/2572 [00:44<00:00, 57.83it/s]\n",
      " 99%|█████████▉| 2556/2572 [00:44<00:00, 57.73it/s]\n",
      " 99%|█████████▉| 2556/2572 [00:43<00:00, 58.16it/s]\n",
      " 99%|█████████▉| 2556/2572 [00:44<00:00, 57.69it/s]\n",
      " 99%|█████████▉| 2556/2572 [00:43<00:00, 58.12it/s]\n",
      " 99%|█████████▉| 2556/2572 [00:44<00:00, 57.78it/s]\n",
      " 99%|█████████▉| 2556/2572 [00:43<00:00, 58.14it/s]\n",
      "[I 2024-03-19 08:27:50,588] Trial 11 finished with value: 0.41082090215573325 and parameters: {'batch_size': 256, 'n_units': 37, 'learning_rate': 0.0005, 'lr_decay': 0.8897563156083651, 'lr_step': 1, 'negative_sampling': 10, 'loss': 'mse', 'CQL': 0, 'update_freq': 45, 'PPO': 0}. Best is trial 2 with value: 0.6329046698836351.\n"
     ]
    },
    {
     "data": {
      "text/html": [
       "Finishing last run (ID:30yj0v6x) before initializing another..."
      ],
      "text/plain": [
       "<IPython.core.display.HTML object>"
      ]
     },
     "metadata": {},
     "output_type": "display_data"
    },
    {
     "data": {
      "text/html": [
       "<style>\n",
       "    table.wandb td:nth-child(1) { padding: 0 10px; text-align: left ; width: auto;} td:nth-child(2) {text-align: left ; width: 100%}\n",
       "    .wandb-row { display: flex; flex-direction: row; flex-wrap: wrap; justify-content: flex-start; width: 100% }\n",
       "    .wandb-col { display: flex; flex-direction: column; flex-basis: 100%; flex: 1; padding: 10px; }\n",
       "    </style>\n",
       "<div class=\"wandb-row\"><div class=\"wandb-col\"><h3>Run history:</h3><br/><table class=\"wandb\"><tr><td>AUROC</td><td>██▆▆▄▂▂▃▄▆▆▅▄▃▄▃▂▁▁▁▁</td></tr><tr><td>AUROC_median</td><td>██▇▆▄▂▂▃▄▆▆▅▄▄▃▃▂▁▁▁▁</td></tr><tr><td>Iter:</td><td>▁▁▂▂▂▃▃▃▄▄▅▅▅▆▆▆▇▇▇██</td></tr><tr><td>auroc_24</td><td>██▆▅▄▂▂▃▄▅▅▅▄▃▃▃▂▁▁▁▁</td></tr><tr><td>auroc_24_med</td><td>██▆▆▄▂▂▃▄▅▅▅▄▃▃▃▂▁▁▁▁</td></tr><tr><td>auroc_p</td><td>███▇▅▂▁▂▃▆▆▅▄▄▄▃▃▂▁▁▁</td></tr><tr><td>auroc_p_med</td><td>███▇▅▂▁▂▃▆▆▅▄▄▄▃▃▂▁▁▁</td></tr><tr><td>train:</td><td>█▁▁▁▁▁▁▁▁▁▁▁▁▁▁▁▁▁▁▁▁</td></tr><tr><td>val:</td><td>▃▄▂▁▇▅▆▅▂▁▂▃▃▃▃▅▅▆▇▇█</td></tr></table><br/></div><div class=\"wandb-col\"><h3>Run summary:</h3><br/><table class=\"wandb\"><tr><td>AUROC</td><td>0.41082</td></tr><tr><td>AUROC_median</td><td>0.40996</td></tr><tr><td>Iter:</td><td>20</td></tr><tr><td>auroc_24</td><td>0.38882</td></tr><tr><td>auroc_24_med</td><td>0.38991</td></tr><tr><td>auroc_p</td><td>0.47667</td></tr><tr><td>auroc_p_med</td><td>0.48047</td></tr><tr><td>train:</td><td>4.36797</td></tr><tr><td>val:</td><td>0.64098</td></tr></table><br/></div></div>"
      ],
      "text/plain": [
       "<IPython.core.display.HTML object>"
      ]
     },
     "metadata": {},
     "output_type": "display_data"
    },
    {
     "data": {
      "text/html": [
       " View run <strong style=\"color:#cdcd00\">E-12</strong> at: <a href='https://wandb.ai/dahs/IMV_LSTM_Rescue_new/runs/30yj0v6x' target=\"_blank\">https://wandb.ai/dahs/IMV_LSTM_Rescue_new/runs/30yj0v6x</a><br/>Synced 5 W&B file(s), 0 media file(s), 0 artifact file(s) and 0 other file(s)"
      ],
      "text/plain": [
       "<IPython.core.display.HTML object>"
      ]
     },
     "metadata": {},
     "output_type": "display_data"
    },
    {
     "data": {
      "text/html": [
       "Find logs at: <code>.\\wandb\\run-20240319_080851-30yj0v6x\\logs</code>"
      ],
      "text/plain": [
       "<IPython.core.display.HTML object>"
      ]
     },
     "metadata": {},
     "output_type": "display_data"
    },
    {
     "data": {
      "text/html": [
       "Successfully finished last run (ID:30yj0v6x). Initializing new run:<br/>"
      ],
      "text/plain": [
       "<IPython.core.display.HTML object>"
      ]
     },
     "metadata": {},
     "output_type": "display_data"
    },
    {
     "data": {
      "text/html": [
       "wandb version 0.16.4 is available!  To upgrade, please run:\n",
       " $ pip install wandb --upgrade"
      ],
      "text/plain": [
       "<IPython.core.display.HTML object>"
      ]
     },
     "metadata": {},
     "output_type": "display_data"
    },
    {
     "data": {
      "text/html": [
       "Tracking run with wandb version 0.16.3"
      ],
      "text/plain": [
       "<IPython.core.display.HTML object>"
      ]
     },
     "metadata": {},
     "output_type": "display_data"
    },
    {
     "data": {
      "text/html": [
       "Run data is saved locally in <code>c:\\Users\\CYP\\Documents\\GitHub\\AIAKI\\wandb\\run-20240319_082750-ie7f14km</code>"
      ],
      "text/plain": [
       "<IPython.core.display.HTML object>"
      ]
     },
     "metadata": {},
     "output_type": "display_data"
    },
    {
     "data": {
      "text/html": [
       "Syncing run <strong><a href='https://wandb.ai/dahs/IMV_LSTM_Rescue_new/runs/ie7f14km' target=\"_blank\">E-13</a></strong> to <a href='https://wandb.ai/dahs/IMV_LSTM_Rescue_new' target=\"_blank\">Weights & Biases</a> (<a href='https://wandb.me/run' target=\"_blank\">docs</a>)<br/>"
      ],
      "text/plain": [
       "<IPython.core.display.HTML object>"
      ]
     },
     "metadata": {},
     "output_type": "display_data"
    },
    {
     "data": {
      "text/html": [
       " View project at <a href='https://wandb.ai/dahs/IMV_LSTM_Rescue_new' target=\"_blank\">https://wandb.ai/dahs/IMV_LSTM_Rescue_new</a>"
      ],
      "text/plain": [
       "<IPython.core.display.HTML object>"
      ]
     },
     "metadata": {},
     "output_type": "display_data"
    },
    {
     "data": {
      "text/html": [
       " View run at <a href='https://wandb.ai/dahs/IMV_LSTM_Rescue_new/runs/ie7f14km' target=\"_blank\">https://wandb.ai/dahs/IMV_LSTM_Rescue_new/runs/ie7f14km</a>"
      ],
      "text/plain": [
       "<IPython.core.display.HTML object>"
      ]
     },
     "metadata": {},
     "output_type": "display_data"
    },
    {
     "name": "stderr",
     "output_type": "stream",
     "text": [
      " 98%|█████████▊| 2525/2572 [00:46<00:00, 53.86it/s]\n",
      " 98%|█████████▊| 2525/2572 [00:41<00:00, 60.24it/s]\n",
      " 98%|█████████▊| 2525/2572 [00:42<00:00, 59.60it/s]\n",
      " 98%|█████████▊| 2525/2572 [00:42<00:00, 59.88it/s]\n",
      " 98%|█████████▊| 2525/2572 [00:42<00:00, 59.98it/s]\n",
      " 98%|█████████▊| 2525/2572 [00:42<00:00, 59.60it/s]\n",
      " 98%|█████████▊| 2525/2572 [00:42<00:00, 59.86it/s]\n",
      " 98%|█████████▊| 2525/2572 [00:42<00:00, 59.14it/s]\n",
      " 98%|█████████▊| 2525/2572 [00:41<00:00, 60.12it/s]\n",
      " 98%|█████████▊| 2525/2572 [00:42<00:00, 59.59it/s]\n",
      " 98%|█████████▊| 2525/2572 [00:43<00:00, 58.11it/s]\n",
      " 98%|█████████▊| 2525/2572 [00:44<00:00, 56.48it/s]\n",
      " 98%|█████████▊| 2525/2572 [00:44<00:00, 57.19it/s]\n",
      " 98%|█████████▊| 2525/2572 [00:43<00:00, 57.96it/s]\n",
      " 98%|█████████▊| 2525/2572 [00:43<00:00, 57.83it/s]\n",
      " 98%|█████████▊| 2525/2572 [00:43<00:00, 58.33it/s]\n",
      " 98%|█████████▊| 2525/2572 [00:43<00:00, 57.73it/s]\n",
      " 98%|█████████▊| 2525/2572 [00:43<00:00, 57.74it/s]\n",
      " 98%|█████████▊| 2525/2572 [00:43<00:00, 57.62it/s]\n",
      " 98%|█████████▊| 2525/2572 [00:44<00:00, 57.12it/s]\n",
      " 98%|█████████▊| 2525/2572 [00:42<00:00, 58.81it/s]\n",
      "[I 2024-03-19 08:46:21,493] Trial 12 finished with value: 0.5630313705848959 and parameters: {'batch_size': 256, 'n_units': 35, 'learning_rate': 0.0005, 'lr_decay': 0.8665573183738889, 'lr_step': 5, 'negative_sampling': 7, 'loss': 'mse', 'CQL': 0, 'update_freq': 34, 'PPO': 0}. Best is trial 2 with value: 0.6329046698836351.\n"
     ]
    },
    {
     "data": {
      "text/html": [
       "Finishing last run (ID:ie7f14km) before initializing another..."
      ],
      "text/plain": [
       "<IPython.core.display.HTML object>"
      ]
     },
     "metadata": {},
     "output_type": "display_data"
    },
    {
     "data": {
      "text/html": [
       "<style>\n",
       "    table.wandb td:nth-child(1) { padding: 0 10px; text-align: left ; width: auto;} td:nth-child(2) {text-align: left ; width: 100%}\n",
       "    .wandb-row { display: flex; flex-direction: row; flex-wrap: wrap; justify-content: flex-start; width: 100% }\n",
       "    .wandb-col { display: flex; flex-direction: column; flex-basis: 100%; flex: 1; padding: 10px; }\n",
       "    </style>\n",
       "<div class=\"wandb-row\"><div class=\"wandb-col\"><h3>Run history:</h3><br/><table class=\"wandb\"><tr><td>AUROC</td><td>█▄▂▃▄▃▁▄▇▆▄▄▄▄▂▁▂▃▃▂▃</td></tr><tr><td>AUROC_median</td><td>█▅▂▃▄▃▁▄▇▆▄▄▄▄▂▁▂▃▃▂▃</td></tr><tr><td>Iter:</td><td>▁▁▂▂▂▃▃▃▄▄▅▅▅▆▆▆▇▇▇██</td></tr><tr><td>auroc_24</td><td>█▄▂▂▃▂▁▃▆▅▄▄▃▃▂▁▂▂▂▂▂</td></tr><tr><td>auroc_24_med</td><td>█▅▂▃▃▂▁▃▆▅▄▄▃▃▂▁▂▂▂▂▂</td></tr><tr><td>auroc_p</td><td>█▇▄▄▁▁▂▄▇█▇▆▆▇▅▅▄▄▅▄▄</td></tr><tr><td>auroc_p_med</td><td>█▇▄▄▁▁▂▄▇█▆▆▆▇▅▅▄▄▅▄▄</td></tr><tr><td>train:</td><td>█▁▁▁▁▁▁▁▁▁▁▁▁▁▁▁▁▁▁▁▁</td></tr><tr><td>val:</td><td>▃▇▆▄▃▄▇▂▇▅▂▁▁▂█▅▄▄▃▅▃</td></tr></table><br/></div><div class=\"wandb-col\"><h3>Run summary:</h3><br/><table class=\"wandb\"><tr><td>AUROC</td><td>0.56303</td></tr><tr><td>AUROC_median</td><td>0.56342</td></tr><tr><td>Iter:</td><td>20</td></tr><tr><td>auroc_24</td><td>0.55131</td></tr><tr><td>auroc_24_med</td><td>0.55208</td></tr><tr><td>auroc_p</td><td>0.66848</td></tr><tr><td>auroc_p_med</td><td>0.6689</td></tr><tr><td>train:</td><td>3.59404</td></tr><tr><td>val:</td><td>0.5042</td></tr></table><br/></div></div>"
      ],
      "text/plain": [
       "<IPython.core.display.HTML object>"
      ]
     },
     "metadata": {},
     "output_type": "display_data"
    },
    {
     "data": {
      "text/html": [
       " View run <strong style=\"color:#cdcd00\">E-13</strong> at: <a href='https://wandb.ai/dahs/IMV_LSTM_Rescue_new/runs/ie7f14km' target=\"_blank\">https://wandb.ai/dahs/IMV_LSTM_Rescue_new/runs/ie7f14km</a><br/>Synced 5 W&B file(s), 0 media file(s), 0 artifact file(s) and 0 other file(s)"
      ],
      "text/plain": [
       "<IPython.core.display.HTML object>"
      ]
     },
     "metadata": {},
     "output_type": "display_data"
    },
    {
     "data": {
      "text/html": [
       "Find logs at: <code>.\\wandb\\run-20240319_082750-ie7f14km\\logs</code>"
      ],
      "text/plain": [
       "<IPython.core.display.HTML object>"
      ]
     },
     "metadata": {},
     "output_type": "display_data"
    },
    {
     "data": {
      "text/html": [
       "Successfully finished last run (ID:ie7f14km). Initializing new run:<br/>"
      ],
      "text/plain": [
       "<IPython.core.display.HTML object>"
      ]
     },
     "metadata": {},
     "output_type": "display_data"
    },
    {
     "data": {
      "text/html": [
       "wandb version 0.16.4 is available!  To upgrade, please run:\n",
       " $ pip install wandb --upgrade"
      ],
      "text/plain": [
       "<IPython.core.display.HTML object>"
      ]
     },
     "metadata": {},
     "output_type": "display_data"
    },
    {
     "data": {
      "text/html": [
       "Tracking run with wandb version 0.16.3"
      ],
      "text/plain": [
       "<IPython.core.display.HTML object>"
      ]
     },
     "metadata": {},
     "output_type": "display_data"
    },
    {
     "data": {
      "text/html": [
       "Run data is saved locally in <code>c:\\Users\\CYP\\Documents\\GitHub\\AIAKI\\wandb\\run-20240319_084621-hkpaxlzk</code>"
      ],
      "text/plain": [
       "<IPython.core.display.HTML object>"
      ]
     },
     "metadata": {},
     "output_type": "display_data"
    },
    {
     "data": {
      "text/html": [
       "Syncing run <strong><a href='https://wandb.ai/dahs/IMV_LSTM_Rescue_new/runs/hkpaxlzk' target=\"_blank\">E-14</a></strong> to <a href='https://wandb.ai/dahs/IMV_LSTM_Rescue_new' target=\"_blank\">Weights & Biases</a> (<a href='https://wandb.me/run' target=\"_blank\">docs</a>)<br/>"
      ],
      "text/plain": [
       "<IPython.core.display.HTML object>"
      ]
     },
     "metadata": {},
     "output_type": "display_data"
    },
    {
     "data": {
      "text/html": [
       " View project at <a href='https://wandb.ai/dahs/IMV_LSTM_Rescue_new' target=\"_blank\">https://wandb.ai/dahs/IMV_LSTM_Rescue_new</a>"
      ],
      "text/plain": [
       "<IPython.core.display.HTML object>"
      ]
     },
     "metadata": {},
     "output_type": "display_data"
    },
    {
     "data": {
      "text/html": [
       " View run at <a href='https://wandb.ai/dahs/IMV_LSTM_Rescue_new/runs/hkpaxlzk' target=\"_blank\">https://wandb.ai/dahs/IMV_LSTM_Rescue_new/runs/hkpaxlzk</a>"
      ],
      "text/plain": [
       "<IPython.core.display.HTML object>"
      ]
     },
     "metadata": {},
     "output_type": "display_data"
    },
    {
     "name": "stderr",
     "output_type": "stream",
     "text": [
      "10842it [02:08, 84.40it/s]                           \n",
      "10842it [02:09, 83.49it/s]                           \n",
      "10842it [02:07, 84.76it/s]                           \n",
      "10842it [02:04, 87.21it/s]                           \n",
      "10842it [02:04, 87.39it/s]                           \n",
      "10842it [02:00, 90.24it/s]                           \n",
      "10842it [02:00, 90.29it/s]                           \n",
      "10842it [02:03, 87.95it/s]                           \n",
      "10842it [01:58, 91.60it/s]                           \n",
      "10842it [02:03, 87.49it/s]                           \n",
      "10842it [02:01, 89.25it/s]                           \n",
      "10842it [01:56, 93.03it/s]                           \n",
      "10842it [02:06, 85.69it/s]                           \n",
      "10842it [02:02, 88.45it/s]                           \n",
      "10842it [01:59, 90.42it/s]                            \n",
      "10842it [02:05, 86.45it/s]                           \n",
      "10842it [02:01, 89.15it/s]                            \n",
      "10842it [02:03, 87.91it/s]                           \n",
      "10842it [02:03, 87.87it/s]                           \n",
      "10842it [02:00, 89.81it/s]                           \n",
      "10842it [02:01, 89.26it/s]                           \n",
      "10842it [02:02, 88.67it/s]                            \n",
      "10842it [02:00, 89.99it/s]                            \n",
      "10842it [02:02, 88.21it/s]                           \n",
      "10842it [02:02, 88.47it/s]                            \n",
      "10842it [01:58, 91.25it/s]                           \n",
      "10842it [02:03, 88.01it/s]                           \n",
      "10842it [02:01, 89.27it/s]                            \n",
      "10842it [01:59, 90.82it/s]                            \n",
      "10842it [02:04, 87.22it/s]                           \n",
      "10842it [02:03, 87.87it/s]                            \n",
      "10842it [02:02, 88.58it/s]                           \n",
      "10842it [02:03, 87.98it/s]                           \n",
      "10842it [02:06, 86.04it/s]                           \n",
      "10842it [02:00, 89.73it/s]                           \n",
      "10842it [02:01, 89.50it/s]                           \n",
      "10842it [01:58, 91.20it/s]                           \n",
      "10842it [02:01, 89.19it/s]                           \n",
      "10842it [02:02, 88.71it/s]                           \n",
      "10842it [01:58, 91.74it/s]                           \n",
      "10842it [02:04, 87.22it/s]                           \n",
      "10842it [02:01, 89.60it/s]                            \n",
      "10842it [01:58, 91.88it/s]                            \n",
      "10842it [02:02, 88.67it/s]                            \n",
      "10842it [02:08, 84.61it/s]                            \n",
      "10842it [02:03, 87.64it/s]                           \n",
      "10842it [02:03, 87.74it/s]                           \n",
      "10842it [02:00, 90.03it/s]                           \n",
      "10842it [02:01, 89.19it/s]                           \n",
      "10842it [02:04, 86.96it/s]                           \n",
      "[I 2024-03-19 10:34:50,889] Trial 13 finished with value: 0.30082423308544926 and parameters: {'batch_size': 64, 'n_units': 22, 'learning_rate': 1e-06, 'lr_decay': 0.9973566709949038, 'lr_step': 5, 'negative_sampling': 6, 'loss': 'mse', 'CQL': 0, 'update_freq': 22, 'PPO': 0}. Best is trial 2 with value: 0.6329046698836351.\n"
     ]
    },
    {
     "data": {
      "text/html": [
       "Finishing last run (ID:hkpaxlzk) before initializing another..."
      ],
      "text/plain": [
       "<IPython.core.display.HTML object>"
      ]
     },
     "metadata": {},
     "output_type": "display_data"
    },
    {
     "data": {
      "text/html": [
       "<style>\n",
       "    table.wandb td:nth-child(1) { padding: 0 10px; text-align: left ; width: auto;} td:nth-child(2) {text-align: left ; width: 100%}\n",
       "    .wandb-row { display: flex; flex-direction: row; flex-wrap: wrap; justify-content: flex-start; width: 100% }\n",
       "    .wandb-col { display: flex; flex-direction: column; flex-basis: 100%; flex: 1; padding: 10px; }\n",
       "    </style>\n",
       "<div class=\"wandb-row\"><div class=\"wandb-col\"><h3>Run history:</h3><br/><table class=\"wandb\"><tr><td>AUROC</td><td>████████████▇▇▇▇▆▆▆▅▄▄▃▃▂▂▂▁▁▁▁▁▁▁▁▁▁▁▁▁</td></tr><tr><td>AUROC_median</td><td>████████████▇▇▇▇▆▆▅▅▄▄▃▃▂▂▂▁▁▁▁▁▁▁▁▁▁▁▁▂</td></tr><tr><td>Iter:</td><td>▁▁▁▁▂▂▂▂▂▃▃▃▃▃▃▄▄▄▄▄▅▅▅▅▅▅▆▆▆▆▆▆▇▇▇▇▇███</td></tr><tr><td>auroc_24</td><td>████████████▇▇▇▇▆▆▅▅▄▃▃▃▂▂▁▁▁▁▁▁▁▁▁▁▂▂▂▂</td></tr><tr><td>auroc_24_med</td><td>████████████▇▇▇▇▆▆▅▅▄▃▃▃▂▂▁▁▁▁▁▁▁▁▁▁▂▂▂▂</td></tr><tr><td>auroc_p</td><td>▂▂▂▂▂▂▂▂▂▂▂▂▂▂▂▂▁▁▁▁▁▁▁▁▂▂▂▂▃▃▄▄▅▅▆▆▇▇▇█</td></tr><tr><td>auroc_p_med</td><td>▂▂▂▂▂▂▂▂▂▂▂▂▂▂▂▂▁▁▁▁▁▁▁▁▂▂▂▂▃▃▄▄▅▅▆▆▇▇▇█</td></tr><tr><td>train:</td><td>▇▆▅▅▄▆██▄▄▃▃▂▁▁▁▁▁▁▁▁▁▁▁▁▁▁▁▁▁▁▁▁▁▁▁▁▁▁▁</td></tr><tr><td>val:</td><td>▄▃▃▃▄▇█▇▃▂▂▂▁▁▁▁▁▁▁▁▁▁▁▁▁▁▁▁▁▁▁▁▁▁▁▁▁▁▁▁</td></tr></table><br/></div><div class=\"wandb-col\"><h3>Run summary:</h3><br/><table class=\"wandb\"><tr><td>AUROC</td><td>0.30082</td></tr><tr><td>AUROC_median</td><td>0.30235</td></tr><tr><td>Iter:</td><td>49</td></tr><tr><td>auroc_24</td><td>0.3366</td></tr><tr><td>auroc_24_med</td><td>0.33822</td></tr><tr><td>auroc_p</td><td>0.45816</td></tr><tr><td>auroc_p_med</td><td>0.4562</td></tr><tr><td>train:</td><td>14.79208</td></tr><tr><td>val:</td><td>0.52514</td></tr></table><br/></div></div>"
      ],
      "text/plain": [
       "<IPython.core.display.HTML object>"
      ]
     },
     "metadata": {},
     "output_type": "display_data"
    },
    {
     "data": {
      "text/html": [
       " View run <strong style=\"color:#cdcd00\">E-14</strong> at: <a href='https://wandb.ai/dahs/IMV_LSTM_Rescue_new/runs/hkpaxlzk' target=\"_blank\">https://wandb.ai/dahs/IMV_LSTM_Rescue_new/runs/hkpaxlzk</a><br/>Synced 5 W&B file(s), 0 media file(s), 0 artifact file(s) and 0 other file(s)"
      ],
      "text/plain": [
       "<IPython.core.display.HTML object>"
      ]
     },
     "metadata": {},
     "output_type": "display_data"
    },
    {
     "data": {
      "text/html": [
       "Find logs at: <code>.\\wandb\\run-20240319_084621-hkpaxlzk\\logs</code>"
      ],
      "text/plain": [
       "<IPython.core.display.HTML object>"
      ]
     },
     "metadata": {},
     "output_type": "display_data"
    },
    {
     "data": {
      "text/html": [
       "Successfully finished last run (ID:hkpaxlzk). Initializing new run:<br/>"
      ],
      "text/plain": [
       "<IPython.core.display.HTML object>"
      ]
     },
     "metadata": {},
     "output_type": "display_data"
    },
    {
     "data": {
      "text/html": [
       "wandb version 0.16.4 is available!  To upgrade, please run:\n",
       " $ pip install wandb --upgrade"
      ],
      "text/plain": [
       "<IPython.core.display.HTML object>"
      ]
     },
     "metadata": {},
     "output_type": "display_data"
    },
    {
     "data": {
      "text/html": [
       "Tracking run with wandb version 0.16.3"
      ],
      "text/plain": [
       "<IPython.core.display.HTML object>"
      ]
     },
     "metadata": {},
     "output_type": "display_data"
    },
    {
     "data": {
      "text/html": [
       "Run data is saved locally in <code>c:\\Users\\CYP\\Documents\\GitHub\\AIAKI\\wandb\\run-20240319_103450-tuijuilt</code>"
      ],
      "text/plain": [
       "<IPython.core.display.HTML object>"
      ]
     },
     "metadata": {},
     "output_type": "display_data"
    },
    {
     "data": {
      "text/html": [
       "Syncing run <strong><a href='https://wandb.ai/dahs/IMV_LSTM_Rescue_new/runs/tuijuilt' target=\"_blank\">E-15</a></strong> to <a href='https://wandb.ai/dahs/IMV_LSTM_Rescue_new' target=\"_blank\">Weights & Biases</a> (<a href='https://wandb.me/run' target=\"_blank\">docs</a>)<br/>"
      ],
      "text/plain": [
       "<IPython.core.display.HTML object>"
      ]
     },
     "metadata": {},
     "output_type": "display_data"
    },
    {
     "data": {
      "text/html": [
       " View project at <a href='https://wandb.ai/dahs/IMV_LSTM_Rescue_new' target=\"_blank\">https://wandb.ai/dahs/IMV_LSTM_Rescue_new</a>"
      ],
      "text/plain": [
       "<IPython.core.display.HTML object>"
      ]
     },
     "metadata": {},
     "output_type": "display_data"
    },
    {
     "data": {
      "text/html": [
       " View run at <a href='https://wandb.ai/dahs/IMV_LSTM_Rescue_new/runs/tuijuilt' target=\"_blank\">https://wandb.ai/dahs/IMV_LSTM_Rescue_new/runs/tuijuilt</a>"
      ],
      "text/plain": [
       "<IPython.core.display.HTML object>"
      ]
     },
     "metadata": {},
     "output_type": "display_data"
    },
    {
     "name": "stderr",
     "output_type": "stream",
     "text": [
      " 98%|█████████▊| 2525/2572 [00:43<00:00, 57.42it/s]\n",
      " 98%|█████████▊| 2525/2572 [00:40<00:00, 62.81it/s]\n",
      " 98%|█████████▊| 2525/2572 [00:39<00:00, 63.80it/s]\n",
      " 98%|█████████▊| 2525/2572 [00:40<00:00, 62.82it/s]\n",
      " 98%|█████████▊| 2525/2572 [00:40<00:00, 62.32it/s]\n",
      " 98%|█████████▊| 2525/2572 [00:39<00:00, 64.51it/s]\n",
      " 98%|█████████▊| 2525/2572 [00:39<00:00, 63.69it/s]\n",
      " 98%|█████████▊| 2525/2572 [00:39<00:00, 63.72it/s]\n",
      " 98%|█████████▊| 2525/2572 [00:39<00:00, 63.15it/s]\n",
      " 98%|█████████▊| 2525/2572 [00:40<00:00, 62.83it/s]\n",
      " 98%|█████████▊| 2525/2572 [00:39<00:00, 64.71it/s]\n",
      " 98%|█████████▊| 2525/2572 [00:40<00:00, 63.07it/s]\n",
      " 98%|█████████▊| 2525/2572 [00:39<00:00, 64.08it/s]\n",
      " 98%|█████████▊| 2525/2572 [00:39<00:00, 64.24it/s]\n",
      " 98%|█████████▊| 2525/2572 [00:39<00:00, 63.44it/s]\n",
      " 98%|█████████▊| 2525/2572 [00:38<00:00, 65.25it/s]\n",
      " 98%|█████████▊| 2525/2572 [00:39<00:00, 64.09it/s]\n",
      " 98%|█████████▊| 2525/2572 [00:39<00:00, 64.41it/s]\n",
      " 98%|█████████▊| 2525/2572 [00:39<00:00, 64.23it/s]\n",
      " 98%|█████████▊| 2525/2572 [00:40<00:00, 63.11it/s]\n",
      " 98%|█████████▊| 2525/2572 [00:39<00:00, 64.70it/s]\n",
      "[I 2024-03-19 10:52:03,021] Trial 14 finished with value: 0.6671807459480341 and parameters: {'batch_size': 256, 'n_units': 31, 'learning_rate': 0.01, 'lr_decay': 0.8827934367716966, 'lr_step': 7, 'negative_sampling': 7, 'loss': 'mse', 'CQL': 0, 'update_freq': 29, 'PPO': 0}. Best is trial 14 with value: 0.6671807459480341.\n"
     ]
    },
    {
     "data": {
      "text/html": [
       "Finishing last run (ID:tuijuilt) before initializing another..."
      ],
      "text/plain": [
       "<IPython.core.display.HTML object>"
      ]
     },
     "metadata": {},
     "output_type": "display_data"
    },
    {
     "data": {
      "text/html": [
       "<style>\n",
       "    table.wandb td:nth-child(1) { padding: 0 10px; text-align: left ; width: auto;} td:nth-child(2) {text-align: left ; width: 100%}\n",
       "    .wandb-row { display: flex; flex-direction: row; flex-wrap: wrap; justify-content: flex-start; width: 100% }\n",
       "    .wandb-col { display: flex; flex-direction: column; flex-basis: 100%; flex: 1; padding: 10px; }\n",
       "    </style>\n",
       "<div class=\"wandb-row\"><div class=\"wandb-col\"><h3>Run history:</h3><br/><table class=\"wandb\"><tr><td>AUROC</td><td>█▁▆▅▂▃▃▇▇▇▆▅█▇▆▆▇▆▇▆▇</td></tr><tr><td>AUROC_median</td><td>▇▁▇▆▁▄▃▇▇▇▆▆█▇▆▆▇▆▇▇▇</td></tr><tr><td>Iter:</td><td>▁▁▂▂▂▃▃▃▄▄▅▅▅▆▆▆▇▇▇██</td></tr><tr><td>auroc_24</td><td>▇▁▅▅▂▃▃▇▇▇▆▆██▆▆▇▆▇▇▇</td></tr><tr><td>auroc_24_med</td><td>▇▁▆▆▁▄▃▇▇▇▆▆█▇▆▆▇▆▇▇▇</td></tr><tr><td>auroc_p</td><td>▇▃▆▆▄▃▁▇▇▇▆▆▇█▇▅▇▇█▇█</td></tr><tr><td>auroc_p_med</td><td>▇▅▇▆▄▅▁▇▇▇▆▆██▇▆█▇█▇█</td></tr><tr><td>train:</td><td>█▁▁▁▁▁▁▁▁▁▁▁▁▁▁▁▁▁▁▁▁</td></tr><tr><td>val:</td><td>█▄▂▁▂▂▅▅▂▅▂▂▆▃▃▁▂▁▁▁▁</td></tr></table><br/></div><div class=\"wandb-col\"><h3>Run summary:</h3><br/><table class=\"wandb\"><tr><td>AUROC</td><td>0.66718</td></tr><tr><td>AUROC_median</td><td>0.66855</td></tr><tr><td>Iter:</td><td>20</td></tr><tr><td>auroc_24</td><td>0.68609</td></tr><tr><td>auroc_24_med</td><td>0.68764</td></tr><tr><td>auroc_p</td><td>0.80606</td></tr><tr><td>auroc_p_med</td><td>0.80346</td></tr><tr><td>train:</td><td>3.39846</td></tr><tr><td>val:</td><td>0.52479</td></tr></table><br/></div></div>"
      ],
      "text/plain": [
       "<IPython.core.display.HTML object>"
      ]
     },
     "metadata": {},
     "output_type": "display_data"
    },
    {
     "data": {
      "text/html": [
       " View run <strong style=\"color:#cdcd00\">E-15</strong> at: <a href='https://wandb.ai/dahs/IMV_LSTM_Rescue_new/runs/tuijuilt' target=\"_blank\">https://wandb.ai/dahs/IMV_LSTM_Rescue_new/runs/tuijuilt</a><br/>Synced 5 W&B file(s), 0 media file(s), 0 artifact file(s) and 0 other file(s)"
      ],
      "text/plain": [
       "<IPython.core.display.HTML object>"
      ]
     },
     "metadata": {},
     "output_type": "display_data"
    },
    {
     "data": {
      "text/html": [
       "Find logs at: <code>.\\wandb\\run-20240319_103450-tuijuilt\\logs</code>"
      ],
      "text/plain": [
       "<IPython.core.display.HTML object>"
      ]
     },
     "metadata": {},
     "output_type": "display_data"
    },
    {
     "data": {
      "text/html": [
       "Successfully finished last run (ID:tuijuilt). Initializing new run:<br/>"
      ],
      "text/plain": [
       "<IPython.core.display.HTML object>"
      ]
     },
     "metadata": {},
     "output_type": "display_data"
    },
    {
     "data": {
      "text/html": [
       "wandb version 0.16.4 is available!  To upgrade, please run:\n",
       " $ pip install wandb --upgrade"
      ],
      "text/plain": [
       "<IPython.core.display.HTML object>"
      ]
     },
     "metadata": {},
     "output_type": "display_data"
    },
    {
     "data": {
      "text/html": [
       "Tracking run with wandb version 0.16.3"
      ],
      "text/plain": [
       "<IPython.core.display.HTML object>"
      ]
     },
     "metadata": {},
     "output_type": "display_data"
    },
    {
     "data": {
      "text/html": [
       "Run data is saved locally in <code>c:\\Users\\CYP\\Documents\\GitHub\\AIAKI\\wandb\\run-20240319_105203-fb8ubu97</code>"
      ],
      "text/plain": [
       "<IPython.core.display.HTML object>"
      ]
     },
     "metadata": {},
     "output_type": "display_data"
    },
    {
     "data": {
      "text/html": [
       "Syncing run <strong><a href='https://wandb.ai/dahs/IMV_LSTM_Rescue_new/runs/fb8ubu97' target=\"_blank\">E-16</a></strong> to <a href='https://wandb.ai/dahs/IMV_LSTM_Rescue_new' target=\"_blank\">Weights & Biases</a> (<a href='https://wandb.me/run' target=\"_blank\">docs</a>)<br/>"
      ],
      "text/plain": [
       "<IPython.core.display.HTML object>"
      ]
     },
     "metadata": {},
     "output_type": "display_data"
    },
    {
     "data": {
      "text/html": [
       " View project at <a href='https://wandb.ai/dahs/IMV_LSTM_Rescue_new' target=\"_blank\">https://wandb.ai/dahs/IMV_LSTM_Rescue_new</a>"
      ],
      "text/plain": [
       "<IPython.core.display.HTML object>"
      ]
     },
     "metadata": {},
     "output_type": "display_data"
    },
    {
     "data": {
      "text/html": [
       " View run at <a href='https://wandb.ai/dahs/IMV_LSTM_Rescue_new/runs/fb8ubu97' target=\"_blank\">https://wandb.ai/dahs/IMV_LSTM_Rescue_new/runs/fb8ubu97</a>"
      ],
      "text/plain": [
       "<IPython.core.display.HTML object>"
      ]
     },
     "metadata": {},
     "output_type": "display_data"
    },
    {
     "name": "stderr",
     "output_type": "stream",
     "text": [
      " 97%|█████████▋| 2495/2572 [00:43<00:01, 57.95it/s]\n",
      " 97%|█████████▋| 2495/2572 [00:37<00:01, 66.10it/s]\n",
      " 97%|█████████▋| 2495/2572 [00:38<00:01, 64.46it/s]\n",
      " 97%|█████████▋| 2495/2572 [00:38<00:01, 65.12it/s]\n",
      " 97%|█████████▋| 2495/2572 [00:38<00:01, 64.80it/s]\n",
      " 97%|█████████▋| 2495/2572 [00:39<00:01, 63.64it/s]\n",
      " 97%|█████████▋| 2495/2572 [00:37<00:01, 66.57it/s]\n",
      " 97%|█████████▋| 2495/2572 [00:38<00:01, 64.23it/s]\n",
      " 97%|█████████▋| 2495/2572 [00:38<00:01, 64.09it/s]\n",
      " 97%|█████████▋| 2495/2572 [00:37<00:01, 65.69it/s]\n",
      " 97%|█████████▋| 2495/2572 [00:38<00:01, 64.41it/s]\n",
      " 97%|█████████▋| 2495/2572 [00:37<00:01, 65.83it/s]\n",
      " 97%|█████████▋| 2495/2572 [00:38<00:01, 64.57it/s]\n",
      " 97%|█████████▋| 2495/2572 [00:39<00:01, 63.67it/s]\n",
      " 97%|█████████▋| 2495/2572 [00:37<00:01, 66.09it/s]\n",
      " 97%|█████████▋| 2495/2572 [00:39<00:01, 63.97it/s]\n",
      " 97%|█████████▋| 2495/2572 [00:38<00:01, 64.75it/s]\n",
      " 97%|█████████▋| 2495/2572 [00:38<00:01, 65.17it/s]\n",
      " 97%|█████████▋| 2495/2572 [00:39<00:01, 63.96it/s]\n",
      " 97%|█████████▋| 2495/2572 [00:38<00:01, 65.59it/s]\n",
      " 97%|█████████▋| 2495/2572 [00:38<00:01, 64.05it/s]\n",
      "[I 2024-03-19 11:08:47,656] Trial 15 finished with value: 0.3648690971312132 and parameters: {'batch_size': 256, 'n_units': 29, 'learning_rate': 0.01, 'lr_decay': 0.9171296050521924, 'lr_step': 7, 'negative_sampling': 4, 'loss': 'mse', 'CQL': 0, 'update_freq': 5, 'PPO': 0}. Best is trial 14 with value: 0.6671807459480341.\n"
     ]
    },
    {
     "data": {
      "text/html": [
       "Finishing last run (ID:fb8ubu97) before initializing another..."
      ],
      "text/plain": [
       "<IPython.core.display.HTML object>"
      ]
     },
     "metadata": {},
     "output_type": "display_data"
    },
    {
     "data": {
      "text/html": [
       "<style>\n",
       "    table.wandb td:nth-child(1) { padding: 0 10px; text-align: left ; width: auto;} td:nth-child(2) {text-align: left ; width: 100%}\n",
       "    .wandb-row { display: flex; flex-direction: row; flex-wrap: wrap; justify-content: flex-start; width: 100% }\n",
       "    .wandb-col { display: flex; flex-direction: column; flex-basis: 100%; flex: 1; padding: 10px; }\n",
       "    </style>\n",
       "<div class=\"wandb-row\"><div class=\"wandb-col\"><h3>Run history:</h3><br/><table class=\"wandb\"><tr><td>AUROC</td><td>▁▃▅▂▄▅▅▄▅▇▅▅▅▆▆▇▇▆█▇▇</td></tr><tr><td>AUROC_median</td><td>▁▂▄▃▄▄▄▄▅▇▅▅▅▆▆▇▇▆█▆▇</td></tr><tr><td>Iter:</td><td>▁▁▂▂▂▃▃▃▄▄▅▅▅▆▆▆▇▇▇██</td></tr><tr><td>auroc_24</td><td>▁▃▄▂▃▄▄▄▅▇▅▅▅▆▆▇▇▆█▇▇</td></tr><tr><td>auroc_24_med</td><td>▁▁▃▂▃▃▄▃▅▇▅▅▅▆▆▇▇▆█▇▇</td></tr><tr><td>auroc_p</td><td>█▄▂▅▃▁▁▂▅▅▃▅▄▆▄▅▄▅▆▄▄</td></tr><tr><td>auroc_p_med</td><td>█▄▂▅▃▁▁▂▅▅▃▅▄▆▅▅▄▅▆▄▄</td></tr><tr><td>train:</td><td>▁▄▄▄▃▃▄▄▄▅▅▆▆▆▆▆▆▇█▆▅</td></tr><tr><td>val:</td><td>▂▃▃▁▁▁▂▂▃▄▄▅▅▆▄▆▅█▆▅▃</td></tr></table><br/></div><div class=\"wandb-col\"><h3>Run summary:</h3><br/><table class=\"wandb\"><tr><td>AUROC</td><td>0.36487</td></tr><tr><td>AUROC_median</td><td>0.36389</td></tr><tr><td>Iter:</td><td>20</td></tr><tr><td>auroc_24</td><td>0.34386</td></tr><tr><td>auroc_24_med</td><td>0.34294</td></tr><tr><td>auroc_p</td><td>0.2481</td></tr><tr><td>auroc_p_med</td><td>0.24782</td></tr><tr><td>train:</td><td>378921.01939</td></tr><tr><td>val:</td><td>130640.88946</td></tr></table><br/></div></div>"
      ],
      "text/plain": [
       "<IPython.core.display.HTML object>"
      ]
     },
     "metadata": {},
     "output_type": "display_data"
    },
    {
     "data": {
      "text/html": [
       " View run <strong style=\"color:#cdcd00\">E-16</strong> at: <a href='https://wandb.ai/dahs/IMV_LSTM_Rescue_new/runs/fb8ubu97' target=\"_blank\">https://wandb.ai/dahs/IMV_LSTM_Rescue_new/runs/fb8ubu97</a><br/>Synced 5 W&B file(s), 0 media file(s), 0 artifact file(s) and 0 other file(s)"
      ],
      "text/plain": [
       "<IPython.core.display.HTML object>"
      ]
     },
     "metadata": {},
     "output_type": "display_data"
    },
    {
     "data": {
      "text/html": [
       "Find logs at: <code>.\\wandb\\run-20240319_105203-fb8ubu97\\logs</code>"
      ],
      "text/plain": [
       "<IPython.core.display.HTML object>"
      ]
     },
     "metadata": {},
     "output_type": "display_data"
    },
    {
     "data": {
      "text/html": [
       "Successfully finished last run (ID:fb8ubu97). Initializing new run:<br/>"
      ],
      "text/plain": [
       "<IPython.core.display.HTML object>"
      ]
     },
     "metadata": {},
     "output_type": "display_data"
    },
    {
     "data": {
      "text/html": [
       "wandb version 0.16.4 is available!  To upgrade, please run:\n",
       " $ pip install wandb --upgrade"
      ],
      "text/plain": [
       "<IPython.core.display.HTML object>"
      ]
     },
     "metadata": {},
     "output_type": "display_data"
    },
    {
     "data": {
      "text/html": [
       "Tracking run with wandb version 0.16.3"
      ],
      "text/plain": [
       "<IPython.core.display.HTML object>"
      ]
     },
     "metadata": {},
     "output_type": "display_data"
    },
    {
     "data": {
      "text/html": [
       "Run data is saved locally in <code>c:\\Users\\CYP\\Documents\\GitHub\\AIAKI\\wandb\\run-20240319_110847-gme2rhy6</code>"
      ],
      "text/plain": [
       "<IPython.core.display.HTML object>"
      ]
     },
     "metadata": {},
     "output_type": "display_data"
    },
    {
     "data": {
      "text/html": [
       "Syncing run <strong><a href='https://wandb.ai/dahs/IMV_LSTM_Rescue_new/runs/gme2rhy6' target=\"_blank\">E-17</a></strong> to <a href='https://wandb.ai/dahs/IMV_LSTM_Rescue_new' target=\"_blank\">Weights & Biases</a> (<a href='https://wandb.me/run' target=\"_blank\">docs</a>)<br/>"
      ],
      "text/plain": [
       "<IPython.core.display.HTML object>"
      ]
     },
     "metadata": {},
     "output_type": "display_data"
    },
    {
     "data": {
      "text/html": [
       " View project at <a href='https://wandb.ai/dahs/IMV_LSTM_Rescue_new' target=\"_blank\">https://wandb.ai/dahs/IMV_LSTM_Rescue_new</a>"
      ],
      "text/plain": [
       "<IPython.core.display.HTML object>"
      ]
     },
     "metadata": {},
     "output_type": "display_data"
    },
    {
     "data": {
      "text/html": [
       " View run at <a href='https://wandb.ai/dahs/IMV_LSTM_Rescue_new/runs/gme2rhy6' target=\"_blank\">https://wandb.ai/dahs/IMV_LSTM_Rescue_new/runs/gme2rhy6</a>"
      ],
      "text/plain": [
       "<IPython.core.display.HTML object>"
      ]
     },
     "metadata": {},
     "output_type": "display_data"
    },
    {
     "name": "stderr",
     "output_type": "stream",
     "text": [
      " 97%|█████████▋| 2495/2572 [00:34<00:01, 72.13it/s]\n",
      " 97%|█████████▋| 2495/2572 [00:32<00:00, 77.36it/s]\n",
      " 97%|█████████▋| 2495/2572 [00:33<00:01, 74.43it/s]\n",
      " 97%|█████████▋| 2495/2572 [00:30<00:00, 82.14it/s]\n",
      " 97%|█████████▋| 2495/2572 [00:31<00:00, 80.16it/s]\n",
      " 97%|█████████▋| 2495/2572 [00:32<00:01, 75.70it/s]\n",
      " 97%|█████████▋| 2495/2572 [00:31<00:00, 80.16it/s]\n",
      " 97%|█████████▋| 2495/2572 [00:31<00:00, 78.58it/s]\n",
      " 97%|█████████▋| 2495/2572 [00:34<00:01, 72.59it/s]\n",
      " 97%|█████████▋| 2495/2572 [00:31<00:00, 79.72it/s]\n",
      " 97%|█████████▋| 2495/2572 [00:31<00:00, 79.60it/s]\n",
      " 97%|█████████▋| 2495/2572 [00:33<00:01, 74.38it/s]\n",
      " 97%|█████████▋| 2495/2572 [00:32<00:00, 77.10it/s]\n",
      " 97%|█████████▋| 2495/2572 [00:30<00:00, 80.86it/s]\n",
      " 97%|█████████▋| 2495/2572 [00:32<00:00, 77.14it/s]\n",
      " 97%|█████████▋| 2495/2572 [00:31<00:00, 79.70it/s]\n",
      " 97%|█████████▋| 2495/2572 [00:31<00:00, 78.21it/s]\n",
      " 97%|█████████▋| 2495/2572 [00:33<00:01, 74.62it/s]\n",
      " 97%|█████████▋| 2495/2572 [00:32<00:01, 75.98it/s]\n",
      " 97%|█████████▋| 2495/2572 [00:31<00:00, 78.86it/s]\n",
      " 97%|█████████▋| 2495/2572 [00:33<00:01, 73.56it/s]\n",
      "[I 2024-03-19 11:23:00,575] Trial 16 finished with value: 0.39289303795286246 and parameters: {'batch_size': 256, 'n_units': 13, 'learning_rate': 0.01, 'lr_decay': 0.750629824072466, 'lr_step': 14, 'negative_sampling': 4, 'loss': 'mse', 'CQL': 0, 'update_freq': 63, 'PPO': 0}. Best is trial 14 with value: 0.6671807459480341.\n"
     ]
    },
    {
     "data": {
      "text/html": [
       "Finishing last run (ID:gme2rhy6) before initializing another..."
      ],
      "text/plain": [
       "<IPython.core.display.HTML object>"
      ]
     },
     "metadata": {},
     "output_type": "display_data"
    },
    {
     "data": {
      "text/html": [
       "<style>\n",
       "    table.wandb td:nth-child(1) { padding: 0 10px; text-align: left ; width: auto;} td:nth-child(2) {text-align: left ; width: 100%}\n",
       "    .wandb-row { display: flex; flex-direction: row; flex-wrap: wrap; justify-content: flex-start; width: 100% }\n",
       "    .wandb-col { display: flex; flex-direction: column; flex-basis: 100%; flex: 1; padding: 10px; }\n",
       "    </style>\n",
       "<div class=\"wandb-row\"><div class=\"wandb-col\"><h3>Run history:</h3><br/><table class=\"wandb\"><tr><td>AUROC</td><td>█▇▇▆▆▆▅▄▆▆▆▅▅▄▅▅▅▃▄▂▁</td></tr><tr><td>AUROC_median</td><td>█▇▇▆▆▆▆▅▆▆▆▅▅▄▆▅▅▃▄▃▁</td></tr><tr><td>Iter:</td><td>▁▁▂▂▂▃▃▃▄▄▅▅▅▆▆▆▇▇▇██</td></tr><tr><td>auroc_24</td><td>█▇▇▆▆▆▅▄▆▆▆▅▅▄▅▅▅▃▄▂▁</td></tr><tr><td>auroc_24_med</td><td>█▇▇▆▆▆▆▄▆▆▆▆▅▄▅▅▅▃▄▃▁</td></tr><tr><td>auroc_p</td><td>████▇█▇▆▇▇▇▇▆▅▇▆▆▄▄▂▁</td></tr><tr><td>auroc_p_med</td><td>████▇█▇▆▇▇▇▇▆▅▇▆▆▄▃▂▁</td></tr><tr><td>train:</td><td>█▃▁▁▁▁▁▁▁▁▁▁▁▁▁▁▁▁▁▁▁</td></tr><tr><td>val:</td><td>█▂▁▁▁▁▁▁▁▁▁▁▁▁▁▁▁▁▁▁▁</td></tr></table><br/></div><div class=\"wandb-col\"><h3>Run summary:</h3><br/><table class=\"wandb\"><tr><td>AUROC</td><td>0.39289</td></tr><tr><td>AUROC_median</td><td>0.3794</td></tr><tr><td>Iter:</td><td>20</td></tr><tr><td>auroc_24</td><td>0.403</td></tr><tr><td>auroc_24_med</td><td>0.38671</td></tr><tr><td>auroc_p</td><td>0.47605</td></tr><tr><td>auroc_p_med</td><td>0.4921</td></tr><tr><td>train:</td><td>3.82746</td></tr><tr><td>val:</td><td>0.70776</td></tr></table><br/></div></div>"
      ],
      "text/plain": [
       "<IPython.core.display.HTML object>"
      ]
     },
     "metadata": {},
     "output_type": "display_data"
    },
    {
     "data": {
      "text/html": [
       " View run <strong style=\"color:#cdcd00\">E-17</strong> at: <a href='https://wandb.ai/dahs/IMV_LSTM_Rescue_new/runs/gme2rhy6' target=\"_blank\">https://wandb.ai/dahs/IMV_LSTM_Rescue_new/runs/gme2rhy6</a><br/>Synced 5 W&B file(s), 0 media file(s), 0 artifact file(s) and 0 other file(s)"
      ],
      "text/plain": [
       "<IPython.core.display.HTML object>"
      ]
     },
     "metadata": {},
     "output_type": "display_data"
    },
    {
     "data": {
      "text/html": [
       "Find logs at: <code>.\\wandb\\run-20240319_110847-gme2rhy6\\logs</code>"
      ],
      "text/plain": [
       "<IPython.core.display.HTML object>"
      ]
     },
     "metadata": {},
     "output_type": "display_data"
    },
    {
     "data": {
      "text/html": [
       "Successfully finished last run (ID:gme2rhy6). Initializing new run:<br/>"
      ],
      "text/plain": [
       "<IPython.core.display.HTML object>"
      ]
     },
     "metadata": {},
     "output_type": "display_data"
    },
    {
     "data": {
      "text/html": [
       "wandb version 0.16.4 is available!  To upgrade, please run:\n",
       " $ pip install wandb --upgrade"
      ],
      "text/plain": [
       "<IPython.core.display.HTML object>"
      ]
     },
     "metadata": {},
     "output_type": "display_data"
    },
    {
     "data": {
      "text/html": [
       "Tracking run with wandb version 0.16.3"
      ],
      "text/plain": [
       "<IPython.core.display.HTML object>"
      ]
     },
     "metadata": {},
     "output_type": "display_data"
    },
    {
     "data": {
      "text/html": [
       "Run data is saved locally in <code>c:\\Users\\CYP\\Documents\\GitHub\\AIAKI\\wandb\\run-20240319_112300-783gxohz</code>"
      ],
      "text/plain": [
       "<IPython.core.display.HTML object>"
      ]
     },
     "metadata": {},
     "output_type": "display_data"
    },
    {
     "data": {
      "text/html": [
       "Syncing run <strong><a href='https://wandb.ai/dahs/IMV_LSTM_Rescue_new/runs/783gxohz' target=\"_blank\">E-18</a></strong> to <a href='https://wandb.ai/dahs/IMV_LSTM_Rescue_new' target=\"_blank\">Weights & Biases</a> (<a href='https://wandb.me/run' target=\"_blank\">docs</a>)<br/>"
      ],
      "text/plain": [
       "<IPython.core.display.HTML object>"
      ]
     },
     "metadata": {},
     "output_type": "display_data"
    },
    {
     "data": {
      "text/html": [
       " View project at <a href='https://wandb.ai/dahs/IMV_LSTM_Rescue_new' target=\"_blank\">https://wandb.ai/dahs/IMV_LSTM_Rescue_new</a>"
      ],
      "text/plain": [
       "<IPython.core.display.HTML object>"
      ]
     },
     "metadata": {},
     "output_type": "display_data"
    },
    {
     "data": {
      "text/html": [
       " View run at <a href='https://wandb.ai/dahs/IMV_LSTM_Rescue_new/runs/783gxohz' target=\"_blank\">https://wandb.ai/dahs/IMV_LSTM_Rescue_new/runs/783gxohz</a>"
      ],
      "text/plain": [
       "<IPython.core.display.HTML object>"
      ]
     },
     "metadata": {},
     "output_type": "display_data"
    },
    {
     "name": "stderr",
     "output_type": "stream",
     "text": [
      "26202it [04:54, 88.84it/s]                            \n",
      "26202it [04:49, 90.61it/s]                            \n",
      "26202it [04:51, 89.79it/s]                            \n",
      "26202it [04:48, 90.70it/s]                            \n",
      "26202it [04:51, 89.95it/s]                            \n",
      "26202it [04:53, 89.27it/s]                            \n",
      "26202it [04:56, 88.52it/s]                            \n",
      "26202it [04:49, 90.42it/s]                            \n",
      "26202it [04:53, 89.38it/s]                            \n",
      " 97%|█████████▋| 19937/20583 [03:41<00:06, 95.04it/s] "
     ]
    }
   ],
   "source": [
    "device = 'cuda:0'\n",
    "study = optuna.create_study(direction='maximize')\n",
    "study.optimize(objective, n_trials=1000)\n",
    "\n",
    "best_params = study.best_params\n",
    "best_loss = study.best_value\n",
    "\n",
    "print(\"Best Hyperparameters:\", best_params)\n",
    "print(\"Best Validation Loss:\", best_loss)"
   ]
  },
  {
   "cell_type": "code",
   "execution_count": null,
   "metadata": {},
   "outputs": [],
   "source": []
  }
 ],
 "metadata": {
  "kernelspec": {
   "display_name": "torch",
   "language": "python",
   "name": "python3"
  },
  "language_info": {
   "codemirror_mode": {
    "name": "ipython",
    "version": 3
   },
   "file_extension": ".py",
   "mimetype": "text/x-python",
   "name": "python",
   "nbconvert_exporter": "python",
   "pygments_lexer": "ipython3",
   "version": "3.10.0"
  }
 },
 "nbformat": 4,
 "nbformat_minor": 2
}
