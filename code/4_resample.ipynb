{
 "cells": [
  {
   "cell_type": "code",
   "execution_count": 1,
   "metadata": {},
   "outputs": [],
   "source": [
    "import pandas as pd\n",
    "import numpy as np\n",
    "import matplotlib.pyplot as plt\n",
    "import sys, os, pickle,utils\n",
    "\n",
    "from tqdm.notebook import tqdm\n",
    "from datetime import timedelta\n",
    "#from utils import baseline_SCr\n",
    "\n",
    "if os.getcwd()[-4:] == \"code\":\n",
    "    os.chdir('../')\n",
    "\n",
    "icu = './data/mimic-iv-2.2-parquet/icu/'\n",
    "hosp = './data/mimic-iv-2.2-parquet/hosp/'\n",
    "\n",
    "pd.set_option('mode.chained_assignment',  None) # 경고 off"
   ]
  },
  {
   "cell_type": "code",
   "execution_count": 2,
   "metadata": {},
   "outputs": [],
   "source": [
    "vitals = pd.read_csv('./data/vitals/vitals_new.csv')\n",
    "vitals = vitals[vitals['abbreviation']!='tempF']\n",
    "vitals.reset_index(drop=True,inplace=True)\n",
    "for i in vitals.abbreviation.unique():\n",
    "    globals()['chartevents_{}'.format(i)] = pd.read_parquet('./data/vitals/chartevents_%s.parquet'%i)"
   ]
  },
  {
   "cell_type": "code",
   "execution_count": 3,
   "metadata": {},
   "outputs": [],
   "source": [
    "labvalues = pd.read_csv('./data/labvalues/labvalues.csv')\n",
    "icustays  = pd.read_parquet(icu+'icustays.parquet')"
   ]
  },
  {
   "cell_type": "code",
   "execution_count": 4,
   "metadata": {},
   "outputs": [],
   "source": [
    "try:\n",
    "    for i in labvalues.abbreviation.unique():\n",
    "        globals()['chartevents_{}'.format(i)] = pd.read_parquet('./data/labvalues/chartevents_%s.parquet'%i)\n",
    "        globals()['labevents_{}'.format(i)] = pd.read_parquet('./data/labvalues/labevents_%s.parquet'%i)\n",
    "except:\n",
    "    FileNotFoundError\n",
    "    print(i)"
   ]
  },
  {
   "cell_type": "code",
   "execution_count": 5,
   "metadata": {},
   "outputs": [],
   "source": [
    "outputevents_uo = pd.read_parquet('./data/others/outputevents_uo.parquet')"
   ]
  },
  {
   "cell_type": "markdown",
   "metadata": {},
   "source": [
    "# Lab values"
   ]
  },
  {
   "cell_type": "code",
   "execution_count": 6,
   "metadata": {},
   "outputs": [],
   "source": [
    "def resample(chartevents_,labevents_,icustays):\n",
    "    rt = []\n",
    "    tmp_itemid = chartevents_.itemid[0]\n",
    "\n",
    "    icustays_intime = icustays[['subject_id','hadm_id','stay_id','intime']]\n",
    "    icustays_intime['intime'] = pd.to_datetime(icustays_intime['intime'])\n",
    "    icustays_intime = icustays_intime.rename(columns={'intime':'charttime'})\n",
    "\n",
    "    icustays_outtime = icustays[['subject_id','hadm_id','stay_id','outtime']]\n",
    "    icustays_outtime['outtime'] = pd.to_datetime(icustays_outtime['outtime'])\n",
    "    icustays_outtime = icustays_outtime.rename(columns={'outtime':'charttime'})\n",
    "\n",
    "    chartevents_['charttime'] = pd.to_datetime(chartevents_['charttime'])\n",
    "    labevents_['charttime'] = pd.to_datetime(labevents_['charttime'])\n",
    "\n",
    "    for i in tqdm(icustays.hadm_id.unique()):\n",
    "        tmp_hosp = labevents_[labevents_['hadm_id']==i]\n",
    "        tmp_hosp = tmp_hosp[['subject_id','hadm_id','charttime','itemid','valuenum']]\n",
    "        tmp_hosp.sort_values('charttime',ascending=True, inplace=True)\n",
    "\n",
    "        for i in icustays[icustays['hadm_id']==i].stay_id.unique():\n",
    "            tmp = chartevents_[chartevents_['stay_id']==i]\n",
    "            tmp_id = icustays[icustays['stay_id']==i][['subject_id','hadm_id','stay_id']].iloc[0].to_list()\n",
    "            tmp_intime = icustays_intime[icustays_intime['stay_id']==i]\n",
    "            tmp_outtime = icustays_outtime[icustays_outtime['stay_id']==i]\n",
    "\n",
    "            tmp = pd.concat([tmp, tmp_intime, tmp_outtime])\n",
    "\n",
    "            tmp = tmp[(tmp['charttime'].values >= tmp_intime.charttime.values)&(tmp['charttime'].values <= tmp_outtime.charttime.values)]\n",
    "            tmp.index = pd.DatetimeIndex(tmp['charttime'])\n",
    "\n",
    "            tmp = pd.DataFrame(tmp['valuenum'].resample(rule='H', origin='start').last())\n",
    "            tmp.reset_index(drop=False,inplace=True)\n",
    "\n",
    "            if tmp.iloc[0].isna().any():\n",
    "                tmp_hosp = tmp_hosp[(tmp_hosp['charttime'].values < tmp_intime.charttime.values)]\n",
    "                if not tmp_hosp.empty:\n",
    "                    tmp.iloc[0]['valuenum'] = tmp_hosp.iloc[-1].valuenum\n",
    "            tmp[['subject_id','hadm_id','stay_id']] = tmp_id\n",
    "            tmp['itemid'] = tmp_itemid\n",
    "            rt.append(tmp)\n",
    "    rt = pd.concat(rt)\n",
    "    rt = rt[['subject_id','hadm_id','stay_id','charttime','valuenum']]\n",
    "    return pd.concat(rt)"
   ]
  },
  {
   "cell_type": "code",
   "execution_count": 7,
   "metadata": {},
   "outputs": [
    {
     "data": {
      "application/vnd.jupyter.widget-view+json": {
       "model_id": "d7437cecd2694895a65290b2e713a0fe",
       "version_major": 2,
       "version_minor": 0
      },
      "text/plain": [
       "  0%|          | 0/30 [00:00<?, ?it/s]"
      ]
     },
     "metadata": {},
     "output_type": "display_data"
    }
   ],
   "source": [
    "for i,idx in enumerate(tqdm(labvalues.abbreviation.unique())):\n",
    "    if not os.path.isfile('./data/resample/resample_%s.parquet'%idx):\n",
    "        print(\"[%i/%i] Resampling %s...\"%(i+1,len(labvalues.abbreviation.unique()),idx))\n",
    "        globals()['resample_{}'.format(idx)] = resample(globals()['chartevents_{}'.format(idx)],globals()['labevents_{}'.format(idx)],icustays)\n",
    "        globals()['resample_{}'.format(idx)].to_parquet('./data/resample/resample_%s.parquet'%idx)\n",
    "    else : \n",
    "        globals()['resample_{}'.format(idx)] = pd.read_parquet('./data/resample/resample_%s.parquet'%idx)"
   ]
  },
  {
   "cell_type": "markdown",
   "metadata": {},
   "source": [
    "# Vitals"
   ]
  },
  {
   "cell_type": "code",
   "execution_count": 22,
   "metadata": {},
   "outputs": [],
   "source": [
    "def resample_vitals(chartevents_,icustays,itemid):\n",
    "    rt = []\n",
    "    icustays_intime = icustays[['subject_id','hadm_id','stay_id','intime']]\n",
    "    icustays_intime['intime'] = pd.to_datetime(icustays_intime['intime'])\n",
    "    icustays_intime = icustays_intime.rename(columns={'intime':'charttime'})\n",
    "\n",
    "    icustays_outtime = icustays[['subject_id','hadm_id','stay_id','outtime']]\n",
    "    icustays_outtime['outtime'] = pd.to_datetime(icustays_outtime['outtime'])\n",
    "    icustays_outtime = icustays_outtime.rename(columns={'outtime':'charttime'})\n",
    "    for i in tqdm(icustays.stay_id.unique()):\n",
    "        tmp = chartevents_[chartevents_['stay_id']==i]\n",
    "        tmp_id = icustays[icustays['stay_id']==i][['subject_id','hadm_id','stay_id']].iloc[0].to_list()\n",
    "        tmp_intime = icustays_intime[icustays_intime['stay_id']==i]\n",
    "        tmp_outtime = icustays_outtime[icustays_outtime['stay_id']==i]\n",
    "\n",
    "        tmp = pd.concat([tmp, tmp_intime, tmp_outtime])\n",
    "        tmp = tmp[(tmp['charttime'].values >= tmp_intime.charttime.values)&(tmp['charttime'].values <= tmp_outtime.charttime.values)]\n",
    "        tmp.index = pd.DatetimeIndex(tmp['charttime'])\n",
    "        tmp = pd.DataFrame(tmp['valuenum'].resample(rule='H', origin='start').last())\n",
    "        tmp.reset_index(drop=False,inplace=True)\n",
    "        tmp[['subject_id','hadm_id','stay_id']] = tmp_id\n",
    "        tmp['itemid'] = itemid\n",
    "        rt.append(tmp)\n",
    "    return pd.concat(rt)"
   ]
  },
  {
   "cell_type": "code",
   "execution_count": 23,
   "metadata": {},
   "outputs": [
    {
     "data": {
      "text/plain": [
       "array(['FiO2', 'SaO2', 'RR', 'ABPs', 'ABPd', 'NBPs', 'NBPd', 'temp', 'HR',\n",
       "       'CVP'], dtype=object)"
      ]
     },
     "execution_count": 23,
     "metadata": {},
     "output_type": "execute_result"
    }
   ],
   "source": [
    "vitals.abbreviation.unique()"
   ]
  },
  {
   "cell_type": "code",
   "execution_count": 8,
   "metadata": {},
   "outputs": [
    {
     "data": {
      "application/vnd.jupyter.widget-view+json": {
       "model_id": "ed56d18f3b36421b8886a4a2d8863a12",
       "version_major": 2,
       "version_minor": 0
      },
      "text/plain": [
       "  0%|          | 0/10 [00:00<?, ?it/s]"
      ]
     },
     "metadata": {},
     "output_type": "display_data"
    }
   ],
   "source": [
    "for i,idx in enumerate(tqdm(vitals.abbreviation.unique())):\n",
    "    if not os.path.isfile('./data/resample/resample_%s.parquet'%idx):\n",
    "        print(\"[%i/%i] Resampling %s...\"%(i+1,len(vitals.abbreviation.unique()),idx))\n",
    "        globals()['resample_{}'.format(idx)] = resample_vitals(globals()['chartevents_{}'.format(idx)],icustays,idx)\n",
    "        globals()['resample_{}'.format(idx)].to_parquet('./data/resample/resample_%s.parquet'%idx)\n",
    "    else : \n",
    "        globals()['resample_{}'.format(idx)] = pd.read_parquet('./data/resample/resample_%s.parquet'%idx)"
   ]
  },
  {
   "cell_type": "code",
   "execution_count": 29,
   "metadata": {},
   "outputs": [],
   "source": [
    "# NaN 값이 있는 행을 찾고, 해당 stay_id와 charttime으로 resample_NBPs에서 값을 찾아 대체하는 함수 (merge와 numpy.where 사용)\n",
    "def replace_nan_values_efficient(resample_ABPs, resample_NBPs):\n",
    "    # stay_id와 charttime을 기준으로 두 DataFrame을 병합\n",
    "    merged_df = resample_ABPs.merge(resample_NBPs, on=['subject_id','hadm_id','stay_id', 'charttime'], how='left', suffixes=('', '_nbp'))\n",
    "\n",
    "    # valuenum 열에서 NaN을 대체\n",
    "    merged_df['valuenum'] = np.where(pd.isna(merged_df['valuenum']), merged_df['valuenum_nbp'], merged_df['valuenum'])\n",
    "\n",
    "    # 원래의 열만 남기고 반환\n",
    "    return merged_df[['subject_id','hadm_id','stay_id', 'charttime', 'valuenum']]\n",
    "\n",
    "# 함수를 사용하여 NaN 값을 대체\n",
    "resample_SBP = replace_nan_values_efficient(resample_ABPs, resample_NBPs)\n",
    "resample_DBP = replace_nan_values_efficient(resample_ABPd, resample_NBPd)"
   ]
  },
  {
   "cell_type": "code",
   "execution_count": 31,
   "metadata": {},
   "outputs": [],
   "source": [
    "resample_SBP.to_parquet('./data/resample/resample_SBP.parquet')\n",
    "resample_DBP.to_parquet('./data/resample/resample_DBP.parquet')"
   ]
  },
  {
   "cell_type": "markdown",
   "metadata": {},
   "source": [
    "# SOFA"
   ]
  },
  {
   "cell_type": "markdown",
   "metadata": {},
   "source": [
    "## Central nervous system(GCS)"
   ]
  },
  {
   "cell_type": "code",
   "execution_count": 9,
   "metadata": {},
   "outputs": [],
   "source": [
    "chartevents_GCS_eye = pd.read_parquet('./data/others/chartevents_GCS_eye.parquet')\n",
    "chartevents_GCS_verval= pd.read_parquet('./data/others/chartevents_GCS_verval.parquet')\n",
    "chartevents_GCS_motor = pd.read_parquet('./data/others/chartevents_GCS_motor.parquet')"
   ]
  },
  {
   "cell_type": "code",
   "execution_count": 10,
   "metadata": {},
   "outputs": [
    {
     "data": {
      "application/vnd.jupyter.widget-view+json": {
       "model_id": "5f0e9a96e77c43cbb7b9739571bdbde3",
       "version_major": 2,
       "version_minor": 0
      },
      "text/plain": [
       "  0%|          | 0/3 [00:00<?, ?it/s]"
      ]
     },
     "metadata": {},
     "output_type": "display_data"
    }
   ],
   "source": [
    "GCS = ['GCS_eye','GCS_verval','GCS_motor']\n",
    "for i,idx in enumerate(tqdm(GCS)):\n",
    "    if not os.path.isfile('./data/resample/resample_%s.parquet'%idx):\n",
    "        print(\"[%i/%i] Resampling %s...\"%(i+1,len(vitals.abbreviation.unique()),idx))\n",
    "        globals()['resample_{}'.format(idx)] = resample_vitals(globals()['chartevents_{}'.format(idx)],icustays,idx)\n",
    "        globals()['resample_{}'.format(idx)].to_parquet('./data/resample/resample_%s.parquet'%idx)\n",
    "    else : globals()['resample_{}'.format(idx)] = pd.read_parquet('./data/resample/resample_%s.parquet'%idx)"
   ]
  },
  {
   "cell_type": "code",
   "execution_count": 11,
   "metadata": {},
   "outputs": [],
   "source": [
    "resample_GCS_eye = utils.resample_ffill(resample_GCS_eye)\n",
    "resample_GCS_verval = utils.resample_ffill(resample_GCS_verval)\n",
    "resample_GCS_motor = utils.resample_ffill(resample_GCS_motor)\n",
    "\n",
    "resample_GCS_eye = utils.resample_bfill(resample_GCS_eye)\n",
    "resample_GCS_verval = utils.resample_bfill(resample_GCS_verval)\n",
    "resample_GCS_motor = utils.resample_bfill(resample_GCS_motor)\n",
    "\n",
    "resample_GCS_eye.rename(columns={'valuenum':'GCS_eye'},inplace=True)\n",
    "resample_GCS_verval.rename(columns={'valuenum':'GCS_verval'},inplace=True)\n",
    "resample_GCS_motor.rename(columns={'valuenum':'GCS_motor'},inplace=True)\n",
    "\n",
    "resample_GCS_eye.drop('itemid',axis=1,inplace=True)\n",
    "resample_GCS_verval.drop('itemid',axis=1,inplace=True)\n",
    "resample_GCS_motor.drop('itemid',axis=1,inplace=True)\n",
    "\n",
    "resample_GCS = pd.merge(resample_GCS_eye,resample_GCS_verval,on=['subject_id','hadm_id','stay_id','charttime'],how='left')\n",
    "resample_GCS = pd.merge(resample_GCS,resample_GCS_motor,on=['subject_id','hadm_id','stay_id','charttime'],how='left')\n",
    "\n",
    "resample_GCS = resample_GCS[['subject_id','hadm_id','stay_id','charttime','GCS_eye','GCS_verval','GCS_motor']]\n",
    "resample_GCS['GCS'] = resample_GCS['GCS_eye'] + resample_GCS['GCS_verval'] + resample_GCS['GCS_motor']"
   ]
  },
  {
   "cell_type": "code",
   "execution_count": 12,
   "metadata": {},
   "outputs": [
    {
     "data": {
      "text/html": [
       "<div>\n",
       "<style scoped>\n",
       "    .dataframe tbody tr th:only-of-type {\n",
       "        vertical-align: middle;\n",
       "    }\n",
       "\n",
       "    .dataframe tbody tr th {\n",
       "        vertical-align: top;\n",
       "    }\n",
       "\n",
       "    .dataframe thead th {\n",
       "        text-align: right;\n",
       "    }\n",
       "</style>\n",
       "<table border=\"1\" class=\"dataframe\">\n",
       "  <thead>\n",
       "    <tr style=\"text-align: right;\">\n",
       "      <th></th>\n",
       "      <th>subject_id</th>\n",
       "      <th>hadm_id</th>\n",
       "      <th>stay_id</th>\n",
       "      <th>charttime</th>\n",
       "      <th>GCS_eye</th>\n",
       "      <th>GCS_verval</th>\n",
       "      <th>GCS_motor</th>\n",
       "      <th>GCS</th>\n",
       "    </tr>\n",
       "  </thead>\n",
       "  <tbody>\n",
       "    <tr>\n",
       "      <th>0</th>\n",
       "      <td>10000032</td>\n",
       "      <td>29079034</td>\n",
       "      <td>39553978</td>\n",
       "      <td>2180-07-23 14:00:00</td>\n",
       "      <td>4.0</td>\n",
       "      <td>4.0</td>\n",
       "      <td>6.0</td>\n",
       "      <td>14.0</td>\n",
       "    </tr>\n",
       "    <tr>\n",
       "      <th>1</th>\n",
       "      <td>10000032</td>\n",
       "      <td>29079034</td>\n",
       "      <td>39553978</td>\n",
       "      <td>2180-07-23 15:00:00</td>\n",
       "      <td>4.0</td>\n",
       "      <td>4.0</td>\n",
       "      <td>6.0</td>\n",
       "      <td>14.0</td>\n",
       "    </tr>\n",
       "    <tr>\n",
       "      <th>2</th>\n",
       "      <td>10000032</td>\n",
       "      <td>29079034</td>\n",
       "      <td>39553978</td>\n",
       "      <td>2180-07-23 16:00:00</td>\n",
       "      <td>4.0</td>\n",
       "      <td>4.0</td>\n",
       "      <td>6.0</td>\n",
       "      <td>14.0</td>\n",
       "    </tr>\n",
       "    <tr>\n",
       "      <th>3</th>\n",
       "      <td>10000032</td>\n",
       "      <td>29079034</td>\n",
       "      <td>39553978</td>\n",
       "      <td>2180-07-23 17:00:00</td>\n",
       "      <td>4.0</td>\n",
       "      <td>4.0</td>\n",
       "      <td>6.0</td>\n",
       "      <td>14.0</td>\n",
       "    </tr>\n",
       "    <tr>\n",
       "      <th>4</th>\n",
       "      <td>10000032</td>\n",
       "      <td>29079034</td>\n",
       "      <td>39553978</td>\n",
       "      <td>2180-07-23 18:00:00</td>\n",
       "      <td>4.0</td>\n",
       "      <td>5.0</td>\n",
       "      <td>6.0</td>\n",
       "      <td>15.0</td>\n",
       "    </tr>\n",
       "    <tr>\n",
       "      <th>...</th>\n",
       "      <td>...</td>\n",
       "      <td>...</td>\n",
       "      <td>...</td>\n",
       "      <td>...</td>\n",
       "      <td>...</td>\n",
       "      <td>...</td>\n",
       "      <td>...</td>\n",
       "      <td>...</td>\n",
       "    </tr>\n",
       "    <tr>\n",
       "      <th>6099429</th>\n",
       "      <td>19999987</td>\n",
       "      <td>23865745</td>\n",
       "      <td>36195440</td>\n",
       "      <td>2145-11-04 16:59:00</td>\n",
       "      <td>3.0</td>\n",
       "      <td>4.0</td>\n",
       "      <td>6.0</td>\n",
       "      <td>13.0</td>\n",
       "    </tr>\n",
       "    <tr>\n",
       "      <th>6099430</th>\n",
       "      <td>19999987</td>\n",
       "      <td>23865745</td>\n",
       "      <td>36195440</td>\n",
       "      <td>2145-11-04 17:59:00</td>\n",
       "      <td>3.0</td>\n",
       "      <td>4.0</td>\n",
       "      <td>6.0</td>\n",
       "      <td>13.0</td>\n",
       "    </tr>\n",
       "    <tr>\n",
       "      <th>6099431</th>\n",
       "      <td>19999987</td>\n",
       "      <td>23865745</td>\n",
       "      <td>36195440</td>\n",
       "      <td>2145-11-04 18:59:00</td>\n",
       "      <td>3.0</td>\n",
       "      <td>4.0</td>\n",
       "      <td>6.0</td>\n",
       "      <td>13.0</td>\n",
       "    </tr>\n",
       "    <tr>\n",
       "      <th>6099432</th>\n",
       "      <td>19999987</td>\n",
       "      <td>23865745</td>\n",
       "      <td>36195440</td>\n",
       "      <td>2145-11-04 19:59:00</td>\n",
       "      <td>4.0</td>\n",
       "      <td>4.0</td>\n",
       "      <td>6.0</td>\n",
       "      <td>14.0</td>\n",
       "    </tr>\n",
       "    <tr>\n",
       "      <th>6099433</th>\n",
       "      <td>19999987</td>\n",
       "      <td>23865745</td>\n",
       "      <td>36195440</td>\n",
       "      <td>2145-11-04 20:59:00</td>\n",
       "      <td>4.0</td>\n",
       "      <td>4.0</td>\n",
       "      <td>6.0</td>\n",
       "      <td>14.0</td>\n",
       "    </tr>\n",
       "  </tbody>\n",
       "</table>\n",
       "<p>6099434 rows × 8 columns</p>\n",
       "</div>"
      ],
      "text/plain": [
       "         subject_id   hadm_id   stay_id           charttime  GCS_eye  \\\n",
       "0          10000032  29079034  39553978 2180-07-23 14:00:00      4.0   \n",
       "1          10000032  29079034  39553978 2180-07-23 15:00:00      4.0   \n",
       "2          10000032  29079034  39553978 2180-07-23 16:00:00      4.0   \n",
       "3          10000032  29079034  39553978 2180-07-23 17:00:00      4.0   \n",
       "4          10000032  29079034  39553978 2180-07-23 18:00:00      4.0   \n",
       "...             ...       ...       ...                 ...      ...   \n",
       "6099429    19999987  23865745  36195440 2145-11-04 16:59:00      3.0   \n",
       "6099430    19999987  23865745  36195440 2145-11-04 17:59:00      3.0   \n",
       "6099431    19999987  23865745  36195440 2145-11-04 18:59:00      3.0   \n",
       "6099432    19999987  23865745  36195440 2145-11-04 19:59:00      4.0   \n",
       "6099433    19999987  23865745  36195440 2145-11-04 20:59:00      4.0   \n",
       "\n",
       "         GCS_verval  GCS_motor   GCS  \n",
       "0               4.0        6.0  14.0  \n",
       "1               4.0        6.0  14.0  \n",
       "2               4.0        6.0  14.0  \n",
       "3               4.0        6.0  14.0  \n",
       "4               5.0        6.0  15.0  \n",
       "...             ...        ...   ...  \n",
       "6099429         4.0        6.0  13.0  \n",
       "6099430         4.0        6.0  13.0  \n",
       "6099431         4.0        6.0  13.0  \n",
       "6099432         4.0        6.0  14.0  \n",
       "6099433         4.0        6.0  14.0  \n",
       "\n",
       "[6099434 rows x 8 columns]"
      ]
     },
     "execution_count": 12,
     "metadata": {},
     "output_type": "execute_result"
    }
   ],
   "source": [
    "resample_GCS"
   ]
  },
  {
   "cell_type": "markdown",
   "metadata": {},
   "source": [
    "## Cardiovascular system (MAP & Vasopressor)"
   ]
  },
  {
   "cell_type": "code",
   "execution_count": 13,
   "metadata": {},
   "outputs": [],
   "source": [
    "resample_DBP = pd.read_parquet('./data/resample/resample_DBP.parquet')\n",
    "resample_SBP = pd.read_parquet('./data/resample/resample_SBP.parquet')"
   ]
  },
  {
   "cell_type": "code",
   "execution_count": 14,
   "metadata": {},
   "outputs": [],
   "source": [
    "def resample_MAP(resample_DBP,resample_SBP):\n",
    "    resample_SBP = utils.resample_ffill(resample_SBP)\n",
    "    resample_SBP = utils.resample_bfill(resample_SBP)\n",
    "    resample_DBP = utils.resample_ffill(resample_DBP)\n",
    "    resample_DBP = utils.resample_bfill(resample_DBP)\n",
    "\n",
    "    resample_DBP.rename(columns={'valuenum':'DBP'},inplace=True)\n",
    "    resample_SBP.rename(columns={'valuenum':'SBP'},inplace=True)\n",
    "\n",
    "    resample_MAP = pd.merge(resample_DBP,resample_SBP,on=['subject_id','hadm_id','stay_id','charttime'],how='left')\n",
    "    resample_MAP['MAP'] = (resample_MAP['SBP'] + 2*resample_MAP['DBP'])/3\n",
    "    resample_MAP = resample_MAP[['subject_id','hadm_id','stay_id','charttime','MAP']]\n",
    "    return resample_MAP"
   ]
  },
  {
   "cell_type": "code",
   "execution_count": 15,
   "metadata": {},
   "outputs": [],
   "source": [
    "resample_MAP = resample_MAP(resample_DBP,resample_SBP)"
   ]
  },
  {
   "cell_type": "code",
   "execution_count": 16,
   "metadata": {},
   "outputs": [
    {
     "data": {
      "text/html": [
       "<div>\n",
       "<style scoped>\n",
       "    .dataframe tbody tr th:only-of-type {\n",
       "        vertical-align: middle;\n",
       "    }\n",
       "\n",
       "    .dataframe tbody tr th {\n",
       "        vertical-align: top;\n",
       "    }\n",
       "\n",
       "    .dataframe thead th {\n",
       "        text-align: right;\n",
       "    }\n",
       "</style>\n",
       "<table border=\"1\" class=\"dataframe\">\n",
       "  <thead>\n",
       "    <tr style=\"text-align: right;\">\n",
       "      <th></th>\n",
       "      <th>subject_id</th>\n",
       "      <th>hadm_id</th>\n",
       "      <th>stay_id</th>\n",
       "      <th>charttime</th>\n",
       "      <th>MAP</th>\n",
       "    </tr>\n",
       "  </thead>\n",
       "  <tbody>\n",
       "    <tr>\n",
       "      <th>0</th>\n",
       "      <td>10000032</td>\n",
       "      <td>29079034</td>\n",
       "      <td>39553978</td>\n",
       "      <td>2180-07-23 14:00:00</td>\n",
       "      <td>71.000000</td>\n",
       "    </tr>\n",
       "    <tr>\n",
       "      <th>1</th>\n",
       "      <td>10000032</td>\n",
       "      <td>29079034</td>\n",
       "      <td>39553978</td>\n",
       "      <td>2180-07-23 15:00:00</td>\n",
       "      <td>66.666667</td>\n",
       "    </tr>\n",
       "    <tr>\n",
       "      <th>2</th>\n",
       "      <td>10000032</td>\n",
       "      <td>29079034</td>\n",
       "      <td>39553978</td>\n",
       "      <td>2180-07-23 16:00:00</td>\n",
       "      <td>67.000000</td>\n",
       "    </tr>\n",
       "    <tr>\n",
       "      <th>3</th>\n",
       "      <td>10000032</td>\n",
       "      <td>29079034</td>\n",
       "      <td>39553978</td>\n",
       "      <td>2180-07-23 17:00:00</td>\n",
       "      <td>70.333333</td>\n",
       "    </tr>\n",
       "    <tr>\n",
       "      <th>4</th>\n",
       "      <td>10000032</td>\n",
       "      <td>29079034</td>\n",
       "      <td>39553978</td>\n",
       "      <td>2180-07-23 18:00:00</td>\n",
       "      <td>64.000000</td>\n",
       "    </tr>\n",
       "    <tr>\n",
       "      <th>...</th>\n",
       "      <td>...</td>\n",
       "      <td>...</td>\n",
       "      <td>...</td>\n",
       "      <td>...</td>\n",
       "      <td>...</td>\n",
       "    </tr>\n",
       "    <tr>\n",
       "      <th>6099429</th>\n",
       "      <td>19999987</td>\n",
       "      <td>23865745</td>\n",
       "      <td>36195440</td>\n",
       "      <td>2145-11-04 16:59:00</td>\n",
       "      <td>112.000000</td>\n",
       "    </tr>\n",
       "    <tr>\n",
       "      <th>6099430</th>\n",
       "      <td>19999987</td>\n",
       "      <td>23865745</td>\n",
       "      <td>36195440</td>\n",
       "      <td>2145-11-04 17:59:00</td>\n",
       "      <td>112.000000</td>\n",
       "    </tr>\n",
       "    <tr>\n",
       "      <th>6099431</th>\n",
       "      <td>19999987</td>\n",
       "      <td>23865745</td>\n",
       "      <td>36195440</td>\n",
       "      <td>2145-11-04 18:59:00</td>\n",
       "      <td>134.333333</td>\n",
       "    </tr>\n",
       "    <tr>\n",
       "      <th>6099432</th>\n",
       "      <td>19999987</td>\n",
       "      <td>23865745</td>\n",
       "      <td>36195440</td>\n",
       "      <td>2145-11-04 19:59:00</td>\n",
       "      <td>134.333333</td>\n",
       "    </tr>\n",
       "    <tr>\n",
       "      <th>6099433</th>\n",
       "      <td>19999987</td>\n",
       "      <td>23865745</td>\n",
       "      <td>36195440</td>\n",
       "      <td>2145-11-04 20:59:00</td>\n",
       "      <td>119.000000</td>\n",
       "    </tr>\n",
       "  </tbody>\n",
       "</table>\n",
       "<p>6099434 rows × 5 columns</p>\n",
       "</div>"
      ],
      "text/plain": [
       "         subject_id   hadm_id   stay_id           charttime         MAP\n",
       "0          10000032  29079034  39553978 2180-07-23 14:00:00   71.000000\n",
       "1          10000032  29079034  39553978 2180-07-23 15:00:00   66.666667\n",
       "2          10000032  29079034  39553978 2180-07-23 16:00:00   67.000000\n",
       "3          10000032  29079034  39553978 2180-07-23 17:00:00   70.333333\n",
       "4          10000032  29079034  39553978 2180-07-23 18:00:00   64.000000\n",
       "...             ...       ...       ...                 ...         ...\n",
       "6099429    19999987  23865745  36195440 2145-11-04 16:59:00  112.000000\n",
       "6099430    19999987  23865745  36195440 2145-11-04 17:59:00  112.000000\n",
       "6099431    19999987  23865745  36195440 2145-11-04 18:59:00  134.333333\n",
       "6099432    19999987  23865745  36195440 2145-11-04 19:59:00  134.333333\n",
       "6099433    19999987  23865745  36195440 2145-11-04 20:59:00  119.000000\n",
       "\n",
       "[6099434 rows x 5 columns]"
      ]
     },
     "execution_count": 16,
     "metadata": {},
     "output_type": "execute_result"
    }
   ],
   "source": [
    "resample_MAP"
   ]
  },
  {
   "cell_type": "code",
   "execution_count": 34,
   "metadata": {},
   "outputs": [
    {
     "data": {
      "application/vnd.jupyter.widget-view+json": {
       "model_id": "a3618c61650f41e698ed449cee9b8057",
       "version_major": 2,
       "version_minor": 0
      },
      "text/plain": [
       "  0%|          | 0/6 [00:00<?, ?it/s]"
      ]
     },
     "metadata": {},
     "output_type": "display_data"
    }
   ],
   "source": [
    "Vaso = ['epinephrine','dopamine','dobutamine','norephinephrine','phenylephrine','vasopressin']\n",
    "for i,idx in enumerate(tqdm(Vaso)):\n",
    "    globals()['resample_{}'.format(idx)] = pd.read_parquet('./data/resample/resample_%s.parquet'%idx)"
   ]
  },
  {
   "cell_type": "code",
   "execution_count": null,
   "metadata": {},
   "outputs": [],
   "source": []
  },
  {
   "cell_type": "markdown",
   "metadata": {},
   "source": [
    "## Respiratory system (PaO2/FiO2)"
   ]
  },
  {
   "cell_type": "code",
   "execution_count": 18,
   "metadata": {},
   "outputs": [],
   "source": [
    "def resample_PF(resample_PaO2,resample_FiO2):\n",
    "    resample_PaO2.rename(columns={'valuenum':'PaO2'},inplace=True)\n",
    "    resample_FiO2.rename(columns={'valuenum':'FiO2'},inplace=True)\n",
    "\n",
    "    df = pd.merge(resample_PaO2,resample_FiO2,on=['subject_id','hadm_id','stay_id','charttime'],how='left')\n",
    "    df['PF'] = df['PaO2']/(df['FiO2']/100)\n",
    "    df = df[['subject_id','hadm_id','stay_id','charttime','PF']]\n",
    "    return df\n",
    "\n",
    "resample_PF = resample_PF(resample_PaO2,resample_FiO2)"
   ]
  },
  {
   "cell_type": "markdown",
   "metadata": {},
   "source": [
    "## Coagulation (Platelet)"
   ]
  },
  {
   "cell_type": "code",
   "execution_count": 19,
   "metadata": {},
   "outputs": [
    {
     "data": {
      "text/html": [
       "<div>\n",
       "<style scoped>\n",
       "    .dataframe tbody tr th:only-of-type {\n",
       "        vertical-align: middle;\n",
       "    }\n",
       "\n",
       "    .dataframe tbody tr th {\n",
       "        vertical-align: top;\n",
       "    }\n",
       "\n",
       "    .dataframe thead th {\n",
       "        text-align: right;\n",
       "    }\n",
       "</style>\n",
       "<table border=\"1\" class=\"dataframe\">\n",
       "  <thead>\n",
       "    <tr style=\"text-align: right;\">\n",
       "      <th></th>\n",
       "      <th>subject_id</th>\n",
       "      <th>hadm_id</th>\n",
       "      <th>stay_id</th>\n",
       "      <th>charttime</th>\n",
       "      <th>Platelet</th>\n",
       "    </tr>\n",
       "  </thead>\n",
       "  <tbody>\n",
       "    <tr>\n",
       "      <th>0</th>\n",
       "      <td>10000032</td>\n",
       "      <td>29079034</td>\n",
       "      <td>39553978</td>\n",
       "      <td>2180-07-23 14:00:00</td>\n",
       "      <td>NaN</td>\n",
       "    </tr>\n",
       "    <tr>\n",
       "      <th>1</th>\n",
       "      <td>10000032</td>\n",
       "      <td>29079034</td>\n",
       "      <td>39553978</td>\n",
       "      <td>2180-07-23 15:00:00</td>\n",
       "      <td>NaN</td>\n",
       "    </tr>\n",
       "    <tr>\n",
       "      <th>2</th>\n",
       "      <td>10000032</td>\n",
       "      <td>29079034</td>\n",
       "      <td>39553978</td>\n",
       "      <td>2180-07-23 16:00:00</td>\n",
       "      <td>NaN</td>\n",
       "    </tr>\n",
       "    <tr>\n",
       "      <th>3</th>\n",
       "      <td>10000032</td>\n",
       "      <td>29079034</td>\n",
       "      <td>39553978</td>\n",
       "      <td>2180-07-23 17:00:00</td>\n",
       "      <td>NaN</td>\n",
       "    </tr>\n",
       "    <tr>\n",
       "      <th>4</th>\n",
       "      <td>10000032</td>\n",
       "      <td>29079034</td>\n",
       "      <td>39553978</td>\n",
       "      <td>2180-07-23 18:00:00</td>\n",
       "      <td>NaN</td>\n",
       "    </tr>\n",
       "    <tr>\n",
       "      <th>...</th>\n",
       "      <td>...</td>\n",
       "      <td>...</td>\n",
       "      <td>...</td>\n",
       "      <td>...</td>\n",
       "      <td>...</td>\n",
       "    </tr>\n",
       "    <tr>\n",
       "      <th>42</th>\n",
       "      <td>19999987</td>\n",
       "      <td>23865745</td>\n",
       "      <td>36195440</td>\n",
       "      <td>2145-11-04 16:59:00</td>\n",
       "      <td>120.0</td>\n",
       "    </tr>\n",
       "    <tr>\n",
       "      <th>43</th>\n",
       "      <td>19999987</td>\n",
       "      <td>23865745</td>\n",
       "      <td>36195440</td>\n",
       "      <td>2145-11-04 17:59:00</td>\n",
       "      <td>120.0</td>\n",
       "    </tr>\n",
       "    <tr>\n",
       "      <th>44</th>\n",
       "      <td>19999987</td>\n",
       "      <td>23865745</td>\n",
       "      <td>36195440</td>\n",
       "      <td>2145-11-04 18:59:00</td>\n",
       "      <td>120.0</td>\n",
       "    </tr>\n",
       "    <tr>\n",
       "      <th>45</th>\n",
       "      <td>19999987</td>\n",
       "      <td>23865745</td>\n",
       "      <td>36195440</td>\n",
       "      <td>2145-11-04 19:59:00</td>\n",
       "      <td>120.0</td>\n",
       "    </tr>\n",
       "    <tr>\n",
       "      <th>46</th>\n",
       "      <td>19999987</td>\n",
       "      <td>23865745</td>\n",
       "      <td>36195440</td>\n",
       "      <td>2145-11-04 20:59:00</td>\n",
       "      <td>120.0</td>\n",
       "    </tr>\n",
       "  </tbody>\n",
       "</table>\n",
       "<p>6099434 rows × 5 columns</p>\n",
       "</div>"
      ],
      "text/plain": [
       "    subject_id   hadm_id   stay_id           charttime  Platelet\n",
       "0     10000032  29079034  39553978 2180-07-23 14:00:00       NaN\n",
       "1     10000032  29079034  39553978 2180-07-23 15:00:00       NaN\n",
       "2     10000032  29079034  39553978 2180-07-23 16:00:00       NaN\n",
       "3     10000032  29079034  39553978 2180-07-23 17:00:00       NaN\n",
       "4     10000032  29079034  39553978 2180-07-23 18:00:00       NaN\n",
       "..         ...       ...       ...                 ...       ...\n",
       "42    19999987  23865745  36195440 2145-11-04 16:59:00     120.0\n",
       "43    19999987  23865745  36195440 2145-11-04 17:59:00     120.0\n",
       "44    19999987  23865745  36195440 2145-11-04 18:59:00     120.0\n",
       "45    19999987  23865745  36195440 2145-11-04 19:59:00     120.0\n",
       "46    19999987  23865745  36195440 2145-11-04 20:59:00     120.0\n",
       "\n",
       "[6099434 rows x 5 columns]"
      ]
     },
     "execution_count": 19,
     "metadata": {},
     "output_type": "execute_result"
    }
   ],
   "source": [
    "resample_Platelet"
   ]
  },
  {
   "cell_type": "markdown",
   "metadata": {},
   "source": [
    "## Liver (Bilirubin)"
   ]
  },
  {
   "cell_type": "code",
   "execution_count": 20,
   "metadata": {},
   "outputs": [
    {
     "data": {
      "text/html": [
       "<div>\n",
       "<style scoped>\n",
       "    .dataframe tbody tr th:only-of-type {\n",
       "        vertical-align: middle;\n",
       "    }\n",
       "\n",
       "    .dataframe tbody tr th {\n",
       "        vertical-align: top;\n",
       "    }\n",
       "\n",
       "    .dataframe thead th {\n",
       "        text-align: right;\n",
       "    }\n",
       "</style>\n",
       "<table border=\"1\" class=\"dataframe\">\n",
       "  <thead>\n",
       "    <tr style=\"text-align: right;\">\n",
       "      <th></th>\n",
       "      <th>subject_id</th>\n",
       "      <th>hadm_id</th>\n",
       "      <th>stay_id</th>\n",
       "      <th>charttime</th>\n",
       "      <th>T_Bil</th>\n",
       "    </tr>\n",
       "  </thead>\n",
       "  <tbody>\n",
       "    <tr>\n",
       "      <th>0</th>\n",
       "      <td>10000032</td>\n",
       "      <td>29079034</td>\n",
       "      <td>39553978</td>\n",
       "      <td>2180-07-23 14:00:00</td>\n",
       "      <td>NaN</td>\n",
       "    </tr>\n",
       "    <tr>\n",
       "      <th>1</th>\n",
       "      <td>10000032</td>\n",
       "      <td>29079034</td>\n",
       "      <td>39553978</td>\n",
       "      <td>2180-07-23 15:00:00</td>\n",
       "      <td>NaN</td>\n",
       "    </tr>\n",
       "    <tr>\n",
       "      <th>2</th>\n",
       "      <td>10000032</td>\n",
       "      <td>29079034</td>\n",
       "      <td>39553978</td>\n",
       "      <td>2180-07-23 16:00:00</td>\n",
       "      <td>NaN</td>\n",
       "    </tr>\n",
       "    <tr>\n",
       "      <th>3</th>\n",
       "      <td>10000032</td>\n",
       "      <td>29079034</td>\n",
       "      <td>39553978</td>\n",
       "      <td>2180-07-23 17:00:00</td>\n",
       "      <td>NaN</td>\n",
       "    </tr>\n",
       "    <tr>\n",
       "      <th>4</th>\n",
       "      <td>10000032</td>\n",
       "      <td>29079034</td>\n",
       "      <td>39553978</td>\n",
       "      <td>2180-07-23 18:00:00</td>\n",
       "      <td>NaN</td>\n",
       "    </tr>\n",
       "    <tr>\n",
       "      <th>...</th>\n",
       "      <td>...</td>\n",
       "      <td>...</td>\n",
       "      <td>...</td>\n",
       "      <td>...</td>\n",
       "      <td>...</td>\n",
       "    </tr>\n",
       "    <tr>\n",
       "      <th>42</th>\n",
       "      <td>19999987</td>\n",
       "      <td>23865745</td>\n",
       "      <td>36195440</td>\n",
       "      <td>2145-11-04 16:59:00</td>\n",
       "      <td>1.5</td>\n",
       "    </tr>\n",
       "    <tr>\n",
       "      <th>43</th>\n",
       "      <td>19999987</td>\n",
       "      <td>23865745</td>\n",
       "      <td>36195440</td>\n",
       "      <td>2145-11-04 17:59:00</td>\n",
       "      <td>1.5</td>\n",
       "    </tr>\n",
       "    <tr>\n",
       "      <th>44</th>\n",
       "      <td>19999987</td>\n",
       "      <td>23865745</td>\n",
       "      <td>36195440</td>\n",
       "      <td>2145-11-04 18:59:00</td>\n",
       "      <td>1.5</td>\n",
       "    </tr>\n",
       "    <tr>\n",
       "      <th>45</th>\n",
       "      <td>19999987</td>\n",
       "      <td>23865745</td>\n",
       "      <td>36195440</td>\n",
       "      <td>2145-11-04 19:59:00</td>\n",
       "      <td>1.5</td>\n",
       "    </tr>\n",
       "    <tr>\n",
       "      <th>46</th>\n",
       "      <td>19999987</td>\n",
       "      <td>23865745</td>\n",
       "      <td>36195440</td>\n",
       "      <td>2145-11-04 20:59:00</td>\n",
       "      <td>1.5</td>\n",
       "    </tr>\n",
       "  </tbody>\n",
       "</table>\n",
       "<p>6099434 rows × 5 columns</p>\n",
       "</div>"
      ],
      "text/plain": [
       "    subject_id   hadm_id   stay_id           charttime  T_Bil\n",
       "0     10000032  29079034  39553978 2180-07-23 14:00:00    NaN\n",
       "1     10000032  29079034  39553978 2180-07-23 15:00:00    NaN\n",
       "2     10000032  29079034  39553978 2180-07-23 16:00:00    NaN\n",
       "3     10000032  29079034  39553978 2180-07-23 17:00:00    NaN\n",
       "4     10000032  29079034  39553978 2180-07-23 18:00:00    NaN\n",
       "..         ...       ...       ...                 ...    ...\n",
       "42    19999987  23865745  36195440 2145-11-04 16:59:00    1.5\n",
       "43    19999987  23865745  36195440 2145-11-04 17:59:00    1.5\n",
       "44    19999987  23865745  36195440 2145-11-04 18:59:00    1.5\n",
       "45    19999987  23865745  36195440 2145-11-04 19:59:00    1.5\n",
       "46    19999987  23865745  36195440 2145-11-04 20:59:00    1.5\n",
       "\n",
       "[6099434 rows x 5 columns]"
      ]
     },
     "execution_count": 20,
     "metadata": {},
     "output_type": "execute_result"
    }
   ],
   "source": [
    "resample_T_Bil"
   ]
  },
  {
   "cell_type": "code",
   "execution_count": 65,
   "metadata": {},
   "outputs": [
    {
     "name": "stdout",
     "output_type": "stream",
     "text": [
      "MAP\n",
      "dopamine\n",
      "dobutamine\n",
      "epinephrine\n",
      "norephinephrine\n",
      "PF\n",
      "Platelet\n",
      "T_Bil\n",
      "SCr\n"
     ]
    }
   ],
   "source": [
    "resample_SOFA = resample_GCS.copy()\n",
    "for i in ['MAP','dopamine','dobutamine','epinephrine','norephinephrine','PF','Platelet','T_Bil','SCr']:\n",
    "    print(i)\n",
    "    resample_SOFA = pd.merge(resample_SOFA,globals()['resample_{}'.format(i)],on=['subject_id','hadm_id','stay_id','charttime'],how='left')"
   ]
  },
  {
   "cell_type": "code",
   "execution_count": 71,
   "metadata": {},
   "outputs": [],
   "source": [
    "def cal_SOFA(df):\n",
    "    # Central nervous system\n",
    "    #df.loc[df['GCS'].isna(),'SOFA_CNS'] = 0\n",
    "    df.loc[df['GCS']==15,'SOFA_CNS'] = 0\n",
    "    df.loc[(df['GCS']>=13)&(df['GCS']<=14),'SOFA_CNS'] = 1\n",
    "    df.loc[(df['GCS']>=10)&(df['GCS']<=12),'SOFA_CNS'] = 2\n",
    "    df.loc[(df['GCS']>=6)&(df['GCS']<=9),'SOFA_CNS'] = 3\n",
    "    df.loc[(df['GCS']<6),'SOFA_CNS'] = 4\n",
    "\n",
    "    # Cardiovascular system\n",
    "    #df.loc[df['MAP'].isna(),'SOFA_CVS'] = 0\n",
    "    df.loc[df['MAP']>=70,'SOFA_CVS'] = 0\n",
    "    df.loc[df['MAP']<70,'SOFA_CVS'] = 1\n",
    "    df.loc[((df['dopamine']<=5)&(df['dopamine']>0))|(df['dobutamine']>0),'SOFA_CVS'] = 2\n",
    "    df.loc[(df['dopamine']>5)|((df['epinephrine']<=0.1)&(df['epinephrine']>0))|((df['norephinephrine']<=0.1)&(df['norephinephrine']>0)),'SOFA_CVS'] = 3\n",
    "    df.loc[(df['dopamine']>15)|(df['epinephrine']>0.1)|(df['norephinephrine']>0.1),'SOFA_CVS'] = 4\n",
    "\n",
    "    # Respiratory system\n",
    "    #df.loc[df['PF'].isna(), 'SOFA_RS'] = 0\n",
    "    df.loc[df['PF']>=400, 'SOFA_RS'] = 0\n",
    "    df.loc[df['PF']<400, 'SOFA_RS'] = 1\n",
    "    df.loc[df['PF']<300, 'SOFA_RS'] = 2\n",
    "    df.loc[df['PF']<200, 'SOFA_RS'] = 3\n",
    "    df.loc[df['PF']<100, 'SOFA_RS'] = 4\n",
    "\n",
    "    # Coagulation\n",
    "    #df.loc[df['Platelet'].isna(), 'SOFA_C'] = 0\n",
    "    df.loc[df['Platelet']>=150, 'SOFA_C'] = 0\n",
    "    df.loc[df['Platelet']<150, 'SOFA_C'] = 1\n",
    "    df.loc[df['Platelet']<100, 'SOFA_C'] = 2\n",
    "    df.loc[df['Platelet']<50, 'SOFA_C'] = 3\n",
    "    df.loc[df['Platelet']<20, 'SOFA_C'] = 4\n",
    "\n",
    "    # Liver\n",
    "    #df.loc[df['T_Bil'].isna(), 'SOFA_L'] = 0\n",
    "    df.loc[df['T_Bil']<1.2, 'SOFA_L'] = 0\n",
    "    df.loc[(df['T_Bil']>=1.2)&(df['T_Bil']<2.0), 'SOFA_L'] = 1\n",
    "    df.loc[(df['T_Bil']>=2.0)&(df['T_Bil']<6.0), 'SOFA_L'] = 2\n",
    "    df.loc[(df['T_Bil']>=6.0)&(df['T_Bil']<12.0), 'SOFA_L'] = 3\n",
    "    df.loc[(df['T_Bil']>=12.0), 'SOFA_L'] = 4\n",
    "\n",
    "    # Renal function\n",
    "    #df.loc[df['SCr'].isna(), 'SOFA_R'] = 0\n",
    "    df.loc[df['SCr']<1.2, 'SOFA_R'] = 0\n",
    "    df.loc[(df['SCr']>=1.2)&(df['SCr']<2.0), 'SOFA_R'] = 1\n",
    "    df.loc[(df['SCr']>=2.0)&(df['SCr']<3.5), 'SOFA_R'] = 2\n",
    "    df.loc[(df['SCr']>=3.5)&(df['SCr']<5.0), 'SOFA_R'] = 3\n",
    "    df.loc[(df['SCr']>=5.0), 'SOFA_R'] = 4\n",
    "\n",
    "    df['SOFA'] = df['SOFA_CNS'] + df['SOFA_CVS'] + df['SOFA_RS'] + df['SOFA_C'] + df['SOFA_L'] + df['SOFA_R']\n",
    "    df = df[['subject_id','hadm_id','stay_id','charttime','SOFA']]\n",
    "    return df"
   ]
  },
  {
   "cell_type": "code",
   "execution_count": 72,
   "metadata": {},
   "outputs": [],
   "source": [
    "resample_SOFA = cal_SOFA(resample_SOFA)"
   ]
  },
  {
   "cell_type": "code",
   "execution_count": 73,
   "metadata": {},
   "outputs": [
    {
     "data": {
      "text/html": [
       "<div>\n",
       "<style scoped>\n",
       "    .dataframe tbody tr th:only-of-type {\n",
       "        vertical-align: middle;\n",
       "    }\n",
       "\n",
       "    .dataframe tbody tr th {\n",
       "        vertical-align: top;\n",
       "    }\n",
       "\n",
       "    .dataframe thead th {\n",
       "        text-align: right;\n",
       "    }\n",
       "</style>\n",
       "<table border=\"1\" class=\"dataframe\">\n",
       "  <thead>\n",
       "    <tr style=\"text-align: right;\">\n",
       "      <th></th>\n",
       "      <th>subject_id</th>\n",
       "      <th>hadm_id</th>\n",
       "      <th>stay_id</th>\n",
       "      <th>charttime</th>\n",
       "      <th>SOFA</th>\n",
       "    </tr>\n",
       "  </thead>\n",
       "  <tbody>\n",
       "    <tr>\n",
       "      <th>0</th>\n",
       "      <td>10000032</td>\n",
       "      <td>29079034</td>\n",
       "      <td>39553978</td>\n",
       "      <td>2180-07-23 14:00:00</td>\n",
       "      <td>NaN</td>\n",
       "    </tr>\n",
       "    <tr>\n",
       "      <th>1</th>\n",
       "      <td>10000032</td>\n",
       "      <td>29079034</td>\n",
       "      <td>39553978</td>\n",
       "      <td>2180-07-23 15:00:00</td>\n",
       "      <td>NaN</td>\n",
       "    </tr>\n",
       "    <tr>\n",
       "      <th>2</th>\n",
       "      <td>10000032</td>\n",
       "      <td>29079034</td>\n",
       "      <td>39553978</td>\n",
       "      <td>2180-07-23 16:00:00</td>\n",
       "      <td>NaN</td>\n",
       "    </tr>\n",
       "    <tr>\n",
       "      <th>3</th>\n",
       "      <td>10000032</td>\n",
       "      <td>29079034</td>\n",
       "      <td>39553978</td>\n",
       "      <td>2180-07-23 17:00:00</td>\n",
       "      <td>NaN</td>\n",
       "    </tr>\n",
       "    <tr>\n",
       "      <th>4</th>\n",
       "      <td>10000032</td>\n",
       "      <td>29079034</td>\n",
       "      <td>39553978</td>\n",
       "      <td>2180-07-23 18:00:00</td>\n",
       "      <td>NaN</td>\n",
       "    </tr>\n",
       "    <tr>\n",
       "      <th>...</th>\n",
       "      <td>...</td>\n",
       "      <td>...</td>\n",
       "      <td>...</td>\n",
       "      <td>...</td>\n",
       "      <td>...</td>\n",
       "    </tr>\n",
       "    <tr>\n",
       "      <th>6099429</th>\n",
       "      <td>19999987</td>\n",
       "      <td>23865745</td>\n",
       "      <td>36195440</td>\n",
       "      <td>2145-11-04 16:59:00</td>\n",
       "      <td>NaN</td>\n",
       "    </tr>\n",
       "    <tr>\n",
       "      <th>6099430</th>\n",
       "      <td>19999987</td>\n",
       "      <td>23865745</td>\n",
       "      <td>36195440</td>\n",
       "      <td>2145-11-04 17:59:00</td>\n",
       "      <td>NaN</td>\n",
       "    </tr>\n",
       "    <tr>\n",
       "      <th>6099431</th>\n",
       "      <td>19999987</td>\n",
       "      <td>23865745</td>\n",
       "      <td>36195440</td>\n",
       "      <td>2145-11-04 18:59:00</td>\n",
       "      <td>NaN</td>\n",
       "    </tr>\n",
       "    <tr>\n",
       "      <th>6099432</th>\n",
       "      <td>19999987</td>\n",
       "      <td>23865745</td>\n",
       "      <td>36195440</td>\n",
       "      <td>2145-11-04 19:59:00</td>\n",
       "      <td>NaN</td>\n",
       "    </tr>\n",
       "    <tr>\n",
       "      <th>6099433</th>\n",
       "      <td>19999987</td>\n",
       "      <td>23865745</td>\n",
       "      <td>36195440</td>\n",
       "      <td>2145-11-04 20:59:00</td>\n",
       "      <td>NaN</td>\n",
       "    </tr>\n",
       "  </tbody>\n",
       "</table>\n",
       "<p>6099434 rows × 5 columns</p>\n",
       "</div>"
      ],
      "text/plain": [
       "         subject_id   hadm_id   stay_id           charttime  SOFA\n",
       "0          10000032  29079034  39553978 2180-07-23 14:00:00   NaN\n",
       "1          10000032  29079034  39553978 2180-07-23 15:00:00   NaN\n",
       "2          10000032  29079034  39553978 2180-07-23 16:00:00   NaN\n",
       "3          10000032  29079034  39553978 2180-07-23 17:00:00   NaN\n",
       "4          10000032  29079034  39553978 2180-07-23 18:00:00   NaN\n",
       "...             ...       ...       ...                 ...   ...\n",
       "6099429    19999987  23865745  36195440 2145-11-04 16:59:00   NaN\n",
       "6099430    19999987  23865745  36195440 2145-11-04 17:59:00   NaN\n",
       "6099431    19999987  23865745  36195440 2145-11-04 18:59:00   NaN\n",
       "6099432    19999987  23865745  36195440 2145-11-04 19:59:00   NaN\n",
       "6099433    19999987  23865745  36195440 2145-11-04 20:59:00   NaN\n",
       "\n",
       "[6099434 rows x 5 columns]"
      ]
     },
     "execution_count": 73,
     "metadata": {},
     "output_type": "execute_result"
    }
   ],
   "source": [
    "resample_SOFA"
   ]
  },
  {
   "cell_type": "code",
   "execution_count": 68,
   "metadata": {},
   "outputs": [
    {
     "data": {
      "text/plain": [
       "count    565074.000000\n",
       "mean          7.411672\n",
       "std           3.582671\n",
       "min           0.000000\n",
       "25%           5.000000\n",
       "50%           7.000000\n",
       "75%          10.000000\n",
       "max          23.000000\n",
       "Name: SOFA, dtype: float64"
      ]
     },
     "execution_count": 68,
     "metadata": {},
     "output_type": "execute_result"
    }
   ],
   "source": [
    "resample_SOFA.SOFA.describe()"
   ]
  },
  {
   "cell_type": "code",
   "execution_count": 69,
   "metadata": {},
   "outputs": [
    {
     "data": {
      "text/plain": [
       "<Axes: >"
      ]
     },
     "execution_count": 69,
     "metadata": {},
     "output_type": "execute_result"
    },
    {
     "data": {
      "image/png": "[encoded data removed]",
      "text/plain": [
       "<Figure size 640x480 with 1 Axes>"
      ]
     },
     "metadata": {},
     "output_type": "display_data"
    }
   ],
   "source": [
    "resample_SOFA.SOFA.hist(bins=24)"
   ]
  },
  {
   "cell_type": "markdown",
   "metadata": {},
   "source": [
    "# Urine Output"
   ]
  },
  {
   "cell_type": "code",
   "execution_count": 64,
   "metadata": {},
   "outputs": [],
   "source": [
    "def resample_uo(chartevents_,icustays,itemid):\n",
    "    rt = []\n",
    "    chartevents_['charttime'] = pd.to_datetime(chartevents_['charttime'])\n",
    "    icustays_intime = icustays[['subject_id','hadm_id','stay_id','intime']]\n",
    "    icustays_intime['intime'] = pd.to_datetime(icustays_intime['intime'])\n",
    "    icustays_intime = icustays_intime.rename(columns={'intime':'charttime'})\n",
    "\n",
    "    icustays_outtime = icustays[['subject_id','hadm_id','stay_id','outtime']]\n",
    "    icustays_outtime['outtime'] = pd.to_datetime(icustays_outtime['outtime'])\n",
    "    icustays_outtime = icustays_outtime.rename(columns={'outtime':'charttime'})\n",
    "    for i in tqdm(icustays.stay_id.unique()):\n",
    "        tmp = chartevents_[chartevents_['stay_id']==i]\n",
    "        tmp_id = icustays[icustays['stay_id']==i][['subject_id','hadm_id','stay_id']].iloc[0].to_list()\n",
    "        tmp_intime = icustays_intime[icustays_intime['stay_id']==i]\n",
    "        tmp_outtime = icustays_outtime[icustays_outtime['stay_id']==i]\n",
    "\n",
    "        tmp = pd.concat([tmp, tmp_intime, tmp_outtime])\n",
    "        tmp = tmp[(tmp['charttime'].values >= tmp_intime.charttime.values)&(tmp['charttime'].values <= tmp_outtime.charttime.values)]\n",
    "        tmp.index = pd.DatetimeIndex(tmp['charttime'])\n",
    "        tmp = pd.DataFrame(tmp['value'].resample(rule='H', origin='start').sum())\n",
    "        tmp.reset_index(drop=False,inplace=True)\n",
    "        tmp[['subject_id','hadm_id','stay_id']] = tmp_id\n",
    "        tmp['itemid'] = itemid\n",
    "        rt.append(tmp)\n",
    "    return pd.concat(rt)"
   ]
  },
  {
   "cell_type": "code",
   "execution_count": 109,
   "metadata": {},
   "outputs": [],
   "source": [
    "if not os.path.isfile('./data/resample/resample_uo.parquet'):\n",
    "    resample_uo = resample_uo(outputevents_uo,icustays,'uo')\n",
    "    resample_uo.to_parquet('./data/resample/resample_uo.parquet')\n",
    "else : resample_uo = pd.read_parquet('./data/resample/resample_uo.parquet')"
   ]
  },
  {
   "cell_type": "code",
   "execution_count": 116,
   "metadata": {},
   "outputs": [],
   "source": [
    "admission_weight = pd.read_parquet('./data/admission_weight.parquet')"
   ]
  },
  {
   "cell_type": "code",
   "execution_count": 128,
   "metadata": {},
   "outputs": [],
   "source": [
    "def AKI_UO_annotation(df,admission_weight):\n",
    "    for i in tqdm(range(6,49,1)):\n",
    "        rolling_avg=df.groupby('stay_id').rolling(window=str(i)+'H', on='charttime',min_periods=i)['value'].mean().reset_index(drop=True)\n",
    "        df['roll_%iH' % i] = rolling_avg\n",
    "    df = pd.merge(df,admission_weight,on=['subject_id','stay_id'],how='left')\n",
    "    df['6-12H_min'] = df[df.columns[6:13]].min(axis=1)/df['valuenum']\n",
    "    df['12H-_min'] = df[df.columns[12:49]].min(axis=1)/df['valuenum']\n",
    "    df['24H-_min'] = df[df.columns[24:49]].min(axis=1)/df['valuenum']\n",
    "    df['AKI_UO']=0\n",
    "    df.loc[df['6-12H_min']<0.5, 'AKI_UO'] = 1\n",
    "    df.loc[df['12H-_min']<0.5, 'AKI_UO'] = 2\n",
    "    df.loc[df['12H-_min']==0, 'AKI_UO'] = 3\n",
    "    df.loc[df['24H-_min']<0.3, 'AKI_UO'] = 3\n",
    "    df = df[['subject_id','hadm_id','stay_id','charttime','AKI_UO']]\n",
    "    return df"
   ]
  },
  {
   "cell_type": "code",
   "execution_count": 122,
   "metadata": {},
   "outputs": [
    {
     "data": {
      "application/vnd.jupyter.widget-view+json": {
       "model_id": "6422746ca9c948a4b5981b7c060e646b",
       "version_major": 2,
       "version_minor": 0
      },
      "text/plain": [
       "  0%|          | 0/43 [00:00<?, ?it/s]"
      ]
     },
     "metadata": {},
     "output_type": "display_data"
    }
   ],
   "source": [
    "rolled_uo = AKI_UO_annotation(resample_uo,admission_weight)"
   ]
  },
  {
   "cell_type": "code",
   "execution_count": 130,
   "metadata": {},
   "outputs": [
    {
     "data": {
      "text/plain": [
       "AKI_UO\n",
       "0    4299223\n",
       "2    1075523\n",
       "1     599387\n",
       "3     125301\n",
       "Name: count, dtype: int64"
      ]
     },
     "execution_count": 130,
     "metadata": {},
     "output_type": "execute_result"
    }
   ],
   "source": [
    "rolled_uo['AKI_UO'].value_counts()"
   ]
  },
  {
   "cell_type": "code",
   "execution_count": 131,
   "metadata": {},
   "outputs": [
    {
     "data": {
      "text/html": [
       "<div>\n",
       "<style scoped>\n",
       "    .dataframe tbody tr th:only-of-type {\n",
       "        vertical-align: middle;\n",
       "    }\n",
       "\n",
       "    .dataframe tbody tr th {\n",
       "        vertical-align: top;\n",
       "    }\n",
       "\n",
       "    .dataframe thead th {\n",
       "        text-align: right;\n",
       "    }\n",
       "</style>\n",
       "<table border=\"1\" class=\"dataframe\">\n",
       "  <thead>\n",
       "    <tr style=\"text-align: right;\">\n",
       "      <th></th>\n",
       "      <th>subject_id</th>\n",
       "      <th>hadm_id</th>\n",
       "      <th>stay_id</th>\n",
       "      <th>charttime</th>\n",
       "      <th>AKI_UO</th>\n",
       "    </tr>\n",
       "  </thead>\n",
       "  <tbody>\n",
       "    <tr>\n",
       "      <th>0</th>\n",
       "      <td>10000032</td>\n",
       "      <td>29079034</td>\n",
       "      <td>39553978</td>\n",
       "      <td>2180-07-23 14:00:00</td>\n",
       "      <td>0</td>\n",
       "    </tr>\n",
       "    <tr>\n",
       "      <th>1</th>\n",
       "      <td>10000032</td>\n",
       "      <td>29079034</td>\n",
       "      <td>39553978</td>\n",
       "      <td>2180-07-23 15:00:00</td>\n",
       "      <td>0</td>\n",
       "    </tr>\n",
       "    <tr>\n",
       "      <th>2</th>\n",
       "      <td>10000032</td>\n",
       "      <td>29079034</td>\n",
       "      <td>39553978</td>\n",
       "      <td>2180-07-23 16:00:00</td>\n",
       "      <td>0</td>\n",
       "    </tr>\n",
       "    <tr>\n",
       "      <th>3</th>\n",
       "      <td>10000032</td>\n",
       "      <td>29079034</td>\n",
       "      <td>39553978</td>\n",
       "      <td>2180-07-23 17:00:00</td>\n",
       "      <td>0</td>\n",
       "    </tr>\n",
       "    <tr>\n",
       "      <th>4</th>\n",
       "      <td>10000032</td>\n",
       "      <td>29079034</td>\n",
       "      <td>39553978</td>\n",
       "      <td>2180-07-23 18:00:00</td>\n",
       "      <td>0</td>\n",
       "    </tr>\n",
       "    <tr>\n",
       "      <th>...</th>\n",
       "      <td>...</td>\n",
       "      <td>...</td>\n",
       "      <td>...</td>\n",
       "      <td>...</td>\n",
       "      <td>...</td>\n",
       "    </tr>\n",
       "    <tr>\n",
       "      <th>6099429</th>\n",
       "      <td>19999987</td>\n",
       "      <td>23865745</td>\n",
       "      <td>36195440</td>\n",
       "      <td>2145-11-04 16:59:00</td>\n",
       "      <td>0</td>\n",
       "    </tr>\n",
       "    <tr>\n",
       "      <th>6099430</th>\n",
       "      <td>19999987</td>\n",
       "      <td>23865745</td>\n",
       "      <td>36195440</td>\n",
       "      <td>2145-11-04 17:59:00</td>\n",
       "      <td>0</td>\n",
       "    </tr>\n",
       "    <tr>\n",
       "      <th>6099431</th>\n",
       "      <td>19999987</td>\n",
       "      <td>23865745</td>\n",
       "      <td>36195440</td>\n",
       "      <td>2145-11-04 18:59:00</td>\n",
       "      <td>0</td>\n",
       "    </tr>\n",
       "    <tr>\n",
       "      <th>6099432</th>\n",
       "      <td>19999987</td>\n",
       "      <td>23865745</td>\n",
       "      <td>36195440</td>\n",
       "      <td>2145-11-04 19:59:00</td>\n",
       "      <td>0</td>\n",
       "    </tr>\n",
       "    <tr>\n",
       "      <th>6099433</th>\n",
       "      <td>19999987</td>\n",
       "      <td>23865745</td>\n",
       "      <td>36195440</td>\n",
       "      <td>2145-11-04 20:59:00</td>\n",
       "      <td>0</td>\n",
       "    </tr>\n",
       "  </tbody>\n",
       "</table>\n",
       "<p>6099434 rows × 5 columns</p>\n",
       "</div>"
      ],
      "text/plain": [
       "         subject_id   hadm_id   stay_id           charttime  AKI_UO\n",
       "0          10000032  29079034  39553978 2180-07-23 14:00:00       0\n",
       "1          10000032  29079034  39553978 2180-07-23 15:00:00       0\n",
       "2          10000032  29079034  39553978 2180-07-23 16:00:00       0\n",
       "3          10000032  29079034  39553978 2180-07-23 17:00:00       0\n",
       "4          10000032  29079034  39553978 2180-07-23 18:00:00       0\n",
       "...             ...       ...       ...                 ...     ...\n",
       "6099429    19999987  23865745  36195440 2145-11-04 16:59:00       0\n",
       "6099430    19999987  23865745  36195440 2145-11-04 17:59:00       0\n",
       "6099431    19999987  23865745  36195440 2145-11-04 18:59:00       0\n",
       "6099432    19999987  23865745  36195440 2145-11-04 19:59:00       0\n",
       "6099433    19999987  23865745  36195440 2145-11-04 20:59:00       0\n",
       "\n",
       "[6099434 rows x 5 columns]"
      ]
     },
     "execution_count": 131,
     "metadata": {},
     "output_type": "execute_result"
    }
   ],
   "source": [
    "rolled_uo"
   ]
  },
  {
   "cell_type": "code",
   "execution_count": null,
   "metadata": {},
   "outputs": [],
   "source": []
  },
  {
   "cell_type": "code",
   "execution_count": null,
   "metadata": {},
   "outputs": [],
   "source": []
  }
 ],
 "metadata": {
  "kernelspec": {
   "display_name": "torch",
   "language": "python",
   "name": "python3"
  },
  "language_info": {
   "codemirror_mode": {
    "name": "ipython",
    "version": 3
   },
   "file_extension": ".py",
   "mimetype": "text/x-python",
   "name": "python",
   "nbconvert_exporter": "python",
   "pygments_lexer": "ipython3",
   "version": "3.9.0"
  }
 },
 "nbformat": 4,
 "nbformat_minor": 2
}
