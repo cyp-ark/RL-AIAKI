{
 "cells": [
  {
   "cell_type": "code",
   "execution_count": 1,
   "metadata": {},
   "outputs": [],
   "source": [
    "import pandas as pd\n",
    "import numpy as np\n",
    "import matplotlib.pyplot as plt\n",
    "import sys, os, pickle\n",
    "\n",
    "from tqdm.notebook import tqdm\n",
    "from datetime import timedelta\n",
    "#from utils import baseline_SCr\n",
    "\n",
    "if os.getcwd()[-4:] == \"code\":\n",
    "    os.chdir('../')\n",
    "\n",
    "icu = './data/mimic-iv-2.2-parquet/icu/'\n",
    "hosp = './data/mimic-iv-2.2-parquet/hosp/'\n",
    "\n",
    "pd.set_option('mode.chained_assignment',  None) # 경고 off"
   ]
  },
  {
   "cell_type": "code",
   "execution_count": 2,
   "metadata": {},
   "outputs": [],
   "source": [
    "vitals = pd.read_csv('./data/vitals/vitals.csv')\n",
    "vitals = vitals[vitals['abbreviation']!='tempF']\n",
    "vitals.reset_index(drop=True,inplace=True)\n",
    "for i in vitals.abbreviation.unique():\n",
    "    globals()['chartevents_{}'.format(i)] = pd.read_parquet('./data/vitals/chartevents_%s.parquet'%i)"
   ]
  },
  {
   "cell_type": "code",
   "execution_count": 3,
   "metadata": {},
   "outputs": [],
   "source": [
    "labvalues = pd.read_csv('./data/labvalues/labvalues.csv')\n",
    "icustays  = pd.read_parquet(icu+'icustays.parquet')"
   ]
  },
  {
   "cell_type": "code",
   "execution_count": 16,
   "metadata": {},
   "outputs": [],
   "source": [
    "for i in labvalues.abbreviation.unique():\n",
    "    globals()['chartevents_{}'.format(i)] = pd.read_parquet('./data/labvalues/chartevents_%s.parquet'%i)\n",
    "    globals()['labevents_{}'.format(i)] = pd.read_parquet('./data/labvalues/labevents_%s.parquet'%i)"
   ]
  },
  {
   "cell_type": "code",
   "execution_count": 57,
   "metadata": {},
   "outputs": [],
   "source": [
    "outputevents_uo = pd.read_parquet('./data/others/outputevents_uo.parquet')"
   ]
  },
  {
   "cell_type": "markdown",
   "metadata": {},
   "source": [
    "# Lab values"
   ]
  },
  {
   "cell_type": "code",
   "execution_count": null,
   "metadata": {},
   "outputs": [],
   "source": [
    "def resample(chartevents_,labevents_,icustays):\n",
    "    rt = []\n",
    "    tmp_itemid = chartevents_.itemid[0]\n",
    "\n",
    "    icustays_intime = icustays[['subject_id','hadm_id','stay_id','intime']]\n",
    "    icustays_intime['intime'] = pd.to_datetime(icustays_intime['intime'])\n",
    "    icustays_intime = icustays_intime.rename(columns={'intime':'charttime'})\n",
    "\n",
    "    icustays_outtime = icustays[['subject_id','hadm_id','stay_id','outtime']]\n",
    "    icustays_outtime['outtime'] = pd.to_datetime(icustays_outtime['outtime'])\n",
    "    icustays_outtime = icustays_outtime.rename(columns={'outtime':'charttime'})\n",
    "\n",
    "    labevents_['charttime'] = pd.to_datetime(labevents_['charttime'])\n",
    "\n",
    "    for i in tqdm(icustays.hadm_id.unique()):\n",
    "        tmp_hosp = labevents_[labevents_['hadm_id']==i]\n",
    "        tmp_hosp = tmp_hosp[['subject_id','hadm_id','charttime','itemid','valuenum']]\n",
    "        tmp_hosp.sort_values('charttime',ascending=True, inplace=True)\n",
    "\n",
    "        for i in icustays[icustays['hadm_id']==i].stay_id.unique():\n",
    "            tmp = chartevents_[chartevents_['stay_id']==i]\n",
    "            tmp_id = icustays[icustays['stay_id']==i][['subject_id','hadm_id','stay_id']].iloc[0].to_list()\n",
    "            tmp_intime = icustays_intime[icustays_intime['stay_id']==i]\n",
    "            tmp_outtime = icustays_outtime[icustays_outtime['stay_id']==i]\n",
    "\n",
    "            tmp = pd.concat([tmp, tmp_intime, tmp_outtime])\n",
    "\n",
    "            tmp = tmp[(tmp['charttime'].values >= tmp_intime.charttime.values)&(tmp['charttime'].values <= tmp_outtime.charttime.values)]\n",
    "            tmp.index = pd.DatetimeIndex(tmp['charttime'])\n",
    "\n",
    "            tmp = pd.DataFrame(tmp['valuenum'].resample(rule='H', origin='start').last())\n",
    "            tmp.reset_index(drop=False,inplace=True)\n",
    "\n",
    "            if tmp.iloc[0].isna().any():\n",
    "                tmp_hosp = tmp_hosp[(tmp_hosp['charttime'].values >= tmp_intime.charttime.values-np.timedelta64(1,'D'))&(tmp_hosp['charttime'].values < tmp_intime.charttime.values)]\n",
    "                if not tmp_hosp.empty:\n",
    "                    tmp.iloc[0]['valuenum'] = tmp_hosp.iloc[-1].valuenum\n",
    "            tmp = tmp.ffill()\n",
    "            tmp[['subject_id','hadm_id','stay_id']] = tmp_id\n",
    "            tmp['itemid'] = tmp_itemid\n",
    "            rt.append(tmp)\n",
    "    return pd.concat(rt)"
   ]
  },
  {
   "cell_type": "code",
   "execution_count": 6,
   "metadata": {},
   "outputs": [
    {
     "data": {
      "application/vnd.jupyter.widget-view+json": {
       "model_id": "5349a527b06148ebafb05d3ee6304edd",
       "version_major": 2,
       "version_minor": 0
      },
      "text/plain": [
       "  0%|          | 0/28 [00:00<?, ?it/s]"
      ]
     },
     "metadata": {},
     "output_type": "display_data"
    },
    {
     "name": "stdout",
     "output_type": "stream",
     "text": [
      "[3/28] Resampling AG...\n"
     ]
    },
    {
     "data": {
      "application/vnd.jupyter.widget-view+json": {
       "model_id": "38556b3e7de94cba9c95216dca31c790",
       "version_major": 2,
       "version_minor": 0
      },
      "text/plain": [
       "  0%|          | 0/66239 [00:00<?, ?it/s]"
      ]
     },
     "metadata": {},
     "output_type": "display_data"
    },
    {
     "name": "stdout",
     "output_type": "stream",
     "text": [
      "[4/28] Resampling BUN...\n"
     ]
    },
    {
     "data": {
      "application/vnd.jupyter.widget-view+json": {
       "model_id": "91fab20096f7486ebad7324504b8058f",
       "version_major": 2,
       "version_minor": 0
      },
      "text/plain": [
       "  0%|          | 0/66239 [00:00<?, ?it/s]"
      ]
     },
     "metadata": {},
     "output_type": "display_data"
    },
    {
     "name": "stdout",
     "output_type": "stream",
     "text": [
      "[5/28] Resampling Ca...\n"
     ]
    },
    {
     "data": {
      "application/vnd.jupyter.widget-view+json": {
       "model_id": "f897c661b8bd4980b93b5bb6a7c520d5",
       "version_major": 2,
       "version_minor": 0
      },
      "text/plain": [
       "  0%|          | 0/66239 [00:00<?, ?it/s]"
      ]
     },
     "metadata": {},
     "output_type": "display_data"
    },
    {
     "name": "stdout",
     "output_type": "stream",
     "text": [
      "[6/28] Resampling CK...\n"
     ]
    },
    {
     "data": {
      "application/vnd.jupyter.widget-view+json": {
       "model_id": "0de7f124f20b424fab52276bbf823037",
       "version_major": 2,
       "version_minor": 0
      },
      "text/plain": [
       "  0%|          | 0/66239 [00:00<?, ?it/s]"
      ]
     },
     "metadata": {},
     "output_type": "display_data"
    },
    {
     "name": "stdout",
     "output_type": "stream",
     "text": [
      "[7/28] Resampling D_Bil...\n"
     ]
    },
    {
     "data": {
      "application/vnd.jupyter.widget-view+json": {
       "model_id": "b9b7d39241d348d890d45410e99a21ed",
       "version_major": 2,
       "version_minor": 0
      },
      "text/plain": [
       "  0%|          | 0/66239 [00:00<?, ?it/s]"
      ]
     },
     "metadata": {},
     "output_type": "display_data"
    },
    {
     "name": "stdout",
     "output_type": "stream",
     "text": [
      "[8/28] Resampling Glu...\n"
     ]
    },
    {
     "data": {
      "application/vnd.jupyter.widget-view+json": {
       "model_id": "22c2bbdc866e4e799303c6c49e78e06b",
       "version_major": 2,
       "version_minor": 0
      },
      "text/plain": [
       "  0%|          | 0/66239 [00:00<?, ?it/s]"
      ]
     },
     "metadata": {},
     "output_type": "display_data"
    },
    {
     "name": "stdout",
     "output_type": "stream",
     "text": [
      "[9/28] Resampling HCT...\n"
     ]
    },
    {
     "data": {
      "application/vnd.jupyter.widget-view+json": {
       "model_id": "09bf31b5d6f24700b57d7f9907d27302",
       "version_major": 2,
       "version_minor": 0
      },
      "text/plain": [
       "  0%|          | 0/66239 [00:00<?, ?it/s]"
      ]
     },
     "metadata": {},
     "output_type": "display_data"
    },
    {
     "name": "stdout",
     "output_type": "stream",
     "text": [
      "[10/28] Resampling INR...\n"
     ]
    },
    {
     "data": {
      "application/vnd.jupyter.widget-view+json": {
       "model_id": "4cb1e904e13b4d689e330e7af7388367",
       "version_major": 2,
       "version_minor": 0
      },
      "text/plain": [
       "  0%|          | 0/66239 [00:00<?, ?it/s]"
      ]
     },
     "metadata": {},
     "output_type": "display_data"
    },
    {
     "name": "stdout",
     "output_type": "stream",
     "text": [
      "[11/28] Resampling PH...\n"
     ]
    },
    {
     "data": {
      "application/vnd.jupyter.widget-view+json": {
       "model_id": "fa8d2ff7a2614ae590965e9b826b8646",
       "version_major": 2,
       "version_minor": 0
      },
      "text/plain": [
       "  0%|          | 0/66239 [00:00<?, ?it/s]"
      ]
     },
     "metadata": {},
     "output_type": "display_data"
    },
    {
     "name": "stdout",
     "output_type": "stream",
     "text": [
      "[12/28] Resampling PHOS...\n"
     ]
    },
    {
     "data": {
      "application/vnd.jupyter.widget-view+json": {
       "model_id": "d582aa8ba6954c7c8ccafbd47eabacf9",
       "version_major": 2,
       "version_minor": 0
      },
      "text/plain": [
       "  0%|          | 0/66239 [00:00<?, ?it/s]"
      ]
     },
     "metadata": {},
     "output_type": "display_data"
    },
    {
     "name": "stdout",
     "output_type": "stream",
     "text": [
      "[13/28] Resampling Platelet...\n"
     ]
    },
    {
     "data": {
      "application/vnd.jupyter.widget-view+json": {
       "model_id": "dd7b91d329f448ef9e28f3c605ae2b36",
       "version_major": 2,
       "version_minor": 0
      },
      "text/plain": [
       "  0%|          | 0/66239 [00:00<?, ?it/s]"
      ]
     },
     "metadata": {},
     "output_type": "display_data"
    },
    {
     "name": "stdout",
     "output_type": "stream",
     "text": [
      "[14/28] Resampling Cl...\n"
     ]
    },
    {
     "data": {
      "application/vnd.jupyter.widget-view+json": {
       "model_id": "b90a6df8f76b48ca97d463ed45267e48",
       "version_major": 2,
       "version_minor": 0
      },
      "text/plain": [
       "  0%|          | 0/66239 [00:00<?, ?it/s]"
      ]
     },
     "metadata": {},
     "output_type": "display_data"
    },
    {
     "name": "stdout",
     "output_type": "stream",
     "text": [
      "[15/28] Resampling SCr...\n"
     ]
    },
    {
     "data": {
      "application/vnd.jupyter.widget-view+json": {
       "model_id": "4a32162ce9ab4e99bccb5ab682ba0fd1",
       "version_major": 2,
       "version_minor": 0
      },
      "text/plain": [
       "  0%|          | 0/66239 [00:00<?, ?it/s]"
      ]
     },
     "metadata": {},
     "output_type": "display_data"
    },
    {
     "name": "stdout",
     "output_type": "stream",
     "text": [
      "[16/28] Resampling nan...\n"
     ]
    },
    {
     "data": {
      "application/vnd.jupyter.widget-view+json": {
       "model_id": "b02f6b5c22a74c6fa3ea37f96ec03528",
       "version_major": 2,
       "version_minor": 0
      },
      "text/plain": [
       "  0%|          | 0/66239 [00:00<?, ?it/s]"
      ]
     },
     "metadata": {},
     "output_type": "display_data"
    },
    {
     "name": "stdout",
     "output_type": "stream",
     "text": [
      "[17/28] Resampling Potassium...\n"
     ]
    },
    {
     "data": {
      "application/vnd.jupyter.widget-view+json": {
       "model_id": "30c9eaabb6b04431a015cc5be8c975b4",
       "version_major": 2,
       "version_minor": 0
      },
      "text/plain": [
       "  0%|          | 0/66239 [00:00<?, ?it/s]"
      ]
     },
     "metadata": {},
     "output_type": "display_data"
    },
    {
     "name": "stdout",
     "output_type": "stream",
     "text": [
      "[18/28] Resampling T_Bil...\n"
     ]
    },
    {
     "data": {
      "application/vnd.jupyter.widget-view+json": {
       "model_id": "ad38bcccc9744b6bbae84a40e4b7bb0a",
       "version_major": 2,
       "version_minor": 0
      },
      "text/plain": [
       "  0%|          | 0/66239 [00:00<?, ?it/s]"
      ]
     },
     "metadata": {},
     "output_type": "display_data"
    },
    {
     "name": "stdout",
     "output_type": "stream",
     "text": [
      "[19/28] Resampling WBC...\n"
     ]
    },
    {
     "data": {
      "application/vnd.jupyter.widget-view+json": {
       "model_id": "5e5273ada6fb4e278a4e9f28eec517de",
       "version_major": 2,
       "version_minor": 0
      },
      "text/plain": [
       "  0%|          | 0/66239 [00:00<?, ?it/s]"
      ]
     },
     "metadata": {},
     "output_type": "display_data"
    },
    {
     "name": "stdout",
     "output_type": "stream",
     "text": [
      "[20/28] Resampling Gl...\n"
     ]
    },
    {
     "data": {
      "application/vnd.jupyter.widget-view+json": {
       "model_id": "3de24528fece45deaf7d505570ebe226",
       "version_major": 2,
       "version_minor": 0
      },
      "text/plain": [
       "  0%|          | 0/66239 [00:00<?, ?it/s]"
      ]
     },
     "metadata": {},
     "output_type": "display_data"
    },
    {
     "name": "stdout",
     "output_type": "stream",
     "text": [
      "[21/28] Resampling Mg...\n"
     ]
    },
    {
     "data": {
      "application/vnd.jupyter.widget-view+json": {
       "model_id": "916439ca7f124ac1b510d6c20523e854",
       "version_major": 2,
       "version_minor": 0
      },
      "text/plain": [
       "  0%|          | 0/66239 [00:00<?, ?it/s]"
      ]
     },
     "metadata": {},
     "output_type": "display_data"
    },
    {
     "name": "stdout",
     "output_type": "stream",
     "text": [
      "[22/28] Resampling Ca_ion...\n"
     ]
    },
    {
     "data": {
      "application/vnd.jupyter.widget-view+json": {
       "model_id": "c10ba9465bfb49d3bf8772e1d293cfc3",
       "version_major": 2,
       "version_minor": 0
      },
      "text/plain": [
       "  0%|          | 0/66239 [00:00<?, ?it/s]"
      ]
     },
     "metadata": {},
     "output_type": "display_data"
    },
    {
     "name": "stdout",
     "output_type": "stream",
     "text": [
      "[23/28] Resampling HCO3...\n"
     ]
    },
    {
     "data": {
      "application/vnd.jupyter.widget-view+json": {
       "model_id": "10f473068fa247bda9d5075d7874f018",
       "version_major": 2,
       "version_minor": 0
      },
      "text/plain": [
       "  0%|          | 0/66239 [00:00<?, ?it/s]"
      ]
     },
     "metadata": {},
     "output_type": "display_data"
    },
    {
     "name": "stdout",
     "output_type": "stream",
     "text": [
      "[24/28] Resampling AST...\n"
     ]
    },
    {
     "data": {
      "application/vnd.jupyter.widget-view+json": {
       "model_id": "b40fc8e1da8a4bbb8306a5b236745043",
       "version_major": 2,
       "version_minor": 0
      },
      "text/plain": [
       "  0%|          | 0/66239 [00:00<?, ?it/s]"
      ]
     },
     "metadata": {},
     "output_type": "display_data"
    },
    {
     "name": "stdout",
     "output_type": "stream",
     "text": [
      "[25/28] Resampling ALT...\n"
     ]
    },
    {
     "data": {
      "application/vnd.jupyter.widget-view+json": {
       "model_id": "cd941d41e73d447ca301d01f8166875c",
       "version_major": 2,
       "version_minor": 0
      },
      "text/plain": [
       "  0%|          | 0/66239 [00:00<?, ?it/s]"
      ]
     },
     "metadata": {},
     "output_type": "display_data"
    },
    {
     "name": "stdout",
     "output_type": "stream",
     "text": [
      "[26/28] Resampling PTT...\n"
     ]
    },
    {
     "data": {
      "application/vnd.jupyter.widget-view+json": {
       "model_id": "abe84072b1aa4898a358eb3db94fdb8d",
       "version_major": 2,
       "version_minor": 0
      },
      "text/plain": [
       "  0%|          | 0/66239 [00:00<?, ?it/s]"
      ]
     },
     "metadata": {},
     "output_type": "display_data"
    },
    {
     "name": "stdout",
     "output_type": "stream",
     "text": [
      "[27/28] Resampling baseexcess...\n"
     ]
    },
    {
     "data": {
      "application/vnd.jupyter.widget-view+json": {
       "model_id": "354076f7c6bb408299920d17685eeb86",
       "version_major": 2,
       "version_minor": 0
      },
      "text/plain": [
       "  0%|          | 0/66239 [00:00<?, ?it/s]"
      ]
     },
     "metadata": {},
     "output_type": "display_data"
    },
    {
     "name": "stdout",
     "output_type": "stream",
     "text": [
      "[28/28] Resampling lactate...\n"
     ]
    },
    {
     "data": {
      "application/vnd.jupyter.widget-view+json": {
       "model_id": "6efb96a19f6f42508dad37650b0773b4",
       "version_major": 2,
       "version_minor": 0
      },
      "text/plain": [
       "  0%|          | 0/66239 [00:00<?, ?it/s]"
      ]
     },
     "metadata": {},
     "output_type": "display_data"
    }
   ],
   "source": [
    "for i,idx in enumerate(tqdm(labvalues.abbreviation.unique())):\n",
    "    if not os.path.isfile('./data/resample/resample_%s.parquet'%idx):\n",
    "        print(\"[%i/%i] Resampling %s...\"%(i+1,len(labvalues.abbreviation.unique()),idx))\n",
    "        globals()['resample_{}'.format(idx)] = resample(globals()['chartevents_{}'.format(idx)],globals()['labevents_{}'.format(idx)],icustays)\n",
    "        globals()['resample_{}'.format(idx)].to_parquet('./data/resample/resample_%s.parquet'%idx)"
   ]
  },
  {
   "cell_type": "code",
   "execution_count": null,
   "metadata": {},
   "outputs": [],
   "source": []
  },
  {
   "cell_type": "code",
   "execution_count": null,
   "metadata": {},
   "outputs": [],
   "source": []
  },
  {
   "cell_type": "markdown",
   "metadata": {},
   "source": [
    "# Vitals"
   ]
  },
  {
   "cell_type": "code",
   "execution_count": 148,
   "metadata": {},
   "outputs": [],
   "source": [
    "def resample_vitals(chartevents_,icustays,itemid):\n",
    "    rt = []\n",
    "    icustays_intime = icustays[['subject_id','hadm_id','stay_id','intime']]\n",
    "    icustays_intime['intime'] = pd.to_datetime(icustays_intime['intime'])\n",
    "    icustays_intime = icustays_intime.rename(columns={'intime':'charttime'})\n",
    "\n",
    "    icustays_outtime = icustays[['subject_id','hadm_id','stay_id','outtime']]\n",
    "    icustays_outtime['outtime'] = pd.to_datetime(icustays_outtime['outtime'])\n",
    "    icustays_outtime = icustays_outtime.rename(columns={'outtime':'charttime'})\n",
    "    for i in tqdm(icustays.stay_id.unique()):\n",
    "        tmp = chartevents_[chartevents_['stay_id']==i]\n",
    "        tmp_id = icustays[icustays['stay_id']==i][['subject_id','hadm_id','stay_id']].iloc[0].to_list()\n",
    "        tmp_intime = icustays_intime[icustays_intime['stay_id']==i]\n",
    "        tmp_outtime = icustays_outtime[icustays_outtime['stay_id']==i]\n",
    "\n",
    "        tmp = pd.concat([tmp, tmp_intime, tmp_outtime])\n",
    "        tmp = tmp[(tmp['charttime'].values >= tmp_intime.charttime.values)&(tmp['charttime'].values <= tmp_outtime.charttime.values)]\n",
    "        tmp.index = pd.DatetimeIndex(tmp['charttime'])\n",
    "        tmp = pd.DataFrame(tmp['valuenum'].resample(rule='H', origin='start').last())\n",
    "        tmp.reset_index(drop=False,inplace=True)\n",
    "        tmp[['subject_id','hadm_id','stay_id']] = tmp_id\n",
    "        tmp['itemid'] = itemid\n",
    "        rt.append(tmp)\n",
    "    return pd.concat(rt)"
   ]
  },
  {
   "cell_type": "code",
   "execution_count": 54,
   "metadata": {},
   "outputs": [
    {
     "data": {
      "text/plain": [
       "array(['PaO2', 'PaCO2', 'FiO2', 'SaO2', 'RR', 'ABPs', 'ABPd', 'NBPs',\n",
       "       'NBPd', 'tempC', 'HR', 'CVP'], dtype=object)"
      ]
     },
     "execution_count": 54,
     "metadata": {},
     "output_type": "execute_result"
    }
   ],
   "source": [
    "vitals.abbreviation.unique()"
   ]
  },
  {
   "cell_type": "code",
   "execution_count": 56,
   "metadata": {},
   "outputs": [
    {
     "data": {
      "application/vnd.jupyter.widget-view+json": {
       "model_id": "71e1a19d4f554d098ff861860fa3b72f",
       "version_major": 2,
       "version_minor": 0
      },
      "text/plain": [
       "  0%|          | 0/12 [00:00<?, ?it/s]"
      ]
     },
     "metadata": {},
     "output_type": "display_data"
    },
    {
     "name": "stdout",
     "output_type": "stream",
     "text": [
      "[39553979/12] Resampling FiO2...\n"
     ]
    },
    {
     "data": {
      "application/vnd.jupyter.widget-view+json": {
       "model_id": "9f237aac9ebf425fb4959e6c4d846536",
       "version_major": 2,
       "version_minor": 0
      },
      "text/plain": [
       "  0%|          | 0/73181 [00:00<?, ?it/s]"
      ]
     },
     "metadata": {},
     "output_type": "display_data"
    },
    {
     "name": "stdout",
     "output_type": "stream",
     "text": [
      "[39553979/12] Resampling SaO2...\n"
     ]
    },
    {
     "data": {
      "application/vnd.jupyter.widget-view+json": {
       "model_id": "be8d9b7245e744e0a820cd823d2803a8",
       "version_major": 2,
       "version_minor": 0
      },
      "text/plain": [
       "  0%|          | 0/73181 [00:00<?, ?it/s]"
      ]
     },
     "metadata": {},
     "output_type": "display_data"
    },
    {
     "name": "stdout",
     "output_type": "stream",
     "text": [
      "[39553979/12] Resampling RR...\n"
     ]
    },
    {
     "data": {
      "application/vnd.jupyter.widget-view+json": {
       "model_id": "8b9a296b16e2457f9b5ba30eb0d7142e",
       "version_major": 2,
       "version_minor": 0
      },
      "text/plain": [
       "  0%|          | 0/73181 [00:00<?, ?it/s]"
      ]
     },
     "metadata": {},
     "output_type": "display_data"
    },
    {
     "name": "stdout",
     "output_type": "stream",
     "text": [
      "[39553979/12] Resampling ABPs...\n"
     ]
    },
    {
     "data": {
      "application/vnd.jupyter.widget-view+json": {
       "model_id": "aa0be1b1cada4ae0a7678bbc6fdbd988",
       "version_major": 2,
       "version_minor": 0
      },
      "text/plain": [
       "  0%|          | 0/73181 [00:00<?, ?it/s]"
      ]
     },
     "metadata": {},
     "output_type": "display_data"
    },
    {
     "name": "stdout",
     "output_type": "stream",
     "text": [
      "[39553979/12] Resampling ABPd...\n"
     ]
    },
    {
     "data": {
      "application/vnd.jupyter.widget-view+json": {
       "model_id": "12f1094bc22649ccb7add945bce887a8",
       "version_major": 2,
       "version_minor": 0
      },
      "text/plain": [
       "  0%|          | 0/73181 [00:00<?, ?it/s]"
      ]
     },
     "metadata": {},
     "output_type": "display_data"
    },
    {
     "name": "stdout",
     "output_type": "stream",
     "text": [
      "[39553979/12] Resampling NBPs...\n"
     ]
    },
    {
     "data": {
      "application/vnd.jupyter.widget-view+json": {
       "model_id": "24e138559c5d46f88da11afdd791d198",
       "version_major": 2,
       "version_minor": 0
      },
      "text/plain": [
       "  0%|          | 0/73181 [00:00<?, ?it/s]"
      ]
     },
     "metadata": {},
     "output_type": "display_data"
    },
    {
     "name": "stdout",
     "output_type": "stream",
     "text": [
      "[39553979/12] Resampling NBPd...\n"
     ]
    },
    {
     "data": {
      "application/vnd.jupyter.widget-view+json": {
       "model_id": "4332e94c06c94c3e90ff2c1609986c82",
       "version_major": 2,
       "version_minor": 0
      },
      "text/plain": [
       "  0%|          | 0/73181 [00:00<?, ?it/s]"
      ]
     },
     "metadata": {},
     "output_type": "display_data"
    },
    {
     "name": "stdout",
     "output_type": "stream",
     "text": [
      "[39553979/12] Resampling tempC...\n"
     ]
    },
    {
     "data": {
      "application/vnd.jupyter.widget-view+json": {
       "model_id": "dce9cf1aeb4b44978cf880d0e0bec23f",
       "version_major": 2,
       "version_minor": 0
      },
      "text/plain": [
       "  0%|          | 0/73181 [00:00<?, ?it/s]"
      ]
     },
     "metadata": {},
     "output_type": "display_data"
    },
    {
     "name": "stdout",
     "output_type": "stream",
     "text": [
      "[39553979/12] Resampling HR...\n"
     ]
    },
    {
     "data": {
      "application/vnd.jupyter.widget-view+json": {
       "model_id": "008918d5dec04f6aab106fe4f1e5cb31",
       "version_major": 2,
       "version_minor": 0
      },
      "text/plain": [
       "  0%|          | 0/73181 [00:00<?, ?it/s]"
      ]
     },
     "metadata": {},
     "output_type": "display_data"
    },
    {
     "name": "stdout",
     "output_type": "stream",
     "text": [
      "[39553979/12] Resampling CVP...\n"
     ]
    },
    {
     "data": {
      "application/vnd.jupyter.widget-view+json": {
       "model_id": "8e3a4638f08a4bf8a1021b5bb2a079bc",
       "version_major": 2,
       "version_minor": 0
      },
      "text/plain": [
       "  0%|          | 0/73181 [00:00<?, ?it/s]"
      ]
     },
     "metadata": {},
     "output_type": "display_data"
    }
   ],
   "source": [
    "for i,idx in enumerate(tqdm(vitals.abbreviation.unique())):\n",
    "    if not os.path.isfile('./data/resample/resample_%s.parquet'%idx):\n",
    "        print(\"[%i/%i] Resampling %s...\"%(i+1,len(vitals.abbreviation.unique()),idx))\n",
    "        globals()['resample_{}'.format(idx)] = resample_vitals(globals()['chartevents_{}'.format(idx)],icustays,idx)\n",
    "        globals()['resample_{}'.format(idx)].to_parquet('./data/resample/resample_%s.parquet'%idx)"
   ]
  },
  {
   "cell_type": "code",
   "execution_count": 64,
   "metadata": {},
   "outputs": [
    {
     "data": {
      "text/html": [
       "<div>\n",
       "<style scoped>\n",
       "    .dataframe tbody tr th:only-of-type {\n",
       "        vertical-align: middle;\n",
       "    }\n",
       "\n",
       "    .dataframe tbody tr th {\n",
       "        vertical-align: top;\n",
       "    }\n",
       "\n",
       "    .dataframe thead th {\n",
       "        text-align: right;\n",
       "    }\n",
       "</style>\n",
       "<table border=\"1\" class=\"dataframe\">\n",
       "  <thead>\n",
       "    <tr style=\"text-align: right;\">\n",
       "      <th></th>\n",
       "      <th>charttime</th>\n",
       "      <th>valuenum</th>\n",
       "      <th>subject_id</th>\n",
       "      <th>hadm_id</th>\n",
       "      <th>stay_id</th>\n",
       "      <th>itemid</th>\n",
       "    </tr>\n",
       "  </thead>\n",
       "  <tbody>\n",
       "    <tr>\n",
       "      <th>0</th>\n",
       "      <td>2180-07-23 14:00:00</td>\n",
       "      <td>NaN</td>\n",
       "      <td>10000032</td>\n",
       "      <td>29079034</td>\n",
       "      <td>39553978</td>\n",
       "      <td>ABPs</td>\n",
       "    </tr>\n",
       "    <tr>\n",
       "      <th>1</th>\n",
       "      <td>2180-07-23 15:00:00</td>\n",
       "      <td>NaN</td>\n",
       "      <td>10000032</td>\n",
       "      <td>29079034</td>\n",
       "      <td>39553978</td>\n",
       "      <td>ABPs</td>\n",
       "    </tr>\n",
       "    <tr>\n",
       "      <th>2</th>\n",
       "      <td>2180-07-23 16:00:00</td>\n",
       "      <td>NaN</td>\n",
       "      <td>10000032</td>\n",
       "      <td>29079034</td>\n",
       "      <td>39553978</td>\n",
       "      <td>ABPs</td>\n",
       "    </tr>\n",
       "    <tr>\n",
       "      <th>3</th>\n",
       "      <td>2180-07-23 17:00:00</td>\n",
       "      <td>NaN</td>\n",
       "      <td>10000032</td>\n",
       "      <td>29079034</td>\n",
       "      <td>39553978</td>\n",
       "      <td>ABPs</td>\n",
       "    </tr>\n",
       "    <tr>\n",
       "      <th>4</th>\n",
       "      <td>2180-07-23 18:00:00</td>\n",
       "      <td>NaN</td>\n",
       "      <td>10000032</td>\n",
       "      <td>29079034</td>\n",
       "      <td>39553978</td>\n",
       "      <td>ABPs</td>\n",
       "    </tr>\n",
       "    <tr>\n",
       "      <th>...</th>\n",
       "      <td>...</td>\n",
       "      <td>...</td>\n",
       "      <td>...</td>\n",
       "      <td>...</td>\n",
       "      <td>...</td>\n",
       "      <td>...</td>\n",
       "    </tr>\n",
       "    <tr>\n",
       "      <th>42</th>\n",
       "      <td>2145-11-04 16:59:00</td>\n",
       "      <td>NaN</td>\n",
       "      <td>19999987</td>\n",
       "      <td>23865745</td>\n",
       "      <td>36195440</td>\n",
       "      <td>ABPs</td>\n",
       "    </tr>\n",
       "    <tr>\n",
       "      <th>43</th>\n",
       "      <td>2145-11-04 17:59:00</td>\n",
       "      <td>NaN</td>\n",
       "      <td>19999987</td>\n",
       "      <td>23865745</td>\n",
       "      <td>36195440</td>\n",
       "      <td>ABPs</td>\n",
       "    </tr>\n",
       "    <tr>\n",
       "      <th>44</th>\n",
       "      <td>2145-11-04 18:59:00</td>\n",
       "      <td>NaN</td>\n",
       "      <td>19999987</td>\n",
       "      <td>23865745</td>\n",
       "      <td>36195440</td>\n",
       "      <td>ABPs</td>\n",
       "    </tr>\n",
       "    <tr>\n",
       "      <th>45</th>\n",
       "      <td>2145-11-04 19:59:00</td>\n",
       "      <td>NaN</td>\n",
       "      <td>19999987</td>\n",
       "      <td>23865745</td>\n",
       "      <td>36195440</td>\n",
       "      <td>ABPs</td>\n",
       "    </tr>\n",
       "    <tr>\n",
       "      <th>46</th>\n",
       "      <td>2145-11-04 20:59:00</td>\n",
       "      <td>NaN</td>\n",
       "      <td>19999987</td>\n",
       "      <td>23865745</td>\n",
       "      <td>36195440</td>\n",
       "      <td>ABPs</td>\n",
       "    </tr>\n",
       "  </tbody>\n",
       "</table>\n",
       "<p>6099434 rows × 6 columns</p>\n",
       "</div>"
      ],
      "text/plain": [
       "             charttime  valuenum  subject_id   hadm_id   stay_id itemid\n",
       "0  2180-07-23 14:00:00       NaN    10000032  29079034  39553978   ABPs\n",
       "1  2180-07-23 15:00:00       NaN    10000032  29079034  39553978   ABPs\n",
       "2  2180-07-23 16:00:00       NaN    10000032  29079034  39553978   ABPs\n",
       "3  2180-07-23 17:00:00       NaN    10000032  29079034  39553978   ABPs\n",
       "4  2180-07-23 18:00:00       NaN    10000032  29079034  39553978   ABPs\n",
       "..                 ...       ...         ...       ...       ...    ...\n",
       "42 2145-11-04 16:59:00       NaN    19999987  23865745  36195440   ABPs\n",
       "43 2145-11-04 17:59:00       NaN    19999987  23865745  36195440   ABPs\n",
       "44 2145-11-04 18:59:00       NaN    19999987  23865745  36195440   ABPs\n",
       "45 2145-11-04 19:59:00       NaN    19999987  23865745  36195440   ABPs\n",
       "46 2145-11-04 20:59:00       NaN    19999987  23865745  36195440   ABPs\n",
       "\n",
       "[6099434 rows x 6 columns]"
      ]
     },
     "execution_count": 64,
     "metadata": {},
     "output_type": "execute_result"
    }
   ],
   "source": [
    "resample_ABPs"
   ]
  },
  {
   "cell_type": "code",
   "execution_count": 62,
   "metadata": {},
   "outputs": [
    {
     "data": {
      "text/html": [
       "<div>\n",
       "<style scoped>\n",
       "    .dataframe tbody tr th:only-of-type {\n",
       "        vertical-align: middle;\n",
       "    }\n",
       "\n",
       "    .dataframe tbody tr th {\n",
       "        vertical-align: top;\n",
       "    }\n",
       "\n",
       "    .dataframe thead th {\n",
       "        text-align: right;\n",
       "    }\n",
       "</style>\n",
       "<table border=\"1\" class=\"dataframe\">\n",
       "  <thead>\n",
       "    <tr style=\"text-align: right;\">\n",
       "      <th></th>\n",
       "      <th>charttime</th>\n",
       "      <th>valuenum</th>\n",
       "      <th>subject_id</th>\n",
       "      <th>hadm_id</th>\n",
       "      <th>stay_id</th>\n",
       "      <th>itemid</th>\n",
       "    </tr>\n",
       "  </thead>\n",
       "  <tbody>\n",
       "    <tr>\n",
       "      <th>0</th>\n",
       "      <td>2180-07-23 14:00:00</td>\n",
       "      <td>95.0</td>\n",
       "      <td>10000032</td>\n",
       "      <td>29079034</td>\n",
       "      <td>39553978</td>\n",
       "      <td>NBPs</td>\n",
       "    </tr>\n",
       "    <tr>\n",
       "      <th>1</th>\n",
       "      <td>2180-07-23 15:00:00</td>\n",
       "      <td>88.0</td>\n",
       "      <td>10000032</td>\n",
       "      <td>29079034</td>\n",
       "      <td>39553978</td>\n",
       "      <td>NBPs</td>\n",
       "    </tr>\n",
       "    <tr>\n",
       "      <th>2</th>\n",
       "      <td>2180-07-23 16:00:00</td>\n",
       "      <td>91.0</td>\n",
       "      <td>10000032</td>\n",
       "      <td>29079034</td>\n",
       "      <td>39553978</td>\n",
       "      <td>NBPs</td>\n",
       "    </tr>\n",
       "    <tr>\n",
       "      <th>3</th>\n",
       "      <td>2180-07-23 17:00:00</td>\n",
       "      <td>95.0</td>\n",
       "      <td>10000032</td>\n",
       "      <td>29079034</td>\n",
       "      <td>39553978</td>\n",
       "      <td>NBPs</td>\n",
       "    </tr>\n",
       "    <tr>\n",
       "      <th>4</th>\n",
       "      <td>2180-07-23 18:00:00</td>\n",
       "      <td>86.0</td>\n",
       "      <td>10000032</td>\n",
       "      <td>29079034</td>\n",
       "      <td>39553978</td>\n",
       "      <td>NBPs</td>\n",
       "    </tr>\n",
       "    <tr>\n",
       "      <th>...</th>\n",
       "      <td>...</td>\n",
       "      <td>...</td>\n",
       "      <td>...</td>\n",
       "      <td>...</td>\n",
       "      <td>...</td>\n",
       "      <td>...</td>\n",
       "    </tr>\n",
       "    <tr>\n",
       "      <th>42</th>\n",
       "      <td>2145-11-04 16:59:00</td>\n",
       "      <td>NaN</td>\n",
       "      <td>19999987</td>\n",
       "      <td>23865745</td>\n",
       "      <td>36195440</td>\n",
       "      <td>NBPs</td>\n",
       "    </tr>\n",
       "    <tr>\n",
       "      <th>43</th>\n",
       "      <td>2145-11-04 17:59:00</td>\n",
       "      <td>NaN</td>\n",
       "      <td>19999987</td>\n",
       "      <td>23865745</td>\n",
       "      <td>36195440</td>\n",
       "      <td>NBPs</td>\n",
       "    </tr>\n",
       "    <tr>\n",
       "      <th>44</th>\n",
       "      <td>2145-11-04 18:59:00</td>\n",
       "      <td>163.0</td>\n",
       "      <td>19999987</td>\n",
       "      <td>23865745</td>\n",
       "      <td>36195440</td>\n",
       "      <td>NBPs</td>\n",
       "    </tr>\n",
       "    <tr>\n",
       "      <th>45</th>\n",
       "      <td>2145-11-04 19:59:00</td>\n",
       "      <td>NaN</td>\n",
       "      <td>19999987</td>\n",
       "      <td>23865745</td>\n",
       "      <td>36195440</td>\n",
       "      <td>NBPs</td>\n",
       "    </tr>\n",
       "    <tr>\n",
       "      <th>46</th>\n",
       "      <td>2145-11-04 20:59:00</td>\n",
       "      <td>143.0</td>\n",
       "      <td>19999987</td>\n",
       "      <td>23865745</td>\n",
       "      <td>36195440</td>\n",
       "      <td>NBPs</td>\n",
       "    </tr>\n",
       "  </tbody>\n",
       "</table>\n",
       "<p>6099434 rows × 6 columns</p>\n",
       "</div>"
      ],
      "text/plain": [
       "             charttime  valuenum  subject_id   hadm_id   stay_id itemid\n",
       "0  2180-07-23 14:00:00      95.0    10000032  29079034  39553978   NBPs\n",
       "1  2180-07-23 15:00:00      88.0    10000032  29079034  39553978   NBPs\n",
       "2  2180-07-23 16:00:00      91.0    10000032  29079034  39553978   NBPs\n",
       "3  2180-07-23 17:00:00      95.0    10000032  29079034  39553978   NBPs\n",
       "4  2180-07-23 18:00:00      86.0    10000032  29079034  39553978   NBPs\n",
       "..                 ...       ...         ...       ...       ...    ...\n",
       "42 2145-11-04 16:59:00       NaN    19999987  23865745  36195440   NBPs\n",
       "43 2145-11-04 17:59:00       NaN    19999987  23865745  36195440   NBPs\n",
       "44 2145-11-04 18:59:00     163.0    19999987  23865745  36195440   NBPs\n",
       "45 2145-11-04 19:59:00       NaN    19999987  23865745  36195440   NBPs\n",
       "46 2145-11-04 20:59:00     143.0    19999987  23865745  36195440   NBPs\n",
       "\n",
       "[6099434 rows x 6 columns]"
      ]
     },
     "execution_count": 62,
     "metadata": {},
     "output_type": "execute_result"
    }
   ],
   "source": [
    "resample_NBPs"
   ]
  },
  {
   "cell_type": "code",
   "execution_count": 83,
   "metadata": {},
   "outputs": [],
   "source": [
    "# NaN 값이 있는 행을 찾고, 해당 stay_id와 charttime으로 resample_NBPs에서 값을 찾아 대체하는 함수 (merge와 numpy.where 사용)\n",
    "def replace_nan_values_efficient(resample_ABPs, resample_NBPs):\n",
    "    # stay_id와 charttime을 기준으로 두 DataFrame을 병합\n",
    "    merged_df = resample_ABPs.merge(resample_NBPs, on=['subject_id','hadm_id','stay_id', 'charttime'], how='left', suffixes=('', '_nbp'))\n",
    "\n",
    "    # valuenum 열에서 NaN을 대체\n",
    "    merged_df['valuenum'] = np.where(pd.isna(merged_df['valuenum']), merged_df['valuenum_nbp'], merged_df['valuenum'])\n",
    "\n",
    "    # 원래의 열만 남기고 반환\n",
    "    return merged_df[['subject_id','hadm_id','stay_id', 'charttime', 'valuenum']]\n",
    "\n",
    "# 함수를 사용하여 NaN 값을 대체\n",
    "resample_SBP = replace_nan_values_efficient(resample_ABPs, resample_NBPs)\n",
    "resample_DBP = replace_nan_values_efficient(resample_ABPd, resample_NBPd)"
   ]
  },
  {
   "cell_type": "code",
   "execution_count": 142,
   "metadata": {},
   "outputs": [],
   "source": [
    "def resample_ffill(resample_):\n",
    "    resample_['valuenum'] = resample_.groupby('stay_id')['valuenum'].ffill()\n",
    "    return resample_\n",
    "\n",
    "def resample_bfill(resample_):\n",
    "    resample_['valuenum'] = resample_.groupby('stay_id')['valuenum'].bfill()\n",
    "    return resample_"
   ]
  },
  {
   "cell_type": "code",
   "execution_count": 84,
   "metadata": {},
   "outputs": [],
   "source": [
    "resample_SBP['valuenum'] = resample_SBP.groupby('stay_id')['valuenum'].ffill()\n",
    "resample_DBP['valuenum'] = resample_DBP.groupby('stay_id')['valuenum'].ffill()"
   ]
  },
  {
   "cell_type": "markdown",
   "metadata": {},
   "source": [
    "# SOFA"
   ]
  },
  {
   "cell_type": "markdown",
   "metadata": {},
   "source": [
    "## GCS"
   ]
  },
  {
   "cell_type": "code",
   "execution_count": 92,
   "metadata": {},
   "outputs": [],
   "source": [
    "chartevents_GCS_eye = pd.read_parquet('./data/others/chartevents_GCS_eye.parquet')\n",
    "chartevents_GCS_verval= pd.read_parquet('./data/others/chartevents_GCS_verval.parquet')\n",
    "chartevents_GCS_motor = pd.read_parquet('./data/others/chartevents_GCS_motor.parquet')"
   ]
  },
  {
   "cell_type": "code",
   "execution_count": 93,
   "metadata": {},
   "outputs": [
    {
     "data": {
      "application/vnd.jupyter.widget-view+json": {
       "model_id": "412e64b6c416462a939dab1f8d5e97b0",
       "version_major": 2,
       "version_minor": 0
      },
      "text/plain": [
       "  0%|          | 0/3 [00:00<?, ?it/s]"
      ]
     },
     "metadata": {},
     "output_type": "display_data"
    },
    {
     "name": "stdout",
     "output_type": "stream",
     "text": [
      "[39553979/12] Resampling GCS_eye...\n"
     ]
    },
    {
     "data": {
      "application/vnd.jupyter.widget-view+json": {
       "model_id": "53690b20fd18441ba1f44ecf027977b3",
       "version_major": 2,
       "version_minor": 0
      },
      "text/plain": [
       "  0%|          | 0/73181 [00:00<?, ?it/s]"
      ]
     },
     "metadata": {},
     "output_type": "display_data"
    },
    {
     "name": "stdout",
     "output_type": "stream",
     "text": [
      "[39553979/12] Resampling GCS_verval...\n"
     ]
    },
    {
     "data": {
      "application/vnd.jupyter.widget-view+json": {
       "model_id": "74bd2c80e9dc4ed895687d285f4093e5",
       "version_major": 2,
       "version_minor": 0
      },
      "text/plain": [
       "  0%|          | 0/73181 [00:00<?, ?it/s]"
      ]
     },
     "metadata": {},
     "output_type": "display_data"
    },
    {
     "name": "stdout",
     "output_type": "stream",
     "text": [
      "[39553979/12] Resampling GCS_motor...\n"
     ]
    },
    {
     "data": {
      "application/vnd.jupyter.widget-view+json": {
       "model_id": "848d66e4380e4095af0139282c1cb350",
       "version_major": 2,
       "version_minor": 0
      },
      "text/plain": [
       "  0%|          | 0/73181 [00:00<?, ?it/s]"
      ]
     },
     "metadata": {},
     "output_type": "display_data"
    }
   ],
   "source": [
    "GCS = ['GCS_eye','GCS_verval','GCS_motor']\n",
    "for i,idx in enumerate(tqdm(GCS)):\n",
    "    if not os.path.isfile('./data/resample/resample_%s.parquet'%idx):\n",
    "        print(\"[%i/%i] Resampling %s...\"%(i+1,len(vitals.abbreviation.unique()),idx))\n",
    "        globals()['resample_{}'.format(idx)] = resample_vitals(globals()['chartevents_{}'.format(idx)],icustays,idx)\n",
    "        globals()['resample_{}'.format(idx)].to_parquet('./data/resample/resample_%s.parquet'%idx)"
   ]
  },
  {
   "cell_type": "code",
   "execution_count": 115,
   "metadata": {},
   "outputs": [],
   "source": [
    "resample_GCS_eye = resample_ffill(resample_GCS_eye)\n",
    "resample_GCS_verval = resample_ffill(resample_GCS_verval)\n",
    "resample_GCS_motor = resample_ffill(resample_GCS_motor)"
   ]
  },
  {
   "cell_type": "code",
   "execution_count": 126,
   "metadata": {},
   "outputs": [],
   "source": [
    "resample_GCS = pd.merge(resample_GCS_eye,resample_GCS_verval,on=['subject_id','hadm_id','stay_id','charttime'],how='left')"
   ]
  },
  {
   "cell_type": "code",
   "execution_count": 127,
   "metadata": {},
   "outputs": [],
   "source": [
    "resample_GCS = pd.merge(resample_GCS,resample_GCS_motor,on=['subject_id','hadm_id','stay_id','charttime'],how='left')"
   ]
  },
  {
   "cell_type": "code",
   "execution_count": 129,
   "metadata": {},
   "outputs": [],
   "source": [
    "resample_GCS['value'] = resample_GCS['valuenum_x'] + resample_GCS['valuenum_y'] + resample_GCS['valuenum']"
   ]
  },
  {
   "cell_type": "code",
   "execution_count": 131,
   "metadata": {},
   "outputs": [],
   "source": [
    "resample_GCS = resample_GCS[['subject_id','hadm_id','stay_id','charttime','value']]"
   ]
  },
  {
   "cell_type": "code",
   "execution_count": 132,
   "metadata": {},
   "outputs": [
    {
     "data": {
      "text/html": [
       "<div>\n",
       "<style scoped>\n",
       "    .dataframe tbody tr th:only-of-type {\n",
       "        vertical-align: middle;\n",
       "    }\n",
       "\n",
       "    .dataframe tbody tr th {\n",
       "        vertical-align: top;\n",
       "    }\n",
       "\n",
       "    .dataframe thead th {\n",
       "        text-align: right;\n",
       "    }\n",
       "</style>\n",
       "<table border=\"1\" class=\"dataframe\">\n",
       "  <thead>\n",
       "    <tr style=\"text-align: right;\">\n",
       "      <th></th>\n",
       "      <th>subject_id</th>\n",
       "      <th>hadm_id</th>\n",
       "      <th>stay_id</th>\n",
       "      <th>charttime</th>\n",
       "      <th>value</th>\n",
       "    </tr>\n",
       "  </thead>\n",
       "  <tbody>\n",
       "    <tr>\n",
       "      <th>0</th>\n",
       "      <td>10000032</td>\n",
       "      <td>29079034</td>\n",
       "      <td>39553978</td>\n",
       "      <td>2180-07-23 14:00:00</td>\n",
       "      <td>14.0</td>\n",
       "    </tr>\n",
       "    <tr>\n",
       "      <th>1</th>\n",
       "      <td>10000032</td>\n",
       "      <td>29079034</td>\n",
       "      <td>39553978</td>\n",
       "      <td>2180-07-23 15:00:00</td>\n",
       "      <td>14.0</td>\n",
       "    </tr>\n",
       "    <tr>\n",
       "      <th>2</th>\n",
       "      <td>10000032</td>\n",
       "      <td>29079034</td>\n",
       "      <td>39553978</td>\n",
       "      <td>2180-07-23 16:00:00</td>\n",
       "      <td>14.0</td>\n",
       "    </tr>\n",
       "    <tr>\n",
       "      <th>3</th>\n",
       "      <td>10000032</td>\n",
       "      <td>29079034</td>\n",
       "      <td>39553978</td>\n",
       "      <td>2180-07-23 17:00:00</td>\n",
       "      <td>14.0</td>\n",
       "    </tr>\n",
       "    <tr>\n",
       "      <th>4</th>\n",
       "      <td>10000032</td>\n",
       "      <td>29079034</td>\n",
       "      <td>39553978</td>\n",
       "      <td>2180-07-23 18:00:00</td>\n",
       "      <td>15.0</td>\n",
       "    </tr>\n",
       "    <tr>\n",
       "      <th>...</th>\n",
       "      <td>...</td>\n",
       "      <td>...</td>\n",
       "      <td>...</td>\n",
       "      <td>...</td>\n",
       "      <td>...</td>\n",
       "    </tr>\n",
       "    <tr>\n",
       "      <th>6099429</th>\n",
       "      <td>19999987</td>\n",
       "      <td>23865745</td>\n",
       "      <td>36195440</td>\n",
       "      <td>2145-11-04 16:59:00</td>\n",
       "      <td>13.0</td>\n",
       "    </tr>\n",
       "    <tr>\n",
       "      <th>6099430</th>\n",
       "      <td>19999987</td>\n",
       "      <td>23865745</td>\n",
       "      <td>36195440</td>\n",
       "      <td>2145-11-04 17:59:00</td>\n",
       "      <td>13.0</td>\n",
       "    </tr>\n",
       "    <tr>\n",
       "      <th>6099431</th>\n",
       "      <td>19999987</td>\n",
       "      <td>23865745</td>\n",
       "      <td>36195440</td>\n",
       "      <td>2145-11-04 18:59:00</td>\n",
       "      <td>13.0</td>\n",
       "    </tr>\n",
       "    <tr>\n",
       "      <th>6099432</th>\n",
       "      <td>19999987</td>\n",
       "      <td>23865745</td>\n",
       "      <td>36195440</td>\n",
       "      <td>2145-11-04 19:59:00</td>\n",
       "      <td>14.0</td>\n",
       "    </tr>\n",
       "    <tr>\n",
       "      <th>6099433</th>\n",
       "      <td>19999987</td>\n",
       "      <td>23865745</td>\n",
       "      <td>36195440</td>\n",
       "      <td>2145-11-04 20:59:00</td>\n",
       "      <td>14.0</td>\n",
       "    </tr>\n",
       "  </tbody>\n",
       "</table>\n",
       "<p>6099434 rows × 5 columns</p>\n",
       "</div>"
      ],
      "text/plain": [
       "         subject_id   hadm_id   stay_id           charttime  value\n",
       "0          10000032  29079034  39553978 2180-07-23 14:00:00   14.0\n",
       "1          10000032  29079034  39553978 2180-07-23 15:00:00   14.0\n",
       "2          10000032  29079034  39553978 2180-07-23 16:00:00   14.0\n",
       "3          10000032  29079034  39553978 2180-07-23 17:00:00   14.0\n",
       "4          10000032  29079034  39553978 2180-07-23 18:00:00   15.0\n",
       "...             ...       ...       ...                 ...    ...\n",
       "6099429    19999987  23865745  36195440 2145-11-04 16:59:00   13.0\n",
       "6099430    19999987  23865745  36195440 2145-11-04 17:59:00   13.0\n",
       "6099431    19999987  23865745  36195440 2145-11-04 18:59:00   13.0\n",
       "6099432    19999987  23865745  36195440 2145-11-04 19:59:00   14.0\n",
       "6099433    19999987  23865745  36195440 2145-11-04 20:59:00   14.0\n",
       "\n",
       "[6099434 rows x 5 columns]"
      ]
     },
     "execution_count": 132,
     "metadata": {},
     "output_type": "execute_result"
    }
   ],
   "source": [
    "resample_GCS"
   ]
  },
  {
   "cell_type": "code",
   "execution_count": 143,
   "metadata": {},
   "outputs": [],
   "source": [
    "resample_PaO2 = resample_ffill(resample_PaO2)\n",
    "resample_PaO2 = resample_bfill(resample_PaO2)"
   ]
  },
  {
   "cell_type": "code",
   "execution_count": 145,
   "metadata": {},
   "outputs": [
    {
     "data": {
      "text/plain": [
       "charttime           0\n",
       "valuenum      1969899\n",
       "subject_id          0\n",
       "hadm_id             0\n",
       "stay_id             0\n",
       "itemid              0\n",
       "dtype: int64"
      ]
     },
     "execution_count": 145,
     "metadata": {},
     "output_type": "execute_result"
    }
   ],
   "source": [
    "resample_PaO2.isna().sum()"
   ]
  },
  {
   "cell_type": "markdown",
   "metadata": {},
   "source": [
    "# Urine Output"
   ]
  },
  {
   "cell_type": "code",
   "execution_count": 155,
   "metadata": {},
   "outputs": [],
   "source": [
    "def resample_uo(chartevents_,icustays,itemid):\n",
    "    rt = []\n",
    "    chartevents_['charttime'] = pd.to_datetime(chartevents_['charttime'])\n",
    "    icustays_intime = icustays[['subject_id','hadm_id','stay_id','intime']]\n",
    "    icustays_intime['intime'] = pd.to_datetime(icustays_intime['intime'])\n",
    "    icustays_intime = icustays_intime.rename(columns={'intime':'charttime'})\n",
    "\n",
    "    icustays_outtime = icustays[['subject_id','hadm_id','stay_id','outtime']]\n",
    "    icustays_outtime['outtime'] = pd.to_datetime(icustays_outtime['outtime'])\n",
    "    icustays_outtime = icustays_outtime.rename(columns={'outtime':'charttime'})\n",
    "    for i in tqdm(icustays.stay_id.unique()):\n",
    "        tmp = chartevents_[chartevents_['stay_id']==i]\n",
    "        tmp_id = icustays[icustays['stay_id']==i][['subject_id','hadm_id','stay_id']].iloc[0].to_list()\n",
    "        tmp_intime = icustays_intime[icustays_intime['stay_id']==i]\n",
    "        tmp_outtime = icustays_outtime[icustays_outtime['stay_id']==i]\n",
    "\n",
    "        tmp = pd.concat([tmp, tmp_intime, tmp_outtime])\n",
    "        tmp = tmp[(tmp['charttime'].values >= tmp_intime.charttime.values)&(tmp['charttime'].values <= tmp_outtime.charttime.values)]\n",
    "        tmp.index = pd.DatetimeIndex(tmp['charttime'])\n",
    "        tmp = pd.DataFrame(tmp['value'].resample(rule='H', origin='start').sum())\n",
    "        tmp.reset_index(drop=False,inplace=True)\n",
    "        tmp[['subject_id','hadm_id','stay_id']] = tmp_id\n",
    "        tmp['itemid'] = itemid\n",
    "        rt.append(tmp)\n",
    "    return pd.concat(rt)"
   ]
  },
  {
   "cell_type": "code",
   "execution_count": 156,
   "metadata": {},
   "outputs": [
    {
     "data": {
      "application/vnd.jupyter.widget-view+json": {
       "model_id": "f3582a9ece7d4308be5e77f7e8286418",
       "version_major": 2,
       "version_minor": 0
      },
      "text/plain": [
       "  0%|          | 0/73181 [00:00<?, ?it/s]"
      ]
     },
     "metadata": {},
     "output_type": "display_data"
    }
   ],
   "source": [
    "resample_uo = resample_uo(outputevents_uo,icustays,'uo')"
   ]
  },
  {
   "cell_type": "code",
   "execution_count": 160,
   "metadata": {},
   "outputs": [
    {
     "data": {
      "text/html": [
       "<div>\n",
       "<style scoped>\n",
       "    .dataframe tbody tr th:only-of-type {\n",
       "        vertical-align: middle;\n",
       "    }\n",
       "\n",
       "    .dataframe tbody tr th {\n",
       "        vertical-align: top;\n",
       "    }\n",
       "\n",
       "    .dataframe thead th {\n",
       "        text-align: right;\n",
       "    }\n",
       "</style>\n",
       "<table border=\"1\" class=\"dataframe\">\n",
       "  <thead>\n",
       "    <tr style=\"text-align: right;\">\n",
       "      <th></th>\n",
       "      <th>charttime</th>\n",
       "      <th>value</th>\n",
       "      <th>subject_id</th>\n",
       "      <th>hadm_id</th>\n",
       "      <th>stay_id</th>\n",
       "      <th>itemid</th>\n",
       "    </tr>\n",
       "  </thead>\n",
       "  <tbody>\n",
       "    <tr>\n",
       "      <th>0</th>\n",
       "      <td>2180-07-23 14:00:00</td>\n",
       "      <td>0.0</td>\n",
       "      <td>10000032</td>\n",
       "      <td>29079034</td>\n",
       "      <td>39553978</td>\n",
       "      <td>uo</td>\n",
       "    </tr>\n",
       "    <tr>\n",
       "      <th>1</th>\n",
       "      <td>2180-07-23 15:00:00</td>\n",
       "      <td>175.0</td>\n",
       "      <td>10000032</td>\n",
       "      <td>29079034</td>\n",
       "      <td>39553978</td>\n",
       "      <td>uo</td>\n",
       "    </tr>\n",
       "    <tr>\n",
       "      <th>2</th>\n",
       "      <td>2180-07-23 16:00:00</td>\n",
       "      <td>0.0</td>\n",
       "      <td>10000032</td>\n",
       "      <td>29079034</td>\n",
       "      <td>39553978</td>\n",
       "      <td>uo</td>\n",
       "    </tr>\n",
       "    <tr>\n",
       "      <th>3</th>\n",
       "      <td>2180-07-23 17:00:00</td>\n",
       "      <td>0.0</td>\n",
       "      <td>10000032</td>\n",
       "      <td>29079034</td>\n",
       "      <td>39553978</td>\n",
       "      <td>uo</td>\n",
       "    </tr>\n",
       "    <tr>\n",
       "      <th>4</th>\n",
       "      <td>2180-07-23 18:00:00</td>\n",
       "      <td>0.0</td>\n",
       "      <td>10000032</td>\n",
       "      <td>29079034</td>\n",
       "      <td>39553978</td>\n",
       "      <td>uo</td>\n",
       "    </tr>\n",
       "    <tr>\n",
       "      <th>...</th>\n",
       "      <td>...</td>\n",
       "      <td>...</td>\n",
       "      <td>...</td>\n",
       "      <td>...</td>\n",
       "      <td>...</td>\n",
       "      <td>...</td>\n",
       "    </tr>\n",
       "    <tr>\n",
       "      <th>42</th>\n",
       "      <td>2145-11-04 16:59:00</td>\n",
       "      <td>0.0</td>\n",
       "      <td>19999987</td>\n",
       "      <td>23865745</td>\n",
       "      <td>36195440</td>\n",
       "      <td>uo</td>\n",
       "    </tr>\n",
       "    <tr>\n",
       "      <th>43</th>\n",
       "      <td>2145-11-04 17:59:00</td>\n",
       "      <td>0.0</td>\n",
       "      <td>19999987</td>\n",
       "      <td>23865745</td>\n",
       "      <td>36195440</td>\n",
       "      <td>uo</td>\n",
       "    </tr>\n",
       "    <tr>\n",
       "      <th>44</th>\n",
       "      <td>2145-11-04 18:59:00</td>\n",
       "      <td>0.0</td>\n",
       "      <td>19999987</td>\n",
       "      <td>23865745</td>\n",
       "      <td>36195440</td>\n",
       "      <td>uo</td>\n",
       "    </tr>\n",
       "    <tr>\n",
       "      <th>45</th>\n",
       "      <td>2145-11-04 19:59:00</td>\n",
       "      <td>325.0</td>\n",
       "      <td>19999987</td>\n",
       "      <td>23865745</td>\n",
       "      <td>36195440</td>\n",
       "      <td>uo</td>\n",
       "    </tr>\n",
       "    <tr>\n",
       "      <th>46</th>\n",
       "      <td>2145-11-04 20:59:00</td>\n",
       "      <td>0.0</td>\n",
       "      <td>19999987</td>\n",
       "      <td>23865745</td>\n",
       "      <td>36195440</td>\n",
       "      <td>uo</td>\n",
       "    </tr>\n",
       "  </tbody>\n",
       "</table>\n",
       "<p>6099434 rows × 6 columns</p>\n",
       "</div>"
      ],
      "text/plain": [
       "             charttime  value  subject_id   hadm_id   stay_id itemid\n",
       "0  2180-07-23 14:00:00    0.0    10000032  29079034  39553978     uo\n",
       "1  2180-07-23 15:00:00  175.0    10000032  29079034  39553978     uo\n",
       "2  2180-07-23 16:00:00    0.0    10000032  29079034  39553978     uo\n",
       "3  2180-07-23 17:00:00    0.0    10000032  29079034  39553978     uo\n",
       "4  2180-07-23 18:00:00    0.0    10000032  29079034  39553978     uo\n",
       "..                 ...    ...         ...       ...       ...    ...\n",
       "42 2145-11-04 16:59:00    0.0    19999987  23865745  36195440     uo\n",
       "43 2145-11-04 17:59:00    0.0    19999987  23865745  36195440     uo\n",
       "44 2145-11-04 18:59:00    0.0    19999987  23865745  36195440     uo\n",
       "45 2145-11-04 19:59:00  325.0    19999987  23865745  36195440     uo\n",
       "46 2145-11-04 20:59:00    0.0    19999987  23865745  36195440     uo\n",
       "\n",
       "[6099434 rows x 6 columns]"
      ]
     },
     "execution_count": 160,
     "metadata": {},
     "output_type": "execute_result"
    }
   ],
   "source": [
    "resample_uo"
   ]
  }
 ],
 "metadata": {
  "kernelspec": {
   "display_name": "torch",
   "language": "python",
   "name": "python3"
  },
  "language_info": {
   "codemirror_mode": {
    "name": "ipython",
    "version": 3
   },
   "file_extension": ".py",
   "mimetype": "text/x-python",
   "name": "python",
   "nbconvert_exporter": "python",
   "pygments_lexer": "ipython3",
   "version": "3.9.0"
  }
 },
 "nbformat": 4,
 "nbformat_minor": 2
}
