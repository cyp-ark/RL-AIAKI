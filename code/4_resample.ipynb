{
 "cells": [
  {
   "cell_type": "code",
   "execution_count": 1,
   "metadata": {},
   "outputs": [],
   "source": [
    "import pandas as pd\n",
    "import numpy as np\n",
    "import matplotlib.pyplot as plt\n",
    "import sys, os, pickle,utils\n",
    "\n",
    "from tqdm.notebook import tqdm\n",
    "from datetime import timedelta\n",
    "#from utils import baseline_SCr\n",
    "\n",
    "if os.getcwd()[-4:] == \"code\":\n",
    "    os.chdir('../')\n",
    "\n",
    "icu = './data/mimic-iv-2.2-parquet/icu/'\n",
    "hosp = './data/mimic-iv-2.2-parquet/hosp/'\n",
    "\n",
    "pd.set_option('mode.chained_assignment',  None) # 경고 off"
   ]
  },
  {
   "cell_type": "code",
   "execution_count": 2,
   "metadata": {},
   "outputs": [],
   "source": [
    "vitals = pd.read_csv('./data/vitals/vitals_new.csv')\n",
    "vitals = vitals[vitals['abbreviation']!='tempF']\n",
    "vitals.reset_index(drop=True,inplace=True)\n",
    "for i in vitals.abbreviation.unique():\n",
    "    globals()['chartevents_{}'.format(i)] = pd.read_parquet('./data/vitals/chartevents_%s.parquet'%i)"
   ]
  },
  {
   "cell_type": "code",
   "execution_count": 3,
   "metadata": {},
   "outputs": [],
   "source": [
    "labvalues = pd.read_csv('./data/labvalues/labvalues.csv')\n",
    "icustays  = pd.read_parquet(icu+'icustays.parquet')"
   ]
  },
  {
   "cell_type": "code",
   "execution_count": 4,
   "metadata": {},
   "outputs": [],
   "source": [
    "try:\n",
    "    for i in labvalues.abbreviation.unique():\n",
    "        globals()['chartevents_{}'.format(i)] = pd.read_parquet('./data/labvalues/chartevents_%s.parquet'%i)\n",
    "        globals()['labevents_{}'.format(i)] = pd.read_parquet('./data/labvalues/labevents_%s.parquet'%i)\n",
    "except:\n",
    "    FileNotFoundError\n",
    "    print(i)"
   ]
  },
  {
   "cell_type": "code",
   "execution_count": 5,
   "metadata": {},
   "outputs": [],
   "source": [
    "outputevents_uo = pd.read_parquet('./data/others/outputevents_uo.parquet')"
   ]
  },
  {
   "cell_type": "markdown",
   "metadata": {},
   "source": [
    "# Lab values"
   ]
  },
  {
   "cell_type": "code",
   "execution_count": 54,
   "metadata": {},
   "outputs": [],
   "source": [
    "def resample(chartevents_,labevents_,icustays):\n",
    "    rt = []\n",
    "    tmp_itemid = chartevents_.itemid[0]\n",
    "\n",
    "    icustays_intime = icustays[['subject_id','hadm_id','stay_id','intime']]\n",
    "    icustays_intime['intime'] = pd.to_datetime(icustays_intime['intime'])\n",
    "    icustays_intime = icustays_intime.rename(columns={'intime':'charttime'})\n",
    "\n",
    "    icustays_outtime = icustays[['subject_id','hadm_id','stay_id','outtime']]\n",
    "    icustays_outtime['outtime'] = pd.to_datetime(icustays_outtime['outtime'])\n",
    "    icustays_outtime = icustays_outtime.rename(columns={'outtime':'charttime'})\n",
    "\n",
    "    chartevents_['charttime'] = pd.to_datetime(chartevents_['charttime'])\n",
    "    labevents_['charttime'] = pd.to_datetime(labevents_['charttime'])\n",
    "\n",
    "    for i in tqdm(icustays.hadm_id.unique()):\n",
    "        tmp_hosp = labevents_[labevents_['hadm_id']==i]\n",
    "        tmp_hosp = tmp_hosp[['subject_id','hadm_id','charttime','itemid','valuenum']]\n",
    "        tmp_hosp.sort_values('charttime',ascending=True, inplace=True)\n",
    "\n",
    "        for i in icustays[icustays['hadm_id']==i].stay_id.unique():\n",
    "            tmp = chartevents_[chartevents_['stay_id']==i]\n",
    "            tmp_id = icustays[icustays['stay_id']==i][['subject_id','hadm_id','stay_id']].iloc[0].to_list()\n",
    "            tmp_intime = icustays_intime[icustays_intime['stay_id']==i]\n",
    "            tmp_outtime = icustays_outtime[icustays_outtime['stay_id']==i]\n",
    "\n",
    "            tmp = pd.concat([tmp, tmp_intime, tmp_outtime])\n",
    "\n",
    "            tmp = tmp[(tmp['charttime'].values >= tmp_intime.charttime.values)&(tmp['charttime'].values <= tmp_outtime.charttime.values)]\n",
    "            tmp.index = pd.DatetimeIndex(tmp['charttime'])\n",
    "\n",
    "            tmp = pd.DataFrame(tmp['valuenum'].resample(rule='H', origin='start').last())\n",
    "            tmp.reset_index(drop=False,inplace=True)\n",
    "\n",
    "            if tmp.iloc[0].isna().any():\n",
    "                tmp_hosp = tmp_hosp[(tmp_hosp['charttime'].values < tmp_intime.charttime.values)]\n",
    "                if not tmp_hosp.empty:\n",
    "                    tmp.iloc[0]['valuenum'] = tmp_hosp.iloc[-1].valuenum\n",
    "            tmp[['subject_id','hadm_id','stay_id']] = tmp_id\n",
    "            tmp['itemid'] = tmp_itemid\n",
    "            rt.append(tmp)\n",
    "    rt = pd.concat(rt)\n",
    "    rt = rt[['subject_id','hadm_id','stay_id','charttime','valuenum']]\n",
    "    return pd.concat(rt)"
   ]
  },
  {
   "cell_type": "code",
   "execution_count": 55,
   "metadata": {},
   "outputs": [
    {
     "data": {
      "application/vnd.jupyter.widget-view+json": {
       "model_id": "ba955c216a224947be2d97ec2ecf7eb9",
       "version_major": 2,
       "version_minor": 0
      },
      "text/plain": [
       "  0%|          | 0/30 [00:00<?, ?it/s]"
      ]
     },
     "metadata": {},
     "output_type": "display_data"
    }
   ],
   "source": [
    "for i,idx in enumerate(tqdm(labvalues.abbreviation.unique())):\n",
    "    if not os.path.isfile('./data/resample/resample_%s.parquet'%idx):\n",
    "        print(\"[%i/%i] Resampling %s...\"%(i+1,len(labvalues.abbreviation.unique()),idx))\n",
    "        globals()['resample_{}'.format(idx)] = resample(globals()['chartevents_{}'.format(idx)],globals()['labevents_{}'.format(idx)],icustays)\n",
    "        globals()['resample_{}'.format(idx)].to_parquet('./data/resample/resample_%s.parquet'%idx)\n",
    "    else : \n",
    "        globals()['resample_{}'.format(idx)] = pd.read_parquet('./data/resample/resample_%s.parquet'%idx)"
   ]
  },
  {
   "cell_type": "code",
   "execution_count": 56,
   "metadata": {},
   "outputs": [
    {
     "data": {
      "application/vnd.jupyter.widget-view+json": {
       "model_id": "b65747858c5c4d14ab0d84fe452ced63",
       "version_major": 2,
       "version_minor": 0
      },
      "text/plain": [
       "  0%|          | 0/30 [00:00<?, ?it/s]"
      ]
     },
     "metadata": {},
     "output_type": "display_data"
    },
    {
     "ename": "ValueError",
     "evalue": "operands could not be broadcast together with shapes (4,) (30,) ",
     "output_type": "error",
     "traceback": [
      "\u001b[1;31m---------------------------------------------------------------------------\u001b[0m",
      "\u001b[1;31mValueError\u001b[0m                                Traceback (most recent call last)",
      "Cell \u001b[1;32mIn[56], line 11\u001b[0m\n\u001b[0;32m      9\u001b[0m     \u001b[38;5;28;01melse\u001b[39;00m : \n\u001b[0;32m     10\u001b[0m         resample_labvalues \u001b[38;5;241m=\u001b[39m pd\u001b[38;5;241m.\u001b[39mmerge(resample_labvalues,\u001b[38;5;28mglobals\u001b[39m()[\u001b[38;5;124m'\u001b[39m\u001b[38;5;124mresample_\u001b[39m\u001b[38;5;132;01m{}\u001b[39;00m\u001b[38;5;124m'\u001b[39m\u001b[38;5;241m.\u001b[39mformat(vitals)],on\u001b[38;5;241m=\u001b[39m[\u001b[38;5;124m'\u001b[39m\u001b[38;5;124msubject_id\u001b[39m\u001b[38;5;124m'\u001b[39m,\u001b[38;5;124m'\u001b[39m\u001b[38;5;124mhadm_id\u001b[39m\u001b[38;5;124m'\u001b[39m,\u001b[38;5;124m'\u001b[39m\u001b[38;5;124mstay_id\u001b[39m\u001b[38;5;124m'\u001b[39m,\u001b[38;5;124m'\u001b[39m\u001b[38;5;124mcharttime\u001b[39m\u001b[38;5;124m'\u001b[39m],how\u001b[38;5;241m=\u001b[39m\u001b[38;5;124m'\u001b[39m\u001b[38;5;124mleft\u001b[39m\u001b[38;5;124m'\u001b[39m)\n\u001b[1;32m---> 11\u001b[0m resample_labvalues \u001b[38;5;241m=\u001b[39m resample_labvalues[\u001b[43m[\u001b[49m\u001b[38;5;124;43m'\u001b[39;49m\u001b[38;5;124;43msubject_id\u001b[39;49m\u001b[38;5;124;43m'\u001b[39;49m\u001b[43m,\u001b[49m\u001b[38;5;124;43m'\u001b[39;49m\u001b[38;5;124;43mhadm_id\u001b[39;49m\u001b[38;5;124;43m'\u001b[39;49m\u001b[43m,\u001b[49m\u001b[38;5;124;43m'\u001b[39;49m\u001b[38;5;124;43mstay_id\u001b[39;49m\u001b[38;5;124;43m'\u001b[39;49m\u001b[43m,\u001b[49m\u001b[38;5;124;43m'\u001b[39;49m\u001b[38;5;124;43mcharttime\u001b[39;49m\u001b[38;5;124;43m'\u001b[39;49m\u001b[43m]\u001b[49m\u001b[38;5;241;43m+\u001b[39;49m\u001b[43mlabvalues\u001b[49m\u001b[38;5;241;43m.\u001b[39;49m\u001b[43mabbreviation\u001b[49m\u001b[38;5;241;43m.\u001b[39;49m\u001b[43munique\u001b[49m\u001b[43m(\u001b[49m\u001b[43m)\u001b[49m]\n",
      "\u001b[1;31mValueError\u001b[0m: operands could not be broadcast together with shapes (4,) (30,) "
     ]
    }
   ],
   "source": [
    "resample_labvalues = pd.DataFrame([])\n",
    "for i, vitals in enumerate(tqdm(labvalues.abbreviation.unique())):\n",
    "    if 'valuenum' in globals()['resample_{}'.format(vitals)].columns:\n",
    "        globals()['resample_{}'.format(vitals)].rename(columns={'valuenum':vitals},inplace=True)\n",
    "    if 'itemid' in  globals()['resample_{}'.format(vitals)].columns:\n",
    "        globals()['resample_{}'.format(vitals)].drop('itemid',axis=1,inplace=True)\n",
    "    if i == 0:\n",
    "        resample_labvalues = globals()['resample_{}'.format(vitals)].copy()\n",
    "    else : \n",
    "        resample_labvalues = pd.merge(resample_labvalues,globals()['resample_{}'.format(vitals)],on=['subject_id','hadm_id','stay_id','charttime'],how='left')\n",
    "resample_labvalues = resample_labvalues[['subject_id','hadm_id','stay_id','charttime']+labvalues.abbreviation.unique()]"
   ]
  },
  {
   "cell_type": "code",
   "execution_count": null,
   "metadata": {},
   "outputs": [],
   "source": [
    "resample_labvalues.to_parquet('./data/resample/resample_labvalues.parquet')"
   ]
  },
  {
   "cell_type": "markdown",
   "metadata": {},
   "source": [
    "# Vitals"
   ]
  },
  {
   "cell_type": "code",
   "execution_count": 51,
   "metadata": {},
   "outputs": [],
   "source": [
    "def resample_vitals(chartevents_,icustays,itemid):\n",
    "    rt = []\n",
    "    icustays_intime = icustays[['subject_id','hadm_id','stay_id','intime']]\n",
    "    icustays_intime['intime'] = pd.to_datetime(icustays_intime['intime'])\n",
    "    icustays_intime = icustays_intime.rename(columns={'intime':'charttime'})\n",
    "\n",
    "    icustays_outtime = icustays[['subject_id','hadm_id','stay_id','outtime']]\n",
    "    icustays_outtime['outtime'] = pd.to_datetime(icustays_outtime['outtime'])\n",
    "    icustays_outtime = icustays_outtime.rename(columns={'outtime':'charttime'})\n",
    "    for i in tqdm(icustays.stay_id.unique()):\n",
    "        tmp = chartevents_[chartevents_['stay_id']==i]\n",
    "        tmp_id = icustays[icustays['stay_id']==i][['subject_id','hadm_id','stay_id']].iloc[0].to_list()\n",
    "        tmp_intime = icustays_intime[icustays_intime['stay_id']==i]\n",
    "        tmp_outtime = icustays_outtime[icustays_outtime['stay_id']==i]\n",
    "\n",
    "        tmp = pd.concat([tmp, tmp_intime, tmp_outtime])\n",
    "        tmp = tmp[(tmp['charttime'].values >= tmp_intime.charttime.values)&(tmp['charttime'].values <= tmp_outtime.charttime.values)]\n",
    "        tmp.index = pd.DatetimeIndex(tmp['charttime'])\n",
    "        tmp = pd.DataFrame(tmp['valuenum'].resample(rule='H', origin='start').last())\n",
    "        tmp.reset_index(drop=False,inplace=True)\n",
    "        tmp[['subject_id','hadm_id','stay_id']] = tmp_id\n",
    "        tmp['itemid'] = itemid\n",
    "        rt.append(tmp)\n",
    "    return pd.concat(rt)"
   ]
  },
  {
   "cell_type": "code",
   "execution_count": 52,
   "metadata": {},
   "outputs": [
    {
     "ename": "AttributeError",
     "evalue": "'str' object has no attribute 'abbreviation'",
     "output_type": "error",
     "traceback": [
      "\u001b[1;31m---------------------------------------------------------------------------\u001b[0m",
      "\u001b[1;31mAttributeError\u001b[0m                            Traceback (most recent call last)",
      "Cell \u001b[1;32mIn[52], line 1\u001b[0m\n\u001b[1;32m----> 1\u001b[0m \u001b[43mvitals\u001b[49m\u001b[38;5;241;43m.\u001b[39;49m\u001b[43mabbreviation\u001b[49m\u001b[38;5;241m.\u001b[39munique()\n",
      "\u001b[1;31mAttributeError\u001b[0m: 'str' object has no attribute 'abbreviation'"
     ]
    }
   ],
   "source": [
    "vitals.abbreviation.unique()"
   ]
  },
  {
   "cell_type": "code",
   "execution_count": null,
   "metadata": {},
   "outputs": [],
   "source": []
  },
  {
   "cell_type": "code",
   "execution_count": 22,
   "metadata": {},
   "outputs": [
    {
     "data": {
      "application/vnd.jupyter.widget-view+json": {
       "model_id": "757da2ac008c4194990dd29c8fc3dfe4",
       "version_major": 2,
       "version_minor": 0
      },
      "text/plain": [
       "  0%|          | 0/10 [00:00<?, ?it/s]"
      ]
     },
     "metadata": {},
     "output_type": "display_data"
    },
    {
     "name": "stdout",
     "output_type": "stream",
     "text": [
      "[1/10] Resampling FiO2...\n"
     ]
    },
    {
     "ename": "NameError",
     "evalue": "name 'resample_vitals' is not defined",
     "output_type": "error",
     "traceback": [
      "\u001b[1;31m---------------------------------------------------------------------------\u001b[0m",
      "\u001b[1;31mNameError\u001b[0m                                 Traceback (most recent call last)",
      "Cell \u001b[1;32mIn[22], line 4\u001b[0m\n\u001b[0;32m      2\u001b[0m \u001b[38;5;28;01mif\u001b[39;00m \u001b[38;5;129;01mnot\u001b[39;00m os\u001b[38;5;241m.\u001b[39mpath\u001b[38;5;241m.\u001b[39misfile(\u001b[38;5;124m'\u001b[39m\u001b[38;5;124m./data/resample/resample_\u001b[39m\u001b[38;5;132;01m%s\u001b[39;00m\u001b[38;5;124m.parquet\u001b[39m\u001b[38;5;124m'\u001b[39m\u001b[38;5;241m%\u001b[39midx):\n\u001b[0;32m      3\u001b[0m     \u001b[38;5;28mprint\u001b[39m(\u001b[38;5;124m\"\u001b[39m\u001b[38;5;124m[\u001b[39m\u001b[38;5;132;01m%i\u001b[39;00m\u001b[38;5;124m/\u001b[39m\u001b[38;5;132;01m%i\u001b[39;00m\u001b[38;5;124m] Resampling \u001b[39m\u001b[38;5;132;01m%s\u001b[39;00m\u001b[38;5;124m...\u001b[39m\u001b[38;5;124m\"\u001b[39m\u001b[38;5;241m%\u001b[39m(i\u001b[38;5;241m+\u001b[39m\u001b[38;5;241m1\u001b[39m,\u001b[38;5;28mlen\u001b[39m(vitals\u001b[38;5;241m.\u001b[39mabbreviation\u001b[38;5;241m.\u001b[39munique()),idx))\n\u001b[1;32m----> 4\u001b[0m     \u001b[38;5;28mglobals\u001b[39m()[\u001b[38;5;124m'\u001b[39m\u001b[38;5;124mresample_\u001b[39m\u001b[38;5;132;01m{}\u001b[39;00m\u001b[38;5;124m'\u001b[39m\u001b[38;5;241m.\u001b[39mformat(idx)] \u001b[38;5;241m=\u001b[39m \u001b[43mresample_vitals\u001b[49m(\u001b[38;5;28mglobals\u001b[39m()[\u001b[38;5;124m'\u001b[39m\u001b[38;5;124mchartevents_\u001b[39m\u001b[38;5;132;01m{}\u001b[39;00m\u001b[38;5;124m'\u001b[39m\u001b[38;5;241m.\u001b[39mformat(idx)],icustays,idx)\n\u001b[0;32m      5\u001b[0m     \u001b[38;5;28mglobals\u001b[39m()[\u001b[38;5;124m'\u001b[39m\u001b[38;5;124mresample_\u001b[39m\u001b[38;5;132;01m{}\u001b[39;00m\u001b[38;5;124m'\u001b[39m\u001b[38;5;241m.\u001b[39mformat(idx)]\u001b[38;5;241m.\u001b[39mto_parquet(\u001b[38;5;124m'\u001b[39m\u001b[38;5;124m./data/resample/resample_\u001b[39m\u001b[38;5;132;01m%s\u001b[39;00m\u001b[38;5;124m.parquet\u001b[39m\u001b[38;5;124m'\u001b[39m\u001b[38;5;241m%\u001b[39midx)\n\u001b[0;32m      6\u001b[0m \u001b[38;5;28;01melse\u001b[39;00m : \n",
      "\u001b[1;31mNameError\u001b[0m: name 'resample_vitals' is not defined"
     ]
    }
   ],
   "source": [
    "for i,idx in enumerate(tqdm(vitals.abbreviation.unique())):\n",
    "    if not os.path.isfile('./data/resample/resample_%s.parquet'%idx):\n",
    "        print(\"[%i/%i] Resampling %s...\"%(i+1,len(vitals.abbreviation.unique()),idx))\n",
    "        globals()['resample_{}'.format(idx)] = resample_vitals(globals()['chartevents_{}'.format(idx)],icustays,idx)\n",
    "        globals()['resample_{}'.format(idx)].to_parquet('./data/resample/resample_%s.parquet'%idx)\n",
    "    else : \n",
    "        globals()['resample_{}'.format(idx)] = pd.read_parquet('./data/resample/resample_%s.parquet'%idx)"
   ]
  },
  {
   "cell_type": "code",
   "execution_count": 21,
   "metadata": {},
   "outputs": [
    {
     "ename": "NameError",
     "evalue": "name 'resample_ABPs' is not defined",
     "output_type": "error",
     "traceback": [
      "\u001b[1;31m---------------------------------------------------------------------------\u001b[0m",
      "\u001b[1;31mNameError\u001b[0m                                 Traceback (most recent call last)",
      "Cell \u001b[1;32mIn[21], line 13\u001b[0m\n\u001b[0;32m     10\u001b[0m     \u001b[38;5;28;01mreturn\u001b[39;00m merged_df[[\u001b[38;5;124m'\u001b[39m\u001b[38;5;124msubject_id\u001b[39m\u001b[38;5;124m'\u001b[39m,\u001b[38;5;124m'\u001b[39m\u001b[38;5;124mhadm_id\u001b[39m\u001b[38;5;124m'\u001b[39m,\u001b[38;5;124m'\u001b[39m\u001b[38;5;124mstay_id\u001b[39m\u001b[38;5;124m'\u001b[39m, \u001b[38;5;124m'\u001b[39m\u001b[38;5;124mcharttime\u001b[39m\u001b[38;5;124m'\u001b[39m, \u001b[38;5;124m'\u001b[39m\u001b[38;5;124mvaluenum\u001b[39m\u001b[38;5;124m'\u001b[39m]]\n\u001b[0;32m     12\u001b[0m \u001b[38;5;66;03m# 함수를 사용하여 NaN 값을 대체\u001b[39;00m\n\u001b[1;32m---> 13\u001b[0m resample_SBP \u001b[38;5;241m=\u001b[39m replace_nan_values_efficient(\u001b[43mresample_ABPs\u001b[49m, resample_NBPs)\n\u001b[0;32m     14\u001b[0m resample_DBP \u001b[38;5;241m=\u001b[39m replace_nan_values_efficient(resample_ABPd, resample_NBPd)\n",
      "\u001b[1;31mNameError\u001b[0m: name 'resample_ABPs' is not defined"
     ]
    }
   ],
   "source": [
    "# NaN 값이 있는 행을 찾고, 해당 stay_id와 charttime으로 resample_NBPs에서 값을 찾아 대체하는 함수 (merge와 numpy.where 사용)\n",
    "def replace_nan_values_efficient(resample_ABPs, resample_NBPs):\n",
    "    # stay_id와 charttime을 기준으로 두 DataFrame을 병합\n",
    "    merged_df = resample_ABPs.merge(resample_NBPs, on=['subject_id','hadm_id','stay_id', 'charttime'], how='left', suffixes=('', '_nbp'))\n",
    "\n",
    "    # valuenum 열에서 NaN을 대체\n",
    "    merged_df['valuenum'] = np.where(pd.isna(merged_df['valuenum']), merged_df['valuenum_nbp'], merged_df['valuenum'])\n",
    "\n",
    "    # 원래의 열만 남기고 반환\n",
    "    return merged_df[['subject_id','hadm_id','stay_id', 'charttime', 'valuenum']]\n",
    "\n",
    "# 함수를 사용하여 NaN 값을 대체\n",
    "resample_SBP = replace_nan_values_efficient(resample_ABPs, resample_NBPs)\n",
    "resample_DBP = replace_nan_values_efficient(resample_ABPd, resample_NBPd)"
   ]
  },
  {
   "cell_type": "code",
   "execution_count": 11,
   "metadata": {},
   "outputs": [],
   "source": [
    "resample_SBP = pd.read_parquet('./data/resample/resample_SBP.parquet')\n",
    "resample_DBP = pd.read_parquet('./data/resample/resample_DBP.parquet')"
   ]
  },
  {
   "cell_type": "code",
   "execution_count": 58,
   "metadata": {},
   "outputs": [
    {
     "data": {
      "application/vnd.jupyter.widget-view+json": {
       "model_id": "bf0eb71bc9c24554aab4a93a48327b4e",
       "version_major": 2,
       "version_minor": 0
      },
      "text/plain": [
       "  0%|          | 0/9 [00:00<?, ?it/s]"
      ]
     },
     "metadata": {},
     "output_type": "display_data"
    }
   ],
   "source": [
    "vitals_list = ['HR','SBP','DBP','MAP','temp','RR','FiO2','SaO2','CVP']\n",
    "resample_vitals = pd.DataFrame([])\n",
    "for i, vitals in enumerate(tqdm(vitals_list)):\n",
    "    if 'valuenum' in globals()['resample_{}'.format(vitals)].columns:\n",
    "        globals()['resample_{}'.format(vitals)].rename(columns={'valuenum':vitals},inplace=True)\n",
    "    if 'itemid' in  globals()['resample_{}'.format(vitals)].columns:\n",
    "        globals()['resample_{}'.format(vitals)].drop('itemid',axis=1,inplace=True)\n",
    "    if i == 0:\n",
    "        resample_vitals = globals()['resample_{}'.format(vitals)].copy()\n",
    "    else : \n",
    "        resample_vitals = pd.merge(resample_vitals,globals()['resample_{}'.format(vitals)],on=['subject_id','hadm_id','stay_id','charttime'],how='left')\n",
    "resample_vitals = resample_vitals[['subject_id','hadm_id','stay_id','charttime']+vitals_list]"
   ]
  },
  {
   "cell_type": "code",
   "execution_count": 59,
   "metadata": {},
   "outputs": [
    {
     "data": {
      "application/vnd.jupyter.widget-view+json": {
       "model_id": "59bb652de1bb43b88cb5179035b60927",
       "version_major": 2,
       "version_minor": 0
      },
      "text/plain": [
       "  0%|          | 0/9 [00:00<?, ?it/s]"
      ]
     },
     "metadata": {},
     "output_type": "display_data"
    }
   ],
   "source": [
    "for i in tqdm(vitals_list):\n",
    "    resample_vitals[i] = resample_vitals.groupby('stay_id')[i].ffill()\n",
    "    resample_vitals[i] = resample_vitals.groupby('stay_id')[i].bfill()"
   ]
  },
  {
   "cell_type": "code",
   "execution_count": 62,
   "metadata": {},
   "outputs": [],
   "source": [
    "resample_vitals.to_parquet('./data/resample/resample_vitals.parquet')"
   ]
  },
  {
   "cell_type": "code",
   "execution_count": null,
   "metadata": {},
   "outputs": [],
   "source": []
  },
  {
   "cell_type": "markdown",
   "metadata": {},
   "source": [
    "# SOFA"
   ]
  },
  {
   "cell_type": "markdown",
   "metadata": {},
   "source": [
    "## Central nervous system(GCS)"
   ]
  },
  {
   "cell_type": "code",
   "execution_count": 6,
   "metadata": {},
   "outputs": [],
   "source": [
    "chartevents_GCS_eye = pd.read_parquet('./data/others/chartevents_GCS_eye.parquet')\n",
    "chartevents_GCS_verval= pd.read_parquet('./data/others/chartevents_GCS_verval.parquet')\n",
    "chartevents_GCS_motor = pd.read_parquet('./data/others/chartevents_GCS_motor.parquet')"
   ]
  },
  {
   "cell_type": "code",
   "execution_count": 17,
   "metadata": {},
   "outputs": [
    {
     "data": {
      "application/vnd.jupyter.widget-view+json": {
       "model_id": "c9d1dc9a127449e7b1eea403f1e24948",
       "version_major": 2,
       "version_minor": 0
      },
      "text/plain": [
       "  0%|          | 0/3 [00:00<?, ?it/s]"
      ]
     },
     "metadata": {},
     "output_type": "display_data"
    }
   ],
   "source": [
    "GCS = ['GCS_eye','GCS_verval','GCS_motor']\n",
    "for i,idx in enumerate(tqdm(GCS)):\n",
    "    if not os.path.isfile('./data/resample/resample_%s.parquet'%idx):\n",
    "        print(\"[%i/%i] Resampling %s...\"%(i+1,len(vitals.abbreviation.unique()),idx))\n",
    "        globals()['resample_{}'.format(idx)] = resample_vitals(globals()['chartevents_{}'.format(idx)],icustays,idx)\n",
    "        globals()['resample_{}'.format(idx)].to_parquet('./data/resample/resample_%s.parquet'%idx)\n",
    "    else : globals()['resample_{}'.format(idx)] = pd.read_parquet('./data/resample/resample_%s.parquet'%idx)"
   ]
  },
  {
   "cell_type": "code",
   "execution_count": 18,
   "metadata": {},
   "outputs": [],
   "source": [
    "resample_GCS_eye = utils.resample_fill(resample_GCS_eye)\n",
    "resample_GCS_verval = utils.resample_fill(resample_GCS_verval)\n",
    "resample_GCS_motor = utils.resample_fill(resample_GCS_motor)\n",
    "\n",
    "resample_GCS_eye.rename(columns={'valuenum':'GCS_eye'},inplace=True)\n",
    "resample_GCS_verval.rename(columns={'valuenum':'GCS_verval'},inplace=True)\n",
    "resample_GCS_motor.rename(columns={'valuenum':'GCS_motor'},inplace=True)\n",
    "\n",
    "resample_GCS_eye.drop('itemid',axis=1,inplace=True)\n",
    "resample_GCS_verval.drop('itemid',axis=1,inplace=True)\n",
    "resample_GCS_motor.drop('itemid',axis=1,inplace=True)\n",
    "\n",
    "resample_GCS = pd.merge(resample_GCS_eye,resample_GCS_verval,on=['subject_id','hadm_id','stay_id','charttime'],how='left')\n",
    "resample_GCS = pd.merge(resample_GCS,resample_GCS_motor,on=['subject_id','hadm_id','stay_id','charttime'],how='left')\n",
    "\n",
    "resample_GCS = resample_GCS[['subject_id','hadm_id','stay_id','charttime','GCS_eye','GCS_verval','GCS_motor']]\n",
    "resample_GCS['GCS'] = resample_GCS['GCS_eye'] + resample_GCS['GCS_verval'] + resample_GCS['GCS_motor']"
   ]
  },
  {
   "cell_type": "code",
   "execution_count": 19,
   "metadata": {},
   "outputs": [
    {
     "data": {
      "text/html": [
       "<div>\n",
       "<style scoped>\n",
       "    .dataframe tbody tr th:only-of-type {\n",
       "        vertical-align: middle;\n",
       "    }\n",
       "\n",
       "    .dataframe tbody tr th {\n",
       "        vertical-align: top;\n",
       "    }\n",
       "\n",
       "    .dataframe thead th {\n",
       "        text-align: right;\n",
       "    }\n",
       "</style>\n",
       "<table border=\"1\" class=\"dataframe\">\n",
       "  <thead>\n",
       "    <tr style=\"text-align: right;\">\n",
       "      <th></th>\n",
       "      <th>subject_id</th>\n",
       "      <th>hadm_id</th>\n",
       "      <th>stay_id</th>\n",
       "      <th>charttime</th>\n",
       "      <th>GCS_eye</th>\n",
       "      <th>GCS_verval</th>\n",
       "      <th>GCS_motor</th>\n",
       "      <th>GCS</th>\n",
       "    </tr>\n",
       "  </thead>\n",
       "  <tbody>\n",
       "    <tr>\n",
       "      <th>0</th>\n",
       "      <td>10000032</td>\n",
       "      <td>29079034</td>\n",
       "      <td>39553978</td>\n",
       "      <td>2180-07-23 14:00:00</td>\n",
       "      <td>4.0</td>\n",
       "      <td>4.0</td>\n",
       "      <td>6.0</td>\n",
       "      <td>14.0</td>\n",
       "    </tr>\n",
       "    <tr>\n",
       "      <th>1</th>\n",
       "      <td>10000032</td>\n",
       "      <td>29079034</td>\n",
       "      <td>39553978</td>\n",
       "      <td>2180-07-23 15:00:00</td>\n",
       "      <td>4.0</td>\n",
       "      <td>4.0</td>\n",
       "      <td>6.0</td>\n",
       "      <td>14.0</td>\n",
       "    </tr>\n",
       "    <tr>\n",
       "      <th>2</th>\n",
       "      <td>10000032</td>\n",
       "      <td>29079034</td>\n",
       "      <td>39553978</td>\n",
       "      <td>2180-07-23 16:00:00</td>\n",
       "      <td>4.0</td>\n",
       "      <td>4.0</td>\n",
       "      <td>6.0</td>\n",
       "      <td>14.0</td>\n",
       "    </tr>\n",
       "    <tr>\n",
       "      <th>3</th>\n",
       "      <td>10000032</td>\n",
       "      <td>29079034</td>\n",
       "      <td>39553978</td>\n",
       "      <td>2180-07-23 17:00:00</td>\n",
       "      <td>4.0</td>\n",
       "      <td>4.0</td>\n",
       "      <td>6.0</td>\n",
       "      <td>14.0</td>\n",
       "    </tr>\n",
       "    <tr>\n",
       "      <th>4</th>\n",
       "      <td>10000032</td>\n",
       "      <td>29079034</td>\n",
       "      <td>39553978</td>\n",
       "      <td>2180-07-23 18:00:00</td>\n",
       "      <td>4.0</td>\n",
       "      <td>5.0</td>\n",
       "      <td>6.0</td>\n",
       "      <td>15.0</td>\n",
       "    </tr>\n",
       "    <tr>\n",
       "      <th>...</th>\n",
       "      <td>...</td>\n",
       "      <td>...</td>\n",
       "      <td>...</td>\n",
       "      <td>...</td>\n",
       "      <td>...</td>\n",
       "      <td>...</td>\n",
       "      <td>...</td>\n",
       "      <td>...</td>\n",
       "    </tr>\n",
       "    <tr>\n",
       "      <th>6099429</th>\n",
       "      <td>19999987</td>\n",
       "      <td>23865745</td>\n",
       "      <td>36195440</td>\n",
       "      <td>2145-11-04 16:59:00</td>\n",
       "      <td>3.0</td>\n",
       "      <td>4.0</td>\n",
       "      <td>6.0</td>\n",
       "      <td>13.0</td>\n",
       "    </tr>\n",
       "    <tr>\n",
       "      <th>6099430</th>\n",
       "      <td>19999987</td>\n",
       "      <td>23865745</td>\n",
       "      <td>36195440</td>\n",
       "      <td>2145-11-04 17:59:00</td>\n",
       "      <td>3.0</td>\n",
       "      <td>4.0</td>\n",
       "      <td>6.0</td>\n",
       "      <td>13.0</td>\n",
       "    </tr>\n",
       "    <tr>\n",
       "      <th>6099431</th>\n",
       "      <td>19999987</td>\n",
       "      <td>23865745</td>\n",
       "      <td>36195440</td>\n",
       "      <td>2145-11-04 18:59:00</td>\n",
       "      <td>3.0</td>\n",
       "      <td>4.0</td>\n",
       "      <td>6.0</td>\n",
       "      <td>13.0</td>\n",
       "    </tr>\n",
       "    <tr>\n",
       "      <th>6099432</th>\n",
       "      <td>19999987</td>\n",
       "      <td>23865745</td>\n",
       "      <td>36195440</td>\n",
       "      <td>2145-11-04 19:59:00</td>\n",
       "      <td>4.0</td>\n",
       "      <td>4.0</td>\n",
       "      <td>6.0</td>\n",
       "      <td>14.0</td>\n",
       "    </tr>\n",
       "    <tr>\n",
       "      <th>6099433</th>\n",
       "      <td>19999987</td>\n",
       "      <td>23865745</td>\n",
       "      <td>36195440</td>\n",
       "      <td>2145-11-04 20:59:00</td>\n",
       "      <td>4.0</td>\n",
       "      <td>4.0</td>\n",
       "      <td>6.0</td>\n",
       "      <td>14.0</td>\n",
       "    </tr>\n",
       "  </tbody>\n",
       "</table>\n",
       "<p>6099434 rows × 8 columns</p>\n",
       "</div>"
      ],
      "text/plain": [
       "         subject_id   hadm_id   stay_id           charttime  GCS_eye  \\\n",
       "0          10000032  29079034  39553978 2180-07-23 14:00:00      4.0   \n",
       "1          10000032  29079034  39553978 2180-07-23 15:00:00      4.0   \n",
       "2          10000032  29079034  39553978 2180-07-23 16:00:00      4.0   \n",
       "3          10000032  29079034  39553978 2180-07-23 17:00:00      4.0   \n",
       "4          10000032  29079034  39553978 2180-07-23 18:00:00      4.0   \n",
       "...             ...       ...       ...                 ...      ...   \n",
       "6099429    19999987  23865745  36195440 2145-11-04 16:59:00      3.0   \n",
       "6099430    19999987  23865745  36195440 2145-11-04 17:59:00      3.0   \n",
       "6099431    19999987  23865745  36195440 2145-11-04 18:59:00      3.0   \n",
       "6099432    19999987  23865745  36195440 2145-11-04 19:59:00      4.0   \n",
       "6099433    19999987  23865745  36195440 2145-11-04 20:59:00      4.0   \n",
       "\n",
       "         GCS_verval  GCS_motor   GCS  \n",
       "0               4.0        6.0  14.0  \n",
       "1               4.0        6.0  14.0  \n",
       "2               4.0        6.0  14.0  \n",
       "3               4.0        6.0  14.0  \n",
       "4               5.0        6.0  15.0  \n",
       "...             ...        ...   ...  \n",
       "6099429         4.0        6.0  13.0  \n",
       "6099430         4.0        6.0  13.0  \n",
       "6099431         4.0        6.0  13.0  \n",
       "6099432         4.0        6.0  14.0  \n",
       "6099433         4.0        6.0  14.0  \n",
       "\n",
       "[6099434 rows x 8 columns]"
      ]
     },
     "execution_count": 19,
     "metadata": {},
     "output_type": "execute_result"
    }
   ],
   "source": [
    "resample_GCS"
   ]
  },
  {
   "cell_type": "markdown",
   "metadata": {},
   "source": [
    "## Cardiovascular system (MAP & Vasopressor)"
   ]
  },
  {
   "cell_type": "code",
   "execution_count": 20,
   "metadata": {},
   "outputs": [
    {
     "ename": "FileNotFoundError",
     "evalue": "[Errno 2] No such file or directory: './data/resample/vitals/resample_DBP.parquet'",
     "output_type": "error",
     "traceback": [
      "\u001b[1;31m---------------------------------------------------------------------------\u001b[0m",
      "\u001b[1;31mFileNotFoundError\u001b[0m                         Traceback (most recent call last)",
      "Cell \u001b[1;32mIn[20], line 1\u001b[0m\n\u001b[1;32m----> 1\u001b[0m resample_DBP \u001b[38;5;241m=\u001b[39m \u001b[43mpd\u001b[49m\u001b[38;5;241;43m.\u001b[39;49m\u001b[43mread_parquet\u001b[49m\u001b[43m(\u001b[49m\u001b[38;5;124;43m'\u001b[39;49m\u001b[38;5;124;43m./data/resample/vitals/resample_DBP.parquet\u001b[39;49m\u001b[38;5;124;43m'\u001b[39;49m\u001b[43m)\u001b[49m\n\u001b[0;32m      2\u001b[0m resample_SBP \u001b[38;5;241m=\u001b[39m pd\u001b[38;5;241m.\u001b[39mread_parquet(\u001b[38;5;124m'\u001b[39m\u001b[38;5;124m./data/resample/vitals/resample_SBP.parquet\u001b[39m\u001b[38;5;124m'\u001b[39m)\n",
      "File \u001b[1;32mc:\\Users\\DAHS\\anaconda3\\envs\\torch\\lib\\site-packages\\pandas\\io\\parquet.py:509\u001b[0m, in \u001b[0;36mread_parquet\u001b[1;34m(path, engine, columns, storage_options, use_nullable_dtypes, dtype_backend, **kwargs)\u001b[0m\n\u001b[0;32m    506\u001b[0m     use_nullable_dtypes \u001b[38;5;241m=\u001b[39m \u001b[38;5;28;01mFalse\u001b[39;00m\n\u001b[0;32m    507\u001b[0m check_dtype_backend(dtype_backend)\n\u001b[1;32m--> 509\u001b[0m \u001b[38;5;28;01mreturn\u001b[39;00m impl\u001b[38;5;241m.\u001b[39mread(\n\u001b[0;32m    510\u001b[0m     path,\n\u001b[0;32m    511\u001b[0m     columns\u001b[38;5;241m=\u001b[39mcolumns,\n\u001b[0;32m    512\u001b[0m     storage_options\u001b[38;5;241m=\u001b[39mstorage_options,\n\u001b[0;32m    513\u001b[0m     use_nullable_dtypes\u001b[38;5;241m=\u001b[39muse_nullable_dtypes,\n\u001b[0;32m    514\u001b[0m     dtype_backend\u001b[38;5;241m=\u001b[39mdtype_backend,\n\u001b[0;32m    515\u001b[0m     \u001b[38;5;241m*\u001b[39m\u001b[38;5;241m*\u001b[39mkwargs,\n\u001b[0;32m    516\u001b[0m )\n",
      "File \u001b[1;32mc:\\Users\\DAHS\\anaconda3\\envs\\torch\\lib\\site-packages\\pandas\\io\\parquet.py:220\u001b[0m, in \u001b[0;36mPyArrowImpl.read\u001b[1;34m(self, path, columns, use_nullable_dtypes, dtype_backend, storage_options, **kwargs)\u001b[0m\n\u001b[0;32m    217\u001b[0m \u001b[38;5;28;01mif\u001b[39;00m manager \u001b[38;5;241m==\u001b[39m \u001b[38;5;124m\"\u001b[39m\u001b[38;5;124marray\u001b[39m\u001b[38;5;124m\"\u001b[39m:\n\u001b[0;32m    218\u001b[0m     to_pandas_kwargs[\u001b[38;5;124m\"\u001b[39m\u001b[38;5;124msplit_blocks\u001b[39m\u001b[38;5;124m\"\u001b[39m] \u001b[38;5;241m=\u001b[39m \u001b[38;5;28;01mTrue\u001b[39;00m  \u001b[38;5;66;03m# type: ignore[assignment]\u001b[39;00m\n\u001b[1;32m--> 220\u001b[0m path_or_handle, handles, kwargs[\u001b[38;5;124m\"\u001b[39m\u001b[38;5;124mfilesystem\u001b[39m\u001b[38;5;124m\"\u001b[39m] \u001b[38;5;241m=\u001b[39m \u001b[43m_get_path_or_handle\u001b[49m\u001b[43m(\u001b[49m\n\u001b[0;32m    221\u001b[0m \u001b[43m    \u001b[49m\u001b[43mpath\u001b[49m\u001b[43m,\u001b[49m\n\u001b[0;32m    222\u001b[0m \u001b[43m    \u001b[49m\u001b[43mkwargs\u001b[49m\u001b[38;5;241;43m.\u001b[39;49m\u001b[43mpop\u001b[49m\u001b[43m(\u001b[49m\u001b[38;5;124;43m\"\u001b[39;49m\u001b[38;5;124;43mfilesystem\u001b[39;49m\u001b[38;5;124;43m\"\u001b[39;49m\u001b[43m,\u001b[49m\u001b[43m \u001b[49m\u001b[38;5;28;43;01mNone\u001b[39;49;00m\u001b[43m)\u001b[49m\u001b[43m,\u001b[49m\n\u001b[0;32m    223\u001b[0m \u001b[43m    \u001b[49m\u001b[43mstorage_options\u001b[49m\u001b[38;5;241;43m=\u001b[39;49m\u001b[43mstorage_options\u001b[49m\u001b[43m,\u001b[49m\n\u001b[0;32m    224\u001b[0m \u001b[43m    \u001b[49m\u001b[43mmode\u001b[49m\u001b[38;5;241;43m=\u001b[39;49m\u001b[38;5;124;43m\"\u001b[39;49m\u001b[38;5;124;43mrb\u001b[39;49m\u001b[38;5;124;43m\"\u001b[39;49m\u001b[43m,\u001b[49m\n\u001b[0;32m    225\u001b[0m \u001b[43m\u001b[49m\u001b[43m)\u001b[49m\n\u001b[0;32m    226\u001b[0m \u001b[38;5;28;01mtry\u001b[39;00m:\n\u001b[0;32m    227\u001b[0m     pa_table \u001b[38;5;241m=\u001b[39m \u001b[38;5;28mself\u001b[39m\u001b[38;5;241m.\u001b[39mapi\u001b[38;5;241m.\u001b[39mparquet\u001b[38;5;241m.\u001b[39mread_table(\n\u001b[0;32m    228\u001b[0m         path_or_handle, columns\u001b[38;5;241m=\u001b[39mcolumns, \u001b[38;5;241m*\u001b[39m\u001b[38;5;241m*\u001b[39mkwargs\n\u001b[0;32m    229\u001b[0m     )\n",
      "File \u001b[1;32mc:\\Users\\DAHS\\anaconda3\\envs\\torch\\lib\\site-packages\\pandas\\io\\parquet.py:110\u001b[0m, in \u001b[0;36m_get_path_or_handle\u001b[1;34m(path, fs, storage_options, mode, is_dir)\u001b[0m\n\u001b[0;32m    100\u001b[0m handles \u001b[38;5;241m=\u001b[39m \u001b[38;5;28;01mNone\u001b[39;00m\n\u001b[0;32m    101\u001b[0m \u001b[38;5;28;01mif\u001b[39;00m (\n\u001b[0;32m    102\u001b[0m     \u001b[38;5;129;01mnot\u001b[39;00m fs\n\u001b[0;32m    103\u001b[0m     \u001b[38;5;129;01mand\u001b[39;00m \u001b[38;5;129;01mnot\u001b[39;00m is_dir\n\u001b[1;32m   (...)\u001b[0m\n\u001b[0;32m    108\u001b[0m     \u001b[38;5;66;03m# fsspec resources can also point to directories\u001b[39;00m\n\u001b[0;32m    109\u001b[0m     \u001b[38;5;66;03m# this branch is used for example when reading from non-fsspec URLs\u001b[39;00m\n\u001b[1;32m--> 110\u001b[0m     handles \u001b[38;5;241m=\u001b[39m \u001b[43mget_handle\u001b[49m\u001b[43m(\u001b[49m\n\u001b[0;32m    111\u001b[0m \u001b[43m        \u001b[49m\u001b[43mpath_or_handle\u001b[49m\u001b[43m,\u001b[49m\u001b[43m \u001b[49m\u001b[43mmode\u001b[49m\u001b[43m,\u001b[49m\u001b[43m \u001b[49m\u001b[43mis_text\u001b[49m\u001b[38;5;241;43m=\u001b[39;49m\u001b[38;5;28;43;01mFalse\u001b[39;49;00m\u001b[43m,\u001b[49m\u001b[43m \u001b[49m\u001b[43mstorage_options\u001b[49m\u001b[38;5;241;43m=\u001b[39;49m\u001b[43mstorage_options\u001b[49m\n\u001b[0;32m    112\u001b[0m \u001b[43m    \u001b[49m\u001b[43m)\u001b[49m\n\u001b[0;32m    113\u001b[0m     fs \u001b[38;5;241m=\u001b[39m \u001b[38;5;28;01mNone\u001b[39;00m\n\u001b[0;32m    114\u001b[0m     path_or_handle \u001b[38;5;241m=\u001b[39m handles\u001b[38;5;241m.\u001b[39mhandle\n",
      "File \u001b[1;32mc:\\Users\\DAHS\\anaconda3\\envs\\torch\\lib\\site-packages\\pandas\\io\\common.py:868\u001b[0m, in \u001b[0;36mget_handle\u001b[1;34m(path_or_buf, mode, encoding, compression, memory_map, is_text, errors, storage_options)\u001b[0m\n\u001b[0;32m    859\u001b[0m         handle \u001b[38;5;241m=\u001b[39m \u001b[38;5;28mopen\u001b[39m(\n\u001b[0;32m    860\u001b[0m             handle,\n\u001b[0;32m    861\u001b[0m             ioargs\u001b[38;5;241m.\u001b[39mmode,\n\u001b[1;32m   (...)\u001b[0m\n\u001b[0;32m    864\u001b[0m             newline\u001b[38;5;241m=\u001b[39m\u001b[38;5;124m\"\u001b[39m\u001b[38;5;124m\"\u001b[39m,\n\u001b[0;32m    865\u001b[0m         )\n\u001b[0;32m    866\u001b[0m     \u001b[38;5;28;01melse\u001b[39;00m:\n\u001b[0;32m    867\u001b[0m         \u001b[38;5;66;03m# Binary mode\u001b[39;00m\n\u001b[1;32m--> 868\u001b[0m         handle \u001b[38;5;241m=\u001b[39m \u001b[38;5;28;43mopen\u001b[39;49m\u001b[43m(\u001b[49m\u001b[43mhandle\u001b[49m\u001b[43m,\u001b[49m\u001b[43m \u001b[49m\u001b[43mioargs\u001b[49m\u001b[38;5;241;43m.\u001b[39;49m\u001b[43mmode\u001b[49m\u001b[43m)\u001b[49m\n\u001b[0;32m    869\u001b[0m     handles\u001b[38;5;241m.\u001b[39mappend(handle)\n\u001b[0;32m    871\u001b[0m \u001b[38;5;66;03m# Convert BytesIO or file objects passed with an encoding\u001b[39;00m\n",
      "\u001b[1;31mFileNotFoundError\u001b[0m: [Errno 2] No such file or directory: './data/resample/vitals/resample_DBP.parquet'"
     ]
    }
   ],
   "source": [
    "resample_DBP = pd.read_parquet('./data/resample/vitals/resample_DBP.parquet')\n",
    "resample_SBP = pd.read_parquet('./data/resample/vitals/resample_SBP.parquet')"
   ]
  },
  {
   "cell_type": "code",
   "execution_count": null,
   "metadata": {},
   "outputs": [],
   "source": [
    "def resample_MAP(resample_DBP,resample_SBP):\n",
    "    resample_SBP = utils.resample_ffill(resample_SBP)\n",
    "    resample_SBP = utils.resample_bfill(resample_SBP)\n",
    "    resample_DBP = utils.resample_ffill(resample_DBP)\n",
    "    resample_DBP = utils.resample_bfill(resample_DBP)\n",
    "\n",
    "    resample_DBP.rename(columns={'valuenum':'DBP'},inplace=True)\n",
    "    resample_SBP.rename(columns={'valuenum':'SBP'},inplace=True)\n",
    "\n",
    "    resample_MAP = pd.merge(resample_DBP,resample_SBP,on=['subject_id','hadm_id','stay_id','charttime'],how='left')\n",
    "    resample_MAP['MAP'] = (resample_MAP['SBP'] + 2*resample_MAP['DBP'])/3\n",
    "    resample_MAP = resample_MAP[['subject_id','hadm_id','stay_id','charttime','MAP']]\n",
    "    return resample_MAP"
   ]
  },
  {
   "cell_type": "code",
   "execution_count": null,
   "metadata": {},
   "outputs": [],
   "source": [
    "resample_MAP = resample_MAP(resample_DBP,resample_SBP)"
   ]
  },
  {
   "cell_type": "code",
   "execution_count": null,
   "metadata": {},
   "outputs": [
    {
     "data": {
      "text/html": [
       "<div>\n",
       "<style scoped>\n",
       "    .dataframe tbody tr th:only-of-type {\n",
       "        vertical-align: middle;\n",
       "    }\n",
       "\n",
       "    .dataframe tbody tr th {\n",
       "        vertical-align: top;\n",
       "    }\n",
       "\n",
       "    .dataframe thead th {\n",
       "        text-align: right;\n",
       "    }\n",
       "</style>\n",
       "<table border=\"1\" class=\"dataframe\">\n",
       "  <thead>\n",
       "    <tr style=\"text-align: right;\">\n",
       "      <th></th>\n",
       "      <th>subject_id</th>\n",
       "      <th>hadm_id</th>\n",
       "      <th>stay_id</th>\n",
       "      <th>charttime</th>\n",
       "      <th>MAP</th>\n",
       "    </tr>\n",
       "  </thead>\n",
       "  <tbody>\n",
       "    <tr>\n",
       "      <th>0</th>\n",
       "      <td>10000032</td>\n",
       "      <td>29079034</td>\n",
       "      <td>39553978</td>\n",
       "      <td>2180-07-23 14:00:00</td>\n",
       "      <td>71.000000</td>\n",
       "    </tr>\n",
       "    <tr>\n",
       "      <th>1</th>\n",
       "      <td>10000032</td>\n",
       "      <td>29079034</td>\n",
       "      <td>39553978</td>\n",
       "      <td>2180-07-23 15:00:00</td>\n",
       "      <td>66.666667</td>\n",
       "    </tr>\n",
       "    <tr>\n",
       "      <th>2</th>\n",
       "      <td>10000032</td>\n",
       "      <td>29079034</td>\n",
       "      <td>39553978</td>\n",
       "      <td>2180-07-23 16:00:00</td>\n",
       "      <td>67.000000</td>\n",
       "    </tr>\n",
       "    <tr>\n",
       "      <th>3</th>\n",
       "      <td>10000032</td>\n",
       "      <td>29079034</td>\n",
       "      <td>39553978</td>\n",
       "      <td>2180-07-23 17:00:00</td>\n",
       "      <td>70.333333</td>\n",
       "    </tr>\n",
       "    <tr>\n",
       "      <th>4</th>\n",
       "      <td>10000032</td>\n",
       "      <td>29079034</td>\n",
       "      <td>39553978</td>\n",
       "      <td>2180-07-23 18:00:00</td>\n",
       "      <td>64.000000</td>\n",
       "    </tr>\n",
       "    <tr>\n",
       "      <th>...</th>\n",
       "      <td>...</td>\n",
       "      <td>...</td>\n",
       "      <td>...</td>\n",
       "      <td>...</td>\n",
       "      <td>...</td>\n",
       "    </tr>\n",
       "    <tr>\n",
       "      <th>6099429</th>\n",
       "      <td>19999987</td>\n",
       "      <td>23865745</td>\n",
       "      <td>36195440</td>\n",
       "      <td>2145-11-04 16:59:00</td>\n",
       "      <td>112.000000</td>\n",
       "    </tr>\n",
       "    <tr>\n",
       "      <th>6099430</th>\n",
       "      <td>19999987</td>\n",
       "      <td>23865745</td>\n",
       "      <td>36195440</td>\n",
       "      <td>2145-11-04 17:59:00</td>\n",
       "      <td>112.000000</td>\n",
       "    </tr>\n",
       "    <tr>\n",
       "      <th>6099431</th>\n",
       "      <td>19999987</td>\n",
       "      <td>23865745</td>\n",
       "      <td>36195440</td>\n",
       "      <td>2145-11-04 18:59:00</td>\n",
       "      <td>134.333333</td>\n",
       "    </tr>\n",
       "    <tr>\n",
       "      <th>6099432</th>\n",
       "      <td>19999987</td>\n",
       "      <td>23865745</td>\n",
       "      <td>36195440</td>\n",
       "      <td>2145-11-04 19:59:00</td>\n",
       "      <td>134.333333</td>\n",
       "    </tr>\n",
       "    <tr>\n",
       "      <th>6099433</th>\n",
       "      <td>19999987</td>\n",
       "      <td>23865745</td>\n",
       "      <td>36195440</td>\n",
       "      <td>2145-11-04 20:59:00</td>\n",
       "      <td>119.000000</td>\n",
       "    </tr>\n",
       "  </tbody>\n",
       "</table>\n",
       "<p>6099434 rows × 5 columns</p>\n",
       "</div>"
      ],
      "text/plain": [
       "         subject_id   hadm_id   stay_id           charttime         MAP\n",
       "0          10000032  29079034  39553978 2180-07-23 14:00:00   71.000000\n",
       "1          10000032  29079034  39553978 2180-07-23 15:00:00   66.666667\n",
       "2          10000032  29079034  39553978 2180-07-23 16:00:00   67.000000\n",
       "3          10000032  29079034  39553978 2180-07-23 17:00:00   70.333333\n",
       "4          10000032  29079034  39553978 2180-07-23 18:00:00   64.000000\n",
       "...             ...       ...       ...                 ...         ...\n",
       "6099429    19999987  23865745  36195440 2145-11-04 16:59:00  112.000000\n",
       "6099430    19999987  23865745  36195440 2145-11-04 17:59:00  112.000000\n",
       "6099431    19999987  23865745  36195440 2145-11-04 18:59:00  134.333333\n",
       "6099432    19999987  23865745  36195440 2145-11-04 19:59:00  134.333333\n",
       "6099433    19999987  23865745  36195440 2145-11-04 20:59:00  119.000000\n",
       "\n",
       "[6099434 rows x 5 columns]"
      ]
     },
     "execution_count": 46,
     "metadata": {},
     "output_type": "execute_result"
    }
   ],
   "source": [
    "resample_MAP"
   ]
  },
  {
   "cell_type": "code",
   "execution_count": null,
   "metadata": {},
   "outputs": [
    {
     "data": {
      "application/vnd.jupyter.widget-view+json": {
       "model_id": "23000199c1e44796bcfe46fc8d5f3d80",
       "version_major": 2,
       "version_minor": 0
      },
      "text/plain": [
       "  0%|          | 0/6 [00:00<?, ?it/s]"
      ]
     },
     "metadata": {},
     "output_type": "display_data"
    }
   ],
   "source": [
    "Vaso = ['epinephrine','dopamine','dobutamine','norephinephrine','phenylephrine','vasopressin']\n",
    "for i,idx in enumerate(tqdm(Vaso)):\n",
    "    globals()['resample_{}'.format(idx)] = pd.read_parquet('./data/resample/resample_%s.parquet'%idx)"
   ]
  },
  {
   "cell_type": "code",
   "execution_count": null,
   "metadata": {},
   "outputs": [],
   "source": []
  },
  {
   "cell_type": "markdown",
   "metadata": {},
   "source": [
    "## Respiratory system (PaO2/FiO2)"
   ]
  },
  {
   "cell_type": "code",
   "execution_count": null,
   "metadata": {},
   "outputs": [],
   "source": [
    "resample_FiO2 = pd.read_parquet('./data/resample/resample_FiO2.parquet')"
   ]
  },
  {
   "cell_type": "code",
   "execution_count": null,
   "metadata": {},
   "outputs": [],
   "source": [
    "def resample_PF(resample_PaO2,resample_FiO2):\n",
    "    resample_PaO2.rename(columns={'valuenum':'PaO2'},inplace=True)\n",
    "    resample_FiO2.rename(columns={'valuenum':'FiO2'},inplace=True)\n",
    "\n",
    "    df = pd.merge(resample_PaO2,resample_FiO2,on=['subject_id','hadm_id','stay_id','charttime'],how='left')\n",
    "    df['PF'] = df['PaO2']/(df['FiO2']/100)\n",
    "    df = df[['subject_id','hadm_id','stay_id','charttime','PF']]\n",
    "    return df\n",
    "\n",
    "resample_PF = resample_PF(resample_PaO2,resample_FiO2)"
   ]
  },
  {
   "cell_type": "markdown",
   "metadata": {},
   "source": [
    "## Coagulation (Platelet)"
   ]
  },
  {
   "cell_type": "code",
   "execution_count": null,
   "metadata": {},
   "outputs": [
    {
     "data": {
      "text/html": [
       "<div>\n",
       "<style scoped>\n",
       "    .dataframe tbody tr th:only-of-type {\n",
       "        vertical-align: middle;\n",
       "    }\n",
       "\n",
       "    .dataframe tbody tr th {\n",
       "        vertical-align: top;\n",
       "    }\n",
       "\n",
       "    .dataframe thead th {\n",
       "        text-align: right;\n",
       "    }\n",
       "</style>\n",
       "<table border=\"1\" class=\"dataframe\">\n",
       "  <thead>\n",
       "    <tr style=\"text-align: right;\">\n",
       "      <th></th>\n",
       "      <th>subject_id</th>\n",
       "      <th>hadm_id</th>\n",
       "      <th>stay_id</th>\n",
       "      <th>charttime</th>\n",
       "      <th>Platelet</th>\n",
       "    </tr>\n",
       "  </thead>\n",
       "  <tbody>\n",
       "    <tr>\n",
       "      <th>0</th>\n",
       "      <td>10000032</td>\n",
       "      <td>29079034</td>\n",
       "      <td>39553978</td>\n",
       "      <td>2180-07-23 14:00:00</td>\n",
       "      <td>NaN</td>\n",
       "    </tr>\n",
       "    <tr>\n",
       "      <th>1</th>\n",
       "      <td>10000032</td>\n",
       "      <td>29079034</td>\n",
       "      <td>39553978</td>\n",
       "      <td>2180-07-23 15:00:00</td>\n",
       "      <td>NaN</td>\n",
       "    </tr>\n",
       "    <tr>\n",
       "      <th>2</th>\n",
       "      <td>10000032</td>\n",
       "      <td>29079034</td>\n",
       "      <td>39553978</td>\n",
       "      <td>2180-07-23 16:00:00</td>\n",
       "      <td>NaN</td>\n",
       "    </tr>\n",
       "    <tr>\n",
       "      <th>3</th>\n",
       "      <td>10000032</td>\n",
       "      <td>29079034</td>\n",
       "      <td>39553978</td>\n",
       "      <td>2180-07-23 17:00:00</td>\n",
       "      <td>NaN</td>\n",
       "    </tr>\n",
       "    <tr>\n",
       "      <th>4</th>\n",
       "      <td>10000032</td>\n",
       "      <td>29079034</td>\n",
       "      <td>39553978</td>\n",
       "      <td>2180-07-23 18:00:00</td>\n",
       "      <td>NaN</td>\n",
       "    </tr>\n",
       "    <tr>\n",
       "      <th>...</th>\n",
       "      <td>...</td>\n",
       "      <td>...</td>\n",
       "      <td>...</td>\n",
       "      <td>...</td>\n",
       "      <td>...</td>\n",
       "    </tr>\n",
       "    <tr>\n",
       "      <th>42</th>\n",
       "      <td>19999987</td>\n",
       "      <td>23865745</td>\n",
       "      <td>36195440</td>\n",
       "      <td>2145-11-04 16:59:00</td>\n",
       "      <td>120.0</td>\n",
       "    </tr>\n",
       "    <tr>\n",
       "      <th>43</th>\n",
       "      <td>19999987</td>\n",
       "      <td>23865745</td>\n",
       "      <td>36195440</td>\n",
       "      <td>2145-11-04 17:59:00</td>\n",
       "      <td>120.0</td>\n",
       "    </tr>\n",
       "    <tr>\n",
       "      <th>44</th>\n",
       "      <td>19999987</td>\n",
       "      <td>23865745</td>\n",
       "      <td>36195440</td>\n",
       "      <td>2145-11-04 18:59:00</td>\n",
       "      <td>120.0</td>\n",
       "    </tr>\n",
       "    <tr>\n",
       "      <th>45</th>\n",
       "      <td>19999987</td>\n",
       "      <td>23865745</td>\n",
       "      <td>36195440</td>\n",
       "      <td>2145-11-04 19:59:00</td>\n",
       "      <td>120.0</td>\n",
       "    </tr>\n",
       "    <tr>\n",
       "      <th>46</th>\n",
       "      <td>19999987</td>\n",
       "      <td>23865745</td>\n",
       "      <td>36195440</td>\n",
       "      <td>2145-11-04 20:59:00</td>\n",
       "      <td>120.0</td>\n",
       "    </tr>\n",
       "  </tbody>\n",
       "</table>\n",
       "<p>6099434 rows × 5 columns</p>\n",
       "</div>"
      ],
      "text/plain": [
       "    subject_id   hadm_id   stay_id           charttime  Platelet\n",
       "0     10000032  29079034  39553978 2180-07-23 14:00:00       NaN\n",
       "1     10000032  29079034  39553978 2180-07-23 15:00:00       NaN\n",
       "2     10000032  29079034  39553978 2180-07-23 16:00:00       NaN\n",
       "3     10000032  29079034  39553978 2180-07-23 17:00:00       NaN\n",
       "4     10000032  29079034  39553978 2180-07-23 18:00:00       NaN\n",
       "..         ...       ...       ...                 ...       ...\n",
       "42    19999987  23865745  36195440 2145-11-04 16:59:00     120.0\n",
       "43    19999987  23865745  36195440 2145-11-04 17:59:00     120.0\n",
       "44    19999987  23865745  36195440 2145-11-04 18:59:00     120.0\n",
       "45    19999987  23865745  36195440 2145-11-04 19:59:00     120.0\n",
       "46    19999987  23865745  36195440 2145-11-04 20:59:00     120.0\n",
       "\n",
       "[6099434 rows x 5 columns]"
      ]
     },
     "execution_count": 60,
     "metadata": {},
     "output_type": "execute_result"
    }
   ],
   "source": [
    "resample_Platelet"
   ]
  },
  {
   "cell_type": "markdown",
   "metadata": {},
   "source": [
    "## Liver (Bilirubin)"
   ]
  },
  {
   "cell_type": "code",
   "execution_count": null,
   "metadata": {},
   "outputs": [
    {
     "data": {
      "text/html": [
       "<div>\n",
       "<style scoped>\n",
       "    .dataframe tbody tr th:only-of-type {\n",
       "        vertical-align: middle;\n",
       "    }\n",
       "\n",
       "    .dataframe tbody tr th {\n",
       "        vertical-align: top;\n",
       "    }\n",
       "\n",
       "    .dataframe thead th {\n",
       "        text-align: right;\n",
       "    }\n",
       "</style>\n",
       "<table border=\"1\" class=\"dataframe\">\n",
       "  <thead>\n",
       "    <tr style=\"text-align: right;\">\n",
       "      <th></th>\n",
       "      <th>subject_id</th>\n",
       "      <th>hadm_id</th>\n",
       "      <th>stay_id</th>\n",
       "      <th>charttime</th>\n",
       "      <th>T_Bil</th>\n",
       "    </tr>\n",
       "  </thead>\n",
       "  <tbody>\n",
       "    <tr>\n",
       "      <th>0</th>\n",
       "      <td>10000032</td>\n",
       "      <td>29079034</td>\n",
       "      <td>39553978</td>\n",
       "      <td>2180-07-23 14:00:00</td>\n",
       "      <td>NaN</td>\n",
       "    </tr>\n",
       "    <tr>\n",
       "      <th>1</th>\n",
       "      <td>10000032</td>\n",
       "      <td>29079034</td>\n",
       "      <td>39553978</td>\n",
       "      <td>2180-07-23 15:00:00</td>\n",
       "      <td>NaN</td>\n",
       "    </tr>\n",
       "    <tr>\n",
       "      <th>2</th>\n",
       "      <td>10000032</td>\n",
       "      <td>29079034</td>\n",
       "      <td>39553978</td>\n",
       "      <td>2180-07-23 16:00:00</td>\n",
       "      <td>NaN</td>\n",
       "    </tr>\n",
       "    <tr>\n",
       "      <th>3</th>\n",
       "      <td>10000032</td>\n",
       "      <td>29079034</td>\n",
       "      <td>39553978</td>\n",
       "      <td>2180-07-23 17:00:00</td>\n",
       "      <td>NaN</td>\n",
       "    </tr>\n",
       "    <tr>\n",
       "      <th>4</th>\n",
       "      <td>10000032</td>\n",
       "      <td>29079034</td>\n",
       "      <td>39553978</td>\n",
       "      <td>2180-07-23 18:00:00</td>\n",
       "      <td>NaN</td>\n",
       "    </tr>\n",
       "    <tr>\n",
       "      <th>...</th>\n",
       "      <td>...</td>\n",
       "      <td>...</td>\n",
       "      <td>...</td>\n",
       "      <td>...</td>\n",
       "      <td>...</td>\n",
       "    </tr>\n",
       "    <tr>\n",
       "      <th>42</th>\n",
       "      <td>19999987</td>\n",
       "      <td>23865745</td>\n",
       "      <td>36195440</td>\n",
       "      <td>2145-11-04 16:59:00</td>\n",
       "      <td>1.5</td>\n",
       "    </tr>\n",
       "    <tr>\n",
       "      <th>43</th>\n",
       "      <td>19999987</td>\n",
       "      <td>23865745</td>\n",
       "      <td>36195440</td>\n",
       "      <td>2145-11-04 17:59:00</td>\n",
       "      <td>1.5</td>\n",
       "    </tr>\n",
       "    <tr>\n",
       "      <th>44</th>\n",
       "      <td>19999987</td>\n",
       "      <td>23865745</td>\n",
       "      <td>36195440</td>\n",
       "      <td>2145-11-04 18:59:00</td>\n",
       "      <td>1.5</td>\n",
       "    </tr>\n",
       "    <tr>\n",
       "      <th>45</th>\n",
       "      <td>19999987</td>\n",
       "      <td>23865745</td>\n",
       "      <td>36195440</td>\n",
       "      <td>2145-11-04 19:59:00</td>\n",
       "      <td>1.5</td>\n",
       "    </tr>\n",
       "    <tr>\n",
       "      <th>46</th>\n",
       "      <td>19999987</td>\n",
       "      <td>23865745</td>\n",
       "      <td>36195440</td>\n",
       "      <td>2145-11-04 20:59:00</td>\n",
       "      <td>1.5</td>\n",
       "    </tr>\n",
       "  </tbody>\n",
       "</table>\n",
       "<p>6099434 rows × 5 columns</p>\n",
       "</div>"
      ],
      "text/plain": [
       "    subject_id   hadm_id   stay_id           charttime  T_Bil\n",
       "0     10000032  29079034  39553978 2180-07-23 14:00:00    NaN\n",
       "1     10000032  29079034  39553978 2180-07-23 15:00:00    NaN\n",
       "2     10000032  29079034  39553978 2180-07-23 16:00:00    NaN\n",
       "3     10000032  29079034  39553978 2180-07-23 17:00:00    NaN\n",
       "4     10000032  29079034  39553978 2180-07-23 18:00:00    NaN\n",
       "..         ...       ...       ...                 ...    ...\n",
       "42    19999987  23865745  36195440 2145-11-04 16:59:00    1.5\n",
       "43    19999987  23865745  36195440 2145-11-04 17:59:00    1.5\n",
       "44    19999987  23865745  36195440 2145-11-04 18:59:00    1.5\n",
       "45    19999987  23865745  36195440 2145-11-04 19:59:00    1.5\n",
       "46    19999987  23865745  36195440 2145-11-04 20:59:00    1.5\n",
       "\n",
       "[6099434 rows x 5 columns]"
      ]
     },
     "execution_count": 20,
     "metadata": {},
     "output_type": "execute_result"
    }
   ],
   "source": [
    "resample_T_Bil"
   ]
  },
  {
   "cell_type": "code",
   "execution_count": null,
   "metadata": {},
   "outputs": [
    {
     "name": "stdout",
     "output_type": "stream",
     "text": [
      "MAP\n",
      "dopamine\n",
      "dobutamine\n",
      "epinephrine\n",
      "norephinephrine\n",
      "PF\n",
      "Platelet\n",
      "T_Bil\n",
      "SCr\n"
     ]
    }
   ],
   "source": [
    "resample_SOFA = resample_GCS.copy()\n",
    "for i in ['MAP','dopamine','dobutamine','epinephrine','norephinephrine','PF','Platelet','T_Bil','SCr']:\n",
    "    print(i)\n",
    "    resample_SOFA = pd.merge(resample_SOFA,globals()['resample_{}'.format(i)],on=['subject_id','hadm_id','stay_id','charttime'],how='left')"
   ]
  },
  {
   "cell_type": "code",
   "execution_count": null,
   "metadata": {},
   "outputs": [],
   "source": [
    "def cal_SOFA(df):\n",
    "    # Central nervous system\n",
    "    #df.loc[df['GCS'].isna(),'SOFA_CNS'] = 0\n",
    "    df.loc[df['GCS']==15,'SOFA_CNS'] = 0\n",
    "    df.loc[(df['GCS']>=13)&(df['GCS']<=14),'SOFA_CNS'] = 1\n",
    "    df.loc[(df['GCS']>=10)&(df['GCS']<=12),'SOFA_CNS'] = 2\n",
    "    df.loc[(df['GCS']>=6)&(df['GCS']<=9),'SOFA_CNS'] = 3\n",
    "    df.loc[(df['GCS']<6),'SOFA_CNS'] = 4\n",
    "\n",
    "    # Cardiovascular system\n",
    "    #df.loc[df['MAP'].isna(),'SOFA_CVS'] = 0\n",
    "    df.loc[df['MAP']>=70,'SOFA_CVS'] = 0\n",
    "    df.loc[df['MAP']<70,'SOFA_CVS'] = 1\n",
    "    df.loc[((df['dopamine']<=5)&(df['dopamine']>0))|(df['dobutamine']>0),'SOFA_CVS'] = 2\n",
    "    df.loc[(df['dopamine']>5)|((df['epinephrine']<=0.1)&(df['epinephrine']>0))|((df['norephinephrine']<=0.1)&(df['norephinephrine']>0)),'SOFA_CVS'] = 3\n",
    "    df.loc[(df['dopamine']>15)|(df['epinephrine']>0.1)|(df['norephinephrine']>0.1),'SOFA_CVS'] = 4\n",
    "\n",
    "    # Respiratory system\n",
    "    #df.loc[df['PF'].isna(), 'SOFA_RS'] = 0\n",
    "    df.loc[df['PF']>=400, 'SOFA_RS'] = 0\n",
    "    df.loc[df['PF']<400, 'SOFA_RS'] = 1\n",
    "    df.loc[df['PF']<300, 'SOFA_RS'] = 2\n",
    "    df.loc[df['PF']<200, 'SOFA_RS'] = 3\n",
    "    df.loc[df['PF']<100, 'SOFA_RS'] = 4\n",
    "\n",
    "    # Coagulation\n",
    "    #df.loc[df['Platelet'].isna(), 'SOFA_C'] = 0\n",
    "    df.loc[df['Platelet']>=150, 'SOFA_C'] = 0\n",
    "    df.loc[df['Platelet']<150, 'SOFA_C'] = 1\n",
    "    df.loc[df['Platelet']<100, 'SOFA_C'] = 2\n",
    "    df.loc[df['Platelet']<50, 'SOFA_C'] = 3\n",
    "    df.loc[df['Platelet']<20, 'SOFA_C'] = 4\n",
    "\n",
    "    # Liver\n",
    "    #df.loc[df['T_Bil'].isna(), 'SOFA_L'] = 0\n",
    "    df.loc[df['T_Bil']<1.2, 'SOFA_L'] = 0\n",
    "    df.loc[(df['T_Bil']>=1.2)&(df['T_Bil']<2.0), 'SOFA_L'] = 1\n",
    "    df.loc[(df['T_Bil']>=2.0)&(df['T_Bil']<6.0), 'SOFA_L'] = 2\n",
    "    df.loc[(df['T_Bil']>=6.0)&(df['T_Bil']<12.0), 'SOFA_L'] = 3\n",
    "    df.loc[(df['T_Bil']>=12.0), 'SOFA_L'] = 4\n",
    "\n",
    "    # Renal function\n",
    "    #df.loc[df['SCr'].isna(), 'SOFA_R'] = 0\n",
    "    df.loc[df['SCr']<1.2, 'SOFA_R'] = 0\n",
    "    df.loc[(df['SCr']>=1.2)&(df['SCr']<2.0), 'SOFA_R'] = 1\n",
    "    df.loc[(df['SCr']>=2.0)&(df['SCr']<3.5), 'SOFA_R'] = 2\n",
    "    df.loc[(df['SCr']>=3.5)&(df['SCr']<5.0), 'SOFA_R'] = 3\n",
    "    df.loc[(df['SCr']>=5.0), 'SOFA_R'] = 4\n",
    "\n",
    "    df['SOFA'] = df['SOFA_CNS'] + df['SOFA_CVS'] + df['SOFA_RS'] + df['SOFA_C'] + df['SOFA_L'] + df['SOFA_R']\n",
    "    df = df[['subject_id','hadm_id','stay_id','charttime','SOFA']]\n",
    "    return df"
   ]
  },
  {
   "cell_type": "code",
   "execution_count": null,
   "metadata": {},
   "outputs": [
    {
     "ename": "NameError",
     "evalue": "name 'resample_SOFA' is not defined",
     "output_type": "error",
     "traceback": [
      "\u001b[1;31m---------------------------------------------------------------------------\u001b[0m",
      "\u001b[1;31mNameError\u001b[0m                                 Traceback (most recent call last)",
      "Cell \u001b[1;32mIn[10], line 1\u001b[0m\n\u001b[1;32m----> 1\u001b[0m resample_SOFA \u001b[38;5;241m=\u001b[39m cal_SOFA(\u001b[43mresample_SOFA\u001b[49m)\n",
      "\u001b[1;31mNameError\u001b[0m: name 'resample_SOFA' is not defined"
     ]
    }
   ],
   "source": [
    "resample_SOFA = cal_SOFA(resample_SOFA)"
   ]
  },
  {
   "cell_type": "code",
   "execution_count": null,
   "metadata": {},
   "outputs": [
    {
     "ename": "NameError",
     "evalue": "name 'resample_SOFA' is not defined",
     "output_type": "error",
     "traceback": [
      "\u001b[1;31m---------------------------------------------------------------------------\u001b[0m",
      "\u001b[1;31mNameError\u001b[0m                                 Traceback (most recent call last)",
      "Cell \u001b[1;32mIn[11], line 1\u001b[0m\n\u001b[1;32m----> 1\u001b[0m \u001b[43mresample_SOFA\u001b[49m\n",
      "\u001b[1;31mNameError\u001b[0m: name 'resample_SOFA' is not defined"
     ]
    }
   ],
   "source": [
    "resample_SOFA"
   ]
  },
  {
   "cell_type": "code",
   "execution_count": 15,
   "metadata": {},
   "outputs": [
    {
     "ename": "NameError",
     "evalue": "name 'resample_SOFA' is not defined",
     "output_type": "error",
     "traceback": [
      "\u001b[1;31m---------------------------------------------------------------------------\u001b[0m",
      "\u001b[1;31mNameError\u001b[0m                                 Traceback (most recent call last)",
      "Cell \u001b[1;32mIn[15], line 1\u001b[0m\n\u001b[1;32m----> 1\u001b[0m \u001b[43mresample_SOFA\u001b[49m\u001b[38;5;241m.\u001b[39mSOFA\u001b[38;5;241m.\u001b[39mdescribe()\n",
      "\u001b[1;31mNameError\u001b[0m: name 'resample_SOFA' is not defined"
     ]
    }
   ],
   "source": [
    "resample_SOFA.SOFA.describe()"
   ]
  },
  {
   "cell_type": "code",
   "execution_count": 16,
   "metadata": {},
   "outputs": [
    {
     "ename": "NameError",
     "evalue": "name 'resample_SOFA' is not defined",
     "output_type": "error",
     "traceback": [
      "\u001b[1;31m---------------------------------------------------------------------------\u001b[0m",
      "\u001b[1;31mNameError\u001b[0m                                 Traceback (most recent call last)",
      "Cell \u001b[1;32mIn[16], line 1\u001b[0m\n\u001b[1;32m----> 1\u001b[0m \u001b[43mresample_SOFA\u001b[49m\u001b[38;5;241m.\u001b[39mSOFA\u001b[38;5;241m.\u001b[39mhist(bins\u001b[38;5;241m=\u001b[39m\u001b[38;5;241m24\u001b[39m)\n",
      "\u001b[1;31mNameError\u001b[0m: name 'resample_SOFA' is not defined"
     ]
    }
   ],
   "source": [
    "resample_SOFA.SOFA.hist(bins=24)"
   ]
  },
  {
   "cell_type": "markdown",
   "metadata": {},
   "source": [
    "# AKI Annotation"
   ]
  },
  {
   "cell_type": "code",
   "execution_count": 20,
   "metadata": {},
   "outputs": [],
   "source": [
    "if not os.path.isfile('./data/resample/resample_AKI_UO.parquet'):\n",
    "    resample_AKI_UO = AKI_UO_annotation(resample_uo,admission_weight)\n",
    "    resample_AKI_UO.to_parquet('./data/resample/resample_AKI_UO.parquet')\n",
    "else : resample_AKI_UO = pd.read_parquet('./data/resample/resample_AKI_UO.parquet')"
   ]
  },
  {
   "cell_type": "code",
   "execution_count": 21,
   "metadata": {},
   "outputs": [
    {
     "data": {
      "text/plain": [
       "AKI_UO\n",
       "0    4299223\n",
       "2    1075523\n",
       "1     599387\n",
       "3     125301\n",
       "Name: count, dtype: int64"
      ]
     },
     "execution_count": 21,
     "metadata": {},
     "output_type": "execute_result"
    }
   ],
   "source": [
    "resample_AKI_UO['AKI_UO'].value_counts()"
   ]
  },
  {
   "cell_type": "code",
   "execution_count": 12,
   "metadata": {},
   "outputs": [],
   "source": [
    "# AKI_SCr\n",
    "def AKI_SCr_annotation(resample_SCr,baseline_SCr,resample_rrt):\n",
    "    df = resample_SCr.copy()\n",
    "    df = pd.merge(df,baseline_SCr,on=['subject_id','hadm_id','stay_id'],how='left')\n",
    "    df = pd.merge(df,resample_rrt,on=['subject_id','hadm_id','stay_id','charttime'],how='left')\n",
    "    df['SCr_48hrs_min'] = df.groupby('stay_id').rolling(window='48H', on='charttime')['SCr'].min().reset_index(drop=True)\n",
    "    \n",
    "    df['AKI_SCr'] = 0\n",
    "    df.loc[((df['SCr']>=1.5*df['baseline_SCr'])&(df['SCr']<2.0*df['baseline_SCr']))|(df['SCr']>=0.3+df['SCr_48hrs_min']), 'AKI_SCr'] = 1\n",
    "    df.loc[(df['SCr']>=2.0*df['baseline_SCr'])&(df['SCr']<3.0*df['baseline_SCr']), 'AKI_SCr'] = 2\n",
    "    df.loc[(df['SCr']>=3.0*df['baseline_SCr'])|((df['SCr']>=0.3+df['SCr_48hrs_min'])&(df['SCr']>=4.0))|(df['RRT']>0), 'AKI_SCr'] = 3\n",
    "    df = df[['subject_id','hadm_id','stay_id','charttime','AKI_SCr']]\n",
    "    return df"
   ]
  },
  {
   "cell_type": "code",
   "execution_count": 18,
   "metadata": {},
   "outputs": [],
   "source": [
    "if not os.path.isfile('./data/resample/resampe_AKI_SCr.paruqet'):\n",
    "    resample_SCr = pd.read_parquet('./data/resample/resample_SCr.parquet')\n",
    "    baseline_SCr = pd.read_parquet('./data/baseline_SCr.parquet')\n",
    "    resample_rrt = pd.read_parquet('./data/resample/resample_rrt.parquet')\n",
    "    \n",
    "    resample_AKI_SCr = AKI_SCr_annotation(resample_SCr,baseline_SCr,resample_rrt)\n",
    "    resample_AKI_SCr.to_parquet('./data/resample/resample_AKI_SCr.parquet')\n",
    "else : resample_AKI_SCr = pd.read_parquet('./data/resample/resample_AKI_SCr.parquet')"
   ]
  },
  {
   "cell_type": "code",
   "execution_count": 19,
   "metadata": {},
   "outputs": [
    {
     "data": {
      "text/plain": [
       "AKI_SCr\n",
       "0    3396458\n",
       "1    1759748\n",
       "3     693881\n",
       "2     249347\n",
       "Name: count, dtype: int64"
      ]
     },
     "execution_count": 19,
     "metadata": {},
     "output_type": "execute_result"
    }
   ],
   "source": [
    "resample_AKI_SCr.AKI_SCr.value_counts()"
   ]
  },
  {
   "cell_type": "markdown",
   "metadata": {},
   "source": [
    "patients_gender\n",
    "icustays_age\n",
    "admissions_race\n",
    "admission_weight\n",
    "comorbidities\n",
    "baseline_SCr"
   ]
  },
  {
   "cell_type": "markdown",
   "metadata": {},
   "source": [
    "# Merge"
   ]
  },
  {
   "cell_type": "code",
   "execution_count": 30,
   "metadata": {},
   "outputs": [],
   "source": [
    "icustays_with_demo = pd.read_parquet('./data/icustays_with_demo.parquet')\n",
    "resample_vitals = pd.read_parquet('./data/resample/resample_vitals.parquet')\n",
    "resample_labvalues = pd.read_parquet('./data/resample/resample_labvalues.parquet')"
   ]
  },
  {
   "cell_type": "code",
   "execution_count": 31,
   "metadata": {},
   "outputs": [],
   "source": [
    "resample = pd.merge(resample_vitals,resample_labvalues,on=['subject_id','hadm_id','stay_id','charttime'],how='left')\n",
    "resample = pd.merge(resample,icustays_with_demo,on=['subject_id','hadm_id','stay_id'],how='left')\n",
    "\n",
    "resample = pd.merge(resample,resample_AKI_UO,on=['subject_id','hadm_id','stay_id','charttime'],how='left')\n",
    "resample = pd.merge(resample,resample_AKI_SCr,on=['subject_id','hadm_id','stay_id','charttime'],how='left')"
   ]
  },
  {
   "cell_type": "code",
   "execution_count": 70,
   "metadata": {},
   "outputs": [],
   "source": [
    "resample_uo.drop('itemid',axis=1,inplace=True)\n",
    "resample_uo.rename(columns={'value':'UOamount'},inplace=True)"
   ]
  },
  {
   "cell_type": "code",
   "execution_count": 73,
   "metadata": {},
   "outputs": [],
   "source": [
    "resample_UO = resample_uo.copy()"
   ]
  },
  {
   "cell_type": "code",
   "execution_count": 76,
   "metadata": {},
   "outputs": [
    {
     "ename": "TypeError",
     "evalue": "Can only merge Series or DataFrame objects, a <class 'function'> was passed",
     "output_type": "error",
     "traceback": [
      "\u001b[1;31m---------------------------------------------------------------------------\u001b[0m",
      "\u001b[1;31mTypeError\u001b[0m                                 Traceback (most recent call last)",
      "Cell \u001b[1;32mIn[76], line 1\u001b[0m\n\u001b[1;32m----> 1\u001b[0m resample \u001b[38;5;241m=\u001b[39m \u001b[43mpd\u001b[49m\u001b[38;5;241;43m.\u001b[39;49m\u001b[43mmerge\u001b[49m\u001b[43m(\u001b[49m\u001b[43mresample\u001b[49m\u001b[43m,\u001b[49m\u001b[43mresample_UO\u001b[49m\u001b[43m,\u001b[49m\u001b[43mon\u001b[49m\u001b[38;5;241;43m=\u001b[39;49m\u001b[43m[\u001b[49m\u001b[38;5;124;43m'\u001b[39;49m\u001b[38;5;124;43msubject_id\u001b[39;49m\u001b[38;5;124;43m'\u001b[39;49m\u001b[43m,\u001b[49m\u001b[38;5;124;43m'\u001b[39;49m\u001b[38;5;124;43mhadm_id\u001b[39;49m\u001b[38;5;124;43m'\u001b[39;49m\u001b[43m,\u001b[49m\u001b[38;5;124;43m'\u001b[39;49m\u001b[38;5;124;43mstay_id\u001b[39;49m\u001b[38;5;124;43m'\u001b[39;49m\u001b[43m,\u001b[49m\u001b[38;5;124;43m'\u001b[39;49m\u001b[38;5;124;43mcharttime\u001b[39;49m\u001b[38;5;124;43m'\u001b[39;49m\u001b[43m]\u001b[49m\u001b[43m,\u001b[49m\u001b[43mhow\u001b[49m\u001b[38;5;241;43m=\u001b[39;49m\u001b[38;5;124;43m'\u001b[39;49m\u001b[38;5;124;43mleft\u001b[39;49m\u001b[38;5;124;43m'\u001b[39;49m\u001b[43m)\u001b[49m\n",
      "File \u001b[1;32mc:\\Users\\DAHS\\anaconda3\\envs\\torch\\lib\\site-packages\\pandas\\core\\reshape\\merge.py:148\u001b[0m, in \u001b[0;36mmerge\u001b[1;34m(left, right, how, on, left_on, right_on, left_index, right_index, sort, suffixes, copy, indicator, validate)\u001b[0m\n\u001b[0;32m    131\u001b[0m \u001b[38;5;129m@Substitution\u001b[39m(\u001b[38;5;124m\"\u001b[39m\u001b[38;5;130;01m\\n\u001b[39;00m\u001b[38;5;124mleft : DataFrame or named Series\u001b[39m\u001b[38;5;124m\"\u001b[39m)\n\u001b[0;32m    132\u001b[0m \u001b[38;5;129m@Appender\u001b[39m(_merge_doc, indents\u001b[38;5;241m=\u001b[39m\u001b[38;5;241m0\u001b[39m)\n\u001b[0;32m    133\u001b[0m \u001b[38;5;28;01mdef\u001b[39;00m \u001b[38;5;21mmerge\u001b[39m(\n\u001b[1;32m   (...)\u001b[0m\n\u001b[0;32m    146\u001b[0m     validate: \u001b[38;5;28mstr\u001b[39m \u001b[38;5;241m|\u001b[39m \u001b[38;5;28;01mNone\u001b[39;00m \u001b[38;5;241m=\u001b[39m \u001b[38;5;28;01mNone\u001b[39;00m,\n\u001b[0;32m    147\u001b[0m ) \u001b[38;5;241m-\u001b[39m\u001b[38;5;241m>\u001b[39m DataFrame:\n\u001b[1;32m--> 148\u001b[0m     op \u001b[38;5;241m=\u001b[39m \u001b[43m_MergeOperation\u001b[49m\u001b[43m(\u001b[49m\n\u001b[0;32m    149\u001b[0m \u001b[43m        \u001b[49m\u001b[43mleft\u001b[49m\u001b[43m,\u001b[49m\n\u001b[0;32m    150\u001b[0m \u001b[43m        \u001b[49m\u001b[43mright\u001b[49m\u001b[43m,\u001b[49m\n\u001b[0;32m    151\u001b[0m \u001b[43m        \u001b[49m\u001b[43mhow\u001b[49m\u001b[38;5;241;43m=\u001b[39;49m\u001b[43mhow\u001b[49m\u001b[43m,\u001b[49m\n\u001b[0;32m    152\u001b[0m \u001b[43m        \u001b[49m\u001b[43mon\u001b[49m\u001b[38;5;241;43m=\u001b[39;49m\u001b[43mon\u001b[49m\u001b[43m,\u001b[49m\n\u001b[0;32m    153\u001b[0m \u001b[43m        \u001b[49m\u001b[43mleft_on\u001b[49m\u001b[38;5;241;43m=\u001b[39;49m\u001b[43mleft_on\u001b[49m\u001b[43m,\u001b[49m\n\u001b[0;32m    154\u001b[0m \u001b[43m        \u001b[49m\u001b[43mright_on\u001b[49m\u001b[38;5;241;43m=\u001b[39;49m\u001b[43mright_on\u001b[49m\u001b[43m,\u001b[49m\n\u001b[0;32m    155\u001b[0m \u001b[43m        \u001b[49m\u001b[43mleft_index\u001b[49m\u001b[38;5;241;43m=\u001b[39;49m\u001b[43mleft_index\u001b[49m\u001b[43m,\u001b[49m\n\u001b[0;32m    156\u001b[0m \u001b[43m        \u001b[49m\u001b[43mright_index\u001b[49m\u001b[38;5;241;43m=\u001b[39;49m\u001b[43mright_index\u001b[49m\u001b[43m,\u001b[49m\n\u001b[0;32m    157\u001b[0m \u001b[43m        \u001b[49m\u001b[43msort\u001b[49m\u001b[38;5;241;43m=\u001b[39;49m\u001b[43msort\u001b[49m\u001b[43m,\u001b[49m\n\u001b[0;32m    158\u001b[0m \u001b[43m        \u001b[49m\u001b[43msuffixes\u001b[49m\u001b[38;5;241;43m=\u001b[39;49m\u001b[43msuffixes\u001b[49m\u001b[43m,\u001b[49m\n\u001b[0;32m    159\u001b[0m \u001b[43m        \u001b[49m\u001b[43mindicator\u001b[49m\u001b[38;5;241;43m=\u001b[39;49m\u001b[43mindicator\u001b[49m\u001b[43m,\u001b[49m\n\u001b[0;32m    160\u001b[0m \u001b[43m        \u001b[49m\u001b[43mvalidate\u001b[49m\u001b[38;5;241;43m=\u001b[39;49m\u001b[43mvalidate\u001b[49m\u001b[43m,\u001b[49m\n\u001b[0;32m    161\u001b[0m \u001b[43m    \u001b[49m\u001b[43m)\u001b[49m\n\u001b[0;32m    162\u001b[0m     \u001b[38;5;28;01mreturn\u001b[39;00m op\u001b[38;5;241m.\u001b[39mget_result(copy\u001b[38;5;241m=\u001b[39mcopy)\n",
      "File \u001b[1;32mc:\\Users\\DAHS\\anaconda3\\envs\\torch\\lib\\site-packages\\pandas\\core\\reshape\\merge.py:680\u001b[0m, in \u001b[0;36m_MergeOperation.__init__\u001b[1;34m(self, left, right, how, on, left_on, right_on, axis, left_index, right_index, sort, suffixes, indicator, validate)\u001b[0m\n\u001b[0;32m    664\u001b[0m \u001b[38;5;28;01mdef\u001b[39;00m \u001b[38;5;21m__init__\u001b[39m(\n\u001b[0;32m    665\u001b[0m     \u001b[38;5;28mself\u001b[39m,\n\u001b[0;32m    666\u001b[0m     left: DataFrame \u001b[38;5;241m|\u001b[39m Series,\n\u001b[1;32m   (...)\u001b[0m\n\u001b[0;32m    678\u001b[0m     validate: \u001b[38;5;28mstr\u001b[39m \u001b[38;5;241m|\u001b[39m \u001b[38;5;28;01mNone\u001b[39;00m \u001b[38;5;241m=\u001b[39m \u001b[38;5;28;01mNone\u001b[39;00m,\n\u001b[0;32m    679\u001b[0m ) \u001b[38;5;241m-\u001b[39m\u001b[38;5;241m>\u001b[39m \u001b[38;5;28;01mNone\u001b[39;00m:\n\u001b[1;32m--> 680\u001b[0m     _left \u001b[38;5;241m=\u001b[39m \u001b[43m_validate_operand\u001b[49m\u001b[43m(\u001b[49m\u001b[43mleft\u001b[49m\u001b[43m)\u001b[49m\n\u001b[0;32m    681\u001b[0m     _right \u001b[38;5;241m=\u001b[39m _validate_operand(right)\n\u001b[0;32m    682\u001b[0m     \u001b[38;5;28mself\u001b[39m\u001b[38;5;241m.\u001b[39mleft \u001b[38;5;241m=\u001b[39m \u001b[38;5;28mself\u001b[39m\u001b[38;5;241m.\u001b[39morig_left \u001b[38;5;241m=\u001b[39m _left\n",
      "File \u001b[1;32mc:\\Users\\DAHS\\anaconda3\\envs\\torch\\lib\\site-packages\\pandas\\core\\reshape\\merge.py:2575\u001b[0m, in \u001b[0;36m_validate_operand\u001b[1;34m(obj)\u001b[0m\n\u001b[0;32m   2573\u001b[0m     \u001b[38;5;28;01mreturn\u001b[39;00m obj\u001b[38;5;241m.\u001b[39mto_frame()\n\u001b[0;32m   2574\u001b[0m \u001b[38;5;28;01melse\u001b[39;00m:\n\u001b[1;32m-> 2575\u001b[0m     \u001b[38;5;28;01mraise\u001b[39;00m \u001b[38;5;167;01mTypeError\u001b[39;00m(\n\u001b[0;32m   2576\u001b[0m         \u001b[38;5;124mf\u001b[39m\u001b[38;5;124m\"\u001b[39m\u001b[38;5;124mCan only merge Series or DataFrame objects, a \u001b[39m\u001b[38;5;132;01m{\u001b[39;00m\u001b[38;5;28mtype\u001b[39m(obj)\u001b[38;5;132;01m}\u001b[39;00m\u001b[38;5;124m was passed\u001b[39m\u001b[38;5;124m\"\u001b[39m\n\u001b[0;32m   2577\u001b[0m     )\n",
      "\u001b[1;31mTypeError\u001b[0m: Can only merge Series or DataFrame objects, a <class 'function'> was passed"
     ]
    }
   ],
   "source": [
    "resample = pd.merge(resample,resample_UO,on=['subject_id','hadm_id','stay_id','charttime'],how='left')"
   ]
  },
  {
   "cell_type": "code",
   "execution_count": 34,
   "metadata": {},
   "outputs": [
    {
     "data": {
      "text/plain": [
       "Index(['subject_id', 'hadm_id', 'stay_id', 'charttime', 'HR', 'SBP', 'DBP',\n",
       "       'MAP', 'temp', 'RR', 'FiO2', 'SaO2', 'CVP', 'Alb', 'Alk_Phos', 'AG',\n",
       "       'BUN', 'Ca', 'CK', 'D_Bil', 'Glu', 'HCT', 'INR', 'PH', 'PHOS',\n",
       "       'Platelet', 'Cl', 'SCr', 'Na', 'Potassium', 'T_Bil', 'WBC', 'Gl', 'Mg',\n",
       "       'Ca_ion', 'HCO3', 'AST', 'ALT', 'PTT', 'baseexcess', 'lactate', 'PaO2',\n",
       "       'PaCO2', 'gender', 'age', 'WHITE', 'BLACK', 'HISPANIC OR LATINO',\n",
       "       'ASIAN', 'MULTIPLE RACE', 'OTHER', 'UNKNOWN', 'weight', 'LD', 'DH',\n",
       "       'HYP', 'CKD', 'MI', 'DM', 'VD', 'CHF', 'COPD', 'baseline_SCr', 'AKI_UO',\n",
       "       'AKI_SCr'],\n",
       "      dtype='object')"
      ]
     },
     "execution_count": 34,
     "metadata": {},
     "output_type": "execute_result"
    }
   ],
   "source": [
    "resample.columns"
   ]
  },
  {
   "cell_type": "code",
   "execution_count": null,
   "metadata": {},
   "outputs": [],
   "source": []
  }
 ],
 "metadata": {
  "kernelspec": {
   "display_name": "torch",
   "language": "python",
   "name": "python3"
  },
  "language_info": {
   "codemirror_mode": {
    "name": "ipython",
    "version": 3
   },
   "file_extension": ".py",
   "mimetype": "text/x-python",
   "name": "python",
   "nbconvert_exporter": "python",
   "pygments_lexer": "ipython3",
   "version": "3.9.0"
  }
 },
 "nbformat": 4,
 "nbformat_minor": 2
}
