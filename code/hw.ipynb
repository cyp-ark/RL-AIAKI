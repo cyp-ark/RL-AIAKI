{
 "cells": [
  {
   "cell_type": "code",
   "execution_count": 3,
   "metadata": {},
   "outputs": [],
   "source": [
    "import pandas as pd\n",
    "from tqdm.notebook import tqdm\n",
    "import os,sys\n",
    "\n",
    "if os.getcwd()[-4:] == \"code\":\n",
    "    os.chdir('../')\n",
    "\n",
    "import module\n",
    "from datetime import datetime, timedelta\n",
    "\n",
    "icu = './data/mimic-iv-2.2-parquet/icu/'\n",
    "hosp = './data/mimic-iv-2.2-parquet/hosp/'"
   ]
  },
  {
   "cell_type": "code",
   "execution_count": 4,
   "metadata": {},
   "outputs": [],
   "source": [
    "iculst = [\"outputevents\", \"procedureevents\", \"icustays\",\"chartevents\"]\n",
    "\n",
    "for i in iculst:\n",
    "    globals()[i] = pd.read_parquet(icu + i + '.parquet')"
   ]
  },
  {
   "cell_type": "code",
   "execution_count": 5,
   "metadata": {},
   "outputs": [],
   "source": [
    "hosplst = [\"admissions\", \"procedures_icd\", \"omr\"]\n",
    "\n",
    "for i in hosplst:\n",
    "    globals()[i] = pd.read_parquet(hosp + i + '.parquet')"
   ]
  },
  {
   "cell_type": "code",
   "execution_count": 6,
   "metadata": {},
   "outputs": [],
   "source": [
    "# Urine\n",
    "# 2.1 Urine\n",
    "#Urine\n",
    "Urine_icu = outputevents[outputevents['itemid'].isin([\n",
    "    226557, 226558, #Ureteral Stent, 요관스텐트\n",
    "    226559, #Foley, 도뇨관(소변줄)\n",
    "    226560, 226561, 226563, 226564, 226565, 226566, 226567, 226584, 226627, 226631, 226632\n",
    "])]\n",
    "Urine_icu_guirrigant_input = outputevents[outputevents['itemid'].isin([227488])]\n",
    "Urine_icu_guirrigant_output = outputevents[outputevents['itemid'].isin([227489])]\n",
    "guirrigant = pd.merge(Urine_icu_guirrigant_input,Urine_icu_guirrigant_output[['charttime','value']],on='charttime')\n",
    "guirrigant['value'] =  guirrigant['value_y'] - guirrigant['value_x']\n",
    "guirrigant = guirrigant[guirrigant['value'] >= 0]\n",
    "guirrigant = guirrigant.drop(columns=['value_x','value_y','itemid','valueuom'])\n",
    "Urine_icu = pd.concat([Urine_icu,guirrigant]).sort_values(['subject_id','charttime'])\n",
    "Urine_icu = pd.merge(Urine_icu,icustays[['stay_id','intime','outtime']].drop_duplicates(),on='stay_id',how='inner')\n",
    "Urine_icu = Urine_icu.drop(columns=['itemid','valueuom','storetime'])\n",
    "Urine_icu = Urine_icu[Urine_icu ['value'] >= 0]\n",
    "date_columns = ['charttime','intime','outtime']\n",
    "Urine_icu[date_columns] = Urine_icu[date_columns].apply(pd.to_datetime).drop_duplicates()\n",
    "Urine_icu = Urine_icu[(Urine_icu['charttime'] > Urine_icu['intime']) & (Urine_icu['charttime'] < Urine_icu['outtime'])]\n",
    "Urine_icu = Urine_icu.rename(columns={'value': 'Urine'})"
   ]
  },
  {
   "cell_type": "code",
   "execution_count": 7,
   "metadata": {},
   "outputs": [],
   "source": [
    "# 2.2 RRT_icu & KT & LOS\n",
    "#RRT_icu\n",
    "RRT_icu =  (procedureevents[procedureevents['itemid'].isin([225441, 225802, 225805])]\n",
    "           .assign(starttime=lambda x: pd.to_datetime(x['starttime']),\n",
    "                   endtime=lambda x: pd.to_datetime(x['endtime']))\n",
    "           .merge(icustays[['stay_id', 'intime', 'outtime']], on='stay_id', how='inner')\n",
    "           .sort_values(['subject_id', 'starttime'])\n",
    "           .reset_index(drop=True))\n",
    "RRT_icu['itemid'].value_counts()\n",
    "Urine_icu['RRT'] = 0\n",
    "Urine_icu = Urine_icu.groupby('stay_id').apply(lambda x: module.filter_RRT_icu(x, RRT_icu[RRT_icu['stay_id'] == x.name])).reset_index(drop=True)\n",
    "#KT\n",
    "KT = (procedures_icd[procedures_icd['icd_code'].isin(['5569'])]\n",
    "            .assign(chartdate=lambda x: pd.to_datetime(x['chartdate']))\n",
    "            .merge(admissions[['hadm_id', 'admittime', 'dischtime']], on='hadm_id', how='left')\n",
    "            .sort_values(['subject_id', 'chartdate'])\n",
    "            .reset_index(drop=True))\n",
    "KT['icd_code'].value_counts()\n",
    "Urine_icu = Urine_icu.groupby('subject_id').apply(lambda x: module.filter_KT(x, KT[KT['subject_id'] == x.name])).reset_index(drop=True)\n",
    "#LOS\n",
    "LOS = icustays[((icustays['los'] > 1) & (icustays['los'] <= 14))]\n",
    "Urine_icu = pd.merge(Urine_icu,LOS[['stay_id','los']],how='inner', on='stay_id')"
   ]
  },
  {
   "cell_type": "code",
   "execution_count": 8,
   "metadata": {},
   "outputs": [
    {
     "name": "stderr",
     "output_type": "stream",
     "text": [
      "C:\\Users\\DAHS\\AppData\\Local\\Temp\\ipykernel_43112\\1273243504.py:5: SettingWithCopyWarning: \n",
      "A value is trying to be set on a copy of a slice from a DataFrame.\n",
      "Try using .loc[row_indexer,col_indexer] = value instead\n",
      "\n",
      "See the caveats in the documentation: https://pandas.pydata.org/pandas-docs/stable/user_guide/indexing.html#returning-a-view-versus-a-copy\n",
      "  Weight_icu_lbs['valuenum'] = Weight_icu_lbs['valuenum'] / (1 / 0.453592)\n",
      "C:\\Users\\DAHS\\AppData\\Local\\Temp\\ipykernel_43112\\1273243504.py:13: SettingWithCopyWarning: \n",
      "A value is trying to be set on a copy of a slice from a DataFrame.\n",
      "Try using .loc[row_indexer,col_indexer] = value instead\n",
      "\n",
      "See the caveats in the documentation: https://pandas.pydata.org/pandas-docs/stable/user_guide/indexing.html#returning-a-view-versus-a-copy\n",
      "  omr_weight_kg['result_value'] = omr_weight_kg['result_value'].astype(float)\n",
      "C:\\Users\\DAHS\\AppData\\Local\\Temp\\ipykernel_43112\\1273243504.py:14: SettingWithCopyWarning: \n",
      "A value is trying to be set on a copy of a slice from a DataFrame.\n",
      "Try using .loc[row_indexer,col_indexer] = value instead\n",
      "\n",
      "See the caveats in the documentation: https://pandas.pydata.org/pandas-docs/stable/user_guide/indexing.html#returning-a-view-versus-a-copy\n",
      "  omr_weight_lbs['result_value'] = omr_weight_lbs['result_value'].astype(float)\n",
      "C:\\Users\\DAHS\\AppData\\Local\\Temp\\ipykernel_43112\\1273243504.py:15: SettingWithCopyWarning: \n",
      "A value is trying to be set on a copy of a slice from a DataFrame.\n",
      "Try using .loc[row_indexer,col_indexer] = value instead\n",
      "\n",
      "See the caveats in the documentation: https://pandas.pydata.org/pandas-docs/stable/user_guide/indexing.html#returning-a-view-versus-a-copy\n",
      "  omr_weight_lbs['result_value'] = omr_weight_lbs['result_value'] / (1 / 0.453592)\n"
     ]
    }
   ],
   "source": [
    "# 2.3 Weight\n",
    "#Weight\n",
    "Weight_icu_kg = chartevents[chartevents['itemid'].isin([224639,226512])]\n",
    "Weight_icu_lbs = chartevents[chartevents['itemid'].isin([226531])]\n",
    "Weight_icu_lbs['valuenum'] = Weight_icu_lbs['valuenum'] / (1 / 0.453592)\n",
    "Weight_icu = pd.concat([Weight_icu_kg,Weight_icu_lbs])\n",
    "Weight_icu = Weight_icu[(Weight_icu.valuenum <= 250) & (Weight_icu.valuenum > 0)]\n",
    "Weight_icu['valuenum'] = round(Weight_icu['valuenum'],1)\n",
    "Weight_icu['charttime'] = pd.to_datetime(Weight_icu['charttime'])\n",
    "Weight_icu = Weight_icu.rename(columns={'valuenum': 'Weight'})\n",
    "omr_weight_kg = omr[omr['result_name'].isin(['Weight'])]\n",
    "omr_weight_lbs = omr[omr['result_name'].isin(['Weight (Lbs)'])]\n",
    "omr_weight_kg['result_value'] = omr_weight_kg['result_value'].astype(float)\n",
    "omr_weight_lbs['result_value'] = omr_weight_lbs['result_value'].astype(float)\n",
    "omr_weight_lbs['result_value'] = omr_weight_lbs['result_value'] / (1 / 0.453592)\n",
    "omr_weight = pd.concat([omr_weight_kg,omr_weight_lbs])\n",
    "omr_weight.chartdate = pd.to_datetime(omr_weight.chartdate + ' 23:59:59')\n",
    "omr_weight['charttime'] = omr_weight['chartdate']\n",
    "omr_weight['Weight'] = omr_weight['result_value']\n",
    "omr_weight = omr_weight[omr_weight.Weight <= 250]\n",
    "omr_weight = omr_weight[omr_weight.Weight > 0]\n",
    "omr_weight['Weight'] = round(omr_weight['Weight'],1)\n",
    "omr_weight = omr_weight.sort_values(['subject_id','charttime']).reset_index(drop=True)\n",
    "omr_weight = omr_weight.drop_duplicates(subset=['subject_id','charttime'],keep='last')\n",
    "Weight_check = pd.concat([omr_weight['subject_id'].drop_duplicates(),Urine_icu['subject_id'].drop_duplicates()]).drop_duplicates()\n",
    "Urine_icu = pd.merge(Urine_icu,Weight_check,on='subject_id',how='inner')\n",
    "omr_weight = omr_weight[['subject_id','charttime','Weight']]\n",
    "Weight_icu = Weight_icu[['subject_id','charttime','Weight']]\n",
    "Weight_pool = pd.concat([omr_weight,Weight_icu]).sort_values(['charttime'])\n",
    "Urine_icu = Urine_icu.groupby('subject_id',group_keys=False).apply(lambda x : module.Weight(x, Weight_pool[Weight_pool['subject_id'] == x.name])).reset_index(drop=True)\n",
    "Urine_icu.to_parquet('Urine_icu_Weight.parquet')"
   ]
  },
  {
   "cell_type": "code",
   "execution_count": 9,
   "metadata": {},
   "outputs": [
    {
     "data": {
      "application/vnd.jupyter.widget-view+json": {
       "model_id": "971a79b4e7c448808ded91ecce778bf6",
       "version_major": 2,
       "version_minor": 0
      },
      "text/plain": [
       "Processing groups:   0%|          | 0/53171 [00:00<?, ?it/s]"
      ]
     },
     "metadata": {},
     "output_type": "display_data"
    },
    {
     "data": {
      "text/plain": [
       "Urine_stage\n",
       "0    1765725\n",
       "2     275990\n",
       "1     150853\n",
       "3      86830\n",
       "Name: count, dtype: int64"
      ]
     },
     "execution_count": 9,
     "metadata": {},
     "output_type": "execute_result"
    }
   ],
   "source": [
    "# 2.4 Urine\n",
    "# 체중 없음, 체중 1kg 이하 , 측정 간격 n 시간 이상, 측정 간격 n 시간 이하,\n",
    "def Urine(df):\n",
    "    df = df.sort_values(by=['stay_id', 'charttime'])\n",
    "    df['charttime_diff'] = df.groupby('stay_id')['charttime'].diff().fillna(timedelta(seconds=0))\n",
    "    df = df.assign(**{'6h-12h': 0, '12h': 0, '24h': 0, 'anuria_12h': 0, 'Urine_stage': 0, 'Urine_output_rate': 0})\n",
    "    anuria_threshold = 50.0\n",
    "    def process_group(target):\n",
    "        target = target.reset_index(drop=True)\n",
    "        target['Urine_output_rate'] = target['Urine'] / (target['charttime_diff'].dt.total_seconds() / 3600.0) / target['Weight']\n",
    "        target['cum_value'] = target['Urine'][::-1].cumsum()\n",
    "        target['cum_time_diff'] = target['charttime_diff'][::-1].cumsum().dt.total_seconds() / 3600.0\n",
    "        for i in range(1, len(target)):\n",
    "            group = target.iloc[1:i+1]\n",
    "            group['cum_value'] = group['cum_value'] - group['cum_value'].iloc[-1]\n",
    "            group['cum_time_diff'] = group['cum_time_diff'] - group['cum_time_diff'].iloc[-1]\n",
    "            for threshold_hours_min, threshold_hours_max, rate_threshold, column_name, stage in [\n",
    "                (6, 12, 0.5, '6h-12h', 1),\n",
    "                (12, float('inf'), 0.5, '12h', 2),\n",
    "                (24, float('inf'), 0.3, '24h', 3)]:\n",
    "                condition = (group['cum_time_diff'] >= threshold_hours_min) & (group['cum_time_diff'] < threshold_hours_max)\n",
    "                filtered_group = group.loc[condition]\n",
    "                if not filtered_group.empty:\n",
    "                    urine_output_rate = filtered_group['cum_value'] / filtered_group['cum_time_diff'] / target['Weight'].iloc[i]\n",
    "                    if (column_name in ['6h-12h', '12h', '24h']) and (urine_output_rate.iloc[-1] < rate_threshold):\n",
    "                        target.loc[i, column_name] = 1\n",
    "                        target.loc[i, 'Urine_stage'] = stage\n",
    "                    if (column_name == '12h') and (filtered_group['cum_value'].iloc[-1] < anuria_threshold):\n",
    "                        target.loc[i, 'anuria_12h'] = 1\n",
    "                        target.loc[i, 'Urine_stage'] = 3\n",
    "        return target\n",
    "    tqdm.pandas(desc=\"Processing groups\")\n",
    "    df = df.groupby('stay_id', group_keys=False).progress_apply(process_group).reset_index(drop=True)\n",
    "    df = df[(~df['Urine_output_rate'].isna()) & (df['Urine_output_rate'] != float('inf'))]\n",
    "    df = df.groupby('stay_id', group_keys=False).apply(lambda x : module.gap(x,'Urine_output_rate')).reset_index(drop=True)\n",
    "    df['Urine_charttime_diff'] = round(df['charttime_diff'].dt.total_seconds() / 3600,1)\n",
    "    df.loc[df['Urine_charttime_diff'] >= 12, ['Urine_stage','anuria_12h']] = 3\n",
    "    return df\n",
    "Urine_icu = Urine(Urine_icu)\n",
    "Urine_icu.to_parquet(\"Urine_icu.parquet\")\n",
    "Urine_icu = pd.read_parquet('Urine_icu.parquet')\n",
    "date_columns = ['charttime', 'intime', 'outtime']\n",
    "Urine_icu[date_columns] = Urine_icu[date_columns].apply(pd.to_datetime)\n",
    "Urine_icu['Urine_stage'].value_counts()"
   ]
  },
  {
   "cell_type": "code",
   "execution_count": 10,
   "metadata": {},
   "outputs": [
    {
     "data": {
      "text/plain": [
       "Index(['subject_id', 'hadm_id', 'stay_id', 'caregiver_id', 'charttime',\n",
       "       'Urine', 'intime', 'outtime', 'RRT', 'los', 'Weight', 'charttime_diff',\n",
       "       '6h-12h', '12h', '24h', 'anuria_12h', 'Urine_stage',\n",
       "       'Urine_output_rate', 'cum_value', 'cum_time_diff',\n",
       "       'Urine_output_rate_diff', 'Urine_charttime_diff'],\n",
       "      dtype='object')"
      ]
     },
     "execution_count": 10,
     "metadata": {},
     "output_type": "execute_result"
    }
   ],
   "source": [
    "Urine_icu.columns"
   ]
  },
  {
   "cell_type": "code",
   "execution_count": 11,
   "metadata": {},
   "outputs": [
    {
     "data": {
      "text/plain": [
       "Urine_stage\n",
       "0    1765725\n",
       "2     275990\n",
       "1     150853\n",
       "3      86830\n",
       "Name: count, dtype: int64"
      ]
     },
     "execution_count": 11,
     "metadata": {},
     "output_type": "execute_result"
    }
   ],
   "source": [
    "Urine_icu.Urine_stage.value_counts()"
   ]
  },
  {
   "cell_type": "code",
   "execution_count": 15,
   "metadata": {},
   "outputs": [],
   "source": [
    "Urine_icu.to_parquet('./data/urine_icu.parquet')"
   ]
  },
  {
   "cell_type": "code",
   "execution_count": null,
   "metadata": {},
   "outputs": [],
   "source": []
  },
  {
   "cell_type": "code",
   "execution_count": null,
   "metadata": {},
   "outputs": [],
   "source": []
  },
  {
   "cell_type": "code",
   "execution_count": null,
   "metadata": {},
   "outputs": [],
   "source": []
  },
  {
   "cell_type": "code",
   "execution_count": null,
   "metadata": {},
   "outputs": [],
   "source": []
  }
 ],
 "metadata": {
  "kernelspec": {
   "display_name": "vujade",
   "language": "python",
   "name": "python3"
  },
  "language_info": {
   "codemirror_mode": {
    "name": "ipython",
    "version": 3
   },
   "file_extension": ".py",
   "mimetype": "text/x-python",
   "name": "python",
   "nbconvert_exporter": "python",
   "pygments_lexer": "ipython3",
   "version": "3.9.0"
  }
 },
 "nbformat": 4,
 "nbformat_minor": 2
}
