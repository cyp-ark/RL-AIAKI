{
 "cells": [
  {
   "cell_type": "code",
   "execution_count": 2,
   "metadata": {},
   "outputs": [],
   "source": [
    "import pandas as pd\n",
    "import numpy as np\n",
    "import matplotlib.pyplot as plt\n",
    "import sys, os, pickle\n",
    "\n",
    "from tqdm.notebook import tqdm\n",
    "from datetime import timedelta\n",
    "from utils import baseline_SCr\n",
    "\n",
    "if os.getcwd()[-4:] == \"code\":\n",
    "    os.chdir('../')\n",
    "\n",
    "icu = './data/mimic-iv-2.2-parquet/icu/'\n",
    "hosp = './data/mimic-iv-2.2-parquet/hosp/'"
   ]
  },
  {
   "cell_type": "code",
   "execution_count": 30,
   "metadata": {},
   "outputs": [],
   "source": [
    "labevents     = pd.read_parquet(hosp+'labevents.parquet')\n",
    "d_labitems    = pd.read_parquet(hosp+'d_labitems.parquet')\n",
    "\n",
    "patients      = pd.read_parquet(hosp+'patients.parquet')\n",
    "admissions    = pd.read_parquet(hosp+'admissions.parquet')\n",
    "\n",
    "diagnoses_icd = pd.read_parquet(hosp+'diagnoses_icd.parquet')\n",
    "microbiology  = pd.read_parquet(hosp+'microbiologyevents.parquet')\n",
    "prescriptions = pd.read_parquet(hosp+'prescriptions.parquet')"
   ]
  },
  {
   "cell_type": "code",
   "execution_count": 3,
   "metadata": {},
   "outputs": [],
   "source": [
    "chartevents     = pd.read_parquet(icu+'chartevents.parquet')\n",
    "d_items         = pd.read_parquet(icu+'d_items.parquet')\n",
    "inputevents     = pd.read_parquet(icu+'inputevents.parquet')\n",
    "procedureevents = pd.read_parquet(icu+'procedureevents.parquet')\n",
    "icustays        = pd.read_parquet(icu+'icustays.parquet')"
   ]
  },
  {
   "cell_type": "code",
   "execution_count": 20,
   "metadata": {},
   "outputs": [],
   "source": [
    "chartevents['charttime'] = pd.to_datetime(chartevents['charttime'])"
   ]
  },
  {
   "cell_type": "code",
   "execution_count": 10,
   "metadata": {},
   "outputs": [
    {
     "name": "stdout",
     "output_type": "stream",
     "text": [
      "hadm_id_AB:  41063\n",
      "stay_id_AB:  44636\n"
     ]
    }
   ],
   "source": [
    "d_antibiotics = d_items[(d_items['linksto']=='inputevents')&(d_items['category']=='Antibiotics')].itemid.unique()\n",
    "\n",
    "hadm_id_AB = inputevents[inputevents['itemid'].isin(d_antibiotics)].hadm_id.unique()\n",
    "stay_id_AB = inputevents[inputevents['itemid'].isin(d_antibiotics)].stay_id.unique()\n",
    "\n",
    "print(\"hadm_id_AB: \",len(hadm_id_AB))\n",
    "print(\"stay_id_AB: \",len(stay_id_AB))"
   ]
  },
  {
   "cell_type": "code",
   "execution_count": 28,
   "metadata": {},
   "outputs": [],
   "source": [
    "chartevents_SCr = chartevents[chartevents['itemid'].isin([220615])]\n",
    "chartevents_SCr = chartevents_SCr[(chartevents_SCr['valuenum'] <= 40) & (chartevents_SCr['valuenum'] >= 0.1)]\n",
    "\n",
    "chartevents_SCr.sort_values(by=['subject_id','charttime'],ascending=True,inplace=True)\n",
    "chartevents_SCr.reset_index(inplace=True, drop=True)\n",
    "\n",
    "chartevents_SCr = chartevents_SCr[['subject_id','hadm_id','stay_id','charttime','itemid','valuenum']]"
   ]
  },
  {
   "cell_type": "code",
   "execution_count": 29,
   "metadata": {},
   "outputs": [
    {
     "data": {
      "text/html": [
       "<div>\n",
       "<style scoped>\n",
       "    .dataframe tbody tr th:only-of-type {\n",
       "        vertical-align: middle;\n",
       "    }\n",
       "\n",
       "    .dataframe tbody tr th {\n",
       "        vertical-align: top;\n",
       "    }\n",
       "\n",
       "    .dataframe thead th {\n",
       "        text-align: right;\n",
       "    }\n",
       "</style>\n",
       "<table border=\"1\" class=\"dataframe\">\n",
       "  <thead>\n",
       "    <tr style=\"text-align: right;\">\n",
       "      <th></th>\n",
       "      <th>subject_id</th>\n",
       "      <th>hadm_id</th>\n",
       "      <th>stay_id</th>\n",
       "      <th>charttime</th>\n",
       "      <th>itemid</th>\n",
       "      <th>valuenum</th>\n",
       "    </tr>\n",
       "  </thead>\n",
       "  <tbody>\n",
       "    <tr>\n",
       "      <th>0</th>\n",
       "      <td>10000032</td>\n",
       "      <td>29079034</td>\n",
       "      <td>39553978</td>\n",
       "      <td>2180-07-23 21:45:00</td>\n",
       "      <td>220615</td>\n",
       "      <td>0.5</td>\n",
       "    </tr>\n",
       "    <tr>\n",
       "      <th>1</th>\n",
       "      <td>10001217</td>\n",
       "      <td>24597018</td>\n",
       "      <td>37067082</td>\n",
       "      <td>2157-11-21 03:16:00</td>\n",
       "      <td>220615</td>\n",
       "      <td>0.4</td>\n",
       "    </tr>\n",
       "    <tr>\n",
       "      <th>2</th>\n",
       "      <td>10001217</td>\n",
       "      <td>27703517</td>\n",
       "      <td>34592300</td>\n",
       "      <td>2157-12-20 01:45:00</td>\n",
       "      <td>220615</td>\n",
       "      <td>0.5</td>\n",
       "    </tr>\n",
       "    <tr>\n",
       "      <th>3</th>\n",
       "      <td>10001725</td>\n",
       "      <td>25563031</td>\n",
       "      <td>31205490</td>\n",
       "      <td>2110-04-11 18:02:00</td>\n",
       "      <td>220615</td>\n",
       "      <td>0.8</td>\n",
       "    </tr>\n",
       "    <tr>\n",
       "      <th>4</th>\n",
       "      <td>10001725</td>\n",
       "      <td>25563031</td>\n",
       "      <td>31205490</td>\n",
       "      <td>2110-04-12 02:59:00</td>\n",
       "      <td>220615</td>\n",
       "      <td>0.8</td>\n",
       "    </tr>\n",
       "    <tr>\n",
       "      <th>...</th>\n",
       "      <td>...</td>\n",
       "      <td>...</td>\n",
       "      <td>...</td>\n",
       "      <td>...</td>\n",
       "      <td>...</td>\n",
       "      <td>...</td>\n",
       "    </tr>\n",
       "    <tr>\n",
       "      <th>425251</th>\n",
       "      <td>19999840</td>\n",
       "      <td>21033226</td>\n",
       "      <td>38978960</td>\n",
       "      <td>2164-09-17 02:49:00</td>\n",
       "      <td>220615</td>\n",
       "      <td>0.8</td>\n",
       "    </tr>\n",
       "    <tr>\n",
       "      <th>425252</th>\n",
       "      <td>19999840</td>\n",
       "      <td>21033226</td>\n",
       "      <td>38978960</td>\n",
       "      <td>2164-09-17 07:55:00</td>\n",
       "      <td>220615</td>\n",
       "      <td>0.8</td>\n",
       "    </tr>\n",
       "    <tr>\n",
       "      <th>425253</th>\n",
       "      <td>19999840</td>\n",
       "      <td>21033226</td>\n",
       "      <td>38978960</td>\n",
       "      <td>2164-09-17 13:13:00</td>\n",
       "      <td>220615</td>\n",
       "      <td>0.7</td>\n",
       "    </tr>\n",
       "    <tr>\n",
       "      <th>425254</th>\n",
       "      <td>19999987</td>\n",
       "      <td>23865745</td>\n",
       "      <td>36195440</td>\n",
       "      <td>2145-11-03 01:35:00</td>\n",
       "      <td>220615</td>\n",
       "      <td>1.3</td>\n",
       "    </tr>\n",
       "    <tr>\n",
       "      <th>425255</th>\n",
       "      <td>19999987</td>\n",
       "      <td>23865745</td>\n",
       "      <td>36195440</td>\n",
       "      <td>2145-11-04 05:01:00</td>\n",
       "      <td>220615</td>\n",
       "      <td>1.2</td>\n",
       "    </tr>\n",
       "  </tbody>\n",
       "</table>\n",
       "<p>425256 rows × 6 columns</p>\n",
       "</div>"
      ],
      "text/plain": [
       "        subject_id   hadm_id   stay_id           charttime  itemid  valuenum\n",
       "0         10000032  29079034  39553978 2180-07-23 21:45:00  220615       0.5\n",
       "1         10001217  24597018  37067082 2157-11-21 03:16:00  220615       0.4\n",
       "2         10001217  27703517  34592300 2157-12-20 01:45:00  220615       0.5\n",
       "3         10001725  25563031  31205490 2110-04-11 18:02:00  220615       0.8\n",
       "4         10001725  25563031  31205490 2110-04-12 02:59:00  220615       0.8\n",
       "...            ...       ...       ...                 ...     ...       ...\n",
       "425251    19999840  21033226  38978960 2164-09-17 02:49:00  220615       0.8\n",
       "425252    19999840  21033226  38978960 2164-09-17 07:55:00  220615       0.8\n",
       "425253    19999840  21033226  38978960 2164-09-17 13:13:00  220615       0.7\n",
       "425254    19999987  23865745  36195440 2145-11-03 01:35:00  220615       1.3\n",
       "425255    19999987  23865745  36195440 2145-11-04 05:01:00  220615       1.2\n",
       "\n",
       "[425256 rows x 6 columns]"
      ]
     },
     "execution_count": 29,
     "metadata": {},
     "output_type": "execute_result"
    }
   ],
   "source": [
    "chartevents_SCr"
   ]
  },
  {
   "cell_type": "code",
   "execution_count": null,
   "metadata": {},
   "outputs": [],
   "source": []
  },
  {
   "cell_type": "code",
   "execution_count": null,
   "metadata": {},
   "outputs": [],
   "source": []
  },
  {
   "cell_type": "code",
   "execution_count": null,
   "metadata": {},
   "outputs": [],
   "source": []
  }
 ],
 "metadata": {
  "kernelspec": {
   "display_name": "vujade",
   "language": "python",
   "name": "python3"
  },
  "language_info": {
   "codemirror_mode": {
    "name": "ipython",
    "version": 3
   },
   "file_extension": ".py",
   "mimetype": "text/x-python",
   "name": "python",
   "nbconvert_exporter": "python",
   "pygments_lexer": "ipython3",
   "version": "3.9.0"
  }
 },
 "nbformat": 4,
 "nbformat_minor": 2
}
