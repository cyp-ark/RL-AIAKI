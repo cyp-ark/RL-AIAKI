{
 "cells": [
  {
   "cell_type": "code",
   "execution_count": 1,
   "metadata": {},
   "outputs": [],
   "source": [
    "import pandas as pd\n",
    "import numpy as np\n",
    "import matplotlib.pyplot as plt\n",
    "import sys, os, pickle, utils\n",
    "from tqdm import tqdm\n",
    "from datetime import timedelta\n",
    "#from utils import baseline_SCr\n",
    "\n",
    "if os.getcwd()[-4:] == \"code\":\n",
    "    os.chdir('../')\n",
    "\n",
    "icu  = './data/mimic-iv-2.2-parquet/icu/'\n",
    "hosp = './data/mimic-iv-2.2-parquet/hosp/'\n",
    "ed   = './data/mimic-iv-2.2-parquet/ed/'\n",
    "\n",
    "pd.set_option('mode.chained_assignment',  None)"
   ]
  },
  {
   "cell_type": "code",
   "execution_count": 2,
   "metadata": {},
   "outputs": [],
   "source": [
    "hosp_list = ['labevents', 'd_labitems', 'patients', 'admissions', \n",
    "             'diagnoses_icd', 'microbiologyevents', 'prescriptions', 'omr']\n",
    "for i in hosp_list:\n",
    "    globals()['{}'.format(i)] = pd.read_parquet(hosp+i+'.parquet')"
   ]
  },
  {
   "cell_type": "code",
   "execution_count": 3,
   "metadata": {},
   "outputs": [],
   "source": [
    "icu_list = ['chartevents', 'd_items', 'icustays', 'inputevents', 'outputevents', 'procedureevents']\n",
    "for i in icu_list:\n",
    "    globals()['{}'.format(i)] = pd.read_parquet(icu+i+'.parquet')"
   ]
  },
  {
   "cell_type": "code",
   "execution_count": 4,
   "metadata": {},
   "outputs": [],
   "source": [
    "vitalsign = pd.read_parquet(ed+'vitalsign.parquet')"
   ]
  },
  {
   "cell_type": "code",
   "execution_count": 5,
   "metadata": {},
   "outputs": [],
   "source": [
    "labvalues = pd.read_csv('./data/origin/labvalues/labvalues.csv')\n",
    "vitals = pd.read_csv('./data/origin/vitals/vitals.csv')\n",
    "comorbidities = pd.read_csv('./data/origin/demographic/comorbidities.csv')"
   ]
  },
  {
   "cell_type": "markdown",
   "metadata": {},
   "source": [
    "# Demographic"
   ]
  },
  {
   "cell_type": "markdown",
   "metadata": {},
   "source": [
    "## Gender"
   ]
  },
  {
   "cell_type": "code",
   "execution_count": 6,
   "metadata": {},
   "outputs": [],
   "source": [
    "if not os.path.isfile('./data/origin/demographic/patients_gender.parquet'):\n",
    "    patients_gender = utils.cal_gender(patients)\n",
    "    patients_gender.to_parquet('./data/origin/demographic/patients_gender.parquet')\n",
    "else : patients_gender = pd.read_parquet('./data/origin/demographic/patients_gender.parquet')"
   ]
  },
  {
   "cell_type": "markdown",
   "metadata": {},
   "source": [
    "## Age"
   ]
  },
  {
   "cell_type": "code",
   "execution_count": 7,
   "metadata": {},
   "outputs": [],
   "source": [
    "if not os.path.isfile('./data/origin/demographic/icustays_age.parquet'):\n",
    "    icustays_age = utils.cal_age(icustays,patients)\n",
    "    icustays_age.to_parquet('./data/origin/demographic/icustays_age.parquet')\n",
    "else : icustays_age = pd.read_parquet('./data/origin/demographic/icustays_age.parquet')"
   ]
  },
  {
   "cell_type": "markdown",
   "metadata": {},
   "source": [
    "## Race"
   ]
  },
  {
   "cell_type": "code",
   "execution_count": 8,
   "metadata": {},
   "outputs": [],
   "source": [
    "if not os.path.isfile('./data/origin/demographic/admissions_race.parquet'):\n",
    "    admissions_race = utils.cal_race(admissions)\n",
    "    admissions_race.to_parquet('./data/origin/demographic/admissions_race.parquet')\n",
    "else : admissions_race = pd.read_parquet('./data/origin/demographic/admissions_race.parquet')"
   ]
  },
  {
   "cell_type": "markdown",
   "metadata": {},
   "source": [
    "## Height"
   ]
  },
  {
   "cell_type": "code",
   "execution_count": null,
   "metadata": {},
   "outputs": [],
   "source": [
    "#admission_height = cal_height(icustays,chartevents,omr)"
   ]
  },
  {
   "cell_type": "markdown",
   "metadata": {},
   "source": [
    "## Weight"
   ]
  },
  {
   "cell_type": "code",
   "execution_count": 9,
   "metadata": {},
   "outputs": [],
   "source": [
    "if not os.path.isfile('./data/origin/demographic/admission_weight.parquet'):\n",
    "    admission_weight = utils.cal_weight(icustays,chartevents,inputevents,omr)\n",
    "    admission_weight.to_parquet('./data/origin/demographic/admission_weight.parquet')\n",
    "else : admission_weight = pd.read_parquet('./data/origin/demographic/admission_weight.parquet')"
   ]
  },
  {
   "cell_type": "markdown",
   "metadata": {},
   "source": [
    "## Comorbidites"
   ]
  },
  {
   "cell_type": "code",
   "execution_count": 10,
   "metadata": {},
   "outputs": [],
   "source": [
    "if not os.path.isfile('./data/origin/demographic/comorbidities.parquet'):\n",
    "    comorbidities = utils.cal_comorbidities(icustays, comorbidities,diagnoses_icd)\n",
    "    comorbidities.to_parquet('./data/origin/demographic/comorbidities.parquet')\n",
    "else : comorbidities = pd.read_parquet('./data/origin/demographic/comorbidities.parquet')"
   ]
  },
  {
   "cell_type": "markdown",
   "metadata": {},
   "source": [
    "## Baseline SCr"
   ]
  },
  {
   "cell_type": "code",
   "execution_count": 15,
   "metadata": {},
   "outputs": [
    {
     "name": "stderr",
     "output_type": "stream",
     "text": [
      "  0%|          | 0/50920 [00:00<?, ?it/s]"
     ]
    },
    {
     "name": "stderr",
     "output_type": "stream",
     "text": [
      "100%|██████████| 50920/50920 [05:31<00:00, 153.62it/s]\n"
     ]
    }
   ],
   "source": [
    "baseline_SCr = utils.cal_baseline_SCr(labevents_SCr,icustays,patients_gender,icustays_age,admissions_race)"
   ]
  },
  {
   "cell_type": "markdown",
   "metadata": {},
   "source": [
    "# Lab values"
   ]
  },
  {
   "cell_type": "code",
   "execution_count": 11,
   "metadata": {},
   "outputs": [
    {
     "name": "stderr",
     "output_type": "stream",
     "text": [
      "100%|██████████| 30/30 [00:00<00:00, 44.31it/s]\n"
     ]
    }
   ],
   "source": [
    "for i,idx in enumerate(tqdm(labvalues.abbreviation)):\n",
    "    if not os.path.isfile('./data/origin/labvalues/chartevents_%s.parquet'%idx):\n",
    "        tmp = labvalues.iloc[i]\n",
    "        globals()['chartevents_{}'.format(idx)] = utils.extract_labvalues(chartevents,labevents,tmp,is_in_icu=True)\n",
    "        globals()['chartevents_{}'.format(idx)].to_parquet('./data/origin/labvalues/chartevents_%s.parquet'%idx)\n",
    "    else : globals()['chartevents_{}'.format(idx)] = pd.read_parquet('./data/origin/labvalues/chartevents_%s.parquet'%idx)"
   ]
  },
  {
   "cell_type": "code",
   "execution_count": 12,
   "metadata": {},
   "outputs": [
    {
     "name": "stderr",
     "output_type": "stream",
     "text": [
      "100%|██████████| 30/30 [00:02<00:00, 12.57it/s]\n"
     ]
    }
   ],
   "source": [
    "for i,idx in enumerate(tqdm(labvalues.abbreviation)):\n",
    "    if not os.path.isfile('./data/origin/labvalues/labevents_%s.parquet'%idx):\n",
    "        tmp = labvalues.iloc[i]\n",
    "        globals()['labevents_{}'.format(idx)] = utils.extract_labvalues(chartevents,labevents,tmp,is_in_icu=False)\n",
    "        globals()['labevents_{}'.format(idx)].to_parquet('./data/origin/labvalues/labevents_%s.parquet'%idx)\n",
    "    else : globals()['labevents_{}'.format(idx)] = pd.read_parquet('./data/origin/labvalues/labevents_%s.parquet'%idx)"
   ]
  },
  {
   "cell_type": "code",
   "execution_count": 13,
   "metadata": {},
   "outputs": [
    {
     "name": "stderr",
     "output_type": "stream",
     "text": [
      "100%|██████████| 30/30 [00:08<00:00,  3.35it/s]\n"
     ]
    }
   ],
   "source": [
    "for i,idx in enumerate(tqdm(labvalues.abbreviation)):\n",
    "    if not os.path.isfile('./data/resample/labvalues/ii/resample_%s.parquet'%idx):\n",
    "        globals()['resample_{}'.format(idx)] = utils.resample_labvalues(globals()['chartevents_{}'.format(idx)],globals()['labevents_{}'.format(idx)],icustays,idx)\n",
    "        globals()['resample_{}'.format(idx)].to_parquet('./data/resample/labvalues/ii/resample_%s.parquet'%idx)\n",
    "    else : globals()['resample_{}'.format(idx)] = pd.read_parquet('./data/resample/labvalues/ii/resample_%s.parquet'%idx)"
   ]
  },
  {
   "cell_type": "markdown",
   "metadata": {},
   "source": [
    "# Vitals"
   ]
  },
  {
   "cell_type": "code",
   "execution_count": 16,
   "metadata": {},
   "outputs": [
    {
     "name": "stderr",
     "output_type": "stream",
     "text": [
      "100%|██████████| 11/11 [00:05<00:00,  1.85it/s]\n"
     ]
    }
   ],
   "source": [
    "for i,idx in enumerate(tqdm(vitals.abbreviation)):\n",
    "    if not os.path.isfile('./data/origin/vitals/chartevents_%s.parquet'%idx):\n",
    "        tmp = vitals.iloc[i]\n",
    "        globals()['chartevents_{}'.format(idx)] = utils.extract_labvalues(chartevents,labevents,tmp,is_in_icu=True)\n",
    "        globals()['chartevents_{}'.format(idx)].to_parquet('./data/origin/vitals/chartevents_%s.parquet'%idx)\n",
    "    else : globals()['chartevents_{}'.format(idx)] = pd.read_parquet('./data/origin/vitals/chartevents_%s.parquet'%idx)\n",
    "\n",
    "# Temperature\n",
    "chartevents_tempF['valuenum'] = (chartevents_tempF['valuenum']-32)*5/9\n",
    "chartevents_tempF.rename(columns={'valuenum2':'valuenum'},inplace=True)\n",
    "chartevents_tempF['valuenum'] = chartevents_tempF['valuenum'].round(1)\n",
    "\n",
    "chartevents_temp = pd.concat([chartevents_tempC,chartevents_tempF])\n",
    "chartevents_temp.sort_values(by=['subject_id','hadm_id','stay_id','charttime'],inplace=True)\n",
    "chartevents_temp.to_parquet('./data/origin/vitals/chartevents_temp.parquet')\n",
    "\n",
    "os.remove('./data/origin/vitals/chartevents_tempC.parquet')\n",
    "os.remove('./data/origin/vitals/chartevents_tempF.parquet')"
   ]
  },
  {
   "cell_type": "code",
   "execution_count": null,
   "metadata": {},
   "outputs": [],
   "source": [
    "'''for idx in tqdm([x[12:-8] for x in os.listdir('./data/origin/vitals') if x[-8:] == '.parquet']):\n",
    "    print('Processing %s'%idx)\n",
    "    globals()['resample_{}'.format(idx)] = resample_vitals(globals()['chartevents_{}'.format(idx)],icustays,idx)\n",
    "    globals()['resample_{}'.format(idx)].to_parquet('./data/resample/vitals/resample_%s.parquet'%idx)'''"
   ]
  },
  {
   "cell_type": "code",
   "execution_count": 17,
   "metadata": {},
   "outputs": [
    {
     "name": "stderr",
     "output_type": "stream",
     "text": [
      "  0%|          | 0/10 [00:00<?, ?it/s]"
     ]
    },
    {
     "name": "stdout",
     "output_type": "stream",
     "text": [
      "Processing ABPd\n"
     ]
    },
    {
     "name": "stderr",
     "output_type": "stream",
     "text": [
      " 10%|█         | 1/10 [00:00<00:02,  4.08it/s]"
     ]
    },
    {
     "name": "stdout",
     "output_type": "stream",
     "text": [
      "Processing ABPs\n"
     ]
    },
    {
     "name": "stderr",
     "output_type": "stream",
     "text": [
      " 20%|██        | 2/10 [00:00<00:01,  4.17it/s]"
     ]
    },
    {
     "name": "stdout",
     "output_type": "stream",
     "text": [
      "Processing CVP\n"
     ]
    },
    {
     "name": "stderr",
     "output_type": "stream",
     "text": [
      " 30%|███       | 3/10 [00:00<00:01,  4.14it/s]"
     ]
    },
    {
     "name": "stdout",
     "output_type": "stream",
     "text": [
      "Processing FiO2\n"
     ]
    },
    {
     "name": "stderr",
     "output_type": "stream",
     "text": [
      " 40%|████      | 4/10 [00:00<00:01,  4.21it/s]"
     ]
    },
    {
     "name": "stdout",
     "output_type": "stream",
     "text": [
      "Processing HR\n"
     ]
    },
    {
     "name": "stderr",
     "output_type": "stream",
     "text": [
      " 50%|█████     | 5/10 [00:01<00:01,  4.16it/s]"
     ]
    },
    {
     "name": "stdout",
     "output_type": "stream",
     "text": [
      "Processing NBPd\n"
     ]
    },
    {
     "name": "stderr",
     "output_type": "stream",
     "text": [
      " 60%|██████    | 6/10 [00:01<00:00,  4.17it/s]"
     ]
    },
    {
     "name": "stdout",
     "output_type": "stream",
     "text": [
      "Processing NBPs\n"
     ]
    },
    {
     "name": "stderr",
     "output_type": "stream",
     "text": [
      " 70%|███████   | 7/10 [00:01<00:00,  4.11it/s]"
     ]
    },
    {
     "name": "stdout",
     "output_type": "stream",
     "text": [
      "Processing RR\n"
     ]
    },
    {
     "name": "stderr",
     "output_type": "stream",
     "text": [
      " 80%|████████  | 8/10 [00:01<00:00,  3.99it/s]"
     ]
    },
    {
     "name": "stdout",
     "output_type": "stream",
     "text": [
      "Processing SaO2\n"
     ]
    },
    {
     "name": "stderr",
     "output_type": "stream",
     "text": [
      " 90%|█████████ | 9/10 [00:02<00:00,  3.98it/s]"
     ]
    },
    {
     "name": "stdout",
     "output_type": "stream",
     "text": [
      "Processing temp\n"
     ]
    },
    {
     "name": "stderr",
     "output_type": "stream",
     "text": [
      "100%|██████████| 10/10 [00:02<00:00,  4.09it/s]\n"
     ]
    }
   ],
   "source": [
    "for idx in tqdm([x[12:-8] for x in os.listdir('./data/origin/vitals') if x[-8:] == '.parquet']):\n",
    "    print('Processing %s'%idx)\n",
    "    if not os.path.isfile('./data/resample/vitals/resample_%s.parquet'%idx):\n",
    "        globals()['resample_{}'.format(idx)] = utils.resample_vitals(globals()['chartevents_{}'.format(idx)],icustays,idx)\n",
    "        globals()['resample_{}'.format(idx)].to_parquet('./data/resample/vitals/resample_%s.parquet'%idx)\n",
    "    else : globals()['resample_{}'.format(idx)] = pd.read_parquet('./data/resample/vitals/resample_%s.parquet'%idx)"
   ]
  },
  {
   "cell_type": "code",
   "execution_count": 18,
   "metadata": {},
   "outputs": [],
   "source": [
    "resample_SBP = pd.merge(resample_ABPs,resample_NBPs, on=['subject_id','hadm_id','stay_id', 'charttime'], how='left')\n",
    "resample_SBP['SBP'] = np.where((resample_SBP['presense_ABPs']==0), resample_SBP['NBPs'], resample_SBP['ABPs'])\n",
    "resample_SBP['presense_SBP'] = 0\n",
    "resample_SBP.loc[(resample_SBP['presense_ABPs']==1) | (resample_SBP['presense_NBPs']==1), 'presense_SBP'] = 1\n",
    "\n",
    "resample_SBP = resample_SBP[['subject_id','hadm_id','stay_id','charttime','SBP','presense_SBP']]"
   ]
  },
  {
   "cell_type": "code",
   "execution_count": 19,
   "metadata": {},
   "outputs": [],
   "source": [
    "resample_DBP = pd.merge(resample_ABPd,resample_NBPd, on=['subject_id','hadm_id','stay_id', 'charttime'], how='left')\n",
    "resample_DBP['DBP'] = np.where((resample_DBP['presense_ABPd']==0), resample_DBP['NBPd'], resample_DBP['ABPd'])\n",
    "resample_DBP['presense_DBP'] = 0\n",
    "resample_DBP.loc[(resample_DBP['presense_ABPd']==1) | (resample_DBP['presense_NBPd']==1), 'presense_DBP'] = 1\n",
    "resample_DBP = resample_DBP[['subject_id','hadm_id','stay_id','charttime','DBP','presense_DBP']]"
   ]
  },
  {
   "cell_type": "code",
   "execution_count": 20,
   "metadata": {},
   "outputs": [],
   "source": [
    "resample_MAP = pd.merge(resample_SBP,resample_DBP, on=['subject_id','hadm_id','stay_id', 'charttime'], how='left')\n",
    "resample_MAP['MAP'] = 1/3*resample_MAP['SBP'] + 2/3*resample_MAP['DBP']\n",
    "resample_MAP.loc[(resample_MAP['presense_SBP']==1)&(resample_MAP['presense_DBP']==1),'presense_MAP']=1\n",
    "resample_MAP.loc[resample_MAP['presense_MAP'].isna(),'MAP']=0\n",
    "resample_MAP.loc[resample_MAP['presense_MAP'].isna(),'presense_MAP']=0\n",
    "resample_MAP = resample_MAP[['subject_id','hadm_id','stay_id','charttime','MAP','presense_MAP']]"
   ]
  },
  {
   "cell_type": "code",
   "execution_count": 21,
   "metadata": {},
   "outputs": [],
   "source": [
    "resample_SBP.to_parquet('./data/resample/vitals/resample_SBP.parquet')\n",
    "resample_DBP.to_parquet('./data/resample/vitals/resample_DBP.parquet')\n",
    "resample_MAP.to_parquet('./data/resample/vitals/resample_MAP.parquet')"
   ]
  },
  {
   "cell_type": "markdown",
   "metadata": {},
   "source": [
    "# Urine Output"
   ]
  },
  {
   "cell_type": "code",
   "execution_count": 22,
   "metadata": {},
   "outputs": [],
   "source": [
    "if not os.path.isfile('./data/resample/measures/resample_uo.parquet'):\n",
    "    outputevents_uo = utils.cal_uo(outputevents)\n",
    "    resample_uo = utils.resample_urine(outputevents_uo, icustays, 'uo')\n",
    "    resample_uo.to_parquet('./data/resample/measures/resample_uo.parquet')\n",
    "else : resample_uo = pd.read_parquet('./data/resample/measures/resample_uo.parquet')"
   ]
  },
  {
   "cell_type": "markdown",
   "metadata": {},
   "source": [
    "# Fluid/Vasopressor intake"
   ]
  },
  {
   "cell_type": "markdown",
   "metadata": {},
   "source": [
    "## Fluid"
   ]
  },
  {
   "cell_type": "code",
   "execution_count": 23,
   "metadata": {},
   "outputs": [],
   "source": [
    "if not os.path.isfile('./data/resample/inputs/resample_fluid.parquet'):\n",
    "    fluid = [220949, 220950, 220952, 225158, 225159, 225161, 225828, 225797, 225799, 225823, 225825, 225827, 225830, 226089, 225941, 225943, 225944, 226361, 226363, 226364, 226375, 226377, 226452, 226453, 227533, 228140, 228141, 228142, 228341, 220955, 220967, 220968, 220953]\n",
    "    inputevents_fluid = inputevents[inputevents['itemid'].isin(fluid)]\n",
    "\n",
    "    inputevents_fluid.loc[inputevents_fluid['rateuom']=='mL/min', 'rate'] = inputevents_fluid['rate']/60\n",
    "    inputevents_fluid.loc[inputevents_fluid['rateuom']=='mL/kg/hour', 'rate'] = inputevents_fluid['rate'] * inputevents_fluid['patientweight']\n",
    "\n",
    "    resample_fluids = utils.resample_inputrates(icustays,inputevents_fluid,'fluid')\n",
    "    resample_fluids.to_parquet('./data/resample/inputs/resample_fluid.parquet')\n",
    "else : resample_fluids = pd.read_parquet('./data/resample/inputs/resample_fluid.parquet')"
   ]
  },
  {
   "cell_type": "markdown",
   "metadata": {},
   "source": [
    "## Vasopressor"
   ]
  },
  {
   "cell_type": "code",
   "execution_count": 24,
   "metadata": {},
   "outputs": [],
   "source": [
    "inputevents_angiotensin_ii = inputevents[inputevents['itemid'].isin([229709,229764])]"
   ]
  },
  {
   "cell_type": "code",
   "execution_count": 25,
   "metadata": {},
   "outputs": [],
   "source": [
    "inputevents_epinephrine = inputevents[inputevents['itemid'].isin([221289])]\n",
    "inputevents_dopamine = inputevents[inputevents['itemid'].isin([221662])]\n",
    "inputevents_dobutamine = inputevents[inputevents['itemid'].isin([221653])]\n",
    "inputevents_norephinephrine = inputevents[inputevents['itemid'].isin([221906])]\n",
    "inputevents_phenylephrine = inputevents[inputevents['itemid'].isin([221749, 229630, 229632])]\n",
    "inputevents_vasopressin = inputevents[inputevents['itemid'].isin([222315])]"
   ]
  },
  {
   "cell_type": "code",
   "execution_count": 26,
   "metadata": {},
   "outputs": [],
   "source": [
    "# Norephinephrine\n",
    "inputevents_norephinephrine.loc[inputevents_norephinephrine['rateuom']=='mg/kg/min','rate']= inputevents_norephinephrine['rate']*1e3\n",
    "inputevents_norephinephrine = inputevents_norephinephrine[['subject_id','hadm_id','stay_id','starttime','endtime','rate']]\n",
    "\n",
    "# Epinephrine\n",
    "inputevents_epinephrine = inputevents_epinephrine[['subject_id','hadm_id','stay_id','starttime','endtime','rate']]\n",
    "\n",
    "# Phenylephrine\n",
    "inputevents_phenylephrine.loc[inputevents_phenylephrine['rateuom']=='mcg/min','rate'] = inputevents_phenylephrine['rate']/inputevents_phenylephrine['patientweight']\n",
    "inputevents_phenylephrine = inputevents_phenylephrine[['subject_id','hadm_id','stay_id','starttime','endtime','rate']]\n",
    "\n",
    "# Vasopressin\n",
    "inputevents_vasopressin.loc[inputevents_vasopressin['rateuom']=='units/hour', 'rate'] = inputevents_vasopressin['rate']/60\n",
    "inputevents_vasopressin = inputevents_vasopressin[['subject_id','hadm_id','stay_id','starttime','endtime','rate']]\n",
    "\n",
    "# Dopamine\n",
    "inputevents_dopamine = inputevents_dopamine[['subject_id','hadm_id','stay_id','starttime','endtime','rate']]\n",
    "\n",
    "# Dobupamine\n",
    "inputevents_dobutamine = inputevents_dobutamine[['subject_id','hadm_id','stay_id','starttime','endtime','rate']]\n",
    "\n",
    "# angiotensin_ii\n",
    "inputevents_angiotensin_ii.loc[inputevents_angiotensin_ii['rateuom']=='mcg/kg/min', 'rate'] = inputevents_angiotensin_ii['rate']*1e3\n",
    "inputevents_angiotensin_ii = inputevents_angiotensin_ii[['subject_id','hadm_id','stay_id','starttime','endtime','rate']]"
   ]
  },
  {
   "cell_type": "code",
   "execution_count": 27,
   "metadata": {},
   "outputs": [
    {
     "name": "stderr",
     "output_type": "stream",
     "text": [
      "100%|██████████| 7/7 [00:01<00:00,  4.07it/s]\n"
     ]
    }
   ],
   "source": [
    "Vaso = ['epinephrine','dopamine','dobutamine','norephinephrine','phenylephrine','vasopressin','angiotensin_ii']\n",
    "for i,idx in enumerate(tqdm(Vaso)):\n",
    "    if not os.path.isfile('./data/resample/inputs/resample_%s.parquet'%idx):\n",
    "        globals()['resample_{}'.format(idx)] = utils.resample_inputrates(icustays, globals()['inputevents_{}'.format(idx)],idx)\n",
    "        globals()['resample_{}'.format(idx)].to_parquet('./data/resample/inputs/resample_%s.parquet'%idx)\n",
    "    else : globals()['resample_{}'.format(idx)] = pd.read_parquet('./data/resample/inputs/resample_%s.parquet'%idx)"
   ]
  },
  {
   "cell_type": "code",
   "execution_count": 28,
   "metadata": {},
   "outputs": [
    {
     "name": "stderr",
     "output_type": "stream",
     "text": [
      "100%|██████████| 7/7 [00:19<00:00,  2.73s/it]\n"
     ]
    }
   ],
   "source": [
    "for i,idx in enumerate(tqdm(Vaso)):\n",
    "    if i == 0 : resample_vasopressor = globals()['resample_{}'.format(idx)].copy()\n",
    "    else : resample_vasopressor = pd.merge(resample_vasopressor,globals()['resample_{}'.format(idx)].copy(),on=['subject_id','hadm_id','stay_id','charttime'],how='left')"
   ]
  },
  {
   "cell_type": "code",
   "execution_count": 29,
   "metadata": {},
   "outputs": [],
   "source": [
    "resample_vasopressor['vaso_equ'] = resample_vasopressor['norephinephrine'] + resample_vasopressor['epinephrine'] + 1/100*resample_vasopressor['dopamine'] + 0.06*resample_vasopressor['phenylephrine'] + 2.5*resample_vasopressor['vasopressin'] + 0.0025*resample_vasopressor['angiotensin_ii']\n",
    "resample_vasopressor = resample_vasopressor[['subject_id','hadm_id','stay_id','charttime','vaso_equ']]"
   ]
  },
  {
   "cell_type": "markdown",
   "metadata": {},
   "source": [
    "# Ventilator"
   ]
  },
  {
   "cell_type": "code",
   "execution_count": 30,
   "metadata": {},
   "outputs": [],
   "source": [
    "if not os.path.isfile('./data/resample/procedures/resample_ventilation.parquet'):\n",
    "    procedureevents_ventilation = procedureevents[procedureevents['itemid'].isin([225792,225794])]\n",
    "    resample_ventilation = utils.resample_inputrates(icustays,procedureevents_ventilation,'ventilation')\n",
    "    resample_ventilation.to_parquet('./data/resample_ventilation.parquet')\n",
    "else : resample_ventilation = pd.read_parquet('./data/resample/procedures/resample_ventilation.parquet')"
   ]
  },
  {
   "cell_type": "markdown",
   "metadata": {},
   "source": [
    "# RRT"
   ]
  },
  {
   "cell_type": "code",
   "execution_count": 31,
   "metadata": {},
   "outputs": [],
   "source": [
    "if not os.path.isfile('./data/resample/procedures/resample_rrt.parquet'):\n",
    "    procedureevents_rrt = procedureevents[procedureevents['itemid'].isin([\n",
    "    225441, #Hemodialysis\n",
    "    225802, #Dialysis - CRRT\n",
    "    225803, #Dialysis - CVVHD\n",
    "    225805, #Peritoneal Dialysis\n",
    "    225809, #Dialysis - CVVHDF\n",
    "    225955, #Dialysis - SCUF\n",
    "    ])]\n",
    "    resample_rrt = utils.resample_inputrates(icustays,procedureevents_rrt,'RRT')\n",
    "    resample_rrt.to_parquet('./data/resample/procedures/resample_rrt.parquet')\n",
    "else : resample_rrt = pd.read_parquet('./data/resample/procedures/resample_rrt.parquet')"
   ]
  },
  {
   "cell_type": "markdown",
   "metadata": {},
   "source": [
    "# SOFA"
   ]
  },
  {
   "cell_type": "code",
   "execution_count": 32,
   "metadata": {},
   "outputs": [
    {
     "name": "stderr",
     "output_type": "stream",
     "text": [
      "100%|██████████| 3/3 [00:01<00:00,  2.22it/s]\n"
     ]
    }
   ],
   "source": [
    "# GCS\n",
    "chartevents_GCS_eye = chartevents[chartevents['itemid'].isin([220739])]\n",
    "chartevents_GCS_verval = chartevents[chartevents['itemid'].isin([223900])]\n",
    "chartevents_GCS_motor = chartevents[chartevents['itemid'].isin([223901])]\n",
    "\n",
    "GCS = ['GCS_eye','GCS_verval','GCS_motor']\n",
    "for i,idx in enumerate(tqdm(GCS)):\n",
    "    if not os.path.isfile('./data/resample/measures/resample_%s.parquet'%idx):\n",
    "        print(\"[%i/%i] Resampling %s...\"%(i+1,len(vitals.abbreviation.unique()),idx))\n",
    "        globals()['resample_{}'.format(idx)] = resample_vitals(globals()['chartevents_{}'.format(idx)],icustays,idx)\n",
    "        globals()['resample_{}'.format(idx)].to_parquet('./data/resample/resample_%s.parquet'%idx)\n",
    "    else : globals()['resample_{}'.format(idx)] = pd.read_parquet('./data/resample/measures/resample_%s.parquet'%idx)"
   ]
  },
  {
   "cell_type": "code",
   "execution_count": 33,
   "metadata": {},
   "outputs": [],
   "source": [
    "resample_GCS_eye = utils.resample_fill(resample_GCS_eye)\n",
    "resample_GCS_verval = utils.resample_fill(resample_GCS_verval)\n",
    "resample_GCS_motor = utils.resample_fill(resample_GCS_motor)\n",
    "\n",
    "resample_GCS_eye.rename(columns={'valuenum':'GCS_eye'},inplace=True)\n",
    "resample_GCS_verval.rename(columns={'valuenum':'GCS_verval'},inplace=True)\n",
    "resample_GCS_motor.rename(columns={'valuenum':'GCS_motor'},inplace=True)\n",
    "\n",
    "resample_GCS_eye.drop('itemid',axis=1,inplace=True)\n",
    "resample_GCS_verval.drop('itemid',axis=1,inplace=True)\n",
    "resample_GCS_motor.drop('itemid',axis=1,inplace=True)\n",
    "\n",
    "resample_GCS = pd.merge(resample_GCS_eye,resample_GCS_verval,on=['subject_id','hadm_id','stay_id','charttime'],how='left')\n",
    "resample_GCS = pd.merge(resample_GCS,resample_GCS_motor,on=['subject_id','hadm_id','stay_id','charttime'],how='left')\n",
    "\n",
    "resample_GCS = resample_GCS[['subject_id','hadm_id','stay_id','charttime','GCS_eye','GCS_verval','GCS_motor']]\n",
    "resample_GCS['GCS'] = resample_GCS['GCS_eye'] + resample_GCS['GCS_verval'] + resample_GCS['GCS_motor']"
   ]
  },
  {
   "cell_type": "code",
   "execution_count": 34,
   "metadata": {},
   "outputs": [],
   "source": [
    "def resample_PF(resample_PaO2,resample_FiO2):\n",
    "    resample_PaO2.rename(columns={'valuenum':'PaO2'},inplace=True)\n",
    "    resample_FiO2.rename(columns={'valuenum':'FiO2'},inplace=True)\n",
    "\n",
    "    df = pd.merge(resample_PaO2,resample_FiO2,on=['subject_id','hadm_id','stay_id','charttime'],how='left')\n",
    "    df['PF'] = df['PaO2']/(df['FiO2']/100)\n",
    "    df = df[['subject_id','hadm_id','stay_id','charttime','PF']]\n",
    "    return df\n",
    "\n",
    "resample_PF = resample_PF(resample_PaO2,resample_FiO2)"
   ]
  },
  {
   "cell_type": "code",
   "execution_count": 35,
   "metadata": {},
   "outputs": [],
   "source": [
    "resample_uo_24hrs = resample_uo.copy()\n",
    "rolling_avg=resample_uo_24hrs.groupby('stay_id').rolling(window='24H', on='charttime',min_periods=24)['uo'].sum().reset_index(drop=True)\n",
    "resample_uo_24hrs['uo_day'] = rolling_avg"
   ]
  },
  {
   "cell_type": "code",
   "execution_count": 36,
   "metadata": {},
   "outputs": [],
   "source": [
    "resample_SOFA = resample_GCS.copy()\n",
    "for i in ['MAP','dopamine','dobutamine','epinephrine','norephinephrine','PF','Platelet','T_Bil','SCr','ventilation','uo_24hrs']:\n",
    "    resample_SOFA = pd.merge(resample_SOFA,globals()['resample_{}'.format(i)],on=['subject_id','hadm_id','stay_id','charttime'],how='left')"
   ]
  },
  {
   "cell_type": "code",
   "execution_count": 37,
   "metadata": {},
   "outputs": [],
   "source": [
    "def cal_SOFA(df):\n",
    "    # Central nervous system\n",
    "    #df.loc[df['GCS'].isna(),'SOFA_CNS'] = 0\n",
    "    df.loc[df['GCS']==15,'SOFA_CNS'] = 0\n",
    "    df.loc[(df['GCS']>=13)&(df['GCS']<=14),'SOFA_CNS'] = 1\n",
    "    df.loc[(df['GCS']>=10)&(df['GCS']<=12),'SOFA_CNS'] = 2\n",
    "    df.loc[(df['GCS']>=6)&(df['GCS']<=9),'SOFA_CNS'] = 3\n",
    "    df.loc[(df['GCS']<6),'SOFA_CNS'] = 4\n",
    "\n",
    "    # Cardiovascular system\n",
    "    #df.loc[df['MAP'].isna(),'SOFA_CVS'] = 0\n",
    "    df.loc[df['MAP']>=70,'SOFA_CVS'] = 0\n",
    "    df.loc[df['MAP']<70,'SOFA_CVS'] = 1\n",
    "    df.loc[((df['dopamine']<=5)&(df['dopamine']>0))|(df['dobutamine']>0),'SOFA_CVS'] = 2\n",
    "    df.loc[(df['dopamine']>5)|((df['epinephrine']<=0.1)&(df['epinephrine']>0))|((df['norephinephrine']<=0.1)&(df['norephinephrine']>0)),'SOFA_CVS'] = 3\n",
    "    df.loc[(df['dopamine']>15)|(df['epinephrine']>0.1)|(df['norephinephrine']>0.1),'SOFA_CVS'] = 4\n",
    "\n",
    "    # Respiratory system\n",
    "    #df.loc[df['PF'].isna(), 'SOFA_RS'] = 0\n",
    "    df.loc[df['PF']>=400, 'SOFA_RS'] = 0\n",
    "    df.loc[df['PF']<400, 'SOFA_RS'] = 1\n",
    "    df.loc[df['PF']<300, 'SOFA_RS'] = 2\n",
    "    df.loc[(df['PF']<200)&(df['ventilation']>0), 'SOFA_RS'] = 3\n",
    "    df.loc[(df['PF']<100)&(df['ventilation']>0), 'SOFA_RS'] = 4\n",
    "\n",
    "    # Coagulation\n",
    "    #df.loc[df['Platelet'].isna(), 'SOFA_C'] = 0\n",
    "    df.loc[df['Platelet']>=150, 'SOFA_C'] = 0\n",
    "    df.loc[df['Platelet']<150, 'SOFA_C'] = 1\n",
    "    df.loc[df['Platelet']<100, 'SOFA_C'] = 2\n",
    "    df.loc[df['Platelet']<50, 'SOFA_C'] = 3\n",
    "    df.loc[df['Platelet']<20, 'SOFA_C'] = 4\n",
    "\n",
    "    # Liver\n",
    "    #df.loc[df['T_Bil'].isna(), 'SOFA_L'] = 0\n",
    "    df.loc[df['T_Bil']<1.2, 'SOFA_L'] = 0\n",
    "    df.loc[(df['T_Bil']>=1.2)&(df['T_Bil']<2.0), 'SOFA_L'] = 1\n",
    "    df.loc[(df['T_Bil']>=2.0)&(df['T_Bil']<6.0), 'SOFA_L'] = 2\n",
    "    df.loc[(df['T_Bil']>=6.0)&(df['T_Bil']<12.0), 'SOFA_L'] = 3\n",
    "    df.loc[(df['T_Bil']>=12.0), 'SOFA_L'] = 4\n",
    "\n",
    "    # Renal function\n",
    "    #df.loc[df['SCr'].isna(), 'SOFA_R'] = 0\n",
    "    df.loc[df['SCr']<1.2, 'SOFA_R'] = 0\n",
    "    df.loc[(df['SCr']>=1.2)&(df['SCr']<2.0), 'SOFA_R'] = 1\n",
    "    df.loc[(df['SCr']>=2.0)&(df['SCr']<3.5), 'SOFA_R'] = 2\n",
    "    df.loc[((df['SCr']>=3.5)&(df['SCr']<5.0))|(df['uo_day']<500), 'SOFA_R'] = 3\n",
    "    df.loc[(df['SCr']>=5.0)|(df['uo_day']<200), 'SOFA_R'] = 4\n",
    "\n",
    "    df['SOFA'] = df['SOFA_CNS'] + df['SOFA_CVS'] + df['SOFA_RS'] + df['SOFA_C'] + df['SOFA_L'] + df['SOFA_R']\n",
    "    df = df[['subject_id','hadm_id','stay_id','charttime','SOFA']]\n",
    "    return df\n",
    "\n",
    "resample_SOFA = cal_SOFA(resample_SOFA)"
   ]
  },
  {
   "cell_type": "code",
   "execution_count": 38,
   "metadata": {},
   "outputs": [
    {
     "data": {
      "text/html": [
       "<div>\n",
       "<style scoped>\n",
       "    .dataframe tbody tr th:only-of-type {\n",
       "        vertical-align: middle;\n",
       "    }\n",
       "\n",
       "    .dataframe tbody tr th {\n",
       "        vertical-align: top;\n",
       "    }\n",
       "\n",
       "    .dataframe thead th {\n",
       "        text-align: right;\n",
       "    }\n",
       "</style>\n",
       "<table border=\"1\" class=\"dataframe\">\n",
       "  <thead>\n",
       "    <tr style=\"text-align: right;\">\n",
       "      <th></th>\n",
       "      <th>subject_id</th>\n",
       "      <th>hadm_id</th>\n",
       "      <th>stay_id</th>\n",
       "      <th>charttime</th>\n",
       "      <th>SOFA</th>\n",
       "    </tr>\n",
       "  </thead>\n",
       "  <tbody>\n",
       "    <tr>\n",
       "      <th>0</th>\n",
       "      <td>10000032</td>\n",
       "      <td>29079034</td>\n",
       "      <td>39553978</td>\n",
       "      <td>2180-07-23 14:00:00</td>\n",
       "      <td>NaN</td>\n",
       "    </tr>\n",
       "    <tr>\n",
       "      <th>1</th>\n",
       "      <td>10000032</td>\n",
       "      <td>29079034</td>\n",
       "      <td>39553978</td>\n",
       "      <td>2180-07-23 15:00:00</td>\n",
       "      <td>NaN</td>\n",
       "    </tr>\n",
       "    <tr>\n",
       "      <th>2</th>\n",
       "      <td>10000032</td>\n",
       "      <td>29079034</td>\n",
       "      <td>39553978</td>\n",
       "      <td>2180-07-23 16:00:00</td>\n",
       "      <td>NaN</td>\n",
       "    </tr>\n",
       "    <tr>\n",
       "      <th>3</th>\n",
       "      <td>10000032</td>\n",
       "      <td>29079034</td>\n",
       "      <td>39553978</td>\n",
       "      <td>2180-07-23 17:00:00</td>\n",
       "      <td>NaN</td>\n",
       "    </tr>\n",
       "    <tr>\n",
       "      <th>4</th>\n",
       "      <td>10000032</td>\n",
       "      <td>29079034</td>\n",
       "      <td>39553978</td>\n",
       "      <td>2180-07-23 18:00:00</td>\n",
       "      <td>NaN</td>\n",
       "    </tr>\n",
       "    <tr>\n",
       "      <th>...</th>\n",
       "      <td>...</td>\n",
       "      <td>...</td>\n",
       "      <td>...</td>\n",
       "      <td>...</td>\n",
       "      <td>...</td>\n",
       "    </tr>\n",
       "    <tr>\n",
       "      <th>6099429</th>\n",
       "      <td>19999987</td>\n",
       "      <td>23865745</td>\n",
       "      <td>36195440</td>\n",
       "      <td>2145-11-04 16:59:00</td>\n",
       "      <td>6.0</td>\n",
       "    </tr>\n",
       "    <tr>\n",
       "      <th>6099430</th>\n",
       "      <td>19999987</td>\n",
       "      <td>23865745</td>\n",
       "      <td>36195440</td>\n",
       "      <td>2145-11-04 17:59:00</td>\n",
       "      <td>6.0</td>\n",
       "    </tr>\n",
       "    <tr>\n",
       "      <th>6099431</th>\n",
       "      <td>19999987</td>\n",
       "      <td>23865745</td>\n",
       "      <td>36195440</td>\n",
       "      <td>2145-11-04 18:59:00</td>\n",
       "      <td>6.0</td>\n",
       "    </tr>\n",
       "    <tr>\n",
       "      <th>6099432</th>\n",
       "      <td>19999987</td>\n",
       "      <td>23865745</td>\n",
       "      <td>36195440</td>\n",
       "      <td>2145-11-04 19:59:00</td>\n",
       "      <td>6.0</td>\n",
       "    </tr>\n",
       "    <tr>\n",
       "      <th>6099433</th>\n",
       "      <td>19999987</td>\n",
       "      <td>23865745</td>\n",
       "      <td>36195440</td>\n",
       "      <td>2145-11-04 20:59:00</td>\n",
       "      <td>6.0</td>\n",
       "    </tr>\n",
       "  </tbody>\n",
       "</table>\n",
       "<p>6099434 rows × 5 columns</p>\n",
       "</div>"
      ],
      "text/plain": [
       "         subject_id   hadm_id   stay_id           charttime  SOFA\n",
       "0          10000032  29079034  39553978 2180-07-23 14:00:00   NaN\n",
       "1          10000032  29079034  39553978 2180-07-23 15:00:00   NaN\n",
       "2          10000032  29079034  39553978 2180-07-23 16:00:00   NaN\n",
       "3          10000032  29079034  39553978 2180-07-23 17:00:00   NaN\n",
       "4          10000032  29079034  39553978 2180-07-23 18:00:00   NaN\n",
       "...             ...       ...       ...                 ...   ...\n",
       "6099429    19999987  23865745  36195440 2145-11-04 16:59:00   6.0\n",
       "6099430    19999987  23865745  36195440 2145-11-04 17:59:00   6.0\n",
       "6099431    19999987  23865745  36195440 2145-11-04 18:59:00   6.0\n",
       "6099432    19999987  23865745  36195440 2145-11-04 19:59:00   6.0\n",
       "6099433    19999987  23865745  36195440 2145-11-04 20:59:00   6.0\n",
       "\n",
       "[6099434 rows x 5 columns]"
      ]
     },
     "execution_count": 38,
     "metadata": {},
     "output_type": "execute_result"
    }
   ],
   "source": [
    "resample_SOFA"
   ]
  },
  {
   "cell_type": "markdown",
   "metadata": {},
   "source": [
    "# AKI annotation"
   ]
  },
  {
   "cell_type": "markdown",
   "metadata": {},
   "source": [
    "## AKI_UO"
   ]
  },
  {
   "cell_type": "code",
   "execution_count": 49,
   "metadata": {},
   "outputs": [
    {
     "data": {
      "text/html": [
       "<div>\n",
       "<style scoped>\n",
       "    .dataframe tbody tr th:only-of-type {\n",
       "        vertical-align: middle;\n",
       "    }\n",
       "\n",
       "    .dataframe tbody tr th {\n",
       "        vertical-align: top;\n",
       "    }\n",
       "\n",
       "    .dataframe thead th {\n",
       "        text-align: right;\n",
       "    }\n",
       "</style>\n",
       "<table border=\"1\" class=\"dataframe\">\n",
       "  <thead>\n",
       "    <tr style=\"text-align: right;\">\n",
       "      <th></th>\n",
       "      <th>subject_id</th>\n",
       "      <th>hadm_id</th>\n",
       "      <th>stay_id</th>\n",
       "      <th>charttime</th>\n",
       "      <th>uo</th>\n",
       "    </tr>\n",
       "  </thead>\n",
       "  <tbody>\n",
       "    <tr>\n",
       "      <th>0</th>\n",
       "      <td>10000032</td>\n",
       "      <td>29079034</td>\n",
       "      <td>39553978</td>\n",
       "      <td>2180-07-23 14:00:00</td>\n",
       "      <td>0.0</td>\n",
       "    </tr>\n",
       "    <tr>\n",
       "      <th>1</th>\n",
       "      <td>10000032</td>\n",
       "      <td>29079034</td>\n",
       "      <td>39553978</td>\n",
       "      <td>2180-07-23 15:00:00</td>\n",
       "      <td>175.0</td>\n",
       "    </tr>\n",
       "    <tr>\n",
       "      <th>2</th>\n",
       "      <td>10000032</td>\n",
       "      <td>29079034</td>\n",
       "      <td>39553978</td>\n",
       "      <td>2180-07-23 16:00:00</td>\n",
       "      <td>0.0</td>\n",
       "    </tr>\n",
       "    <tr>\n",
       "      <th>3</th>\n",
       "      <td>10000032</td>\n",
       "      <td>29079034</td>\n",
       "      <td>39553978</td>\n",
       "      <td>2180-07-23 17:00:00</td>\n",
       "      <td>0.0</td>\n",
       "    </tr>\n",
       "    <tr>\n",
       "      <th>4</th>\n",
       "      <td>10000032</td>\n",
       "      <td>29079034</td>\n",
       "      <td>39553978</td>\n",
       "      <td>2180-07-23 18:00:00</td>\n",
       "      <td>0.0</td>\n",
       "    </tr>\n",
       "    <tr>\n",
       "      <th>...</th>\n",
       "      <td>...</td>\n",
       "      <td>...</td>\n",
       "      <td>...</td>\n",
       "      <td>...</td>\n",
       "      <td>...</td>\n",
       "    </tr>\n",
       "    <tr>\n",
       "      <th>42</th>\n",
       "      <td>19999987</td>\n",
       "      <td>23865745</td>\n",
       "      <td>36195440</td>\n",
       "      <td>2145-11-04 16:59:00</td>\n",
       "      <td>0.0</td>\n",
       "    </tr>\n",
       "    <tr>\n",
       "      <th>43</th>\n",
       "      <td>19999987</td>\n",
       "      <td>23865745</td>\n",
       "      <td>36195440</td>\n",
       "      <td>2145-11-04 17:59:00</td>\n",
       "      <td>0.0</td>\n",
       "    </tr>\n",
       "    <tr>\n",
       "      <th>44</th>\n",
       "      <td>19999987</td>\n",
       "      <td>23865745</td>\n",
       "      <td>36195440</td>\n",
       "      <td>2145-11-04 18:59:00</td>\n",
       "      <td>0.0</td>\n",
       "    </tr>\n",
       "    <tr>\n",
       "      <th>45</th>\n",
       "      <td>19999987</td>\n",
       "      <td>23865745</td>\n",
       "      <td>36195440</td>\n",
       "      <td>2145-11-04 19:59:00</td>\n",
       "      <td>325.0</td>\n",
       "    </tr>\n",
       "    <tr>\n",
       "      <th>46</th>\n",
       "      <td>19999987</td>\n",
       "      <td>23865745</td>\n",
       "      <td>36195440</td>\n",
       "      <td>2145-11-04 20:59:00</td>\n",
       "      <td>0.0</td>\n",
       "    </tr>\n",
       "  </tbody>\n",
       "</table>\n",
       "<p>6099434 rows × 5 columns</p>\n",
       "</div>"
      ],
      "text/plain": [
       "    subject_id   hadm_id   stay_id           charttime     uo\n",
       "0     10000032  29079034  39553978 2180-07-23 14:00:00    0.0\n",
       "1     10000032  29079034  39553978 2180-07-23 15:00:00  175.0\n",
       "2     10000032  29079034  39553978 2180-07-23 16:00:00    0.0\n",
       "3     10000032  29079034  39553978 2180-07-23 17:00:00    0.0\n",
       "4     10000032  29079034  39553978 2180-07-23 18:00:00    0.0\n",
       "..         ...       ...       ...                 ...    ...\n",
       "42    19999987  23865745  36195440 2145-11-04 16:59:00    0.0\n",
       "43    19999987  23865745  36195440 2145-11-04 17:59:00    0.0\n",
       "44    19999987  23865745  36195440 2145-11-04 18:59:00    0.0\n",
       "45    19999987  23865745  36195440 2145-11-04 19:59:00  325.0\n",
       "46    19999987  23865745  36195440 2145-11-04 20:59:00    0.0\n",
       "\n",
       "[6099434 rows x 5 columns]"
      ]
     },
     "execution_count": 49,
     "metadata": {},
     "output_type": "execute_result"
    }
   ],
   "source": [
    "resample_uo"
   ]
  },
  {
   "cell_type": "code",
   "execution_count": 54,
   "metadata": {},
   "outputs": [],
   "source": [
    "def AKI_UO_annotation(resample_uo,admission_weight):\n",
    "    for i in tqdm(range(6,49,1)):\n",
    "        rolling_avg=resample_uo.groupby('stay_id').rolling(window=str(i)+'H', on='charttime',min_periods=i)['uo'].mean().reset_index()\n",
    "        rolling_avg.rename(columns={'uo':'roll_%iH' % i},inplace=True)\n",
    "        resample_uo = pd.merge(resample_uo,rolling_avg,on=['stay_id','charttime'],how='left')\n",
    "        df = pd.merge(resample_uo,admission_weight,on=['subject_id','stay_id'],how='left')\n",
    "    df['6-12H_min'] = df[df.columns[6:13]].min(axis=1)/df['valuenum']\n",
    "    df['12H-_min'] = df[df.columns[12:49]].min(axis=1)/df['valuenum']\n",
    "    df['24H-_min'] = df[df.columns[24:49]].min(axis=1)/df['valuenum']\n",
    "    df['AKI_UO']=0\n",
    "    df.loc[df['6-12H_min']<0.5, 'AKI_UO'] = 1\n",
    "    df.loc[df['12H-_min']<0.5, 'AKI_UO'] = 2\n",
    "    df.loc[df['12H-_min']==0, 'AKI_UO'] = 3\n",
    "    df.loc[df['24H-_min']<0.3, 'AKI_UO'] = 3\n",
    "    df['presense_AKI_UO'] = 1\n",
    "    df.loc[df['roll_6H'].isna(),'presense_AKI_UO']=0\n",
    "    df = df[['subject_id','hadm_id','stay_id','charttime','AKI_UO','presense_AKI_UO']]\n",
    "    return df"
   ]
  },
  {
   "cell_type": "code",
   "execution_count": 55,
   "metadata": {},
   "outputs": [
    {
     "name": "stderr",
     "output_type": "stream",
     "text": [
      "  0%|          | 0/43 [00:00<?, ?it/s]"
     ]
    },
    {
     "name": "stderr",
     "output_type": "stream",
     "text": [
      "100%|██████████| 43/43 [07:11<00:00, 10.03s/it]\n"
     ]
    },
    {
     "data": {
      "text/plain": [
       "AKI_UO\n",
       "0    3695199\n",
       "2     972590\n",
       "3     967805\n",
       "1     463840\n",
       "Name: count, dtype: int64"
      ]
     },
     "execution_count": 55,
     "metadata": {},
     "output_type": "execute_result"
    }
   ],
   "source": [
    "resample_AKI_UO = AKI_UO_annotation(resample_uo,admission_weight)\n",
    "resample_AKI_UO.to_parquet('./data/resample/measures/resample_AKI_UO.parquet')\n",
    "resample_AKI_UO.AKI_UO.value_counts()"
   ]
  },
  {
   "cell_type": "code",
   "execution_count": 90,
   "metadata": {},
   "outputs": [
    {
     "data": {
      "text/html": [
       "<div>\n",
       "<style scoped>\n",
       "    .dataframe tbody tr th:only-of-type {\n",
       "        vertical-align: middle;\n",
       "    }\n",
       "\n",
       "    .dataframe tbody tr th {\n",
       "        vertical-align: top;\n",
       "    }\n",
       "\n",
       "    .dataframe thead th {\n",
       "        text-align: right;\n",
       "    }\n",
       "</style>\n",
       "<table border=\"1\" class=\"dataframe\">\n",
       "  <thead>\n",
       "    <tr style=\"text-align: right;\">\n",
       "      <th></th>\n",
       "      <th>subject_id</th>\n",
       "      <th>hadm_id</th>\n",
       "      <th>stay_id</th>\n",
       "      <th>charttime</th>\n",
       "      <th>AKI_UO</th>\n",
       "      <th>presense_AKI_UO</th>\n",
       "    </tr>\n",
       "  </thead>\n",
       "  <tbody>\n",
       "    <tr>\n",
       "      <th>0</th>\n",
       "      <td>10000032</td>\n",
       "      <td>29079034</td>\n",
       "      <td>39553978</td>\n",
       "      <td>2180-07-23 14:00:00</td>\n",
       "      <td>0</td>\n",
       "      <td>0</td>\n",
       "    </tr>\n",
       "    <tr>\n",
       "      <th>1</th>\n",
       "      <td>10000032</td>\n",
       "      <td>29079034</td>\n",
       "      <td>39553978</td>\n",
       "      <td>2180-07-23 15:00:00</td>\n",
       "      <td>0</td>\n",
       "      <td>0</td>\n",
       "    </tr>\n",
       "    <tr>\n",
       "      <th>2</th>\n",
       "      <td>10000032</td>\n",
       "      <td>29079034</td>\n",
       "      <td>39553978</td>\n",
       "      <td>2180-07-23 16:00:00</td>\n",
       "      <td>0</td>\n",
       "      <td>0</td>\n",
       "    </tr>\n",
       "    <tr>\n",
       "      <th>3</th>\n",
       "      <td>10000032</td>\n",
       "      <td>29079034</td>\n",
       "      <td>39553978</td>\n",
       "      <td>2180-07-23 17:00:00</td>\n",
       "      <td>0</td>\n",
       "      <td>0</td>\n",
       "    </tr>\n",
       "    <tr>\n",
       "      <th>4</th>\n",
       "      <td>10000032</td>\n",
       "      <td>29079034</td>\n",
       "      <td>39553978</td>\n",
       "      <td>2180-07-23 18:00:00</td>\n",
       "      <td>0</td>\n",
       "      <td>0</td>\n",
       "    </tr>\n",
       "    <tr>\n",
       "      <th>...</th>\n",
       "      <td>...</td>\n",
       "      <td>...</td>\n",
       "      <td>...</td>\n",
       "      <td>...</td>\n",
       "      <td>...</td>\n",
       "      <td>...</td>\n",
       "    </tr>\n",
       "    <tr>\n",
       "      <th>6099429</th>\n",
       "      <td>19999987</td>\n",
       "      <td>23865745</td>\n",
       "      <td>36195440</td>\n",
       "      <td>2145-11-04 16:59:00</td>\n",
       "      <td>2</td>\n",
       "      <td>1</td>\n",
       "    </tr>\n",
       "    <tr>\n",
       "      <th>6099430</th>\n",
       "      <td>19999987</td>\n",
       "      <td>23865745</td>\n",
       "      <td>36195440</td>\n",
       "      <td>2145-11-04 17:59:00</td>\n",
       "      <td>2</td>\n",
       "      <td>1</td>\n",
       "    </tr>\n",
       "    <tr>\n",
       "      <th>6099431</th>\n",
       "      <td>19999987</td>\n",
       "      <td>23865745</td>\n",
       "      <td>36195440</td>\n",
       "      <td>2145-11-04 18:59:00</td>\n",
       "      <td>2</td>\n",
       "      <td>1</td>\n",
       "    </tr>\n",
       "    <tr>\n",
       "      <th>6099432</th>\n",
       "      <td>19999987</td>\n",
       "      <td>23865745</td>\n",
       "      <td>36195440</td>\n",
       "      <td>2145-11-04 19:59:00</td>\n",
       "      <td>1</td>\n",
       "      <td>1</td>\n",
       "    </tr>\n",
       "    <tr>\n",
       "      <th>6099433</th>\n",
       "      <td>19999987</td>\n",
       "      <td>23865745</td>\n",
       "      <td>36195440</td>\n",
       "      <td>2145-11-04 20:59:00</td>\n",
       "      <td>1</td>\n",
       "      <td>1</td>\n",
       "    </tr>\n",
       "  </tbody>\n",
       "</table>\n",
       "<p>6099434 rows × 6 columns</p>\n",
       "</div>"
      ],
      "text/plain": [
       "         subject_id   hadm_id   stay_id           charttime  AKI_UO  \\\n",
       "0          10000032  29079034  39553978 2180-07-23 14:00:00       0   \n",
       "1          10000032  29079034  39553978 2180-07-23 15:00:00       0   \n",
       "2          10000032  29079034  39553978 2180-07-23 16:00:00       0   \n",
       "3          10000032  29079034  39553978 2180-07-23 17:00:00       0   \n",
       "4          10000032  29079034  39553978 2180-07-23 18:00:00       0   \n",
       "...             ...       ...       ...                 ...     ...   \n",
       "6099429    19999987  23865745  36195440 2145-11-04 16:59:00       2   \n",
       "6099430    19999987  23865745  36195440 2145-11-04 17:59:00       2   \n",
       "6099431    19999987  23865745  36195440 2145-11-04 18:59:00       2   \n",
       "6099432    19999987  23865745  36195440 2145-11-04 19:59:00       1   \n",
       "6099433    19999987  23865745  36195440 2145-11-04 20:59:00       1   \n",
       "\n",
       "         presense_AKI_UO  \n",
       "0                      0  \n",
       "1                      0  \n",
       "2                      0  \n",
       "3                      0  \n",
       "4                      0  \n",
       "...                  ...  \n",
       "6099429                1  \n",
       "6099430                1  \n",
       "6099431                1  \n",
       "6099432                1  \n",
       "6099433                1  \n",
       "\n",
       "[6099434 rows x 6 columns]"
      ]
     },
     "execution_count": 90,
     "metadata": {},
     "output_type": "execute_result"
    }
   ],
   "source": [
    "resample_AKI_UO"
   ]
  },
  {
   "cell_type": "code",
   "execution_count": null,
   "metadata": {},
   "outputs": [],
   "source": [
    "if not os.path.isfile('./data/resample/measures/resample_AKI_UO.parquet'):\n",
    "    resample_AKI_UO = utils.AKI_UO_annotation(resample_uo,admission_weight)\n",
    "    resample_AKI_UO.to_parquet('./data/resample/measures/resample_AKI_UO.parquet')\n",
    "else: resample_AKI_UO = pd.read_parquet('./data/resample/measures/resample_AKI_UO.parquet')\n",
    "resample_AKI_UO.AKI_UO.value_counts()"
   ]
  },
  {
   "cell_type": "markdown",
   "metadata": {},
   "source": [
    "## AKI_SCr"
   ]
  },
  {
   "cell_type": "code",
   "execution_count": 56,
   "metadata": {},
   "outputs": [],
   "source": [
    "def AKI_SCr_annotation(resample_SCr,baseline_SCr,resample_rrt):\n",
    "    df = resample_SCr.copy()\n",
    "    df = pd.merge(df,baseline_SCr,on=['subject_id','hadm_id','stay_id'],how='left')\n",
    "    df = pd.merge(df,resample_rrt,on=['subject_id','hadm_id','stay_id','charttime'],how='left')\n",
    "    df.loc[df['presense_SCr']==0, 'SCr'] = np.nan\n",
    "    SCr_48hrs_min = df.groupby('stay_id').rolling(window='48H', on='charttime')['SCr'].min().reset_index()\n",
    "    SCr_48hrs_min.rename(columns={'SCr':'SCr_48hrs_min'},inplace=True)\n",
    "    df = pd.merge(df,SCr_48hrs_min,on=['stay_id','charttime'],how='left')\n",
    "    \n",
    "    df['AKI_SCr'] = 0\n",
    "    df.loc[((df['SCr']>=1.5*df['baseline_SCr'])&(df['SCr']<2.0*df['baseline_SCr']))|(df['SCr']>=0.3+df['SCr_48hrs_min']), 'AKI_SCr'] = 1\n",
    "    df.loc[(df['SCr']>=2.0*df['baseline_SCr'])&(df['SCr']<3.0*df['baseline_SCr']), 'AKI_SCr'] = 2\n",
    "    df.loc[(df['SCr']>=3.0*df['baseline_SCr'])|((df['SCr']>=0.3+df['SCr_48hrs_min'])&(df['SCr']>=4.0))|(df['RRT']>0), 'AKI_SCr'] = 3\n",
    "    df['presense_AKI_SCr'] = df['presense_SCr']\n",
    "    df = df[['subject_id','hadm_id','stay_id','charttime','AKI_SCr','presense_AKI_SCr']]    \n",
    "    return df"
   ]
  },
  {
   "cell_type": "code",
   "execution_count": 92,
   "metadata": {},
   "outputs": [],
   "source": [
    "resample_AKI_SCr.rename(columns={'presense_SCr':'presense_AKI_SCr'},inplace=True)"
   ]
  },
  {
   "cell_type": "code",
   "execution_count": 57,
   "metadata": {},
   "outputs": [],
   "source": [
    "resample_AKI_SCr = AKI_SCr_annotation(resample_SCr,baseline_SCr,resample_rrt)\n",
    "resample_AKI_SCr.AKI_SCr.value_counts()\n",
    "resample_AKI_SCr.to_parquet('./data/resample/measures/resample_AKI_UO.parquet')"
   ]
  },
  {
   "cell_type": "code",
   "execution_count": null,
   "metadata": {},
   "outputs": [],
   "source": [
    "if not os.path.isfile('./data/resample/measures/resample_AKI_SCr.parquet'):\n",
    "    resample_AKI_SCr = utils.AKI_SCr_annotation(resample_SCr,baseline_SCr,resample_rrt)\n",
    "    resample_AKI_SCr.to_parquet('./data/resample/measures/resample_AKI_UO.parquet')\n",
    "else: resample_AKI_SCr = pd.read_parquet('./data/resample/measures/resample_AKI_UO.parquet')\n",
    "resample_AKI_SCr.AKI_SCr.value_counts()"
   ]
  },
  {
   "cell_type": "markdown",
   "metadata": {},
   "source": [
    "# Merge"
   ]
  },
  {
   "cell_type": "code",
   "execution_count": 93,
   "metadata": {},
   "outputs": [
    {
     "name": "stderr",
     "output_type": "stream",
     "text": [
      "  0%|          | 0/9 [00:00<?, ?it/s]"
     ]
    },
    {
     "name": "stdout",
     "output_type": "stream",
     "text": [
      "Merge HR...\n"
     ]
    },
    {
     "name": "stderr",
     "output_type": "stream",
     "text": [
      " 11%|█         | 1/9 [00:00<00:02,  3.90it/s]"
     ]
    },
    {
     "name": "stdout",
     "output_type": "stream",
     "text": [
      "Merge SBP...\n"
     ]
    },
    {
     "name": "stderr",
     "output_type": "stream",
     "text": [
      " 22%|██▏       | 2/9 [00:03<00:14,  2.01s/it]"
     ]
    },
    {
     "name": "stdout",
     "output_type": "stream",
     "text": [
      "Merge DBP...\n"
     ]
    },
    {
     "name": "stderr",
     "output_type": "stream",
     "text": [
      " 33%|███▎      | 3/9 [00:06<00:14,  2.45s/it]"
     ]
    },
    {
     "name": "stdout",
     "output_type": "stream",
     "text": [
      "Merge MAP...\n"
     ]
    },
    {
     "name": "stderr",
     "output_type": "stream",
     "text": [
      " 44%|████▍     | 4/9 [00:09<00:13,  2.69s/it]"
     ]
    },
    {
     "name": "stdout",
     "output_type": "stream",
     "text": [
      "Merge temp...\n"
     ]
    },
    {
     "name": "stderr",
     "output_type": "stream",
     "text": [
      " 56%|█████▌    | 5/9 [00:12<00:11,  2.84s/it]"
     ]
    },
    {
     "name": "stdout",
     "output_type": "stream",
     "text": [
      "Merge RR...\n"
     ]
    },
    {
     "name": "stderr",
     "output_type": "stream",
     "text": [
      " 67%|██████▋   | 6/9 [00:15<00:08,  2.95s/it]"
     ]
    },
    {
     "name": "stdout",
     "output_type": "stream",
     "text": [
      "Merge CVP...\n"
     ]
    },
    {
     "name": "stderr",
     "output_type": "stream",
     "text": [
      " 78%|███████▊  | 7/9 [00:18<00:05,  2.95s/it]"
     ]
    },
    {
     "name": "stdout",
     "output_type": "stream",
     "text": [
      "Merge SaO2...\n"
     ]
    },
    {
     "name": "stderr",
     "output_type": "stream",
     "text": [
      " 89%|████████▉ | 8/9 [00:21<00:02,  2.97s/it]"
     ]
    },
    {
     "name": "stdout",
     "output_type": "stream",
     "text": [
      "Merge FiO2...\n"
     ]
    },
    {
     "name": "stderr",
     "output_type": "stream",
     "text": [
      "100%|██████████| 9/9 [00:24<00:00,  2.77s/it]\n",
      "  0%|          | 0/30 [00:00<?, ?it/s]"
     ]
    },
    {
     "name": "stdout",
     "output_type": "stream",
     "text": [
      "Merge Alb...\n"
     ]
    },
    {
     "name": "stderr",
     "output_type": "stream",
     "text": [
      "  3%|▎         | 1/30 [00:03<01:49,  3.78s/it]"
     ]
    },
    {
     "name": "stdout",
     "output_type": "stream",
     "text": [
      "Merge Alk_Phos...\n"
     ]
    },
    {
     "name": "stderr",
     "output_type": "stream",
     "text": [
      "  7%|▋         | 2/30 [00:07<01:48,  3.89s/it]"
     ]
    },
    {
     "name": "stdout",
     "output_type": "stream",
     "text": [
      "Merge AG...\n"
     ]
    },
    {
     "name": "stderr",
     "output_type": "stream",
     "text": [
      " 10%|█         | 3/30 [00:11<01:45,  3.90s/it]"
     ]
    },
    {
     "name": "stdout",
     "output_type": "stream",
     "text": [
      "Merge BUN...\n"
     ]
    },
    {
     "name": "stderr",
     "output_type": "stream",
     "text": [
      " 13%|█▎        | 4/30 [00:15<01:42,  3.96s/it]"
     ]
    },
    {
     "name": "stdout",
     "output_type": "stream",
     "text": [
      "Merge Ca...\n"
     ]
    },
    {
     "name": "stderr",
     "output_type": "stream",
     "text": [
      " 17%|█▋        | 5/30 [00:19<01:39,  3.99s/it]"
     ]
    },
    {
     "name": "stdout",
     "output_type": "stream",
     "text": [
      "Merge CK...\n"
     ]
    },
    {
     "name": "stderr",
     "output_type": "stream",
     "text": [
      " 20%|██        | 6/30 [00:23<01:36,  4.01s/it]"
     ]
    },
    {
     "name": "stdout",
     "output_type": "stream",
     "text": [
      "Merge D_Bil...\n"
     ]
    },
    {
     "name": "stderr",
     "output_type": "stream",
     "text": [
      " 23%|██▎       | 7/30 [00:28<01:33,  4.08s/it]"
     ]
    },
    {
     "name": "stdout",
     "output_type": "stream",
     "text": [
      "Merge Glu...\n"
     ]
    },
    {
     "name": "stderr",
     "output_type": "stream",
     "text": [
      " 27%|██▋       | 8/30 [00:32<01:30,  4.10s/it]"
     ]
    },
    {
     "name": "stdout",
     "output_type": "stream",
     "text": [
      "Merge HCT...\n"
     ]
    },
    {
     "name": "stderr",
     "output_type": "stream",
     "text": [
      " 30%|███       | 9/30 [00:36<01:26,  4.10s/it]"
     ]
    },
    {
     "name": "stdout",
     "output_type": "stream",
     "text": [
      "Merge INR...\n"
     ]
    },
    {
     "name": "stderr",
     "output_type": "stream",
     "text": [
      " 33%|███▎      | 10/30 [00:40<01:22,  4.14s/it]"
     ]
    },
    {
     "name": "stdout",
     "output_type": "stream",
     "text": [
      "Merge PH...\n"
     ]
    },
    {
     "name": "stderr",
     "output_type": "stream",
     "text": [
      " 37%|███▋      | 11/30 [00:44<01:18,  4.14s/it]"
     ]
    },
    {
     "name": "stdout",
     "output_type": "stream",
     "text": [
      "Merge PHOS...\n"
     ]
    },
    {
     "name": "stderr",
     "output_type": "stream",
     "text": [
      " 40%|████      | 12/30 [00:48<01:14,  4.13s/it]"
     ]
    },
    {
     "name": "stdout",
     "output_type": "stream",
     "text": [
      "Merge Platelet...\n"
     ]
    },
    {
     "name": "stderr",
     "output_type": "stream",
     "text": [
      " 43%|████▎     | 13/30 [00:52<01:10,  4.15s/it]"
     ]
    },
    {
     "name": "stdout",
     "output_type": "stream",
     "text": [
      "Merge Cl...\n"
     ]
    },
    {
     "name": "stderr",
     "output_type": "stream",
     "text": [
      " 47%|████▋     | 14/30 [00:57<01:06,  4.14s/it]"
     ]
    },
    {
     "name": "stdout",
     "output_type": "stream",
     "text": [
      "Merge SCr...\n"
     ]
    },
    {
     "name": "stderr",
     "output_type": "stream",
     "text": [
      " 50%|█████     | 15/30 [01:01<01:02,  4.16s/it]"
     ]
    },
    {
     "name": "stdout",
     "output_type": "stream",
     "text": [
      "Merge Na...\n"
     ]
    },
    {
     "name": "stderr",
     "output_type": "stream",
     "text": [
      " 53%|█████▎    | 16/30 [01:05<00:58,  4.18s/it]"
     ]
    },
    {
     "name": "stdout",
     "output_type": "stream",
     "text": [
      "Merge Potassium...\n"
     ]
    },
    {
     "name": "stderr",
     "output_type": "stream",
     "text": [
      " 57%|█████▋    | 17/30 [01:09<00:54,  4.19s/it]"
     ]
    },
    {
     "name": "stdout",
     "output_type": "stream",
     "text": [
      "Merge T_Bil...\n"
     ]
    },
    {
     "name": "stderr",
     "output_type": "stream",
     "text": [
      " 60%|██████    | 18/30 [01:14<00:50,  4.25s/it]"
     ]
    },
    {
     "name": "stdout",
     "output_type": "stream",
     "text": [
      "Merge WBC...\n"
     ]
    },
    {
     "name": "stderr",
     "output_type": "stream",
     "text": [
      " 63%|██████▎   | 19/30 [01:18<00:46,  4.24s/it]"
     ]
    },
    {
     "name": "stdout",
     "output_type": "stream",
     "text": [
      "Merge Gl...\n"
     ]
    },
    {
     "name": "stderr",
     "output_type": "stream",
     "text": [
      " 67%|██████▋   | 20/30 [01:22<00:42,  4.26s/it]"
     ]
    },
    {
     "name": "stdout",
     "output_type": "stream",
     "text": [
      "Merge Mg...\n"
     ]
    },
    {
     "name": "stderr",
     "output_type": "stream",
     "text": [
      " 70%|███████   | 21/30 [01:26<00:38,  4.27s/it]"
     ]
    },
    {
     "name": "stdout",
     "output_type": "stream",
     "text": [
      "Merge Ca_ion...\n"
     ]
    },
    {
     "name": "stderr",
     "output_type": "stream",
     "text": [
      " 73%|███████▎  | 22/30 [01:30<00:33,  4.20s/it]"
     ]
    },
    {
     "name": "stdout",
     "output_type": "stream",
     "text": [
      "Merge HCO3...\n"
     ]
    },
    {
     "name": "stderr",
     "output_type": "stream",
     "text": [
      " 77%|███████▋  | 23/30 [01:34<00:29,  4.15s/it]"
     ]
    },
    {
     "name": "stdout",
     "output_type": "stream",
     "text": [
      "Merge AST...\n"
     ]
    },
    {
     "name": "stderr",
     "output_type": "stream",
     "text": [
      " 80%|████████  | 24/30 [01:39<00:24,  4.13s/it]"
     ]
    },
    {
     "name": "stdout",
     "output_type": "stream",
     "text": [
      "Merge ALT...\n"
     ]
    },
    {
     "name": "stderr",
     "output_type": "stream",
     "text": [
      " 83%|████████▎ | 25/30 [01:43<00:20,  4.16s/it]"
     ]
    },
    {
     "name": "stdout",
     "output_type": "stream",
     "text": [
      "Merge PTT...\n"
     ]
    },
    {
     "name": "stderr",
     "output_type": "stream",
     "text": [
      " 87%|████████▋ | 26/30 [01:47<00:16,  4.16s/it]"
     ]
    },
    {
     "name": "stdout",
     "output_type": "stream",
     "text": [
      "Merge baseexcess...\n"
     ]
    },
    {
     "name": "stderr",
     "output_type": "stream",
     "text": [
      " 90%|█████████ | 27/30 [01:51<00:12,  4.20s/it]"
     ]
    },
    {
     "name": "stdout",
     "output_type": "stream",
     "text": [
      "Merge lactate...\n"
     ]
    },
    {
     "name": "stderr",
     "output_type": "stream",
     "text": [
      " 93%|█████████▎| 28/30 [01:55<00:08,  4.20s/it]"
     ]
    },
    {
     "name": "stdout",
     "output_type": "stream",
     "text": [
      "Merge PaO2...\n"
     ]
    },
    {
     "name": "stderr",
     "output_type": "stream",
     "text": [
      " 97%|█████████▋| 29/30 [02:00<00:04,  4.22s/it]"
     ]
    },
    {
     "name": "stdout",
     "output_type": "stream",
     "text": [
      "Merge PaCO2...\n"
     ]
    },
    {
     "name": "stderr",
     "output_type": "stream",
     "text": [
      "100%|██████████| 30/30 [02:04<00:00,  4.15s/it]\n"
     ]
    }
   ],
   "source": [
    "# merge vital\n",
    "vitallist = ['HR','SBP','DBP','MAP','temp','RR','CVP','SaO2','FiO2']\n",
    "for i,idx in enumerate(tqdm(vitallist)):\n",
    "    print(\"Merge %s...\"%idx)\n",
    "    if i == 0 : resample_merge = globals()['resample_{}'.format(idx)].copy()\n",
    "    else : resample_merge = pd.merge(resample_merge,globals()['resample_{}'.format(idx)],on=['subject_id','hadm_id','stay_id','charttime'],how='left')\n",
    "\n",
    "#merge labvalues\n",
    "for i,idx in enumerate(tqdm(labvalues.abbreviation)):\n",
    "    print(\"Merge %s...\"%idx)\n",
    "    resample_merge = pd.merge(resample_merge,globals()['resample_{}'.format(idx)],on=['subject_id','hadm_id','stay_id','charttime'],how='left')\n"
   ]
  },
  {
   "cell_type": "code",
   "execution_count": 94,
   "metadata": {},
   "outputs": [],
   "source": [
    "# merge demographic\n",
    "resample_merge = pd.merge(resample_merge,patients_gender,on=['subject_id'],how='left')\n",
    "resample_merge = pd.merge(resample_merge,admissions_race,on=['subject_id'],how='left')\n",
    "resample_merge = pd.merge(resample_merge,admission_weight,on=['subject_id','stay_id'],how='left')\n",
    "resample_merge = pd.merge(resample_merge,icustays_age,on=['subject_id','hadm_id','stay_id'],how='left')\n",
    "resample_merge = pd.merge(resample_merge,comorbidities,on=['subject_id','hadm_id','stay_id'],how='left')\n",
    "resample_merge = pd.merge(resample_merge,baseline_SCr,on=['subject_id','hadm_id','stay_id'],how='left')\n"
   ]
  },
  {
   "cell_type": "code",
   "execution_count": 95,
   "metadata": {},
   "outputs": [],
   "source": [
    "# merge measures\n",
    "resample_merge = pd.merge(resample_merge,resample_uo,on=['subject_id','hadm_id','stay_id','charttime'],how='left')\n",
    "resample_merge = pd.merge(resample_merge,resample_SOFA,on=['subject_id','hadm_id','stay_id','charttime'],how='left')\n",
    "resample_merge = pd.merge(resample_merge,resample_AKI_UO,on=['subject_id','hadm_id','stay_id','charttime'],how='left')\n",
    "resample_merge = pd.merge(resample_merge,resample_AKI_SCr,on=['subject_id','hadm_id','stay_id','charttime'],how='left')\n",
    "resample_merge['AKI'] = resample_merge[['AKI_UO','AKI_SCr']].max(axis=1)\n",
    "resample_merge['presense_AKI'] = 0\n",
    "resample_merge.loc[(resample_merge['presense_AKI_UO']==1)|(resample_merge['presense_AKI_SCr']==1),'presense_AKI'] = 1"
   ]
  },
  {
   "cell_type": "code",
   "execution_count": 96,
   "metadata": {},
   "outputs": [],
   "source": [
    "# merge procedures & inputs\n",
    "resample_merge = pd.merge(resample_merge,resample_ventilation,on=['subject_id','hadm_id','stay_id','charttime'],how='left')\n",
    "resample_merge = pd.merge(resample_merge,resample_fluids,on=['subject_id','hadm_id','stay_id','charttime'],how='left')\n",
    "resample_merge = pd.merge(resample_merge,resample_vasopressor,on=['subject_id','hadm_id','stay_id','charttime'],how='left')\n",
    "resample_antibiotics.rename(columns={'starttime':'charttime'},inplace=True)\n",
    "resample_merge = pd.merge(resample_merge,resample_antibiotics,on=['stay_id','charttime'],how='left')"
   ]
  },
  {
   "cell_type": "code",
   "execution_count": 97,
   "metadata": {},
   "outputs": [],
   "source": [
    "resample_merge[['Cephalosporins', 'Vancomycin', 'Betalactam_comb', 'Metronidazole',\n",
    "       'Carbapenems', 'Penicillins', 'Fluoroquinolones', 'Others',\n",
    "       'category_count']] = resample_merge[['Cephalosporins', 'Vancomycin', 'Betalactam_comb', 'Metronidazole',\n",
    "       'Carbapenems', 'Penicillins', 'Fluoroquinolones', 'Others',\n",
    "       'category_count']].fillna(0)"
   ]
  },
  {
   "cell_type": "code",
   "execution_count": 98,
   "metadata": {},
   "outputs": [],
   "source": [
    "# Derived variables\n",
    "resample_merge['SCr/baseline_SCr'] = resample_merge['SCr'] / resample_merge['baseline_SCr']\n",
    "resample_merge['delta_SCr'] = resample_merge['SCr'] - resample_merge['baseline_SCr']\n",
    "resample_merge['BUN/SCr'] = resample_merge['BUN'] / resample_merge['SCr']\n",
    "\n",
    "resample_merge.rename(columns={'valuenum':'weight'},inplace=True)"
   ]
  },
  {
   "cell_type": "code",
   "execution_count": 99,
   "metadata": {},
   "outputs": [
    {
     "data": {
      "text/plain": [
       "126"
      ]
     },
     "execution_count": 99,
     "metadata": {},
     "output_type": "execute_result"
    }
   ],
   "source": [
    "len(resample_merge.columns)"
   ]
  },
  {
   "cell_type": "code",
   "execution_count": 89,
   "metadata": {},
   "outputs": [],
   "source": [
    "resample_merge.to_parquet('./data/resample/resample_merge.parquet')"
   ]
  },
  {
   "cell_type": "code",
   "execution_count": null,
   "metadata": {},
   "outputs": [],
   "source": []
  },
  {
   "cell_type": "code",
   "execution_count": null,
   "metadata": {},
   "outputs": [],
   "source": [
    "if not os.path.isfile('./data/resample/resample_merge.parquet'):\n",
    "    resample_merge.to_parquet('./data/resample/resample_merge.parquet')\n",
    "else : resample_merge = pd.read_parquet('./data/resample/resample_merge.parquet')"
   ]
  },
  {
   "cell_type": "markdown",
   "metadata": {},
   "source": [
    "# Dead"
   ]
  },
  {
   "cell_type": "code",
   "execution_count": 63,
   "metadata": {},
   "outputs": [],
   "source": [
    "for i in [x for x in admissions.columns if 'time' in x]:\n",
    "    admissions[i] = pd.to_datetime(admissions[i])"
   ]
  },
  {
   "cell_type": "code",
   "execution_count": 64,
   "metadata": {},
   "outputs": [],
   "source": [
    "patients['dod'] = pd.to_datetime(patients['dod'])"
   ]
  },
  {
   "cell_type": "code",
   "execution_count": 65,
   "metadata": {},
   "outputs": [],
   "source": [
    "admissions_disch_dead = admissions[admissions['discharge_location']=='DIED'][['subject_id','hadm_id','dischtime']]\n",
    "admissions_deathtime_dead = admissions[~admissions['deathtime'].isna()][['subject_id','hadm_id','deathtime']]\n",
    "patients_dead = patients[~patients['dod'].isna()][['subject_id','dod']]"
   ]
  },
  {
   "cell_type": "code",
   "execution_count": 66,
   "metadata": {},
   "outputs": [],
   "source": [
    "def cal_dead(admissions, patients, icustays):\n",
    "    for i in [x for x in admissions.columns if 'time' in x]:\n",
    "        admissions[i] = pd.to_datetime(admissions[i])\n",
    "    patients['dod'] = pd.to_datetime(patients['dod'])\n",
    "\n",
    "    admissions_disch_dead = admissions[admissions['discharge_location']=='DIED'][['subject_id','hadm_id','dischtime']]\n",
    "    admissions_deathtime_dead = admissions[~admissions['deathtime'].isna()][['subject_id','hadm_id','deathtime']]\n",
    "    patients_dead = patients[~patients['dod'].isna()][['subject_id','dod']]\n",
    "\n",
    "    tmp = pd.merge(patients,admissions_disch_dead,on=['subject_id'],how='left')\n",
    "    tmp = pd.merge(tmp,admissions_deathtime_dead,on='subject_id',how='left')\n",
    "\n",
    "    tmp = tmp[['subject_id','dod','dischtime','deathtime']]\n",
    "    tmp = pd.merge(tmp,icustays[['subject_id','stay_id','outtime']],on='subject_id',how='left')\n",
    "    tmp = tmp[~tmp['stay_id'].isna()][['subject_id','stay_id','dod','dischtime','deathtime','outtime']]\n",
    "\n",
    "    tmp['deadtime'] = np.where(\n",
    "    pd.notnull(tmp['dischtime']) & pd.notnull(tmp['deathtime']),\n",
    "    np.minimum(tmp['dischtime'], tmp['deathtime']),\n",
    "    np.where(pd.notnull(tmp['dischtime']), tmp['dischtime'],\n",
    "             np.where(pd.notnull(tmp['deathtime']), tmp['deathtime'], tmp['dod']))\n",
    "    )\n",
    "\n",
    "    # dead 플래그 계산\n",
    "    tmp['dead'] = np.where(tmp['deadtime'] <= tmp['outtime'], 1, 0)\n",
    "    return tmp[['subject_id','stay_id','deadtime','dead']]"
   ]
  },
  {
   "cell_type": "code",
   "execution_count": 67,
   "metadata": {},
   "outputs": [],
   "source": [
    "dead = cal_dead(admissions, patients, icustays)"
   ]
  },
  {
   "cell_type": "code",
   "execution_count": 68,
   "metadata": {},
   "outputs": [
    {
     "data": {
      "text/html": [
       "<div>\n",
       "<style scoped>\n",
       "    .dataframe tbody tr th:only-of-type {\n",
       "        vertical-align: middle;\n",
       "    }\n",
       "\n",
       "    .dataframe tbody tr th {\n",
       "        vertical-align: top;\n",
       "    }\n",
       "\n",
       "    .dataframe thead th {\n",
       "        text-align: right;\n",
       "    }\n",
       "</style>\n",
       "<table border=\"1\" class=\"dataframe\">\n",
       "  <thead>\n",
       "    <tr style=\"text-align: right;\">\n",
       "      <th></th>\n",
       "      <th>subject_id</th>\n",
       "      <th>stay_id</th>\n",
       "      <th>deadtime</th>\n",
       "      <th>dead</th>\n",
       "    </tr>\n",
       "  </thead>\n",
       "  <tbody>\n",
       "    <tr>\n",
       "      <th>0</th>\n",
       "      <td>10000032</td>\n",
       "      <td>39553978.0</td>\n",
       "      <td>2180-09-09 00:00:00</td>\n",
       "      <td>0</td>\n",
       "    </tr>\n",
       "    <tr>\n",
       "      <th>33</th>\n",
       "      <td>10000980</td>\n",
       "      <td>39765666.0</td>\n",
       "      <td>2193-08-26 00:00:00</td>\n",
       "      <td>0</td>\n",
       "    </tr>\n",
       "    <tr>\n",
       "      <th>40</th>\n",
       "      <td>10001217</td>\n",
       "      <td>37067082.0</td>\n",
       "      <td>NaT</td>\n",
       "      <td>0</td>\n",
       "    </tr>\n",
       "    <tr>\n",
       "      <th>41</th>\n",
       "      <td>10001217</td>\n",
       "      <td>34592300.0</td>\n",
       "      <td>NaT</td>\n",
       "      <td>0</td>\n",
       "    </tr>\n",
       "    <tr>\n",
       "      <th>54</th>\n",
       "      <td>10001725</td>\n",
       "      <td>31205490.0</td>\n",
       "      <td>NaT</td>\n",
       "      <td>0</td>\n",
       "    </tr>\n",
       "    <tr>\n",
       "      <th>...</th>\n",
       "      <td>...</td>\n",
       "      <td>...</td>\n",
       "      <td>...</td>\n",
       "      <td>...</td>\n",
       "    </tr>\n",
       "    <tr>\n",
       "      <th>321976</th>\n",
       "      <td>19999442</td>\n",
       "      <td>32336619.0</td>\n",
       "      <td>NaT</td>\n",
       "      <td>0</td>\n",
       "    </tr>\n",
       "    <tr>\n",
       "      <th>321980</th>\n",
       "      <td>19999625</td>\n",
       "      <td>31070865.0</td>\n",
       "      <td>NaT</td>\n",
       "      <td>0</td>\n",
       "    </tr>\n",
       "    <tr>\n",
       "      <th>321987</th>\n",
       "      <td>19999828</td>\n",
       "      <td>36075953.0</td>\n",
       "      <td>NaT</td>\n",
       "      <td>0</td>\n",
       "    </tr>\n",
       "    <tr>\n",
       "      <th>321989</th>\n",
       "      <td>19999840</td>\n",
       "      <td>38978960.0</td>\n",
       "      <td>2164-09-17 13:42:00</td>\n",
       "      <td>1</td>\n",
       "    </tr>\n",
       "    <tr>\n",
       "      <th>321991</th>\n",
       "      <td>19999987</td>\n",
       "      <td>36195440.0</td>\n",
       "      <td>NaT</td>\n",
       "      <td>0</td>\n",
       "    </tr>\n",
       "  </tbody>\n",
       "</table>\n",
       "<p>73197 rows × 4 columns</p>\n",
       "</div>"
      ],
      "text/plain": [
       "        subject_id     stay_id            deadtime  dead\n",
       "0         10000032  39553978.0 2180-09-09 00:00:00     0\n",
       "33        10000980  39765666.0 2193-08-26 00:00:00     0\n",
       "40        10001217  37067082.0                 NaT     0\n",
       "41        10001217  34592300.0                 NaT     0\n",
       "54        10001725  31205490.0                 NaT     0\n",
       "...            ...         ...                 ...   ...\n",
       "321976    19999442  32336619.0                 NaT     0\n",
       "321980    19999625  31070865.0                 NaT     0\n",
       "321987    19999828  36075953.0                 NaT     0\n",
       "321989    19999840  38978960.0 2164-09-17 13:42:00     1\n",
       "321991    19999987  36195440.0                 NaT     0\n",
       "\n",
       "[73197 rows x 4 columns]"
      ]
     },
     "execution_count": 68,
     "metadata": {},
     "output_type": "execute_result"
    }
   ],
   "source": [
    "dead"
   ]
  },
  {
   "cell_type": "code",
   "execution_count": 69,
   "metadata": {},
   "outputs": [],
   "source": [
    "def resample_dead(icustays, inputevents):\n",
    "    resampled_data = []\n",
    "    name = 'dead'\n",
    "    # inputevents에 있는 모든 stay_id를 미리 확인\n",
    "    inputevents_stay_ids = set(inputevents[~inputevents['deadtime'].isna()].subject_id.unique())\n",
    "\n",
    "    for stay_id in tqdm(icustays.stay_id.unique()):\n",
    "        intime = icustays[icustays['stay_id']==stay_id].intime.values[0]\n",
    "        outtime = icustays[icustays['stay_id']==stay_id].outtime.values[0]\n",
    "        subject_id = icustays[icustays['stay_id']==stay_id].subject_id.values[0]\n",
    "        hadm_id = icustays[icustays['stay_id']==stay_id].hadm_id.values[0]\n",
    "\n",
    "        # 1시간 단위로 시간대 생성\n",
    "        time_range = pd.date_range(start=intime, end=outtime, freq='H')\n",
    "\n",
    "        # inputevents에 stay_id가 있는지 확인\n",
    "        if subject_id in inputevents_stay_ids:\n",
    "            # 해당 stay_id의 inputevents 데이터 필터링\n",
    "            stay_inputevents = inputevents[inputevents['subject_id'] == subject_id]\n",
    "\n",
    "            for timestamp in time_range:\n",
    "                end_time = timestamp + pd.Timedelta(hours=1)\n",
    "\n",
    "                # 해당 시간대에 해당하는 inputevents의 rate 합계 계산\n",
    "                rates = stay_inputevents[(stay_inputevents['deadtime'] <= timestamp)]['dead']\n",
    "                total_rate = rates.sum() if not rates.empty else 0\n",
    "\n",
    "                resampled_data.append({'subject_id':subject_id,'hadm_id':hadm_id,'stay_id': stay_id, 'charttime': timestamp, name: total_rate})\n",
    "        else:\n",
    "            # inputevents에 stay_id가 없는 경우, 모든 rate를 0으로 설정\n",
    "            for timestamp in time_range:\n",
    "                resampled_data.append({'subject_id':subject_id,'hadm_id':hadm_id,'stay_id': stay_id, 'charttime': timestamp, name: 0})\n",
    "    resampled_data = pd.DataFrame(resampled_data)\n",
    "    return pd.DataFrame(resampled_data)"
   ]
  },
  {
   "cell_type": "code",
   "execution_count": 70,
   "metadata": {},
   "outputs": [
    {
     "name": "stderr",
     "output_type": "stream",
     "text": [
      "100%|██████████| 73181/73181 [13:09<00:00, 92.65it/s] \n"
     ]
    }
   ],
   "source": [
    "resample_dead = resample_dead(icustays,dead)"
   ]
  },
  {
   "cell_type": "code",
   "execution_count": 100,
   "metadata": {},
   "outputs": [],
   "source": [
    "resample_merge = pd.merge(resample_merge,resample_dead,on=['subject_id','hadm_id','stay_id','charttime'],how='left')\n",
    "resample_merge['AKI_stage3'] = 0\n",
    "resample_merge.loc[resample_merge['AKI'] == 3, 'AKI_stage3'] = 1"
   ]
  },
  {
   "cell_type": "code",
   "execution_count": 101,
   "metadata": {},
   "outputs": [
    {
     "data": {
      "text/plain": [
       "128"
      ]
     },
     "execution_count": 101,
     "metadata": {},
     "output_type": "execute_result"
    }
   ],
   "source": [
    "len(resample_merge.columns)"
   ]
  },
  {
   "cell_type": "code",
   "execution_count": null,
   "metadata": {},
   "outputs": [],
   "source": [
    "resample_merge.to_parquet('./data/resample/resample_label.parquet')"
   ]
  },
  {
   "cell_type": "code",
   "execution_count": null,
   "metadata": {},
   "outputs": [],
   "source": [
    "resample_merge.columns"
   ]
  },
  {
   "cell_type": "markdown",
   "metadata": {},
   "source": [
    "# Antibiotics"
   ]
  },
  {
   "cell_type": "code",
   "execution_count": 73,
   "metadata": {},
   "outputs": [],
   "source": [
    "d_antibiotics = d_items[(d_items['linksto']=='inputevents')&(d_items['category']=='Antibiotics')]\n",
    "d_antibiotics = d_antibiotics[['itemid','label']]\n",
    "d_antibiotics.reset_index(inplace=True)\n",
    "\n",
    "# non-Antibiotics 제거\n",
    "d_antibiotics = d_antibiotics[~d_antibiotics['itemid'].isin([\n",
    "    225898,225877,225895,225868,225869,225885,225905,225838,\n",
    "    225848,225844,225896,225837,225873,228003,225871,225903])]\n",
    "d_antibiotics.dropna(subset='itemid',inplace=True)\n",
    "d_antibiotics.reset_index(drop=True,inplace=True)"
   ]
  },
  {
   "cell_type": "code",
   "execution_count": 74,
   "metadata": {},
   "outputs": [],
   "source": [
    "inputevents_antibiotics = inputevents[inputevents['itemid'].isin(d_antibiotics.itemid.unique())]\n",
    "inputevents_antibiotics['count'] = 1\n",
    "\n",
    "inputevents_antibiotics = inputevents_antibiotics[['stay_id','starttime','itemid','count']]\n",
    "inputevents_antibiotics['starttime'] = pd.to_datetime(inputevents_antibiotics['starttime'])\n",
    "\n",
    "inputevents_antibiotics.sort_values(by=['stay_id','starttime'],ascending=True,inplace=True)\n",
    "inputevents_antibiotics.reset_index(drop=True,inplace=True)\n",
    "\n",
    "d_antibiotics = pd.merge(d_antibiotics,inputevents_antibiotics.groupby('itemid')['count'].sum(), on='itemid', how='left')\n",
    "d_antibiotics.dropna(subset='count',inplace=True)\n",
    "d_antibiotics.sort_values(by='label',inplace=True)"
   ]
  },
  {
   "cell_type": "code",
   "execution_count": 75,
   "metadata": {},
   "outputs": [
    {
     "data": {
      "text/plain": [
       "33"
      ]
     },
     "execution_count": 75,
     "metadata": {},
     "output_type": "execute_result"
    }
   ],
   "source": [
    "len(d_antibiotics)"
   ]
  },
  {
   "cell_type": "code",
   "execution_count": 76,
   "metadata": {},
   "outputs": [],
   "source": [
    "def resample_multitherapy(multi,icustays_intime,icustays_outtime,resample_time):\n",
    "    multi_resample = []\n",
    "    for i in tqdm(multi.stay_id.unique()):\n",
    "        tmp = multi[multi['stay_id']==i]\n",
    "        tmp_intime = icustays_intime[icustays_intime['stay_id']==i][['stay_id','starttime']]\n",
    "        tmp_outtime = icustays_outtime[icustays_outtime['stay_id']==i][['stay_id','starttime']]\n",
    "        tmp = pd.concat([tmp, tmp_intime, tmp_outtime])\n",
    "        tmp.fillna(0, inplace=True)\n",
    "        tmp = tmp[(tmp['starttime'].values >= tmp_intime.starttime.values)&(tmp['starttime'].values <= tmp_outtime.starttime.values)]\n",
    "        tmp.index = pd.DatetimeIndex(tmp['starttime'])\n",
    "        tmp = tmp[tmp.columns[2:]].resample(resample_time,origin='start').sum()\n",
    "        tmp.reset_index(drop=False,inplace=True)\n",
    "        tmp['stay_id'] = i\n",
    "        multi_resample.append(tmp)\n",
    "    multi_resample = pd.concat(multi_resample)\n",
    "    return multi_resample"
   ]
  },
  {
   "cell_type": "code",
   "execution_count": 77,
   "metadata": {},
   "outputs": [],
   "source": [
    "all = [225798,225840,225842,225843,225845,225850,225851,225853,\n",
    "       225855,225859,225860,225862,225863,225865,225866,225875,\n",
    "       225876,225879,225881,225883,225884,225886,225888,225890,\n",
    "       225892,225893,225899,225902,227691,229061,229064,229587]\n",
    "\n",
    "Cephalosporins = [225851,225850,225855,225853,229587,227691]\n",
    "Vancomycin = [225798]\n",
    "Betalactam_comb = [225893,225843]\n",
    "Metronidazole = [225884]\n",
    "Carbapenems = [225883,225876,229061]\n",
    "Penicillins = [225888,225892,225842,225890]\n",
    "Fluoroquinolones = [225859,225879,225886]\n",
    "Others = [225875,225902,225840,225847,225860,225845,\n",
    "          225866,225881,225863,225862,225899,225865,229064]\n",
    "\n",
    "category = ['Cephalosporins','Vancomycin','Betalactam_comb','Metronidazole',\n",
    "              'Carbapenems','Penicillins','Fluoroquinolones','Others']"
   ]
  },
  {
   "cell_type": "code",
   "execution_count": 78,
   "metadata": {},
   "outputs": [],
   "source": [
    "icustays_intime = icustays[['subject_id','hadm_id','stay_id','intime']]\n",
    "icustays_intime['intime'] = pd.to_datetime(icustays_intime['intime'])\n",
    "icustays_intime = icustays_intime.rename(columns={'intime':'starttime'})\n",
    "\n",
    "icustays_outtime = icustays[['subject_id','hadm_id','stay_id','outtime']]\n",
    "icustays_outtime['outtime'] = pd.to_datetime(icustays_outtime['outtime'])\n",
    "icustays_outtime = icustays_outtime.rename(columns={'outtime':'starttime'})"
   ]
  },
  {
   "cell_type": "code",
   "execution_count": 79,
   "metadata": {},
   "outputs": [],
   "source": [
    "def multitherapy(inputevents_antibiotics, time=5):\n",
    "    AB_multitherapy = pd.concat([inputevents_antibiotics,inputevents_antibiotics.shift(1)],axis=1)\n",
    "    AB_multitherapy.columns = ['stay_id_x','starttime_x','itemid_x','count_x','stay_id_y','starttime_y','itemid_y','count_y']\n",
    "    AB_multitherapy['timediff'] = AB_multitherapy['starttime_x'] - AB_multitherapy['starttime_y']\n",
    "    AB_multitherapy['timediff'] = AB_multitherapy.timediff.dt.total_seconds()/60\n",
    "\n",
    "    AB_multitherapy['multi'] = 0\n",
    "    AB_multitherapy.loc[(AB_multitherapy['timediff']<time)&(AB_multitherapy['stay_id_x']==AB_multitherapy['stay_id_y']), 'multi'] = 1\n",
    "    AB_multitherapy.loc[AB_multitherapy['multi']==1, 'starttime_x'] = np.nan\n",
    "\n",
    "    AB_multitherapy = AB_multitherapy.ffill()\n",
    "    AB_multitherapy = AB_multitherapy[['stay_id_x','starttime_x','itemid_x','count_x']]\n",
    "\n",
    "    AB_multitherapy.drop_duplicates(inplace=True)\n",
    "    AB_multitherapy_pivot = AB_multitherapy.pivot(index=['stay_id_x','starttime_x'],columns='itemid_x',values='count_x')\n",
    "    AB_multitherapy_pivot.reset_index(drop=False,inplace=True)\n",
    "    AB_multitherapy_pivot.fillna(0,inplace=True)\n",
    "    AB_multitherapy_pivot = AB_multitherapy_pivot.rename(columns={'stay_id_x':'stay_id', 'starttime_x':'starttime'})\n",
    "    AB_multitherapy_pivot.columns.name = None\n",
    "\n",
    "    AB_multitherapy_pivot['count'] = AB_multitherapy_pivot[AB_multitherapy_pivot.columns[2:]].sum(axis=1)\n",
    "    return AB_multitherapy_pivot\n",
    "\n",
    "antibiotics_multi = multitherapy(inputevents_antibiotics)"
   ]
  },
  {
   "cell_type": "code",
   "execution_count": 80,
   "metadata": {},
   "outputs": [
    {
     "name": "stderr",
     "output_type": "stream",
     "text": [
      "100%|██████████| 44426/44426 [02:58<00:00, 249.40it/s]\n"
     ]
    }
   ],
   "source": [
    "resample_antibiotics = resample_multitherapy(antibiotics_multi,icustays_intime,icustays_outtime,resample_time='H')"
   ]
  },
  {
   "cell_type": "code",
   "execution_count": 81,
   "metadata": {},
   "outputs": [],
   "source": [
    "for i in category:\n",
    "    resample_antibiotics[i] = resample_antibiotics[globals()['{}'.format(i)]].sum(axis=1)\n",
    "    resample_antibiotics.loc[resample_antibiotics[i] > 0, i] = 1\n",
    "    resample_antibiotics.reset_index(inplace=True,drop=True)"
   ]
  },
  {
   "cell_type": "code",
   "execution_count": 82,
   "metadata": {},
   "outputs": [],
   "source": [
    "resample_antibiotics['category_count'] = resample_antibiotics[category].sum(axis=1)"
   ]
  },
  {
   "cell_type": "code",
   "execution_count": 83,
   "metadata": {},
   "outputs": [],
   "source": [
    "resample_antibiotics = resample_antibiotics[['stay_id','starttime','Cephalosporins','Vancomycin','Betalactam_comb',\n",
    "                                     'Metronidazole','Carbapenems','Penicillins','Fluoroquinolones','Others','category_count']]"
   ]
  },
  {
   "cell_type": "code",
   "execution_count": null,
   "metadata": {},
   "outputs": [],
   "source": []
  }
 ],
 "metadata": {
  "kernelspec": {
   "display_name": "torch",
   "language": "python",
   "name": "python3"
  },
  "language_info": {
   "codemirror_mode": {
    "name": "ipython",
    "version": 3
   },
   "file_extension": ".py",
   "mimetype": "text/x-python",
   "name": "python",
   "nbconvert_exporter": "python",
   "pygments_lexer": "ipython3",
   "version": "3.9.0"
  }
 },
 "nbformat": 4,
 "nbformat_minor": 2
}
